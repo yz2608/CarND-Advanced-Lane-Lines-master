{
 "cells": [
  {
   "cell_type": "markdown",
   "metadata": {},
   "source": [
    "## Advanced Lane Finding Project\n",
    "\n",
    "The goals / steps of this project are the following:\n",
    "\n",
    "* Compute the camera calibration matrix and distortion coefficients given a set of chessboard images.\n",
    "* Apply a distortion correction to raw images.\n",
    "* Use color transforms, gradients, etc., to create a thresholded binary image.\n",
    "* Apply a perspective transform to rectify binary image (\"birds-eye view\").\n",
    "* Detect lane pixels and fit to find the lane boundary.\n",
    "* Determine the curvature of the lane and vehicle position with respect to center.\n",
    "* Warp the detected lane boundaries back onto the original image.\n",
    "* Output visual display of the lane boundaries and numerical estimation of lane curvature and vehicle position.\n",
    "\n",
    "---\n",
    "## First, I'll compute the camera calibration using chessboard images"
   ]
  },
  {
   "cell_type": "code",
   "execution_count": 1,
   "metadata": {
    "collapsed": true
   },
   "outputs": [],
   "source": [
    "import numpy as np\n",
    "import cv2\n",
    "import glob\n",
    "import matplotlib.image as mpimg\n",
    "import matplotlib.pyplot as plt\n",
    "%matplotlib qt\n",
    "# prepare object points, like (0,0,0), (1,0,0), (2,0,0) ....,(6,5,0)\n",
    "objp = np.zeros((6*9,3), np.float32)\n",
    "objp[:,:2] = np.mgrid[0:9,0:6].T.reshape(-1,2)\n",
    "\n",
    "# Arrays to store object points and image points from all the images.\n",
    "objpoints = [] # 3d points in real world space\n",
    "imgpoints = [] # 2d points in image plane.\n",
    "\n",
    "# Make a list of calibration images\n",
    "images = glob.glob('../camera_cal/calibration*.jpg')\n",
    "# Step through the list and search for chessboard corners\n",
    "for fname in images:\n",
    "    img = mpimg.imread(fname)\n",
    "    gray = cv2.cvtColor(img,cv2.COLOR_RGB2GRAY)\n",
    "\n",
    "    # Find the chessboard corners\n",
    "    ret, corners = cv2.findChessboardCorners(gray, (9,6),None)\n",
    "\n",
    "    # If found, add object points, image points\n",
    "    if ret == True:\n",
    "        objpoints.append(objp)\n",
    "        imgpoints.append(corners)\n",
    "\n",
    "        # Draw and display the corners\n",
    "        img = cv2.drawChessboardCorners(img, (9,6), corners, ret)\n",
    "        #cv2.imshow('img',img)\n",
    "        #cv2.waitKey(500)\n",
    "\n",
    "cv2.destroyAllWindows()"
   ]
  },
  {
   "cell_type": "markdown",
   "metadata": {},
   "source": [
    "## Then write a function cal_undistort to undistort images and plot a sample, saved as distort_vs_undistort.png"
   ]
  },
  {
   "cell_type": "code",
   "execution_count": 2,
   "metadata": {
    "collapsed": true
   },
   "outputs": [],
   "source": [
    "def cal_undistort(img, objpoints, imgpoints):\n",
    "    # Use cv2.calibrateCamera() and cv2.undistort()\n",
    "    gray = cv2.cvtColor(img,cv2.COLOR_RGB2GRAY)\n",
    "    ret, mtx, dist, rvecs, tvecs = cv2.calibrateCamera(objpoints, imgpoints, gray.shape[::-1], None, None)\n",
    "    undist = cv2.undistort(img,mtx,dist)  # Delete this line\n",
    "    return undist\n",
    "sampleimg1= mpimg.imread('C:/Users/Yi Zhu/desktop/self-driving_car/CarND-Advanced-Lane-Lines-master/CarND-Advanced-Lane-Lines-master/camera_cal/calibration5.jpg')\n",
    "undistorted1 = cal_undistort(sampleimg1, objpoints, imgpoints)\n",
    "f, (ax1, ax2) = plt.subplots(1, 2, figsize=(13, 9))\n",
    "f.tight_layout()\n",
    "ax1.imshow(sampleimg1)\n",
    "ax1.set_title('Original Image', fontsize=30)\n",
    "ax2.imshow(undistorted1)\n",
    "ax2.set_title('Undistorted Image', fontsize=30)\n",
    "plt.subplots_adjust(left=0.1, right=0.9, top=0.9, bottom=0.)\n"
   ]
  },
  {
   "cell_type": "code",
   "execution_count": 3,
   "metadata": {
    "collapsed": true
   },
   "outputs": [],
   "source": [
    "sampleimg= mpimg.imread('C:/Users/Yi Zhu/desktop/self-driving_car/CarND-Advanced-Lane-Lines-master/CarND-Advanced-Lane-Lines-master/test_images/test3.jpg')\n",
    "undistorted = cal_undistort(sampleimg, objpoints, imgpoints)\n",
    "f, (ax1, ax2) = plt.subplots(1, 2, figsize=(13, 9))\n",
    "f.tight_layout()\n",
    "ax1.imshow(sampleimg)\n",
    "ax1.set_title('Original Image', fontsize=30)\n",
    "ax2.imshow(undistorted)\n",
    "ax2.set_title('Undistorted Image', fontsize=30)\n",
    "plt.subplots_adjust(left=0.1, right=0.9, top=0.9, bottom=0.)"
   ]
  },
  {
   "cell_type": "markdown",
   "metadata": {},
   "source": [
    "## Then write a function pipeline to show what color and gradient detect repectively, the sample image is saved as  undistorted_vs_pipeline.png "
   ]
  },
  {
   "cell_type": "code",
   "execution_count": 4,
   "metadata": {
    "collapsed": true
   },
   "outputs": [],
   "source": [
    "# Note: img is the undistorted image\n",
    "def pipeline(img, s_thresh=(170, 255), sx_thresh=(20, 100)):\n",
    "    img = np.copy(img)\n",
    "    # Convert to HSV color space and separate the V channel\n",
    "    hsv = cv2.cvtColor(img, cv2.COLOR_RGB2HLS).astype(np.float)\n",
    "    l_channel = hsv[:,:,1]\n",
    "    s_channel = hsv[:,:,2]\n",
    "    # Sobel x\n",
    "    sobelx = cv2.Sobel(l_channel, cv2.CV_64F, 1, 0) # Take the derivative in x\n",
    "    abs_sobelx = np.absolute(sobelx) # Absolute x derivative to accentuate lines away from horizontal\n",
    "    scaled_sobel = np.uint8(255*abs_sobelx/np.max(abs_sobelx))\n",
    "    \n",
    "    # Threshold x gradient\n",
    "    sxbinary = np.zeros_like(scaled_sobel)\n",
    "    sxbinary[(scaled_sobel >= sx_thresh[0]) & (scaled_sobel <= sx_thresh[1])] = 1\n",
    "    \n",
    "    # Threshold color channel\n",
    "    s_binary = np.zeros_like(s_channel)\n",
    "    s_binary[(s_channel >= s_thresh[0]) & (s_channel <= s_thresh[1])] = 1\n",
    "    # Stack each channel\n",
    "    # Note color_binary[:, :, 0] is all 0s, effectively an all black image. It might\n",
    "    # be beneficial to replace this channel with something else.\n",
    "    color_binary = np.dstack(( np.zeros_like(sxbinary), sxbinary, s_binary))\n",
    "    return color_binary\n",
    "    \n",
    "result = pipeline(undistorted)\n",
    "\n",
    "# Plot the result\n",
    "f, (ax1, ax2) = plt.subplots(1, 2, figsize=(13, 9))\n",
    "f.tight_layout()\n",
    "ax1.imshow(undistorted)\n",
    "ax1.set_title('undistorted', fontsize=30)\n",
    "ax2.imshow(result)\n",
    "ax2.set_title('Pipeline result', fontsize=30)\n",
    "plt.subplots_adjust(left=0.1, right=0.9, top=0.9, bottom=0.)"
   ]
  },
  {
   "cell_type": "markdown",
   "metadata": {},
   "source": [
    "## Then write a function pipeline_binary to show how color and gradient combine together to produce a binary picture line detection. The sample plot is saved as pipeline_vs_pipelinebinary.png "
   ]
  },
  {
   "cell_type": "code",
   "execution_count": 5,
   "metadata": {
    "collapsed": true
   },
   "outputs": [],
   "source": [
    "# Note: img is the undistorted image\n",
    "def pipeline_binary(img, s_thresh=(170, 255), sx_thresh=(20, 100)):\n",
    "    img = np.copy(img)\n",
    "    # Convert to HSV color space and separate the V channel\n",
    "    hsv = cv2.cvtColor(img, cv2.COLOR_RGB2HLS).astype(np.float)\n",
    "    l_channel = hsv[:,:,1]\n",
    "    s_channel = hsv[:,:,2]\n",
    "    # Sobel x\n",
    "    sobelx = cv2.Sobel(l_channel, cv2.CV_64F, 1, 0) # Take the derivative in x\n",
    "    abs_sobelx = np.absolute(sobelx) # Absolute x derivative to accentuate lines away from horizontal\n",
    "    scaled_sobel = np.uint8(255*abs_sobelx/np.max(abs_sobelx))\n",
    "    \n",
    "    # Threshold x gradient\n",
    "    sxbinary = np.zeros_like(scaled_sobel)\n",
    "    sxbinary[(scaled_sobel >= sx_thresh[0]) & (scaled_sobel <= sx_thresh[1])] = 1\n",
    "    \n",
    "    # Threshold color channel\n",
    "    s_binary = np.zeros_like(s_channel)\n",
    "    s_binary[(s_channel >= s_thresh[0]) & (s_channel <= s_thresh[1])] = 1\n",
    "    # Stack each channel\n",
    "    # Note color_binary[:, :, 0] is all 0s, effectively an all black image. It might\n",
    "    # be beneficial to replace this channel with something else.\n",
    "    combined_binary = np.zeros_like(sxbinary)\n",
    "    combined_binary[(s_binary == 1) | (sxbinary == 1)] = 1   \n",
    "    return combined_binary\n",
    "    \n",
    "result_binary = pipeline_binary(undistorted)\n",
    "\n",
    "# Plot the result\n",
    "f, (ax1, ax2) = plt.subplots(1, 2, figsize=(13, 9))\n",
    "f.tight_layout()\n",
    "ax1.imshow(result)\n",
    "ax1.set_title('pipeline result', fontsize=30)\n",
    "ax2.imshow(result_binary,cmap='gray')\n",
    "ax2.set_title('Pipeline_binary result', fontsize=30)\n",
    "plt.subplots_adjust(left=0.1, right=0.9, top=0.9, bottom=0.)"
   ]
  },
  {
   "cell_type": "markdown",
   "metadata": {},
   "source": [
    "## Next, I first  calculated the perspective tranform matrix by using straightline image and corresponding warped image. And write a function to conduct such transform by using the matrix derived above. I provide two sample images. First is the transformation for straightline, saved as straight_vs_birdview.png. And second is the perspective transformed image for test1, saved as test2_birdview.png"
   ]
  },
  {
   "cell_type": "code",
   "execution_count": 6,
   "metadata": {
    "collapsed": true
   },
   "outputs": [],
   "source": [
    "straight=mpimg.imread('C:/Users/Yi Zhu/desktop/self-driving_car/CarND-Advanced-Lane-Lines-master/CarND-Advanced-Lane-Lines-master/test_images/straight_lines1.jpg')\n",
    "src=np.float32([[247,677],[1039,672],[588,453],[692,453]])\n",
    "dst=np.float32([[270,700],[980,700],[270,0],[980,0]])\n",
    "img_size=(straight.shape[1],straight.shape[0])\n",
    "M = cv2.getPerspectiveTransform(src, dst)\n",
    "Minv = cv2.getPerspectiveTransform(dst, src)\n",
    "warped_straight= cv2.warpPerspective(straight, M, img_size, flags=cv2.INTER_LINEAR)\n",
    "warped_test= cv2.warpPerspective(result_binary, M, img_size, flags=cv2.INTER_LINEAR)\n",
    "f, (ax1, ax2) = plt.subplots(1, 2, figsize=(13, 9))\n",
    "f.tight_layout()\n",
    "ax1.imshow(straight)\n",
    "ax1.set_title('straight_orig', fontsize=30)\n",
    "ax2.imshow(warped_straight)\n",
    "ax2.set_title('Pipeline_binary result', fontsize=30)\n",
    "plt.subplots_adjust(left=0.1, right=0.9, top=0.9, bottom=0.)"
   ]
  },
  {
   "cell_type": "code",
   "execution_count": 7,
   "metadata": {},
   "outputs": [
    {
     "data": {
      "text/plain": [
       "<matplotlib.image.AxesImage at 0x1db047fbef0>"
      ]
     },
     "execution_count": 7,
     "metadata": {},
     "output_type": "execute_result"
    }
   ],
   "source": [
    "plt.imshow(warped_test,cmap='gray')"
   ]
  },
  {
   "cell_type": "markdown",
   "metadata": {},
   "source": [
    "## Next let's find the fit line of the image, saved as fittedline.png.\n"
   ]
  },
  {
   "cell_type": "code",
   "execution_count": 8,
   "metadata": {},
   "outputs": [
    {
     "data": {
      "text/plain": [
       "(720, 0)"
      ]
     },
     "execution_count": 8,
     "metadata": {},
     "output_type": "execute_result"
    }
   ],
   "source": [
    "# Take a histogram of the bottom half of the image\n",
    "\n",
    "#print (warped_test.shape[0]/2)\n",
    "histogram = np.sum(warped_test[int(warped_test.shape[0]/2):,:], axis=0)\n",
    "# Create an output image to draw on and  visualize the result\n",
    "out_img = np.dstack((warped_test, warped_test, warped_test))*255\n",
    "# Find the peak of the left and right halves of the histogram\n",
    "# These will be the starting point for the left and right lines\n",
    "midpoint = np.int(histogram.shape[0]/2)\n",
    "leftx_base = np.argmax(histogram[:midpoint])\n",
    "rightx_base = np.argmax(histogram[midpoint:]) + midpoint\n",
    "\n",
    "# Choose the number of sliding windows\n",
    "nwindows = 9\n",
    "# Set height of windows\n",
    "window_height = np.int(warped_test.shape[0]/nwindows)\n",
    "# Identify the x and y positions of all nonzero pixels in the image\n",
    "nonzero = warped_test.nonzero()\n",
    "nonzeroy = np.array(nonzero[0])\n",
    "nonzerox = np.array(nonzero[1])\n",
    "# Current positions to be updated for each window\n",
    "leftx_current = leftx_base\n",
    "rightx_current = rightx_base\n",
    "# Set the width of the windows +/- margin\n",
    "margin = 100\n",
    "# Set minimum number of pixels found to recenter window\n",
    "minpix = 50\n",
    "# Create empty lists to receive left and right lane pixel indices\n",
    "left_lane_inds = []\n",
    "right_lane_inds = []\n",
    "\n",
    "# Step through the windows one by one\n",
    "for window in range(nwindows):\n",
    "    # Identify window boundaries in x and y (and right and left)\n",
    "    win_y_low = warped_test.shape[0] - (window+1)*window_height\n",
    "    win_y_high = warped_test.shape[0] - window*window_height\n",
    "    win_xleft_low = leftx_current - margin\n",
    "    win_xleft_high = leftx_current + margin\n",
    "    win_xright_low = rightx_current - margin\n",
    "    win_xright_high = rightx_current + margin\n",
    "    # Draw the windows on the visualization image\n",
    "    #cv2.rectangle(out_img,(win_xleft_low,win_y_low),(win_xleft_high,win_y_high),(0,255,0), 2) \n",
    "    #cv2.rectangle(out_img,(win_xright_low,win_y_low),(win_xright_high,win_y_high),(0,255,0), 2) \n",
    "    # Identify the nonzero pixels in x and y within the window\n",
    "    good_left_inds = ((nonzeroy >= win_y_low) & (nonzeroy < win_y_high) & (nonzerox >= win_xleft_low) & (nonzerox < win_xleft_high)).nonzero()[0]\n",
    "    good_right_inds = ((nonzeroy >= win_y_low) & (nonzeroy < win_y_high) & (nonzerox >= win_xright_low) & (nonzerox < win_xright_high)).nonzero()[0]\n",
    "    # Append these indices to the lists\n",
    "    left_lane_inds.append(good_left_inds)\n",
    "    right_lane_inds.append(good_right_inds)\n",
    "    # If you found > minpix pixels, recenter next window on their mean position\n",
    "    if len(good_left_inds) > minpix:\n",
    "        leftx_current = np.int(np.mean(nonzerox[good_left_inds]))\n",
    "    if len(good_right_inds) > minpix:        \n",
    "        rightx_current = np.int(np.mean(nonzerox[good_right_inds]))\n",
    "\n",
    "# Concatenate the arrays of indices\n",
    "left_lane_inds = np.concatenate(left_lane_inds)\n",
    "right_lane_inds = np.concatenate(right_lane_inds)\n",
    "\n",
    "# Extract left and right line pixel positions\n",
    "leftx = nonzerox[left_lane_inds]\n",
    "lefty = nonzeroy[left_lane_inds] \n",
    "rightx = nonzerox[right_lane_inds]\n",
    "righty = nonzeroy[right_lane_inds] \n",
    "\n",
    "# Fit a second order polynomial to each\n",
    "left_fit = np.polyfit(lefty, leftx, 2)\n",
    "right_fit = np.polyfit(righty, rightx, 2)\n",
    "\n",
    "ploty = np.linspace(0, warped_test.shape[0]-1, warped_test.shape[0] )\n",
    "left_fitx = left_fit[0]*ploty**2 + left_fit[1]*ploty + left_fit[2]\n",
    "right_fitx = right_fit[0]*ploty**2 + right_fit[1]*ploty + right_fit[2]\n",
    "\n",
    "out_img[nonzeroy[left_lane_inds], nonzerox[left_lane_inds]] = [255, 0, 0]\n",
    "out_img[nonzeroy[right_lane_inds], nonzerox[right_lane_inds]] = [0, 0, 255]\n",
    "plt.imshow(out_img)\n",
    "plt.plot(left_fitx, ploty, color='yellow')\n",
    "plt.plot(right_fitx, ploty, color='yellow')\n",
    "plt.xlim(0, 1280)\n",
    "plt.ylim(720, 0)"
   ]
  },
  {
   "cell_type": "markdown",
   "metadata": {},
   "source": [
    "## write a fit_line function for further use in video detection"
   ]
  },
  {
   "cell_type": "code",
   "execution_count": 9,
   "metadata": {
    "collapsed": true
   },
   "outputs": [],
   "source": [
    "def fit_line(warped_test):\n",
    "    # Take a histogram of the bottom half of the images\n",
    "    #print (warped_test.shape[0]/2)\n",
    "    histogram = np.sum(warped_test[int(warped_test.shape[0]/2):,:], axis=0)\n",
    "    # Create an output image to draw on and  visualize the result\n",
    "    out_img = np.dstack((warped_test, warped_test, warped_test))*255\n",
    "    # Find the peak of the left and right halves of the histogram\n",
    "    # These will be the starting point for the left and right lines\n",
    "    midpoint = np.int(histogram.shape[0]/2)\n",
    "    leftx_base = np.argmax(histogram[:midpoint])\n",
    "    rightx_base = np.argmax(histogram[midpoint:]) + midpoint\n",
    "    # Choose the number of sliding windows\n",
    "    nwindows = 9\n",
    "    # Set height of windows\n",
    "    window_height = np.int(warped_test.shape[0]/nwindows)\n",
    "    # Identify the x and y positions of all nonzero pixels in the image\n",
    "    nonzero = warped_test.nonzero()\n",
    "    nonzeroy = np.array(nonzero[0])\n",
    "    nonzerox = np.array(nonzero[1])\n",
    "    # Current positions to be updated for each window\n",
    "    leftx_current = leftx_base\n",
    "    rightx_current = rightx_base\n",
    "    # Set the width of the windows +/- margin\n",
    "    margin = 100\n",
    "    # Set minimum number of pixels found to recenter window\n",
    "    minpix = 50\n",
    "    # Create empty lists to receive left and right lane pixel indices\n",
    "    left_lane_inds = []\n",
    "    right_lane_inds = []\n",
    "    # Step through the windows one by one\n",
    "    for window in range(nwindows):\n",
    "        # Identify window boundaries in x and y (and right and left)\n",
    "        win_y_low = warped_test.shape[0] - (window+1)*window_height\n",
    "        win_y_high = warped_test.shape[0] - window*window_height\n",
    "        win_xleft_low = leftx_current - margin\n",
    "        win_xleft_high = leftx_current + margin\n",
    "        win_xright_low = rightx_current - margin\n",
    "        win_xright_high = rightx_current + margin\n",
    "        # Draw the windows on the visualization image\n",
    "        #cv2.rectangle(out_img,(win_xleft_low,win_y_low),(win_xleft_high,win_y_high),(0,255,0), 2) \n",
    "        #cv2.rectangle(out_img,(win_xright_low,win_y_low),(win_xright_high,win_y_high),(0,255,0), 2) \n",
    "        # Identify the nonzero pixels in x and y within the window\n",
    "        good_left_inds = ((nonzeroy >= win_y_low) & (nonzeroy < win_y_high) & (nonzerox >= win_xleft_low) & (nonzerox < win_xleft_high)).nonzero()[0]\n",
    "        good_right_inds = ((nonzeroy >= win_y_low) & (nonzeroy < win_y_high) & (nonzerox >= win_xright_low) & (nonzerox < win_xright_high)).nonzero()[0]\n",
    "        # Append these indices to the lists\n",
    "        left_lane_inds.append(good_left_inds)\n",
    "        right_lane_inds.append(good_right_inds)\n",
    "        # If you found > minpix pixels, recenter next window on their mean position\n",
    "        if len(good_left_inds) > minpix:\n",
    "            leftx_current = np.int(np.mean(nonzerox[good_left_inds]))\n",
    "        if len(good_right_inds) > minpix:        \n",
    "            rightx_current = np.int(np.mean(nonzerox[good_right_inds]))\n",
    "    # Concatenate the arrays of indices\n",
    "    left_lane_inds = np.concatenate(left_lane_inds)\n",
    "    right_lane_inds = np.concatenate(right_lane_inds)\n",
    "    # Extract left and right line pixel positions\n",
    "    leftx = nonzerox[left_lane_inds]\n",
    "    lefty = nonzeroy[left_lane_inds] \n",
    "    rightx = nonzerox[right_lane_inds]\n",
    "    righty = nonzeroy[right_lane_inds] \n",
    "    # Fit a second order polynomial to each\n",
    "    left_fit = np.polyfit(lefty, leftx, 2)\n",
    "    right_fit = np.polyfit(righty, rightx, 2)\n",
    "    ploty = np.linspace(0, warped_test.shape[0]-1, warped_test.shape[0] )\n",
    "    left_fitx = left_fit[0]*ploty**2 + left_fit[1]*ploty + left_fit[2]\n",
    "    right_fitx = right_fit[0]*ploty**2 + right_fit[1]*ploty + right_fit[2]\n",
    "    return left_fitx, right_fitx"
   ]
  },
  {
   "cell_type": "markdown",
   "metadata": {},
   "source": [
    "## Determine the curvature of the lane and vehicle position with respect to center"
   ]
  },
  {
   "cell_type": "code",
   "execution_count": 10,
   "metadata": {
    "collapsed": true
   },
   "outputs": [],
   "source": [
    "def calculate_curvature(left_fitx, right_fitx):\n",
    "    y_eval = np.max(ploty)\n",
    "    ym_per_pix = 30/720 # meters per pixel in y dimension\n",
    "    xm_per_pix = 3.7/700 # meters per pixel in x dimension\n",
    "    # Fit new polynomials to x,y in world space\n",
    "    left_fit_cr = np.polyfit(ploty*ym_per_pix, left_fitx*xm_per_pix, 2)\n",
    "    right_fit_cr = np.polyfit(ploty*ym_per_pix, right_fitx*xm_per_pix, 2)\n",
    "    # Calculate the new radii of curvature\n",
    "    left_curverad = ((1 + (2*left_fit_cr[0]*y_eval*ym_per_pix + left_fit_cr[1])**2)**1.5) / np.absolute(2*left_fit_cr[0])\n",
    "    right_curverad = ((1 + (2*right_fit_cr[0]*y_eval*ym_per_pix + right_fit_cr[1])**2)**1.5) / np.absolute(2*right_fit_cr[0])\n",
    "    # Now our radius of curvature is in meters\n",
    "    return left_curverad, right_curverad "
   ]
  },
  {
   "cell_type": "markdown",
   "metadata": {},
   "source": [
    "## print curvature of test_2"
   ]
  },
  {
   "cell_type": "code",
   "execution_count": 11,
   "metadata": {},
   "outputs": [
    {
     "name": "stdout",
     "output_type": "stream",
     "text": [
      "left_cur 584.188387201 m right_cur 621.183276641 m\n"
     ]
    }
   ],
   "source": [
    "    print('left_cur',calculate_curvature(left_fitx, right_fitx)[0], 'm', 'right_cur', calculate_curvature(left_fitx, right_fitx)[1], 'm')\n"
   ]
  },
  {
   "cell_type": "markdown",
   "metadata": {},
   "source": [
    "## print vehicle position respect to center"
   ]
  },
  {
   "cell_type": "code",
   "execution_count": 12,
   "metadata": {},
   "outputs": [
    {
     "name": "stdout",
     "output_type": "stream",
     "text": [
      "0.609783249922\n"
     ]
    }
   ],
   "source": [
    "midpoint=warped_test.shape[1]/2\n",
    "leftstart=min(left_fitx)\n",
    "rightstart=max(right_fitx)\n",
    "lanemiddle=(leftstart+rightstart)/2\n",
    "offset=abs(midpoint-lanemiddle)*3.7/700\n",
    "print(offset)\n",
    "if midpoint-lanemiddle<0:\n",
    "    pos='left'\n",
    "else:\n",
    "    pos='right'"
   ]
  },
  {
   "cell_type": "markdown",
   "metadata": {},
   "source": [
    "## draw detected lane back to original image. The lane added picture is saved as   lane_added.png"
   ]
  },
  {
   "cell_type": "code",
   "execution_count": 13,
   "metadata": {},
   "outputs": [
    {
     "data": {
      "text/plain": [
       "<matplotlib.image.AxesImage at 0x1db06dcec50>"
      ]
     },
     "execution_count": 13,
     "metadata": {},
     "output_type": "execute_result"
    }
   ],
   "source": [
    "warp_zero = np.zeros_like(warped_test).astype(np.uint8)\n",
    "color_warp = np.dstack((warp_zero, warp_zero, warp_zero))\n",
    "\n",
    "# Recast the x and y points into usable format for cv2.fillPoly()\n",
    "pts_left = np.array([np.transpose(np.vstack([left_fitx, ploty]))])\n",
    "pts_right = np.array([np.flipud(np.transpose(np.vstack([right_fitx, ploty])))])\n",
    "pts = np.hstack((pts_left, pts_right))\n",
    "\n",
    "# Draw the lane onto the warped blank image\n",
    "cv2.fillPoly(color_warp, np.int_([pts]), (0,255, 0))\n",
    "\n",
    "# Warp the blank back to original image space using inverse perspective matrix (Minv)\n",
    "newwarp = cv2.warpPerspective(color_warp, Minv, (warped_test.shape[1], warped_test.shape[0])) \n",
    "# Combine the result with the original image\n",
    "result = cv2.addWeighted(undistorted, 1, newwarp, 0.3, 0)\n",
    "curvature= np.mean(calculate_curvature(left_fitx, right_fitx))\n",
    "font = cv2.FONT_HERSHEY_SIMPLEX\n",
    "\n",
    "cv2.putText(result,'Radius of Curvature is '+str(curvature)+'m',(10,50), font, 1,(255,255,255),2)\n",
    "cv2.putText(result,'Vehicle is '+ str(offset)+'m '+pos +' of the road',(10,80), font, 1,(255,255,255),2)\n",
    "plt.imshow(result)\n"
   ]
  },
  {
   "cell_type": "markdown",
   "metadata": {},
   "source": [
    "## function add_lane(img) works here as the wrapping up of the previous demo of one image and will be applied to vidoe stream."
   ]
  },
  {
   "cell_type": "code",
   "execution_count": 14,
   "metadata": {
    "collapsed": true
   },
   "outputs": [],
   "source": [
    "class Line():\n",
    "    def __init__(self):\n",
    "        # was the line detected in the last iteration?\n",
    "        self.detected = False  \n",
    "        # x values of the last n fits of the line\n",
    "        self.recent_xfitted = [] \n",
    "        #average x values of the fitted line over the last n iterations\n",
    "        self.bestx = None     \n",
    "        #polynomial coefficients averaged over the last n iterations\n",
    "        self.best_fit = None  \n",
    "        #polynomial coefficients for the most recent fit\n",
    "        self.current_fit = [np.array([False])]  \n",
    "        #radius of curvature of the line in some units\n",
    "        self.radius_of_curvature = None \n",
    "        #distance in meters of vehicle center from the line\n",
    "        self.line_base_pos = None \n",
    "        #difference in fit coefficients between last and new fits\n",
    "        self.diffs = np.array([0,0,0], dtype='float') \n",
    "        #x values for detected line pixels\n",
    "        self.leftx = None\n",
    "        self.righx = None"
   ]
  },
  {
   "cell_type": "code",
   "execution_count": 18,
   "metadata": {
    "collapsed": true
   },
   "outputs": [],
   "source": [
    "from numpy import linalg as LA\n",
    "def add_lane(img):\n",
    "    undistorted = cal_undistort(img, objpoints, imgpoints)\n",
    "    #result = pipeline(undistorted)\n",
    "    result_binary = pipeline_binary(undistorted)\n",
    "    warped_test= cv2.warpPerspective(result_binary, M, img_size, flags=cv2.INTER_LINEAR)\n",
    "    left_fitx, right_fitx = fit_line(warped_test)\n",
    "    #print(len(trackline.recent_xfitted))\n",
    "    #print(left_fitx)\n",
    "    ploty=np.linspace(0, img.shape[0]-1, img.shape[0] )\n",
    "    #print(max(ploty))\n",
    "    if len(trackline.recent_xfitted)<n:\n",
    "        trackline.leftx=left_fitx\n",
    "        trackline.rightx=right_fitx\n",
    "        trackline.recent_xfitted.append([left_fitx,right_fitx])\n",
    "    #else:\n",
    "        #trackline.recent_xfitted.append([left_fitx,rightfitx])\n",
    "        #trackline.recent_xfitted.pop(0)\n",
    "        curvature = calculate_curvature(left_fitx, right_fitx)\n",
    "        midpoint  =warped_test.shape[1]/2\n",
    "        leftstart = min(left_fitx)\n",
    "        rightstart = max(right_fitx)\n",
    "        lanemiddle = (leftstart+rightstart)/2\n",
    "        offset=abs(midpoint-lanemiddle)*3.7/700\n",
    "        #print (leftstart, rightstart,midpoint, lanemiddle,offset)\n",
    "        if midpoint-lanemiddle<0:\n",
    "            pos='left'\n",
    "        else:\n",
    "            pos='right'\n",
    "        warp_zero = np.zeros_like(warped_test).astype(np.uint8)\n",
    "        color_warp = np.dstack((warp_zero, warp_zero, warp_zero))\n",
    "        # Recast the x and y points into usable format for cv2.fillPoly()\n",
    "        pts_left = np.array([np.transpose(np.vstack([left_fitx, ploty]))])\n",
    "        pts_right = np.array([np.flipud(np.transpose(np.vstack([right_fitx, ploty])))])\n",
    "        pts = np.hstack((pts_left, pts_right))\n",
    "        # Draw the lane onto the warped blank image\n",
    "        cv2.fillPoly(color_warp, np.int_([pts]), (0,255, 0))\n",
    "        # Warp the blank back to original image space using inverse perspective matrix (Minv)\n",
    "        newwarp = cv2.warpPerspective(color_warp, Minv, (warped_test.shape[1], warped_test.shape[0])) \n",
    "        # Combine the result with the original image\n",
    "        result = cv2.addWeighted(undistorted, 1, newwarp, 0.3, 0)\n",
    "        font = cv2.FONT_HERSHEY_SIMPLEX\n",
    "        cv2.putText(result,'left Radius of Curvature is '+str(curvature[0])+'m',(10,50), font, 1,(255,255,255),2)\n",
    "        cv2.putText(result,'right Radius of Curvature is '+str(curvature[1])+'m',(10,80), font, 1,(255,255,255),2)\n",
    "        cv2.putText(result,'Vehicle is '+ str(abs(offset))+'m '+pos +' of the road',(10,110), font, 1,(255,255,255),2)\n",
    "        #cv2.putText(result,'shape_match'+ str(shapematch),(10,120), font, 1,(255,255,255),2)\n",
    "        #cv2.putText(result,'line_dist'+ str(rightstart-leftstart),(10,150), font, 1,(255,255,255),2)\n",
    "        return result\n",
    "    coef=[]\n",
    "    coefnorm=[]\n",
    "    leftxstart_rec=[]\n",
    "    rightxstart_rec=[]\n",
    "    for record in trackline.recent_xfitted:\n",
    "        # Fit new polynomials to x,y in world space\n",
    "        left_cr = np.polyfit(ploty, record[0], 2)\n",
    "        right_cr = np.polyfit(ploty, record[1], 2)\n",
    "        coef.append([left_cr,right_cr])\n",
    "        coefnorm.append(LA.norm([left_cr,right_cr]))\n",
    "        leftxstart_rec.append(min(record[0]))\n",
    "        rightxstart_rec.append(max(record[1]))\n",
    "    #    leftxstart.append(record[0][warped_test.shape[0]-1])\n",
    "    #    rightxstart.append(record[1][warped_test.shape[0]-1])\n",
    "    left_ave_start=trackline.leftx[-1]\n",
    "    right_ave_start= trackline.rightx[-1]\n",
    "    trackline.leftx=left_fitx\n",
    "    trackline.rightx=right_fitx\n",
    "    average_coef = np.mean(coef, axis=0)\n",
    "    #print(average_coef)\n",
    "    trackline.bestfit = average_coef\n",
    "    trackline.current_fit = coef[-1]\n",
    "    curvature = calculate_curvature(left_fitx, right_fitx)\n",
    "    midpoint  =warped_test.shape[1]/2\n",
    "    leftstart = left_fitx[-1]\n",
    "    rightstart = right_fitx[-1]\n",
    "    dist_diff=abs(LA.norm(leftstart-rightstart)-LA.norm(left_ave_start-right_ave_start))\n",
    "    lanemiddle = (leftstart+rightstart)/2\n",
    "    offset=abs(midpoint-lanemiddle)*3.7/700\n",
    "    #print (leftstart, rightstart,offset)\n",
    "    if midpoint-lanemiddle<0:\n",
    "        pos='left'\n",
    "    else:\n",
    "        pos='right'\n",
    "    left_fit_cr = np.polyfit(ploty, left_fitx, 2)\n",
    "    right_fit_cr = np.polyfit(ploty, right_fitx, 2)\n",
    "    #print(np.array([left_fit_cr,right_fit_cr]))\n",
    "    trackline.diffs = abs(np.array([left_fit_cr,right_fit_cr])-average_coef)\n",
    "    #print(LA.norm(trackline.diffs),15*np.std(coefnorm))\n",
    "    warp_zero_2 = np.zeros_like(warped_test).astype(np.uint8)\n",
    "    # Recast the x and y points into usable format for cv2.fillPoly()\n",
    "    #print(ploty)\n",
    "    pts_left_2 = np.array([np.transpose(np.vstack([trackline.recent_xfitted[-1][0], ploty]))])\n",
    "    pts_right_2 = np.array([np.flipud(np.transpose(np.vstack([trackline.recent_xfitted[-1][1], ploty])))])\n",
    "    pts_2 = np.hstack((pts_left_2, pts_right_2))\n",
    "    # Draw the lane onto the warped blank image\n",
    "    cv2.fillPoly(warp_zero_2, np.int_([pts_2]), 255)\n",
    "    warp_zero_1 = np.zeros_like(warped_test).astype(np.uint8)\n",
    "    pts_left_1 = np.array([np.transpose(np.vstack([left_fitx, ploty]))])\n",
    "    pts_right_1 = np.array([np.flipud(np.transpose(np.vstack([right_fitx, ploty])))])\n",
    "    pts_1 = np.hstack((pts_left_1, pts_right_1))\n",
    "    # Draw the lane onto the warped blank image\n",
    "    cv2.fillPoly(warp_zero_1, np.int_([pts_1]), 255)\n",
    "    ret = cv2.matchShapes(warp_zero_1, warp_zero_2,1,0.0)\n",
    "    print('ret',ret)\n",
    "    print ('LA.norm(trackline.diffs)>15*np.std(coefnorm):',LA.norm(trackline.diffs)-15*np.std(coefnorm))\n",
    "    print('dist_diff',dist_diff)\n",
    "    if (LA.norm(trackline.diffs)>15*np.std(coefnorm))| (ret>0.001) |(dist_diff>8):\n",
    "        #print(’unchanged')\n",
    "        left_fitx = average_coef[0][0]*ploty**2 + average_coef[0][1]*ploty + average_coef[0][2]\n",
    "        right_fitx = average_coef[1][0]*ploty**2 + average_coef[1][1]*ploty + average_coef[1][2]\n",
    "       # print(left_fitx)\n",
    "    else:\n",
    "        trackline.recent_xfitted.append([left_fitx,right_fitx])\n",
    "        trackline.recent_xfitted.pop(0)\n",
    "        trackline.line_base_pos = (midpoint-lanemiddle)*3.7/700\n",
    "        trackline.radius_of_curvature=curvature\n",
    "    warp_zero = np.zeros_like(warped_test).astype(np.uint8)\n",
    "    color_warp = np.dstack((warp_zero, warp_zero, warp_zero))\n",
    "    # Recast the x and y points into usable format for cv2.fillPoly()\n",
    "    #print(ploty)\n",
    "    pts_left = np.array([np.transpose(np.vstack([left_fitx, ploty]))])\n",
    "    pts_right = np.array([np.flipud(np.transpose(np.vstack([right_fitx, ploty])))])\n",
    "    pts = np.hstack((pts_left, pts_right))\n",
    "    # Draw the lane onto the warped blank image\n",
    "    cv2.fillPoly(color_warp, np.int_([pts]), (0,255, 0))\n",
    "    # Warp the blank back to original image space using inverse perspective matrix (Minv)\n",
    "    newwarp = cv2.warpPerspective(color_warp, Minv, (warped_test.shape[1], warped_test.shape[0])) \n",
    "    # Combine the result with the original image\n",
    "    result = cv2.addWeighted(undistorted, 1, newwarp, 0.3, 0)\n",
    "    font = cv2.FONT_HERSHEY_SIMPLEX\n",
    "    if midpoint-lanemiddle<0:\n",
    "        pos='left'\n",
    "    else:\n",
    "        pos='right'\n",
    "    cv2.putText(result,'left Radius of Curvature is '+str(trackline.radius_of_curvature[0])+'m',(10,50), font, 1,(255,255,255),2)\n",
    "    cv2.putText(result,'right Radius of Curvature is '+str(trackline.radius_of_curvature[1])+'m',(10,80), font, 1,(255,255,255),2)\n",
    "    cv2.putText(result,'Vehicle is '+ str(abs(trackline.line_base_pos))+'m '+pos +' of the road',(10,110), font, 1,(255,255,255),2)\n",
    "    #cv2.putText(result,'shape_match'+ str(shapematch),(10,120), font, 1,(255,255,255),2)\n",
    "    #cv2.putText(result,'line_dist'+ str(rightstart-leftstart),(10,150), font, 1,(255,255,255),2)\n",
    "    return result"
   ]
  },
  {
   "cell_type": "code",
   "execution_count": 19,
   "metadata": {
    "collapsed": true
   },
   "outputs": [],
   "source": [
    "trackline=Line()\n",
    "n=10"
   ]
  },
  {
   "cell_type": "code",
   "execution_count": 20,
   "metadata": {},
   "outputs": [
    {
     "name": "stdout",
     "output_type": "stream",
     "text": [
      "[MoviePy] >>>> Building video C:/Users/Yi Zhu/Desktop/self-driving_car/CarND-Advanced-Lane-Lines-master/CarND-Advanced-Lane-Lines-master/project_video_out_tryy.mp4\n",
      "[MoviePy] Writing video C:/Users/Yi Zhu/Desktop/self-driving_car/CarND-Advanced-Lane-Lines-master/CarND-Advanced-Lane-Lines-master/project_video_out_tryy.mp4\n"
     ]
    },
    {
     "name": "stderr",
     "output_type": "stream",
     "text": [
      "  6%|████▉                                                                             | 9/151 [00:06<01:38,  1.44it/s]"
     ]
    },
    {
     "name": "stdout",
     "output_type": "stream",
     "text": [
      "ret 0.00014747265914816232\n",
      "LA.norm(trackline.diffs)>15*np.std(coefnorm): -58.0380995261\n",
      "dist_diff 0.422108302267\n"
     ]
    },
    {
     "name": "stderr",
     "output_type": "stream",
     "text": [
      "\r",
      "  7%|█████▎                                                                           | 10/151 [00:06<01:38,  1.43it/s]"
     ]
    },
    {
     "name": "stdout",
     "output_type": "stream",
     "text": [
      "ret 0.0001385396165145547\n",
      "LA.norm(trackline.diffs)>15*np.std(coefnorm): -67.8631628197\n",
      "dist_diff 1.00427350337\n"
     ]
    },
    {
     "name": "stderr",
     "output_type": "stream",
     "text": [
      "\r",
      "  7%|█████▉                                                                           | 11/151 [00:07<01:39,  1.41it/s]"
     ]
    },
    {
     "name": "stdout",
     "output_type": "stream",
     "text": [
      "ret 8.969146754633783e-06\n",
      "LA.norm(trackline.diffs)>15*np.std(coefnorm): -103.918672435\n",
      "dist_diff 2.80714518843\n"
     ]
    },
    {
     "name": "stderr",
     "output_type": "stream",
     "text": [
      "\r",
      "  8%|██████▍                                                                          | 12/151 [00:08<01:38,  1.41it/s]"
     ]
    },
    {
     "name": "stdout",
     "output_type": "stream",
     "text": [
      "ret 5.748661305149394e-05\n",
      "LA.norm(trackline.diffs)>15*np.std(coefnorm): -126.252390609\n",
      "dist_diff 3.73085009496\n"
     ]
    },
    {
     "name": "stderr",
     "output_type": "stream",
     "text": [
      "\r",
      "  9%|██████▉                                                                          | 13/151 [00:09<01:37,  1.41it/s]"
     ]
    },
    {
     "name": "stdout",
     "output_type": "stream",
     "text": [
      "ret 7.64373219213077e-05\n",
      "LA.norm(trackline.diffs)>15*np.std(coefnorm): -155.840346197\n",
      "dist_diff 2.93954232111\n"
     ]
    },
    {
     "name": "stderr",
     "output_type": "stream",
     "text": [
      "\r",
      "  9%|███████▌                                                                         | 14/151 [00:09<01:38,  1.39it/s]"
     ]
    },
    {
     "name": "stdout",
     "output_type": "stream",
     "text": [
      "ret 7.744947841969996e-05\n",
      "LA.norm(trackline.diffs)>15*np.std(coefnorm): -155.532122753\n",
      "dist_diff 3.43441850667\n"
     ]
    },
    {
     "name": "stderr",
     "output_type": "stream",
     "text": [
      "\r",
      " 10%|████████                                                                         | 15/151 [00:10<01:37,  1.39it/s]"
     ]
    },
    {
     "name": "stdout",
     "output_type": "stream",
     "text": [
      "ret 1.869773165769084e-05\n",
      "LA.norm(trackline.diffs)>15*np.std(coefnorm): -160.49285584\n",
      "dist_diff 3.28861812399\n"
     ]
    },
    {
     "name": "stderr",
     "output_type": "stream",
     "text": [
      "\r",
      " 11%|████████▌                                                                        | 16/151 [00:11<01:36,  1.40it/s]"
     ]
    },
    {
     "name": "stdout",
     "output_type": "stream",
     "text": [
      "ret 2.460614138960482e-05\n",
      "LA.norm(trackline.diffs)>15*np.std(coefnorm): -154.145432235\n",
      "dist_diff 2.53926903569\n"
     ]
    },
    {
     "name": "stderr",
     "output_type": "stream",
     "text": [
      "\r",
      " 11%|█████████                                                                        | 17/151 [00:11<01:35,  1.40it/s]"
     ]
    },
    {
     "name": "stdout",
     "output_type": "stream",
     "text": [
      "ret 8.04150350923738e-05\n",
      "LA.norm(trackline.diffs)>15*np.std(coefnorm): -147.019580011\n",
      "dist_diff 11.446350975\n"
     ]
    },
    {
     "name": "stderr",
     "output_type": "stream",
     "text": [
      "\r",
      " 12%|█████████▋                                                                       | 18/151 [00:12<01:35,  1.40it/s]"
     ]
    },
    {
     "name": "stdout",
     "output_type": "stream",
     "text": [
      "ret 0.0001405083976929733\n",
      "LA.norm(trackline.diffs)>15*np.std(coefnorm): -147.654055886\n",
      "dist_diff 7.11383620836\n"
     ]
    },
    {
     "name": "stderr",
     "output_type": "stream",
     "text": [
      "\r",
      " 13%|██████████▏                                                                      | 19/151 [00:13<01:36,  1.37it/s]"
     ]
    },
    {
     "name": "stdout",
     "output_type": "stream",
     "text": [
      "ret 6.200001363743102e-05\n",
      "LA.norm(trackline.diffs)>15*np.std(coefnorm): -134.289402368\n",
      "dist_diff 0.832032107958\n"
     ]
    },
    {
     "name": "stderr",
     "output_type": "stream",
     "text": [
      "\r",
      " 13%|██████████▋                                                                      | 20/151 [00:14<01:34,  1.38it/s]"
     ]
    },
    {
     "name": "stdout",
     "output_type": "stream",
     "text": [
      "ret 9.362508804622305e-06\n",
      "LA.norm(trackline.diffs)>15*np.std(coefnorm): -98.0606940859\n",
      "dist_diff 1.17534838234\n"
     ]
    },
    {
     "name": "stderr",
     "output_type": "stream",
     "text": [
      "\r",
      " 14%|███████████▎                                                                     | 21/151 [00:14<01:33,  1.39it/s]"
     ]
    },
    {
     "name": "stdout",
     "output_type": "stream",
     "text": [
      "ret 5.312481779151668e-06\n",
      "LA.norm(trackline.diffs)>15*np.std(coefnorm): -52.2774371069\n",
      "dist_diff 7.32025557242\n"
     ]
    },
    {
     "name": "stderr",
     "output_type": "stream",
     "text": [
      "\r",
      " 15%|███████████▊                                                                     | 22/151 [00:15<01:32,  1.39it/s]"
     ]
    },
    {
     "name": "stdout",
     "output_type": "stream",
     "text": [
      "ret 7.271476840753355e-05\n",
      "LA.norm(trackline.diffs)>15*np.std(coefnorm): -44.3211106087\n",
      "dist_diff 0.075680841361\n"
     ]
    },
    {
     "name": "stderr",
     "output_type": "stream",
     "text": [
      "\r",
      " 15%|████████████▎                                                                    | 23/151 [00:16<01:32,  1.39it/s]"
     ]
    },
    {
     "name": "stdout",
     "output_type": "stream",
     "text": [
      "ret 4.4942910416012616e-05\n",
      "LA.norm(trackline.diffs)>15*np.std(coefnorm): -35.020209024\n",
      "dist_diff 3.27916758419\n"
     ]
    },
    {
     "name": "stderr",
     "output_type": "stream",
     "text": [
      "\r",
      " 16%|████████████▊                                                                    | 24/151 [00:17<01:31,  1.39it/s]"
     ]
    },
    {
     "name": "stdout",
     "output_type": "stream",
     "text": [
      "ret 0.00011787482374203684\n",
      "LA.norm(trackline.diffs)>15*np.std(coefnorm): -31.7692393442\n",
      "dist_diff 2.53269767192\n"
     ]
    },
    {
     "name": "stderr",
     "output_type": "stream",
     "text": [
      "\r",
      " 17%|█████████████▍                                                                   | 25/151 [00:17<01:30,  1.39it/s]"
     ]
    },
    {
     "name": "stdout",
     "output_type": "stream",
     "text": [
      "ret 5.653929537291491e-05\n",
      "LA.norm(trackline.diffs)>15*np.std(coefnorm): -37.0047220121\n",
      "dist_diff 0.0290170040801\n"
     ]
    },
    {
     "name": "stderr",
     "output_type": "stream",
     "text": [
      "\r",
      " 17%|█████████████▉                                                                   | 26/151 [00:18<01:29,  1.40it/s]"
     ]
    },
    {
     "name": "stdout",
     "output_type": "stream",
     "text": [
      "ret 8.188874898301668e-05\n",
      "LA.norm(trackline.diffs)>15*np.std(coefnorm): -31.0865529985\n",
      "dist_diff 7.39172328113\n"
     ]
    },
    {
     "name": "stderr",
     "output_type": "stream",
     "text": [
      "\r",
      " 18%|██████████████▍                                                                  | 27/151 [00:19<01:28,  1.40it/s]"
     ]
    },
    {
     "name": "stdout",
     "output_type": "stream",
     "text": [
      "ret 4.31379301611412e-05\n",
      "LA.norm(trackline.diffs)>15*np.std(coefnorm): -56.9329839273\n",
      "dist_diff 13.3213676969\n"
     ]
    },
    {
     "name": "stderr",
     "output_type": "stream",
     "text": [
      "\r",
      " 19%|███████████████                                                                  | 28/151 [00:19<01:27,  1.40it/s]"
     ]
    },
    {
     "name": "stdout",
     "output_type": "stream",
     "text": [
      "ret 0.00010842456406473522\n",
      "LA.norm(trackline.diffs)>15*np.std(coefnorm): -47.7200723449\n",
      "dist_diff 1.46847991232\n"
     ]
    },
    {
     "name": "stderr",
     "output_type": "stream",
     "text": [
      "\r",
      " 19%|███████████████▌                                                                 | 29/151 [00:20<01:27,  1.40it/s]"
     ]
    },
    {
     "name": "stdout",
     "output_type": "stream",
     "text": [
      "ret 5.267684753496038e-05\n",
      "LA.norm(trackline.diffs)>15*np.std(coefnorm): -61.4721624249\n",
      "dist_diff 3.65026284059\n"
     ]
    },
    {
     "name": "stderr",
     "output_type": "stream",
     "text": [
      "\r",
      " 20%|████████████████                                                                 | 30/151 [00:21<01:26,  1.40it/s]"
     ]
    },
    {
     "name": "stdout",
     "output_type": "stream",
     "text": [
      "ret 6.692758523985098e-05\n",
      "LA.norm(trackline.diffs)>15*np.std(coefnorm): -46.827690527\n",
      "dist_diff 4.9477988554\n"
     ]
    },
    {
     "name": "stderr",
     "output_type": "stream",
     "text": [
      "\r",
      " 21%|████████████████▋                                                                | 31/151 [00:22<01:25,  1.40it/s]"
     ]
    },
    {
     "name": "stdout",
     "output_type": "stream",
     "text": [
      "ret 0.0001126709136236026\n",
      "LA.norm(trackline.diffs)>15*np.std(coefnorm): -52.8903903147\n",
      "dist_diff 0.955607524962\n"
     ]
    },
    {
     "name": "stderr",
     "output_type": "stream",
     "text": [
      "\r",
      " 21%|█████████████████▏                                                               | 32/151 [00:22<01:25,  1.40it/s]"
     ]
    },
    {
     "name": "stdout",
     "output_type": "stream",
     "text": [
      "ret 7.229405506992137e-05\n",
      "LA.norm(trackline.diffs)>15*np.std(coefnorm): -56.236083916\n",
      "dist_diff 4.08415471142\n"
     ]
    },
    {
     "name": "stderr",
     "output_type": "stream",
     "text": [
      "\r",
      " 22%|█████████████████▋                                                               | 33/151 [00:23<01:24,  1.40it/s]"
     ]
    },
    {
     "name": "stdout",
     "output_type": "stream",
     "text": [
      "ret 1.4123635144580593e-05\n",
      "LA.norm(trackline.diffs)>15*np.std(coefnorm): -74.7192500295\n",
      "dist_diff 7.18214333117\n"
     ]
    },
    {
     "name": "stderr",
     "output_type": "stream",
     "text": [
      "\r",
      " 23%|██████████████████▏                                                              | 34/151 [00:24<01:23,  1.40it/s]"
     ]
    },
    {
     "name": "stdout",
     "output_type": "stream",
     "text": [
      "ret 0.0001864882567613746\n",
      "LA.norm(trackline.diffs)>15*np.std(coefnorm): -57.3666906046\n",
      "dist_diff 1.52029849411\n"
     ]
    },
    {
     "name": "stderr",
     "output_type": "stream",
     "text": [
      "\r",
      " 23%|██████████████████▊                                                              | 35/151 [00:24<01:23,  1.39it/s]"
     ]
    },
    {
     "name": "stdout",
     "output_type": "stream",
     "text": [
      "ret 1.0353053994383021e-05\n",
      "LA.norm(trackline.diffs)>15*np.std(coefnorm): -65.0175380111\n",
      "dist_diff 0.438295635382\n"
     ]
    },
    {
     "name": "stderr",
     "output_type": "stream",
     "text": [
      "\r",
      " 24%|███████████████████▎                                                             | 36/151 [00:25<01:22,  1.40it/s]"
     ]
    },
    {
     "name": "stdout",
     "output_type": "stream",
     "text": [
      "ret 5.967163997772085e-05\n",
      "LA.norm(trackline.diffs)>15*np.std(coefnorm): -74.1748330189\n",
      "dist_diff 4.07104001723\n"
     ]
    },
    {
     "name": "stderr",
     "output_type": "stream",
     "text": [
      "\r",
      " 25%|███████████████████▊                                                             | 37/151 [00:26<01:21,  1.40it/s]"
     ]
    },
    {
     "name": "stdout",
     "output_type": "stream",
     "text": [
      "ret 4.351325573342946e-05\n",
      "LA.norm(trackline.diffs)>15*np.std(coefnorm): -87.2143307223\n",
      "dist_diff 0.806034357473\n"
     ]
    },
    {
     "name": "stderr",
     "output_type": "stream",
     "text": [
      "\r",
      " 25%|████████████████████▍                                                            | 38/151 [00:27<01:20,  1.40it/s]"
     ]
    },
    {
     "name": "stdout",
     "output_type": "stream",
     "text": [
      "ret 0.00010728525825054458\n",
      "LA.norm(trackline.diffs)>15*np.std(coefnorm): -103.95055906\n",
      "dist_diff 0.847662941826\n"
     ]
    },
    {
     "name": "stderr",
     "output_type": "stream",
     "text": [
      "\r",
      " 26%|████████████████████▉                                                            | 39/151 [00:27<01:19,  1.40it/s]"
     ]
    },
    {
     "name": "stdout",
     "output_type": "stream",
     "text": [
      "ret 9.479680967422466e-05\n",
      "LA.norm(trackline.diffs)>15*np.std(coefnorm): -105.765537084\n",
      "dist_diff 5.52935211321\n"
     ]
    },
    {
     "name": "stderr",
     "output_type": "stream",
     "text": [
      "\r",
      " 26%|█████████████████████▍                                                           | 40/151 [00:28<01:19,  1.40it/s]"
     ]
    },
    {
     "name": "stdout",
     "output_type": "stream",
     "text": [
      "ret 0.00011059522916168074\n",
      "LA.norm(trackline.diffs)>15*np.std(coefnorm): -104.053713884\n",
      "dist_diff 11.3948094814\n"
     ]
    },
    {
     "name": "stderr",
     "output_type": "stream",
     "text": [
      "\r",
      " 27%|█████████████████████▉                                                           | 41/151 [00:29<01:18,  1.40it/s]"
     ]
    },
    {
     "name": "stdout",
     "output_type": "stream",
     "text": [
      "ret 0.00017167594155320653\n",
      "LA.norm(trackline.diffs)>15*np.std(coefnorm): -105.173065691\n",
      "dist_diff 3.96948426251\n"
     ]
    },
    {
     "name": "stderr",
     "output_type": "stream",
     "text": [
      "\r",
      " 28%|██████████████████████▌                                                          | 42/151 [00:29<01:17,  1.40it/s]"
     ]
    },
    {
     "name": "stdout",
     "output_type": "stream",
     "text": [
      "ret 6.141863216307941e-05\n",
      "LA.norm(trackline.diffs)>15*np.std(coefnorm): -98.5096017585\n",
      "dist_diff 1.64109285451\n"
     ]
    },
    {
     "name": "stderr",
     "output_type": "stream",
     "text": [
      "\r",
      " 28%|███████████████████████                                                          | 43/151 [00:30<01:16,  1.40it/s]"
     ]
    },
    {
     "name": "stdout",
     "output_type": "stream",
     "text": [
      "ret 0.00013011244170318959\n",
      "LA.norm(trackline.diffs)>15*np.std(coefnorm): -108.373530732\n",
      "dist_diff 0.0288141404624\n"
     ]
    },
    {
     "name": "stderr",
     "output_type": "stream",
     "text": [
      "\r",
      " 29%|███████████████████████▌                                                         | 44/151 [00:31<01:16,  1.40it/s]"
     ]
    },
    {
     "name": "stdout",
     "output_type": "stream",
     "text": [
      "ret 8.692678192862013e-05\n",
      "LA.norm(trackline.diffs)>15*np.std(coefnorm): -141.565767387\n",
      "dist_diff 4.91665680565\n"
     ]
    },
    {
     "name": "stderr",
     "output_type": "stream",
     "text": [
      "\r",
      " 30%|████████████████████████▏                                                        | 45/151 [00:32<01:15,  1.40it/s]"
     ]
    },
    {
     "name": "stdout",
     "output_type": "stream",
     "text": [
      "ret 2.2734219779996234e-05\n",
      "LA.norm(trackline.diffs)>15*np.std(coefnorm): -170.885213349\n",
      "dist_diff 2.08295026322\n"
     ]
    },
    {
     "name": "stderr",
     "output_type": "stream",
     "text": [
      "\r",
      " 30%|████████████████████████▋                                                        | 46/151 [00:32<01:15,  1.40it/s]"
     ]
    },
    {
     "name": "stdout",
     "output_type": "stream",
     "text": [
      "ret 5.945639427623606e-05\n",
      "LA.norm(trackline.diffs)>15*np.std(coefnorm): -184.287848714\n",
      "dist_diff 1.6955965096\n"
     ]
    },
    {
     "name": "stderr",
     "output_type": "stream",
     "text": [
      "\r",
      " 31%|█████████████████████████▏                                                       | 47/151 [00:33<01:14,  1.40it/s]"
     ]
    },
    {
     "name": "stdout",
     "output_type": "stream",
     "text": [
      "ret 4.653764363471424e-05\n",
      "LA.norm(trackline.diffs)>15*np.std(coefnorm): -201.855741016\n",
      "dist_diff 2.99947557934\n"
     ]
    },
    {
     "name": "stderr",
     "output_type": "stream",
     "text": [
      "\r",
      " 32%|█████████████████████████▋                                                       | 48/151 [00:34<01:13,  1.40it/s]"
     ]
    },
    {
     "name": "stdout",
     "output_type": "stream",
     "text": [
      "ret 0.0002138882350410931\n",
      "LA.norm(trackline.diffs)>15*np.std(coefnorm): -198.236763958\n",
      "dist_diff 4.25379008451\n"
     ]
    },
    {
     "name": "stderr",
     "output_type": "stream",
     "text": [
      "\r",
      " 32%|██████████████████████████▎                                                      | 49/151 [00:34<01:12,  1.40it/s]"
     ]
    },
    {
     "name": "stdout",
     "output_type": "stream",
     "text": [
      "ret 0.0004291115470397844\n",
      "LA.norm(trackline.diffs)>15*np.std(coefnorm): -192.264277715\n",
      "dist_diff 20.4119092544\n"
     ]
    },
    {
     "name": "stderr",
     "output_type": "stream",
     "text": [
      "\r",
      " 33%|██████████████████████████▊                                                      | 50/151 [00:35<01:12,  1.39it/s]"
     ]
    },
    {
     "name": "stdout",
     "output_type": "stream",
     "text": [
      "ret 0.0004434682583586702\n",
      "LA.norm(trackline.diffs)>15*np.std(coefnorm): -183.504681445\n",
      "dist_diff 38.2007410998\n"
     ]
    },
    {
     "name": "stderr",
     "output_type": "stream",
     "text": [
      "\r",
      " 34%|███████████████████████████▎                                                     | 51/151 [00:36<01:11,  1.39it/s]"
     ]
    },
    {
     "name": "stdout",
     "output_type": "stream",
     "text": [
      "ret 0.000254583607471659\n",
      "LA.norm(trackline.diffs)>15*np.std(coefnorm): -200.847723252\n",
      "dist_diff 44.2532868613\n"
     ]
    },
    {
     "name": "stderr",
     "output_type": "stream",
     "text": [
      "\r",
      " 34%|███████████████████████████▉                                                     | 52/151 [00:37<01:10,  1.40it/s]"
     ]
    },
    {
     "name": "stdout",
     "output_type": "stream",
     "text": [
      "ret 0.0001116968256251738\n",
      "LA.norm(trackline.diffs)>15*np.std(coefnorm): -220.917695456\n",
      "dist_diff 18.8518382853\n"
     ]
    },
    {
     "name": "stderr",
     "output_type": "stream",
     "text": [
      "\r",
      " 35%|████████████████████████████▍                                                    | 53/151 [00:37<01:10,  1.39it/s]"
     ]
    },
    {
     "name": "stdout",
     "output_type": "stream",
     "text": [
      "ret 0.00042092400460452817\n",
      "LA.norm(trackline.diffs)>15*np.std(coefnorm): -179.450576812\n",
      "dist_diff 26.387599031\n"
     ]
    },
    {
     "name": "stderr",
     "output_type": "stream",
     "text": [
      "\r",
      " 36%|████████████████████████████▉                                                    | 54/151 [00:38<01:09,  1.40it/s]"
     ]
    },
    {
     "name": "stdout",
     "output_type": "stream",
     "text": [
      "ret 0.0001377254083420043\n",
      "LA.norm(trackline.diffs)>15*np.std(coefnorm): -208.831632172\n",
      "dist_diff 15.8512776264\n"
     ]
    },
    {
     "name": "stderr",
     "output_type": "stream",
     "text": [
      "\r",
      " 36%|█████████████████████████████▌                                                   | 55/151 [00:39<01:08,  1.40it/s]"
     ]
    },
    {
     "name": "stdout",
     "output_type": "stream",
     "text": [
      "ret 0.00045539013213174995\n",
      "LA.norm(trackline.diffs)>15*np.std(coefnorm): -178.435822767\n",
      "dist_diff 9.68940452037\n"
     ]
    },
    {
     "name": "stderr",
     "output_type": "stream",
     "text": [
      "\r",
      " 37%|██████████████████████████████                                                   | 56/151 [00:39<01:07,  1.40it/s]"
     ]
    },
    {
     "name": "stdout",
     "output_type": "stream",
     "text": [
      "ret 6.290443070255947e-05\n",
      "LA.norm(trackline.diffs)>15*np.std(coefnorm): -223.085393248\n",
      "dist_diff 6.63719053721\n"
     ]
    },
    {
     "name": "stderr",
     "output_type": "stream",
     "text": [
      "\r",
      " 38%|██████████████████████████████▌                                                  | 57/151 [00:40<01:07,  1.40it/s]"
     ]
    },
    {
     "name": "stdout",
     "output_type": "stream",
     "text": [
      "ret 0.00010745296561770479\n",
      "LA.norm(trackline.diffs)>15*np.std(coefnorm): -248.309506698\n",
      "dist_diff 2.04643391318\n"
     ]
    },
    {
     "name": "stderr",
     "output_type": "stream",
     "text": [
      "\r",
      " 38%|███████████████████████████████                                                  | 58/151 [00:41<01:06,  1.40it/s]"
     ]
    },
    {
     "name": "stdout",
     "output_type": "stream",
     "text": [
      "ret 0.0004536746538159053\n",
      "LA.norm(trackline.diffs)>15*np.std(coefnorm): -172.374419387\n",
      "dist_diff 4.40952792402\n"
     ]
    },
    {
     "name": "stderr",
     "output_type": "stream",
     "text": [
      "\r",
      " 39%|███████████████████████████████▋                                                 | 59/151 [00:42<01:05,  1.41it/s]"
     ]
    },
    {
     "name": "stdout",
     "output_type": "stream",
     "text": [
      "ret 0.0002469633380602354\n",
      "LA.norm(trackline.diffs)>15*np.std(coefnorm): -237.671266098\n",
      "dist_diff 6.88797510415\n"
     ]
    },
    {
     "name": "stderr",
     "output_type": "stream",
     "text": [
      "\r",
      " 40%|████████████████████████████████▏                                                | 60/151 [00:42<01:04,  1.41it/s]"
     ]
    },
    {
     "name": "stdout",
     "output_type": "stream",
     "text": [
      "ret 6.471967947857538e-05\n",
      "LA.norm(trackline.diffs)>15*np.std(coefnorm): -212.137785615\n",
      "dist_diff 0.722851748392\n"
     ]
    },
    {
     "name": "stderr",
     "output_type": "stream",
     "text": [
      "\r",
      " 40%|████████████████████████████████▋                                                | 61/151 [00:43<01:03,  1.41it/s]"
     ]
    },
    {
     "name": "stdout",
     "output_type": "stream",
     "text": [
      "ret 1.985981012586624e-06\n",
      "LA.norm(trackline.diffs)>15*np.std(coefnorm): -187.776958456\n",
      "dist_diff 3.12212781057\n"
     ]
    },
    {
     "name": "stderr",
     "output_type": "stream",
     "text": [
      "\r",
      " 41%|█████████████████████████████████▎                                               | 62/151 [00:44<01:03,  1.41it/s]"
     ]
    },
    {
     "name": "stdout",
     "output_type": "stream",
     "text": [
      "ret 1.982298089575618e-05\n",
      "LA.norm(trackline.diffs)>15*np.std(coefnorm): -188.453778961\n",
      "dist_diff 0.976721534113\n"
     ]
    },
    {
     "name": "stderr",
     "output_type": "stream",
     "text": [
      "\r",
      " 42%|█████████████████████████████████▊                                               | 63/151 [00:44<01:02,  1.41it/s]"
     ]
    },
    {
     "name": "stdout",
     "output_type": "stream",
     "text": [
      "ret 8.27334093607135e-05\n",
      "LA.norm(trackline.diffs)>15*np.std(coefnorm): -120.437200045\n",
      "dist_diff 17.8057298347\n"
     ]
    },
    {
     "name": "stderr",
     "output_type": "stream",
     "text": [
      "\r",
      " 42%|██████████████████████████████████▎                                              | 64/151 [00:45<01:02,  1.40it/s]"
     ]
    },
    {
     "name": "stdout",
     "output_type": "stream",
     "text": [
      "ret 6.390159179686661e-05\n",
      "LA.norm(trackline.diffs)>15*np.std(coefnorm): -63.1255833377\n",
      "dist_diff 18.3653957538\n"
     ]
    },
    {
     "name": "stderr",
     "output_type": "stream",
     "text": [
      "\r",
      " 43%|██████████████████████████████████▊                                              | 65/151 [00:46<01:01,  1.40it/s]"
     ]
    },
    {
     "name": "stdout",
     "output_type": "stream",
     "text": [
      "ret 0.0001877264539490442\n",
      "LA.norm(trackline.diffs)>15*np.std(coefnorm): -122.957822156\n",
      "dist_diff 21.3757992112\n"
     ]
    },
    {
     "name": "stderr",
     "output_type": "stream",
     "text": [
      "\r",
      " 44%|███████████████████████████████████▍                                             | 66/151 [00:47<01:00,  1.41it/s]"
     ]
    },
    {
     "name": "stdout",
     "output_type": "stream",
     "text": [
      "ret 0.023989377051921223\n",
      "LA.norm(trackline.diffs)>15*np.std(coefnorm): 1345.63143661\n",
      "dist_diff 59.0594079063\n"
     ]
    },
    {
     "name": "stderr",
     "output_type": "stream",
     "text": [
      "\r",
      " 44%|███████████████████████████████████▉                                             | 67/151 [00:47<00:59,  1.41it/s]"
     ]
    },
    {
     "name": "stdout",
     "output_type": "stream",
     "text": [
      "ret 6.992428961494213e-05\n",
      "LA.norm(trackline.diffs)>15*np.std(coefnorm): -103.199014219\n",
      "dist_diff 37.5379216551\n"
     ]
    },
    {
     "name": "stderr",
     "output_type": "stream",
     "text": [
      "\r",
      " 45%|████████████████████████████████████▍                                            | 68/151 [00:48<00:58,  1.41it/s]"
     ]
    },
    {
     "name": "stdout",
     "output_type": "stream",
     "text": [
      "ret 0.0001348232335117161\n",
      "LA.norm(trackline.diffs)>15*np.std(coefnorm): -111.008073896\n",
      "dist_diff 10.1274455475\n"
     ]
    },
    {
     "name": "stderr",
     "output_type": "stream",
     "text": [
      "\r",
      " 46%|█████████████████████████████████████                                            | 69/151 [00:49<00:58,  1.41it/s]"
     ]
    },
    {
     "name": "stdout",
     "output_type": "stream",
     "text": [
      "ret 0.04052445734949528\n",
      "LA.norm(trackline.diffs)>15*np.std(coefnorm): 4015.21563019\n",
      "dist_diff 78.6456380309\n"
     ]
    },
    {
     "name": "stderr",
     "output_type": "stream",
     "text": [
      "\r",
      " 46%|█████████████████████████████████████▌                                           | 70/151 [00:49<00:57,  1.41it/s]"
     ]
    },
    {
     "name": "stdout",
     "output_type": "stream",
     "text": [
      "ret 2.041789065870825e-05\n",
      "LA.norm(trackline.diffs)>15*np.std(coefnorm): -185.515344801\n",
      "dist_diff 64.3634704281\n"
     ]
    },
    {
     "name": "stderr",
     "output_type": "stream",
     "text": [
      "\r",
      " 47%|██████████████████████████████████████                                           | 71/151 [00:50<00:56,  1.41it/s]"
     ]
    },
    {
     "name": "stdout",
     "output_type": "stream",
     "text": [
      "ret 7.055239433384486e-05\n",
      "LA.norm(trackline.diffs)>15*np.std(coefnorm): -141.546617947\n",
      "dist_diff 1.87957235016\n"
     ]
    },
    {
     "name": "stderr",
     "output_type": "stream",
     "text": [
      "\r",
      " 48%|██████████████████████████████████████▌                                          | 72/151 [00:51<00:55,  1.41it/s]"
     ]
    },
    {
     "name": "stdout",
     "output_type": "stream",
     "text": [
      "ret 5.483492069657814e-05\n",
      "LA.norm(trackline.diffs)>15*np.std(coefnorm): -123.629308204\n",
      "dist_diff 0.140361667545\n"
     ]
    },
    {
     "name": "stderr",
     "output_type": "stream",
     "text": [
      "\r",
      " 48%|███████████████████████████████████████▏                                         | 73/151 [00:51<00:55,  1.41it/s]"
     ]
    },
    {
     "name": "stdout",
     "output_type": "stream",
     "text": [
      "ret 0.00023693445890421438\n",
      "LA.norm(trackline.diffs)>15*np.std(coefnorm): -157.748810373\n",
      "dist_diff 240.516245221\n"
     ]
    },
    {
     "name": "stderr",
     "output_type": "stream",
     "text": [
      "\r",
      " 49%|███████████████████████████████████████▋                                         | 74/151 [00:52<00:54,  1.40it/s]"
     ]
    },
    {
     "name": "stdout",
     "output_type": "stream",
     "text": [
      "ret 0.00010034052161606022\n",
      "LA.norm(trackline.diffs)>15*np.std(coefnorm): -155.035093084\n",
      "dist_diff 214.966539206\n"
     ]
    },
    {
     "name": "stderr",
     "output_type": "stream",
     "text": [
      "\r",
      " 50%|████████████████████████████████████████▏                                        | 75/151 [00:53<00:54,  1.40it/s]"
     ]
    },
    {
     "name": "stdout",
     "output_type": "stream",
     "text": [
      "ret 5.2572969707676e-05\n",
      "LA.norm(trackline.diffs)>15*np.std(coefnorm): -139.623999704\n",
      "dist_diff 11.4869870772\n"
     ]
    },
    {
     "name": "stderr",
     "output_type": "stream",
     "text": [
      "\r",
      " 50%|████████████████████████████████████████▊                                        | 76/151 [00:54<00:53,  1.40it/s]"
     ]
    },
    {
     "name": "stdout",
     "output_type": "stream",
     "text": [
      "ret 5.6836712434671366e-05\n",
      "LA.norm(trackline.diffs)>15*np.std(coefnorm): -86.0043675097\n",
      "dist_diff 31.2618411039\n"
     ]
    },
    {
     "name": "stderr",
     "output_type": "stream",
     "text": [
      "\r",
      " 51%|█████████████████████████████████████████▎                                       | 77/151 [00:54<00:52,  1.40it/s]"
     ]
    },
    {
     "name": "stdout",
     "output_type": "stream",
     "text": [
      "ret 6.391126339316822e-05\n",
      "LA.norm(trackline.diffs)>15*np.std(coefnorm): -30.3539721181\n",
      "dist_diff 7.1768776846\n"
     ]
    },
    {
     "name": "stderr",
     "output_type": "stream",
     "text": [
      "\r",
      " 52%|█████████████████████████████████████████▊                                       | 78/151 [00:55<00:51,  1.40it/s]"
     ]
    },
    {
     "name": "stdout",
     "output_type": "stream",
     "text": [
      "ret 0.00018179184662503456\n",
      "LA.norm(trackline.diffs)>15*np.std(coefnorm): -10.0801730114\n",
      "dist_diff 14.7549563645\n"
     ]
    },
    {
     "name": "stderr",
     "output_type": "stream",
     "text": [
      "\r",
      " 52%|██████████████████████████████████████████▍                                      | 79/151 [00:56<00:51,  1.41it/s]"
     ]
    },
    {
     "name": "stdout",
     "output_type": "stream",
     "text": [
      "ret 0.00019394579114490051\n",
      "LA.norm(trackline.diffs)>15*np.std(coefnorm): -26.1663132612\n",
      "dist_diff 3.72475691447\n"
     ]
    },
    {
     "name": "stderr",
     "output_type": "stream",
     "text": [
      "\r",
      " 53%|██████████████████████████████████████████▉                                      | 80/151 [00:56<00:50,  1.41it/s]"
     ]
    },
    {
     "name": "stdout",
     "output_type": "stream",
     "text": [
      "ret 4.284028655476835e-05\n",
      "LA.norm(trackline.diffs)>15*np.std(coefnorm): -142.655273106\n",
      "dist_diff 14.2492696053\n"
     ]
    },
    {
     "name": "stderr",
     "output_type": "stream",
     "text": [
      "\r",
      " 54%|███████████████████████████████████████████▍                                     | 81/151 [00:57<00:49,  1.40it/s]"
     ]
    },
    {
     "name": "stdout",
     "output_type": "stream",
     "text": [
      "ret 0.00037920519736728275\n",
      "LA.norm(trackline.diffs)>15*np.std(coefnorm): -119.596854858\n",
      "dist_diff 14.900534322\n"
     ]
    },
    {
     "name": "stderr",
     "output_type": "stream",
     "text": [
      "\r",
      " 54%|███████████████████████████████████████████▉                                     | 82/151 [00:58<00:49,  1.41it/s]"
     ]
    },
    {
     "name": "stdout",
     "output_type": "stream",
     "text": [
      "ret 1.1064813176808741e-05\n",
      "LA.norm(trackline.diffs)>15*np.std(coefnorm): -156.512805172\n",
      "dist_diff 43.5187396875\n"
     ]
    },
    {
     "name": "stderr",
     "output_type": "stream",
     "text": [
      "\r",
      " 55%|████████████████████████████████████████████▌                                    | 83/151 [00:59<00:48,  1.41it/s]"
     ]
    },
    {
     "name": "stdout",
     "output_type": "stream",
     "text": [
      "ret 0.00010371056415736657\n",
      "LA.norm(trackline.diffs)>15*np.std(coefnorm): -178.58520581\n",
      "dist_diff 0.989781491596\n"
     ]
    },
    {
     "name": "stderr",
     "output_type": "stream",
     "text": [
      "\r",
      " 56%|█████████████████████████████████████████████                                    | 84/151 [00:59<00:47,  1.41it/s]"
     ]
    },
    {
     "name": "stdout",
     "output_type": "stream",
     "text": [
      "ret 0.00010906847440111944\n",
      "LA.norm(trackline.diffs)>15*np.std(coefnorm): -164.744042838\n",
      "dist_diff 1.50206540084\n"
     ]
    },
    {
     "name": "stderr",
     "output_type": "stream",
     "text": [
      "\r",
      " 56%|█████████████████████████████████████████████▌                                   | 85/151 [01:00<00:47,  1.40it/s]"
     ]
    },
    {
     "name": "stdout",
     "output_type": "stream",
     "text": [
      "ret 0.00014435212655006247\n",
      "LA.norm(trackline.diffs)>15*np.std(coefnorm): -139.104943009\n",
      "dist_diff 4.42718991343\n"
     ]
    },
    {
     "name": "stderr",
     "output_type": "stream",
     "text": [
      "\r",
      " 57%|██████████████████████████████████████████████▏                                  | 86/151 [01:01<00:46,  1.40it/s]"
     ]
    },
    {
     "name": "stdout",
     "output_type": "stream",
     "text": [
      "ret 0.0001492179126146298\n",
      "LA.norm(trackline.diffs)>15*np.std(coefnorm): -34.2386929044\n",
      "dist_diff 11.5316586674\n"
     ]
    },
    {
     "name": "stderr",
     "output_type": "stream",
     "text": [
      "\r",
      " 58%|██████████████████████████████████████████████▋                                  | 87/151 [01:01<00:45,  1.39it/s]"
     ]
    },
    {
     "name": "stdout",
     "output_type": "stream",
     "text": [
      "ret 8.811550686205205e-05\n",
      "LA.norm(trackline.diffs)>15*np.std(coefnorm): -2.33833476001\n",
      "dist_diff 2.85669298993\n"
     ]
    },
    {
     "name": "stderr",
     "output_type": "stream",
     "text": [
      "\r",
      " 58%|███████████████████████████████████████████████▏                                 | 88/151 [01:02<00:45,  1.40it/s]"
     ]
    },
    {
     "name": "stdout",
     "output_type": "stream",
     "text": [
      "ret 4.3105671086118846e-05\n",
      "LA.norm(trackline.diffs)>15*np.std(coefnorm): -112.685715073\n",
      "dist_diff 0.283498543591\n"
     ]
    },
    {
     "name": "stderr",
     "output_type": "stream",
     "text": [
      "\r",
      " 59%|███████████████████████████████████████████████▋                                 | 89/151 [01:03<00:44,  1.40it/s]"
     ]
    },
    {
     "name": "stdout",
     "output_type": "stream",
     "text": [
      "ret 0.00010833565137946533\n",
      "LA.norm(trackline.diffs)>15*np.std(coefnorm): -182.281858665\n",
      "dist_diff 5.01925984313\n"
     ]
    },
    {
     "name": "stderr",
     "output_type": "stream",
     "text": [
      "\r",
      " 60%|████████████████████████████████████████████████▎                                | 90/151 [01:04<00:43,  1.40it/s]"
     ]
    },
    {
     "name": "stdout",
     "output_type": "stream",
     "text": [
      "ret 6.542119710312155e-05\n",
      "LA.norm(trackline.diffs)>15*np.std(coefnorm): -286.111911846\n",
      "dist_diff 2.76745642238\n"
     ]
    },
    {
     "name": "stderr",
     "output_type": "stream",
     "text": [
      "\r",
      " 60%|████████████████████████████████████████████████▊                                | 91/151 [01:04<00:43,  1.40it/s]"
     ]
    },
    {
     "name": "stdout",
     "output_type": "stream",
     "text": [
      "ret 5.3000273013470434e-05\n",
      "LA.norm(trackline.diffs)>15*np.std(coefnorm): -292.112269334\n",
      "dist_diff 18.3629442727\n"
     ]
    },
    {
     "name": "stderr",
     "output_type": "stream",
     "text": [
      "\r",
      " 61%|█████████████████████████████████████████████████▎                               | 92/151 [01:05<00:42,  1.40it/s]"
     ]
    },
    {
     "name": "stdout",
     "output_type": "stream",
     "text": [
      "ret 3.502795888032928e-05\n",
      "LA.norm(trackline.diffs)>15*np.std(coefnorm): -323.79737537\n",
      "dist_diff 2.89680054456\n"
     ]
    },
    {
     "name": "stderr",
     "output_type": "stream",
     "text": [
      "\r",
      " 62%|█████████████████████████████████████████████████▉                               | 93/151 [01:06<00:41,  1.39it/s]"
     ]
    },
    {
     "name": "stdout",
     "output_type": "stream",
     "text": [
      "ret 7.220491339865465e-05\n",
      "LA.norm(trackline.diffs)>15*np.std(coefnorm): -285.579728016\n",
      "dist_diff 2.84299209739\n"
     ]
    },
    {
     "name": "stderr",
     "output_type": "stream",
     "text": [
      "\r",
      " 62%|██████████████████████████████████████████████████▍                              | 94/151 [01:06<00:40,  1.40it/s]"
     ]
    },
    {
     "name": "stdout",
     "output_type": "stream",
     "text": [
      "ret 4.852726052251288e-05\n",
      "LA.norm(trackline.diffs)>15*np.std(coefnorm): -277.988775394\n",
      "dist_diff 1.49565673995\n"
     ]
    },
    {
     "name": "stderr",
     "output_type": "stream",
     "text": [
      "\r",
      " 63%|██████████████████████████████████████████████████▉                              | 95/151 [01:07<00:40,  1.40it/s]"
     ]
    },
    {
     "name": "stdout",
     "output_type": "stream",
     "text": [
      "ret 0.0001622593789039617\n",
      "LA.norm(trackline.diffs)>15*np.std(coefnorm): -194.768696633\n",
      "dist_diff 7.91448752806\n"
     ]
    },
    {
     "name": "stderr",
     "output_type": "stream",
     "text": [
      "\r",
      " 64%|███████████████████████████████████████████████████▍                             | 96/151 [01:08<00:39,  1.40it/s]"
     ]
    },
    {
     "name": "stdout",
     "output_type": "stream",
     "text": [
      "ret 5.946246718391279e-05\n",
      "LA.norm(trackline.diffs)>15*np.std(coefnorm): -183.503575242\n",
      "dist_diff 7.19936028117\n"
     ]
    },
    {
     "name": "stderr",
     "output_type": "stream",
     "text": [
      "\r",
      " 64%|████████████████████████████████████████████████████                             | 97/151 [01:09<00:38,  1.40it/s]"
     ]
    },
    {
     "name": "stdout",
     "output_type": "stream",
     "text": [
      "ret 4.331659572737179e-05\n",
      "LA.norm(trackline.diffs)>15*np.std(coefnorm): -177.470268079\n",
      "dist_diff 7.26928422384\n"
     ]
    },
    {
     "name": "stderr",
     "output_type": "stream",
     "text": [
      "\r",
      " 65%|████████████████████████████████████████████████████▌                            | 98/151 [01:09<00:37,  1.40it/s]"
     ]
    },
    {
     "name": "stdout",
     "output_type": "stream",
     "text": [
      "ret 0.00013357532156388352\n",
      "LA.norm(trackline.diffs)>15*np.std(coefnorm): -136.013392034\n",
      "dist_diff 13.6659281763\n"
     ]
    },
    {
     "name": "stderr",
     "output_type": "stream",
     "text": [
      "\r",
      " 66%|█████████████████████████████████████████████████████                            | 99/151 [01:10<00:37,  1.40it/s]"
     ]
    },
    {
     "name": "stdout",
     "output_type": "stream",
     "text": [
      "ret 0.0001082969437794512\n",
      "LA.norm(trackline.diffs)>15*np.std(coefnorm): -133.614075955\n",
      "dist_diff 0.144695182798\n"
     ]
    },
    {
     "name": "stderr",
     "output_type": "stream",
     "text": [
      "\r",
      " 66%|████████████████████████████████████████████████████▉                           | 100/151 [01:11<00:36,  1.40it/s]"
     ]
    },
    {
     "name": "stdout",
     "output_type": "stream",
     "text": [
      "ret 0.00010900103786254389\n",
      "LA.norm(trackline.diffs)>15*np.std(coefnorm): -66.0032919041\n",
      "dist_diff 7.21930404823\n"
     ]
    },
    {
     "name": "stderr",
     "output_type": "stream",
     "text": [
      "\r",
      " 67%|█████████████████████████████████████████████████████▌                          | 101/151 [01:11<00:35,  1.40it/s]"
     ]
    },
    {
     "name": "stdout",
     "output_type": "stream",
     "text": [
      "ret 2.9911333716658994e-05\n",
      "LA.norm(trackline.diffs)>15*np.std(coefnorm): -15.575084353\n",
      "dist_diff 6.03554129267\n"
     ]
    },
    {
     "name": "stderr",
     "output_type": "stream",
     "text": [
      "\r",
      " 68%|██████████████████████████████████████████████████████                          | 102/151 [01:12<00:34,  1.40it/s]"
     ]
    },
    {
     "name": "stdout",
     "output_type": "stream",
     "text": [
      "ret 0.00022501566392701955\n",
      "LA.norm(trackline.diffs)>15*np.std(coefnorm): -18.7149273138\n",
      "dist_diff 15.8010411621\n"
     ]
    },
    {
     "name": "stderr",
     "output_type": "stream",
     "text": [
      "\r",
      " 68%|██████████████████████████████████████████████████████▌                         | 103/151 [01:13<00:34,  1.39it/s]"
     ]
    },
    {
     "name": "stdout",
     "output_type": "stream",
     "text": [
      "ret 0.0003430382506107721\n",
      "LA.norm(trackline.diffs)>15*np.std(coefnorm): -24.0088604411\n",
      "dist_diff 6.52409585596\n"
     ]
    },
    {
     "name": "stderr",
     "output_type": "stream",
     "text": [
      "\r",
      " 69%|███████████████████████████████████████████████████████                         | 104/151 [01:14<00:33,  1.39it/s]"
     ]
    },
    {
     "name": "stdout",
     "output_type": "stream",
     "text": [
      "ret 6.358408746331978e-05\n",
      "LA.norm(trackline.diffs)>15*np.std(coefnorm): -47.2009090764\n",
      "dist_diff 0.808860969946\n"
     ]
    },
    {
     "name": "stderr",
     "output_type": "stream",
     "text": [
      "\r",
      " 70%|███████████████████████████████████████████████████████▋                        | 105/151 [01:14<00:33,  1.39it/s]"
     ]
    },
    {
     "name": "stdout",
     "output_type": "stream",
     "text": [
      "ret 0.00026775795846534223\n",
      "LA.norm(trackline.diffs)>15*np.std(coefnorm): -4.35605030498\n",
      "dist_diff 8.66816693541\n"
     ]
    },
    {
     "name": "stderr",
     "output_type": "stream",
     "text": [
      "\r",
      " 70%|████████████████████████████████████████████████████████▏                       | 106/151 [01:15<00:32,  1.39it/s]"
     ]
    },
    {
     "name": "stdout",
     "output_type": "stream",
     "text": [
      "ret 0.0002273257117026417\n",
      "LA.norm(trackline.diffs)>15*np.std(coefnorm): -8.9017969442\n",
      "dist_diff 3.39005792893\n"
     ]
    },
    {
     "name": "stderr",
     "output_type": "stream",
     "text": [
      "\r",
      " 71%|████████████████████████████████████████████████████████▋                       | 107/151 [01:16<00:31,  1.39it/s]"
     ]
    },
    {
     "name": "stdout",
     "output_type": "stream",
     "text": [
      "ret 0.0001316205406479698\n",
      "LA.norm(trackline.diffs)>15*np.std(coefnorm): -28.5647813159\n",
      "dist_diff 6.81806792437\n"
     ]
    },
    {
     "name": "stderr",
     "output_type": "stream",
     "text": [
      "\r",
      " 72%|█████████████████████████████████████████████████████████▏                      | 108/151 [01:17<00:30,  1.40it/s]"
     ]
    },
    {
     "name": "stdout",
     "output_type": "stream",
     "text": [
      "ret 0.00018442511790095484\n",
      "LA.norm(trackline.diffs)>15*np.std(coefnorm): -54.8706242746\n",
      "dist_diff 0.566110756347\n"
     ]
    },
    {
     "name": "stderr",
     "output_type": "stream",
     "text": [
      "\r",
      " 72%|█████████████████████████████████████████████████████████▋                      | 109/151 [01:17<00:30,  1.39it/s]"
     ]
    },
    {
     "name": "stdout",
     "output_type": "stream",
     "text": [
      "ret 0.00029756979089190505\n",
      "LA.norm(trackline.diffs)>15*np.std(coefnorm): -65.9110301324\n",
      "dist_diff 2.92413597801\n"
     ]
    },
    {
     "name": "stderr",
     "output_type": "stream",
     "text": [
      "\r",
      " 73%|██████████████████████████████████████████████████████████▎                     | 110/151 [01:18<00:29,  1.39it/s]"
     ]
    },
    {
     "name": "stdout",
     "output_type": "stream",
     "text": [
      "ret 0.0006761060375100603\n",
      "LA.norm(trackline.diffs)>15*np.std(coefnorm): -108.601883085\n",
      "dist_diff 3.93308321468\n"
     ]
    },
    {
     "name": "stderr",
     "output_type": "stream",
     "text": [
      "\r",
      " 74%|██████████████████████████████████████████████████████████▊                     | 111/151 [01:19<00:28,  1.39it/s]"
     ]
    },
    {
     "name": "stdout",
     "output_type": "stream",
     "text": [
      "ret 0.0007007741706093196\n",
      "LA.norm(trackline.diffs)>15*np.std(coefnorm): -221.580575874\n",
      "dist_diff 20.6650199433\n"
     ]
    },
    {
     "name": "stderr",
     "output_type": "stream",
     "text": [
      "\r",
      " 74%|███████████████████████████████████████████████████████████▎                    | 112/151 [01:19<00:28,  1.39it/s]"
     ]
    },
    {
     "name": "stdout",
     "output_type": "stream",
     "text": [
      "ret 0.0007044778258747386\n",
      "LA.norm(trackline.diffs)>15*np.std(coefnorm): -210.340655129\n",
      "dist_diff 20.2932241831\n"
     ]
    },
    {
     "name": "stderr",
     "output_type": "stream",
     "text": [
      "\r",
      " 75%|███████████████████████████████████████████████████████████▊                    | 113/151 [01:20<00:27,  1.38it/s]"
     ]
    },
    {
     "name": "stdout",
     "output_type": "stream",
     "text": [
      "ret 0.0010508967786790335\n",
      "LA.norm(trackline.diffs)>15*np.std(coefnorm): -188.428301457\n",
      "dist_diff 55.098904635\n"
     ]
    },
    {
     "name": "stderr",
     "output_type": "stream",
     "text": [
      "\r",
      " 75%|████████████████████████████████████████████████████████████▍                   | 114/151 [01:21<00:26,  1.38it/s]"
     ]
    },
    {
     "name": "stdout",
     "output_type": "stream",
     "text": [
      "ret 0.00041012427122971706\n",
      "LA.norm(trackline.diffs)>15*np.std(coefnorm): -211.802061146\n",
      "dist_diff 16.4321324592\n"
     ]
    },
    {
     "name": "stderr",
     "output_type": "stream",
     "text": [
      "\r",
      " 76%|████████████████████████████████████████████████████████████▉                   | 115/151 [01:22<00:26,  1.38it/s]"
     ]
    },
    {
     "name": "stdout",
     "output_type": "stream",
     "text": [
      "ret 0.00037546153703915675\n",
      "LA.norm(trackline.diffs)>15*np.std(coefnorm): -222.029421805\n",
      "dist_diff 30.4799207776\n"
     ]
    },
    {
     "name": "stderr",
     "output_type": "stream",
     "text": [
      "\r",
      " 77%|█████████████████████████████████████████████████████████████▍                  | 116/151 [01:22<00:25,  1.37it/s]"
     ]
    },
    {
     "name": "stdout",
     "output_type": "stream",
     "text": [
      "ret 0.0013920982146205518\n",
      "LA.norm(trackline.diffs)>15*np.std(coefnorm): -190.429484743\n",
      "dist_diff 62.3323614018\n"
     ]
    },
    {
     "name": "stderr",
     "output_type": "stream",
     "text": [
      "\r",
      " 77%|█████████████████████████████████████████████████████████████▉                  | 117/151 [01:23<00:24,  1.38it/s]"
     ]
    },
    {
     "name": "stdout",
     "output_type": "stream",
     "text": [
      "ret 0.0001070371202258058\n",
      "LA.norm(trackline.diffs)>15*np.std(coefnorm): -225.258669325\n",
      "dist_diff 28.7112822826\n"
     ]
    },
    {
     "name": "stderr",
     "output_type": "stream",
     "text": [
      "\r",
      " 78%|██████████████████████████████████████████████████████████████▌                 | 118/151 [01:24<00:23,  1.38it/s]"
     ]
    },
    {
     "name": "stdout",
     "output_type": "stream",
     "text": [
      "ret 0.00010606030925386367\n",
      "LA.norm(trackline.diffs)>15*np.std(coefnorm): -226.837483911\n",
      "dist_diff 9.19578442775\n"
     ]
    },
    {
     "name": "stderr",
     "output_type": "stream",
     "text": [
      "\r",
      " 79%|███████████████████████████████████████████████████████████████                 | 119/151 [01:24<00:23,  1.38it/s]"
     ]
    },
    {
     "name": "stdout",
     "output_type": "stream",
     "text": [
      "ret 0.0005727329994542063\n",
      "LA.norm(trackline.diffs)>15*np.std(coefnorm): -242.700470272\n",
      "dist_diff 9.53145074889\n"
     ]
    },
    {
     "name": "stderr",
     "output_type": "stream",
     "text": [
      "\r",
      " 79%|███████████████████████████████████████████████████████████████▌                | 120/151 [01:25<00:22,  1.37it/s]"
     ]
    },
    {
     "name": "stdout",
     "output_type": "stream",
     "text": [
      "ret 0.00035447748586731054\n",
      "LA.norm(trackline.diffs)>15*np.std(coefnorm): -215.424297726\n",
      "dist_diff 62.9584149343\n"
     ]
    },
    {
     "name": "stderr",
     "output_type": "stream",
     "text": [
      "\r",
      " 80%|████████████████████████████████████████████████████████████████                | 121/151 [01:26<00:21,  1.37it/s]"
     ]
    },
    {
     "name": "stdout",
     "output_type": "stream",
     "text": [
      "ret 0.0005872212628572626\n",
      "LA.norm(trackline.diffs)>15*np.std(coefnorm): -227.578703163\n",
      "dist_diff 17.7491386206\n"
     ]
    },
    {
     "name": "stderr",
     "output_type": "stream",
     "text": [
      "\r",
      " 81%|████████████████████████████████████████████████████████████████▋               | 122/151 [01:27<00:21,  1.37it/s]"
     ]
    },
    {
     "name": "stdout",
     "output_type": "stream",
     "text": [
      "ret 0.0005994137248774845\n",
      "LA.norm(trackline.diffs)>15*np.std(coefnorm): -231.615118735\n",
      "dist_diff 22.2970169818\n"
     ]
    },
    {
     "name": "stderr",
     "output_type": "stream",
     "text": [
      "\r",
      " 81%|█████████████████████████████████████████████████████████████████▏              | 123/151 [01:27<00:20,  1.38it/s]"
     ]
    },
    {
     "name": "stdout",
     "output_type": "stream",
     "text": [
      "ret 0.0004894081172495124\n",
      "LA.norm(trackline.diffs)>15*np.std(coefnorm): -226.999170591\n",
      "dist_diff 5.23645523611\n"
     ]
    },
    {
     "name": "stderr",
     "output_type": "stream",
     "text": [
      "\r",
      " 82%|█████████████████████████████████████████████████████████████████▋              | 124/151 [01:28<00:19,  1.38it/s]"
     ]
    },
    {
     "name": "stdout",
     "output_type": "stream",
     "text": [
      "ret 2.298985078985627e-05\n",
      "LA.norm(trackline.diffs)>15*np.std(coefnorm): -365.749357043\n",
      "dist_diff 24.3911110718\n"
     ]
    },
    {
     "name": "stderr",
     "output_type": "stream",
     "text": [
      "\r",
      " 83%|██████████████████████████████████████████████████████████████████▏             | 125/151 [01:29<00:18,  1.39it/s]"
     ]
    },
    {
     "name": "stdout",
     "output_type": "stream",
     "text": [
      "ret 0.00012425929845044648\n",
      "LA.norm(trackline.diffs)>15*np.std(coefnorm): -403.849574569\n",
      "dist_diff 2.61295773049\n"
     ]
    },
    {
     "name": "stderr",
     "output_type": "stream",
     "text": [
      "\r",
      " 83%|██████████████████████████████████████████████████████████████████▊             | 126/151 [01:30<00:18,  1.38it/s]"
     ]
    },
    {
     "name": "stdout",
     "output_type": "stream",
     "text": [
      "ret 7.512817062410582e-05\n",
      "LA.norm(trackline.diffs)>15*np.std(coefnorm): -424.385658976\n",
      "dist_diff 9.82264562821\n"
     ]
    },
    {
     "name": "stderr",
     "output_type": "stream",
     "text": [
      "\r",
      " 84%|███████████████████████████████████████████████████████████████████▎            | 127/151 [01:30<00:17,  1.39it/s]"
     ]
    },
    {
     "name": "stdout",
     "output_type": "stream",
     "text": [
      "ret 9.789152251599154e-05\n",
      "LA.norm(trackline.diffs)>15*np.std(coefnorm): -412.554363163\n",
      "dist_diff 14.335458087\n"
     ]
    },
    {
     "name": "stderr",
     "output_type": "stream",
     "text": [
      "\r",
      " 85%|███████████████████████████████████████████████████████████████████▊            | 128/151 [01:31<00:16,  1.38it/s]"
     ]
    },
    {
     "name": "stdout",
     "output_type": "stream",
     "text": [
      "ret 6.896843716153178e-05\n",
      "LA.norm(trackline.diffs)>15*np.std(coefnorm): -406.943007219\n",
      "dist_diff 34.9781177037\n"
     ]
    },
    {
     "name": "stderr",
     "output_type": "stream",
     "text": [
      "\r",
      " 85%|████████████████████████████████████████████████████████████████████▎           | 129/151 [01:32<00:16,  1.37it/s]"
     ]
    },
    {
     "name": "stdout",
     "output_type": "stream",
     "text": [
      "ret 0.0004951499594175734\n",
      "LA.norm(trackline.diffs)>15*np.std(coefnorm): -382.124953513\n",
      "dist_diff 8.55690605188\n"
     ]
    },
    {
     "name": "stderr",
     "output_type": "stream",
     "text": [
      "\r",
      " 86%|████████████████████████████████████████████████████████████████████▊           | 130/151 [01:32<00:15,  1.37it/s]"
     ]
    },
    {
     "name": "stdout",
     "output_type": "stream",
     "text": [
      "ret 0.0006832430529931655\n",
      "LA.norm(trackline.diffs)>15*np.std(coefnorm): -363.03777852\n",
      "dist_diff 4.44743153634\n"
     ]
    },
    {
     "name": "stderr",
     "output_type": "stream",
     "text": [
      "\r",
      " 87%|█████████████████████████████████████████████████████████████████████▍          | 131/151 [01:33<00:14,  1.38it/s]"
     ]
    },
    {
     "name": "stdout",
     "output_type": "stream",
     "text": [
      "ret 0.0002478026588288995\n",
      "LA.norm(trackline.diffs)>15*np.std(coefnorm): -350.475429006\n",
      "dist_diff 4.74333580544\n"
     ]
    },
    {
     "name": "stderr",
     "output_type": "stream",
     "text": [
      "\r",
      " 87%|█████████████████████████████████████████████████████████████████████▉          | 132/151 [01:34<00:13,  1.39it/s]"
     ]
    },
    {
     "name": "stdout",
     "output_type": "stream",
     "text": [
      "ret 6.344046562190009e-06\n",
      "LA.norm(trackline.diffs)>15*np.std(coefnorm): -333.403938829\n",
      "dist_diff 3.29217350341\n"
     ]
    },
    {
     "name": "stderr",
     "output_type": "stream",
     "text": [
      "\r",
      " 88%|██████████████████████████████████████████████████████████████████████▍         | 133/151 [01:35<00:13,  1.38it/s]"
     ]
    },
    {
     "name": "stdout",
     "output_type": "stream",
     "text": [
      "ret 0.00018978665878954804\n",
      "LA.norm(trackline.diffs)>15*np.std(coefnorm): -284.476352278\n",
      "dist_diff 8.63157670437\n"
     ]
    },
    {
     "name": "stderr",
     "output_type": "stream",
     "text": [
      "\r",
      " 89%|██████████████████████████████████████████████████████████████████████▉         | 134/151 [01:35<00:12,  1.39it/s]"
     ]
    },
    {
     "name": "stdout",
     "output_type": "stream",
     "text": [
      "ret 0.00041022330783674343\n",
      "LA.norm(trackline.diffs)>15*np.std(coefnorm): -266.434100994\n",
      "dist_diff 4.75224926693\n"
     ]
    },
    {
     "name": "stderr",
     "output_type": "stream",
     "text": [
      "\r",
      " 89%|███████████████████████████████████████████████████████████████████████▌        | 135/151 [01:36<00:11,  1.39it/s]"
     ]
    },
    {
     "name": "stdout",
     "output_type": "stream",
     "text": [
      "ret 0.00043751854530649226\n",
      "LA.norm(trackline.diffs)>15*np.std(coefnorm): -196.762549773\n",
      "dist_diff 4.92539678096\n"
     ]
    },
    {
     "name": "stderr",
     "output_type": "stream",
     "text": [
      "\r",
      " 90%|████████████████████████████████████████████████████████████████████████        | 136/151 [01:37<00:10,  1.39it/s]"
     ]
    },
    {
     "name": "stdout",
     "output_type": "stream",
     "text": [
      "ret 0.00022581456180831294\n",
      "LA.norm(trackline.diffs)>15*np.std(coefnorm): -164.548351623\n",
      "dist_diff 7.97517713621\n"
     ]
    },
    {
     "name": "stderr",
     "output_type": "stream",
     "text": [
      "\r",
      " 91%|████████████████████████████████████████████████████████████████████████▌       | 137/151 [01:37<00:10,  1.39it/s]"
     ]
    },
    {
     "name": "stdout",
     "output_type": "stream",
     "text": [
      "ret 0.0009589772527091589\n",
      "LA.norm(trackline.diffs)>15*np.std(coefnorm): -151.271928102\n",
      "dist_diff 2.80327970271\n"
     ]
    },
    {
     "name": "stderr",
     "output_type": "stream",
     "text": [
      "\r",
      " 91%|█████████████████████████████████████████████████████████████████████████       | 138/151 [01:38<00:09,  1.39it/s]"
     ]
    },
    {
     "name": "stdout",
     "output_type": "stream",
     "text": [
      "ret 0.00033382097925477305\n",
      "LA.norm(trackline.diffs)>15*np.std(coefnorm): -105.689894764\n",
      "dist_diff 1.09146251904\n"
     ]
    },
    {
     "name": "stderr",
     "output_type": "stream",
     "text": [
      "\r",
      " 92%|█████████████████████████████████████████████████████████████████████████▋      | 139/151 [01:39<00:08,  1.36it/s]"
     ]
    },
    {
     "name": "stdout",
     "output_type": "stream",
     "text": [
      "ret 0.0003758449874670111\n",
      "LA.norm(trackline.diffs)>15*np.std(coefnorm): -68.0499279293\n",
      "dist_diff 2.56734923329\n"
     ]
    },
    {
     "name": "stderr",
     "output_type": "stream",
     "text": [
      "\r",
      " 93%|██████████████████████████████████████████████████████████████████████████▏     | 140/151 [01:40<00:08,  1.32it/s]"
     ]
    },
    {
     "name": "stdout",
     "output_type": "stream",
     "text": [
      "ret 0.00012534947511555483\n",
      "LA.norm(trackline.diffs)>15*np.std(coefnorm): -0.627553683981\n",
      "dist_diff 1.98442857585\n"
     ]
    },
    {
     "name": "stderr",
     "output_type": "stream",
     "text": [
      "\r",
      " 93%|██████████████████████████████████████████████████████████████████████████▋     | 141/151 [01:41<00:07,  1.33it/s]"
     ]
    },
    {
     "name": "stdout",
     "output_type": "stream",
     "text": [
      "ret 5.025762187488292e-05\n",
      "LA.norm(trackline.diffs)>15*np.std(coefnorm): -2.69536555125\n",
      "dist_diff 1.05081392502\n"
     ]
    },
    {
     "name": "stderr",
     "output_type": "stream",
     "text": [
      "\r",
      " 94%|███████████████████████████████████████████████████████████████████████████▏    | 142/151 [01:41<00:06,  1.35it/s]"
     ]
    },
    {
     "name": "stdout",
     "output_type": "stream",
     "text": [
      "ret 2.912488514639211e-06\n",
      "LA.norm(trackline.diffs)>15*np.std(coefnorm): -2.93874991661\n",
      "dist_diff 0.130303486571\n"
     ]
    },
    {
     "name": "stderr",
     "output_type": "stream",
     "text": [
      "\r",
      " 95%|███████████████████████████████████████████████████████████████████████████▊    | 143/151 [01:42<00:05,  1.36it/s]"
     ]
    },
    {
     "name": "stdout",
     "output_type": "stream",
     "text": [
      "ret 0.00011382209220106576\n",
      "LA.norm(trackline.diffs)>15*np.std(coefnorm): -23.4303510837\n",
      "dist_diff 1.72713820215\n"
     ]
    },
    {
     "name": "stderr",
     "output_type": "stream",
     "text": [
      "\r",
      " 95%|████████████████████████████████████████████████████████████████████████████▎   | 144/151 [01:43<00:05,  1.36it/s]"
     ]
    },
    {
     "name": "stdout",
     "output_type": "stream",
     "text": [
      "ret 7.02166089526779e-05\n",
      "LA.norm(trackline.diffs)>15*np.std(coefnorm): -35.6168073374\n",
      "dist_diff 0.852699201661\n"
     ]
    },
    {
     "name": "stderr",
     "output_type": "stream",
     "text": [
      "\r",
      " 96%|████████████████████████████████████████████████████████████████████████████▊   | 145/151 [01:43<00:04,  1.36it/s]"
     ]
    },
    {
     "name": "stdout",
     "output_type": "stream",
     "text": [
      "ret 2.1441177106007459e-07\n",
      "LA.norm(trackline.diffs)>15*np.std(coefnorm): -33.017288171\n",
      "dist_diff 1.70078250228\n"
     ]
    },
    {
     "name": "stderr",
     "output_type": "stream",
     "text": [
      "\r",
      " 97%|█████████████████████████████████████████████████████████████████████████████▎  | 146/151 [01:44<00:03,  1.33it/s]"
     ]
    },
    {
     "name": "stdout",
     "output_type": "stream",
     "text": [
      "ret 0.00013877213444085656\n",
      "LA.norm(trackline.diffs)>15*np.std(coefnorm): -87.0514142303\n",
      "dist_diff 17.327919305\n"
     ]
    },
    {
     "name": "stderr",
     "output_type": "stream",
     "text": [
      "\r",
      " 97%|█████████████████████████████████████████████████████████████████████████████▉  | 147/151 [01:45<00:03,  1.33it/s]"
     ]
    },
    {
     "name": "stdout",
     "output_type": "stream",
     "text": [
      "ret 0.0001550231453012474\n",
      "LA.norm(trackline.diffs)>15*np.std(coefnorm): -75.622594494\n",
      "dist_diff 4.50120191568\n"
     ]
    },
    {
     "name": "stderr",
     "output_type": "stream",
     "text": [
      "\r",
      " 98%|██████████████████████████████████████████████████████████████████████████████▍ | 148/151 [01:46<00:02,  1.35it/s]"
     ]
    },
    {
     "name": "stdout",
     "output_type": "stream",
     "text": [
      "ret 1.5020886587446824e-05\n",
      "LA.norm(trackline.diffs)>15*np.std(coefnorm): -92.421738257\n",
      "dist_diff 6.75068107071\n"
     ]
    },
    {
     "name": "stderr",
     "output_type": "stream",
     "text": [
      "\r",
      " 99%|██████████████████████████████████████████████████████████████████████████████▉ | 149/151 [01:46<00:01,  1.34it/s]"
     ]
    },
    {
     "name": "stdout",
     "output_type": "stream",
     "text": [
      "ret 3.955061685728678e-05\n",
      "LA.norm(trackline.diffs)>15*np.std(coefnorm): -95.4540185501\n",
      "dist_diff 6.71409121666\n"
     ]
    },
    {
     "name": "stderr",
     "output_type": "stream",
     "text": [
      " 99%|███████████████████████████████████████████████████████████████████████████████▍| 150/151 [01:47<00:00,  1.32it/s]\n"
     ]
    },
    {
     "name": "stdout",
     "output_type": "stream",
     "text": [
      "[MoviePy] Done.\n",
      "[MoviePy] >>>> Video ready: C:/Users/Yi Zhu/Desktop/self-driving_car/CarND-Advanced-Lane-Lines-master/CarND-Advanced-Lane-Lines-master/project_video_out_tryy.mp4 \n",
      "\n",
      "Wall time: 1min 48s\n"
     ]
    }
   ],
   "source": [
    "import imageio\n",
    "imageio.plugins.ffmpeg.download()\n",
    "from moviepy.editor import VideoFileClip\n",
    "from IPython.display import HTML\n",
    "trackline=Line()\n",
    "white_output = 'C:/Users/Yi Zhu/Desktop/self-driving_car/CarND-Advanced-Lane-Lines-master/CarND-Advanced-Lane-Lines-master/project_video_out_tryy.mp4'\n",
    "clip1 = VideoFileClip('C:/Users/Yi Zhu/Desktop/self-driving_car/CarND-Advanced-Lane-Lines-master/CarND-Advanced-Lane-Lines-master/project_video.mp4').subclip(37,43)\n",
    "white_clip = clip1.fl_image(add_lane) #NOTE: this function expects color images!!\n",
    "%time white_clip.write_videofile(white_output, audio=False) "
   ]
  },
  {
   "cell_type": "markdown",
   "metadata": {},
   "source": [
    "## Try the add_lane method on video stream"
   ]
  },
  {
   "cell_type": "code",
   "execution_count": 21,
   "metadata": {
    "collapsed": true
   },
   "outputs": [],
   "source": [
    "\n",
    "import imageio\n",
    "imageio.plugins.ffmpeg.download()\n",
    "from moviepy.editor import VideoFileClip\n",
    "from IPython.display import HTML\n",
    "trackline=Line()\n",
    "white_output = 'C:/Users/Yi Zhu/Desktop/self-driving_car/CarND-Advanced-Lane-Lines-master/CarND-Advanced-Lane-Lines-master/project_video_out.mp4'\n",
    "clip1 = VideoFileClip('C:/Users/Yi Zhu/Desktop/self-driving_car/CarND-Advanced-Lane-Lines-master/CarND-Advanced-Lane-Lines-master/project_video.mp4')"
   ]
  },
  {
   "cell_type": "code",
   "execution_count": 22,
   "metadata": {
    "scrolled": true
   },
   "outputs": [
    {
     "name": "stdout",
     "output_type": "stream",
     "text": [
      "[MoviePy] >>>> Building video C:/Users/Yi Zhu/Desktop/self-driving_car/CarND-Advanced-Lane-Lines-master/CarND-Advanced-Lane-Lines-master/project_video_out.mp4\n",
      "[MoviePy] Writing video C:/Users/Yi Zhu/Desktop/self-driving_car/CarND-Advanced-Lane-Lines-master/CarND-Advanced-Lane-Lines-master/project_video_out.mp4\n"
     ]
    },
    {
     "name": "stderr",
     "output_type": "stream",
     "text": [
      "  1%|▌                                                                                | 9/1261 [00:06<14:23,  1.45it/s]"
     ]
    },
    {
     "name": "stdout",
     "output_type": "stream",
     "text": [
      "ret 2.320864587601612e-05\n",
      "LA.norm(trackline.diffs)>15*np.std(coefnorm): -191.962638656\n",
      "dist_diff 3.17369815241\n"
     ]
    },
    {
     "name": "stderr",
     "output_type": "stream",
     "text": [
      "\r",
      "  1%|▋                                                                               | 10/1261 [00:06<14:28,  1.44it/s]"
     ]
    },
    {
     "name": "stdout",
     "output_type": "stream",
     "text": [
      "ret 0.00015016572755671698\n",
      "LA.norm(trackline.diffs)>15*np.std(coefnorm): -209.226638326\n",
      "dist_diff 6.35166405029\n"
     ]
    },
    {
     "name": "stderr",
     "output_type": "stream",
     "text": [
      "\r",
      "  1%|▋                                                                               | 11/1261 [00:07<14:34,  1.43it/s]"
     ]
    },
    {
     "name": "stdout",
     "output_type": "stream",
     "text": [
      "ret 0.00033594075481602204\n",
      "LA.norm(trackline.diffs)>15*np.std(coefnorm): -227.331467442\n",
      "dist_diff 3.40017448942\n"
     ]
    },
    {
     "name": "stderr",
     "output_type": "stream",
     "text": [
      "\r",
      "  1%|▊                                                                               | 12/1261 [00:08<14:41,  1.42it/s]"
     ]
    },
    {
     "name": "stdout",
     "output_type": "stream",
     "text": [
      "ret 0.00018248228065331773\n",
      "LA.norm(trackline.diffs)>15*np.std(coefnorm): -192.970226062\n",
      "dist_diff 6.60608528166\n"
     ]
    },
    {
     "name": "stderr",
     "output_type": "stream",
     "text": [
      "\r",
      "  1%|▊                                                                               | 13/1261 [00:09<14:42,  1.41it/s]"
     ]
    },
    {
     "name": "stdout",
     "output_type": "stream",
     "text": [
      "ret 5.064433712920202e-05\n",
      "LA.norm(trackline.diffs)>15*np.std(coefnorm): -158.248615922\n",
      "dist_diff 4.35819585061\n"
     ]
    },
    {
     "name": "stderr",
     "output_type": "stream",
     "text": [
      "\r",
      "  1%|▉                                                                               | 14/1261 [00:09<14:48,  1.40it/s]"
     ]
    },
    {
     "name": "stdout",
     "output_type": "stream",
     "text": [
      "ret 0.0002796755072430046\n",
      "LA.norm(trackline.diffs)>15*np.std(coefnorm): -132.219959694\n",
      "dist_diff 2.05630134862\n"
     ]
    },
    {
     "name": "stderr",
     "output_type": "stream",
     "text": [
      "\r",
      "  1%|▉                                                                               | 15/1261 [00:10<14:48,  1.40it/s]"
     ]
    },
    {
     "name": "stdout",
     "output_type": "stream",
     "text": [
      "ret 0.00014827964952579542\n",
      "LA.norm(trackline.diffs)>15*np.std(coefnorm): -118.272688193\n",
      "dist_diff 8.5633466145\n"
     ]
    },
    {
     "name": "stderr",
     "output_type": "stream",
     "text": [
      "\r",
      "  1%|█                                                                               | 16/1261 [00:11<14:54,  1.39it/s]"
     ]
    },
    {
     "name": "stdout",
     "output_type": "stream",
     "text": [
      "ret 0.0002164522774569244\n",
      "LA.norm(trackline.diffs)>15*np.std(coefnorm): -116.894699399\n",
      "dist_diff 0.34230972981\n"
     ]
    },
    {
     "name": "stderr",
     "output_type": "stream",
     "text": [
      "\r",
      "  1%|█                                                                               | 17/1261 [00:11<14:53,  1.39it/s]"
     ]
    },
    {
     "name": "stdout",
     "output_type": "stream",
     "text": [
      "ret 6.676931537075159e-05\n",
      "LA.norm(trackline.diffs)>15*np.std(coefnorm): -183.166805357\n",
      "dist_diff 1.22428582261\n"
     ]
    },
    {
     "name": "stderr",
     "output_type": "stream",
     "text": [
      "\r",
      "  1%|█▏                                                                              | 18/1261 [00:12<14:54,  1.39it/s]"
     ]
    },
    {
     "name": "stdout",
     "output_type": "stream",
     "text": [
      "ret 0.0002189832448746265\n",
      "LA.norm(trackline.diffs)>15*np.std(coefnorm): -223.898534794\n",
      "dist_diff 0.447231977656\n"
     ]
    },
    {
     "name": "stderr",
     "output_type": "stream",
     "text": [
      "\r",
      "  2%|█▏                                                                              | 19/1261 [00:13<14:50,  1.40it/s]"
     ]
    },
    {
     "name": "stdout",
     "output_type": "stream",
     "text": [
      "ret 0.00020859851154869657\n",
      "LA.norm(trackline.diffs)>15*np.std(coefnorm): -246.604133435\n",
      "dist_diff 3.52275397752\n"
     ]
    },
    {
     "name": "stderr",
     "output_type": "stream",
     "text": [
      "\r",
      "  2%|█▎                                                                              | 20/1261 [00:14<14:48,  1.40it/s]"
     ]
    },
    {
     "name": "stdout",
     "output_type": "stream",
     "text": [
      "ret 0.00021897872874337976\n",
      "LA.norm(trackline.diffs)>15*np.std(coefnorm): -241.421508419\n",
      "dist_diff 3.30716955539\n"
     ]
    },
    {
     "name": "stderr",
     "output_type": "stream",
     "text": [
      "\r",
      "  2%|█▎                                                                              | 21/1261 [00:14<14:50,  1.39it/s]"
     ]
    },
    {
     "name": "stdout",
     "output_type": "stream",
     "text": [
      "ret 0.0001840976212261758\n",
      "LA.norm(trackline.diffs)>15*np.std(coefnorm): -231.08225288\n",
      "dist_diff 4.70390934844\n"
     ]
    },
    {
     "name": "stderr",
     "output_type": "stream",
     "text": [
      "\r",
      "  2%|█▍                                                                              | 22/1261 [00:15<14:49,  1.39it/s]"
     ]
    },
    {
     "name": "stdout",
     "output_type": "stream",
     "text": [
      "ret 0.00018793301281061492\n",
      "LA.norm(trackline.diffs)>15*np.std(coefnorm): -234.379740575\n",
      "dist_diff 4.91844402312\n"
     ]
    },
    {
     "name": "stderr",
     "output_type": "stream",
     "text": [
      "\r",
      "  2%|█▍                                                                              | 23/1261 [00:16<14:49,  1.39it/s]"
     ]
    },
    {
     "name": "stdout",
     "output_type": "stream",
     "text": [
      "ret 7.181745884443647e-05\n",
      "LA.norm(trackline.diffs)>15*np.std(coefnorm): -233.680490226\n",
      "dist_diff 0.691504990256\n"
     ]
    },
    {
     "name": "stderr",
     "output_type": "stream",
     "text": [
      "\r",
      "  2%|█▌                                                                              | 24/1261 [00:17<14:54,  1.38it/s]"
     ]
    },
    {
     "name": "stdout",
     "output_type": "stream",
     "text": [
      "ret 0.0002452761417107152\n",
      "LA.norm(trackline.diffs)>15*np.std(coefnorm): -215.728145841\n",
      "dist_diff 16.0921577802\n"
     ]
    },
    {
     "name": "stderr",
     "output_type": "stream",
     "text": [
      "\r",
      "  2%|█▌                                                                              | 25/1261 [00:17<14:48,  1.39it/s]"
     ]
    },
    {
     "name": "stdout",
     "output_type": "stream",
     "text": [
      "ret 9.320040163018906e-06\n",
      "LA.norm(trackline.diffs)>15*np.std(coefnorm): -203.239138899\n",
      "dist_diff 1.28099489975\n"
     ]
    },
    {
     "name": "stderr",
     "output_type": "stream",
     "text": [
      "\r",
      "  2%|█▋                                                                              | 26/1261 [00:18<14:43,  1.40it/s]"
     ]
    },
    {
     "name": "stdout",
     "output_type": "stream",
     "text": [
      "ret 7.458460913528642e-05\n",
      "LA.norm(trackline.diffs)>15*np.std(coefnorm): -182.146144945\n",
      "dist_diff 8.40608112934\n"
     ]
    },
    {
     "name": "stderr",
     "output_type": "stream",
     "text": [
      "\r",
      "  2%|█▋                                                                              | 27/1261 [00:19<14:40,  1.40it/s]"
     ]
    },
    {
     "name": "stdout",
     "output_type": "stream",
     "text": [
      "ret 0.0001779602322313778\n",
      "LA.norm(trackline.diffs)>15*np.std(coefnorm): -160.798080661\n",
      "dist_diff 2.88588760519\n"
     ]
    },
    {
     "name": "stderr",
     "output_type": "stream",
     "text": [
      "\r",
      "  2%|█▊                                                                              | 28/1261 [00:19<14:39,  1.40it/s]"
     ]
    },
    {
     "name": "stdout",
     "output_type": "stream",
     "text": [
      "ret 0.00022516931796257023\n",
      "LA.norm(trackline.diffs)>15*np.std(coefnorm): -237.568258839\n",
      "dist_diff 8.68555916425\n"
     ]
    },
    {
     "name": "stderr",
     "output_type": "stream",
     "text": [
      "\r",
      "  2%|█▊                                                                              | 29/1261 [00:20<14:35,  1.41it/s]"
     ]
    },
    {
     "name": "stdout",
     "output_type": "stream",
     "text": [
      "ret 0.0003533789857950165\n",
      "LA.norm(trackline.diffs)>15*np.std(coefnorm): -247.6402588\n",
      "dist_diff 2.04654078904\n"
     ]
    },
    {
     "name": "stderr",
     "output_type": "stream",
     "text": [
      "\r",
      "  2%|█▉                                                                              | 30/1261 [00:21<14:34,  1.41it/s]"
     ]
    },
    {
     "name": "stdout",
     "output_type": "stream",
     "text": [
      "ret 0.0001155658629021783\n",
      "LA.norm(trackline.diffs)>15*np.std(coefnorm): -262.538518541\n",
      "dist_diff 6.38650045772\n"
     ]
    },
    {
     "name": "stderr",
     "output_type": "stream",
     "text": [
      "\r",
      "  2%|█▉                                                                              | 31/1261 [00:21<14:34,  1.41it/s]"
     ]
    },
    {
     "name": "stdout",
     "output_type": "stream",
     "text": [
      "ret 0.00026504070784422185\n",
      "LA.norm(trackline.diffs)>15*np.std(coefnorm): -198.651626482\n",
      "dist_diff 1.02107778992\n"
     ]
    },
    {
     "name": "stderr",
     "output_type": "stream",
     "text": [
      "\r",
      "  3%|██                                                                              | 32/1261 [00:22<14:36,  1.40it/s]"
     ]
    },
    {
     "name": "stdout",
     "output_type": "stream",
     "text": [
      "ret 0.0001343785076362014\n",
      "LA.norm(trackline.diffs)>15*np.std(coefnorm): -201.825247485\n",
      "dist_diff 5.68036982301\n"
     ]
    },
    {
     "name": "stderr",
     "output_type": "stream",
     "text": [
      "\r",
      "  3%|██                                                                              | 33/1261 [00:23<14:37,  1.40it/s]"
     ]
    },
    {
     "name": "stdout",
     "output_type": "stream",
     "text": [
      "ret 4.078378406319194e-05\n",
      "LA.norm(trackline.diffs)>15*np.std(coefnorm): -152.020789204\n",
      "dist_diff 25.344805979\n"
     ]
    },
    {
     "name": "stderr",
     "output_type": "stream",
     "text": [
      "\r",
      "  3%|██▏                                                                             | 34/1261 [00:24<14:34,  1.40it/s]"
     ]
    },
    {
     "name": "stdout",
     "output_type": "stream",
     "text": [
      "ret 0.00018011233006370864\n",
      "LA.norm(trackline.diffs)>15*np.std(coefnorm): -145.082787769\n",
      "dist_diff 1.13056137322\n"
     ]
    },
    {
     "name": "stderr",
     "output_type": "stream",
     "text": [
      "\r",
      "  3%|██▏                                                                             | 35/1261 [00:24<14:42,  1.39it/s]"
     ]
    },
    {
     "name": "stdout",
     "output_type": "stream",
     "text": [
      "ret 0.00031626784697252885\n",
      "LA.norm(trackline.diffs)>15*np.std(coefnorm): -235.007481025\n",
      "dist_diff 10.5996172163\n"
     ]
    },
    {
     "name": "stderr",
     "output_type": "stream",
     "text": [
      "\r",
      "  3%|██▎                                                                             | 36/1261 [00:25<14:39,  1.39it/s]"
     ]
    },
    {
     "name": "stdout",
     "output_type": "stream",
     "text": [
      "ret 0.00048349493128219123\n",
      "LA.norm(trackline.diffs)>15*np.std(coefnorm): -232.006943865\n",
      "dist_diff 3.2025688547\n"
     ]
    },
    {
     "name": "stderr",
     "output_type": "stream",
     "text": [
      "\r",
      "  3%|██▎                                                                             | 37/1261 [00:26<14:34,  1.40it/s]"
     ]
    },
    {
     "name": "stdout",
     "output_type": "stream",
     "text": [
      "ret 0.00018336903908167113\n",
      "LA.norm(trackline.diffs)>15*np.std(coefnorm): -312.447719309\n",
      "dist_diff 4.48419294408\n"
     ]
    },
    {
     "name": "stderr",
     "output_type": "stream",
     "text": [
      "\r",
      "  3%|██▍                                                                             | 38/1261 [00:26<14:29,  1.41it/s]"
     ]
    },
    {
     "name": "stdout",
     "output_type": "stream",
     "text": [
      "ret 0.0002132265963464275\n",
      "LA.norm(trackline.diffs)>15*np.std(coefnorm): -340.534293716\n",
      "dist_diff 7.61419872157\n"
     ]
    },
    {
     "name": "stderr",
     "output_type": "stream",
     "text": [
      "\r",
      "  3%|██▍                                                                             | 39/1261 [00:27<14:27,  1.41it/s]"
     ]
    },
    {
     "name": "stdout",
     "output_type": "stream",
     "text": [
      "ret 8.614373567567002e-05\n",
      "LA.norm(trackline.diffs)>15*np.std(coefnorm): -414.155585438\n",
      "dist_diff 3.72679918438\n"
     ]
    },
    {
     "name": "stderr",
     "output_type": "stream",
     "text": [
      "\r",
      "  3%|██▌                                                                             | 40/1261 [00:28<14:25,  1.41it/s]"
     ]
    },
    {
     "name": "stdout",
     "output_type": "stream",
     "text": [
      "ret 2.9683111005263108e-05\n",
      "LA.norm(trackline.diffs)>15*np.std(coefnorm): -449.388009123\n",
      "dist_diff 1.3474010851\n"
     ]
    },
    {
     "name": "stderr",
     "output_type": "stream",
     "text": [
      "\r",
      "  3%|██▌                                                                             | 41/1261 [00:29<14:23,  1.41it/s]"
     ]
    },
    {
     "name": "stdout",
     "output_type": "stream",
     "text": [
      "ret 3.9688709685958834e-05\n",
      "LA.norm(trackline.diffs)>15*np.std(coefnorm): -411.804498674\n",
      "dist_diff 0.651296489636\n"
     ]
    },
    {
     "name": "stderr",
     "output_type": "stream",
     "text": [
      "\r",
      "  3%|██▋                                                                             | 42/1261 [00:29<14:39,  1.39it/s]"
     ]
    },
    {
     "name": "stdout",
     "output_type": "stream",
     "text": [
      "ret 0.00012724167275213194\n",
      "LA.norm(trackline.diffs)>15*np.std(coefnorm): -354.415129372\n",
      "dist_diff 1.59144787355\n"
     ]
    },
    {
     "name": "stderr",
     "output_type": "stream",
     "text": [
      "\r",
      "  3%|██▋                                                                             | 43/1261 [00:30<14:40,  1.38it/s]"
     ]
    },
    {
     "name": "stdout",
     "output_type": "stream",
     "text": [
      "ret 0.00020135691732348082\n",
      "LA.norm(trackline.diffs)>15*np.std(coefnorm): -297.762178619\n",
      "dist_diff 1.527774689\n"
     ]
    },
    {
     "name": "stderr",
     "output_type": "stream",
     "text": [
      "\r",
      "  3%|██▊                                                                             | 44/1261 [00:31<14:48,  1.37it/s]"
     ]
    },
    {
     "name": "stdout",
     "output_type": "stream",
     "text": [
      "ret 7.252499023341352e-05\n",
      "LA.norm(trackline.diffs)>15*np.std(coefnorm): -256.927397838\n",
      "dist_diff 3.39177116015\n"
     ]
    },
    {
     "name": "stderr",
     "output_type": "stream",
     "text": [
      "\r",
      "  4%|██▊                                                                             | 45/1261 [00:32<14:41,  1.38it/s]"
     ]
    },
    {
     "name": "stdout",
     "output_type": "stream",
     "text": [
      "ret 8.930818999891565e-05\n",
      "LA.norm(trackline.diffs)>15*np.std(coefnorm): -174.985586911\n",
      "dist_diff 4.85624025443\n"
     ]
    },
    {
     "name": "stderr",
     "output_type": "stream",
     "text": [
      "\r",
      "  4%|██▉                                                                             | 46/1261 [00:32<14:36,  1.39it/s]"
     ]
    },
    {
     "name": "stdout",
     "output_type": "stream",
     "text": [
      "ret 0.00012623063767552845\n",
      "LA.norm(trackline.diffs)>15*np.std(coefnorm): -211.705188398\n",
      "dist_diff 9.76482033676\n"
     ]
    },
    {
     "name": "stderr",
     "output_type": "stream",
     "text": [
      "\r",
      "  4%|██▉                                                                             | 47/1261 [00:33<14:31,  1.39it/s]"
     ]
    },
    {
     "name": "stdout",
     "output_type": "stream",
     "text": [
      "ret 7.481037719087036e-05\n",
      "LA.norm(trackline.diffs)>15*np.std(coefnorm): -221.486953908\n",
      "dist_diff 8.12200531624\n"
     ]
    },
    {
     "name": "stderr",
     "output_type": "stream",
     "text": [
      "\r",
      "  4%|███                                                                             | 48/1261 [00:34<15:11,  1.33it/s]"
     ]
    },
    {
     "name": "stdout",
     "output_type": "stream",
     "text": [
      "ret 0.0001931084315995868\n",
      "LA.norm(trackline.diffs)>15*np.std(coefnorm): -217.192921889\n",
      "dist_diff 5.3859199936\n"
     ]
    },
    {
     "name": "stderr",
     "output_type": "stream",
     "text": [
      "\r",
      "  4%|███                                                                             | 49/1261 [00:35<14:57,  1.35it/s]"
     ]
    },
    {
     "name": "stdout",
     "output_type": "stream",
     "text": [
      "ret 9.915542970945213e-05\n",
      "LA.norm(trackline.diffs)>15*np.std(coefnorm): -220.420448227\n",
      "dist_diff 4.69773184813\n"
     ]
    },
    {
     "name": "stderr",
     "output_type": "stream",
     "text": [
      "\r",
      "  4%|███▏                                                                            | 50/1261 [00:35<15:14,  1.32it/s]"
     ]
    },
    {
     "name": "stdout",
     "output_type": "stream",
     "text": [
      "ret 7.825226326024781e-05\n",
      "LA.norm(trackline.diffs)>15*np.std(coefnorm): -220.015601425\n",
      "dist_diff 5.63898598491\n"
     ]
    },
    {
     "name": "stderr",
     "output_type": "stream",
     "text": [
      "\r",
      "  4%|███▏                                                                            | 51/1261 [00:36<15:01,  1.34it/s]"
     ]
    },
    {
     "name": "stdout",
     "output_type": "stream",
     "text": [
      "ret 0.00018494807976565664\n",
      "LA.norm(trackline.diffs)>15*np.std(coefnorm): -211.810289959\n",
      "dist_diff 3.99497074943\n"
     ]
    },
    {
     "name": "stderr",
     "output_type": "stream",
     "text": [
      "\r",
      "  4%|███▎                                                                            | 52/1261 [00:37<14:52,  1.36it/s]"
     ]
    },
    {
     "name": "stdout",
     "output_type": "stream",
     "text": [
      "ret 3.775433844022125e-05\n",
      "LA.norm(trackline.diffs)>15*np.std(coefnorm): -183.647179124\n",
      "dist_diff 3.08775960908\n"
     ]
    },
    {
     "name": "stderr",
     "output_type": "stream",
     "text": [
      "\r",
      "  4%|███▎                                                                            | 53/1261 [00:37<14:38,  1.37it/s]"
     ]
    },
    {
     "name": "stdout",
     "output_type": "stream",
     "text": [
      "ret 9.558083459942912e-05\n",
      "LA.norm(trackline.diffs)>15*np.std(coefnorm): -131.320416238\n",
      "dist_diff 3.13931639902\n"
     ]
    },
    {
     "name": "stderr",
     "output_type": "stream",
     "text": [
      "\r",
      "  4%|███▍                                                                            | 54/1261 [00:38<14:29,  1.39it/s]"
     ]
    },
    {
     "name": "stdout",
     "output_type": "stream",
     "text": [
      "ret 8.256077258600447e-05\n",
      "LA.norm(trackline.diffs)>15*np.std(coefnorm): -132.781836341\n",
      "dist_diff 0.100814587689\n"
     ]
    },
    {
     "name": "stderr",
     "output_type": "stream",
     "text": [
      "\r",
      "  4%|███▍                                                                            | 55/1261 [00:39<14:22,  1.40it/s]"
     ]
    },
    {
     "name": "stdout",
     "output_type": "stream",
     "text": [
      "ret 0.00016311768953125583\n",
      "LA.norm(trackline.diffs)>15*np.std(coefnorm): -151.200345476\n",
      "dist_diff 2.19599974099\n"
     ]
    },
    {
     "name": "stderr",
     "output_type": "stream",
     "text": [
      "\r",
      "  4%|███▌                                                                            | 56/1261 [00:40<14:19,  1.40it/s]"
     ]
    },
    {
     "name": "stdout",
     "output_type": "stream",
     "text": [
      "ret 1.8350681817547176e-05\n",
      "LA.norm(trackline.diffs)>15*np.std(coefnorm): -144.330517739\n",
      "dist_diff 5.41301683019\n"
     ]
    },
    {
     "name": "stderr",
     "output_type": "stream",
     "text": [
      "\r",
      "  5%|███▌                                                                            | 57/1261 [00:40<14:11,  1.41it/s]"
     ]
    },
    {
     "name": "stdout",
     "output_type": "stream",
     "text": [
      "ret 2.3608102691752286e-05\n",
      "LA.norm(trackline.diffs)>15*np.std(coefnorm): -125.582936431\n",
      "dist_diff 3.05616165233\n"
     ]
    },
    {
     "name": "stderr",
     "output_type": "stream",
     "text": [
      "\r",
      "  5%|███▋                                                                            | 58/1261 [00:41<14:08,  1.42it/s]"
     ]
    },
    {
     "name": "stdout",
     "output_type": "stream",
     "text": [
      "ret 0.0002309450036862004\n",
      "LA.norm(trackline.diffs)>15*np.std(coefnorm): -71.9979165158\n",
      "dist_diff 8.38762522712\n"
     ]
    },
    {
     "name": "stderr",
     "output_type": "stream",
     "text": [
      "\r",
      "  5%|███▋                                                                            | 59/1261 [00:42<14:07,  1.42it/s]"
     ]
    },
    {
     "name": "stdout",
     "output_type": "stream",
     "text": [
      "ret 0.0005232529605252445\n",
      "LA.norm(trackline.diffs)>15*np.std(coefnorm): -68.1427212483\n",
      "dist_diff 10.0680110104\n"
     ]
    },
    {
     "name": "stderr",
     "output_type": "stream",
     "text": [
      "\r",
      "  5%|███▊                                                                            | 60/1261 [00:42<14:08,  1.42it/s]"
     ]
    },
    {
     "name": "stdout",
     "output_type": "stream",
     "text": [
      "ret 0.0007084592755112751\n",
      "LA.norm(trackline.diffs)>15*np.std(coefnorm): -69.6554527797\n",
      "dist_diff 8.5845009212\n"
     ]
    },
    {
     "name": "stderr",
     "output_type": "stream",
     "text": [
      "\r",
      "  5%|███▊                                                                            | 61/1261 [00:43<14:06,  1.42it/s]"
     ]
    },
    {
     "name": "stdout",
     "output_type": "stream",
     "text": [
      "ret 0.0007716807031102335\n",
      "LA.norm(trackline.diffs)>15*np.std(coefnorm): -53.7195921365\n",
      "dist_diff 6.85170387604\n"
     ]
    },
    {
     "name": "stderr",
     "output_type": "stream",
     "text": [
      "\r",
      "  5%|███▉                                                                            | 62/1261 [00:44<14:08,  1.41it/s]"
     ]
    },
    {
     "name": "stdout",
     "output_type": "stream",
     "text": [
      "ret 0.00030655391670220133\n",
      "LA.norm(trackline.diffs)>15*np.std(coefnorm): -187.692535515\n",
      "dist_diff 1.15839097919\n"
     ]
    },
    {
     "name": "stderr",
     "output_type": "stream",
     "text": [
      "\r",
      "  5%|███▉                                                                            | 63/1261 [00:45<14:09,  1.41it/s]"
     ]
    },
    {
     "name": "stdout",
     "output_type": "stream",
     "text": [
      "ret 2.963939097766488e-05\n",
      "LA.norm(trackline.diffs)>15*np.std(coefnorm): -205.972395595\n",
      "dist_diff 4.86510705211\n"
     ]
    },
    {
     "name": "stderr",
     "output_type": "stream",
     "text": [
      "\r",
      "  5%|████                                                                            | 64/1261 [00:45<14:06,  1.41it/s]"
     ]
    },
    {
     "name": "stdout",
     "output_type": "stream",
     "text": [
      "ret 0.00023967602406255173\n",
      "LA.norm(trackline.diffs)>15*np.std(coefnorm): -237.972685484\n",
      "dist_diff 1.24877027036\n"
     ]
    },
    {
     "name": "stderr",
     "output_type": "stream",
     "text": [
      "\r",
      "  5%|████                                                                            | 65/1261 [00:46<14:09,  1.41it/s]"
     ]
    },
    {
     "name": "stdout",
     "output_type": "stream",
     "text": [
      "ret 1.9033435722459746e-05\n",
      "LA.norm(trackline.diffs)>15*np.std(coefnorm): -229.093271355\n",
      "dist_diff 1.55728961606\n"
     ]
    },
    {
     "name": "stderr",
     "output_type": "stream",
     "text": [
      "\r",
      "  5%|████▏                                                                           | 66/1261 [00:47<14:09,  1.41it/s]"
     ]
    },
    {
     "name": "stdout",
     "output_type": "stream",
     "text": [
      "ret 0.0001652682959533136\n",
      "LA.norm(trackline.diffs)>15*np.std(coefnorm): -225.920908165\n",
      "dist_diff 3.70305424795\n"
     ]
    },
    {
     "name": "stderr",
     "output_type": "stream",
     "text": [
      "\r",
      "  5%|████▎                                                                           | 67/1261 [00:47<14:13,  1.40it/s]"
     ]
    },
    {
     "name": "stdout",
     "output_type": "stream",
     "text": [
      "ret 0.0001951273990141167\n",
      "LA.norm(trackline.diffs)>15*np.std(coefnorm): -227.470694674\n",
      "dist_diff 1.92502719336\n"
     ]
    },
    {
     "name": "stderr",
     "output_type": "stream",
     "text": [
      "\r",
      "  5%|████▎                                                                           | 68/1261 [00:48<14:10,  1.40it/s]"
     ]
    },
    {
     "name": "stdout",
     "output_type": "stream",
     "text": [
      "ret 6.248188037188962e-05\n",
      "LA.norm(trackline.diffs)>15*np.std(coefnorm): -214.517908761\n",
      "dist_diff 9.32255038659\n"
     ]
    },
    {
     "name": "stderr",
     "output_type": "stream",
     "text": [
      "\r",
      "  5%|████▍                                                                           | 69/1261 [00:49<14:10,  1.40it/s]"
     ]
    },
    {
     "name": "stdout",
     "output_type": "stream",
     "text": [
      "ret 0.0002685089094045523\n",
      "LA.norm(trackline.diffs)>15*np.std(coefnorm): -225.556985726\n",
      "dist_diff 8.95797655747\n"
     ]
    },
    {
     "name": "stderr",
     "output_type": "stream",
     "text": [
      "\r",
      "  6%|████▍                                                                           | 70/1261 [00:50<14:18,  1.39it/s]"
     ]
    },
    {
     "name": "stdout",
     "output_type": "stream",
     "text": [
      "ret 0.0002919816620970961\n",
      "LA.norm(trackline.diffs)>15*np.std(coefnorm): -222.139902915\n",
      "dist_diff 5.70252973562\n"
     ]
    },
    {
     "name": "stderr",
     "output_type": "stream",
     "text": [
      "\r",
      "  6%|████▌                                                                           | 71/1261 [00:50<14:16,  1.39it/s]"
     ]
    },
    {
     "name": "stdout",
     "output_type": "stream",
     "text": [
      "ret 0.00013389646874029104\n",
      "LA.norm(trackline.diffs)>15*np.std(coefnorm): -208.334402051\n",
      "dist_diff 3.02851052452\n"
     ]
    },
    {
     "name": "stderr",
     "output_type": "stream",
     "text": [
      "\r",
      "  6%|████▌                                                                           | 72/1261 [00:51<14:15,  1.39it/s]"
     ]
    },
    {
     "name": "stdout",
     "output_type": "stream",
     "text": [
      "ret 1.0815651060369635e-05\n",
      "LA.norm(trackline.diffs)>15*np.std(coefnorm): -152.063593276\n",
      "dist_diff 9.10060748164\n"
     ]
    },
    {
     "name": "stderr",
     "output_type": "stream",
     "text": [
      "\r",
      "  6%|████▋                                                                           | 73/1261 [00:52<14:10,  1.40it/s]"
     ]
    },
    {
     "name": "stdout",
     "output_type": "stream",
     "text": [
      "ret 0.00011476637515955845\n",
      "LA.norm(trackline.diffs)>15*np.std(coefnorm): -150.694701331\n",
      "dist_diff 7.91125953713\n"
     ]
    },
    {
     "name": "stderr",
     "output_type": "stream",
     "text": [
      "\r",
      "  6%|████▋                                                                           | 74/1261 [00:52<14:05,  1.40it/s]"
     ]
    },
    {
     "name": "stdout",
     "output_type": "stream",
     "text": [
      "ret 0.00011049187800271643\n",
      "LA.norm(trackline.diffs)>15*np.std(coefnorm): -117.969284037\n",
      "dist_diff 3.83355332858\n"
     ]
    },
    {
     "name": "stderr",
     "output_type": "stream",
     "text": [
      "\r",
      "  6%|████▊                                                                           | 75/1261 [00:53<14:03,  1.41it/s]"
     ]
    },
    {
     "name": "stdout",
     "output_type": "stream",
     "text": [
      "ret 1.829592988472628e-05\n",
      "LA.norm(trackline.diffs)>15*np.std(coefnorm): -149.469890615\n",
      "dist_diff 2.02356573377\n"
     ]
    },
    {
     "name": "stderr",
     "output_type": "stream",
     "text": [
      "\r",
      "  6%|████▊                                                                           | 76/1261 [00:54<14:02,  1.41it/s]"
     ]
    },
    {
     "name": "stdout",
     "output_type": "stream",
     "text": [
      "ret 0.0002490159295813754\n",
      "LA.norm(trackline.diffs)>15*np.std(coefnorm): -142.316674792\n",
      "dist_diff 6.7521784377\n"
     ]
    },
    {
     "name": "stderr",
     "output_type": "stream",
     "text": [
      "\r",
      "  6%|████▉                                                                           | 77/1261 [00:55<14:02,  1.40it/s]"
     ]
    },
    {
     "name": "stdout",
     "output_type": "stream",
     "text": [
      "ret 0.0001285165116380882\n",
      "LA.norm(trackline.diffs)>15*np.std(coefnorm): -183.5207377\n",
      "dist_diff 1.30315472829\n"
     ]
    },
    {
     "name": "stderr",
     "output_type": "stream",
     "text": [
      "\r",
      "  6%|████▉                                                                           | 78/1261 [00:55<14:05,  1.40it/s]"
     ]
    },
    {
     "name": "stdout",
     "output_type": "stream",
     "text": [
      "ret 0.00010148153414829553\n",
      "LA.norm(trackline.diffs)>15*np.std(coefnorm): -246.994401467\n",
      "dist_diff 2.54723932972\n"
     ]
    },
    {
     "name": "stderr",
     "output_type": "stream",
     "text": [
      "\r",
      "  6%|█████                                                                           | 79/1261 [00:56<14:03,  1.40it/s]"
     ]
    },
    {
     "name": "stdout",
     "output_type": "stream",
     "text": [
      "ret 3.1056785757654914e-05\n",
      "LA.norm(trackline.diffs)>15*np.std(coefnorm): -297.939963054\n",
      "dist_diff 0.758341423375\n"
     ]
    },
    {
     "name": "stderr",
     "output_type": "stream",
     "text": [
      "\r",
      "  6%|█████                                                                           | 80/1261 [00:57<14:02,  1.40it/s]"
     ]
    },
    {
     "name": "stdout",
     "output_type": "stream",
     "text": [
      "ret 6.815020852779519e-05\n",
      "LA.norm(trackline.diffs)>15*np.std(coefnorm): -327.017069533\n",
      "dist_diff 0.339365539625\n"
     ]
    },
    {
     "name": "stderr",
     "output_type": "stream",
     "text": [
      "\r",
      "  6%|█████▏                                                                          | 81/1261 [00:57<13:58,  1.41it/s]"
     ]
    },
    {
     "name": "stdout",
     "output_type": "stream",
     "text": [
      "ret 6.867929074910739e-05\n",
      "LA.norm(trackline.diffs)>15*np.std(coefnorm): -319.776518586\n",
      "dist_diff 4.89797925898\n"
     ]
    },
    {
     "name": "stderr",
     "output_type": "stream",
     "text": [
      "\r",
      "  7%|█████▏                                                                          | 82/1261 [00:58<13:57,  1.41it/s]"
     ]
    },
    {
     "name": "stdout",
     "output_type": "stream",
     "text": [
      "ret 5.014551244442167e-05\n",
      "LA.norm(trackline.diffs)>15*np.std(coefnorm): -279.561892197\n",
      "dist_diff 7.51086293635\n"
     ]
    },
    {
     "name": "stderr",
     "output_type": "stream",
     "text": [
      "\r",
      "  7%|█████▎                                                                          | 83/1261 [00:59<13:57,  1.41it/s]"
     ]
    },
    {
     "name": "stdout",
     "output_type": "stream",
     "text": [
      "ret 0.00017067199881137807\n",
      "LA.norm(trackline.diffs)>15*np.std(coefnorm): -214.196188244\n",
      "dist_diff 8.64415482523\n"
     ]
    },
    {
     "name": "stderr",
     "output_type": "stream",
     "text": [
      "\r",
      "  7%|█████▎                                                                          | 84/1261 [00:59<13:53,  1.41it/s]"
     ]
    },
    {
     "name": "stdout",
     "output_type": "stream",
     "text": [
      "ret 0.0002557953715989769\n",
      "LA.norm(trackline.diffs)>15*np.std(coefnorm): -222.163744985\n",
      "dist_diff 6.17009225669\n"
     ]
    },
    {
     "name": "stderr",
     "output_type": "stream",
     "text": [
      "\r",
      "  7%|█████▍                                                                          | 85/1261 [01:00<13:53,  1.41it/s]"
     ]
    },
    {
     "name": "stdout",
     "output_type": "stream",
     "text": [
      "ret 2.9940765305436212e-05\n",
      "LA.norm(trackline.diffs)>15*np.std(coefnorm): -223.47853362\n",
      "dist_diff 7.09334196534\n"
     ]
    },
    {
     "name": "stderr",
     "output_type": "stream",
     "text": [
      "\r",
      "  7%|█████▍                                                                          | 86/1261 [01:01<13:54,  1.41it/s]"
     ]
    },
    {
     "name": "stdout",
     "output_type": "stream",
     "text": [
      "ret 0.00030827122277948815\n",
      "LA.norm(trackline.diffs)>15*np.std(coefnorm): -189.050639895\n",
      "dist_diff 2.03989624761\n"
     ]
    },
    {
     "name": "stderr",
     "output_type": "stream",
     "text": [
      "\r",
      "  7%|█████▌                                                                          | 87/1261 [01:02<13:51,  1.41it/s]"
     ]
    },
    {
     "name": "stdout",
     "output_type": "stream",
     "text": [
      "ret 0.0003002133919788874\n",
      "LA.norm(trackline.diffs)>15*np.std(coefnorm): -126.264743005\n",
      "dist_diff 9.81101712228\n"
     ]
    },
    {
     "name": "stderr",
     "output_type": "stream",
     "text": [
      "\r",
      "  7%|█████▌                                                                          | 88/1261 [01:02<13:50,  1.41it/s]"
     ]
    },
    {
     "name": "stdout",
     "output_type": "stream",
     "text": [
      "ret 0.0004553854886561459\n",
      "LA.norm(trackline.diffs)>15*np.std(coefnorm): -120.747284154\n",
      "dist_diff 0.733592502281\n"
     ]
    },
    {
     "name": "stderr",
     "output_type": "stream",
     "text": [
      "\r",
      "  7%|█████▋                                                                          | 89/1261 [01:03<13:50,  1.41it/s]"
     ]
    },
    {
     "name": "stdout",
     "output_type": "stream",
     "text": [
      "ret 0.000253359046950119\n",
      "LA.norm(trackline.diffs)>15*np.std(coefnorm): -125.087594277\n",
      "dist_diff 7.96779292599\n"
     ]
    },
    {
     "name": "stderr",
     "output_type": "stream",
     "text": [
      "\r",
      "  7%|█████▋                                                                          | 90/1261 [01:04<13:48,  1.41it/s]"
     ]
    },
    {
     "name": "stdout",
     "output_type": "stream",
     "text": [
      "ret 0.00020089415669999333\n",
      "LA.norm(trackline.diffs)>15*np.std(coefnorm): -226.056522397\n",
      "dist_diff 0.631091321335\n"
     ]
    },
    {
     "name": "stderr",
     "output_type": "stream",
     "text": [
      "\r",
      "  7%|█████▊                                                                          | 91/1261 [01:04<13:47,  1.41it/s]"
     ]
    },
    {
     "name": "stdout",
     "output_type": "stream",
     "text": [
      "ret 7.058355498335e-05\n",
      "LA.norm(trackline.diffs)>15*np.std(coefnorm): -261.155451538\n",
      "dist_diff 1.41319958473\n"
     ]
    },
    {
     "name": "stderr",
     "output_type": "stream",
     "text": [
      "\r",
      "  7%|█████▊                                                                          | 92/1261 [01:05<13:46,  1.41it/s]"
     ]
    },
    {
     "name": "stdout",
     "output_type": "stream",
     "text": [
      "ret 9.09865997807402e-05\n",
      "LA.norm(trackline.diffs)>15*np.std(coefnorm): -270.413182003\n",
      "dist_diff 4.27659238252\n"
     ]
    },
    {
     "name": "stderr",
     "output_type": "stream",
     "text": [
      "\r",
      "  7%|█████▉                                                                          | 93/1261 [01:06<13:48,  1.41it/s]"
     ]
    },
    {
     "name": "stdout",
     "output_type": "stream",
     "text": [
      "ret 5.484586222503918e-05\n",
      "LA.norm(trackline.diffs)>15*np.std(coefnorm): -263.928778571\n",
      "dist_diff 7.00280952935\n"
     ]
    },
    {
     "name": "stderr",
     "output_type": "stream",
     "text": [
      "\r",
      "  7%|█████▉                                                                          | 94/1261 [01:07<13:47,  1.41it/s]"
     ]
    },
    {
     "name": "stdout",
     "output_type": "stream",
     "text": [
      "ret 0.00021111430980219614\n",
      "LA.norm(trackline.diffs)>15*np.std(coefnorm): -296.03224794\n",
      "dist_diff 7.25413448077\n"
     ]
    },
    {
     "name": "stderr",
     "output_type": "stream",
     "text": [
      "\r",
      "  8%|██████                                                                          | 95/1261 [01:07<13:45,  1.41it/s]"
     ]
    },
    {
     "name": "stdout",
     "output_type": "stream",
     "text": [
      "ret 0.00023707334873246388\n",
      "LA.norm(trackline.diffs)>15*np.std(coefnorm): -273.663100901\n",
      "dist_diff 24.2363506827\n"
     ]
    },
    {
     "name": "stderr",
     "output_type": "stream",
     "text": [
      "\r",
      "  8%|██████                                                                          | 96/1261 [01:08<13:42,  1.42it/s]"
     ]
    },
    {
     "name": "stdout",
     "output_type": "stream",
     "text": [
      "ret 0.00016656085419558542\n",
      "LA.norm(trackline.diffs)>15*np.std(coefnorm): -277.185657539\n",
      "dist_diff 6.23116894944\n"
     ]
    },
    {
     "name": "stderr",
     "output_type": "stream",
     "text": [
      "\r",
      "  8%|██████▏                                                                         | 97/1261 [01:09<13:42,  1.42it/s]"
     ]
    },
    {
     "name": "stdout",
     "output_type": "stream",
     "text": [
      "ret 5.282543947010554e-05\n",
      "LA.norm(trackline.diffs)>15*np.std(coefnorm): -214.205389152\n",
      "dist_diff 9.29260094768\n"
     ]
    },
    {
     "name": "stderr",
     "output_type": "stream",
     "text": [
      "\r",
      "  8%|██████▏                                                                         | 98/1261 [01:09<13:42,  1.41it/s]"
     ]
    },
    {
     "name": "stdout",
     "output_type": "stream",
     "text": [
      "ret 0.00011618272991875678\n",
      "LA.norm(trackline.diffs)>15*np.std(coefnorm): -213.145348355\n",
      "dist_diff 6.24590427884\n"
     ]
    },
    {
     "name": "stderr",
     "output_type": "stream",
     "text": [
      "\r",
      "  8%|██████▎                                                                         | 99/1261 [01:10<13:42,  1.41it/s]"
     ]
    },
    {
     "name": "stdout",
     "output_type": "stream",
     "text": [
      "ret 5.374056226592483e-05\n",
      "LA.norm(trackline.diffs)>15*np.std(coefnorm): -111.544460549\n",
      "dist_diff 5.27896032326\n"
     ]
    },
    {
     "name": "stderr",
     "output_type": "stream",
     "text": [
      "\r",
      "  8%|██████▎                                                                        | 100/1261 [01:11<13:41,  1.41it/s]"
     ]
    },
    {
     "name": "stdout",
     "output_type": "stream",
     "text": [
      "ret 0.00014824208722047372\n",
      "LA.norm(trackline.diffs)>15*np.std(coefnorm): -107.992805623\n",
      "dist_diff 5.0796262634\n"
     ]
    },
    {
     "name": "stderr",
     "output_type": "stream",
     "text": [
      "\r",
      "  8%|██████▎                                                                        | 101/1261 [01:12<13:39,  1.42it/s]"
     ]
    },
    {
     "name": "stdout",
     "output_type": "stream",
     "text": [
      "ret 1.0623970466527854e-05\n",
      "LA.norm(trackline.diffs)>15*np.std(coefnorm): -125.44576306\n",
      "dist_diff 5.98533939232\n"
     ]
    },
    {
     "name": "stderr",
     "output_type": "stream",
     "text": [
      "\r",
      "  8%|██████▍                                                                        | 102/1261 [01:12<13:43,  1.41it/s]"
     ]
    },
    {
     "name": "stdout",
     "output_type": "stream",
     "text": [
      "ret 6.209272071328042e-05\n",
      "LA.norm(trackline.diffs)>15*np.std(coefnorm): -119.534402497\n",
      "dist_diff 1.31301795144\n"
     ]
    },
    {
     "name": "stderr",
     "output_type": "stream",
     "text": [
      "\r",
      "  8%|██████▍                                                                        | 103/1261 [01:13<13:43,  1.41it/s]"
     ]
    },
    {
     "name": "stdout",
     "output_type": "stream",
     "text": [
      "ret 3.8889206478709415e-05\n",
      "LA.norm(trackline.diffs)>15*np.std(coefnorm): -117.291490323\n",
      "dist_diff 0.786418392446\n"
     ]
    },
    {
     "name": "stderr",
     "output_type": "stream",
     "text": [
      "\r",
      "  8%|██████▌                                                                        | 104/1261 [01:14<13:45,  1.40it/s]"
     ]
    },
    {
     "name": "stdout",
     "output_type": "stream",
     "text": [
      "ret 0.0002201571841083383\n",
      "LA.norm(trackline.diffs)>15*np.std(coefnorm): -104.840762196\n",
      "dist_diff 3.3589288831\n"
     ]
    },
    {
     "name": "stderr",
     "output_type": "stream",
     "text": [
      "\r",
      "  8%|██████▌                                                                        | 105/1261 [01:14<13:42,  1.41it/s]"
     ]
    },
    {
     "name": "stdout",
     "output_type": "stream",
     "text": [
      "ret 5.9053846545142896e-05\n",
      "LA.norm(trackline.diffs)>15*np.std(coefnorm): -144.59269736\n",
      "dist_diff 1.86836635161\n"
     ]
    },
    {
     "name": "stderr",
     "output_type": "stream",
     "text": [
      "\r",
      "  8%|██████▋                                                                        | 106/1261 [01:15<13:39,  1.41it/s]"
     ]
    },
    {
     "name": "stdout",
     "output_type": "stream",
     "text": [
      "ret 0.00011047434454114491\n",
      "LA.norm(trackline.diffs)>15*np.std(coefnorm): -169.095958591\n",
      "dist_diff 1.60432749679\n"
     ]
    },
    {
     "name": "stderr",
     "output_type": "stream",
     "text": [
      "\r",
      "  8%|██████▋                                                                        | 107/1261 [01:16<13:37,  1.41it/s]"
     ]
    },
    {
     "name": "stdout",
     "output_type": "stream",
     "text": [
      "ret 0.00016208909027787266\n",
      "LA.norm(trackline.diffs)>15*np.std(coefnorm): -226.036987671\n",
      "dist_diff 0.408424197466\n"
     ]
    },
    {
     "name": "stderr",
     "output_type": "stream",
     "text": [
      "\r",
      "  9%|██████▊                                                                        | 108/1261 [01:16<13:33,  1.42it/s]"
     ]
    },
    {
     "name": "stdout",
     "output_type": "stream",
     "text": [
      "ret 0.00014036906068959354\n",
      "LA.norm(trackline.diffs)>15*np.std(coefnorm): -234.48722315\n",
      "dist_diff 15.0881751457\n"
     ]
    },
    {
     "name": "stderr",
     "output_type": "stream",
     "text": [
      "\r",
      "  9%|██████▊                                                                        | 109/1261 [01:17<13:33,  1.42it/s]"
     ]
    },
    {
     "name": "stdout",
     "output_type": "stream",
     "text": [
      "ret 0.0002108512564741316\n",
      "LA.norm(trackline.diffs)>15*np.std(coefnorm): -245.581791369\n",
      "dist_diff 12.5618084963\n"
     ]
    },
    {
     "name": "stderr",
     "output_type": "stream",
     "text": [
      "\r",
      "  9%|██████▉                                                                        | 110/1261 [01:18<13:31,  1.42it/s]"
     ]
    },
    {
     "name": "stdout",
     "output_type": "stream",
     "text": [
      "ret 9.267518854794154e-05\n",
      "LA.norm(trackline.diffs)>15*np.std(coefnorm): -246.867812122\n",
      "dist_diff 9.17285460317\n"
     ]
    },
    {
     "name": "stderr",
     "output_type": "stream",
     "text": [
      "\r",
      "  9%|██████▉                                                                        | 111/1261 [01:19<13:34,  1.41it/s]"
     ]
    },
    {
     "name": "stdout",
     "output_type": "stream",
     "text": [
      "ret 0.0002641887210064753\n",
      "LA.norm(trackline.diffs)>15*np.std(coefnorm): -229.614040966\n",
      "dist_diff 7.93827452426\n"
     ]
    },
    {
     "name": "stderr",
     "output_type": "stream",
     "text": [
      "\r",
      "  9%|███████                                                                        | 112/1261 [01:19<13:36,  1.41it/s]"
     ]
    },
    {
     "name": "stdout",
     "output_type": "stream",
     "text": [
      "ret 0.00028523475907665796\n",
      "LA.norm(trackline.diffs)>15*np.std(coefnorm): -234.750537021\n",
      "dist_diff 6.72910259556\n"
     ]
    },
    {
     "name": "stderr",
     "output_type": "stream",
     "text": [
      "\r",
      "  9%|███████                                                                        | 113/1261 [01:20<13:34,  1.41it/s]"
     ]
    },
    {
     "name": "stdout",
     "output_type": "stream",
     "text": [
      "ret 9.783210020558597e-05\n",
      "LA.norm(trackline.diffs)>15*np.std(coefnorm): -225.467827595\n",
      "dist_diff 6.04591960562\n"
     ]
    },
    {
     "name": "stderr",
     "output_type": "stream",
     "text": [
      "\r",
      "  9%|███████▏                                                                       | 114/1261 [01:21<13:33,  1.41it/s]"
     ]
    },
    {
     "name": "stdout",
     "output_type": "stream",
     "text": [
      "ret 0.0002382032649127508\n",
      "LA.norm(trackline.diffs)>15*np.std(coefnorm): -209.615122118\n",
      "dist_diff 0.695783245497\n"
     ]
    },
    {
     "name": "stderr",
     "output_type": "stream",
     "text": [
      "\r",
      "  9%|███████▏                                                                       | 115/1261 [01:21<13:33,  1.41it/s]"
     ]
    },
    {
     "name": "stdout",
     "output_type": "stream",
     "text": [
      "ret 7.870181735064596e-05\n",
      "LA.norm(trackline.diffs)>15*np.std(coefnorm): -177.426485003\n",
      "dist_diff 3.59646349129\n"
     ]
    },
    {
     "name": "stderr",
     "output_type": "stream",
     "text": [
      "\r",
      "  9%|███████▎                                                                       | 116/1261 [01:22<13:30,  1.41it/s]"
     ]
    },
    {
     "name": "stdout",
     "output_type": "stream",
     "text": [
      "ret 6.218617068620702e-06\n",
      "LA.norm(trackline.diffs)>15*np.std(coefnorm): -181.990935804\n",
      "dist_diff 1.74192841083\n"
     ]
    },
    {
     "name": "stderr",
     "output_type": "stream",
     "text": [
      "\r",
      "  9%|███████▎                                                                       | 117/1261 [01:23<13:29,  1.41it/s]"
     ]
    },
    {
     "name": "stdout",
     "output_type": "stream",
     "text": [
      "ret 6.726936885481649e-05\n",
      "LA.norm(trackline.diffs)>15*np.std(coefnorm): -188.796831144\n",
      "dist_diff 0.181405503982\n"
     ]
    },
    {
     "name": "stderr",
     "output_type": "stream",
     "text": [
      "\r",
      "  9%|███████▍                                                                       | 118/1261 [01:24<13:29,  1.41it/s]"
     ]
    },
    {
     "name": "stdout",
     "output_type": "stream",
     "text": [
      "ret 3.342784342047489e-05\n",
      "LA.norm(trackline.diffs)>15*np.std(coefnorm): -204.288652893\n",
      "dist_diff 0.853585237956\n"
     ]
    },
    {
     "name": "stderr",
     "output_type": "stream",
     "text": [
      "\r",
      "  9%|███████▍                                                                       | 119/1261 [01:24<13:30,  1.41it/s]"
     ]
    },
    {
     "name": "stdout",
     "output_type": "stream",
     "text": [
      "ret 0.00030248416422912205\n",
      "LA.norm(trackline.diffs)>15*np.std(coefnorm): -174.818191484\n",
      "dist_diff 8.0433015979\n"
     ]
    },
    {
     "name": "stderr",
     "output_type": "stream",
     "text": [
      "\r",
      " 10%|███████▌                                                                       | 120/1261 [01:25<13:30,  1.41it/s]"
     ]
    },
    {
     "name": "stdout",
     "output_type": "stream",
     "text": [
      "ret 0.00011255963554224202\n",
      "LA.norm(trackline.diffs)>15*np.std(coefnorm): -177.7424003\n",
      "dist_diff 8.09837422082\n"
     ]
    },
    {
     "name": "stderr",
     "output_type": "stream",
     "text": [
      "\r",
      " 10%|███████▌                                                                       | 121/1261 [01:26<13:30,  1.41it/s]"
     ]
    },
    {
     "name": "stdout",
     "output_type": "stream",
     "text": [
      "ret 0.00027788688308683085\n",
      "LA.norm(trackline.diffs)>15*np.std(coefnorm): -174.151014231\n",
      "dist_diff 3.52339714289\n"
     ]
    },
    {
     "name": "stderr",
     "output_type": "stream",
     "text": [
      "\r",
      " 10%|███████▋                                                                       | 122/1261 [01:26<13:28,  1.41it/s]"
     ]
    },
    {
     "name": "stdout",
     "output_type": "stream",
     "text": [
      "ret 0.00024208523317093\n",
      "LA.norm(trackline.diffs)>15*np.std(coefnorm): -230.666431491\n",
      "dist_diff 5.63123168222\n"
     ]
    },
    {
     "name": "stderr",
     "output_type": "stream",
     "text": [
      "\r",
      " 10%|███████▋                                                                       | 123/1261 [01:27<13:32,  1.40it/s]"
     ]
    },
    {
     "name": "stdout",
     "output_type": "stream",
     "text": [
      "ret 0.00012784418227196337\n",
      "LA.norm(trackline.diffs)>15*np.std(coefnorm): -262.095820515\n",
      "dist_diff 6.10503840427\n"
     ]
    },
    {
     "name": "stderr",
     "output_type": "stream",
     "text": [
      "\r",
      " 10%|███████▊                                                                       | 124/1261 [01:28<13:30,  1.40it/s]"
     ]
    },
    {
     "name": "stdout",
     "output_type": "stream",
     "text": [
      "ret 0.00010162706608507488\n",
      "LA.norm(trackline.diffs)>15*np.std(coefnorm): -259.385414794\n",
      "dist_diff 0.0808171749699\n"
     ]
    },
    {
     "name": "stderr",
     "output_type": "stream",
     "text": [
      "\r",
      " 10%|███████▊                                                                       | 125/1261 [01:29<13:27,  1.41it/s]"
     ]
    },
    {
     "name": "stdout",
     "output_type": "stream",
     "text": [
      "ret 0.0003066614020993952\n",
      "LA.norm(trackline.diffs)>15*np.std(coefnorm): -291.238609296\n",
      "dist_diff 3.43917431805\n"
     ]
    },
    {
     "name": "stderr",
     "output_type": "stream",
     "text": [
      "\r",
      " 10%|███████▉                                                                       | 126/1261 [01:29<13:32,  1.40it/s]"
     ]
    },
    {
     "name": "stdout",
     "output_type": "stream",
     "text": [
      "ret 0.00013322414041855302\n",
      "LA.norm(trackline.diffs)>15*np.std(coefnorm): -241.736088401\n",
      "dist_diff 1.24049025023\n"
     ]
    },
    {
     "name": "stderr",
     "output_type": "stream",
     "text": [
      "\r",
      " 10%|███████▉                                                                       | 127/1261 [01:30<13:30,  1.40it/s]"
     ]
    },
    {
     "name": "stdout",
     "output_type": "stream",
     "text": [
      "ret 0.0001398295674648331\n",
      "LA.norm(trackline.diffs)>15*np.std(coefnorm): -220.872832757\n",
      "dist_diff 3.31857230678\n"
     ]
    },
    {
     "name": "stderr",
     "output_type": "stream",
     "text": [
      "\r",
      " 10%|████████                                                                       | 128/1261 [01:31<13:27,  1.40it/s]"
     ]
    },
    {
     "name": "stdout",
     "output_type": "stream",
     "text": [
      "ret 0.00038123722905958335\n",
      "LA.norm(trackline.diffs)>15*np.std(coefnorm): -201.807763012\n",
      "dist_diff 1.68453312607\n"
     ]
    },
    {
     "name": "stderr",
     "output_type": "stream",
     "text": [
      "\r",
      " 10%|████████                                                                       | 129/1261 [01:31<13:25,  1.41it/s]"
     ]
    },
    {
     "name": "stdout",
     "output_type": "stream",
     "text": [
      "ret 0.00015517158817823784\n",
      "LA.norm(trackline.diffs)>15*np.std(coefnorm): -207.078933128\n",
      "dist_diff 0.643426830263\n"
     ]
    },
    {
     "name": "stderr",
     "output_type": "stream",
     "text": [
      "\r",
      " 10%|████████▏                                                                      | 130/1261 [01:32<13:24,  1.41it/s]"
     ]
    },
    {
     "name": "stdout",
     "output_type": "stream",
     "text": [
      "ret 1.3233777921672907e-05\n",
      "LA.norm(trackline.diffs)>15*np.std(coefnorm): -163.48039689\n",
      "dist_diff 6.30258420263\n"
     ]
    },
    {
     "name": "stderr",
     "output_type": "stream",
     "text": [
      "\r",
      " 10%|████████▏                                                                      | 131/1261 [01:33<13:22,  1.41it/s]"
     ]
    },
    {
     "name": "stdout",
     "output_type": "stream",
     "text": [
      "ret 0.00014038405686656041\n",
      "LA.norm(trackline.diffs)>15*np.std(coefnorm): -97.5585040375\n",
      "dist_diff 3.81420489797\n"
     ]
    },
    {
     "name": "stderr",
     "output_type": "stream",
     "text": [
      "\r",
      " 10%|████████▎                                                                      | 132/1261 [01:34<13:20,  1.41it/s]"
     ]
    },
    {
     "name": "stdout",
     "output_type": "stream",
     "text": [
      "ret 0.00017450215570219418\n",
      "LA.norm(trackline.diffs)>15*np.std(coefnorm): -133.466122042\n",
      "dist_diff 1.84261929683\n"
     ]
    },
    {
     "name": "stderr",
     "output_type": "stream",
     "text": [
      "\r",
      " 11%|████████▎                                                                      | 133/1261 [01:34<13:19,  1.41it/s]"
     ]
    },
    {
     "name": "stdout",
     "output_type": "stream",
     "text": [
      "ret 0.00010618256110406232\n",
      "LA.norm(trackline.diffs)>15*np.std(coefnorm): -138.771914311\n",
      "dist_diff 4.19975691946\n"
     ]
    },
    {
     "name": "stderr",
     "output_type": "stream",
     "text": [
      "\r",
      " 11%|████████▍                                                                      | 134/1261 [01:35<13:16,  1.42it/s]"
     ]
    },
    {
     "name": "stdout",
     "output_type": "stream",
     "text": [
      "ret 0.00010325926863169466\n",
      "LA.norm(trackline.diffs)>15*np.std(coefnorm): -142.885974379\n",
      "dist_diff 1.9886185931\n"
     ]
    },
    {
     "name": "stderr",
     "output_type": "stream",
     "text": [
      "\r",
      " 11%|████████▍                                                                      | 135/1261 [01:36<13:16,  1.41it/s]"
     ]
    },
    {
     "name": "stdout",
     "output_type": "stream",
     "text": [
      "ret 0.00013970315051620164\n",
      "LA.norm(trackline.diffs)>15*np.std(coefnorm): -130.626114633\n",
      "dist_diff 3.69709327112\n"
     ]
    },
    {
     "name": "stderr",
     "output_type": "stream",
     "text": [
      "\r",
      " 11%|████████▌                                                                      | 136/1261 [01:36<13:15,  1.41it/s]"
     ]
    },
    {
     "name": "stdout",
     "output_type": "stream",
     "text": [
      "ret 0.0001359432269736338\n",
      "LA.norm(trackline.diffs)>15*np.std(coefnorm): -121.706780039\n",
      "dist_diff 4.41097108739\n"
     ]
    },
    {
     "name": "stderr",
     "output_type": "stream",
     "text": [
      "\r",
      " 11%|████████▌                                                                      | 137/1261 [01:37<13:16,  1.41it/s]"
     ]
    },
    {
     "name": "stdout",
     "output_type": "stream",
     "text": [
      "ret 0.00025585113497283984\n",
      "LA.norm(trackline.diffs)>15*np.std(coefnorm): -152.849921855\n",
      "dist_diff 4.4798526582\n"
     ]
    },
    {
     "name": "stderr",
     "output_type": "stream",
     "text": [
      "\r",
      " 11%|████████▋                                                                      | 138/1261 [01:38<13:16,  1.41it/s]"
     ]
    },
    {
     "name": "stdout",
     "output_type": "stream",
     "text": [
      "ret 3.431895274130792e-05\n",
      "LA.norm(trackline.diffs)>15*np.std(coefnorm): -242.730349251\n",
      "dist_diff 4.78981504151\n"
     ]
    },
    {
     "name": "stderr",
     "output_type": "stream",
     "text": [
      "\r",
      " 11%|████████▋                                                                      | 139/1261 [01:38<13:17,  1.41it/s]"
     ]
    },
    {
     "name": "stdout",
     "output_type": "stream",
     "text": [
      "ret 0.00026247302401627426\n",
      "LA.norm(trackline.diffs)>15*np.std(coefnorm): -309.147986551\n",
      "dist_diff 2.10800132112\n"
     ]
    },
    {
     "name": "stderr",
     "output_type": "stream",
     "text": [
      "\r",
      " 11%|████████▊                                                                      | 140/1261 [01:39<13:17,  1.41it/s]"
     ]
    },
    {
     "name": "stdout",
     "output_type": "stream",
     "text": [
      "ret 2.303272724796246e-05\n",
      "LA.norm(trackline.diffs)>15*np.std(coefnorm): -409.239093598\n",
      "dist_diff 1.0747134631\n"
     ]
    },
    {
     "name": "stderr",
     "output_type": "stream",
     "text": [
      "\r",
      " 11%|████████▊                                                                      | 141/1261 [01:40<13:16,  1.41it/s]"
     ]
    },
    {
     "name": "stdout",
     "output_type": "stream",
     "text": [
      "ret 0.00011123250041700228\n",
      "LA.norm(trackline.diffs)>15*np.std(coefnorm): -466.94534929\n",
      "dist_diff 5.8012643666\n"
     ]
    },
    {
     "name": "stderr",
     "output_type": "stream",
     "text": [
      "\r",
      " 11%|████████▉                                                                      | 142/1261 [01:41<13:12,  1.41it/s]"
     ]
    },
    {
     "name": "stdout",
     "output_type": "stream",
     "text": [
      "ret 0.00016659769010740622\n",
      "LA.norm(trackline.diffs)>15*np.std(coefnorm): -458.539426706\n",
      "dist_diff 3.14845015096\n"
     ]
    },
    {
     "name": "stderr",
     "output_type": "stream",
     "text": [
      "\r",
      " 11%|████████▉                                                                      | 143/1261 [01:41<13:11,  1.41it/s]"
     ]
    },
    {
     "name": "stdout",
     "output_type": "stream",
     "text": [
      "ret 5.905214707613293e-06\n",
      "LA.norm(trackline.diffs)>15*np.std(coefnorm): -414.572059889\n",
      "dist_diff 2.61536403601\n"
     ]
    },
    {
     "name": "stderr",
     "output_type": "stream",
     "text": [
      "\r",
      " 11%|█████████                                                                      | 144/1261 [01:42<13:08,  1.42it/s]"
     ]
    },
    {
     "name": "stdout",
     "output_type": "stream",
     "text": [
      "ret 0.00012439464605162875\n",
      "LA.norm(trackline.diffs)>15*np.std(coefnorm): -336.587440669\n",
      "dist_diff 3.20536940544\n"
     ]
    },
    {
     "name": "stderr",
     "output_type": "stream",
     "text": [
      "\r",
      " 11%|█████████                                                                      | 145/1261 [01:43<13:10,  1.41it/s]"
     ]
    },
    {
     "name": "stdout",
     "output_type": "stream",
     "text": [
      "ret 2.573536683680988e-05\n",
      "LA.norm(trackline.diffs)>15*np.std(coefnorm): -240.220839591\n",
      "dist_diff 14.1566643559\n"
     ]
    },
    {
     "name": "stderr",
     "output_type": "stream",
     "text": [
      "\r",
      " 12%|█████████▏                                                                     | 146/1261 [01:43<13:11,  1.41it/s]"
     ]
    },
    {
     "name": "stdout",
     "output_type": "stream",
     "text": [
      "ret 0.00022604810776366557\n",
      "LA.norm(trackline.diffs)>15*np.std(coefnorm): -244.672983746\n",
      "dist_diff 7.88562959726\n"
     ]
    },
    {
     "name": "stderr",
     "output_type": "stream",
     "text": [
      "\r",
      " 12%|█████████▏                                                                     | 147/1261 [01:44<13:10,  1.41it/s]"
     ]
    },
    {
     "name": "stdout",
     "output_type": "stream",
     "text": [
      "ret 0.0006100872252236544\n",
      "LA.norm(trackline.diffs)>15*np.std(coefnorm): -181.342666437\n",
      "dist_diff 22.072085207\n"
     ]
    },
    {
     "name": "stderr",
     "output_type": "stream",
     "text": [
      "\r",
      " 12%|█████████▎                                                                     | 148/1261 [01:45<13:07,  1.41it/s]"
     ]
    },
    {
     "name": "stdout",
     "output_type": "stream",
     "text": [
      "ret 0.0006662825430973074\n",
      "LA.norm(trackline.diffs)>15*np.std(coefnorm): -183.034214365\n",
      "dist_diff 6.29578518975\n"
     ]
    },
    {
     "name": "stderr",
     "output_type": "stream",
     "text": [
      "\r",
      " 12%|█████████▎                                                                     | 149/1261 [01:46<13:05,  1.42it/s]"
     ]
    },
    {
     "name": "stdout",
     "output_type": "stream",
     "text": [
      "ret 0.00016415473882980258\n",
      "LA.norm(trackline.diffs)>15*np.std(coefnorm): -199.055620711\n",
      "dist_diff 1.32494426365\n"
     ]
    },
    {
     "name": "stderr",
     "output_type": "stream",
     "text": [
      "\r",
      " 12%|█████████▍                                                                     | 150/1261 [01:46<13:05,  1.41it/s]"
     ]
    },
    {
     "name": "stdout",
     "output_type": "stream",
     "text": [
      "ret 0.00014767433725210166\n",
      "LA.norm(trackline.diffs)>15*np.std(coefnorm): -211.425312726\n",
      "dist_diff 2.08970778532\n"
     ]
    },
    {
     "name": "stderr",
     "output_type": "stream",
     "text": [
      "\r",
      " 12%|█████████▍                                                                     | 151/1261 [01:47<13:06,  1.41it/s]"
     ]
    },
    {
     "name": "stdout",
     "output_type": "stream",
     "text": [
      "ret 0.00010737349532063956\n",
      "LA.norm(trackline.diffs)>15*np.std(coefnorm): -216.28932892\n",
      "dist_diff 2.6221119398\n"
     ]
    },
    {
     "name": "stderr",
     "output_type": "stream",
     "text": [
      "\r",
      " 12%|█████████▌                                                                     | 152/1261 [01:48<13:03,  1.42it/s]"
     ]
    },
    {
     "name": "stdout",
     "output_type": "stream",
     "text": [
      "ret 0.00013370730223261074\n",
      "LA.norm(trackline.diffs)>15*np.std(coefnorm): -176.70914667\n",
      "dist_diff 4.82295874812\n"
     ]
    },
    {
     "name": "stderr",
     "output_type": "stream",
     "text": [
      "\r",
      " 12%|█████████▌                                                                     | 153/1261 [01:48<13:02,  1.42it/s]"
     ]
    },
    {
     "name": "stdout",
     "output_type": "stream",
     "text": [
      "ret 0.00020240746298111345\n",
      "LA.norm(trackline.diffs)>15*np.std(coefnorm): -142.011200207\n",
      "dist_diff 3.53305265155\n"
     ]
    },
    {
     "name": "stderr",
     "output_type": "stream",
     "text": [
      "\r",
      " 12%|█████████▋                                                                     | 154/1261 [01:49<13:04,  1.41it/s]"
     ]
    },
    {
     "name": "stdout",
     "output_type": "stream",
     "text": [
      "ret 5.14063249279495e-05\n",
      "LA.norm(trackline.diffs)>15*np.std(coefnorm): -100.283937366\n",
      "dist_diff 2.93025216048\n"
     ]
    },
    {
     "name": "stderr",
     "output_type": "stream",
     "text": [
      "\r",
      " 12%|█████████▋                                                                     | 155/1261 [01:50<13:02,  1.41it/s]"
     ]
    },
    {
     "name": "stdout",
     "output_type": "stream",
     "text": [
      "ret 4.858690591680315e-05\n",
      "LA.norm(trackline.diffs)>15*np.std(coefnorm): -129.688021868\n",
      "dist_diff 1.13818550328\n"
     ]
    },
    {
     "name": "stderr",
     "output_type": "stream",
     "text": [
      "\r",
      " 12%|█████████▊                                                                     | 156/1261 [01:51<12:57,  1.42it/s]"
     ]
    },
    {
     "name": "stdout",
     "output_type": "stream",
     "text": [
      "ret 4.491905423875675e-05\n",
      "LA.norm(trackline.diffs)>15*np.std(coefnorm): -142.892844396\n",
      "dist_diff 1.44494697687\n"
     ]
    },
    {
     "name": "stderr",
     "output_type": "stream",
     "text": [
      "\r",
      " 12%|█████████▊                                                                     | 157/1261 [01:51<12:59,  1.42it/s]"
     ]
    },
    {
     "name": "stdout",
     "output_type": "stream",
     "text": [
      "ret 0.0002204623177339271\n",
      "LA.norm(trackline.diffs)>15*np.std(coefnorm): -140.53988613\n",
      "dist_diff 12.7861652789\n"
     ]
    },
    {
     "name": "stderr",
     "output_type": "stream",
     "text": [
      "\r",
      " 13%|█████████▉                                                                     | 158/1261 [01:52<12:59,  1.42it/s]"
     ]
    },
    {
     "name": "stdout",
     "output_type": "stream",
     "text": [
      "ret 3.111052219945121e-05\n",
      "LA.norm(trackline.diffs)>15*np.std(coefnorm): -143.424604549\n",
      "dist_diff 5.14469828242\n"
     ]
    },
    {
     "name": "stderr",
     "output_type": "stream",
     "text": [
      "\r",
      " 13%|█████████▉                                                                     | 159/1261 [01:53<12:59,  1.41it/s]"
     ]
    },
    {
     "name": "stdout",
     "output_type": "stream",
     "text": [
      "ret 0.0002656902022687424\n",
      "LA.norm(trackline.diffs)>15*np.std(coefnorm): -172.144423689\n",
      "dist_diff 9.37878754545\n"
     ]
    },
    {
     "name": "stderr",
     "output_type": "stream",
     "text": [
      "\r",
      " 13%|██████████                                                                     | 160/1261 [01:53<12:59,  1.41it/s]"
     ]
    },
    {
     "name": "stdout",
     "output_type": "stream",
     "text": [
      "ret 0.00019697505065202625\n",
      "LA.norm(trackline.diffs)>15*np.std(coefnorm): -179.324516111\n",
      "dist_diff 9.65156355136\n"
     ]
    },
    {
     "name": "stderr",
     "output_type": "stream",
     "text": [
      "\r",
      " 13%|██████████                                                                     | 161/1261 [01:54<12:59,  1.41it/s]"
     ]
    },
    {
     "name": "stdout",
     "output_type": "stream",
     "text": [
      "ret 0.00021641231883756662\n",
      "LA.norm(trackline.diffs)>15*np.std(coefnorm): -175.554239503\n",
      "dist_diff 2.07229577133\n"
     ]
    },
    {
     "name": "stderr",
     "output_type": "stream",
     "text": [
      "\r",
      " 13%|██████████▏                                                                    | 162/1261 [01:55<13:00,  1.41it/s]"
     ]
    },
    {
     "name": "stdout",
     "output_type": "stream",
     "text": [
      "ret 7.766114292456772e-05\n",
      "LA.norm(trackline.diffs)>15*np.std(coefnorm): -168.993666854\n",
      "dist_diff 5.2520857065\n"
     ]
    },
    {
     "name": "stderr",
     "output_type": "stream",
     "text": [
      "\r",
      " 13%|██████████▏                                                                    | 163/1261 [01:55<12:59,  1.41it/s]"
     ]
    },
    {
     "name": "stdout",
     "output_type": "stream",
     "text": [
      "ret 0.00017446626461864456\n",
      "LA.norm(trackline.diffs)>15*np.std(coefnorm): -168.139200566\n",
      "dist_diff 2.15896856857\n"
     ]
    },
    {
     "name": "stderr",
     "output_type": "stream",
     "text": [
      "\r",
      " 13%|██████████▎                                                                    | 164/1261 [01:56<12:56,  1.41it/s]"
     ]
    },
    {
     "name": "stdout",
     "output_type": "stream",
     "text": [
      "ret 0.00019513901989737237\n",
      "LA.norm(trackline.diffs)>15*np.std(coefnorm): -163.344260826\n",
      "dist_diff 11.0474876111\n"
     ]
    },
    {
     "name": "stderr",
     "output_type": "stream",
     "text": [
      "\r",
      " 13%|██████████▎                                                                    | 165/1261 [01:57<12:56,  1.41it/s]"
     ]
    },
    {
     "name": "stdout",
     "output_type": "stream",
     "text": [
      "ret 0.00014922604929828998\n",
      "LA.norm(trackline.diffs)>15*np.std(coefnorm): -167.568580634\n",
      "dist_diff 1.40591519753\n"
     ]
    },
    {
     "name": "stderr",
     "output_type": "stream",
     "text": [
      "\r",
      " 13%|██████████▍                                                                    | 166/1261 [01:58<12:54,  1.41it/s]"
     ]
    },
    {
     "name": "stdout",
     "output_type": "stream",
     "text": [
      "ret 0.0002487368615671781\n",
      "LA.norm(trackline.diffs)>15*np.std(coefnorm): -220.299068494\n",
      "dist_diff 0.127324833164\n"
     ]
    },
    {
     "name": "stderr",
     "output_type": "stream",
     "text": [
      "\r",
      " 13%|██████████▍                                                                    | 167/1261 [01:58<12:52,  1.42it/s]"
     ]
    },
    {
     "name": "stdout",
     "output_type": "stream",
     "text": [
      "ret 0.0003557443293140117\n",
      "LA.norm(trackline.diffs)>15*np.std(coefnorm): -327.122497869\n",
      "dist_diff 1.59982107617\n"
     ]
    },
    {
     "name": "stderr",
     "output_type": "stream",
     "text": [
      "\r",
      " 13%|██████████▌                                                                    | 168/1261 [01:59<12:52,  1.42it/s]"
     ]
    },
    {
     "name": "stdout",
     "output_type": "stream",
     "text": [
      "ret 8.801315085604777e-05\n",
      "LA.norm(trackline.diffs)>15*np.std(coefnorm): -333.834121341\n",
      "dist_diff 0.100812976386\n"
     ]
    },
    {
     "name": "stderr",
     "output_type": "stream",
     "text": [
      "\r",
      " 13%|██████████▌                                                                    | 169/1261 [02:00<12:51,  1.42it/s]"
     ]
    },
    {
     "name": "stdout",
     "output_type": "stream",
     "text": [
      "ret 0.0002300542934335903\n",
      "LA.norm(trackline.diffs)>15*np.std(coefnorm): -308.516623895\n",
      "dist_diff 1.29084198668\n"
     ]
    },
    {
     "name": "stderr",
     "output_type": "stream",
     "text": [
      "\r",
      " 13%|██████████▋                                                                    | 170/1261 [02:00<12:49,  1.42it/s]"
     ]
    },
    {
     "name": "stdout",
     "output_type": "stream",
     "text": [
      "ret 0.0002822914464257753\n",
      "LA.norm(trackline.diffs)>15*np.std(coefnorm): -260.39260131\n",
      "dist_diff 30.6525884339\n"
     ]
    },
    {
     "name": "stderr",
     "output_type": "stream",
     "text": [
      "\r",
      " 14%|██████████▋                                                                    | 171/1261 [02:01<12:53,  1.41it/s]"
     ]
    },
    {
     "name": "stdout",
     "output_type": "stream",
     "text": [
      "ret 0.0002696193288485582\n",
      "LA.norm(trackline.diffs)>15*np.std(coefnorm): -243.313786332\n",
      "dist_diff 10.3185464679\n"
     ]
    },
    {
     "name": "stderr",
     "output_type": "stream",
     "text": [
      "\r",
      " 14%|██████████▊                                                                    | 172/1261 [02:02<12:49,  1.41it/s]"
     ]
    },
    {
     "name": "stdout",
     "output_type": "stream",
     "text": [
      "ret 0.0001016875484222135\n",
      "LA.norm(trackline.diffs)>15*np.std(coefnorm): -239.253456685\n",
      "dist_diff 23.200864968\n"
     ]
    },
    {
     "name": "stderr",
     "output_type": "stream",
     "text": [
      "\r",
      " 14%|██████████▊                                                                    | 173/1261 [02:03<12:48,  1.42it/s]"
     ]
    },
    {
     "name": "stdout",
     "output_type": "stream",
     "text": [
      "ret 0.0005433935461366945\n",
      "LA.norm(trackline.diffs)>15*np.std(coefnorm): -217.000269344\n",
      "dist_diff 6.79078012105\n"
     ]
    },
    {
     "name": "stderr",
     "output_type": "stream",
     "text": [
      "\r",
      " 14%|██████████▉                                                                    | 174/1261 [02:03<12:48,  1.41it/s]"
     ]
    },
    {
     "name": "stdout",
     "output_type": "stream",
     "text": [
      "ret 0.0001917216770430663\n",
      "LA.norm(trackline.diffs)>15*np.std(coefnorm): -270.069275547\n",
      "dist_diff 0.896661702158\n"
     ]
    },
    {
     "name": "stderr",
     "output_type": "stream",
     "text": [
      "\r",
      " 14%|██████████▉                                                                    | 175/1261 [02:04<12:51,  1.41it/s]"
     ]
    },
    {
     "name": "stdout",
     "output_type": "stream",
     "text": [
      "ret 0.00017423222372980884\n",
      "LA.norm(trackline.diffs)>15*np.std(coefnorm): -392.886699097\n",
      "dist_diff 6.97932237228\n"
     ]
    },
    {
     "name": "stderr",
     "output_type": "stream",
     "text": [
      "\r",
      " 14%|███████████                                                                    | 176/1261 [02:05<12:48,  1.41it/s]"
     ]
    },
    {
     "name": "stdout",
     "output_type": "stream",
     "text": [
      "ret 0.0003452149133453819\n",
      "LA.norm(trackline.diffs)>15*np.std(coefnorm): -491.58696118\n",
      "dist_diff 4.83928186974\n"
     ]
    },
    {
     "name": "stderr",
     "output_type": "stream",
     "text": [
      "\r",
      " 14%|███████████                                                                    | 177/1261 [02:05<12:49,  1.41it/s]"
     ]
    },
    {
     "name": "stdout",
     "output_type": "stream",
     "text": [
      "ret 1.2096833570729437e-05\n",
      "LA.norm(trackline.diffs)>15*np.std(coefnorm): -464.584643717\n",
      "dist_diff 5.95959491713\n"
     ]
    },
    {
     "name": "stderr",
     "output_type": "stream",
     "text": [
      "\r",
      " 14%|███████████▏                                                                   | 178/1261 [02:06<12:47,  1.41it/s]"
     ]
    },
    {
     "name": "stdout",
     "output_type": "stream",
     "text": [
      "ret 9.717169741518816e-06\n",
      "LA.norm(trackline.diffs)>15*np.std(coefnorm): -436.676967837\n",
      "dist_diff 6.16315881772\n"
     ]
    },
    {
     "name": "stderr",
     "output_type": "stream",
     "text": [
      "\r",
      " 14%|███████████▏                                                                   | 179/1261 [02:07<12:45,  1.41it/s]"
     ]
    },
    {
     "name": "stdout",
     "output_type": "stream",
     "text": [
      "ret 0.00010242677634170194\n",
      "LA.norm(trackline.diffs)>15*np.std(coefnorm): -430.03504504\n",
      "dist_diff 7.11414631893\n"
     ]
    },
    {
     "name": "stderr",
     "output_type": "stream",
     "text": [
      "\r",
      " 14%|███████████▎                                                                   | 180/1261 [02:07<12:43,  1.42it/s]"
     ]
    },
    {
     "name": "stdout",
     "output_type": "stream",
     "text": [
      "ret 0.00022885625615670646\n",
      "LA.norm(trackline.diffs)>15*np.std(coefnorm): -430.605832312\n",
      "dist_diff 2.12960557815\n"
     ]
    },
    {
     "name": "stderr",
     "output_type": "stream",
     "text": [
      "\r",
      " 14%|███████████▎                                                                   | 181/1261 [02:08<12:44,  1.41it/s]"
     ]
    },
    {
     "name": "stdout",
     "output_type": "stream",
     "text": [
      "ret 0.0001458815479408182\n",
      "LA.norm(trackline.diffs)>15*np.std(coefnorm): -392.25507609\n",
      "dist_diff 3.76127738229\n"
     ]
    },
    {
     "name": "stderr",
     "output_type": "stream",
     "text": [
      "\r",
      " 14%|███████████▍                                                                   | 182/1261 [02:09<12:43,  1.41it/s]"
     ]
    },
    {
     "name": "stdout",
     "output_type": "stream",
     "text": [
      "ret 0.0002993687178045601\n",
      "LA.norm(trackline.diffs)>15*np.std(coefnorm): -339.276647377\n",
      "dist_diff 0.988453137041\n"
     ]
    },
    {
     "name": "stderr",
     "output_type": "stream",
     "text": [
      "\r",
      " 15%|███████████▍                                                                   | 183/1261 [02:10<12:43,  1.41it/s]"
     ]
    },
    {
     "name": "stdout",
     "output_type": "stream",
     "text": [
      "ret 0.00043251454216264307\n",
      "LA.norm(trackline.diffs)>15*np.std(coefnorm): -195.654867809\n",
      "dist_diff 15.7350084848\n"
     ]
    },
    {
     "name": "stderr",
     "output_type": "stream",
     "text": [
      "\r",
      " 15%|███████████▌                                                                   | 184/1261 [02:10<12:43,  1.41it/s]"
     ]
    },
    {
     "name": "stdout",
     "output_type": "stream",
     "text": [
      "ret 0.0007182513186517192\n",
      "LA.norm(trackline.diffs)>15*np.std(coefnorm): -187.324470433\n",
      "dist_diff 3.5617332074\n"
     ]
    },
    {
     "name": "stderr",
     "output_type": "stream",
     "text": [
      "\r",
      " 15%|███████████▌                                                                   | 185/1261 [02:11<12:41,  1.41it/s]"
     ]
    },
    {
     "name": "stdout",
     "output_type": "stream",
     "text": [
      "ret 0.0005765493338648064\n",
      "LA.norm(trackline.diffs)>15*np.std(coefnorm): -155.273641571\n",
      "dist_diff 18.0794944388\n"
     ]
    },
    {
     "name": "stderr",
     "output_type": "stream",
     "text": [
      "\r",
      " 15%|███████████▋                                                                   | 186/1261 [02:12<12:40,  1.41it/s]"
     ]
    },
    {
     "name": "stdout",
     "output_type": "stream",
     "text": [
      "ret 0.0005586729127822765\n",
      "LA.norm(trackline.diffs)>15*np.std(coefnorm): -164.190195801\n",
      "dist_diff 1.49887191323\n"
     ]
    },
    {
     "name": "stderr",
     "output_type": "stream",
     "text": [
      "\r",
      " 15%|███████████▋                                                                   | 187/1261 [02:12<12:39,  1.41it/s]"
     ]
    },
    {
     "name": "stdout",
     "output_type": "stream",
     "text": [
      "ret 0.00027076678633192186\n",
      "LA.norm(trackline.diffs)>15*np.std(coefnorm): -245.028723201\n",
      "dist_diff 3.77100074518\n"
     ]
    },
    {
     "name": "stderr",
     "output_type": "stream",
     "text": [
      "\r",
      " 15%|███████████▊                                                                   | 188/1261 [02:13<12:41,  1.41it/s]"
     ]
    },
    {
     "name": "stdout",
     "output_type": "stream",
     "text": [
      "ret 6.89205100287138e-05\n",
      "LA.norm(trackline.diffs)>15*np.std(coefnorm): -339.417533152\n",
      "dist_diff 1.34339296919\n"
     ]
    },
    {
     "name": "stderr",
     "output_type": "stream",
     "text": [
      "\r",
      " 15%|███████████▊                                                                   | 189/1261 [02:14<12:39,  1.41it/s]"
     ]
    },
    {
     "name": "stdout",
     "output_type": "stream",
     "text": [
      "ret 3.107344273428625e-05\n",
      "LA.norm(trackline.diffs)>15*np.std(coefnorm): -382.408003968\n",
      "dist_diff 7.93913349095\n"
     ]
    },
    {
     "name": "stderr",
     "output_type": "stream",
     "text": [
      "\r",
      " 15%|███████████▉                                                                   | 190/1261 [02:15<12:34,  1.42it/s]"
     ]
    },
    {
     "name": "stdout",
     "output_type": "stream",
     "text": [
      "ret 0.00017893206587948907\n",
      "LA.norm(trackline.diffs)>15*np.std(coefnorm): -422.977113257\n",
      "dist_diff 6.73270331058\n"
     ]
    },
    {
     "name": "stderr",
     "output_type": "stream",
     "text": [
      "\r",
      " 15%|███████████▉                                                                   | 191/1261 [02:15<12:37,  1.41it/s]"
     ]
    },
    {
     "name": "stdout",
     "output_type": "stream",
     "text": [
      "ret 0.0002609388510524391\n",
      "LA.norm(trackline.diffs)>15*np.std(coefnorm): -467.735043746\n",
      "dist_diff 3.02215883345\n"
     ]
    },
    {
     "name": "stderr",
     "output_type": "stream",
     "text": [
      "\r",
      " 15%|████████████                                                                   | 192/1261 [02:16<12:37,  1.41it/s]"
     ]
    },
    {
     "name": "stdout",
     "output_type": "stream",
     "text": [
      "ret 0.00025601370108657706\n",
      "LA.norm(trackline.diffs)>15*np.std(coefnorm): -425.269164179\n",
      "dist_diff 3.04279851015\n"
     ]
    },
    {
     "name": "stderr",
     "output_type": "stream",
     "text": [
      "\r",
      " 15%|████████████                                                                   | 193/1261 [02:17<12:39,  1.41it/s]"
     ]
    },
    {
     "name": "stdout",
     "output_type": "stream",
     "text": [
      "ret 0.00022850110193112227\n",
      "LA.norm(trackline.diffs)>15*np.std(coefnorm): -408.157339056\n",
      "dist_diff 2.76859120111\n"
     ]
    },
    {
     "name": "stderr",
     "output_type": "stream",
     "text": [
      "\r",
      " 15%|████████████▏                                                                  | 194/1261 [02:17<12:36,  1.41it/s]"
     ]
    },
    {
     "name": "stdout",
     "output_type": "stream",
     "text": [
      "ret 9.53357790003384e-05\n",
      "LA.norm(trackline.diffs)>15*np.std(coefnorm): -294.285599474\n",
      "dist_diff 1.00644671917\n"
     ]
    },
    {
     "name": "stderr",
     "output_type": "stream",
     "text": [
      "\r",
      " 15%|████████████▏                                                                  | 195/1261 [02:18<12:36,  1.41it/s]"
     ]
    },
    {
     "name": "stdout",
     "output_type": "stream",
     "text": [
      "ret 0.0010876589511935042\n",
      "LA.norm(trackline.diffs)>15*np.std(coefnorm): -161.636753733\n",
      "dist_diff 8.72082221947\n"
     ]
    },
    {
     "name": "stderr",
     "output_type": "stream",
     "text": [
      "\r",
      " 16%|████████████▎                                                                  | 196/1261 [02:19<12:34,  1.41it/s]"
     ]
    },
    {
     "name": "stdout",
     "output_type": "stream",
     "text": [
      "ret 0.0017654017428142543\n",
      "LA.norm(trackline.diffs)>15*np.std(coefnorm): -126.939909544\n",
      "dist_diff 0.299510949948\n"
     ]
    },
    {
     "name": "stderr",
     "output_type": "stream",
     "text": [
      "\r",
      " 16%|████████████▎                                                                  | 197/1261 [02:20<12:32,  1.41it/s]"
     ]
    },
    {
     "name": "stdout",
     "output_type": "stream",
     "text": [
      "ret 0.002257528659341701\n",
      "LA.norm(trackline.diffs)>15*np.std(coefnorm): -91.5110154404\n",
      "dist_diff 2.57786685777\n"
     ]
    },
    {
     "name": "stderr",
     "output_type": "stream",
     "text": [
      "\r",
      " 16%|████████████▍                                                                  | 198/1261 [02:20<12:29,  1.42it/s]"
     ]
    },
    {
     "name": "stdout",
     "output_type": "stream",
     "text": [
      "ret 0.002412151386735062\n",
      "LA.norm(trackline.diffs)>15*np.std(coefnorm): -51.0742249236\n",
      "dist_diff 18.7625328333\n"
     ]
    },
    {
     "name": "stderr",
     "output_type": "stream",
     "text": [
      "\r",
      " 16%|████████████▍                                                                  | 199/1261 [02:21<12:32,  1.41it/s]"
     ]
    },
    {
     "name": "stdout",
     "output_type": "stream",
     "text": [
      "ret 0.0023184506353340906\n",
      "LA.norm(trackline.diffs)>15*np.std(coefnorm): -73.3555856483\n",
      "dist_diff 4.28738581153\n"
     ]
    },
    {
     "name": "stderr",
     "output_type": "stream",
     "text": [
      "\r",
      " 16%|████████████▌                                                                  | 200/1261 [02:22<12:31,  1.41it/s]"
     ]
    },
    {
     "name": "stdout",
     "output_type": "stream",
     "text": [
      "ret 0.002383855428697179\n",
      "LA.norm(trackline.diffs)>15*np.std(coefnorm): -64.4673524691\n",
      "dist_diff 5.3245051002\n"
     ]
    },
    {
     "name": "stderr",
     "output_type": "stream",
     "text": [
      "\r",
      " 16%|████████████▌                                                                  | 201/1261 [02:22<12:31,  1.41it/s]"
     ]
    },
    {
     "name": "stdout",
     "output_type": "stream",
     "text": [
      "ret 0.0021365001206855583\n",
      "LA.norm(trackline.diffs)>15*np.std(coefnorm): -80.7717357879\n",
      "dist_diff 6.15086988078\n"
     ]
    },
    {
     "name": "stderr",
     "output_type": "stream",
     "text": [
      "\r",
      " 16%|████████████▋                                                                  | 202/1261 [02:23<12:30,  1.41it/s]"
     ]
    },
    {
     "name": "stdout",
     "output_type": "stream",
     "text": [
      "ret 0.0019007692105740825\n",
      "LA.norm(trackline.diffs)>15*np.std(coefnorm): -87.2729037368\n",
      "dist_diff 5.91016425046\n"
     ]
    },
    {
     "name": "stderr",
     "output_type": "stream",
     "text": [
      "\r",
      " 16%|████████████▋                                                                  | 203/1261 [02:24<12:29,  1.41it/s]"
     ]
    },
    {
     "name": "stdout",
     "output_type": "stream",
     "text": [
      "ret 0.0019177845051154274\n",
      "LA.norm(trackline.diffs)>15*np.std(coefnorm): -90.8545105807\n",
      "dist_diff 1.52144675705\n"
     ]
    },
    {
     "name": "stderr",
     "output_type": "stream",
     "text": [
      "\r",
      " 16%|████████████▊                                                                  | 204/1261 [02:25<12:31,  1.41it/s]"
     ]
    },
    {
     "name": "stdout",
     "output_type": "stream",
     "text": [
      "ret 0.0017065685622032478\n",
      "LA.norm(trackline.diffs)>15*np.std(coefnorm): -117.830121272\n",
      "dist_diff 6.4563180081\n"
     ]
    },
    {
     "name": "stderr",
     "output_type": "stream",
     "text": [
      "\r",
      " 16%|████████████▊                                                                  | 205/1261 [02:25<12:29,  1.41it/s]"
     ]
    },
    {
     "name": "stdout",
     "output_type": "stream",
     "text": [
      "ret 0.0016336402683257423\n",
      "LA.norm(trackline.diffs)>15*np.std(coefnorm): -119.05858906\n",
      "dist_diff 0.813046915406\n"
     ]
    },
    {
     "name": "stderr",
     "output_type": "stream",
     "text": [
      "\r",
      " 16%|████████████▉                                                                  | 206/1261 [02:26<12:26,  1.41it/s]"
     ]
    },
    {
     "name": "stdout",
     "output_type": "stream",
     "text": [
      "ret 0.0011191696184051358\n",
      "LA.norm(trackline.diffs)>15*np.std(coefnorm): -163.109749304\n",
      "dist_diff 8.41807402061\n"
     ]
    },
    {
     "name": "stderr",
     "output_type": "stream",
     "text": [
      "\r",
      " 16%|████████████▉                                                                  | 207/1261 [02:27<12:24,  1.42it/s]"
     ]
    },
    {
     "name": "stdout",
     "output_type": "stream",
     "text": [
      "ret 0.0009011091609518185\n",
      "LA.norm(trackline.diffs)>15*np.std(coefnorm): -170.334331328\n",
      "dist_diff 1.16234598719\n"
     ]
    },
    {
     "name": "stderr",
     "output_type": "stream",
     "text": [
      "\r",
      " 16%|█████████████                                                                  | 208/1261 [02:27<12:24,  1.41it/s]"
     ]
    },
    {
     "name": "stdout",
     "output_type": "stream",
     "text": [
      "ret 0.0002619153783698924\n",
      "LA.norm(trackline.diffs)>15*np.std(coefnorm): -146.027187592\n",
      "dist_diff 1.48221359619\n"
     ]
    },
    {
     "name": "stderr",
     "output_type": "stream",
     "text": [
      "\r",
      " 17%|█████████████                                                                  | 209/1261 [02:28<12:22,  1.42it/s]"
     ]
    },
    {
     "name": "stdout",
     "output_type": "stream",
     "text": [
      "ret 0.00016768294774149872\n",
      "LA.norm(trackline.diffs)>15*np.std(coefnorm): -239.004487724\n",
      "dist_diff 3.84180778642\n"
     ]
    },
    {
     "name": "stderr",
     "output_type": "stream",
     "text": [
      "\r",
      " 17%|█████████████▏                                                                 | 210/1261 [02:29<12:21,  1.42it/s]"
     ]
    },
    {
     "name": "stdout",
     "output_type": "stream",
     "text": [
      "ret 0.00039062142699364255\n",
      "LA.norm(trackline.diffs)>15*np.std(coefnorm): -317.782394386\n",
      "dist_diff 1.98397562288\n"
     ]
    },
    {
     "name": "stderr",
     "output_type": "stream",
     "text": [
      "\r",
      " 17%|█████████████▏                                                                 | 211/1261 [02:29<12:20,  1.42it/s]"
     ]
    },
    {
     "name": "stdout",
     "output_type": "stream",
     "text": [
      "ret 0.00021297366734435164\n",
      "LA.norm(trackline.diffs)>15*np.std(coefnorm): -445.963102607\n",
      "dist_diff 6.58324395194\n"
     ]
    },
    {
     "name": "stderr",
     "output_type": "stream",
     "text": [
      "\r",
      " 17%|█████████████▎                                                                 | 212/1261 [02:30<12:20,  1.42it/s]"
     ]
    },
    {
     "name": "stdout",
     "output_type": "stream",
     "text": [
      "ret 6.249261370105952e-05\n",
      "LA.norm(trackline.diffs)>15*np.std(coefnorm): -493.395998184\n",
      "dist_diff 8.83294567189\n"
     ]
    },
    {
     "name": "stderr",
     "output_type": "stream",
     "text": [
      "\r",
      " 17%|█████████████▎                                                                 | 213/1261 [02:31<12:20,  1.41it/s]"
     ]
    },
    {
     "name": "stdout",
     "output_type": "stream",
     "text": [
      "ret 0.00014726114072166618\n",
      "LA.norm(trackline.diffs)>15*np.std(coefnorm): -492.554630362\n",
      "dist_diff 0.141735688826\n"
     ]
    },
    {
     "name": "stderr",
     "output_type": "stream",
     "text": [
      "\r",
      " 17%|█████████████▍                                                                 | 214/1261 [02:32<12:19,  1.42it/s]"
     ]
    },
    {
     "name": "stdout",
     "output_type": "stream",
     "text": [
      "ret 4.1557732194719144e-05\n",
      "LA.norm(trackline.diffs)>15*np.std(coefnorm): -534.320428705\n",
      "dist_diff 6.94268198412\n"
     ]
    },
    {
     "name": "stderr",
     "output_type": "stream",
     "text": [
      "\r",
      " 17%|█████████████▍                                                                 | 215/1261 [02:32<12:19,  1.41it/s]"
     ]
    },
    {
     "name": "stdout",
     "output_type": "stream",
     "text": [
      "ret 2.1443464054526906e-05\n",
      "LA.norm(trackline.diffs)>15*np.std(coefnorm): -527.328352998\n",
      "dist_diff 4.09878240788\n"
     ]
    },
    {
     "name": "stderr",
     "output_type": "stream",
     "text": [
      "\r",
      " 17%|█████████████▌                                                                 | 216/1261 [02:33<12:18,  1.42it/s]"
     ]
    },
    {
     "name": "stdout",
     "output_type": "stream",
     "text": [
      "ret 6.553484374172136e-05\n",
      "LA.norm(trackline.diffs)>15*np.std(coefnorm): -457.848083652\n",
      "dist_diff 3.15722298592\n"
     ]
    },
    {
     "name": "stderr",
     "output_type": "stream",
     "text": [
      "\r",
      " 17%|█████████████▌                                                                 | 217/1261 [02:34<12:17,  1.42it/s]"
     ]
    },
    {
     "name": "stdout",
     "output_type": "stream",
     "text": [
      "ret 0.0002684676749039605\n",
      "LA.norm(trackline.diffs)>15*np.std(coefnorm): -361.925152809\n",
      "dist_diff 1.46553330693\n"
     ]
    },
    {
     "name": "stderr",
     "output_type": "stream",
     "text": [
      "\r",
      " 17%|█████████████▋                                                                 | 218/1261 [02:34<12:15,  1.42it/s]"
     ]
    },
    {
     "name": "stdout",
     "output_type": "stream",
     "text": [
      "ret 0.0002700397015337752\n",
      "LA.norm(trackline.diffs)>15*np.std(coefnorm): -257.07123112\n",
      "dist_diff 5.63398517753\n"
     ]
    },
    {
     "name": "stderr",
     "output_type": "stream",
     "text": [
      "\r",
      " 17%|█████████████▋                                                                 | 219/1261 [02:35<12:14,  1.42it/s]"
     ]
    },
    {
     "name": "stdout",
     "output_type": "stream",
     "text": [
      "ret 0.00030077542307305194\n",
      "LA.norm(trackline.diffs)>15*np.std(coefnorm): -169.655681753\n",
      "dist_diff 1.00781555579\n"
     ]
    },
    {
     "name": "stderr",
     "output_type": "stream",
     "text": [
      "\r",
      " 17%|█████████████▊                                                                 | 220/1261 [02:36<12:13,  1.42it/s]"
     ]
    },
    {
     "name": "stdout",
     "output_type": "stream",
     "text": [
      "ret 0.00017863786653998792\n",
      "LA.norm(trackline.diffs)>15*np.std(coefnorm): -130.00605156\n",
      "dist_diff 21.5063770721\n"
     ]
    },
    {
     "name": "stderr",
     "output_type": "stream",
     "text": [
      "\r",
      " 18%|█████████████▊                                                                 | 221/1261 [02:36<12:13,  1.42it/s]"
     ]
    },
    {
     "name": "stdout",
     "output_type": "stream",
     "text": [
      "ret 0.00017630774340471334\n",
      "LA.norm(trackline.diffs)>15*np.std(coefnorm): -128.047915141\n",
      "dist_diff 0.344368346609\n"
     ]
    },
    {
     "name": "stderr",
     "output_type": "stream",
     "text": [
      "\r",
      " 18%|█████████████▉                                                                 | 222/1261 [02:37<12:11,  1.42it/s]"
     ]
    },
    {
     "name": "stdout",
     "output_type": "stream",
     "text": [
      "ret 4.2101429871266305e-05\n",
      "LA.norm(trackline.diffs)>15*np.std(coefnorm): -121.422115705\n",
      "dist_diff 9.007511834\n"
     ]
    },
    {
     "name": "stderr",
     "output_type": "stream",
     "text": [
      "\r",
      " 18%|█████████████▉                                                                 | 223/1261 [02:38<12:13,  1.41it/s]"
     ]
    },
    {
     "name": "stdout",
     "output_type": "stream",
     "text": [
      "ret 0.0003961551650966122\n",
      "LA.norm(trackline.diffs)>15*np.std(coefnorm): -113.283342312\n",
      "dist_diff 7.22735425107\n"
     ]
    },
    {
     "name": "stderr",
     "output_type": "stream",
     "text": [
      "\r",
      " 18%|██████████████                                                                 | 224/1261 [02:39<12:12,  1.42it/s]"
     ]
    },
    {
     "name": "stdout",
     "output_type": "stream",
     "text": [
      "ret 0.00013255632702041664\n",
      "LA.norm(trackline.diffs)>15*np.std(coefnorm): -144.520003899\n",
      "dist_diff 4.11203024712\n"
     ]
    },
    {
     "name": "stderr",
     "output_type": "stream",
     "text": [
      "\r",
      " 18%|██████████████                                                                 | 225/1261 [02:39<12:11,  1.42it/s]"
     ]
    },
    {
     "name": "stdout",
     "output_type": "stream",
     "text": [
      "ret 0.00014078851812338034\n",
      "LA.norm(trackline.diffs)>15*np.std(coefnorm): -127.911796071\n",
      "dist_diff 4.86774342594\n"
     ]
    },
    {
     "name": "stderr",
     "output_type": "stream",
     "text": [
      "\r",
      " 18%|██████████████▏                                                                | 226/1261 [02:40<12:10,  1.42it/s]"
     ]
    },
    {
     "name": "stdout",
     "output_type": "stream",
     "text": [
      "ret 0.00016595081051595795\n",
      "LA.norm(trackline.diffs)>15*np.std(coefnorm): -139.370671857\n",
      "dist_diff 2.16257816237\n"
     ]
    },
    {
     "name": "stderr",
     "output_type": "stream",
     "text": [
      "\r",
      " 18%|██████████████▏                                                                | 227/1261 [02:41<12:12,  1.41it/s]"
     ]
    },
    {
     "name": "stdout",
     "output_type": "stream",
     "text": [
      "ret 0.00014546551365296478\n",
      "LA.norm(trackline.diffs)>15*np.std(coefnorm): -150.971592521\n",
      "dist_diff 0.501680226523\n"
     ]
    },
    {
     "name": "stderr",
     "output_type": "stream",
     "text": [
      "\r",
      " 18%|██████████████▎                                                                | 228/1261 [02:41<12:09,  1.42it/s]"
     ]
    },
    {
     "name": "stdout",
     "output_type": "stream",
     "text": [
      "ret 5.17217595433217e-05\n",
      "LA.norm(trackline.diffs)>15*np.std(coefnorm): -150.507918295\n",
      "dist_diff 2.60887575585\n"
     ]
    },
    {
     "name": "stderr",
     "output_type": "stream",
     "text": [
      "\r",
      " 18%|██████████████▎                                                                | 229/1261 [02:42<12:08,  1.42it/s]"
     ]
    },
    {
     "name": "stdout",
     "output_type": "stream",
     "text": [
      "ret 0.00022644977069319339\n",
      "LA.norm(trackline.diffs)>15*np.std(coefnorm): -137.733226854\n",
      "dist_diff 0.627475281817\n"
     ]
    },
    {
     "name": "stderr",
     "output_type": "stream",
     "text": [
      "\r",
      " 18%|██████████████▍                                                                | 230/1261 [02:43<12:07,  1.42it/s]"
     ]
    },
    {
     "name": "stdout",
     "output_type": "stream",
     "text": [
      "ret 9.949298265188311e-05\n",
      "LA.norm(trackline.diffs)>15*np.std(coefnorm): -136.663804994\n",
      "dist_diff 0.505980518227\n"
     ]
    },
    {
     "name": "stderr",
     "output_type": "stream",
     "text": [
      "\r",
      " 18%|██████████████▍                                                                | 231/1261 [02:44<12:06,  1.42it/s]"
     ]
    },
    {
     "name": "stdout",
     "output_type": "stream",
     "text": [
      "ret 0.00023407572614458916\n",
      "LA.norm(trackline.diffs)>15*np.std(coefnorm): -131.28128156\n",
      "dist_diff 5.28546186296\n"
     ]
    },
    {
     "name": "stderr",
     "output_type": "stream",
     "text": [
      "\r",
      " 18%|██████████████▌                                                                | 232/1261 [02:44<12:07,  1.41it/s]"
     ]
    },
    {
     "name": "stdout",
     "output_type": "stream",
     "text": [
      "ret 0.00022402650892561216\n",
      "LA.norm(trackline.diffs)>15*np.std(coefnorm): -111.130891143\n",
      "dist_diff 25.9588794554\n"
     ]
    },
    {
     "name": "stderr",
     "output_type": "stream",
     "text": [
      "\r",
      " 18%|██████████████▌                                                                | 233/1261 [02:45<12:06,  1.41it/s]"
     ]
    },
    {
     "name": "stdout",
     "output_type": "stream",
     "text": [
      "ret 6.480497230837434e-05\n",
      "LA.norm(trackline.diffs)>15*np.std(coefnorm): -108.799477715\n",
      "dist_diff 11.7892151935\n"
     ]
    },
    {
     "name": "stderr",
     "output_type": "stream",
     "text": [
      "\r",
      " 19%|██████████████▋                                                                | 234/1261 [02:46<12:03,  1.42it/s]"
     ]
    },
    {
     "name": "stdout",
     "output_type": "stream",
     "text": [
      "ret 3.992085345205787e-05\n",
      "LA.norm(trackline.diffs)>15*np.std(coefnorm): -107.824732936\n",
      "dist_diff 11.7009710964\n"
     ]
    },
    {
     "name": "stderr",
     "output_type": "stream",
     "text": [
      "\r",
      " 19%|██████████████▋                                                                | 235/1261 [02:46<12:01,  1.42it/s]"
     ]
    },
    {
     "name": "stdout",
     "output_type": "stream",
     "text": [
      "ret 0.000488897336232752\n",
      "LA.norm(trackline.diffs)>15*np.std(coefnorm): -85.2332701148\n",
      "dist_diff 8.65728849469\n"
     ]
    },
    {
     "name": "stderr",
     "output_type": "stream",
     "text": [
      "\r",
      " 19%|██████████████▊                                                                | 236/1261 [02:47<12:00,  1.42it/s]"
     ]
    },
    {
     "name": "stdout",
     "output_type": "stream",
     "text": [
      "ret 0.0004899348592912744\n",
      "LA.norm(trackline.diffs)>15*np.std(coefnorm): -84.7604809331\n",
      "dist_diff 2.44516050953\n"
     ]
    },
    {
     "name": "stderr",
     "output_type": "stream",
     "text": [
      "\r",
      " 19%|██████████████▊                                                                | 237/1261 [02:48<12:01,  1.42it/s]"
     ]
    },
    {
     "name": "stdout",
     "output_type": "stream",
     "text": [
      "ret 0.0001400250226998856\n",
      "LA.norm(trackline.diffs)>15*np.std(coefnorm): -169.866316566\n",
      "dist_diff 0.148793930477\n"
     ]
    },
    {
     "name": "stderr",
     "output_type": "stream",
     "text": [
      "\r",
      " 19%|██████████████▉                                                                | 238/1261 [02:49<12:03,  1.41it/s]"
     ]
    },
    {
     "name": "stdout",
     "output_type": "stream",
     "text": [
      "ret 0.00014545953354588859\n",
      "LA.norm(trackline.diffs)>15*np.std(coefnorm): -250.585509343\n",
      "dist_diff 3.01968717381\n"
     ]
    },
    {
     "name": "stderr",
     "output_type": "stream",
     "text": [
      "\r",
      " 19%|██████████████▉                                                                | 239/1261 [02:49<12:01,  1.42it/s]"
     ]
    },
    {
     "name": "stdout",
     "output_type": "stream",
     "text": [
      "ret 3.858027079584048e-06\n",
      "LA.norm(trackline.diffs)>15*np.std(coefnorm): -327.720921407\n",
      "dist_diff 3.04935982808\n"
     ]
    },
    {
     "name": "stderr",
     "output_type": "stream",
     "text": [
      "\r",
      " 19%|███████████████                                                                | 240/1261 [02:50<12:00,  1.42it/s]"
     ]
    },
    {
     "name": "stdout",
     "output_type": "stream",
     "text": [
      "ret 0.00011880425080834645\n",
      "LA.norm(trackline.diffs)>15*np.std(coefnorm): -382.628748465\n",
      "dist_diff 3.21346541397\n"
     ]
    },
    {
     "name": "stderr",
     "output_type": "stream",
     "text": [
      "\r",
      " 19%|███████████████                                                                | 241/1261 [02:51<11:59,  1.42it/s]"
     ]
    },
    {
     "name": "stdout",
     "output_type": "stream",
     "text": [
      "ret 0.00025885237859923915\n",
      "LA.norm(trackline.diffs)>15*np.std(coefnorm): -431.959478459\n",
      "dist_diff 5.71119664019\n"
     ]
    },
    {
     "name": "stderr",
     "output_type": "stream",
     "text": [
      "\r",
      " 19%|███████████████▏                                                               | 242/1261 [02:51<11:57,  1.42it/s]"
     ]
    },
    {
     "name": "stdout",
     "output_type": "stream",
     "text": [
      "ret 0.0003591752348535149\n",
      "LA.norm(trackline.diffs)>15*np.std(coefnorm): -393.63626418\n",
      "dist_diff 1.84083861704\n"
     ]
    },
    {
     "name": "stderr",
     "output_type": "stream",
     "text": [
      "\r",
      " 19%|███████████████▏                                                               | 243/1261 [02:52<11:58,  1.42it/s]"
     ]
    },
    {
     "name": "stdout",
     "output_type": "stream",
     "text": [
      "ret 0.00021234641172390711\n",
      "LA.norm(trackline.diffs)>15*np.std(coefnorm): -417.436590086\n",
      "dist_diff 2.1613059724\n"
     ]
    },
    {
     "name": "stderr",
     "output_type": "stream",
     "text": [
      "\r",
      " 19%|███████████████▎                                                               | 244/1261 [02:53<11:58,  1.42it/s]"
     ]
    },
    {
     "name": "stdout",
     "output_type": "stream",
     "text": [
      "ret 0.00023939019499852332\n",
      "LA.norm(trackline.diffs)>15*np.std(coefnorm): -350.554357353\n",
      "dist_diff 4.42258269118\n"
     ]
    },
    {
     "name": "stderr",
     "output_type": "stream",
     "text": [
      "\r",
      " 19%|███████████████▎                                                               | 245/1261 [02:53<11:58,  1.41it/s]"
     ]
    },
    {
     "name": "stdout",
     "output_type": "stream",
     "text": [
      "ret 9.253479491228012e-05\n",
      "LA.norm(trackline.diffs)>15*np.std(coefnorm): -296.483499012\n",
      "dist_diff 5.14372086723\n"
     ]
    },
    {
     "name": "stderr",
     "output_type": "stream",
     "text": [
      "\r",
      " 20%|███████████████▍                                                               | 246/1261 [02:54<11:56,  1.42it/s]"
     ]
    },
    {
     "name": "stdout",
     "output_type": "stream",
     "text": [
      "ret 9.95976353865835e-05\n",
      "LA.norm(trackline.diffs)>15*np.std(coefnorm): -133.41225378\n",
      "dist_diff 0.257965961494\n"
     ]
    },
    {
     "name": "stderr",
     "output_type": "stream",
     "text": [
      "\r",
      " 20%|███████████████▍                                                               | 247/1261 [02:55<11:55,  1.42it/s]"
     ]
    },
    {
     "name": "stdout",
     "output_type": "stream",
     "text": [
      "ret 0.0002134424033013449\n",
      "LA.norm(trackline.diffs)>15*np.std(coefnorm): -92.1050374406\n",
      "dist_diff 11.1095844258\n"
     ]
    },
    {
     "name": "stderr",
     "output_type": "stream",
     "text": [
      "\r",
      " 20%|███████████████▌                                                               | 248/1261 [02:56<11:54,  1.42it/s]"
     ]
    },
    {
     "name": "stdout",
     "output_type": "stream",
     "text": [
      "ret 6.727741101320017e-05\n",
      "LA.norm(trackline.diffs)>15*np.std(coefnorm): -110.23989421\n",
      "dist_diff 4.24926592523\n"
     ]
    },
    {
     "name": "stderr",
     "output_type": "stream",
     "text": [
      "\r",
      " 20%|███████████████▌                                                               | 249/1261 [02:56<11:54,  1.42it/s]"
     ]
    },
    {
     "name": "stdout",
     "output_type": "stream",
     "text": [
      "ret 2.0544351219675683e-06\n",
      "LA.norm(trackline.diffs)>15*np.std(coefnorm): -110.565578121\n",
      "dist_diff 0.60810240725\n"
     ]
    },
    {
     "name": "stderr",
     "output_type": "stream",
     "text": [
      "\r",
      " 20%|███████████████▋                                                               | 250/1261 [02:57<11:52,  1.42it/s]"
     ]
    },
    {
     "name": "stdout",
     "output_type": "stream",
     "text": [
      "ret 0.00014809894438994053\n",
      "LA.norm(trackline.diffs)>15*np.std(coefnorm): -106.980627118\n",
      "dist_diff 3.13671422544\n"
     ]
    },
    {
     "name": "stderr",
     "output_type": "stream",
     "text": [
      "\r",
      " 20%|███████████████▋                                                               | 251/1261 [02:58<11:52,  1.42it/s]"
     ]
    },
    {
     "name": "stdout",
     "output_type": "stream",
     "text": [
      "ret 0.00017571027572971243\n",
      "LA.norm(trackline.diffs)>15*np.std(coefnorm): -105.019098077\n",
      "dist_diff 0.859062005113\n"
     ]
    },
    {
     "name": "stderr",
     "output_type": "stream",
     "text": [
      "\r",
      " 20%|███████████████▊                                                               | 252/1261 [02:58<11:51,  1.42it/s]"
     ]
    },
    {
     "name": "stdout",
     "output_type": "stream",
     "text": [
      "ret 2.788138318421396e-05\n",
      "LA.norm(trackline.diffs)>15*np.std(coefnorm): -131.650674489\n",
      "dist_diff 2.57369219953\n"
     ]
    },
    {
     "name": "stderr",
     "output_type": "stream",
     "text": [
      "\r",
      " 20%|███████████████▊                                                               | 253/1261 [02:59<11:51,  1.42it/s]"
     ]
    },
    {
     "name": "stdout",
     "output_type": "stream",
     "text": [
      "ret 0.00024297256935862377\n",
      "LA.norm(trackline.diffs)>15*np.std(coefnorm): -109.80035859\n",
      "dist_diff 0.130915088289\n"
     ]
    },
    {
     "name": "stderr",
     "output_type": "stream",
     "text": [
      "\r",
      " 20%|███████████████▉                                                               | 254/1261 [03:00<11:51,  1.42it/s]"
     ]
    },
    {
     "name": "stdout",
     "output_type": "stream",
     "text": [
      "ret 7.921344798611507e-05\n",
      "LA.norm(trackline.diffs)>15*np.std(coefnorm): -165.515838522\n",
      "dist_diff 6.61878432662\n"
     ]
    },
    {
     "name": "stderr",
     "output_type": "stream",
     "text": [
      "\r",
      " 20%|███████████████▉                                                               | 255/1261 [03:01<11:51,  1.41it/s]"
     ]
    },
    {
     "name": "stdout",
     "output_type": "stream",
     "text": [
      "ret 0.0001197250554096918\n",
      "LA.norm(trackline.diffs)>15*np.std(coefnorm): -168.204937782\n",
      "dist_diff 4.52915847083\n"
     ]
    },
    {
     "name": "stderr",
     "output_type": "stream",
     "text": [
      "\r",
      " 20%|████████████████                                                               | 256/1261 [03:01<11:52,  1.41it/s]"
     ]
    },
    {
     "name": "stdout",
     "output_type": "stream",
     "text": [
      "ret 7.581479762958088e-05\n",
      "LA.norm(trackline.diffs)>15*np.std(coefnorm): -154.316836661\n",
      "dist_diff 8.44715651045\n"
     ]
    },
    {
     "name": "stderr",
     "output_type": "stream",
     "text": [
      "\r",
      " 20%|████████████████                                                               | 257/1261 [03:02<11:50,  1.41it/s]"
     ]
    },
    {
     "name": "stdout",
     "output_type": "stream",
     "text": [
      "ret 4.095951014271293e-05\n",
      "LA.norm(trackline.diffs)>15*np.std(coefnorm): -145.173355073\n",
      "dist_diff 13.3123466031\n"
     ]
    },
    {
     "name": "stderr",
     "output_type": "stream",
     "text": [
      "\r",
      " 20%|████████████████▏                                                              | 258/1261 [03:03<11:48,  1.41it/s]"
     ]
    },
    {
     "name": "stdout",
     "output_type": "stream",
     "text": [
      "ret 7.602007989870874e-05\n",
      "LA.norm(trackline.diffs)>15*np.std(coefnorm): -137.51147723\n",
      "dist_diff 2.69970717\n"
     ]
    },
    {
     "name": "stderr",
     "output_type": "stream",
     "text": [
      "\r",
      " 21%|████████████████▏                                                              | 259/1261 [03:03<11:49,  1.41it/s]"
     ]
    },
    {
     "name": "stdout",
     "output_type": "stream",
     "text": [
      "ret 6.874188730704445e-05\n",
      "LA.norm(trackline.diffs)>15*np.std(coefnorm): -164.798664756\n",
      "dist_diff 4.20095043791\n"
     ]
    },
    {
     "name": "stderr",
     "output_type": "stream",
     "text": [
      "\r",
      " 21%|████████████████▎                                                              | 260/1261 [03:04<11:48,  1.41it/s]"
     ]
    },
    {
     "name": "stdout",
     "output_type": "stream",
     "text": [
      "ret 0.00030762135916018174\n",
      "LA.norm(trackline.diffs)>15*np.std(coefnorm): -139.85209589\n",
      "dist_diff 8.71869291969\n"
     ]
    },
    {
     "name": "stderr",
     "output_type": "stream",
     "text": [
      "\r",
      " 21%|████████████████▎                                                              | 261/1261 [03:05<11:48,  1.41it/s]"
     ]
    },
    {
     "name": "stdout",
     "output_type": "stream",
     "text": [
      "ret 0.00032716540416971585\n",
      "LA.norm(trackline.diffs)>15*np.std(coefnorm): -142.314489878\n",
      "dist_diff 2.20932168351\n"
     ]
    },
    {
     "name": "stderr",
     "output_type": "stream",
     "text": [
      "\r",
      " 21%|████████████████▍                                                              | 262/1261 [03:05<11:48,  1.41it/s]"
     ]
    },
    {
     "name": "stdout",
     "output_type": "stream",
     "text": [
      "ret 7.138907631998315e-05\n",
      "LA.norm(trackline.diffs)>15*np.std(coefnorm): -186.736574307\n",
      "dist_diff 1.70477231686\n"
     ]
    },
    {
     "name": "stderr",
     "output_type": "stream",
     "text": [
      "\r",
      " 21%|████████████████▍                                                              | 263/1261 [03:06<11:47,  1.41it/s]"
     ]
    },
    {
     "name": "stdout",
     "output_type": "stream",
     "text": [
      "ret 0.00011163713310680112\n",
      "LA.norm(trackline.diffs)>15*np.std(coefnorm): -216.075698707\n",
      "dist_diff 2.27498019966\n"
     ]
    },
    {
     "name": "stderr",
     "output_type": "stream",
     "text": [
      "\r",
      " 21%|████████████████▌                                                              | 264/1261 [03:07<11:50,  1.40it/s]"
     ]
    },
    {
     "name": "stdout",
     "output_type": "stream",
     "text": [
      "ret 4.68459668583332e-05\n",
      "LA.norm(trackline.diffs)>15*np.std(coefnorm): -262.55969294\n",
      "dist_diff 1.99787306058\n"
     ]
    },
    {
     "name": "stderr",
     "output_type": "stream",
     "text": [
      "\r",
      " 21%|████████████████▌                                                              | 265/1261 [03:08<11:48,  1.41it/s]"
     ]
    },
    {
     "name": "stdout",
     "output_type": "stream",
     "text": [
      "ret 0.00017893819699094093\n",
      "LA.norm(trackline.diffs)>15*np.std(coefnorm): -299.30612888\n",
      "dist_diff 4.0999827485\n"
     ]
    },
    {
     "name": "stderr",
     "output_type": "stream",
     "text": [
      "\r",
      " 21%|████████████████▋                                                              | 266/1261 [03:08<11:47,  1.41it/s]"
     ]
    },
    {
     "name": "stdout",
     "output_type": "stream",
     "text": [
      "ret 7.065947593065669e-05\n",
      "LA.norm(trackline.diffs)>15*np.std(coefnorm): -380.96061118\n",
      "dist_diff 0.71626379786\n"
     ]
    },
    {
     "name": "stderr",
     "output_type": "stream",
     "text": [
      "\r",
      " 21%|████████████████▋                                                              | 267/1261 [03:09<11:45,  1.41it/s]"
     ]
    },
    {
     "name": "stdout",
     "output_type": "stream",
     "text": [
      "ret 0.00012021403001361008\n",
      "LA.norm(trackline.diffs)>15*np.std(coefnorm): -411.24912276\n",
      "dist_diff 1.28284681894\n"
     ]
    },
    {
     "name": "stderr",
     "output_type": "stream",
     "text": [
      "\r",
      " 21%|████████████████▊                                                              | 268/1261 [03:10<11:44,  1.41it/s]"
     ]
    },
    {
     "name": "stdout",
     "output_type": "stream",
     "text": [
      "ret 0.00017150073808525068\n",
      "LA.norm(trackline.diffs)>15*np.std(coefnorm): -389.742842847\n",
      "dist_diff 2.03755374425\n"
     ]
    },
    {
     "name": "stderr",
     "output_type": "stream",
     "text": [
      "\r",
      " 21%|████████████████▊                                                              | 269/1261 [03:10<11:43,  1.41it/s]"
     ]
    },
    {
     "name": "stdout",
     "output_type": "stream",
     "text": [
      "ret 3.0444528559714357e-05\n",
      "LA.norm(trackline.diffs)>15*np.std(coefnorm): -355.44953394\n",
      "dist_diff 4.22463641141\n"
     ]
    },
    {
     "name": "stderr",
     "output_type": "stream",
     "text": [
      "\r",
      " 21%|████████████████▉                                                              | 270/1261 [03:11<11:43,  1.41it/s]"
     ]
    },
    {
     "name": "stdout",
     "output_type": "stream",
     "text": [
      "ret 0.00019842216274790214\n",
      "LA.norm(trackline.diffs)>15*np.std(coefnorm): -329.220285828\n",
      "dist_diff 11.5122318721\n"
     ]
    },
    {
     "name": "stderr",
     "output_type": "stream",
     "text": [
      "\r",
      " 21%|████████████████▉                                                              | 271/1261 [03:12<11:43,  1.41it/s]"
     ]
    },
    {
     "name": "stdout",
     "output_type": "stream",
     "text": [
      "ret 0.0005229612127274907\n",
      "LA.norm(trackline.diffs)>15*np.std(coefnorm): -330.817728919\n",
      "dist_diff 7.50530959042\n"
     ]
    },
    {
     "name": "stderr",
     "output_type": "stream",
     "text": [
      "\r",
      " 22%|█████████████████                                                              | 272/1261 [03:13<11:42,  1.41it/s]"
     ]
    },
    {
     "name": "stdout",
     "output_type": "stream",
     "text": [
      "ret 9.675036095990741e-05\n",
      "LA.norm(trackline.diffs)>15*np.std(coefnorm): -215.091397687\n",
      "dist_diff 5.77068904633\n"
     ]
    },
    {
     "name": "stderr",
     "output_type": "stream",
     "text": [
      "\r",
      " 22%|█████████████████                                                              | 273/1261 [03:13<11:41,  1.41it/s]"
     ]
    },
    {
     "name": "stdout",
     "output_type": "stream",
     "text": [
      "ret 0.00017663996623545897\n",
      "LA.norm(trackline.diffs)>15*np.std(coefnorm): -158.926529567\n",
      "dist_diff 1.51677125712\n"
     ]
    },
    {
     "name": "stderr",
     "output_type": "stream",
     "text": [
      "\r",
      " 22%|█████████████████▏                                                             | 274/1261 [03:14<11:40,  1.41it/s]"
     ]
    },
    {
     "name": "stdout",
     "output_type": "stream",
     "text": [
      "ret 0.00015636616333147835\n",
      "LA.norm(trackline.diffs)>15*np.std(coefnorm): -109.008619495\n",
      "dist_diff 0.329749046549\n"
     ]
    },
    {
     "name": "stderr",
     "output_type": "stream",
     "text": [
      "\r",
      " 22%|█████████████████▏                                                             | 275/1261 [03:15<11:41,  1.41it/s]"
     ]
    },
    {
     "name": "stdout",
     "output_type": "stream",
     "text": [
      "ret 0.00022928897843788043\n",
      "LA.norm(trackline.diffs)>15*np.std(coefnorm): -69.7446834807\n",
      "dist_diff 0.88552134215\n"
     ]
    },
    {
     "name": "stderr",
     "output_type": "stream",
     "text": [
      "\r",
      " 22%|█████████████████▎                                                             | 276/1261 [03:15<11:38,  1.41it/s]"
     ]
    },
    {
     "name": "stdout",
     "output_type": "stream",
     "text": [
      "ret 9.759122802366349e-05\n",
      "LA.norm(trackline.diffs)>15*np.std(coefnorm): -79.8531097033\n",
      "dist_diff 4.36245276801\n"
     ]
    },
    {
     "name": "stderr",
     "output_type": "stream",
     "text": [
      "\r",
      " 22%|█████████████████▎                                                             | 277/1261 [03:16<11:38,  1.41it/s]"
     ]
    },
    {
     "name": "stdout",
     "output_type": "stream",
     "text": [
      "ret 0.0001540315622657884\n",
      "LA.norm(trackline.diffs)>15*np.std(coefnorm): -110.387901826\n",
      "dist_diff 1.17404124892\n"
     ]
    },
    {
     "name": "stderr",
     "output_type": "stream",
     "text": [
      "\r",
      " 22%|█████████████████▍                                                             | 278/1261 [03:17<11:36,  1.41it/s]"
     ]
    },
    {
     "name": "stdout",
     "output_type": "stream",
     "text": [
      "ret 2.9945240847872867e-05\n",
      "LA.norm(trackline.diffs)>15*np.std(coefnorm): -191.254944078\n",
      "dist_diff 11.0423031133\n"
     ]
    },
    {
     "name": "stderr",
     "output_type": "stream",
     "text": [
      "\r",
      " 22%|█████████████████▍                                                             | 279/1261 [03:18<11:37,  1.41it/s]"
     ]
    },
    {
     "name": "stdout",
     "output_type": "stream",
     "text": [
      "ret 4.6364641992369116e-07\n",
      "LA.norm(trackline.diffs)>15*np.std(coefnorm): -187.298791661\n",
      "dist_diff 0.0591339168498\n"
     ]
    },
    {
     "name": "stderr",
     "output_type": "stream",
     "text": [
      "\r",
      " 22%|█████████████████▌                                                             | 280/1261 [03:18<11:36,  1.41it/s]"
     ]
    },
    {
     "name": "stdout",
     "output_type": "stream",
     "text": [
      "ret 9.355840368885371e-05\n",
      "LA.norm(trackline.diffs)>15*np.std(coefnorm): -187.636743712\n",
      "dist_diff 2.86764209286\n"
     ]
    },
    {
     "name": "stderr",
     "output_type": "stream",
     "text": [
      "\r",
      " 22%|█████████████████▌                                                             | 281/1261 [03:19<11:38,  1.40it/s]"
     ]
    },
    {
     "name": "stdout",
     "output_type": "stream",
     "text": [
      "ret 0.00017705125137995603\n",
      "LA.norm(trackline.diffs)>15*np.std(coefnorm): -197.785488806\n",
      "dist_diff 11.4970692036\n"
     ]
    },
    {
     "name": "stderr",
     "output_type": "stream",
     "text": [
      "\r",
      " 22%|█████████████████▋                                                             | 282/1261 [03:20<11:36,  1.41it/s]"
     ]
    },
    {
     "name": "stdout",
     "output_type": "stream",
     "text": [
      "ret 1.8738681775654076e-05\n",
      "LA.norm(trackline.diffs)>15*np.std(coefnorm): -187.324351455\n",
      "dist_diff 1.9090422175\n"
     ]
    },
    {
     "name": "stderr",
     "output_type": "stream",
     "text": [
      "\r",
      " 22%|█████████████████▋                                                             | 283/1261 [03:20<11:34,  1.41it/s]"
     ]
    },
    {
     "name": "stdout",
     "output_type": "stream",
     "text": [
      "ret 3.503008803312779e-05\n",
      "LA.norm(trackline.diffs)>15*np.std(coefnorm): -233.618353934\n",
      "dist_diff 3.38882144497\n"
     ]
    },
    {
     "name": "stderr",
     "output_type": "stream",
     "text": [
      "\r",
      " 23%|█████████████████▊                                                             | 284/1261 [03:21<11:34,  1.41it/s]"
     ]
    },
    {
     "name": "stdout",
     "output_type": "stream",
     "text": [
      "ret 0.00015546134022803582\n",
      "LA.norm(trackline.diffs)>15*np.std(coefnorm): -243.831910828\n",
      "dist_diff 0.681473103164\n"
     ]
    },
    {
     "name": "stderr",
     "output_type": "stream",
     "text": [
      "\r",
      " 23%|█████████████████▊                                                             | 285/1261 [03:22<11:34,  1.40it/s]"
     ]
    },
    {
     "name": "stdout",
     "output_type": "stream",
     "text": [
      "ret 0.00012147776067927829\n",
      "LA.norm(trackline.diffs)>15*np.std(coefnorm): -276.483460869\n",
      "dist_diff 4.63477984686\n"
     ]
    },
    {
     "name": "stderr",
     "output_type": "stream",
     "text": [
      "\r",
      " 23%|█████████████████▉                                                             | 286/1261 [03:23<11:32,  1.41it/s]"
     ]
    },
    {
     "name": "stdout",
     "output_type": "stream",
     "text": [
      "ret 8.417461969523199e-05\n",
      "LA.norm(trackline.diffs)>15*np.std(coefnorm): -311.015931821\n",
      "dist_diff 3.23379179597\n"
     ]
    },
    {
     "name": "stderr",
     "output_type": "stream",
     "text": [
      "\r",
      " 23%|█████████████████▉                                                             | 287/1261 [03:23<11:31,  1.41it/s]"
     ]
    },
    {
     "name": "stdout",
     "output_type": "stream",
     "text": [
      "ret 9.282091444984264e-05\n",
      "LA.norm(trackline.diffs)>15*np.std(coefnorm): -315.644448386\n",
      "dist_diff 2.65993354607\n"
     ]
    },
    {
     "name": "stderr",
     "output_type": "stream",
     "text": [
      "\r",
      " 23%|██████████████████                                                             | 288/1261 [03:24<11:33,  1.40it/s]"
     ]
    },
    {
     "name": "stdout",
     "output_type": "stream",
     "text": [
      "ret 5.476229731371518e-05\n",
      "LA.norm(trackline.diffs)>15*np.std(coefnorm): -380.036317844\n",
      "dist_diff 6.61966860147\n"
     ]
    },
    {
     "name": "stderr",
     "output_type": "stream",
     "text": [
      "\r",
      " 23%|██████████████████                                                             | 289/1261 [03:25<11:32,  1.40it/s]"
     ]
    },
    {
     "name": "stdout",
     "output_type": "stream",
     "text": [
      "ret 7.244473200879176e-05\n",
      "LA.norm(trackline.diffs)>15*np.std(coefnorm): -377.688675833\n",
      "dist_diff 0.241959561026\n"
     ]
    },
    {
     "name": "stderr",
     "output_type": "stream",
     "text": [
      "\r",
      " 23%|██████████████████▏                                                            | 290/1261 [03:25<11:29,  1.41it/s]"
     ]
    },
    {
     "name": "stdout",
     "output_type": "stream",
     "text": [
      "ret 8.102701135170864e-05\n",
      "LA.norm(trackline.diffs)>15*np.std(coefnorm): -395.135430688\n",
      "dist_diff 5.79799117891\n"
     ]
    },
    {
     "name": "stderr",
     "output_type": "stream",
     "text": [
      "\r",
      " 23%|██████████████████▏                                                            | 291/1261 [03:26<11:27,  1.41it/s]"
     ]
    },
    {
     "name": "stdout",
     "output_type": "stream",
     "text": [
      "ret 5.114943584350051e-06\n",
      "LA.norm(trackline.diffs)>15*np.std(coefnorm): -321.259105432\n",
      "dist_diff 3.57377547522\n"
     ]
    },
    {
     "name": "stderr",
     "output_type": "stream",
     "text": [
      "\r",
      " 23%|██████████████████▎                                                            | 292/1261 [03:27<11:28,  1.41it/s]"
     ]
    },
    {
     "name": "stdout",
     "output_type": "stream",
     "text": [
      "ret 8.470969472107459e-05\n",
      "LA.norm(trackline.diffs)>15*np.std(coefnorm): -239.638559961\n",
      "dist_diff 3.83704224982\n"
     ]
    },
    {
     "name": "stderr",
     "output_type": "stream",
     "text": [
      "\r",
      " 23%|██████████████████▎                                                            | 293/1261 [03:27<11:26,  1.41it/s]"
     ]
    },
    {
     "name": "stdout",
     "output_type": "stream",
     "text": [
      "ret 0.00010323227607672569\n",
      "LA.norm(trackline.diffs)>15*np.std(coefnorm): -187.761933368\n",
      "dist_diff 4.73336946448\n"
     ]
    },
    {
     "name": "stderr",
     "output_type": "stream",
     "text": [
      "\r",
      " 23%|██████████████████▍                                                            | 294/1261 [03:28<11:26,  1.41it/s]"
     ]
    },
    {
     "name": "stdout",
     "output_type": "stream",
     "text": [
      "ret 3.802757260362721e-05\n",
      "LA.norm(trackline.diffs)>15*np.std(coefnorm): -129.978101439\n",
      "dist_diff 10.2006412813\n"
     ]
    },
    {
     "name": "stderr",
     "output_type": "stream",
     "text": [
      "\r",
      " 23%|██████████████████▍                                                            | 295/1261 [03:29<11:25,  1.41it/s]"
     ]
    },
    {
     "name": "stdout",
     "output_type": "stream",
     "text": [
      "ret 0.00010512246634664102\n",
      "LA.norm(trackline.diffs)>15*np.std(coefnorm): -125.184515837\n",
      "dist_diff 1.45320552988\n"
     ]
    },
    {
     "name": "stderr",
     "output_type": "stream",
     "text": [
      "\r",
      " 23%|██████████████████▌                                                            | 296/1261 [03:30<11:24,  1.41it/s]"
     ]
    },
    {
     "name": "stdout",
     "output_type": "stream",
     "text": [
      "ret 4.75071689399198e-05\n",
      "LA.norm(trackline.diffs)>15*np.std(coefnorm): -107.166853791\n",
      "dist_diff 0.877861538058\n"
     ]
    },
    {
     "name": "stderr",
     "output_type": "stream",
     "text": [
      "\r",
      " 24%|██████████████████▌                                                            | 297/1261 [03:30<11:23,  1.41it/s]"
     ]
    },
    {
     "name": "stdout",
     "output_type": "stream",
     "text": [
      "ret 1.9777151378574942e-05\n",
      "LA.norm(trackline.diffs)>15*np.std(coefnorm): -119.099343008\n",
      "dist_diff 2.60941195905\n"
     ]
    },
    {
     "name": "stderr",
     "output_type": "stream",
     "text": [
      "\r",
      " 24%|██████████████████▋                                                            | 298/1261 [03:31<11:24,  1.41it/s]"
     ]
    },
    {
     "name": "stdout",
     "output_type": "stream",
     "text": [
      "ret 6.962166222501676e-05\n",
      "LA.norm(trackline.diffs)>15*np.std(coefnorm): -139.154015257\n",
      "dist_diff 4.15256209533\n"
     ]
    },
    {
     "name": "stderr",
     "output_type": "stream",
     "text": [
      "\r",
      " 24%|██████████████████▋                                                            | 299/1261 [03:32<11:22,  1.41it/s]"
     ]
    },
    {
     "name": "stdout",
     "output_type": "stream",
     "text": [
      "ret 8.401127306922884e-05\n",
      "LA.norm(trackline.diffs)>15*np.std(coefnorm): -127.358951253\n",
      "dist_diff 1.94660799758\n"
     ]
    },
    {
     "name": "stderr",
     "output_type": "stream",
     "text": [
      "\r",
      " 24%|██████████████████▊                                                            | 300/1261 [03:32<11:20,  1.41it/s]"
     ]
    },
    {
     "name": "stdout",
     "output_type": "stream",
     "text": [
      "ret 3.0031307520272943e-05\n",
      "LA.norm(trackline.diffs)>15*np.std(coefnorm): -162.002562676\n",
      "dist_diff 1.3570936363\n"
     ]
    },
    {
     "name": "stderr",
     "output_type": "stream",
     "text": [
      "\r",
      " 24%|██████████████████▊                                                            | 301/1261 [03:33<11:20,  1.41it/s]"
     ]
    },
    {
     "name": "stdout",
     "output_type": "stream",
     "text": [
      "ret 0.00011932457909219485\n",
      "LA.norm(trackline.diffs)>15*np.std(coefnorm): -172.151632538\n",
      "dist_diff 1.47541797947\n"
     ]
    },
    {
     "name": "stderr",
     "output_type": "stream",
     "text": [
      "\r",
      " 24%|██████████████████▉                                                            | 302/1261 [03:34<11:19,  1.41it/s]"
     ]
    },
    {
     "name": "stdout",
     "output_type": "stream",
     "text": [
      "ret 4.569382333363681e-05\n",
      "LA.norm(trackline.diffs)>15*np.std(coefnorm): -199.957011018\n",
      "dist_diff 2.16631168395\n"
     ]
    },
    {
     "name": "stderr",
     "output_type": "stream",
     "text": [
      "\r",
      " 24%|██████████████████▉                                                            | 303/1261 [03:35<11:18,  1.41it/s]"
     ]
    },
    {
     "name": "stdout",
     "output_type": "stream",
     "text": [
      "ret 9.344608431494095e-06\n",
      "LA.norm(trackline.diffs)>15*np.std(coefnorm): -202.80012514\n",
      "dist_diff 2.70587292855\n"
     ]
    },
    {
     "name": "stderr",
     "output_type": "stream",
     "text": [
      "\r",
      " 24%|███████████████████                                                            | 304/1261 [03:35<11:19,  1.41it/s]"
     ]
    },
    {
     "name": "stdout",
     "output_type": "stream",
     "text": [
      "ret 7.395206659971398e-05\n",
      "LA.norm(trackline.diffs)>15*np.std(coefnorm): -164.990900824\n",
      "dist_diff 2.51416226962\n"
     ]
    },
    {
     "name": "stderr",
     "output_type": "stream",
     "text": [
      "\r",
      " 24%|███████████████████                                                            | 305/1261 [03:36<11:19,  1.41it/s]"
     ]
    },
    {
     "name": "stdout",
     "output_type": "stream",
     "text": [
      "ret 0.00014281608704486137\n",
      "LA.norm(trackline.diffs)>15*np.std(coefnorm): -151.952541187\n",
      "dist_diff 3.33377141185\n"
     ]
    },
    {
     "name": "stderr",
     "output_type": "stream",
     "text": [
      "\r",
      " 24%|███████████████████▏                                                           | 306/1261 [03:37<11:19,  1.41it/s]"
     ]
    },
    {
     "name": "stdout",
     "output_type": "stream",
     "text": [
      "ret 0.00012366588627449326\n",
      "LA.norm(trackline.diffs)>15*np.std(coefnorm): -112.931659708\n",
      "dist_diff 0.41468789251\n"
     ]
    },
    {
     "name": "stderr",
     "output_type": "stream",
     "text": [
      "\r",
      " 24%|███████████████████▏                                                           | 307/1261 [03:37<11:17,  1.41it/s]"
     ]
    },
    {
     "name": "stdout",
     "output_type": "stream",
     "text": [
      "ret 0.0002281630562321335\n",
      "LA.norm(trackline.diffs)>15*np.std(coefnorm): -110.786033462\n",
      "dist_diff 5.64204612809\n"
     ]
    },
    {
     "name": "stderr",
     "output_type": "stream",
     "text": [
      "\r",
      " 24%|███████████████████▎                                                           | 308/1261 [03:38<11:16,  1.41it/s]"
     ]
    },
    {
     "name": "stdout",
     "output_type": "stream",
     "text": [
      "ret 0.00013938918969458314\n",
      "LA.norm(trackline.diffs)>15*np.std(coefnorm): -98.6580275109\n",
      "dist_diff 4.5772210123\n"
     ]
    },
    {
     "name": "stderr",
     "output_type": "stream",
     "text": [
      "\r",
      " 25%|███████████████████▎                                                           | 309/1261 [03:39<11:14,  1.41it/s]"
     ]
    },
    {
     "name": "stdout",
     "output_type": "stream",
     "text": [
      "ret 4.8174380090859614e-05\n",
      "LA.norm(trackline.diffs)>15*np.std(coefnorm): -107.344673905\n",
      "dist_diff 5.91942616414\n"
     ]
    },
    {
     "name": "stderr",
     "output_type": "stream",
     "text": [
      "\r",
      " 25%|███████████████████▍                                                           | 310/1261 [03:40<11:14,  1.41it/s]"
     ]
    },
    {
     "name": "stdout",
     "output_type": "stream",
     "text": [
      "ret 1.172900078905137e-05\n",
      "LA.norm(trackline.diffs)>15*np.std(coefnorm): -111.833738715\n",
      "dist_diff 9.20739656537\n"
     ]
    },
    {
     "name": "stderr",
     "output_type": "stream",
     "text": [
      "\r",
      " 25%|███████████████████▍                                                           | 311/1261 [03:40<11:15,  1.41it/s]"
     ]
    },
    {
     "name": "stdout",
     "output_type": "stream",
     "text": [
      "ret 4.735225818286448e-05\n",
      "LA.norm(trackline.diffs)>15*np.std(coefnorm): -108.264808192\n",
      "dist_diff 0.145252091993\n"
     ]
    },
    {
     "name": "stderr",
     "output_type": "stream",
     "text": [
      "\r",
      " 25%|███████████████████▌                                                           | 312/1261 [03:41<11:13,  1.41it/s]"
     ]
    },
    {
     "name": "stdout",
     "output_type": "stream",
     "text": [
      "ret 0.0001111159387692795\n",
      "LA.norm(trackline.diffs)>15*np.std(coefnorm): -87.1048699526\n",
      "dist_diff 7.30953553506\n"
     ]
    },
    {
     "name": "stderr",
     "output_type": "stream",
     "text": [
      "\r",
      " 25%|███████████████████▌                                                           | 313/1261 [03:42<11:12,  1.41it/s]"
     ]
    },
    {
     "name": "stdout",
     "output_type": "stream",
     "text": [
      "ret 0.000121931916355289\n",
      "LA.norm(trackline.diffs)>15*np.std(coefnorm): -93.8569923181\n",
      "dist_diff 1.9990174848\n"
     ]
    },
    {
     "name": "stderr",
     "output_type": "stream",
     "text": [
      "\r",
      " 25%|███████████████████▋                                                           | 314/1261 [03:42<11:13,  1.41it/s]"
     ]
    },
    {
     "name": "stdout",
     "output_type": "stream",
     "text": [
      "ret 4.0273880679786433e-05\n",
      "LA.norm(trackline.diffs)>15*np.std(coefnorm): -98.710893068\n",
      "dist_diff 0.339196716969\n"
     ]
    },
    {
     "name": "stderr",
     "output_type": "stream",
     "text": [
      "\r",
      " 25%|███████████████████▋                                                           | 315/1261 [03:43<11:10,  1.41it/s]"
     ]
    },
    {
     "name": "stdout",
     "output_type": "stream",
     "text": [
      "ret 0.0001861388050241053\n",
      "LA.norm(trackline.diffs)>15*np.std(coefnorm): -92.5880885237\n",
      "dist_diff 5.70508995238\n"
     ]
    },
    {
     "name": "stderr",
     "output_type": "stream",
     "text": [
      "\r",
      " 25%|███████████████████▊                                                           | 316/1261 [03:44<11:12,  1.40it/s]"
     ]
    },
    {
     "name": "stdout",
     "output_type": "stream",
     "text": [
      "ret 0.00013854360287607337\n",
      "LA.norm(trackline.diffs)>15*np.std(coefnorm): -129.499152708\n",
      "dist_diff 10.747521541\n"
     ]
    },
    {
     "name": "stderr",
     "output_type": "stream",
     "text": [
      "\r",
      " 25%|███████████████████▊                                                           | 317/1261 [03:45<11:12,  1.40it/s]"
     ]
    },
    {
     "name": "stdout",
     "output_type": "stream",
     "text": [
      "ret 4.890467597412629e-05\n",
      "LA.norm(trackline.diffs)>15*np.std(coefnorm): -122.373006397\n",
      "dist_diff 4.7011967012\n"
     ]
    },
    {
     "name": "stderr",
     "output_type": "stream",
     "text": [
      "\r",
      " 25%|███████████████████▉                                                           | 318/1261 [03:45<11:12,  1.40it/s]"
     ]
    },
    {
     "name": "stdout",
     "output_type": "stream",
     "text": [
      "ret 9.550518713702383e-05\n",
      "LA.norm(trackline.diffs)>15*np.std(coefnorm): -118.703568972\n",
      "dist_diff 0.703278946253\n"
     ]
    },
    {
     "name": "stderr",
     "output_type": "stream",
     "text": [
      "\r",
      " 25%|███████████████████▉                                                           | 319/1261 [03:46<11:11,  1.40it/s]"
     ]
    },
    {
     "name": "stdout",
     "output_type": "stream",
     "text": [
      "ret 0.00011556965255754559\n",
      "LA.norm(trackline.diffs)>15*np.std(coefnorm): -163.742971629\n",
      "dist_diff 3.8928514171\n"
     ]
    },
    {
     "name": "stderr",
     "output_type": "stream",
     "text": [
      "\r",
      " 25%|████████████████████                                                           | 320/1261 [03:47<11:11,  1.40it/s]"
     ]
    },
    {
     "name": "stdout",
     "output_type": "stream",
     "text": [
      "ret 0.00010732664071849696\n",
      "LA.norm(trackline.diffs)>15*np.std(coefnorm): -171.63660876\n",
      "dist_diff 0.413605498584\n"
     ]
    },
    {
     "name": "stderr",
     "output_type": "stream",
     "text": [
      "\r",
      " 25%|████████████████████                                                           | 321/1261 [03:47<11:10,  1.40it/s]"
     ]
    },
    {
     "name": "stdout",
     "output_type": "stream",
     "text": [
      "ret 7.309307874792115e-06\n",
      "LA.norm(trackline.diffs)>15*np.std(coefnorm): -206.264563205\n",
      "dist_diff 3.41739981234\n"
     ]
    },
    {
     "name": "stderr",
     "output_type": "stream",
     "text": [
      "\r",
      " 26%|████████████████████▏                                                          | 322/1261 [03:48<11:09,  1.40it/s]"
     ]
    },
    {
     "name": "stdout",
     "output_type": "stream",
     "text": [
      "ret 2.9717405123530494e-05\n",
      "LA.norm(trackline.diffs)>15*np.std(coefnorm): -224.401986836\n",
      "dist_diff 2.80505687174\n"
     ]
    },
    {
     "name": "stderr",
     "output_type": "stream",
     "text": [
      "\r",
      " 26%|████████████████████▏                                                          | 323/1261 [03:49<11:06,  1.41it/s]"
     ]
    },
    {
     "name": "stdout",
     "output_type": "stream",
     "text": [
      "ret 6.815433448936759e-05\n",
      "LA.norm(trackline.diffs)>15*np.std(coefnorm): -207.436835776\n",
      "dist_diff 7.49724424829\n"
     ]
    },
    {
     "name": "stderr",
     "output_type": "stream",
     "text": [
      "\r",
      " 26%|████████████████████▎                                                          | 324/1261 [03:50<11:05,  1.41it/s]"
     ]
    },
    {
     "name": "stdout",
     "output_type": "stream",
     "text": [
      "ret 1.370685917490011e-05\n",
      "LA.norm(trackline.diffs)>15*np.std(coefnorm): -216.301617498\n",
      "dist_diff 2.53439325601\n"
     ]
    },
    {
     "name": "stderr",
     "output_type": "stream",
     "text": [
      "\r",
      " 26%|████████████████████▎                                                          | 325/1261 [03:50<11:07,  1.40it/s]"
     ]
    },
    {
     "name": "stdout",
     "output_type": "stream",
     "text": [
      "ret 1.9198449638380133e-06\n",
      "LA.norm(trackline.diffs)>15*np.std(coefnorm): -201.236607873\n",
      "dist_diff 0.408625501701\n"
     ]
    },
    {
     "name": "stderr",
     "output_type": "stream",
     "text": [
      "\r",
      " 26%|████████████████████▍                                                          | 326/1261 [03:51<11:06,  1.40it/s]"
     ]
    },
    {
     "name": "stdout",
     "output_type": "stream",
     "text": [
      "ret 7.179572880089413e-05\n",
      "LA.norm(trackline.diffs)>15*np.std(coefnorm): -171.77287744\n",
      "dist_diff 2.67745284007\n"
     ]
    },
    {
     "name": "stderr",
     "output_type": "stream",
     "text": [
      "\r",
      " 26%|████████████████████▍                                                          | 327/1261 [03:52<11:04,  1.40it/s]"
     ]
    },
    {
     "name": "stdout",
     "output_type": "stream",
     "text": [
      "ret 3.899664541728853e-06\n",
      "LA.norm(trackline.diffs)>15*np.std(coefnorm): -168.113899605\n",
      "dist_diff 1.67277616826\n"
     ]
    },
    {
     "name": "stderr",
     "output_type": "stream",
     "text": [
      "\r",
      " 26%|████████████████████▌                                                          | 328/1261 [03:52<11:04,  1.40it/s]"
     ]
    },
    {
     "name": "stdout",
     "output_type": "stream",
     "text": [
      "ret 0.00012141645201446671\n",
      "LA.norm(trackline.diffs)>15*np.std(coefnorm): -136.392497253\n",
      "dist_diff 0.512487462393\n"
     ]
    },
    {
     "name": "stderr",
     "output_type": "stream",
     "text": [
      "\r",
      " 26%|████████████████████▌                                                          | 329/1261 [03:53<11:03,  1.40it/s]"
     ]
    },
    {
     "name": "stdout",
     "output_type": "stream",
     "text": [
      "ret 0.0001374790702757811\n",
      "LA.norm(trackline.diffs)>15*np.std(coefnorm): -179.802831418\n",
      "dist_diff 8.4319614904\n"
     ]
    },
    {
     "name": "stderr",
     "output_type": "stream",
     "text": [
      "\r",
      " 26%|████████████████████▋                                                          | 330/1261 [03:54<11:02,  1.40it/s]"
     ]
    },
    {
     "name": "stdout",
     "output_type": "stream",
     "text": [
      "ret 0.00029407990772062353\n",
      "LA.norm(trackline.diffs)>15*np.std(coefnorm): -177.699363784\n",
      "dist_diff 11.0999265933\n"
     ]
    },
    {
     "name": "stderr",
     "output_type": "stream",
     "text": [
      "\r",
      " 26%|████████████████████▋                                                          | 331/1261 [03:54<11:02,  1.40it/s]"
     ]
    },
    {
     "name": "stdout",
     "output_type": "stream",
     "text": [
      "ret 0.0003765756107280138\n",
      "LA.norm(trackline.diffs)>15*np.std(coefnorm): -181.539228312\n",
      "dist_diff 11.773462873\n"
     ]
    },
    {
     "name": "stderr",
     "output_type": "stream",
     "text": [
      "\r",
      " 26%|████████████████████▊                                                          | 332/1261 [03:55<11:02,  1.40it/s]"
     ]
    },
    {
     "name": "stdout",
     "output_type": "stream",
     "text": [
      "ret 0.00043059841635284535\n",
      "LA.norm(trackline.diffs)>15*np.std(coefnorm): -174.205126711\n",
      "dist_diff 2.47257625387\n"
     ]
    },
    {
     "name": "stderr",
     "output_type": "stream",
     "text": [
      "\r",
      " 26%|████████████████████▊                                                          | 333/1261 [03:56<11:00,  1.41it/s]"
     ]
    },
    {
     "name": "stdout",
     "output_type": "stream",
     "text": [
      "ret 5.327118095732608e-05\n",
      "LA.norm(trackline.diffs)>15*np.std(coefnorm): -149.419699351\n",
      "dist_diff 2.34308646458\n"
     ]
    },
    {
     "name": "stderr",
     "output_type": "stream",
     "text": [
      "\r",
      " 26%|████████████████████▉                                                          | 334/1261 [03:57<10:57,  1.41it/s]"
     ]
    },
    {
     "name": "stdout",
     "output_type": "stream",
     "text": [
      "ret 2.0746651579639508e-05\n",
      "LA.norm(trackline.diffs)>15*np.std(coefnorm): -134.479235415\n",
      "dist_diff 1.00374052456\n"
     ]
    },
    {
     "name": "stderr",
     "output_type": "stream",
     "text": [
      "\r",
      " 27%|████████████████████▉                                                          | 335/1261 [03:57<10:58,  1.41it/s]"
     ]
    },
    {
     "name": "stdout",
     "output_type": "stream",
     "text": [
      "ret 0.00012840896826837866\n",
      "LA.norm(trackline.diffs)>15*np.std(coefnorm): -101.687884775\n",
      "dist_diff 6.93443189942\n"
     ]
    },
    {
     "name": "stderr",
     "output_type": "stream",
     "text": [
      "\r",
      " 27%|█████████████████████                                                          | 336/1261 [03:58<10:57,  1.41it/s]"
     ]
    },
    {
     "name": "stdout",
     "output_type": "stream",
     "text": [
      "ret 2.5058188057480724e-05\n",
      "LA.norm(trackline.diffs)>15*np.std(coefnorm): -101.460307\n",
      "dist_diff 0.355556153915\n"
     ]
    },
    {
     "name": "stderr",
     "output_type": "stream",
     "text": [
      "\r",
      " 27%|█████████████████████                                                          | 337/1261 [03:59<10:59,  1.40it/s]"
     ]
    },
    {
     "name": "stdout",
     "output_type": "stream",
     "text": [
      "ret 6.267261558301485e-05\n",
      "LA.norm(trackline.diffs)>15*np.std(coefnorm): -140.410249132\n",
      "dist_diff 3.9376094509\n"
     ]
    },
    {
     "name": "stderr",
     "output_type": "stream",
     "text": [
      "\r",
      " 27%|█████████████████████▏                                                         | 338/1261 [03:59<10:57,  1.40it/s]"
     ]
    },
    {
     "name": "stdout",
     "output_type": "stream",
     "text": [
      "ret 6.352460022562845e-06\n",
      "LA.norm(trackline.diffs)>15*np.std(coefnorm): -157.198587325\n",
      "dist_diff 1.27261022928\n"
     ]
    },
    {
     "name": "stderr",
     "output_type": "stream",
     "text": [
      "\r",
      " 27%|█████████████████████▏                                                         | 339/1261 [04:00<10:55,  1.41it/s]"
     ]
    },
    {
     "name": "stdout",
     "output_type": "stream",
     "text": [
      "ret 0.00011930598788584268\n",
      "LA.norm(trackline.diffs)>15*np.std(coefnorm): -157.264313799\n",
      "dist_diff 0.0552030775334\n"
     ]
    },
    {
     "name": "stderr",
     "output_type": "stream",
     "text": [
      "\r",
      " 27%|█████████████████████▎                                                         | 340/1261 [04:01<10:54,  1.41it/s]"
     ]
    },
    {
     "name": "stdout",
     "output_type": "stream",
     "text": [
      "ret 5.807032581117699e-05\n",
      "LA.norm(trackline.diffs)>15*np.std(coefnorm): -152.091787928\n",
      "dist_diff 8.24996314412\n"
     ]
    },
    {
     "name": "stderr",
     "output_type": "stream",
     "text": [
      "\r",
      " 27%|█████████████████████▎                                                         | 341/1261 [04:02<10:53,  1.41it/s]"
     ]
    },
    {
     "name": "stdout",
     "output_type": "stream",
     "text": [
      "ret 0.000190823237964155\n",
      "LA.norm(trackline.diffs)>15*np.std(coefnorm): -141.185016644\n",
      "dist_diff 9.52947380395\n"
     ]
    },
    {
     "name": "stderr",
     "output_type": "stream",
     "text": [
      "\r",
      " 27%|█████████████████████▍                                                         | 342/1261 [04:02<10:54,  1.40it/s]"
     ]
    },
    {
     "name": "stdout",
     "output_type": "stream",
     "text": [
      "ret 0.00013684098682809065\n",
      "LA.norm(trackline.diffs)>15*np.std(coefnorm): -148.770636233\n",
      "dist_diff 2.4602040211\n"
     ]
    },
    {
     "name": "stderr",
     "output_type": "stream",
     "text": [
      "\r",
      " 27%|█████████████████████▍                                                         | 343/1261 [04:03<10:52,  1.41it/s]"
     ]
    },
    {
     "name": "stdout",
     "output_type": "stream",
     "text": [
      "ret 4.652747260580625e-05\n",
      "LA.norm(trackline.diffs)>15*np.std(coefnorm): -146.46996353\n",
      "dist_diff 1.53684651449\n"
     ]
    },
    {
     "name": "stderr",
     "output_type": "stream",
     "text": [
      "\r",
      " 27%|█████████████████████▌                                                         | 344/1261 [04:04<10:50,  1.41it/s]"
     ]
    },
    {
     "name": "stdout",
     "output_type": "stream",
     "text": [
      "ret 3.540585490641179e-05\n",
      "LA.norm(trackline.diffs)>15*np.std(coefnorm): -149.580120263\n",
      "dist_diff 0.907753075432\n"
     ]
    },
    {
     "name": "stderr",
     "output_type": "stream",
     "text": [
      "\r",
      " 27%|█████████████████████▌                                                         | 345/1261 [04:04<10:51,  1.41it/s]"
     ]
    },
    {
     "name": "stdout",
     "output_type": "stream",
     "text": [
      "ret 4.893382151133219e-05\n",
      "LA.norm(trackline.diffs)>15*np.std(coefnorm): -130.511297909\n",
      "dist_diff 2.36384256061\n"
     ]
    },
    {
     "name": "stderr",
     "output_type": "stream",
     "text": [
      "\r",
      " 27%|█████████████████████▋                                                         | 346/1261 [04:05<10:49,  1.41it/s]"
     ]
    },
    {
     "name": "stdout",
     "output_type": "stream",
     "text": [
      "ret 3.7336309488933406e-05\n",
      "LA.norm(trackline.diffs)>15*np.std(coefnorm): -139.925840262\n",
      "dist_diff 3.282304154\n"
     ]
    },
    {
     "name": "stderr",
     "output_type": "stream",
     "text": [
      "\r",
      " 28%|█████████████████████▋                                                         | 347/1261 [04:06<10:49,  1.41it/s]"
     ]
    },
    {
     "name": "stdout",
     "output_type": "stream",
     "text": [
      "ret 6.989080108166235e-05\n",
      "LA.norm(trackline.diffs)>15*np.std(coefnorm): -69.4266367452\n",
      "dist_diff 1.01519070661\n"
     ]
    },
    {
     "name": "stderr",
     "output_type": "stream",
     "text": [
      "\r",
      " 28%|█████████████████████▊                                                         | 348/1261 [04:07<10:50,  1.40it/s]"
     ]
    },
    {
     "name": "stdout",
     "output_type": "stream",
     "text": [
      "ret 4.6574998205983764e-05\n",
      "LA.norm(trackline.diffs)>15*np.std(coefnorm): -95.5970816402\n",
      "dist_diff 0.0832560673819\n"
     ]
    },
    {
     "name": "stderr",
     "output_type": "stream",
     "text": [
      "\r",
      " 28%|█████████████████████▊                                                         | 349/1261 [04:07<10:52,  1.40it/s]"
     ]
    },
    {
     "name": "stdout",
     "output_type": "stream",
     "text": [
      "ret 8.551441163001661e-05\n",
      "LA.norm(trackline.diffs)>15*np.std(coefnorm): -87.8514056961\n",
      "dist_diff 1.51014277374\n"
     ]
    },
    {
     "name": "stderr",
     "output_type": "stream",
     "text": [
      "\r",
      " 28%|█████████████████████▉                                                         | 350/1261 [04:08<10:49,  1.40it/s]"
     ]
    },
    {
     "name": "stdout",
     "output_type": "stream",
     "text": [
      "ret 1.5775653026128822e-05\n",
      "LA.norm(trackline.diffs)>15*np.std(coefnorm): -100.296074699\n",
      "dist_diff 1.2580479867\n"
     ]
    },
    {
     "name": "stderr",
     "output_type": "stream",
     "text": [
      "\r",
      " 28%|█████████████████████▉                                                         | 351/1261 [04:09<10:47,  1.40it/s]"
     ]
    },
    {
     "name": "stdout",
     "output_type": "stream",
     "text": [
      "ret 1.9767933089609446e-05\n",
      "LA.norm(trackline.diffs)>15*np.std(coefnorm): -95.1140667823\n",
      "dist_diff 2.3083983046\n"
     ]
    },
    {
     "name": "stderr",
     "output_type": "stream",
     "text": [
      "\r",
      " 28%|██████████████████████                                                         | 352/1261 [04:09<10:46,  1.41it/s]"
     ]
    },
    {
     "name": "stdout",
     "output_type": "stream",
     "text": [
      "ret 8.885633796656967e-05\n",
      "LA.norm(trackline.diffs)>15*np.std(coefnorm): -61.3837913593\n",
      "dist_diff 6.29030025221\n"
     ]
    },
    {
     "name": "stderr",
     "output_type": "stream",
     "text": [
      "\r",
      " 28%|██████████████████████                                                         | 353/1261 [04:10<10:45,  1.41it/s]"
     ]
    },
    {
     "name": "stdout",
     "output_type": "stream",
     "text": [
      "ret 2.9900763726664614e-06\n",
      "LA.norm(trackline.diffs)>15*np.std(coefnorm): -64.8641248594\n",
      "dist_diff 0.954635979489\n"
     ]
    },
    {
     "name": "stderr",
     "output_type": "stream",
     "text": [
      "\r",
      " 28%|██████████████████████▏                                                        | 354/1261 [04:11<10:43,  1.41it/s]"
     ]
    },
    {
     "name": "stdout",
     "output_type": "stream",
     "text": [
      "ret 1.70337820705746e-05\n",
      "LA.norm(trackline.diffs)>15*np.std(coefnorm): -56.6036762048\n",
      "dist_diff 2.08352128926\n"
     ]
    },
    {
     "name": "stderr",
     "output_type": "stream",
     "text": [
      "\r",
      " 28%|██████████████████████▏                                                        | 355/1261 [04:12<10:42,  1.41it/s]"
     ]
    },
    {
     "name": "stdout",
     "output_type": "stream",
     "text": [
      "ret 7.903246244322926e-05\n",
      "LA.norm(trackline.diffs)>15*np.std(coefnorm): -55.3293850264\n",
      "dist_diff 8.05034852547\n"
     ]
    },
    {
     "name": "stderr",
     "output_type": "stream",
     "text": [
      "\r",
      " 28%|██████████████████████▎                                                        | 356/1261 [04:12<10:42,  1.41it/s]"
     ]
    },
    {
     "name": "stdout",
     "output_type": "stream",
     "text": [
      "ret 0.00012111703056827405\n",
      "LA.norm(trackline.diffs)>15*np.std(coefnorm): -52.4602718508\n",
      "dist_diff 2.04333384972\n"
     ]
    },
    {
     "name": "stderr",
     "output_type": "stream",
     "text": [
      "\r",
      " 28%|██████████████████████▎                                                        | 357/1261 [04:13<10:41,  1.41it/s]"
     ]
    },
    {
     "name": "stdout",
     "output_type": "stream",
     "text": [
      "ret 2.2855140462074708e-05\n",
      "LA.norm(trackline.diffs)>15*np.std(coefnorm): -51.3519997652\n",
      "dist_diff 0.42533456403\n"
     ]
    },
    {
     "name": "stderr",
     "output_type": "stream",
     "text": [
      "\r",
      " 28%|██████████████████████▍                                                        | 358/1261 [04:14<10:42,  1.41it/s]"
     ]
    },
    {
     "name": "stdout",
     "output_type": "stream",
     "text": [
      "ret 4.045205668323781e-06\n",
      "LA.norm(trackline.diffs)>15*np.std(coefnorm): -44.4707717411\n",
      "dist_diff 5.63442793032\n"
     ]
    },
    {
     "name": "stderr",
     "output_type": "stream",
     "text": [
      "\r",
      " 28%|██████████████████████▍                                                        | 359/1261 [04:14<10:39,  1.41it/s]"
     ]
    },
    {
     "name": "stdout",
     "output_type": "stream",
     "text": [
      "ret 5.2825695668723416e-05\n",
      "LA.norm(trackline.diffs)>15*np.std(coefnorm): -44.4303067291\n",
      "dist_diff 0.809526002974\n"
     ]
    },
    {
     "name": "stderr",
     "output_type": "stream",
     "text": [
      "\r",
      " 29%|██████████████████████▌                                                        | 360/1261 [04:15<10:40,  1.41it/s]"
     ]
    },
    {
     "name": "stdout",
     "output_type": "stream",
     "text": [
      "ret 5.857297624589641e-05\n",
      "LA.norm(trackline.diffs)>15*np.std(coefnorm): -49.8844535828\n",
      "dist_diff 3.32094001692\n"
     ]
    },
    {
     "name": "stderr",
     "output_type": "stream",
     "text": [
      "\r",
      " 29%|██████████████████████▌                                                        | 361/1261 [04:16<10:40,  1.41it/s]"
     ]
    },
    {
     "name": "stdout",
     "output_type": "stream",
     "text": [
      "ret 9.790941847831469e-06\n",
      "LA.norm(trackline.diffs)>15*np.std(coefnorm): -43.9016631364\n",
      "dist_diff 5.8316589138\n"
     ]
    },
    {
     "name": "stderr",
     "output_type": "stream",
     "text": [
      "\r",
      " 29%|██████████████████████▋                                                        | 362/1261 [04:17<10:40,  1.40it/s]"
     ]
    },
    {
     "name": "stdout",
     "output_type": "stream",
     "text": [
      "ret 6.5008688408974e-05\n",
      "LA.norm(trackline.diffs)>15*np.std(coefnorm): -39.270662468\n",
      "dist_diff 2.36064519099\n"
     ]
    },
    {
     "name": "stderr",
     "output_type": "stream",
     "text": [
      "\r",
      " 29%|██████████████████████▋                                                        | 363/1261 [04:17<10:39,  1.40it/s]"
     ]
    },
    {
     "name": "stdout",
     "output_type": "stream",
     "text": [
      "ret 0.0001793410513188931\n",
      "LA.norm(trackline.diffs)>15*np.std(coefnorm): -9.99983720132\n",
      "dist_diff 1.61339140575\n"
     ]
    },
    {
     "name": "stderr",
     "output_type": "stream",
     "text": [
      "\r",
      " 29%|██████████████████████▊                                                        | 364/1261 [04:18<10:38,  1.41it/s]"
     ]
    },
    {
     "name": "stdout",
     "output_type": "stream",
     "text": [
      "ret 1.9228084338074325e-05\n",
      "LA.norm(trackline.diffs)>15*np.std(coefnorm): -29.5542556152\n",
      "dist_diff 4.02310169582\n"
     ]
    },
    {
     "name": "stderr",
     "output_type": "stream",
     "text": [
      "\r",
      " 29%|██████████████████████▊                                                        | 365/1261 [04:19<10:37,  1.40it/s]"
     ]
    },
    {
     "name": "stdout",
     "output_type": "stream",
     "text": [
      "ret 0.00010337074433880433\n",
      "LA.norm(trackline.diffs)>15*np.std(coefnorm): -25.5320458449\n",
      "dist_diff 10.9046506289\n"
     ]
    },
    {
     "name": "stderr",
     "output_type": "stream",
     "text": [
      "\r",
      " 29%|██████████████████████▉                                                        | 366/1261 [04:19<10:37,  1.40it/s]"
     ]
    },
    {
     "name": "stdout",
     "output_type": "stream",
     "text": [
      "ret 4.9717481074074144e-05\n",
      "LA.norm(trackline.diffs)>15*np.std(coefnorm): -28.1821906878\n",
      "dist_diff 0.340179466464\n"
     ]
    },
    {
     "name": "stderr",
     "output_type": "stream",
     "text": [
      "\r",
      " 29%|██████████████████████▉                                                        | 367/1261 [04:20<10:37,  1.40it/s]"
     ]
    },
    {
     "name": "stdout",
     "output_type": "stream",
     "text": [
      "ret 3.938680081067014e-05\n",
      "LA.norm(trackline.diffs)>15*np.std(coefnorm): -58.9505154089\n",
      "dist_diff 1.12215447838\n"
     ]
    },
    {
     "name": "stderr",
     "output_type": "stream",
     "text": [
      "\r",
      " 29%|███████████████████████                                                        | 368/1261 [04:21<10:33,  1.41it/s]"
     ]
    },
    {
     "name": "stdout",
     "output_type": "stream",
     "text": [
      "ret 8.455979863475349e-05\n",
      "LA.norm(trackline.diffs)>15*np.std(coefnorm): -94.5379065959\n",
      "dist_diff 2.20689625069\n"
     ]
    },
    {
     "name": "stderr",
     "output_type": "stream",
     "text": [
      "\r",
      " 29%|███████████████████████                                                        | 369/1261 [04:22<10:33,  1.41it/s]"
     ]
    },
    {
     "name": "stdout",
     "output_type": "stream",
     "text": [
      "ret 6.924177636552509e-05\n",
      "LA.norm(trackline.diffs)>15*np.std(coefnorm): -105.157723258\n",
      "dist_diff 1.19045234687\n"
     ]
    },
    {
     "name": "stderr",
     "output_type": "stream",
     "text": [
      "\r",
      " 29%|███████████████████████▏                                                       | 370/1261 [04:22<10:32,  1.41it/s]"
     ]
    },
    {
     "name": "stdout",
     "output_type": "stream",
     "text": [
      "ret 9.632853696156518e-05\n",
      "LA.norm(trackline.diffs)>15*np.std(coefnorm): -110.805199503\n",
      "dist_diff 7.60111198162\n"
     ]
    },
    {
     "name": "stderr",
     "output_type": "stream",
     "text": [
      "\r",
      " 29%|███████████████████████▏                                                       | 371/1261 [04:23<10:33,  1.41it/s]"
     ]
    },
    {
     "name": "stdout",
     "output_type": "stream",
     "text": [
      "ret 5.1277107175784487e-05\n",
      "LA.norm(trackline.diffs)>15*np.std(coefnorm): -112.627318052\n",
      "dist_diff 0.657181433515\n"
     ]
    },
    {
     "name": "stderr",
     "output_type": "stream",
     "text": [
      "\r",
      " 30%|███████████████████████▎                                                       | 372/1261 [04:24<10:33,  1.40it/s]"
     ]
    },
    {
     "name": "stdout",
     "output_type": "stream",
     "text": [
      "ret 2.470467341536553e-05\n",
      "LA.norm(trackline.diffs)>15*np.std(coefnorm): -127.325410032\n",
      "dist_diff 0.90041266254\n"
     ]
    },
    {
     "name": "stderr",
     "output_type": "stream",
     "text": [
      "\r",
      " 30%|███████████████████████▎                                                       | 373/1261 [04:24<10:31,  1.41it/s]"
     ]
    },
    {
     "name": "stdout",
     "output_type": "stream",
     "text": [
      "ret 1.336596470064011e-05\n",
      "LA.norm(trackline.diffs)>15*np.std(coefnorm): -140.164471628\n",
      "dist_diff 3.51509060741\n"
     ]
    },
    {
     "name": "stderr",
     "output_type": "stream",
     "text": [
      "\r",
      " 30%|███████████████████████▍                                                       | 374/1261 [04:25<10:29,  1.41it/s]"
     ]
    },
    {
     "name": "stdout",
     "output_type": "stream",
     "text": [
      "ret 1.2206886282561946e-05\n",
      "LA.norm(trackline.diffs)>15*np.std(coefnorm): -121.589155667\n",
      "dist_diff 0.0333428517391\n"
     ]
    },
    {
     "name": "stderr",
     "output_type": "stream",
     "text": [
      "\r",
      " 30%|███████████████████████▍                                                       | 375/1261 [04:26<10:29,  1.41it/s]"
     ]
    },
    {
     "name": "stdout",
     "output_type": "stream",
     "text": [
      "ret 0.00019120999303690045\n",
      "LA.norm(trackline.diffs)>15*np.std(coefnorm): -86.3005311943\n",
      "dist_diff 0.574967846307\n"
     ]
    },
    {
     "name": "stderr",
     "output_type": "stream",
     "text": [
      "\r",
      " 30%|███████████████████████▌                                                       | 376/1261 [04:26<10:27,  1.41it/s]"
     ]
    },
    {
     "name": "stdout",
     "output_type": "stream",
     "text": [
      "ret 1.763470682686341e-05\n",
      "LA.norm(trackline.diffs)>15*np.std(coefnorm): -117.506545393\n",
      "dist_diff 2.11783870153\n"
     ]
    },
    {
     "name": "stderr",
     "output_type": "stream",
     "text": [
      "\r",
      " 30%|███████████████████████▌                                                       | 377/1261 [04:27<10:26,  1.41it/s]"
     ]
    },
    {
     "name": "stdout",
     "output_type": "stream",
     "text": [
      "ret 0.00010057706743993311\n",
      "LA.norm(trackline.diffs)>15*np.std(coefnorm): -130.838220828\n",
      "dist_diff 6.59247012066\n"
     ]
    },
    {
     "name": "stderr",
     "output_type": "stream",
     "text": [
      "\r",
      " 30%|███████████████████████▋                                                       | 378/1261 [04:28<10:24,  1.41it/s]"
     ]
    },
    {
     "name": "stdout",
     "output_type": "stream",
     "text": [
      "ret 5.6548819211243995e-05\n",
      "LA.norm(trackline.diffs)>15*np.std(coefnorm): -142.943251956\n",
      "dist_diff 0.124944578394\n"
     ]
    },
    {
     "name": "stderr",
     "output_type": "stream",
     "text": [
      "\r",
      " 30%|███████████████████████▋                                                       | 379/1261 [04:29<10:25,  1.41it/s]"
     ]
    },
    {
     "name": "stdout",
     "output_type": "stream",
     "text": [
      "ret 4.274465982634368e-05\n",
      "LA.norm(trackline.diffs)>15*np.std(coefnorm): -137.326362\n",
      "dist_diff 1.45201777849\n"
     ]
    },
    {
     "name": "stderr",
     "output_type": "stream",
     "text": [
      "\r",
      " 30%|███████████████████████▊                                                       | 380/1261 [04:29<10:26,  1.41it/s]"
     ]
    },
    {
     "name": "stdout",
     "output_type": "stream",
     "text": [
      "ret 2.8174960929716608e-05\n",
      "LA.norm(trackline.diffs)>15*np.std(coefnorm): -125.610141097\n",
      "dist_diff 0.570558132116\n"
     ]
    },
    {
     "name": "stderr",
     "output_type": "stream",
     "text": [
      "\r",
      " 30%|███████████████████████▊                                                       | 381/1261 [04:30<10:23,  1.41it/s]"
     ]
    },
    {
     "name": "stdout",
     "output_type": "stream",
     "text": [
      "ret 2.467822912005646e-05\n",
      "LA.norm(trackline.diffs)>15*np.std(coefnorm): -127.055928529\n",
      "dist_diff 1.22347067624\n"
     ]
    },
    {
     "name": "stderr",
     "output_type": "stream",
     "text": [
      "\r",
      " 30%|███████████████████████▉                                                       | 382/1261 [04:31<10:22,  1.41it/s]"
     ]
    },
    {
     "name": "stdout",
     "output_type": "stream",
     "text": [
      "ret 2.8265617508682617e-05\n",
      "LA.norm(trackline.diffs)>15*np.std(coefnorm): -128.484716104\n",
      "dist_diff 3.76253112494\n"
     ]
    },
    {
     "name": "stderr",
     "output_type": "stream",
     "text": [
      "\r",
      " 30%|███████████████████████▉                                                       | 383/1261 [04:31<10:21,  1.41it/s]"
     ]
    },
    {
     "name": "stdout",
     "output_type": "stream",
     "text": [
      "ret 1.7759988932275483e-05\n",
      "LA.norm(trackline.diffs)>15*np.std(coefnorm): -113.356571609\n",
      "dist_diff 3.14338357274\n"
     ]
    },
    {
     "name": "stderr",
     "output_type": "stream",
     "text": [
      "\r",
      " 30%|████████████████████████                                                       | 384/1261 [04:32<10:20,  1.41it/s]"
     ]
    },
    {
     "name": "stdout",
     "output_type": "stream",
     "text": [
      "ret 1.788304864241974e-05\n",
      "LA.norm(trackline.diffs)>15*np.std(coefnorm): -107.692850064\n",
      "dist_diff 1.97276913626\n"
     ]
    },
    {
     "name": "stderr",
     "output_type": "stream",
     "text": [
      "\r",
      " 31%|████████████████████████                                                       | 385/1261 [04:33<10:22,  1.41it/s]"
     ]
    },
    {
     "name": "stdout",
     "output_type": "stream",
     "text": [
      "ret 5.857306549272856e-05\n",
      "LA.norm(trackline.diffs)>15*np.std(coefnorm): -100.538781497\n",
      "dist_diff 1.63402361778\n"
     ]
    },
    {
     "name": "stderr",
     "output_type": "stream",
     "text": [
      "\r",
      " 31%|████████████████████████▏                                                      | 386/1261 [04:34<10:20,  1.41it/s]"
     ]
    },
    {
     "name": "stdout",
     "output_type": "stream",
     "text": [
      "ret 7.54622755313461e-05\n",
      "LA.norm(trackline.diffs)>15*np.std(coefnorm): -70.5612582388\n",
      "dist_diff 0.475414066332\n"
     ]
    },
    {
     "name": "stderr",
     "output_type": "stream",
     "text": [
      "\r",
      " 31%|████████████████████████▏                                                      | 387/1261 [04:34<10:20,  1.41it/s]"
     ]
    },
    {
     "name": "stdout",
     "output_type": "stream",
     "text": [
      "ret 3.176787134101522e-05\n",
      "LA.norm(trackline.diffs)>15*np.std(coefnorm): -69.8113997057\n",
      "dist_diff 1.7027388918\n"
     ]
    },
    {
     "name": "stderr",
     "output_type": "stream",
     "text": [
      "\r",
      " 31%|████████████████████████▎                                                      | 388/1261 [04:35<10:20,  1.41it/s]"
     ]
    },
    {
     "name": "stdout",
     "output_type": "stream",
     "text": [
      "ret 7.297993530436253e-05\n",
      "LA.norm(trackline.diffs)>15*np.std(coefnorm): -36.8931301264\n",
      "dist_diff 3.60432594332\n"
     ]
    },
    {
     "name": "stderr",
     "output_type": "stream",
     "text": [
      "\r",
      " 31%|████████████████████████▎                                                      | 389/1261 [04:36<10:20,  1.41it/s]"
     ]
    },
    {
     "name": "stdout",
     "output_type": "stream",
     "text": [
      "ret 5.515878304551691e-06\n",
      "LA.norm(trackline.diffs)>15*np.std(coefnorm): -20.0018980706\n",
      "dist_diff 0.0164864208244\n"
     ]
    },
    {
     "name": "stderr",
     "output_type": "stream",
     "text": [
      "\r",
      " 31%|████████████████████████▍                                                      | 390/1261 [04:36<10:18,  1.41it/s]"
     ]
    },
    {
     "name": "stdout",
     "output_type": "stream",
     "text": [
      "ret 4.650446482895587e-05\n",
      "LA.norm(trackline.diffs)>15*np.std(coefnorm): -19.1487016676\n",
      "dist_diff 3.7103646553\n"
     ]
    },
    {
     "name": "stderr",
     "output_type": "stream",
     "text": [
      "\r",
      " 31%|████████████████████████▍                                                      | 391/1261 [04:37<10:16,  1.41it/s]"
     ]
    },
    {
     "name": "stdout",
     "output_type": "stream",
     "text": [
      "ret 2.9076995345933554e-06\n",
      "LA.norm(trackline.diffs)>15*np.std(coefnorm): -37.1836029784\n",
      "dist_diff 2.30962251096\n"
     ]
    },
    {
     "name": "stderr",
     "output_type": "stream",
     "text": [
      "\r",
      " 31%|████████████████████████▌                                                      | 392/1261 [04:38<10:18,  1.40it/s]"
     ]
    },
    {
     "name": "stdout",
     "output_type": "stream",
     "text": [
      "ret 8.69568819369948e-05\n",
      "LA.norm(trackline.diffs)>15*np.std(coefnorm): -49.929651169\n",
      "dist_diff 1.90712141958\n"
     ]
    },
    {
     "name": "stderr",
     "output_type": "stream",
     "text": [
      "\r",
      " 31%|████████████████████████▌                                                      | 393/1261 [04:39<10:18,  1.40it/s]"
     ]
    },
    {
     "name": "stdout",
     "output_type": "stream",
     "text": [
      "ret 1.2986819668769911e-05\n",
      "LA.norm(trackline.diffs)>15*np.std(coefnorm): -79.3296712286\n",
      "dist_diff 4.01697781214\n"
     ]
    },
    {
     "name": "stderr",
     "output_type": "stream",
     "text": [
      "\r",
      " 31%|████████████████████████▋                                                      | 394/1261 [04:39<10:16,  1.41it/s]"
     ]
    },
    {
     "name": "stdout",
     "output_type": "stream",
     "text": [
      "ret 7.021512399235652e-05\n",
      "LA.norm(trackline.diffs)>15*np.std(coefnorm): -89.6783660589\n",
      "dist_diff 2.4671060663\n"
     ]
    },
    {
     "name": "stderr",
     "output_type": "stream",
     "text": [
      "\r",
      " 31%|████████████████████████▋                                                      | 395/1261 [04:40<10:16,  1.41it/s]"
     ]
    },
    {
     "name": "stdout",
     "output_type": "stream",
     "text": [
      "ret 1.1120181338530877e-05\n",
      "LA.norm(trackline.diffs)>15*np.std(coefnorm): -91.7968447199\n",
      "dist_diff 1.86852399664\n"
     ]
    },
    {
     "name": "stderr",
     "output_type": "stream",
     "text": [
      "\r",
      " 31%|████████████████████████▊                                                      | 396/1261 [04:41<10:14,  1.41it/s]"
     ]
    },
    {
     "name": "stdout",
     "output_type": "stream",
     "text": [
      "ret 3.9311768337269015e-05\n",
      "LA.norm(trackline.diffs)>15*np.std(coefnorm): -85.502252993\n",
      "dist_diff 0.334082718712\n"
     ]
    },
    {
     "name": "stderr",
     "output_type": "stream",
     "text": [
      "\r",
      " 31%|████████████████████████▊                                                      | 397/1261 [04:41<10:13,  1.41it/s]"
     ]
    },
    {
     "name": "stdout",
     "output_type": "stream",
     "text": [
      "ret 2.763142604289559e-05\n",
      "LA.norm(trackline.diffs)>15*np.std(coefnorm): -74.012042041\n",
      "dist_diff 2.04183703292\n"
     ]
    },
    {
     "name": "stderr",
     "output_type": "stream",
     "text": [
      "\r",
      " 32%|████████████████████████▉                                                      | 398/1261 [04:42<10:13,  1.41it/s]"
     ]
    },
    {
     "name": "stdout",
     "output_type": "stream",
     "text": [
      "ret 1.3824871306855613e-05\n",
      "LA.norm(trackline.diffs)>15*np.std(coefnorm): -65.0627524147\n",
      "dist_diff 1.01099911716\n"
     ]
    },
    {
     "name": "stderr",
     "output_type": "stream",
     "text": [
      "\r",
      " 32%|████████████████████████▉                                                      | 399/1261 [04:43<10:13,  1.41it/s]"
     ]
    },
    {
     "name": "stdout",
     "output_type": "stream",
     "text": [
      "ret 2.5300758425161884e-05\n",
      "LA.norm(trackline.diffs)>15*np.std(coefnorm): -72.9741132644\n",
      "dist_diff 2.33643010267\n"
     ]
    },
    {
     "name": "stderr",
     "output_type": "stream",
     "text": [
      "\r",
      " 32%|█████████████████████████                                                      | 400/1261 [04:44<10:12,  1.41it/s]"
     ]
    },
    {
     "name": "stdout",
     "output_type": "stream",
     "text": [
      "ret 2.9094379965621808e-05\n",
      "LA.norm(trackline.diffs)>15*np.std(coefnorm): -58.1921917882\n",
      "dist_diff 0.580699689203\n"
     ]
    },
    {
     "name": "stderr",
     "output_type": "stream",
     "text": [
      "\r",
      " 32%|█████████████████████████                                                      | 401/1261 [04:44<10:13,  1.40it/s]"
     ]
    },
    {
     "name": "stdout",
     "output_type": "stream",
     "text": [
      "ret 9.918382211537846e-06\n",
      "LA.norm(trackline.diffs)>15*np.std(coefnorm): -59.8817462316\n",
      "dist_diff 2.05188202097\n"
     ]
    },
    {
     "name": "stderr",
     "output_type": "stream",
     "text": [
      "\r",
      " 32%|█████████████████████████▏                                                     | 402/1261 [04:45<10:09,  1.41it/s]"
     ]
    },
    {
     "name": "stdout",
     "output_type": "stream",
     "text": [
      "ret 0.00014292323399883733\n",
      "LA.norm(trackline.diffs)>15*np.std(coefnorm): -60.9700782878\n",
      "dist_diff 17.3845239878\n"
     ]
    },
    {
     "name": "stderr",
     "output_type": "stream",
     "text": [
      "\r",
      " 32%|█████████████████████████▏                                                     | 403/1261 [04:46<10:09,  1.41it/s]"
     ]
    },
    {
     "name": "stdout",
     "output_type": "stream",
     "text": [
      "ret 0.0001534235900115255\n",
      "LA.norm(trackline.diffs)>15*np.std(coefnorm): -65.8635188358\n",
      "dist_diff 3.0169316195\n"
     ]
    },
    {
     "name": "stderr",
     "output_type": "stream",
     "text": [
      "\r",
      " 32%|█████████████████████████▎                                                     | 404/1261 [04:46<10:06,  1.41it/s]"
     ]
    },
    {
     "name": "stdout",
     "output_type": "stream",
     "text": [
      "ret 1.450918589090966e-05\n",
      "LA.norm(trackline.diffs)>15*np.std(coefnorm): -44.2870584234\n",
      "dist_diff 0.737447023401\n"
     ]
    },
    {
     "name": "stderr",
     "output_type": "stream",
     "text": [
      "\r",
      " 32%|█████████████████████████▎                                                     | 405/1261 [04:47<10:06,  1.41it/s]"
     ]
    },
    {
     "name": "stdout",
     "output_type": "stream",
     "text": [
      "ret 3.3390860944448875e-05\n",
      "LA.norm(trackline.diffs)>15*np.std(coefnorm): -103.678458018\n",
      "dist_diff 5.31141857167\n"
     ]
    },
    {
     "name": "stderr",
     "output_type": "stream",
     "text": [
      "\r",
      " 32%|█████████████████████████▍                                                     | 406/1261 [04:48<10:05,  1.41it/s]"
     ]
    },
    {
     "name": "stdout",
     "output_type": "stream",
     "text": [
      "ret 6.095060829713894e-06\n",
      "LA.norm(trackline.diffs)>15*np.std(coefnorm): -115.446937569\n",
      "dist_diff 2.66220638802\n"
     ]
    },
    {
     "name": "stderr",
     "output_type": "stream",
     "text": [
      "\r",
      " 32%|█████████████████████████▍                                                     | 407/1261 [04:48<10:04,  1.41it/s]"
     ]
    },
    {
     "name": "stdout",
     "output_type": "stream",
     "text": [
      "ret 6.637664154696132e-05\n",
      "LA.norm(trackline.diffs)>15*np.std(coefnorm): -118.840690771\n",
      "dist_diff 4.0186626483\n"
     ]
    },
    {
     "name": "stderr",
     "output_type": "stream",
     "text": [
      "\r",
      " 32%|█████████████████████████▌                                                     | 408/1261 [04:49<10:06,  1.41it/s]"
     ]
    },
    {
     "name": "stdout",
     "output_type": "stream",
     "text": [
      "ret 2.798097843370595e-06\n",
      "LA.norm(trackline.diffs)>15*np.std(coefnorm): -116.12449789\n",
      "dist_diff 0.3258197689\n"
     ]
    },
    {
     "name": "stderr",
     "output_type": "stream",
     "text": [
      "\r",
      " 32%|█████████████████████████▌                                                     | 409/1261 [04:50<10:06,  1.40it/s]"
     ]
    },
    {
     "name": "stdout",
     "output_type": "stream",
     "text": [
      "ret 5.739178413688428e-05\n",
      "LA.norm(trackline.diffs)>15*np.std(coefnorm): -116.711686699\n",
      "dist_diff 0.22781155001\n"
     ]
    },
    {
     "name": "stderr",
     "output_type": "stream",
     "text": [
      "\r",
      " 33%|█████████████████████████▋                                                     | 410/1261 [04:51<10:04,  1.41it/s]"
     ]
    },
    {
     "name": "stdout",
     "output_type": "stream",
     "text": [
      "ret 3.924313491937559e-05\n",
      "LA.norm(trackline.diffs)>15*np.std(coefnorm): -103.444556332\n",
      "dist_diff 0.108161974707\n"
     ]
    },
    {
     "name": "stderr",
     "output_type": "stream",
     "text": [
      "\r",
      " 33%|█████████████████████████▋                                                     | 411/1261 [04:51<10:03,  1.41it/s]"
     ]
    },
    {
     "name": "stdout",
     "output_type": "stream",
     "text": [
      "ret 5.6352700492645624e-06\n",
      "LA.norm(trackline.diffs)>15*np.std(coefnorm): -95.1237317254\n",
      "dist_diff 0.830262450325\n"
     ]
    },
    {
     "name": "stderr",
     "output_type": "stream",
     "text": [
      "\r",
      " 33%|█████████████████████████▊                                                     | 412/1261 [04:52<10:04,  1.40it/s]"
     ]
    },
    {
     "name": "stdout",
     "output_type": "stream",
     "text": [
      "ret 7.040030859090107e-05\n",
      "LA.norm(trackline.diffs)>15*np.std(coefnorm): -89.3483306118\n",
      "dist_diff 6.47224931808\n"
     ]
    },
    {
     "name": "stderr",
     "output_type": "stream",
     "text": [
      "\r",
      " 33%|█████████████████████████▊                                                     | 413/1261 [04:53<10:01,  1.41it/s]"
     ]
    },
    {
     "name": "stdout",
     "output_type": "stream",
     "text": [
      "ret 6.557154999531356e-07\n",
      "LA.norm(trackline.diffs)>15*np.std(coefnorm): -62.7148296531\n",
      "dist_diff 0.372243719113\n"
     ]
    },
    {
     "name": "stderr",
     "output_type": "stream",
     "text": [
      "\r",
      " 33%|█████████████████████████▉                                                     | 414/1261 [04:54<10:40,  1.32it/s]"
     ]
    },
    {
     "name": "stdout",
     "output_type": "stream",
     "text": [
      "ret 8.046552033408316e-05\n",
      "LA.norm(trackline.diffs)>15*np.std(coefnorm): -39.9550587271\n",
      "dist_diff 13.770120244\n"
     ]
    },
    {
     "name": "stderr",
     "output_type": "stream",
     "text": [
      "\r",
      " 33%|█████████████████████████▉                                                     | 415/1261 [04:55<11:13,  1.26it/s]"
     ]
    },
    {
     "name": "stdout",
     "output_type": "stream",
     "text": [
      "ret 0.00011815717070184917\n",
      "LA.norm(trackline.diffs)>15*np.std(coefnorm): -51.3249410715\n",
      "dist_diff 1.34402561148\n"
     ]
    },
    {
     "name": "stderr",
     "output_type": "stream",
     "text": [
      "\r",
      " 33%|██████████████████████████                                                     | 416/1261 [04:55<11:27,  1.23it/s]"
     ]
    },
    {
     "name": "stdout",
     "output_type": "stream",
     "text": [
      "ret 2.5305465812308636e-05\n",
      "LA.norm(trackline.diffs)>15*np.std(coefnorm): -63.0550311851\n",
      "dist_diff 2.96977017831\n"
     ]
    },
    {
     "name": "stderr",
     "output_type": "stream",
     "text": [
      "\r",
      " 33%|██████████████████████████                                                     | 417/1261 [04:56<11:31,  1.22it/s]"
     ]
    },
    {
     "name": "stdout",
     "output_type": "stream",
     "text": [
      "ret 4.082348524053758e-05\n",
      "LA.norm(trackline.diffs)>15*np.std(coefnorm): -128.236597528\n",
      "dist_diff 6.36398630616\n"
     ]
    },
    {
     "name": "stderr",
     "output_type": "stream",
     "text": [
      "\r",
      " 33%|██████████████████████████▏                                                    | 418/1261 [04:57<11:17,  1.24it/s]"
     ]
    },
    {
     "name": "stdout",
     "output_type": "stream",
     "text": [
      "ret 5.440009209273233e-05\n",
      "LA.norm(trackline.diffs)>15*np.std(coefnorm): -148.362660817\n",
      "dist_diff 4.28325356129\n"
     ]
    },
    {
     "name": "stderr",
     "output_type": "stream",
     "text": [
      "\r",
      " 33%|██████████████████████████▏                                                    | 419/1261 [04:58<11:01,  1.27it/s]"
     ]
    },
    {
     "name": "stdout",
     "output_type": "stream",
     "text": [
      "ret 5.980999232274575e-05\n",
      "LA.norm(trackline.diffs)>15*np.std(coefnorm): -149.041855551\n",
      "dist_diff 1.39486650057\n"
     ]
    },
    {
     "name": "stderr",
     "output_type": "stream",
     "text": [
      "\r",
      " 33%|██████████████████████████▎                                                    | 420/1261 [04:58<10:55,  1.28it/s]"
     ]
    },
    {
     "name": "stdout",
     "output_type": "stream",
     "text": [
      "ret 1.788358819687641e-05\n",
      "LA.norm(trackline.diffs)>15*np.std(coefnorm): -138.66361962\n",
      "dist_diff 0.121915124521\n"
     ]
    },
    {
     "name": "stderr",
     "output_type": "stream",
     "text": [
      "\r",
      " 33%|██████████████████████████▍                                                    | 421/1261 [04:59<10:40,  1.31it/s]"
     ]
    },
    {
     "name": "stdout",
     "output_type": "stream",
     "text": [
      "ret 5.309560780597522e-06\n",
      "LA.norm(trackline.diffs)>15*np.std(coefnorm): -109.960073361\n",
      "dist_diff 6.43874333387\n"
     ]
    },
    {
     "name": "stderr",
     "output_type": "stream",
     "text": [
      "\r",
      " 33%|██████████████████████████▍                                                    | 422/1261 [05:00<10:46,  1.30it/s]"
     ]
    },
    {
     "name": "stdout",
     "output_type": "stream",
     "text": [
      "ret 7.001325508310119e-05\n",
      "LA.norm(trackline.diffs)>15*np.std(coefnorm): -113.891095216\n",
      "dist_diff 0.556985854247\n"
     ]
    },
    {
     "name": "stderr",
     "output_type": "stream",
     "text": [
      "\r",
      " 34%|██████████████████████████▌                                                    | 423/1261 [05:01<10:41,  1.31it/s]"
     ]
    },
    {
     "name": "stdout",
     "output_type": "stream",
     "text": [
      "ret 1.7668063794995525e-05\n",
      "LA.norm(trackline.diffs)>15*np.std(coefnorm): -114.721286191\n",
      "dist_diff 1.49542721456\n"
     ]
    },
    {
     "name": "stderr",
     "output_type": "stream",
     "text": [
      "\r",
      " 34%|██████████████████████████▌                                                    | 424/1261 [05:02<10:40,  1.31it/s]"
     ]
    },
    {
     "name": "stdout",
     "output_type": "stream",
     "text": [
      "ret 3.4067489400047e-06\n",
      "LA.norm(trackline.diffs)>15*np.std(coefnorm): -96.3808780716\n",
      "dist_diff 0.897830381968\n"
     ]
    },
    {
     "name": "stderr",
     "output_type": "stream",
     "text": [
      "\r",
      " 34%|██████████████████████████▋                                                    | 425/1261 [05:02<10:34,  1.32it/s]"
     ]
    },
    {
     "name": "stdout",
     "output_type": "stream",
     "text": [
      "ret 3.886615603260202e-05\n",
      "LA.norm(trackline.diffs)>15*np.std(coefnorm): -52.4077109818\n",
      "dist_diff 1.43608960381\n"
     ]
    },
    {
     "name": "stderr",
     "output_type": "stream",
     "text": [
      "\r",
      " 34%|██████████████████████████▋                                                    | 426/1261 [05:03<10:25,  1.33it/s]"
     ]
    },
    {
     "name": "stdout",
     "output_type": "stream",
     "text": [
      "ret 0.00013716771382510373\n",
      "LA.norm(trackline.diffs)>15*np.std(coefnorm): -67.4247924588\n",
      "dist_diff 14.9512462058\n"
     ]
    },
    {
     "name": "stderr",
     "output_type": "stream",
     "text": [
      "\r",
      " 34%|██████████████████████████▊                                                    | 427/1261 [05:04<10:39,  1.30it/s]"
     ]
    },
    {
     "name": "stdout",
     "output_type": "stream",
     "text": [
      "ret 0.00015106220913119195\n",
      "LA.norm(trackline.diffs)>15*np.std(coefnorm): -62.9429709958\n",
      "dist_diff 1.63351023214\n"
     ]
    },
    {
     "name": "stderr",
     "output_type": "stream",
     "text": [
      "\r",
      " 34%|██████████████████████████▊                                                    | 428/1261 [05:05<10:53,  1.28it/s]"
     ]
    },
    {
     "name": "stdout",
     "output_type": "stream",
     "text": [
      "ret 4.515266032062426e-05\n",
      "LA.norm(trackline.diffs)>15*np.std(coefnorm): -89.6938062503\n",
      "dist_diff 2.66876128827\n"
     ]
    },
    {
     "name": "stderr",
     "output_type": "stream",
     "text": [
      "\r",
      " 34%|██████████████████████████▉                                                    | 429/1261 [05:05<10:39,  1.30it/s]"
     ]
    },
    {
     "name": "stdout",
     "output_type": "stream",
     "text": [
      "ret 1.275815360524124e-06\n",
      "LA.norm(trackline.diffs)>15*np.std(coefnorm): -118.117704423\n",
      "dist_diff 1.27228331024\n"
     ]
    },
    {
     "name": "stderr",
     "output_type": "stream",
     "text": [
      "\r",
      " 34%|██████████████████████████▉                                                    | 430/1261 [05:06<10:32,  1.31it/s]"
     ]
    },
    {
     "name": "stdout",
     "output_type": "stream",
     "text": [
      "ret 1.8443621737862514e-05\n",
      "LA.norm(trackline.diffs)>15*np.std(coefnorm): -123.207848566\n",
      "dist_diff 3.26578701571\n"
     ]
    },
    {
     "name": "stderr",
     "output_type": "stream",
     "text": [
      "\r",
      " 34%|███████████████████████████                                                    | 431/1261 [05:07<10:20,  1.34it/s]"
     ]
    },
    {
     "name": "stdout",
     "output_type": "stream",
     "text": [
      "ret 3.4473310691451875e-05\n",
      "LA.norm(trackline.diffs)>15*np.std(coefnorm): -123.194910499\n",
      "dist_diff 2.63777719793\n"
     ]
    },
    {
     "name": "stderr",
     "output_type": "stream",
     "text": [
      "\r",
      " 34%|███████████████████████████                                                    | 432/1261 [05:08<10:13,  1.35it/s]"
     ]
    },
    {
     "name": "stdout",
     "output_type": "stream",
     "text": [
      "ret 1.8061355930687473e-05\n",
      "LA.norm(trackline.diffs)>15*np.std(coefnorm): -90.3641894679\n",
      "dist_diff 2.58727618411\n"
     ]
    },
    {
     "name": "stderr",
     "output_type": "stream",
     "text": [
      "\r",
      " 34%|███████████████████████████▏                                                   | 433/1261 [05:08<10:08,  1.36it/s]"
     ]
    },
    {
     "name": "stdout",
     "output_type": "stream",
     "text": [
      "ret 5.51725808038972e-05\n",
      "LA.norm(trackline.diffs)>15*np.std(coefnorm): -117.242147828\n",
      "dist_diff 3.00965814707\n"
     ]
    },
    {
     "name": "stderr",
     "output_type": "stream",
     "text": [
      "\r",
      " 34%|███████████████████████████▏                                                   | 434/1261 [05:09<10:02,  1.37it/s]"
     ]
    },
    {
     "name": "stdout",
     "output_type": "stream",
     "text": [
      "ret 2.478002716693739e-05\n",
      "LA.norm(trackline.diffs)>15*np.std(coefnorm): -121.24039012\n",
      "dist_diff 0.482362421499\n"
     ]
    },
    {
     "name": "stderr",
     "output_type": "stream",
     "text": [
      "\r",
      " 34%|███████████████████████████▎                                                   | 435/1261 [05:10<09:57,  1.38it/s]"
     ]
    },
    {
     "name": "stdout",
     "output_type": "stream",
     "text": [
      "ret 8.009229139072094e-06\n",
      "LA.norm(trackline.diffs)>15*np.std(coefnorm): -115.946479588\n",
      "dist_diff 1.19956483979\n"
     ]
    },
    {
     "name": "stderr",
     "output_type": "stream",
     "text": [
      "\r",
      " 35%|███████████████████████████▎                                                   | 436/1261 [05:10<09:57,  1.38it/s]"
     ]
    },
    {
     "name": "stdout",
     "output_type": "stream",
     "text": [
      "ret 5.1781847018039784e-05\n",
      "LA.norm(trackline.diffs)>15*np.std(coefnorm): -92.131838767\n",
      "dist_diff 10.8730313576\n"
     ]
    },
    {
     "name": "stderr",
     "output_type": "stream",
     "text": [
      "\r",
      " 35%|███████████████████████████▍                                                   | 437/1261 [05:11<09:54,  1.39it/s]"
     ]
    },
    {
     "name": "stdout",
     "output_type": "stream",
     "text": [
      "ret 0.00013086623482660986\n",
      "LA.norm(trackline.diffs)>15*np.std(coefnorm): -100.49867523\n",
      "dist_diff 4.05763231957\n"
     ]
    },
    {
     "name": "stderr",
     "output_type": "stream",
     "text": [
      "\r",
      " 35%|███████████████████████████▍                                                   | 438/1261 [05:12<09:48,  1.40it/s]"
     ]
    },
    {
     "name": "stdout",
     "output_type": "stream",
     "text": [
      "ret 5.212140973953616e-05\n",
      "LA.norm(trackline.diffs)>15*np.std(coefnorm): -79.1076912169\n",
      "dist_diff 3.37748094208\n"
     ]
    },
    {
     "name": "stderr",
     "output_type": "stream",
     "text": [
      "\r",
      " 35%|███████████████████████████▌                                                   | 439/1261 [05:13<09:48,  1.40it/s]"
     ]
    },
    {
     "name": "stdout",
     "output_type": "stream",
     "text": [
      "ret 0.00020837293556141834\n",
      "LA.norm(trackline.diffs)>15*np.std(coefnorm): -94.2071088222\n",
      "dist_diff 13.1717400779\n"
     ]
    },
    {
     "name": "stderr",
     "output_type": "stream",
     "text": [
      "\r",
      " 35%|███████████████████████████▌                                                   | 440/1261 [05:13<09:48,  1.39it/s]"
     ]
    },
    {
     "name": "stdout",
     "output_type": "stream",
     "text": [
      "ret 0.00016047059873208758\n",
      "LA.norm(trackline.diffs)>15*np.std(coefnorm): -99.7583682013\n",
      "dist_diff 1.27376852209\n"
     ]
    },
    {
     "name": "stderr",
     "output_type": "stream",
     "text": [
      "\r",
      " 35%|███████████████████████████▋                                                   | 441/1261 [05:14<09:47,  1.40it/s]"
     ]
    },
    {
     "name": "stdout",
     "output_type": "stream",
     "text": [
      "ret 1.6129927881858297e-05\n",
      "LA.norm(trackline.diffs)>15*np.std(coefnorm): -113.105080866\n",
      "dist_diff 2.43842039986\n"
     ]
    },
    {
     "name": "stderr",
     "output_type": "stream",
     "text": [
      "\r",
      " 35%|███████████████████████████▋                                                   | 442/1261 [05:15<09:45,  1.40it/s]"
     ]
    },
    {
     "name": "stdout",
     "output_type": "stream",
     "text": [
      "ret 0.00011820804666995421\n",
      "LA.norm(trackline.diffs)>15*np.std(coefnorm): -144.981939314\n",
      "dist_diff 1.23206932263\n"
     ]
    },
    {
     "name": "stderr",
     "output_type": "stream",
     "text": [
      "\r",
      " 35%|███████████████████████████▊                                                   | 443/1261 [05:15<09:50,  1.39it/s]"
     ]
    },
    {
     "name": "stdout",
     "output_type": "stream",
     "text": [
      "ret 4.1320753208673455e-05\n",
      "LA.norm(trackline.diffs)>15*np.std(coefnorm): -143.442444017\n",
      "dist_diff 3.65340917158\n"
     ]
    },
    {
     "name": "stderr",
     "output_type": "stream",
     "text": [
      "\r",
      " 35%|███████████████████████████▊                                                   | 444/1261 [05:16<09:55,  1.37it/s]"
     ]
    },
    {
     "name": "stdout",
     "output_type": "stream",
     "text": [
      "ret 1.0837623860615597e-05\n",
      "LA.norm(trackline.diffs)>15*np.std(coefnorm): -139.615191771\n",
      "dist_diff 1.41593145597\n"
     ]
    },
    {
     "name": "stderr",
     "output_type": "stream",
     "text": [
      "\r",
      " 35%|███████████████████████████▉                                                   | 445/1261 [05:17<09:52,  1.38it/s]"
     ]
    },
    {
     "name": "stdout",
     "output_type": "stream",
     "text": [
      "ret 3.7277923476131125e-05\n",
      "LA.norm(trackline.diffs)>15*np.std(coefnorm): -133.742210707\n",
      "dist_diff 2.77163431354\n"
     ]
    },
    {
     "name": "stderr",
     "output_type": "stream",
     "text": [
      "\r",
      " 35%|███████████████████████████▉                                                   | 446/1261 [05:18<09:46,  1.39it/s]"
     ]
    },
    {
     "name": "stdout",
     "output_type": "stream",
     "text": [
      "ret 5.1467278064876165e-05\n",
      "LA.norm(trackline.diffs)>15*np.std(coefnorm): -110.795443272\n",
      "dist_diff 1.50301407801\n"
     ]
    },
    {
     "name": "stderr",
     "output_type": "stream",
     "text": [
      "\r",
      " 35%|████████████████████████████                                                   | 447/1261 [05:18<09:43,  1.39it/s]"
     ]
    },
    {
     "name": "stdout",
     "output_type": "stream",
     "text": [
      "ret 2.938599771312722e-05\n",
      "LA.norm(trackline.diffs)>15*np.std(coefnorm): -109.957303135\n",
      "dist_diff 0.323322725007\n"
     ]
    },
    {
     "name": "stderr",
     "output_type": "stream",
     "text": [
      "\r",
      " 36%|████████████████████████████                                                   | 448/1261 [05:19<09:39,  1.40it/s]"
     ]
    },
    {
     "name": "stdout",
     "output_type": "stream",
     "text": [
      "ret 2.285755911946019e-05\n",
      "LA.norm(trackline.diffs)>15*np.std(coefnorm): -88.5643636006\n",
      "dist_diff 9.02902226442\n"
     ]
    },
    {
     "name": "stderr",
     "output_type": "stream",
     "text": [
      "\r",
      " 36%|████████████████████████████▏                                                  | 449/1261 [05:20<09:37,  1.41it/s]"
     ]
    },
    {
     "name": "stdout",
     "output_type": "stream",
     "text": [
      "ret 1.0688252014001698e-06\n",
      "LA.norm(trackline.diffs)>15*np.std(coefnorm): -95.0299981684\n",
      "dist_diff 3.38266157757\n"
     ]
    },
    {
     "name": "stderr",
     "output_type": "stream",
     "text": [
      "\r",
      " 36%|████████████████████████████▏                                                  | 450/1261 [05:20<09:38,  1.40it/s]"
     ]
    },
    {
     "name": "stdout",
     "output_type": "stream",
     "text": [
      "ret 8.233635077120605e-05\n",
      "LA.norm(trackline.diffs)>15*np.std(coefnorm): -110.031808109\n",
      "dist_diff 9.4110960439\n"
     ]
    },
    {
     "name": "stderr",
     "output_type": "stream",
     "text": [
      "\r",
      " 36%|████████████████████████████▎                                                  | 451/1261 [05:21<09:36,  1.41it/s]"
     ]
    },
    {
     "name": "stdout",
     "output_type": "stream",
     "text": [
      "ret 0.00013006529427639357\n",
      "LA.norm(trackline.diffs)>15*np.std(coefnorm): -115.436196002\n",
      "dist_diff 5.83742555966\n"
     ]
    },
    {
     "name": "stderr",
     "output_type": "stream",
     "text": [
      "\r",
      " 36%|████████████████████████████▎                                                  | 452/1261 [05:22<09:38,  1.40it/s]"
     ]
    },
    {
     "name": "stdout",
     "output_type": "stream",
     "text": [
      "ret 3.337450546009313e-05\n",
      "LA.norm(trackline.diffs)>15*np.std(coefnorm): -110.871774062\n",
      "dist_diff 3.13229489056\n"
     ]
    },
    {
     "name": "stderr",
     "output_type": "stream",
     "text": [
      "\r",
      " 36%|████████████████████████████▍                                                  | 453/1261 [05:23<09:35,  1.41it/s]"
     ]
    },
    {
     "name": "stdout",
     "output_type": "stream",
     "text": [
      "ret 0.0001760700190183706\n",
      "LA.norm(trackline.diffs)>15*np.std(coefnorm): -96.0714180542\n",
      "dist_diff 6.20474930963\n"
     ]
    },
    {
     "name": "stderr",
     "output_type": "stream",
     "text": [
      "\r",
      " 36%|████████████████████████████▍                                                  | 454/1261 [05:23<09:34,  1.41it/s]"
     ]
    },
    {
     "name": "stdout",
     "output_type": "stream",
     "text": [
      "ret 1.971658430005574e-05\n",
      "LA.norm(trackline.diffs)>15*np.std(coefnorm): -96.2573289118\n",
      "dist_diff 1.22183927776\n"
     ]
    },
    {
     "name": "stderr",
     "output_type": "stream",
     "text": [
      "\r",
      " 36%|████████████████████████████▌                                                  | 455/1261 [05:24<09:31,  1.41it/s]"
     ]
    },
    {
     "name": "stdout",
     "output_type": "stream",
     "text": [
      "ret 3.434014174119593e-05\n",
      "LA.norm(trackline.diffs)>15*np.std(coefnorm): -101.999955166\n",
      "dist_diff 2.64365774967\n"
     ]
    },
    {
     "name": "stderr",
     "output_type": "stream",
     "text": [
      "\r",
      " 36%|████████████████████████████▌                                                  | 456/1261 [05:25<09:32,  1.41it/s]"
     ]
    },
    {
     "name": "stdout",
     "output_type": "stream",
     "text": [
      "ret 3.019825644545726e-06\n",
      "LA.norm(trackline.diffs)>15*np.std(coefnorm): -107.192089988\n",
      "dist_diff 3.48722194689\n"
     ]
    },
    {
     "name": "stderr",
     "output_type": "stream",
     "text": [
      "\r",
      " 36%|████████████████████████████▋                                                  | 457/1261 [05:25<09:30,  1.41it/s]"
     ]
    },
    {
     "name": "stdout",
     "output_type": "stream",
     "text": [
      "ret 1.607250078056177e-05\n",
      "LA.norm(trackline.diffs)>15*np.std(coefnorm): -90.7460367303\n",
      "dist_diff 0.338801879042\n"
     ]
    },
    {
     "name": "stderr",
     "output_type": "stream",
     "text": [
      "\r",
      " 36%|████████████████████████████▋                                                  | 458/1261 [05:26<09:29,  1.41it/s]"
     ]
    },
    {
     "name": "stdout",
     "output_type": "stream",
     "text": [
      "ret 7.970396183587525e-05\n",
      "LA.norm(trackline.diffs)>15*np.std(coefnorm): -114.947944022\n",
      "dist_diff 3.29827827024\n"
     ]
    },
    {
     "name": "stderr",
     "output_type": "stream",
     "text": [
      "\r",
      " 36%|████████████████████████████▊                                                  | 459/1261 [05:27<09:29,  1.41it/s]"
     ]
    },
    {
     "name": "stdout",
     "output_type": "stream",
     "text": [
      "ret 4.219642528757728e-05\n",
      "LA.norm(trackline.diffs)>15*np.std(coefnorm): -115.271141707\n",
      "dist_diff 0.354807814136\n"
     ]
    },
    {
     "name": "stderr",
     "output_type": "stream",
     "text": [
      "\r",
      " 36%|████████████████████████████▊                                                  | 460/1261 [05:28<09:29,  1.41it/s]"
     ]
    },
    {
     "name": "stdout",
     "output_type": "stream",
     "text": [
      "ret 2.2539455016457044e-05\n",
      "LA.norm(trackline.diffs)>15*np.std(coefnorm): -110.182605567\n",
      "dist_diff 1.99246752304\n"
     ]
    },
    {
     "name": "stderr",
     "output_type": "stream",
     "text": [
      "\r",
      " 37%|████████████████████████████▉                                                  | 461/1261 [05:28<09:27,  1.41it/s]"
     ]
    },
    {
     "name": "stdout",
     "output_type": "stream",
     "text": [
      "ret 2.1860985599864158e-05\n",
      "LA.norm(trackline.diffs)>15*np.std(coefnorm): -65.9647562471\n",
      "dist_diff 4.19467201931\n"
     ]
    },
    {
     "name": "stderr",
     "output_type": "stream",
     "text": [
      "\r",
      " 37%|████████████████████████████▉                                                  | 462/1261 [05:29<09:28,  1.41it/s]"
     ]
    },
    {
     "name": "stdout",
     "output_type": "stream",
     "text": [
      "ret 4.890001196872218e-05\n",
      "LA.norm(trackline.diffs)>15*np.std(coefnorm): -54.7769047514\n",
      "dist_diff 0.79449645264\n"
     ]
    },
    {
     "name": "stderr",
     "output_type": "stream",
     "text": [
      "\r",
      " 37%|█████████████████████████████                                                  | 463/1261 [05:30<09:26,  1.41it/s]"
     ]
    },
    {
     "name": "stdout",
     "output_type": "stream",
     "text": [
      "ret 0.000113477257533523\n",
      "LA.norm(trackline.diffs)>15*np.std(coefnorm): -84.5821466075\n",
      "dist_diff 1.14630372424\n"
     ]
    },
    {
     "name": "stderr",
     "output_type": "stream",
     "text": [
      "\r",
      " 37%|█████████████████████████████                                                  | 464/1261 [05:30<09:23,  1.41it/s]"
     ]
    },
    {
     "name": "stdout",
     "output_type": "stream",
     "text": [
      "ret 3.8015059158957865e-05\n",
      "LA.norm(trackline.diffs)>15*np.std(coefnorm): -86.1478510447\n",
      "dist_diff 2.68099422976\n"
     ]
    },
    {
     "name": "stderr",
     "output_type": "stream",
     "text": [
      "\r",
      " 37%|█████████████████████████████▏                                                 | 465/1261 [05:31<09:23,  1.41it/s]"
     ]
    },
    {
     "name": "stdout",
     "output_type": "stream",
     "text": [
      "ret 0.0001069007199396288\n",
      "LA.norm(trackline.diffs)>15*np.std(coefnorm): -119.07117977\n",
      "dist_diff 2.88648808975\n"
     ]
    },
    {
     "name": "stderr",
     "output_type": "stream",
     "text": [
      "\r",
      " 37%|█████████████████████████████▏                                                 | 466/1261 [05:32<09:22,  1.41it/s]"
     ]
    },
    {
     "name": "stdout",
     "output_type": "stream",
     "text": [
      "ret 4.353613391439026e-05\n",
      "LA.norm(trackline.diffs)>15*np.std(coefnorm): -128.068482904\n",
      "dist_diff 5.09619269374\n"
     ]
    },
    {
     "name": "stderr",
     "output_type": "stream",
     "text": [
      "\r",
      " 37%|█████████████████████████████▎                                                 | 467/1261 [05:32<09:21,  1.41it/s]"
     ]
    },
    {
     "name": "stdout",
     "output_type": "stream",
     "text": [
      "ret 2.8872740033103472e-05\n",
      "LA.norm(trackline.diffs)>15*np.std(coefnorm): -134.716360014\n",
      "dist_diff 5.02085804171\n"
     ]
    },
    {
     "name": "stderr",
     "output_type": "stream",
     "text": [
      "\r",
      " 37%|█████████████████████████████▎                                                 | 468/1261 [05:33<09:23,  1.41it/s]"
     ]
    },
    {
     "name": "stdout",
     "output_type": "stream",
     "text": [
      "ret 5.7261910960337836e-05\n",
      "LA.norm(trackline.diffs)>15*np.std(coefnorm): -153.815697889\n",
      "dist_diff 6.40997245207\n"
     ]
    },
    {
     "name": "stderr",
     "output_type": "stream",
     "text": [
      "\r",
      " 37%|█████████████████████████████▍                                                 | 469/1261 [05:34<09:29,  1.39it/s]"
     ]
    },
    {
     "name": "stdout",
     "output_type": "stream",
     "text": [
      "ret 9.241203986676272e-05\n",
      "LA.norm(trackline.diffs)>15*np.std(coefnorm): -118.72423653\n",
      "dist_diff 1.44970332519\n"
     ]
    },
    {
     "name": "stderr",
     "output_type": "stream",
     "text": [
      "\r",
      " 37%|█████████████████████████████▍                                                 | 470/1261 [05:35<09:27,  1.39it/s]"
     ]
    },
    {
     "name": "stdout",
     "output_type": "stream",
     "text": [
      "ret 4.280229115527501e-05\n",
      "LA.norm(trackline.diffs)>15*np.std(coefnorm): -123.105411372\n",
      "dist_diff 2.52662924667\n"
     ]
    },
    {
     "name": "stderr",
     "output_type": "stream",
     "text": [
      "\r",
      " 37%|█████████████████████████████▌                                                 | 471/1261 [05:35<09:23,  1.40it/s]"
     ]
    },
    {
     "name": "stdout",
     "output_type": "stream",
     "text": [
      "ret 2.5100471192140983e-05\n",
      "LA.norm(trackline.diffs)>15*np.std(coefnorm): -91.7208076438\n",
      "dist_diff 2.05461617273\n"
     ]
    },
    {
     "name": "stderr",
     "output_type": "stream",
     "text": [
      "\r",
      " 37%|█████████████████████████████▌                                                 | 472/1261 [05:36<09:23,  1.40it/s]"
     ]
    },
    {
     "name": "stdout",
     "output_type": "stream",
     "text": [
      "ret 0.00016936263407169028\n",
      "LA.norm(trackline.diffs)>15*np.std(coefnorm): -76.8462542073\n",
      "dist_diff 19.2582478875\n"
     ]
    },
    {
     "name": "stderr",
     "output_type": "stream",
     "text": [
      "\r",
      " 38%|█████████████████████████████▋                                                 | 473/1261 [05:37<09:20,  1.41it/s]"
     ]
    },
    {
     "name": "stdout",
     "output_type": "stream",
     "text": [
      "ret 0.00017783039406671364\n",
      "LA.norm(trackline.diffs)>15*np.std(coefnorm): -70.7129035772\n",
      "dist_diff 1.73922244336\n"
     ]
    },
    {
     "name": "stderr",
     "output_type": "stream",
     "text": [
      "\r",
      " 38%|█████████████████████████████▋                                                 | 474/1261 [05:37<09:19,  1.41it/s]"
     ]
    },
    {
     "name": "stdout",
     "output_type": "stream",
     "text": [
      "ret 3.48892778043175e-05\n",
      "LA.norm(trackline.diffs)>15*np.std(coefnorm): -71.1070827387\n",
      "dist_diff 4.10625487719\n"
     ]
    },
    {
     "name": "stderr",
     "output_type": "stream",
     "text": [
      "\r",
      " 38%|█████████████████████████████▊                                                 | 475/1261 [05:38<09:20,  1.40it/s]"
     ]
    },
    {
     "name": "stdout",
     "output_type": "stream",
     "text": [
      "ret 3.5285414180519226e-06\n",
      "LA.norm(trackline.diffs)>15*np.std(coefnorm): -61.7266112884\n",
      "dist_diff 2.60697274353\n"
     ]
    },
    {
     "name": "stderr",
     "output_type": "stream",
     "text": [
      "\r",
      " 38%|█████████████████████████████▊                                                 | 476/1261 [05:39<09:18,  1.40it/s]"
     ]
    },
    {
     "name": "stdout",
     "output_type": "stream",
     "text": [
      "ret 6.289857439562008e-05\n",
      "LA.norm(trackline.diffs)>15*np.std(coefnorm): -54.518531989\n",
      "dist_diff 0.139270473399\n"
     ]
    },
    {
     "name": "stderr",
     "output_type": "stream",
     "text": [
      "\r",
      " 38%|█████████████████████████████▉                                                 | 477/1261 [05:40<09:18,  1.40it/s]"
     ]
    },
    {
     "name": "stdout",
     "output_type": "stream",
     "text": [
      "ret 6.687959342915883e-05\n",
      "LA.norm(trackline.diffs)>15*np.std(coefnorm): -47.2717594795\n",
      "dist_diff 8.89622544793\n"
     ]
    },
    {
     "name": "stderr",
     "output_type": "stream",
     "text": [
      "\r",
      " 38%|█████████████████████████████▉                                                 | 478/1261 [05:40<09:18,  1.40it/s]"
     ]
    },
    {
     "name": "stdout",
     "output_type": "stream",
     "text": [
      "ret 5.309427879374162e-05\n",
      "LA.norm(trackline.diffs)>15*np.std(coefnorm): -44.5140906635\n",
      "dist_diff 2.07866114403\n"
     ]
    },
    {
     "name": "stderr",
     "output_type": "stream",
     "text": [
      "\r",
      " 38%|██████████████████████████████                                                 | 479/1261 [05:41<09:17,  1.40it/s]"
     ]
    },
    {
     "name": "stdout",
     "output_type": "stream",
     "text": [
      "ret 2.1553860681200465e-05\n",
      "LA.norm(trackline.diffs)>15*np.std(coefnorm): -58.2112060508\n",
      "dist_diff 3.76262857876\n"
     ]
    },
    {
     "name": "stderr",
     "output_type": "stream",
     "text": [
      "\r",
      " 38%|██████████████████████████████                                                 | 480/1261 [05:42<09:16,  1.40it/s]"
     ]
    },
    {
     "name": "stdout",
     "output_type": "stream",
     "text": [
      "ret 4.036371990273624e-05\n",
      "LA.norm(trackline.diffs)>15*np.std(coefnorm): -113.547681926\n",
      "dist_diff 1.3523562012\n"
     ]
    },
    {
     "name": "stderr",
     "output_type": "stream",
     "text": [
      "\r",
      " 38%|██████████████████████████████▏                                                | 481/1261 [05:42<09:15,  1.40it/s]"
     ]
    },
    {
     "name": "stdout",
     "output_type": "stream",
     "text": [
      "ret 9.133366147939803e-06\n",
      "LA.norm(trackline.diffs)>15*np.std(coefnorm): -137.105831098\n",
      "dist_diff 2.19896205742\n"
     ]
    },
    {
     "name": "stderr",
     "output_type": "stream",
     "text": [
      "\r",
      " 38%|██████████████████████████████▏                                                | 482/1261 [05:43<09:14,  1.41it/s]"
     ]
    },
    {
     "name": "stdout",
     "output_type": "stream",
     "text": [
      "ret 4.273098594465008e-06\n",
      "LA.norm(trackline.diffs)>15*np.std(coefnorm): -176.859519305\n",
      "dist_diff 4.29072353864\n"
     ]
    },
    {
     "name": "stderr",
     "output_type": "stream",
     "text": [
      "\r",
      " 38%|██████████████████████████████▎                                                | 483/1261 [05:44<09:12,  1.41it/s]"
     ]
    },
    {
     "name": "stdout",
     "output_type": "stream",
     "text": [
      "ret 5.998853026567552e-05\n",
      "LA.norm(trackline.diffs)>15*np.std(coefnorm): -221.868178212\n",
      "dist_diff 3.82976977711\n"
     ]
    },
    {
     "name": "stderr",
     "output_type": "stream",
     "text": [
      "\r",
      " 38%|██████████████████████████████▎                                                | 484/1261 [05:45<09:11,  1.41it/s]"
     ]
    },
    {
     "name": "stdout",
     "output_type": "stream",
     "text": [
      "ret 2.4735623633809212e-05\n",
      "LA.norm(trackline.diffs)>15*np.std(coefnorm): -221.449186252\n",
      "dist_diff 4.40241568966\n"
     ]
    },
    {
     "name": "stderr",
     "output_type": "stream",
     "text": [
      "\r",
      " 38%|██████████████████████████████▍                                                | 485/1261 [05:45<09:10,  1.41it/s]"
     ]
    },
    {
     "name": "stdout",
     "output_type": "stream",
     "text": [
      "ret 5.8955125611492853e-05\n",
      "LA.norm(trackline.diffs)>15*np.std(coefnorm): -183.805123706\n",
      "dist_diff 10.2971823517\n"
     ]
    },
    {
     "name": "stderr",
     "output_type": "stream",
     "text": [
      "\r",
      " 39%|██████████████████████████████▍                                                | 486/1261 [05:46<09:12,  1.40it/s]"
     ]
    },
    {
     "name": "stdout",
     "output_type": "stream",
     "text": [
      "ret 0.00011172966934214212\n",
      "LA.norm(trackline.diffs)>15*np.std(coefnorm): -175.325109613\n",
      "dist_diff 3.47755472016\n"
     ]
    },
    {
     "name": "stderr",
     "output_type": "stream",
     "text": [
      "\r",
      " 39%|██████████████████████████████▌                                                | 487/1261 [05:47<09:10,  1.41it/s]"
     ]
    },
    {
     "name": "stdout",
     "output_type": "stream",
     "text": [
      "ret 9.188898199452566e-06\n",
      "LA.norm(trackline.diffs)>15*np.std(coefnorm): -153.016442108\n",
      "dist_diff 0.108908683278\n"
     ]
    },
    {
     "name": "stderr",
     "output_type": "stream",
     "text": [
      "\r",
      " 39%|██████████████████████████████▌                                                | 488/1261 [05:47<09:09,  1.41it/s]"
     ]
    },
    {
     "name": "stdout",
     "output_type": "stream",
     "text": [
      "ret 0.00011582793553521764\n",
      "LA.norm(trackline.diffs)>15*np.std(coefnorm): -153.977646263\n",
      "dist_diff 9.81772659095\n"
     ]
    },
    {
     "name": "stderr",
     "output_type": "stream",
     "text": [
      "\r",
      " 39%|██████████████████████████████▋                                                | 489/1261 [05:48<09:08,  1.41it/s]"
     ]
    },
    {
     "name": "stdout",
     "output_type": "stream",
     "text": [
      "ret 0.00013738430737542107\n",
      "LA.norm(trackline.diffs)>15*np.std(coefnorm): -155.706456126\n",
      "dist_diff 2.58068527539\n"
     ]
    },
    {
     "name": "stderr",
     "output_type": "stream",
     "text": [
      "\r",
      " 39%|██████████████████████████████▋                                                | 490/1261 [05:49<09:07,  1.41it/s]"
     ]
    },
    {
     "name": "stdout",
     "output_type": "stream",
     "text": [
      "ret 3.5768952619252836e-05\n",
      "LA.norm(trackline.diffs)>15*np.std(coefnorm): -165.424432636\n",
      "dist_diff 0.607591695602\n"
     ]
    },
    {
     "name": "stderr",
     "output_type": "stream",
     "text": [
      "\r",
      " 39%|██████████████████████████████▊                                                | 491/1261 [05:50<09:09,  1.40it/s]"
     ]
    },
    {
     "name": "stdout",
     "output_type": "stream",
     "text": [
      "ret 4.0872175636252894e-05\n",
      "LA.norm(trackline.diffs)>15*np.std(coefnorm): -192.127931692\n",
      "dist_diff 0.8110756144\n"
     ]
    },
    {
     "name": "stderr",
     "output_type": "stream",
     "text": [
      "\r",
      " 39%|██████████████████████████████▊                                                | 492/1261 [05:50<09:06,  1.41it/s]"
     ]
    },
    {
     "name": "stdout",
     "output_type": "stream",
     "text": [
      "ret 6.262569545611996e-06\n",
      "LA.norm(trackline.diffs)>15*np.std(coefnorm): -196.04396284\n",
      "dist_diff 0.232954317132\n"
     ]
    },
    {
     "name": "stderr",
     "output_type": "stream",
     "text": [
      "\r",
      " 39%|██████████████████████████████▉                                                | 493/1261 [05:51<09:06,  1.40it/s]"
     ]
    },
    {
     "name": "stdout",
     "output_type": "stream",
     "text": [
      "ret 5.128865526876636e-05\n",
      "LA.norm(trackline.diffs)>15*np.std(coefnorm): -207.317022015\n",
      "dist_diff 0.10534993805\n"
     ]
    },
    {
     "name": "stderr",
     "output_type": "stream",
     "text": [
      "\r",
      " 39%|██████████████████████████████▉                                                | 494/1261 [05:52<09:05,  1.41it/s]"
     ]
    },
    {
     "name": "stdout",
     "output_type": "stream",
     "text": [
      "ret 5.120548401960079e-06\n",
      "LA.norm(trackline.diffs)>15*np.std(coefnorm): -177.628496968\n",
      "dist_diff 0.357549084544\n"
     ]
    },
    {
     "name": "stderr",
     "output_type": "stream",
     "text": [
      "\r",
      " 39%|███████████████████████████████                                                | 495/1261 [05:52<09:06,  1.40it/s]"
     ]
    },
    {
     "name": "stdout",
     "output_type": "stream",
     "text": [
      "ret 2.59011475375881e-05\n",
      "LA.norm(trackline.diffs)>15*np.std(coefnorm): -130.409674587\n",
      "dist_diff 2.2769181897\n"
     ]
    },
    {
     "name": "stderr",
     "output_type": "stream",
     "text": [
      "\r",
      " 39%|███████████████████████████████                                                | 496/1261 [05:53<09:05,  1.40it/s]"
     ]
    },
    {
     "name": "stdout",
     "output_type": "stream",
     "text": [
      "ret 7.468509756142216e-05\n",
      "LA.norm(trackline.diffs)>15*np.std(coefnorm): -100.659056536\n",
      "dist_diff 7.99810686342\n"
     ]
    },
    {
     "name": "stderr",
     "output_type": "stream",
     "text": [
      "\r",
      " 39%|███████████████████████████████▏                                               | 497/1261 [05:54<09:04,  1.40it/s]"
     ]
    },
    {
     "name": "stdout",
     "output_type": "stream",
     "text": [
      "ret 0.00011388549130209036\n",
      "LA.norm(trackline.diffs)>15*np.std(coefnorm): -58.1144562917\n",
      "dist_diff 15.5160396019\n"
     ]
    },
    {
     "name": "stderr",
     "output_type": "stream",
     "text": [
      "\r",
      " 39%|███████████████████████████████▏                                               | 498/1261 [05:55<09:05,  1.40it/s]"
     ]
    },
    {
     "name": "stdout",
     "output_type": "stream",
     "text": [
      "ret 0.00013470928388581438\n",
      "LA.norm(trackline.diffs)>15*np.std(coefnorm): -57.9706118784\n",
      "dist_diff 1.60510737686\n"
     ]
    },
    {
     "name": "stderr",
     "output_type": "stream",
     "text": [
      "\r",
      " 40%|███████████████████████████████▎                                               | 499/1261 [05:55<09:04,  1.40it/s]"
     ]
    },
    {
     "name": "stdout",
     "output_type": "stream",
     "text": [
      "ret 2.600733880886441e-05\n",
      "LA.norm(trackline.diffs)>15*np.std(coefnorm): -58.1150372714\n",
      "dist_diff 5.99206449493\n"
     ]
    },
    {
     "name": "stderr",
     "output_type": "stream",
     "text": [
      "\r",
      " 40%|███████████████████████████████▎                                               | 500/1261 [05:56<09:03,  1.40it/s]"
     ]
    },
    {
     "name": "stdout",
     "output_type": "stream",
     "text": [
      "ret 1.1773225294942069e-05\n",
      "LA.norm(trackline.diffs)>15*np.std(coefnorm): -39.3936419366\n",
      "dist_diff 4.15842799037\n"
     ]
    },
    {
     "name": "stderr",
     "output_type": "stream",
     "text": [
      "\r",
      " 40%|███████████████████████████████▍                                               | 501/1261 [05:57<09:01,  1.40it/s]"
     ]
    },
    {
     "name": "stdout",
     "output_type": "stream",
     "text": [
      "ret 2.405849130693305e-05\n",
      "LA.norm(trackline.diffs)>15*np.std(coefnorm): -26.5584545716\n",
      "dist_diff 5.42043504814\n"
     ]
    },
    {
     "name": "stderr",
     "output_type": "stream",
     "text": [
      "\r",
      " 40%|███████████████████████████████▍                                               | 502/1261 [05:57<09:01,  1.40it/s]"
     ]
    },
    {
     "name": "stdout",
     "output_type": "stream",
     "text": [
      "ret 2.2562958631899832e-05\n",
      "LA.norm(trackline.diffs)>15*np.std(coefnorm): -65.1712860374\n",
      "dist_diff 1.65916927892\n"
     ]
    },
    {
     "name": "stderr",
     "output_type": "stream",
     "text": [
      "\r",
      " 40%|███████████████████████████████▌                                               | 503/1261 [05:58<08:59,  1.40it/s]"
     ]
    },
    {
     "name": "stdout",
     "output_type": "stream",
     "text": [
      "ret 6.861397988278117e-06\n",
      "LA.norm(trackline.diffs)>15*np.std(coefnorm): -66.8630666661\n",
      "dist_diff 0.00272954800653\n"
     ]
    },
    {
     "name": "stderr",
     "output_type": "stream",
     "text": [
      "\r",
      " 40%|███████████████████████████████▌                                               | 504/1261 [05:59<09:00,  1.40it/s]"
     ]
    },
    {
     "name": "stdout",
     "output_type": "stream",
     "text": [
      "ret 3.1415134671419764e-05\n",
      "LA.norm(trackline.diffs)>15*np.std(coefnorm): -72.0140470206\n",
      "dist_diff 0.468811575665\n"
     ]
    },
    {
     "name": "stderr",
     "output_type": "stream",
     "text": [
      "\r",
      " 40%|███████████████████████████████▋                                               | 505/1261 [06:00<09:01,  1.40it/s]"
     ]
    },
    {
     "name": "stdout",
     "output_type": "stream",
     "text": [
      "ret 2.8627191128061114e-05\n",
      "LA.norm(trackline.diffs)>15*np.std(coefnorm): -91.6882647298\n",
      "dist_diff 0.0155329652306\n"
     ]
    },
    {
     "name": "stderr",
     "output_type": "stream",
     "text": [
      "\r",
      " 40%|███████████████████████████████▋                                               | 506/1261 [06:00<09:01,  1.39it/s]"
     ]
    },
    {
     "name": "stdout",
     "output_type": "stream",
     "text": [
      "ret 1.5829185003202184e-05\n",
      "LA.norm(trackline.diffs)>15*np.std(coefnorm): -101.504810399\n",
      "dist_diff 2.13464728364\n"
     ]
    },
    {
     "name": "stderr",
     "output_type": "stream",
     "text": [
      "\r",
      " 40%|███████████████████████████████▊                                               | 507/1261 [06:01<08:59,  1.40it/s]"
     ]
    },
    {
     "name": "stdout",
     "output_type": "stream",
     "text": [
      "ret 5.1829624038435274e-05\n",
      "LA.norm(trackline.diffs)>15*np.std(coefnorm): -130.870456735\n",
      "dist_diff 3.83245482032\n"
     ]
    },
    {
     "name": "stderr",
     "output_type": "stream",
     "text": [
      "\r",
      " 40%|███████████████████████████████▊                                               | 508/1261 [06:02<08:56,  1.40it/s]"
     ]
    },
    {
     "name": "stdout",
     "output_type": "stream",
     "text": [
      "ret 0.00010382641843059703\n",
      "LA.norm(trackline.diffs)>15*np.std(coefnorm): -134.521069717\n",
      "dist_diff 14.504397419\n"
     ]
    },
    {
     "name": "stderr",
     "output_type": "stream",
     "text": [
      "\r",
      " 40%|███████████████████████████████▉                                               | 509/1261 [06:02<08:56,  1.40it/s]"
     ]
    },
    {
     "name": "stdout",
     "output_type": "stream",
     "text": [
      "ret 6.919874080291155e-05\n",
      "LA.norm(trackline.diffs)>15*np.std(coefnorm): -133.079730974\n",
      "dist_diff 5.36973610642\n"
     ]
    },
    {
     "name": "stderr",
     "output_type": "stream",
     "text": [
      "\r",
      " 40%|███████████████████████████████▉                                               | 510/1261 [06:03<09:01,  1.39it/s]"
     ]
    },
    {
     "name": "stdout",
     "output_type": "stream",
     "text": [
      "ret 9.91656939369201e-05\n",
      "LA.norm(trackline.diffs)>15*np.std(coefnorm): -99.8352558237\n",
      "dist_diff 10.1014110729\n"
     ]
    },
    {
     "name": "stderr",
     "output_type": "stream",
     "text": [
      "\r",
      " 41%|████████████████████████████████                                               | 511/1261 [06:04<09:01,  1.39it/s]"
     ]
    },
    {
     "name": "stdout",
     "output_type": "stream",
     "text": [
      "ret 6.587313083400437e-05\n",
      "LA.norm(trackline.diffs)>15*np.std(coefnorm): -82.9224468577\n",
      "dist_diff 14.6745441384\n"
     ]
    },
    {
     "name": "stderr",
     "output_type": "stream",
     "text": [
      "\r",
      " 41%|████████████████████████████████                                               | 512/1261 [06:05<09:00,  1.38it/s]"
     ]
    },
    {
     "name": "stdout",
     "output_type": "stream",
     "text": [
      "ret 0.00016241725975685295\n",
      "LA.norm(trackline.diffs)>15*np.std(coefnorm): -57.8531683844\n",
      "dist_diff 11.3642747136\n"
     ]
    },
    {
     "name": "stderr",
     "output_type": "stream",
     "text": [
      "\r",
      " 41%|████████████████████████████████▏                                              | 513/1261 [06:05<08:57,  1.39it/s]"
     ]
    },
    {
     "name": "stdout",
     "output_type": "stream",
     "text": [
      "ret 9.618037242770106e-05\n",
      "LA.norm(trackline.diffs)>15*np.std(coefnorm): -67.9294198833\n",
      "dist_diff 8.99394665822\n"
     ]
    },
    {
     "name": "stderr",
     "output_type": "stream",
     "text": [
      "\r",
      " 41%|████████████████████████████████▏                                              | 514/1261 [06:06<08:57,  1.39it/s]"
     ]
    },
    {
     "name": "stdout",
     "output_type": "stream",
     "text": [
      "ret 2.9292122102009266e-05\n",
      "LA.norm(trackline.diffs)>15*np.std(coefnorm): -67.2677155761\n",
      "dist_diff 5.55873195202\n"
     ]
    },
    {
     "name": "stderr",
     "output_type": "stream",
     "text": [
      "\r",
      " 41%|████████████████████████████████▎                                              | 515/1261 [06:07<08:54,  1.39it/s]"
     ]
    },
    {
     "name": "stdout",
     "output_type": "stream",
     "text": [
      "ret 1.3639302178458657e-05\n",
      "LA.norm(trackline.diffs)>15*np.std(coefnorm): -162.112876121\n",
      "dist_diff 0.0621138324079\n"
     ]
    },
    {
     "name": "stderr",
     "output_type": "stream",
     "text": [
      "\r",
      " 41%|████████████████████████████████▎                                              | 516/1261 [06:08<08:59,  1.38it/s]"
     ]
    },
    {
     "name": "stdout",
     "output_type": "stream",
     "text": [
      "ret 7.982054107624759e-06\n",
      "LA.norm(trackline.diffs)>15*np.std(coefnorm): -204.935886461\n",
      "dist_diff 1.96216792459\n"
     ]
    },
    {
     "name": "stderr",
     "output_type": "stream",
     "text": [
      "\r",
      " 41%|████████████████████████████████▍                                              | 517/1261 [06:08<08:55,  1.39it/s]"
     ]
    },
    {
     "name": "stdout",
     "output_type": "stream",
     "text": [
      "ret 1.6210441930841757e-05\n",
      "LA.norm(trackline.diffs)>15*np.std(coefnorm): -218.285529744\n",
      "dist_diff 1.35365798762\n"
     ]
    },
    {
     "name": "stderr",
     "output_type": "stream",
     "text": [
      "\r",
      " 41%|████████████████████████████████▍                                              | 518/1261 [06:09<08:52,  1.40it/s]"
     ]
    },
    {
     "name": "stdout",
     "output_type": "stream",
     "text": [
      "ret 3.7299503778009946e-05\n",
      "LA.norm(trackline.diffs)>15*np.std(coefnorm): -233.163033541\n",
      "dist_diff 4.02390802513\n"
     ]
    },
    {
     "name": "stderr",
     "output_type": "stream",
     "text": [
      "\r",
      " 41%|████████████████████████████████▌                                              | 519/1261 [06:10<08:52,  1.39it/s]"
     ]
    },
    {
     "name": "stdout",
     "output_type": "stream",
     "text": [
      "ret 4.397444213549706e-05\n",
      "LA.norm(trackline.diffs)>15*np.std(coefnorm): -223.255628179\n",
      "dist_diff 3.22541095452\n"
     ]
    },
    {
     "name": "stderr",
     "output_type": "stream",
     "text": [
      "\r",
      " 41%|████████████████████████████████▌                                              | 520/1261 [06:10<08:49,  1.40it/s]"
     ]
    },
    {
     "name": "stdout",
     "output_type": "stream",
     "text": [
      "ret 9.527344742205068e-05\n",
      "LA.norm(trackline.diffs)>15*np.std(coefnorm): -206.537027183\n",
      "dist_diff 12.5428119017\n"
     ]
    },
    {
     "name": "stderr",
     "output_type": "stream",
     "text": [
      "\r",
      " 41%|████████████████████████████████▋                                              | 521/1261 [06:11<08:48,  1.40it/s]"
     ]
    },
    {
     "name": "stdout",
     "output_type": "stream",
     "text": [
      "ret 7.626952170380896e-05\n",
      "LA.norm(trackline.diffs)>15*np.std(coefnorm): -203.876351476\n",
      "dist_diff 6.94115575471\n"
     ]
    },
    {
     "name": "stderr",
     "output_type": "stream",
     "text": [
      "\r",
      " 41%|████████████████████████████████▋                                              | 522/1261 [06:12<08:47,  1.40it/s]"
     ]
    },
    {
     "name": "stdout",
     "output_type": "stream",
     "text": [
      "ret 8.77927895688857e-05\n",
      "LA.norm(trackline.diffs)>15*np.std(coefnorm): -187.990260647\n",
      "dist_diff 6.60888977407\n"
     ]
    },
    {
     "name": "stderr",
     "output_type": "stream",
     "text": [
      "\r",
      " 41%|████████████████████████████████▊                                              | 523/1261 [06:12<08:45,  1.40it/s]"
     ]
    },
    {
     "name": "stdout",
     "output_type": "stream",
     "text": [
      "ret 2.6523971961622816e-05\n",
      "LA.norm(trackline.diffs)>15*np.std(coefnorm): -142.914608316\n",
      "dist_diff 0.265528576109\n"
     ]
    },
    {
     "name": "stderr",
     "output_type": "stream",
     "text": [
      "\r",
      " 42%|████████████████████████████████▊                                              | 524/1261 [06:13<08:49,  1.39it/s]"
     ]
    },
    {
     "name": "stdout",
     "output_type": "stream",
     "text": [
      "ret 6.828608329928487e-05\n",
      "LA.norm(trackline.diffs)>15*np.std(coefnorm): -107.351290922\n",
      "dist_diff 2.26404557754\n"
     ]
    },
    {
     "name": "stderr",
     "output_type": "stream",
     "text": [
      "\r",
      " 42%|████████████████████████████████▉                                              | 525/1261 [06:14<08:51,  1.39it/s]"
     ]
    },
    {
     "name": "stdout",
     "output_type": "stream",
     "text": [
      "ret 4.200391567188433e-05\n",
      "LA.norm(trackline.diffs)>15*np.std(coefnorm): -101.61678991\n",
      "dist_diff 2.18609409573\n"
     ]
    },
    {
     "name": "stderr",
     "output_type": "stream",
     "text": [
      "\r",
      " 42%|████████████████████████████████▉                                              | 526/1261 [06:15<08:47,  1.39it/s]"
     ]
    },
    {
     "name": "stdout",
     "output_type": "stream",
     "text": [
      "ret 3.9468347415860805e-05\n",
      "LA.norm(trackline.diffs)>15*np.std(coefnorm): -89.5844005302\n",
      "dist_diff 4.20153726608\n"
     ]
    },
    {
     "name": "stderr",
     "output_type": "stream",
     "text": [
      "\r",
      " 42%|█████████████████████████████████                                              | 527/1261 [06:15<08:48,  1.39it/s]"
     ]
    },
    {
     "name": "stdout",
     "output_type": "stream",
     "text": [
      "ret 4.5595608878679084e-05\n",
      "LA.norm(trackline.diffs)>15*np.std(coefnorm): -71.1425919489\n",
      "dist_diff 1.75616722579\n"
     ]
    },
    {
     "name": "stderr",
     "output_type": "stream",
     "text": [
      "\r",
      " 42%|█████████████████████████████████                                              | 528/1261 [06:16<08:46,  1.39it/s]"
     ]
    },
    {
     "name": "stdout",
     "output_type": "stream",
     "text": [
      "ret 0.00016709103243767176\n",
      "LA.norm(trackline.diffs)>15*np.std(coefnorm): -131.661508781\n",
      "dist_diff 10.234875253\n"
     ]
    },
    {
     "name": "stderr",
     "output_type": "stream",
     "text": [
      "\r",
      " 42%|█████████████████████████████████▏                                             | 529/1261 [06:17<08:43,  1.40it/s]"
     ]
    },
    {
     "name": "stdout",
     "output_type": "stream",
     "text": [
      "ret 0.00025329353801778476\n",
      "LA.norm(trackline.diffs)>15*np.std(coefnorm): -98.4531712095\n",
      "dist_diff 12.9266722869\n"
     ]
    },
    {
     "name": "stderr",
     "output_type": "stream",
     "text": [
      "\r",
      " 42%|█████████████████████████████████▏                                             | 530/1261 [06:18<08:41,  1.40it/s]"
     ]
    },
    {
     "name": "stdout",
     "output_type": "stream",
     "text": [
      "ret 0.00040303316296108616\n",
      "LA.norm(trackline.diffs)>15*np.std(coefnorm): -79.2880410729\n",
      "dist_diff 9.18254315153\n"
     ]
    },
    {
     "name": "stderr",
     "output_type": "stream",
     "text": [
      "\r",
      " 42%|█████████████████████████████████▎                                             | 531/1261 [06:18<08:40,  1.40it/s]"
     ]
    },
    {
     "name": "stdout",
     "output_type": "stream",
     "text": [
      "ret 0.00014891906221548012\n",
      "LA.norm(trackline.diffs)>15*np.std(coefnorm): -45.2260168228\n",
      "dist_diff 7.67710718807\n"
     ]
    },
    {
     "name": "stderr",
     "output_type": "stream",
     "text": [
      "\r",
      " 42%|█████████████████████████████████▎                                             | 532/1261 [06:19<08:40,  1.40it/s]"
     ]
    },
    {
     "name": "stdout",
     "output_type": "stream",
     "text": [
      "ret 6.016386077611902e-06\n",
      "LA.norm(trackline.diffs)>15*np.std(coefnorm): -19.9872928525\n",
      "dist_diff 2.94491483547\n"
     ]
    },
    {
     "name": "stderr",
     "output_type": "stream",
     "text": [
      "\r",
      " 42%|█████████████████████████████████▍                                             | 533/1261 [06:20<08:38,  1.40it/s]"
     ]
    },
    {
     "name": "stdout",
     "output_type": "stream",
     "text": [
      "ret 0.00017680690493776519\n",
      "LA.norm(trackline.diffs)>15*np.std(coefnorm): -51.6640125832\n",
      "dist_diff 16.4303753905\n"
     ]
    },
    {
     "name": "stderr",
     "output_type": "stream",
     "text": [
      "\r",
      " 42%|█████████████████████████████████▍                                             | 534/1261 [06:20<08:37,  1.41it/s]"
     ]
    },
    {
     "name": "stdout",
     "output_type": "stream",
     "text": [
      "ret 2.7685309468505892e-05\n",
      "LA.norm(trackline.diffs)>15*np.std(coefnorm): -62.2274188097\n",
      "dist_diff 8.73921535998\n"
     ]
    },
    {
     "name": "stderr",
     "output_type": "stream",
     "text": [
      "\r",
      " 42%|█████████████████████████████████▌                                             | 535/1261 [06:21<08:34,  1.41it/s]"
     ]
    },
    {
     "name": "stdout",
     "output_type": "stream",
     "text": [
      "ret 3.062836542722103e-05\n",
      "LA.norm(trackline.diffs)>15*np.std(coefnorm): -48.0814095206\n",
      "dist_diff 1.33849487253\n"
     ]
    },
    {
     "name": "stderr",
     "output_type": "stream",
     "text": [
      "\r",
      " 43%|█████████████████████████████████▌                                             | 536/1261 [06:22<08:34,  1.41it/s]"
     ]
    },
    {
     "name": "stdout",
     "output_type": "stream",
     "text": [
      "ret 3.389201570985767e-05\n",
      "LA.norm(trackline.diffs)>15*np.std(coefnorm): -165.189021507\n",
      "dist_diff 0.856473712197\n"
     ]
    },
    {
     "name": "stderr",
     "output_type": "stream",
     "text": [
      "\r",
      " 43%|█████████████████████████████████▋                                             | 537/1261 [06:22<08:35,  1.41it/s]"
     ]
    },
    {
     "name": "stdout",
     "output_type": "stream",
     "text": [
      "ret 5.77624117046871e-05\n",
      "LA.norm(trackline.diffs)>15*np.std(coefnorm): -225.527695743\n",
      "dist_diff 1.6007000405\n"
     ]
    },
    {
     "name": "stderr",
     "output_type": "stream",
     "text": [
      "\r",
      " 43%|█████████████████████████████████▋                                             | 538/1261 [06:23<08:34,  1.41it/s]"
     ]
    },
    {
     "name": "stdout",
     "output_type": "stream",
     "text": [
      "ret 1.7542572237072562e-05\n",
      "LA.norm(trackline.diffs)>15*np.std(coefnorm): -313.848453011\n",
      "dist_diff 4.51521303249\n"
     ]
    },
    {
     "name": "stderr",
     "output_type": "stream",
     "text": [
      "\r",
      " 43%|█████████████████████████████████▊                                             | 539/1261 [06:24<08:33,  1.41it/s]"
     ]
    },
    {
     "name": "stdout",
     "output_type": "stream",
     "text": [
      "ret 0.00010443569429913202\n",
      "LA.norm(trackline.diffs)>15*np.std(coefnorm): -294.971767245\n",
      "dist_diff 0.0291940641771\n"
     ]
    },
    {
     "name": "stderr",
     "output_type": "stream",
     "text": [
      "\r",
      " 43%|█████████████████████████████████▊                                             | 540/1261 [06:25<08:32,  1.41it/s]"
     ]
    },
    {
     "name": "stdout",
     "output_type": "stream",
     "text": [
      "ret 4.7943411467410435e-05\n",
      "LA.norm(trackline.diffs)>15*np.std(coefnorm): -359.187844972\n",
      "dist_diff 7.47290285025\n"
     ]
    },
    {
     "name": "stderr",
     "output_type": "stream",
     "text": [
      "\r",
      " 43%|█████████████████████████████████▉                                             | 541/1261 [06:25<08:33,  1.40it/s]"
     ]
    },
    {
     "name": "stdout",
     "output_type": "stream",
     "text": [
      "ret 3.6812253512763515e-05\n",
      "LA.norm(trackline.diffs)>15*np.std(coefnorm): -360.940336869\n",
      "dist_diff 0.83271362386\n"
     ]
    },
    {
     "name": "stderr",
     "output_type": "stream",
     "text": [
      "\r",
      " 43%|█████████████████████████████████▉                                             | 542/1261 [06:26<08:31,  1.41it/s]"
     ]
    },
    {
     "name": "stdout",
     "output_type": "stream",
     "text": [
      "ret 4.951282031223636e-05\n",
      "LA.norm(trackline.diffs)>15*np.std(coefnorm): -284.704591402\n",
      "dist_diff 9.25454074379\n"
     ]
    },
    {
     "name": "stderr",
     "output_type": "stream",
     "text": [
      "\r",
      " 43%|██████████████████████████████████                                             | 543/1261 [06:27<08:31,  1.40it/s]"
     ]
    },
    {
     "name": "stdout",
     "output_type": "stream",
     "text": [
      "ret 0.0003502879539859505\n",
      "LA.norm(trackline.diffs)>15*np.std(coefnorm): -257.73549752\n",
      "dist_diff 8.50662430061\n"
     ]
    },
    {
     "name": "stderr",
     "output_type": "stream",
     "text": [
      "\r",
      " 43%|██████████████████████████████████                                             | 544/1261 [06:27<08:33,  1.40it/s]"
     ]
    },
    {
     "name": "stdout",
     "output_type": "stream",
     "text": [
      "ret 0.000170337511555263\n",
      "LA.norm(trackline.diffs)>15*np.std(coefnorm): -320.553483419\n",
      "dist_diff 12.3467982747\n"
     ]
    },
    {
     "name": "stderr",
     "output_type": "stream",
     "text": [
      "\r",
      " 43%|██████████████████████████████████▏                                            | 545/1261 [06:28<08:31,  1.40it/s]"
     ]
    },
    {
     "name": "stdout",
     "output_type": "stream",
     "text": [
      "ret 0.00012286971668462598\n",
      "LA.norm(trackline.diffs)>15*np.std(coefnorm): -320.601953874\n",
      "dist_diff 1.1081322542\n"
     ]
    },
    {
     "name": "stderr",
     "output_type": "stream",
     "text": [
      "\r",
      " 43%|██████████████████████████████████▏                                            | 546/1261 [06:29<08:29,  1.40it/s]"
     ]
    },
    {
     "name": "stdout",
     "output_type": "stream",
     "text": [
      "ret 0.00018426853997038917\n",
      "LA.norm(trackline.diffs)>15*np.std(coefnorm): -158.684368097\n",
      "dist_diff 5.79377674096\n"
     ]
    },
    {
     "name": "stderr",
     "output_type": "stream",
     "text": [
      "\r",
      " 43%|██████████████████████████████████▎                                            | 547/1261 [06:30<08:33,  1.39it/s]"
     ]
    },
    {
     "name": "stdout",
     "output_type": "stream",
     "text": [
      "ret 5.6351337413218516e-05\n",
      "LA.norm(trackline.diffs)>15*np.std(coefnorm): -124.878299764\n",
      "dist_diff 1.04855768873\n"
     ]
    },
    {
     "name": "stderr",
     "output_type": "stream",
     "text": [
      "\r",
      " 43%|██████████████████████████████████▎                                            | 548/1261 [06:30<08:30,  1.40it/s]"
     ]
    },
    {
     "name": "stdout",
     "output_type": "stream",
     "text": [
      "ret 0.0002818963193041979\n",
      "LA.norm(trackline.diffs)>15*np.std(coefnorm): -107.852575612\n",
      "dist_diff 5.88397385131\n"
     ]
    },
    {
     "name": "stderr",
     "output_type": "stream",
     "text": [
      "\r",
      " 44%|██████████████████████████████████▍                                            | 549/1261 [06:31<08:26,  1.41it/s]"
     ]
    },
    {
     "name": "stdout",
     "output_type": "stream",
     "text": [
      "ret 6.673348178720673e-06\n",
      "LA.norm(trackline.diffs)>15*np.std(coefnorm): -132.787693613\n",
      "dist_diff 2.61277223132\n"
     ]
    },
    {
     "name": "stderr",
     "output_type": "stream",
     "text": [
      "\r",
      " 44%|██████████████████████████████████▍                                            | 550/1261 [06:32<08:26,  1.40it/s]"
     ]
    },
    {
     "name": "stdout",
     "output_type": "stream",
     "text": [
      "ret 0.0002718973888526932\n",
      "LA.norm(trackline.diffs)>15*np.std(coefnorm): -133.506489009\n",
      "dist_diff 9.81057214734\n"
     ]
    },
    {
     "name": "stderr",
     "output_type": "stream",
     "text": [
      "\r",
      " 44%|██████████████████████████████████▌                                            | 551/1261 [06:32<08:24,  1.41it/s]"
     ]
    },
    {
     "name": "stdout",
     "output_type": "stream",
     "text": [
      "ret 9.170859446872015e-05\n",
      "LA.norm(trackline.diffs)>15*np.std(coefnorm): -143.913616483\n",
      "dist_diff 8.91673669361\n"
     ]
    },
    {
     "name": "stderr",
     "output_type": "stream",
     "text": [
      "\r",
      " 44%|██████████████████████████████████▌                                            | 552/1261 [06:33<08:23,  1.41it/s]"
     ]
    },
    {
     "name": "stdout",
     "output_type": "stream",
     "text": [
      "ret 2.0525668881998804e-05\n",
      "LA.norm(trackline.diffs)>15*np.std(coefnorm): -150.402645089\n",
      "dist_diff 4.74998129783\n"
     ]
    },
    {
     "name": "stderr",
     "output_type": "stream",
     "text": [
      "\r",
      " 44%|██████████████████████████████████▋                                            | 553/1261 [06:34<08:23,  1.41it/s]"
     ]
    },
    {
     "name": "stdout",
     "output_type": "stream",
     "text": [
      "ret 6.578349150476726e-05\n",
      "LA.norm(trackline.diffs)>15*np.std(coefnorm): -146.263101669\n",
      "dist_diff 17.4119139695\n"
     ]
    },
    {
     "name": "stderr",
     "output_type": "stream",
     "text": [
      "\r",
      " 44%|██████████████████████████████████▋                                            | 554/1261 [06:35<08:22,  1.41it/s]"
     ]
    },
    {
     "name": "stdout",
     "output_type": "stream",
     "text": [
      "ret 0.0002891839463140533\n",
      "LA.norm(trackline.diffs)>15*np.std(coefnorm): -114.833134945\n",
      "dist_diff 0.109957943641\n"
     ]
    },
    {
     "name": "stderr",
     "output_type": "stream",
     "text": [
      "\r",
      " 44%|██████████████████████████████████▊                                            | 555/1261 [06:35<08:19,  1.41it/s]"
     ]
    },
    {
     "name": "stdout",
     "output_type": "stream",
     "text": [
      "ret 0.0008701464101059098\n",
      "LA.norm(trackline.diffs)>15*np.std(coefnorm): -46.311986008\n",
      "dist_diff 9.87018862419\n"
     ]
    },
    {
     "name": "stderr",
     "output_type": "stream",
     "text": [
      "\r",
      " 44%|██████████████████████████████████▊                                            | 556/1261 [06:36<08:19,  1.41it/s]"
     ]
    },
    {
     "name": "stdout",
     "output_type": "stream",
     "text": [
      "ret 0.0005888107278376742\n",
      "LA.norm(trackline.diffs)>15*np.std(coefnorm): -185.747234842\n",
      "dist_diff 33.9649272304\n"
     ]
    },
    {
     "name": "stderr",
     "output_type": "stream",
     "text": [
      "\r",
      " 44%|██████████████████████████████████▉                                            | 557/1261 [06:37<08:18,  1.41it/s]"
     ]
    },
    {
     "name": "stdout",
     "output_type": "stream",
     "text": [
      "ret 0.0010595772247387059\n",
      "LA.norm(trackline.diffs)>15*np.std(coefnorm): -254.208859702\n",
      "dist_diff 18.611646008\n"
     ]
    },
    {
     "name": "stderr",
     "output_type": "stream",
     "text": [
      "\r",
      " 44%|██████████████████████████████████▉                                            | 558/1261 [06:37<08:16,  1.42it/s]"
     ]
    },
    {
     "name": "stdout",
     "output_type": "stream",
     "text": [
      "ret 0.00048809087329287904\n",
      "LA.norm(trackline.diffs)>15*np.std(coefnorm): -184.074576424\n",
      "dist_diff 55.6504975959\n"
     ]
    },
    {
     "name": "stderr",
     "output_type": "stream",
     "text": [
      "\r",
      " 44%|███████████████████████████████████                                            | 559/1261 [06:38<08:16,  1.41it/s]"
     ]
    },
    {
     "name": "stdout",
     "output_type": "stream",
     "text": [
      "ret 4.6564381962432844e-05\n",
      "LA.norm(trackline.diffs)>15*np.std(coefnorm): -123.177330464\n",
      "dist_diff 19.3581012411\n"
     ]
    },
    {
     "name": "stderr",
     "output_type": "stream",
     "text": [
      "\r",
      " 44%|███████████████████████████████████                                            | 560/1261 [06:39<08:16,  1.41it/s]"
     ]
    },
    {
     "name": "stdout",
     "output_type": "stream",
     "text": [
      "ret 0.0003447043610426692\n",
      "LA.norm(trackline.diffs)>15*np.std(coefnorm): -87.6702726882\n",
      "dist_diff 8.37679782089\n"
     ]
    },
    {
     "name": "stderr",
     "output_type": "stream",
     "text": [
      "\r",
      " 44%|███████████████████████████████████▏                                           | 561/1261 [06:40<08:14,  1.42it/s]"
     ]
    },
    {
     "name": "stdout",
     "output_type": "stream",
     "text": [
      "ret 0.0007271418409781072\n",
      "LA.norm(trackline.diffs)>15*np.std(coefnorm): -54.1435524114\n",
      "dist_diff 7.12660571005\n"
     ]
    },
    {
     "name": "stderr",
     "output_type": "stream",
     "text": [
      "\r",
      " 45%|███████████████████████████████████▏                                           | 562/1261 [06:40<08:14,  1.41it/s]"
     ]
    },
    {
     "name": "stdout",
     "output_type": "stream",
     "text": [
      "ret 0.0008331796682177761\n",
      "LA.norm(trackline.diffs)>15*np.std(coefnorm): -563.271157293\n",
      "dist_diff 0.815229130589\n"
     ]
    },
    {
     "name": "stderr",
     "output_type": "stream",
     "text": [
      "\r",
      " 45%|███████████████████████████████████▎                                           | 563/1261 [06:41<08:13,  1.42it/s]"
     ]
    },
    {
     "name": "stdout",
     "output_type": "stream",
     "text": [
      "ret 0.0005572757485928781\n",
      "LA.norm(trackline.diffs)>15*np.std(coefnorm): -744.057669602\n",
      "dist_diff 3.13110405748\n"
     ]
    },
    {
     "name": "stderr",
     "output_type": "stream",
     "text": [
      "\r",
      " 45%|███████████████████████████████████▎                                           | 564/1261 [06:42<08:13,  1.41it/s]"
     ]
    },
    {
     "name": "stdout",
     "output_type": "stream",
     "text": [
      "ret 6.702744933084759e-06\n",
      "LA.norm(trackline.diffs)>15*np.std(coefnorm): -729.42405097\n",
      "dist_diff 0.614511269205\n"
     ]
    },
    {
     "name": "stderr",
     "output_type": "stream",
     "text": [
      "\r",
      " 45%|███████████████████████████████████▍                                           | 565/1261 [06:42<08:17,  1.40it/s]"
     ]
    },
    {
     "name": "stdout",
     "output_type": "stream",
     "text": [
      "ret 1.6850806167367782e-05\n",
      "LA.norm(trackline.diffs)>15*np.std(coefnorm): -650.037609937\n",
      "dist_diff 30.487565602\n"
     ]
    },
    {
     "name": "stderr",
     "output_type": "stream",
     "text": [
      "\r",
      " 45%|███████████████████████████████████▍                                           | 566/1261 [06:43<08:17,  1.40it/s]"
     ]
    },
    {
     "name": "stdout",
     "output_type": "stream",
     "text": [
      "ret 0.00041495632580751396\n",
      "LA.norm(trackline.diffs)>15*np.std(coefnorm): -617.808400674\n",
      "dist_diff 13.173848097\n"
     ]
    },
    {
     "name": "stderr",
     "output_type": "stream",
     "text": [
      "\r",
      " 45%|███████████████████████████████████▌                                           | 567/1261 [06:44<08:18,  1.39it/s]"
     ]
    },
    {
     "name": "stdout",
     "output_type": "stream",
     "text": [
      "ret 0.0003813025323918251\n",
      "LA.norm(trackline.diffs)>15*np.std(coefnorm): -625.670863525\n",
      "dist_diff 1.14925289611\n"
     ]
    },
    {
     "name": "stderr",
     "output_type": "stream",
     "text": [
      "\r",
      " 45%|███████████████████████████████████▌                                           | 568/1261 [06:45<08:14,  1.40it/s]"
     ]
    },
    {
     "name": "stdout",
     "output_type": "stream",
     "text": [
      "ret 9.828039028159097e-07\n",
      "LA.norm(trackline.diffs)>15*np.std(coefnorm): -730.82707759\n",
      "dist_diff 3.90126118795\n"
     ]
    },
    {
     "name": "stderr",
     "output_type": "stream",
     "text": [
      "\r",
      " 45%|███████████████████████████████████▋                                           | 569/1261 [06:45<08:11,  1.41it/s]"
     ]
    },
    {
     "name": "stdout",
     "output_type": "stream",
     "text": [
      "ret 0.00018358785297578617\n",
      "LA.norm(trackline.diffs)>15*np.std(coefnorm): -729.962694059\n",
      "dist_diff 2.85142964726\n"
     ]
    },
    {
     "name": "stderr",
     "output_type": "stream",
     "text": [
      "\r",
      " 45%|███████████████████████████████████▋                                           | 570/1261 [06:46<08:10,  1.41it/s]"
     ]
    },
    {
     "name": "stdout",
     "output_type": "stream",
     "text": [
      "ret 4.3655094873085165e-05\n",
      "LA.norm(trackline.diffs)>15*np.std(coefnorm): -791.450447195\n",
      "dist_diff 3.22058786328\n"
     ]
    },
    {
     "name": "stderr",
     "output_type": "stream",
     "text": [
      "\r",
      " 45%|███████████████████████████████████▊                                           | 571/1261 [06:47<08:06,  1.42it/s]"
     ]
    },
    {
     "name": "stdout",
     "output_type": "stream",
     "text": [
      "ret 4.149906657663349e-05\n",
      "LA.norm(trackline.diffs)>15*np.std(coefnorm): -801.428161276\n",
      "dist_diff 3.81330839708\n"
     ]
    },
    {
     "name": "stderr",
     "output_type": "stream",
     "text": [
      "\r",
      " 45%|███████████████████████████████████▊                                           | 572/1261 [06:47<08:06,  1.42it/s]"
     ]
    },
    {
     "name": "stdout",
     "output_type": "stream",
     "text": [
      "ret 3.520819017066579e-05\n",
      "LA.norm(trackline.diffs)>15*np.std(coefnorm): -830.522563775\n",
      "dist_diff 4.82414662106\n"
     ]
    },
    {
     "name": "stderr",
     "output_type": "stream",
     "text": [
      "\r",
      " 45%|███████████████████████████████████▉                                           | 573/1261 [06:48<08:09,  1.41it/s]"
     ]
    },
    {
     "name": "stdout",
     "output_type": "stream",
     "text": [
      "ret 0.00021096761436245615\n",
      "LA.norm(trackline.diffs)>15*np.std(coefnorm): -850.386643248\n",
      "dist_diff 4.63396523851\n"
     ]
    },
    {
     "name": "stderr",
     "output_type": "stream",
     "text": [
      "\r",
      " 46%|███████████████████████████████████▉                                           | 574/1261 [06:49<08:10,  1.40it/s]"
     ]
    },
    {
     "name": "stdout",
     "output_type": "stream",
     "text": [
      "ret 0.0003561418366130886\n",
      "LA.norm(trackline.diffs)>15*np.std(coefnorm): -521.214632258\n",
      "dist_diff 2.56405213635\n"
     ]
    },
    {
     "name": "stderr",
     "output_type": "stream",
     "text": [
      "\r",
      " 46%|████████████████████████████████████                                           | 575/1261 [06:50<08:09,  1.40it/s]"
     ]
    },
    {
     "name": "stdout",
     "output_type": "stream",
     "text": [
      "ret 0.00033062843148851107\n",
      "LA.norm(trackline.diffs)>15*np.std(coefnorm): -386.713709591\n",
      "dist_diff 2.88422800549\n"
     ]
    },
    {
     "name": "stderr",
     "output_type": "stream",
     "text": [
      "\r",
      " 46%|████████████████████████████████████                                           | 576/1261 [06:50<08:08,  1.40it/s]"
     ]
    },
    {
     "name": "stdout",
     "output_type": "stream",
     "text": [
      "ret 0.0002361506854375306\n",
      "LA.norm(trackline.diffs)>15*np.std(coefnorm): -302.7207371\n",
      "dist_diff 0.246000179479\n"
     ]
    },
    {
     "name": "stderr",
     "output_type": "stream",
     "text": [
      "\r",
      " 46%|████████████████████████████████████▏                                          | 577/1261 [06:51<08:05,  1.41it/s]"
     ]
    },
    {
     "name": "stdout",
     "output_type": "stream",
     "text": [
      "ret 0.00015542315383731964\n",
      "LA.norm(trackline.diffs)>15*np.std(coefnorm): -174.427721118\n",
      "dist_diff 4.96160136773\n"
     ]
    },
    {
     "name": "stderr",
     "output_type": "stream",
     "text": [
      "\r",
      " 46%|████████████████████████████████████▏                                          | 578/1261 [06:52<08:05,  1.41it/s]"
     ]
    },
    {
     "name": "stdout",
     "output_type": "stream",
     "text": [
      "ret 3.8541310016404484e-05\n",
      "LA.norm(trackline.diffs)>15*np.std(coefnorm): -201.637597258\n",
      "dist_diff 2.22935129931\n"
     ]
    },
    {
     "name": "stderr",
     "output_type": "stream",
     "text": [
      "\r",
      " 46%|████████████████████████████████████▎                                          | 579/1261 [06:52<08:06,  1.40it/s]"
     ]
    },
    {
     "name": "stdout",
     "output_type": "stream",
     "text": [
      "ret 3.0836758167451794e-05\n",
      "LA.norm(trackline.diffs)>15*np.std(coefnorm): -154.494918901\n",
      "dist_diff 0.575593025125\n"
     ]
    },
    {
     "name": "stderr",
     "output_type": "stream",
     "text": [
      "\r",
      " 46%|████████████████████████████████████▎                                          | 580/1261 [06:53<08:05,  1.40it/s]"
     ]
    },
    {
     "name": "stdout",
     "output_type": "stream",
     "text": [
      "ret 1.3835654444349643e-07\n",
      "LA.norm(trackline.diffs)>15*np.std(coefnorm): -215.655439964\n",
      "dist_diff 9.87888713272\n"
     ]
    },
    {
     "name": "stderr",
     "output_type": "stream",
     "text": [
      "\r",
      " 46%|████████████████████████████████████▍                                          | 581/1261 [06:54<08:04,  1.40it/s]"
     ]
    },
    {
     "name": "stdout",
     "output_type": "stream",
     "text": [
      "ret 5.2536633095456864e-05\n",
      "LA.norm(trackline.diffs)>15*np.std(coefnorm): -247.012475196\n",
      "dist_diff 0.994435752172\n"
     ]
    },
    {
     "name": "stderr",
     "output_type": "stream",
     "text": [
      "\r",
      " 46%|████████████████████████████████████▍                                          | 582/1261 [06:54<08:02,  1.41it/s]"
     ]
    },
    {
     "name": "stdout",
     "output_type": "stream",
     "text": [
      "ret 5.815033537259762e-05\n",
      "LA.norm(trackline.diffs)>15*np.std(coefnorm): -212.859924692\n",
      "dist_diff 1.97105097976\n"
     ]
    },
    {
     "name": "stderr",
     "output_type": "stream",
     "text": [
      "\r",
      " 46%|████████████████████████████████████▌                                          | 583/1261 [06:55<08:03,  1.40it/s]"
     ]
    },
    {
     "name": "stdout",
     "output_type": "stream",
     "text": [
      "ret 0.00028785788597357476\n",
      "LA.norm(trackline.diffs)>15*np.std(coefnorm): -166.641053795\n",
      "dist_diff 0.406648762559\n"
     ]
    },
    {
     "name": "stderr",
     "output_type": "stream",
     "text": [
      "\r",
      " 46%|████████████████████████████████████▌                                          | 584/1261 [06:56<08:01,  1.40it/s]"
     ]
    },
    {
     "name": "stdout",
     "output_type": "stream",
     "text": [
      "ret 3.531294725594991e-05\n",
      "LA.norm(trackline.diffs)>15*np.std(coefnorm): -188.555427908\n",
      "dist_diff 1.22787803269\n"
     ]
    },
    {
     "name": "stderr",
     "output_type": "stream",
     "text": [
      "\r",
      " 46%|████████████████████████████████████▋                                          | 585/1261 [06:57<07:59,  1.41it/s]"
     ]
    },
    {
     "name": "stdout",
     "output_type": "stream",
     "text": [
      "ret 0.0017433715112769033\n",
      "LA.norm(trackline.diffs)>15*np.std(coefnorm): 33.1207274755\n",
      "dist_diff 218.165914144\n"
     ]
    },
    {
     "name": "stderr",
     "output_type": "stream",
     "text": [
      "\r",
      " 46%|████████████████████████████████████▋                                          | 586/1261 [06:57<07:59,  1.41it/s]"
     ]
    },
    {
     "name": "stdout",
     "output_type": "stream",
     "text": [
      "ret 0.0017696846070806571\n",
      "LA.norm(trackline.diffs)>15*np.std(coefnorm): 37.4172450087\n",
      "dist_diff 26.4798186656\n"
     ]
    },
    {
     "name": "stderr",
     "output_type": "stream",
     "text": [
      "\r",
      " 47%|████████████████████████████████████▊                                          | 587/1261 [06:58<08:00,  1.40it/s]"
     ]
    },
    {
     "name": "stdout",
     "output_type": "stream",
     "text": [
      "ret 0.0018354970069394128\n",
      "LA.norm(trackline.diffs)>15*np.std(coefnorm): 28.4733639107\n",
      "dist_diff 41.0341534586\n"
     ]
    },
    {
     "name": "stderr",
     "output_type": "stream",
     "text": [
      "\r",
      " 47%|████████████████████████████████████▊                                          | 588/1261 [06:59<08:00,  1.40it/s]"
     ]
    },
    {
     "name": "stdout",
     "output_type": "stream",
     "text": [
      "ret 0.0020137103789330535\n",
      "LA.norm(trackline.diffs)>15*np.std(coefnorm): 36.4826040245\n",
      "dist_diff 6.5049163523\n"
     ]
    },
    {
     "name": "stderr",
     "output_type": "stream",
     "text": [
      "\r",
      " 47%|████████████████████████████████████▉                                          | 589/1261 [06:59<07:58,  1.40it/s]"
     ]
    },
    {
     "name": "stdout",
     "output_type": "stream",
     "text": [
      "ret 0.00013452696546067955\n",
      "LA.norm(trackline.diffs)>15*np.std(coefnorm): -115.502598679\n",
      "dist_diff 239.935682157\n"
     ]
    },
    {
     "name": "stderr",
     "output_type": "stream",
     "text": [
      "\r",
      " 47%|████████████████████████████████████▉                                          | 590/1261 [07:00<07:55,  1.41it/s]"
     ]
    },
    {
     "name": "stdout",
     "output_type": "stream",
     "text": [
      "ret 9.258227071784475e-05\n",
      "LA.norm(trackline.diffs)>15*np.std(coefnorm): -174.917466094\n",
      "dist_diff 8.89178357561\n"
     ]
    },
    {
     "name": "stderr",
     "output_type": "stream",
     "text": [
      "\r",
      " 47%|█████████████████████████████████████                                          | 591/1261 [07:01<07:53,  1.42it/s]"
     ]
    },
    {
     "name": "stdout",
     "output_type": "stream",
     "text": [
      "ret 0.00028478004762205744\n",
      "LA.norm(trackline.diffs)>15*np.std(coefnorm): -234.093950169\n",
      "dist_diff 16.6465199725\n"
     ]
    },
    {
     "name": "stderr",
     "output_type": "stream",
     "text": [
      "\r",
      " 47%|█████████████████████████████████████                                          | 592/1261 [07:02<07:53,  1.41it/s]"
     ]
    },
    {
     "name": "stdout",
     "output_type": "stream",
     "text": [
      "ret 0.0004535192358812723\n",
      "LA.norm(trackline.diffs)>15*np.std(coefnorm): -242.855702708\n",
      "dist_diff 29.094748568\n"
     ]
    },
    {
     "name": "stderr",
     "output_type": "stream",
     "text": [
      "\r",
      " 47%|█████████████████████████████████████▏                                         | 593/1261 [07:02<07:54,  1.41it/s]"
     ]
    },
    {
     "name": "stdout",
     "output_type": "stream",
     "text": [
      "ret 0.00036944630946478263\n",
      "LA.norm(trackline.diffs)>15*np.std(coefnorm): -233.318733587\n",
      "dist_diff 10.3372672038\n"
     ]
    },
    {
     "name": "stderr",
     "output_type": "stream",
     "text": [
      "\r",
      " 47%|█████████████████████████████████████▏                                         | 594/1261 [07:03<07:54,  1.41it/s]"
     ]
    },
    {
     "name": "stdout",
     "output_type": "stream",
     "text": [
      "ret 0.00011321586088869351\n",
      "LA.norm(trackline.diffs)>15*np.std(coefnorm): -226.268090828\n",
      "dist_diff 16.4562924869\n"
     ]
    },
    {
     "name": "stderr",
     "output_type": "stream",
     "text": [
      "\r",
      " 47%|█████████████████████████████████████▎                                         | 595/1261 [07:04<07:51,  1.41it/s]"
     ]
    },
    {
     "name": "stdout",
     "output_type": "stream",
     "text": [
      "ret 0.00015034671603486593\n",
      "LA.norm(trackline.diffs)>15*np.std(coefnorm): -210.993606799\n",
      "dist_diff 8.65976351462\n"
     ]
    },
    {
     "name": "stderr",
     "output_type": "stream",
     "text": [
      "\r",
      " 47%|█████████████████████████████████████▎                                         | 596/1261 [07:04<07:52,  1.41it/s]"
     ]
    },
    {
     "name": "stdout",
     "output_type": "stream",
     "text": [
      "ret 0.00017769956165158973\n",
      "LA.norm(trackline.diffs)>15*np.std(coefnorm): -202.112054294\n",
      "dist_diff 2.55749629724\n"
     ]
    },
    {
     "name": "stderr",
     "output_type": "stream",
     "text": [
      "\r",
      " 47%|█████████████████████████████████████▍                                         | 597/1261 [07:05<07:52,  1.40it/s]"
     ]
    },
    {
     "name": "stdout",
     "output_type": "stream",
     "text": [
      "ret 6.672612540992162e-05\n",
      "LA.norm(trackline.diffs)>15*np.std(coefnorm): -202.025199658\n",
      "dist_diff 7.60684096626\n"
     ]
    },
    {
     "name": "stderr",
     "output_type": "stream",
     "text": [
      "\r",
      " 47%|█████████████████████████████████████▍                                         | 598/1261 [07:06<07:50,  1.41it/s]"
     ]
    },
    {
     "name": "stdout",
     "output_type": "stream",
     "text": [
      "ret 8.511464221372389e-06\n",
      "LA.norm(trackline.diffs)>15*np.std(coefnorm): -191.296165035\n",
      "dist_diff 3.61927611335\n"
     ]
    },
    {
     "name": "stderr",
     "output_type": "stream",
     "text": [
      "\r",
      " 48%|█████████████████████████████████████▌                                         | 599/1261 [07:07<07:48,  1.41it/s]"
     ]
    },
    {
     "name": "stdout",
     "output_type": "stream",
     "text": [
      "ret 7.655907331149958e-06\n",
      "LA.norm(trackline.diffs)>15*np.std(coefnorm): -222.446101359\n",
      "dist_diff 3.35830672213\n"
     ]
    },
    {
     "name": "stderr",
     "output_type": "stream",
     "text": [
      "\r",
      " 48%|█████████████████████████████████████▌                                         | 600/1261 [07:07<07:46,  1.42it/s]"
     ]
    },
    {
     "name": "stdout",
     "output_type": "stream",
     "text": [
      "ret 6.555449221906651e-05\n",
      "LA.norm(trackline.diffs)>15*np.std(coefnorm): -248.832712146\n",
      "dist_diff 8.14337401719\n"
     ]
    },
    {
     "name": "stderr",
     "output_type": "stream",
     "text": [
      "\r",
      " 48%|█████████████████████████████████████▋                                         | 601/1261 [07:08<07:46,  1.42it/s]"
     ]
    },
    {
     "name": "stdout",
     "output_type": "stream",
     "text": [
      "ret 9.785896568637042e-07\n",
      "LA.norm(trackline.diffs)>15*np.std(coefnorm): -238.624030749\n",
      "dist_diff 2.8473322746\n"
     ]
    },
    {
     "name": "stderr",
     "output_type": "stream",
     "text": [
      "\r",
      " 48%|█████████████████████████████████████▋                                         | 602/1261 [07:09<07:44,  1.42it/s]"
     ]
    },
    {
     "name": "stdout",
     "output_type": "stream",
     "text": [
      "ret 1.5330671912339167e-05\n",
      "LA.norm(trackline.diffs)>15*np.std(coefnorm): -313.808215315\n",
      "dist_diff 8.37402554111\n"
     ]
    },
    {
     "name": "stderr",
     "output_type": "stream",
     "text": [
      "\r",
      " 48%|█████████████████████████████████████▊                                         | 603/1261 [07:09<07:43,  1.42it/s]"
     ]
    },
    {
     "name": "stdout",
     "output_type": "stream",
     "text": [
      "ret 7.12373985630732e-05\n",
      "LA.norm(trackline.diffs)>15*np.std(coefnorm): -304.950543895\n",
      "dist_diff 10.8285117739\n"
     ]
    },
    {
     "name": "stderr",
     "output_type": "stream",
     "text": [
      "\r",
      " 48%|█████████████████████████████████████▊                                         | 604/1261 [07:10<07:42,  1.42it/s]"
     ]
    },
    {
     "name": "stdout",
     "output_type": "stream",
     "text": [
      "ret 7.025365935925398e-05\n",
      "LA.norm(trackline.diffs)>15*np.std(coefnorm): -298.051005625\n",
      "dist_diff 0.159981640921\n"
     ]
    },
    {
     "name": "stderr",
     "output_type": "stream",
     "text": [
      "\r",
      " 48%|█████████████████████████████████████▉                                         | 605/1261 [07:11<07:43,  1.42it/s]"
     ]
    },
    {
     "name": "stdout",
     "output_type": "stream",
     "text": [
      "ret 4.739242356488482e-05\n",
      "LA.norm(trackline.diffs)>15*np.std(coefnorm): -424.719824141\n",
      "dist_diff 0.939548091224\n"
     ]
    },
    {
     "name": "stderr",
     "output_type": "stream",
     "text": [
      "\r",
      " 48%|█████████████████████████████████████▉                                         | 606/1261 [07:11<07:41,  1.42it/s]"
     ]
    },
    {
     "name": "stdout",
     "output_type": "stream",
     "text": [
      "ret 2.3024990973508075e-05\n",
      "LA.norm(trackline.diffs)>15*np.std(coefnorm): -485.697613316\n",
      "dist_diff 5.55574776063\n"
     ]
    },
    {
     "name": "stderr",
     "output_type": "stream",
     "text": [
      "\r",
      " 48%|██████████████████████████████████████                                         | 607/1261 [07:12<07:41,  1.42it/s]"
     ]
    },
    {
     "name": "stdout",
     "output_type": "stream",
     "text": [
      "ret 2.9766500253547434e-06\n",
      "LA.norm(trackline.diffs)>15*np.std(coefnorm): -528.346137443\n",
      "dist_diff 2.96880151921\n"
     ]
    },
    {
     "name": "stderr",
     "output_type": "stream",
     "text": [
      "\r",
      " 48%|██████████████████████████████████████                                         | 608/1261 [07:13<07:40,  1.42it/s]"
     ]
    },
    {
     "name": "stdout",
     "output_type": "stream",
     "text": [
      "ret 6.81539150685917e-05\n",
      "LA.norm(trackline.diffs)>15*np.std(coefnorm): -472.671356718\n",
      "dist_diff 0.118736678929\n"
     ]
    },
    {
     "name": "stderr",
     "output_type": "stream",
     "text": [
      "\r",
      " 48%|██████████████████████████████████████▏                                        | 609/1261 [07:14<07:39,  1.42it/s]"
     ]
    },
    {
     "name": "stdout",
     "output_type": "stream",
     "text": [
      "ret 4.344882123974436e-06\n",
      "LA.norm(trackline.diffs)>15*np.std(coefnorm): -393.268672551\n",
      "dist_diff 1.05265129879\n"
     ]
    },
    {
     "name": "stderr",
     "output_type": "stream",
     "text": [
      "\r",
      " 48%|██████████████████████████████████████▏                                        | 610/1261 [07:14<07:40,  1.41it/s]"
     ]
    },
    {
     "name": "stdout",
     "output_type": "stream",
     "text": [
      "ret 4.2089677944889825e-05\n",
      "LA.norm(trackline.diffs)>15*np.std(coefnorm): -387.490244801\n",
      "dist_diff 0.633225916511\n"
     ]
    },
    {
     "name": "stderr",
     "output_type": "stream",
     "text": [
      "\r",
      " 48%|██████████████████████████████████████▎                                        | 611/1261 [07:15<07:40,  1.41it/s]"
     ]
    },
    {
     "name": "stdout",
     "output_type": "stream",
     "text": [
      "ret 0.00011853837818331936\n",
      "LA.norm(trackline.diffs)>15*np.std(coefnorm): -320.34730874\n",
      "dist_diff 0.422046018403\n"
     ]
    },
    {
     "name": "stderr",
     "output_type": "stream",
     "text": [
      "\r",
      " 49%|██████████████████████████████████████▎                                        | 612/1261 [07:16<07:40,  1.41it/s]"
     ]
    },
    {
     "name": "stdout",
     "output_type": "stream",
     "text": [
      "ret 2.8567488630171223e-05\n",
      "LA.norm(trackline.diffs)>15*np.std(coefnorm): -269.921966497\n",
      "dist_diff 11.9525438595\n"
     ]
    },
    {
     "name": "stderr",
     "output_type": "stream",
     "text": [
      "\r",
      " 49%|██████████████████████████████████████▍                                        | 613/1261 [07:16<07:38,  1.41it/s]"
     ]
    },
    {
     "name": "stdout",
     "output_type": "stream",
     "text": [
      "ret 0.00015225624032422225\n",
      "LA.norm(trackline.diffs)>15*np.std(coefnorm): -255.587056358\n",
      "dist_diff 12.1903808607\n"
     ]
    },
    {
     "name": "stderr",
     "output_type": "stream",
     "text": [
      "\r",
      " 49%|██████████████████████████████████████▍                                        | 614/1261 [07:17<07:39,  1.41it/s]"
     ]
    },
    {
     "name": "stdout",
     "output_type": "stream",
     "text": [
      "ret 0.00022519019299671594\n",
      "LA.norm(trackline.diffs)>15*np.std(coefnorm): -252.386332953\n",
      "dist_diff 1.22742095327\n"
     ]
    },
    {
     "name": "stderr",
     "output_type": "stream",
     "text": [
      "\r",
      " 49%|██████████████████████████████████████▌                                        | 615/1261 [07:18<07:40,  1.40it/s]"
     ]
    },
    {
     "name": "stdout",
     "output_type": "stream",
     "text": [
      "ret 0.00011128158177003966\n",
      "LA.norm(trackline.diffs)>15*np.std(coefnorm): -180.537874783\n",
      "dist_diff 27.8711094203\n"
     ]
    },
    {
     "name": "stderr",
     "output_type": "stream",
     "text": [
      "\r",
      " 49%|██████████████████████████████████████▌                                        | 616/1261 [07:19<07:38,  1.41it/s]"
     ]
    },
    {
     "name": "stdout",
     "output_type": "stream",
     "text": [
      "ret 0.000305433364876484\n",
      "LA.norm(trackline.diffs)>15*np.std(coefnorm): -155.410905677\n",
      "dist_diff 25.031564235\n"
     ]
    },
    {
     "name": "stderr",
     "output_type": "stream",
     "text": [
      "\r",
      " 49%|██████████████████████████████████████▋                                        | 617/1261 [07:19<07:38,  1.40it/s]"
     ]
    },
    {
     "name": "stdout",
     "output_type": "stream",
     "text": [
      "ret 0.00041449590196218633\n",
      "LA.norm(trackline.diffs)>15*np.std(coefnorm): -155.781142654\n",
      "dist_diff 14.2885198503\n"
     ]
    },
    {
     "name": "stderr",
     "output_type": "stream",
     "text": [
      "\r",
      " 49%|██████████████████████████████████████▋                                        | 618/1261 [07:20<07:39,  1.40it/s]"
     ]
    },
    {
     "name": "stdout",
     "output_type": "stream",
     "text": [
      "ret 0.0008155635437039344\n",
      "LA.norm(trackline.diffs)>15*np.std(coefnorm): -119.281768085\n",
      "dist_diff 2.95318242056\n"
     ]
    },
    {
     "name": "stderr",
     "output_type": "stream",
     "text": [
      "\r",
      " 49%|██████████████████████████████████████▊                                        | 619/1261 [07:21<07:38,  1.40it/s]"
     ]
    },
    {
     "name": "stdout",
     "output_type": "stream",
     "text": [
      "ret 2.54360175699353e-05\n",
      "LA.norm(trackline.diffs)>15*np.std(coefnorm): -174.073825481\n",
      "dist_diff 4.59875796646\n"
     ]
    },
    {
     "name": "stderr",
     "output_type": "stream",
     "text": [
      "\r",
      " 49%|██████████████████████████████████████▊                                        | 620/1261 [07:21<07:36,  1.40it/s]"
     ]
    },
    {
     "name": "stdout",
     "output_type": "stream",
     "text": [
      "ret 0.00020079973652215033\n",
      "LA.norm(trackline.diffs)>15*np.std(coefnorm): -250.355451707\n",
      "dist_diff 2.7000611463\n"
     ]
    },
    {
     "name": "stderr",
     "output_type": "stream",
     "text": [
      "\r",
      " 49%|██████████████████████████████████████▉                                        | 621/1261 [07:22<07:35,  1.41it/s]"
     ]
    },
    {
     "name": "stdout",
     "output_type": "stream",
     "text": [
      "ret 0.00015358729943809601\n",
      "LA.norm(trackline.diffs)>15*np.std(coefnorm): -331.228997049\n",
      "dist_diff 2.04103660834\n"
     ]
    },
    {
     "name": "stderr",
     "output_type": "stream",
     "text": [
      "\r",
      " 49%|██████████████████████████████████████▉                                        | 622/1261 [07:23<07:36,  1.40it/s]"
     ]
    },
    {
     "name": "stdout",
     "output_type": "stream",
     "text": [
      "ret 1.769784963218113e-05\n",
      "LA.norm(trackline.diffs)>15*np.std(coefnorm): -369.248060491\n",
      "dist_diff 1.64246198139\n"
     ]
    },
    {
     "name": "stderr",
     "output_type": "stream",
     "text": [
      "\r",
      " 49%|███████████████████████████████████████                                        | 623/1261 [07:24<07:35,  1.40it/s]"
     ]
    },
    {
     "name": "stdout",
     "output_type": "stream",
     "text": [
      "ret 0.00020358987287560915\n",
      "LA.norm(trackline.diffs)>15*np.std(coefnorm): -394.196743655\n",
      "dist_diff 3.4383200534\n"
     ]
    },
    {
     "name": "stderr",
     "output_type": "stream",
     "text": [
      "\r",
      " 49%|███████████████████████████████████████                                        | 624/1261 [07:24<07:34,  1.40it/s]"
     ]
    },
    {
     "name": "stdout",
     "output_type": "stream",
     "text": [
      "ret 0.0009205495783646822\n",
      "LA.norm(trackline.diffs)>15*np.std(coefnorm): -374.883494848\n",
      "dist_diff 7.094988501\n"
     ]
    },
    {
     "name": "stderr",
     "output_type": "stream",
     "text": [
      "\r",
      " 50%|███████████████████████████████████████▏                                       | 625/1261 [07:25<07:34,  1.40it/s]"
     ]
    },
    {
     "name": "stdout",
     "output_type": "stream",
     "text": [
      "ret 0.00016467314653434428\n",
      "LA.norm(trackline.diffs)>15*np.std(coefnorm): -418.608156152\n",
      "dist_diff 1.696870112\n"
     ]
    },
    {
     "name": "stderr",
     "output_type": "stream",
     "text": [
      "\r",
      " 50%|███████████████████████████████████████▏                                       | 626/1261 [07:26<07:33,  1.40it/s]"
     ]
    },
    {
     "name": "stdout",
     "output_type": "stream",
     "text": [
      "ret 7.898461307154214e-05\n",
      "LA.norm(trackline.diffs)>15*np.std(coefnorm): -435.692243746\n",
      "dist_diff 2.64958013362\n"
     ]
    },
    {
     "name": "stderr",
     "output_type": "stream",
     "text": [
      "\r",
      " 50%|███████████████████████████████████████▎                                       | 627/1261 [07:26<07:31,  1.40it/s]"
     ]
    },
    {
     "name": "stdout",
     "output_type": "stream",
     "text": [
      "ret 0.0006421806591264678\n",
      "LA.norm(trackline.diffs)>15*np.std(coefnorm): -412.496463243\n",
      "dist_diff 2.26715976953\n"
     ]
    },
    {
     "name": "stderr",
     "output_type": "stream",
     "text": [
      "\r",
      " 50%|███████████████████████████████████████▎                                       | 628/1261 [07:27<07:29,  1.41it/s]"
     ]
    },
    {
     "name": "stdout",
     "output_type": "stream",
     "text": [
      "ret 0.0003430116109913728\n",
      "LA.norm(trackline.diffs)>15*np.std(coefnorm): -444.372458515\n",
      "dist_diff 12.5330219794\n"
     ]
    },
    {
     "name": "stderr",
     "output_type": "stream",
     "text": [
      "\r",
      " 50%|███████████████████████████████████████▍                                       | 629/1261 [07:28<07:26,  1.41it/s]"
     ]
    },
    {
     "name": "stdout",
     "output_type": "stream",
     "text": [
      "ret 0.00127386481087155\n",
      "LA.norm(trackline.diffs)>15*np.std(coefnorm): -467.525325973\n",
      "dist_diff 1.23872494804\n"
     ]
    },
    {
     "name": "stderr",
     "output_type": "stream",
     "text": [
      "\r",
      " 50%|███████████████████████████████████████▍                                       | 630/1261 [07:29<07:28,  1.41it/s]"
     ]
    },
    {
     "name": "stdout",
     "output_type": "stream",
     "text": [
      "ret 0.0016485867129626963\n",
      "LA.norm(trackline.diffs)>15*np.std(coefnorm): -441.325592494\n",
      "dist_diff 10.8055150662\n"
     ]
    },
    {
     "name": "stderr",
     "output_type": "stream",
     "text": [
      "\r",
      " 50%|███████████████████████████████████████▌                                       | 631/1261 [07:29<07:27,  1.41it/s]"
     ]
    },
    {
     "name": "stdout",
     "output_type": "stream",
     "text": [
      "ret 0.0018022630460218791\n",
      "LA.norm(trackline.diffs)>15*np.std(coefnorm): -416.105703108\n",
      "dist_diff 7.44122539301\n"
     ]
    },
    {
     "name": "stderr",
     "output_type": "stream",
     "text": [
      "\r",
      " 50%|███████████████████████████████████████▌                                       | 632/1261 [07:30<07:27,  1.41it/s]"
     ]
    },
    {
     "name": "stdout",
     "output_type": "stream",
     "text": [
      "ret 0.001896714024352819\n",
      "LA.norm(trackline.diffs)>15*np.std(coefnorm): -421.790046612\n",
      "dist_diff 6.50473484709\n"
     ]
    },
    {
     "name": "stderr",
     "output_type": "stream",
     "text": [
      "\r",
      " 50%|███████████████████████████████████████▋                                       | 633/1261 [07:31<07:25,  1.41it/s]"
     ]
    },
    {
     "name": "stdout",
     "output_type": "stream",
     "text": [
      "ret 0.0017600007097320347\n",
      "LA.norm(trackline.diffs)>15*np.std(coefnorm): -444.455925348\n",
      "dist_diff 1.18836626137\n"
     ]
    },
    {
     "name": "stderr",
     "output_type": "stream",
     "text": [
      "\r",
      " 50%|███████████████████████████████████████▋                                       | 634/1261 [07:31<07:25,  1.41it/s]"
     ]
    },
    {
     "name": "stdout",
     "output_type": "stream",
     "text": [
      "ret 0.0012030289632369295\n",
      "LA.norm(trackline.diffs)>15*np.std(coefnorm): -469.687557568\n",
      "dist_diff 4.29480342834\n"
     ]
    },
    {
     "name": "stderr",
     "output_type": "stream",
     "text": [
      "\r",
      " 50%|███████████████████████████████████████▊                                       | 635/1261 [07:32<07:26,  1.40it/s]"
     ]
    },
    {
     "name": "stdout",
     "output_type": "stream",
     "text": [
      "ret 0.0004780036361239359\n",
      "LA.norm(trackline.diffs)>15*np.std(coefnorm): -462.395250678\n",
      "dist_diff 8.74770870216\n"
     ]
    },
    {
     "name": "stderr",
     "output_type": "stream",
     "text": [
      "\r",
      " 50%|███████████████████████████████████████▊                                       | 636/1261 [07:33<07:23,  1.41it/s]"
     ]
    },
    {
     "name": "stdout",
     "output_type": "stream",
     "text": [
      "ret 0.0004255608277935474\n",
      "LA.norm(trackline.diffs)>15*np.std(coefnorm): -428.771388327\n",
      "dist_diff 9.2859822571\n"
     ]
    },
    {
     "name": "stderr",
     "output_type": "stream",
     "text": [
      "\r",
      " 51%|███████████████████████████████████████▉                                       | 637/1261 [07:34<07:22,  1.41it/s]"
     ]
    },
    {
     "name": "stdout",
     "output_type": "stream",
     "text": [
      "ret 0.00040664291147729514\n",
      "LA.norm(trackline.diffs)>15*np.std(coefnorm): -427.766361522\n",
      "dist_diff 4.39602371714\n"
     ]
    },
    {
     "name": "stderr",
     "output_type": "stream",
     "text": [
      "\r",
      " 51%|███████████████████████████████████████▉                                       | 638/1261 [07:34<07:22,  1.41it/s]"
     ]
    },
    {
     "name": "stdout",
     "output_type": "stream",
     "text": [
      "ret 0.0005349125804190447\n",
      "LA.norm(trackline.diffs)>15*np.std(coefnorm): -475.972615232\n",
      "dist_diff 2.82369426679\n"
     ]
    },
    {
     "name": "stderr",
     "output_type": "stream",
     "text": [
      "\r",
      " 51%|████████████████████████████████████████                                       | 639/1261 [07:35<07:22,  1.41it/s]"
     ]
    },
    {
     "name": "stdout",
     "output_type": "stream",
     "text": [
      "ret 0.0009460460773435542\n",
      "LA.norm(trackline.diffs)>15*np.std(coefnorm): -477.118266756\n",
      "dist_diff 2.87009026103\n"
     ]
    },
    {
     "name": "stderr",
     "output_type": "stream",
     "text": [
      "\r",
      " 51%|████████████████████████████████████████                                       | 640/1261 [07:36<07:21,  1.41it/s]"
     ]
    },
    {
     "name": "stdout",
     "output_type": "stream",
     "text": [
      "ret 0.0005098717817627607\n",
      "LA.norm(trackline.diffs)>15*np.std(coefnorm): -370.735828732\n",
      "dist_diff 12.5863523462\n"
     ]
    },
    {
     "name": "stderr",
     "output_type": "stream",
     "text": [
      "\r",
      " 51%|████████████████████████████████████████▏                                      | 641/1261 [07:36<07:21,  1.40it/s]"
     ]
    },
    {
     "name": "stdout",
     "output_type": "stream",
     "text": [
      "ret 0.00060684240717368\n",
      "LA.norm(trackline.diffs)>15*np.std(coefnorm): -356.747016228\n",
      "dist_diff 2.02408161509\n"
     ]
    },
    {
     "name": "stderr",
     "output_type": "stream",
     "text": [
      "\r",
      " 51%|████████████████████████████████████████▏                                      | 642/1261 [07:37<07:19,  1.41it/s]"
     ]
    },
    {
     "name": "stdout",
     "output_type": "stream",
     "text": [
      "ret 4.242459029857315e-06\n",
      "LA.norm(trackline.diffs)>15*np.std(coefnorm): -302.678865265\n",
      "dist_diff 12.9497243149\n"
     ]
    },
    {
     "name": "stderr",
     "output_type": "stream",
     "text": [
      "\r",
      " 51%|████████████████████████████████████████▎                                      | 643/1261 [07:38<07:19,  1.41it/s]"
     ]
    },
    {
     "name": "stdout",
     "output_type": "stream",
     "text": [
      "ret 8.66149731958421e-05\n",
      "LA.norm(trackline.diffs)>15*np.std(coefnorm): -327.208103856\n",
      "dist_diff 3.78118428978\n"
     ]
    },
    {
     "name": "stderr",
     "output_type": "stream",
     "text": [
      "\r",
      " 51%|████████████████████████████████████████▎                                      | 644/1261 [07:39<07:19,  1.40it/s]"
     ]
    },
    {
     "name": "stdout",
     "output_type": "stream",
     "text": [
      "ret 0.0001326459157861004\n",
      "LA.norm(trackline.diffs)>15*np.std(coefnorm): -226.364315648\n",
      "dist_diff 0.367284930999\n"
     ]
    },
    {
     "name": "stderr",
     "output_type": "stream",
     "text": [
      "\r",
      " 51%|████████████████████████████████████████▍                                      | 645/1261 [07:39<07:19,  1.40it/s]"
     ]
    },
    {
     "name": "stdout",
     "output_type": "stream",
     "text": [
      "ret 0.00020678448419880757\n",
      "LA.norm(trackline.diffs)>15*np.std(coefnorm): -155.151075183\n",
      "dist_diff 5.06071098731\n"
     ]
    },
    {
     "name": "stderr",
     "output_type": "stream",
     "text": [
      "\r",
      " 51%|████████████████████████████████████████▍                                      | 646/1261 [07:40<07:17,  1.40it/s]"
     ]
    },
    {
     "name": "stdout",
     "output_type": "stream",
     "text": [
      "ret 0.00011227067850311245\n",
      "LA.norm(trackline.diffs)>15*np.std(coefnorm): -112.589234197\n",
      "dist_diff 4.71227984923\n"
     ]
    },
    {
     "name": "stderr",
     "output_type": "stream",
     "text": [
      "\r",
      " 51%|████████████████████████████████████████▌                                      | 647/1261 [07:41<07:19,  1.40it/s]"
     ]
    },
    {
     "name": "stdout",
     "output_type": "stream",
     "text": [
      "ret 0.00013431287511173062\n",
      "LA.norm(trackline.diffs)>15*np.std(coefnorm): -87.1367072538\n",
      "dist_diff 4.15376058031\n"
     ]
    },
    {
     "name": "stderr",
     "output_type": "stream",
     "text": [
      "\r",
      " 51%|████████████████████████████████████████▌                                      | 648/1261 [07:41<07:20,  1.39it/s]"
     ]
    },
    {
     "name": "stdout",
     "output_type": "stream",
     "text": [
      "ret 6.052454635396831e-05\n",
      "LA.norm(trackline.diffs)>15*np.std(coefnorm): -83.7977273552\n",
      "dist_diff 5.1843054361\n"
     ]
    },
    {
     "name": "stderr",
     "output_type": "stream",
     "text": [
      "\r",
      " 51%|████████████████████████████████████████▋                                      | 649/1261 [07:42<07:19,  1.39it/s]"
     ]
    },
    {
     "name": "stdout",
     "output_type": "stream",
     "text": [
      "ret 0.00018069260476033522\n",
      "LA.norm(trackline.diffs)>15*np.std(coefnorm): -79.9418356871\n",
      "dist_diff 2.85754087907\n"
     ]
    },
    {
     "name": "stderr",
     "output_type": "stream",
     "text": [
      "\r",
      " 52%|████████████████████████████████████████▋                                      | 650/1261 [07:43<07:16,  1.40it/s]"
     ]
    },
    {
     "name": "stdout",
     "output_type": "stream",
     "text": [
      "ret 5.694686952062433e-05\n",
      "LA.norm(trackline.diffs)>15*np.std(coefnorm): -81.3850060319\n",
      "dist_diff 3.97325216914\n"
     ]
    },
    {
     "name": "stderr",
     "output_type": "stream",
     "text": [
      "\r",
      " 52%|████████████████████████████████████████▊                                      | 651/1261 [07:44<07:15,  1.40it/s]"
     ]
    },
    {
     "name": "stdout",
     "output_type": "stream",
     "text": [
      "ret 5.455896040928998e-05\n",
      "LA.norm(trackline.diffs)>15*np.std(coefnorm): -74.9364624051\n",
      "dist_diff 1.51955736104\n"
     ]
    },
    {
     "name": "stderr",
     "output_type": "stream",
     "text": [
      "\r",
      " 52%|████████████████████████████████████████▊                                      | 652/1261 [07:44<07:14,  1.40it/s]"
     ]
    },
    {
     "name": "stdout",
     "output_type": "stream",
     "text": [
      "ret 6.954506299283736e-06\n",
      "LA.norm(trackline.diffs)>15*np.std(coefnorm): -84.0029063365\n",
      "dist_diff 6.11124505343\n"
     ]
    },
    {
     "name": "stderr",
     "output_type": "stream",
     "text": [
      "\r",
      " 52%|████████████████████████████████████████▉                                      | 653/1261 [07:45<07:14,  1.40it/s]"
     ]
    },
    {
     "name": "stdout",
     "output_type": "stream",
     "text": [
      "ret 2.261516091173199e-05\n",
      "LA.norm(trackline.diffs)>15*np.std(coefnorm): -99.325121962\n",
      "dist_diff 1.5804067993\n"
     ]
    },
    {
     "name": "stderr",
     "output_type": "stream",
     "text": [
      "\r",
      " 52%|████████████████████████████████████████▉                                      | 654/1261 [07:46<07:12,  1.40it/s]"
     ]
    },
    {
     "name": "stdout",
     "output_type": "stream",
     "text": [
      "ret 3.402563500826128e-05\n",
      "LA.norm(trackline.diffs)>15*np.std(coefnorm): -112.933213307\n",
      "dist_diff 2.48690650401\n"
     ]
    },
    {
     "name": "stderr",
     "output_type": "stream",
     "text": [
      "\r",
      " 52%|█████████████████████████████████████████                                      | 655/1261 [07:46<07:11,  1.40it/s]"
     ]
    },
    {
     "name": "stdout",
     "output_type": "stream",
     "text": [
      "ret 7.414555356483055e-05\n",
      "LA.norm(trackline.diffs)>15*np.std(coefnorm): -115.313803412\n",
      "dist_diff 1.73947030519\n"
     ]
    },
    {
     "name": "stderr",
     "output_type": "stream",
     "text": [
      "\r",
      " 52%|█████████████████████████████████████████                                      | 656/1261 [07:47<07:12,  1.40it/s]"
     ]
    },
    {
     "name": "stdout",
     "output_type": "stream",
     "text": [
      "ret 3.385203250372282e-05\n",
      "LA.norm(trackline.diffs)>15*np.std(coefnorm): -101.797339485\n",
      "dist_diff 2.33967548416\n"
     ]
    },
    {
     "name": "stderr",
     "output_type": "stream",
     "text": [
      "\r",
      " 52%|█████████████████████████████████████████▏                                     | 657/1261 [07:48<07:11,  1.40it/s]"
     ]
    },
    {
     "name": "stdout",
     "output_type": "stream",
     "text": [
      "ret 0.00014637170667147759\n",
      "LA.norm(trackline.diffs)>15*np.std(coefnorm): -66.0988704526\n",
      "dist_diff 1.73761980008\n"
     ]
    },
    {
     "name": "stderr",
     "output_type": "stream",
     "text": [
      "\r",
      " 52%|█████████████████████████████████████████▏                                     | 658/1261 [07:49<07:10,  1.40it/s]"
     ]
    },
    {
     "name": "stdout",
     "output_type": "stream",
     "text": [
      "ret 0.00012272487440212476\n",
      "LA.norm(trackline.diffs)>15*np.std(coefnorm): -50.6622398746\n",
      "dist_diff 0.27725906596\n"
     ]
    },
    {
     "name": "stderr",
     "output_type": "stream",
     "text": [
      "\r",
      " 52%|█████████████████████████████████████████▎                                     | 659/1261 [07:49<07:09,  1.40it/s]"
     ]
    },
    {
     "name": "stdout",
     "output_type": "stream",
     "text": [
      "ret 4.382465562707827e-05\n",
      "LA.norm(trackline.diffs)>15*np.std(coefnorm): -33.0118383254\n",
      "dist_diff 2.30918348229\n"
     ]
    },
    {
     "name": "stderr",
     "output_type": "stream",
     "text": [
      "\r",
      " 52%|█████████████████████████████████████████▎                                     | 660/1261 [07:50<07:08,  1.40it/s]"
     ]
    },
    {
     "name": "stdout",
     "output_type": "stream",
     "text": [
      "ret 0.00017291855881795826\n",
      "LA.norm(trackline.diffs)>15*np.std(coefnorm): -30.522223734\n",
      "dist_diff 1.42227785949\n"
     ]
    },
    {
     "name": "stderr",
     "output_type": "stream",
     "text": [
      "\r",
      " 52%|█████████████████████████████████████████▍                                     | 661/1261 [07:51<07:06,  1.41it/s]"
     ]
    },
    {
     "name": "stdout",
     "output_type": "stream",
     "text": [
      "ret 0.00011970107134356978\n",
      "LA.norm(trackline.diffs)>15*np.std(coefnorm): -29.6310868269\n",
      "dist_diff 0.236077809858\n"
     ]
    },
    {
     "name": "stderr",
     "output_type": "stream",
     "text": [
      "\r",
      " 52%|█████████████████████████████████████████▍                                     | 662/1261 [07:51<07:04,  1.41it/s]"
     ]
    },
    {
     "name": "stdout",
     "output_type": "stream",
     "text": [
      "ret 1.512195999364696e-06\n",
      "LA.norm(trackline.diffs)>15*np.std(coefnorm): -38.5930614671\n",
      "dist_diff 1.71616284649\n"
     ]
    },
    {
     "name": "stderr",
     "output_type": "stream",
     "text": [
      "\r",
      " 53%|█████████████████████████████████████████▌                                     | 663/1261 [07:52<07:03,  1.41it/s]"
     ]
    },
    {
     "name": "stdout",
     "output_type": "stream",
     "text": [
      "ret 3.96847437031389e-05\n",
      "LA.norm(trackline.diffs)>15*np.std(coefnorm): -42.8560762892\n",
      "dist_diff 4.03577564857\n"
     ]
    },
    {
     "name": "stderr",
     "output_type": "stream",
     "text": [
      "\r",
      " 53%|█████████████████████████████████████████▌                                     | 664/1261 [07:53<07:01,  1.42it/s]"
     ]
    },
    {
     "name": "stdout",
     "output_type": "stream",
     "text": [
      "ret 4.4305265282318373e-05\n",
      "LA.norm(trackline.diffs)>15*np.std(coefnorm): -65.4564214198\n",
      "dist_diff 1.58441874329\n"
     ]
    },
    {
     "name": "stderr",
     "output_type": "stream",
     "text": [
      "\r",
      " 53%|█████████████████████████████████████████▋                                     | 665/1261 [07:53<07:01,  1.41it/s]"
     ]
    },
    {
     "name": "stdout",
     "output_type": "stream",
     "text": [
      "ret 5.077243275181109e-05\n",
      "LA.norm(trackline.diffs)>15*np.std(coefnorm): -85.0330268255\n",
      "dist_diff 5.69035070196\n"
     ]
    },
    {
     "name": "stderr",
     "output_type": "stream",
     "text": [
      "\r",
      " 53%|█████████████████████████████████████████▋                                     | 666/1261 [07:54<07:01,  1.41it/s]"
     ]
    },
    {
     "name": "stdout",
     "output_type": "stream",
     "text": [
      "ret 7.79668260148525e-05\n",
      "LA.norm(trackline.diffs)>15*np.std(coefnorm): -106.414222293\n",
      "dist_diff 9.53300318755\n"
     ]
    },
    {
     "name": "stderr",
     "output_type": "stream",
     "text": [
      "\r",
      " 53%|█████████████████████████████████████████▊                                     | 667/1261 [07:55<07:02,  1.41it/s]"
     ]
    },
    {
     "name": "stdout",
     "output_type": "stream",
     "text": [
      "ret 5.308908795703671e-05\n",
      "LA.norm(trackline.diffs)>15*np.std(coefnorm): -103.394796249\n",
      "dist_diff 1.17032230972\n"
     ]
    },
    {
     "name": "stderr",
     "output_type": "stream",
     "text": [
      "\r",
      " 53%|█████████████████████████████████████████▊                                     | 668/1261 [07:56<07:03,  1.40it/s]"
     ]
    },
    {
     "name": "stdout",
     "output_type": "stream",
     "text": [
      "ret 0.00011549616382577899\n",
      "LA.norm(trackline.diffs)>15*np.std(coefnorm): -111.473912943\n",
      "dist_diff 0.502043016016\n"
     ]
    },
    {
     "name": "stderr",
     "output_type": "stream",
     "text": [
      "\r",
      " 53%|█████████████████████████████████████████▉                                     | 669/1261 [07:56<07:02,  1.40it/s]"
     ]
    },
    {
     "name": "stdout",
     "output_type": "stream",
     "text": [
      "ret 1.2829712066009247e-05\n",
      "LA.norm(trackline.diffs)>15*np.std(coefnorm): -109.115930689\n",
      "dist_diff 3.34948315542\n"
     ]
    },
    {
     "name": "stderr",
     "output_type": "stream",
     "text": [
      "\r",
      " 53%|█████████████████████████████████████████▉                                     | 670/1261 [07:57<07:00,  1.40it/s]"
     ]
    },
    {
     "name": "stdout",
     "output_type": "stream",
     "text": [
      "ret 1.0277795254143296e-05\n",
      "LA.norm(trackline.diffs)>15*np.std(coefnorm): -94.7985908851\n",
      "dist_diff 3.16686931876\n"
     ]
    },
    {
     "name": "stderr",
     "output_type": "stream",
     "text": [
      "\r",
      " 53%|██████████████████████████████████████████                                     | 671/1261 [07:58<07:00,  1.40it/s]"
     ]
    },
    {
     "name": "stdout",
     "output_type": "stream",
     "text": [
      "ret 0.0002196590635332174\n",
      "LA.norm(trackline.diffs)>15*np.std(coefnorm): -82.0858138169\n",
      "dist_diff 2.70007389195\n"
     ]
    },
    {
     "name": "stderr",
     "output_type": "stream",
     "text": [
      "\r",
      " 53%|██████████████████████████████████████████                                     | 672/1261 [07:58<06:57,  1.41it/s]"
     ]
    },
    {
     "name": "stdout",
     "output_type": "stream",
     "text": [
      "ret 1.8703661939789562e-05\n",
      "LA.norm(trackline.diffs)>15*np.std(coefnorm): -65.3156388998\n",
      "dist_diff 0.820899431424\n"
     ]
    },
    {
     "name": "stderr",
     "output_type": "stream",
     "text": [
      "\r",
      " 53%|██████████████████████████████████████████▏                                    | 673/1261 [07:59<06:58,  1.40it/s]"
     ]
    },
    {
     "name": "stdout",
     "output_type": "stream",
     "text": [
      "ret 3.924796941257025e-05\n",
      "LA.norm(trackline.diffs)>15*np.std(coefnorm): -65.8980006817\n",
      "dist_diff 2.31329651284\n"
     ]
    },
    {
     "name": "stderr",
     "output_type": "stream",
     "text": [
      "\r",
      " 53%|██████████████████████████████████████████▏                                    | 674/1261 [08:00<06:57,  1.41it/s]"
     ]
    },
    {
     "name": "stdout",
     "output_type": "stream",
     "text": [
      "ret 1.5094234564361209e-05\n",
      "LA.norm(trackline.diffs)>15*np.std(coefnorm): -52.9610114021\n",
      "dist_diff 1.93499294808\n"
     ]
    },
    {
     "name": "stderr",
     "output_type": "stream",
     "text": [
      "\r",
      " 54%|██████████████████████████████████████████▎                                    | 675/1261 [08:01<06:55,  1.41it/s]"
     ]
    },
    {
     "name": "stdout",
     "output_type": "stream",
     "text": [
      "ret 1.40331939555427e-05\n",
      "LA.norm(trackline.diffs)>15*np.std(coefnorm): -46.6777201823\n",
      "dist_diff 0.535908939116\n"
     ]
    },
    {
     "name": "stderr",
     "output_type": "stream",
     "text": [
      "\r",
      " 54%|██████████████████████████████████████████▎                                    | 676/1261 [08:01<06:53,  1.41it/s]"
     ]
    },
    {
     "name": "stdout",
     "output_type": "stream",
     "text": [
      "ret 9.186103401309653e-05\n",
      "LA.norm(trackline.diffs)>15*np.std(coefnorm): -42.8771251083\n",
      "dist_diff 5.37413132047\n"
     ]
    },
    {
     "name": "stderr",
     "output_type": "stream",
     "text": [
      "\r",
      " 54%|██████████████████████████████████████████▍                                    | 677/1261 [08:02<06:53,  1.41it/s]"
     ]
    },
    {
     "name": "stdout",
     "output_type": "stream",
     "text": [
      "ret 1.1325210492518778e-05\n",
      "LA.norm(trackline.diffs)>15*np.std(coefnorm): -61.3900737571\n",
      "dist_diff 2.61062675012\n"
     ]
    },
    {
     "name": "stderr",
     "output_type": "stream",
     "text": [
      "\r",
      " 54%|██████████████████████████████████████████▍                                    | 678/1261 [08:03<06:52,  1.41it/s]"
     ]
    },
    {
     "name": "stdout",
     "output_type": "stream",
     "text": [
      "ret 2.7588568872971564e-05\n",
      "LA.norm(trackline.diffs)>15*np.std(coefnorm): -63.5091722248\n",
      "dist_diff 3.09600576072\n"
     ]
    },
    {
     "name": "stderr",
     "output_type": "stream",
     "text": [
      "\r",
      " 54%|██████████████████████████████████████████▌                                    | 679/1261 [08:03<06:51,  1.41it/s]"
     ]
    },
    {
     "name": "stdout",
     "output_type": "stream",
     "text": [
      "ret 5.9659448775173374e-05\n",
      "LA.norm(trackline.diffs)>15*np.std(coefnorm): -63.2362084727\n",
      "dist_diff 2.31482591261\n"
     ]
    },
    {
     "name": "stderr",
     "output_type": "stream",
     "text": [
      "\r",
      " 54%|██████████████████████████████████████████▌                                    | 680/1261 [08:04<06:50,  1.42it/s]"
     ]
    },
    {
     "name": "stdout",
     "output_type": "stream",
     "text": [
      "ret 2.3460888391002577e-05\n",
      "LA.norm(trackline.diffs)>15*np.std(coefnorm): -70.0616150351\n",
      "dist_diff 0.368289109928\n"
     ]
    },
    {
     "name": "stderr",
     "output_type": "stream",
     "text": [
      "\r",
      " 54%|██████████████████████████████████████████▋                                    | 681/1261 [08:05<06:48,  1.42it/s]"
     ]
    },
    {
     "name": "stdout",
     "output_type": "stream",
     "text": [
      "ret 3.6849035128239116e-06\n",
      "LA.norm(trackline.diffs)>15*np.std(coefnorm): -81.5711510296\n",
      "dist_diff 3.58629156702\n"
     ]
    },
    {
     "name": "stderr",
     "output_type": "stream",
     "text": [
      "\r",
      " 54%|██████████████████████████████████████████▋                                    | 682/1261 [08:06<06:49,  1.41it/s]"
     ]
    },
    {
     "name": "stdout",
     "output_type": "stream",
     "text": [
      "ret 2.7691624449044383e-05\n",
      "LA.norm(trackline.diffs)>15*np.std(coefnorm): -76.8695894754\n",
      "dist_diff 1.48216817974\n"
     ]
    },
    {
     "name": "stderr",
     "output_type": "stream",
     "text": [
      "\r",
      " 54%|██████████████████████████████████████████▊                                    | 683/1261 [08:06<06:52,  1.40it/s]"
     ]
    },
    {
     "name": "stdout",
     "output_type": "stream",
     "text": [
      "ret 4.700033483401311e-05\n",
      "LA.norm(trackline.diffs)>15*np.std(coefnorm): -46.9973138077\n",
      "dist_diff 0.365826913686\n"
     ]
    },
    {
     "name": "stderr",
     "output_type": "stream",
     "text": [
      "\r",
      " 54%|██████████████████████████████████████████▊                                    | 684/1261 [08:07<06:50,  1.40it/s]"
     ]
    },
    {
     "name": "stdout",
     "output_type": "stream",
     "text": [
      "ret 2.0383666091139396e-05\n",
      "LA.norm(trackline.diffs)>15*np.std(coefnorm): -38.6574370449\n",
      "dist_diff 1.43608249031\n"
     ]
    },
    {
     "name": "stderr",
     "output_type": "stream",
     "text": [
      "\r",
      " 54%|██████████████████████████████████████████▉                                    | 685/1261 [08:08<06:50,  1.40it/s]"
     ]
    },
    {
     "name": "stdout",
     "output_type": "stream",
     "text": [
      "ret 7.449823588823179e-05\n",
      "LA.norm(trackline.diffs)>15*np.std(coefnorm): -28.4771984093\n",
      "dist_diff 3.25952142452\n"
     ]
    },
    {
     "name": "stderr",
     "output_type": "stream",
     "text": [
      "\r",
      " 54%|██████████████████████████████████████████▉                                    | 686/1261 [08:08<06:49,  1.40it/s]"
     ]
    },
    {
     "name": "stdout",
     "output_type": "stream",
     "text": [
      "ret 3.171882319991104e-05\n",
      "LA.norm(trackline.diffs)>15*np.std(coefnorm): -20.0132041052\n",
      "dist_diff 1.85095566874\n"
     ]
    },
    {
     "name": "stderr",
     "output_type": "stream",
     "text": [
      "\r",
      " 54%|███████████████████████████████████████████                                    | 687/1261 [08:09<06:47,  1.41it/s]"
     ]
    },
    {
     "name": "stdout",
     "output_type": "stream",
     "text": [
      "ret 0.0001052861016606621\n",
      "LA.norm(trackline.diffs)>15*np.std(coefnorm): -20.7652088629\n",
      "dist_diff 0.880559851273\n"
     ]
    },
    {
     "name": "stderr",
     "output_type": "stream",
     "text": [
      "\r",
      " 55%|███████████████████████████████████████████                                    | 688/1261 [08:10<06:46,  1.41it/s]"
     ]
    },
    {
     "name": "stdout",
     "output_type": "stream",
     "text": [
      "ret 0.00013116485627834296\n",
      "LA.norm(trackline.diffs)>15*np.std(coefnorm): -10.5192211497\n",
      "dist_diff 3.34804382778\n"
     ]
    },
    {
     "name": "stderr",
     "output_type": "stream",
     "text": [
      "\r",
      " 55%|███████████████████████████████████████████▏                                   | 689/1261 [08:11<06:45,  1.41it/s]"
     ]
    },
    {
     "name": "stdout",
     "output_type": "stream",
     "text": [
      "ret 5.921108762629856e-06\n",
      "LA.norm(trackline.diffs)>15*np.std(coefnorm): -14.7867000616\n",
      "dist_diff 5.29789347821\n"
     ]
    },
    {
     "name": "stderr",
     "output_type": "stream",
     "text": [
      "\r",
      " 55%|███████████████████████████████████████████▏                                   | 690/1261 [08:11<06:49,  1.40it/s]"
     ]
    },
    {
     "name": "stdout",
     "output_type": "stream",
     "text": [
      "ret 2.658382129161474e-05\n",
      "LA.norm(trackline.diffs)>15*np.std(coefnorm): -25.6038407146\n",
      "dist_diff 4.7884545914\n"
     ]
    },
    {
     "name": "stderr",
     "output_type": "stream",
     "text": [
      "\r",
      " 55%|███████████████████████████████████████████▎                                   | 691/1261 [08:12<06:47,  1.40it/s]"
     ]
    },
    {
     "name": "stdout",
     "output_type": "stream",
     "text": [
      "ret 7.259023485167715e-05\n",
      "LA.norm(trackline.diffs)>15*np.std(coefnorm): -15.0349377813\n",
      "dist_diff 2.90237931206\n"
     ]
    },
    {
     "name": "stderr",
     "output_type": "stream",
     "text": [
      "\r",
      " 55%|███████████████████████████████████████████▎                                   | 692/1261 [08:13<06:45,  1.40it/s]"
     ]
    },
    {
     "name": "stdout",
     "output_type": "stream",
     "text": [
      "ret 5.296960414341578e-05\n",
      "LA.norm(trackline.diffs)>15*np.std(coefnorm): -15.6547383738\n",
      "dist_diff 0.75626213547\n"
     ]
    },
    {
     "name": "stderr",
     "output_type": "stream",
     "text": [
      "\r",
      " 55%|███████████████████████████████████████████▍                                   | 693/1261 [08:13<06:45,  1.40it/s]"
     ]
    },
    {
     "name": "stdout",
     "output_type": "stream",
     "text": [
      "ret 0.00014159422672638255\n",
      "LA.norm(trackline.diffs)>15*np.std(coefnorm): -33.3788092124\n",
      "dist_diff 10.1277342891\n"
     ]
    },
    {
     "name": "stderr",
     "output_type": "stream",
     "text": [
      "\r",
      " 55%|███████████████████████████████████████████▍                                   | 694/1261 [08:14<06:43,  1.40it/s]"
     ]
    },
    {
     "name": "stdout",
     "output_type": "stream",
     "text": [
      "ret 0.00016125804618566386\n",
      "LA.norm(trackline.diffs)>15*np.std(coefnorm): -28.6516277308\n",
      "dist_diff 0.647926716822\n"
     ]
    },
    {
     "name": "stderr",
     "output_type": "stream",
     "text": [
      "\r",
      " 55%|███████████████████████████████████████████▌                                   | 695/1261 [08:15<06:43,  1.40it/s]"
     ]
    },
    {
     "name": "stdout",
     "output_type": "stream",
     "text": [
      "ret 1.6751620581900717e-05\n",
      "LA.norm(trackline.diffs)>15*np.std(coefnorm): -40.0409807796\n",
      "dist_diff 0.431358477343\n"
     ]
    },
    {
     "name": "stderr",
     "output_type": "stream",
     "text": [
      "\r",
      " 55%|███████████████████████████████████████████▌                                   | 696/1261 [08:16<06:43,  1.40it/s]"
     ]
    },
    {
     "name": "stdout",
     "output_type": "stream",
     "text": [
      "ret 8.993368007770286e-05\n",
      "LA.norm(trackline.diffs)>15*np.std(coefnorm): -39.0518404163\n",
      "dist_diff 0.767173622384\n"
     ]
    },
    {
     "name": "stderr",
     "output_type": "stream",
     "text": [
      "\r",
      " 55%|███████████████████████████████████████████▋                                   | 697/1261 [08:16<06:41,  1.41it/s]"
     ]
    },
    {
     "name": "stdout",
     "output_type": "stream",
     "text": [
      "ret 0.00012096117247106797\n",
      "LA.norm(trackline.diffs)>15*np.std(coefnorm): -36.6956925833\n",
      "dist_diff 0.579579902085\n"
     ]
    },
    {
     "name": "stderr",
     "output_type": "stream",
     "text": [
      "\r",
      " 55%|███████████████████████████████████████████▋                                   | 698/1261 [08:17<06:39,  1.41it/s]"
     ]
    },
    {
     "name": "stdout",
     "output_type": "stream",
     "text": [
      "ret 1.1230541220985657e-05\n",
      "LA.norm(trackline.diffs)>15*np.std(coefnorm): -42.5715660235\n",
      "dist_diff 1.65411186487\n"
     ]
    },
    {
     "name": "stderr",
     "output_type": "stream",
     "text": [
      "\r",
      " 55%|███████████████████████████████████████████▊                                   | 699/1261 [08:18<06:39,  1.41it/s]"
     ]
    },
    {
     "name": "stdout",
     "output_type": "stream",
     "text": [
      "ret 0.00023215647565238973\n",
      "LA.norm(trackline.diffs)>15*np.std(coefnorm): -33.238696148\n",
      "dist_diff 1.67090260295\n"
     ]
    },
    {
     "name": "stderr",
     "output_type": "stream",
     "text": [
      "\r",
      " 56%|███████████████████████████████████████████▊                                   | 700/1261 [08:18<06:38,  1.41it/s]"
     ]
    },
    {
     "name": "stdout",
     "output_type": "stream",
     "text": [
      "ret 9.13787047523984e-06\n",
      "LA.norm(trackline.diffs)>15*np.std(coefnorm): -42.5934432708\n",
      "dist_diff 1.44647622342\n"
     ]
    },
    {
     "name": "stderr",
     "output_type": "stream",
     "text": [
      "\r",
      " 56%|███████████████████████████████████████████▉                                   | 701/1261 [08:19<06:37,  1.41it/s]"
     ]
    },
    {
     "name": "stdout",
     "output_type": "stream",
     "text": [
      "ret 8.514295554873375e-05\n",
      "LA.norm(trackline.diffs)>15*np.std(coefnorm): -51.0560173649\n",
      "dist_diff 3.56725601007\n"
     ]
    },
    {
     "name": "stderr",
     "output_type": "stream",
     "text": [
      "\r",
      " 56%|███████████████████████████████████████████▉                                   | 702/1261 [08:20<06:35,  1.41it/s]"
     ]
    },
    {
     "name": "stdout",
     "output_type": "stream",
     "text": [
      "ret 5.713570207116492e-05\n",
      "LA.norm(trackline.diffs)>15*np.std(coefnorm): -52.4460362603\n",
      "dist_diff 0.778142438587\n"
     ]
    },
    {
     "name": "stderr",
     "output_type": "stream",
     "text": [
      "\r",
      " 56%|████████████████████████████████████████████                                   | 703/1261 [08:20<06:36,  1.41it/s]"
     ]
    },
    {
     "name": "stdout",
     "output_type": "stream",
     "text": [
      "ret 1.1827912178630218e-05\n",
      "LA.norm(trackline.diffs)>15*np.std(coefnorm): -57.6319978037\n",
      "dist_diff 4.30828933626\n"
     ]
    },
    {
     "name": "stderr",
     "output_type": "stream",
     "text": [
      "\r",
      " 56%|████████████████████████████████████████████                                   | 704/1261 [08:21<06:35,  1.41it/s]"
     ]
    },
    {
     "name": "stdout",
     "output_type": "stream",
     "text": [
      "ret 0.00013781636781690088\n",
      "LA.norm(trackline.diffs)>15*np.std(coefnorm): -18.300600189\n",
      "dist_diff 1.33424277549\n"
     ]
    },
    {
     "name": "stderr",
     "output_type": "stream",
     "text": [
      "\r",
      " 56%|████████████████████████████████████████████▏                                  | 705/1261 [08:22<06:33,  1.41it/s]"
     ]
    },
    {
     "name": "stdout",
     "output_type": "stream",
     "text": [
      "ret 0.00010832629607337996\n",
      "LA.norm(trackline.diffs)>15*np.std(coefnorm): -35.6234541511\n",
      "dist_diff 0.242416666093\n"
     ]
    },
    {
     "name": "stderr",
     "output_type": "stream",
     "text": [
      "\r",
      " 56%|████████████████████████████████████████████▏                                  | 706/1261 [08:23<06:32,  1.41it/s]"
     ]
    },
    {
     "name": "stdout",
     "output_type": "stream",
     "text": [
      "ret 9.581912775374901e-05\n",
      "LA.norm(trackline.diffs)>15*np.std(coefnorm): -25.4691149845\n",
      "dist_diff 4.8472972518\n"
     ]
    },
    {
     "name": "stderr",
     "output_type": "stream",
     "text": [
      "\r",
      " 56%|████████████████████████████████████████████▎                                  | 707/1261 [08:23<06:32,  1.41it/s]"
     ]
    },
    {
     "name": "stdout",
     "output_type": "stream",
     "text": [
      "ret 6.106383290488404e-05\n",
      "LA.norm(trackline.diffs)>15*np.std(coefnorm): -38.1144901313\n",
      "dist_diff 1.74828283301\n"
     ]
    },
    {
     "name": "stderr",
     "output_type": "stream",
     "text": [
      "\r",
      " 56%|████████████████████████████████████████████▎                                  | 708/1261 [08:24<06:31,  1.41it/s]"
     ]
    },
    {
     "name": "stdout",
     "output_type": "stream",
     "text": [
      "ret 0.00011715782858368051\n",
      "LA.norm(trackline.diffs)>15*np.std(coefnorm): -39.2148898947\n",
      "dist_diff 1.34823093756\n"
     ]
    },
    {
     "name": "stderr",
     "output_type": "stream",
     "text": [
      "\r",
      " 56%|████████████████████████████████████████████▍                                  | 709/1261 [08:25<06:31,  1.41it/s]"
     ]
    },
    {
     "name": "stdout",
     "output_type": "stream",
     "text": [
      "ret 4.944819515628751e-05\n",
      "LA.norm(trackline.diffs)>15*np.std(coefnorm): -40.3797251239\n",
      "dist_diff 2.04413246705\n"
     ]
    },
    {
     "name": "stderr",
     "output_type": "stream",
     "text": [
      "\r",
      " 56%|████████████████████████████████████████████▍                                  | 710/1261 [08:25<06:31,  1.41it/s]"
     ]
    },
    {
     "name": "stdout",
     "output_type": "stream",
     "text": [
      "ret 4.562080773584665e-05\n",
      "LA.norm(trackline.diffs)>15*np.std(coefnorm): -38.6449732511\n",
      "dist_diff 0.587312539393\n"
     ]
    },
    {
     "name": "stderr",
     "output_type": "stream",
     "text": [
      "\r",
      " 56%|████████████████████████████████████████████▌                                  | 711/1261 [08:26<06:31,  1.40it/s]"
     ]
    },
    {
     "name": "stdout",
     "output_type": "stream",
     "text": [
      "ret 9.999254064901875e-05\n",
      "LA.norm(trackline.diffs)>15*np.std(coefnorm): -32.4716763569\n",
      "dist_diff 2.72854611826\n"
     ]
    },
    {
     "name": "stderr",
     "output_type": "stream",
     "text": [
      "\r",
      " 56%|████████████████████████████████████████████▌                                  | 712/1261 [08:27<06:30,  1.41it/s]"
     ]
    },
    {
     "name": "stdout",
     "output_type": "stream",
     "text": [
      "ret 6.744718346979317e-05\n",
      "LA.norm(trackline.diffs)>15*np.std(coefnorm): -22.5586867961\n",
      "dist_diff 1.76515217604\n"
     ]
    },
    {
     "name": "stderr",
     "output_type": "stream",
     "text": [
      "\r",
      " 57%|████████████████████████████████████████████▋                                  | 713/1261 [08:28<06:30,  1.40it/s]"
     ]
    },
    {
     "name": "stdout",
     "output_type": "stream",
     "text": [
      "ret 7.70513191078459e-05\n",
      "LA.norm(trackline.diffs)>15*np.std(coefnorm): -34.1042614672\n",
      "dist_diff 3.41992384558\n"
     ]
    },
    {
     "name": "stderr",
     "output_type": "stream",
     "text": [
      "\r",
      " 57%|████████████████████████████████████████████▋                                  | 714/1261 [08:28<06:28,  1.41it/s]"
     ]
    },
    {
     "name": "stdout",
     "output_type": "stream",
     "text": [
      "ret 0.00012687572603581332\n",
      "LA.norm(trackline.diffs)>15*np.std(coefnorm): -24.5495839985\n",
      "dist_diff 3.13013056887\n"
     ]
    },
    {
     "name": "stderr",
     "output_type": "stream",
     "text": [
      "\r",
      " 57%|████████████████████████████████████████████▊                                  | 715/1261 [08:29<06:28,  1.40it/s]"
     ]
    },
    {
     "name": "stdout",
     "output_type": "stream",
     "text": [
      "ret 7.875022124459452e-06\n",
      "LA.norm(trackline.diffs)>15*np.std(coefnorm): -25.8514451695\n",
      "dist_diff 2.54156773808\n"
     ]
    },
    {
     "name": "stderr",
     "output_type": "stream",
     "text": [
      "\r",
      " 57%|████████████████████████████████████████████▊                                  | 716/1261 [08:30<06:27,  1.41it/s]"
     ]
    },
    {
     "name": "stdout",
     "output_type": "stream",
     "text": [
      "ret 0.00013761778675785985\n",
      "LA.norm(trackline.diffs)>15*np.std(coefnorm): -27.1381863599\n",
      "dist_diff 1.79037118287\n"
     ]
    },
    {
     "name": "stderr",
     "output_type": "stream",
     "text": [
      "\r",
      " 57%|████████████████████████████████████████████▉                                  | 717/1261 [08:30<06:27,  1.40it/s]"
     ]
    },
    {
     "name": "stdout",
     "output_type": "stream",
     "text": [
      "ret 0.00015108770143190675\n",
      "LA.norm(trackline.diffs)>15*np.std(coefnorm): -29.4330290366\n",
      "dist_diff 0.907328320463\n"
     ]
    },
    {
     "name": "stderr",
     "output_type": "stream",
     "text": [
      "\r",
      " 57%|████████████████████████████████████████████▉                                  | 718/1261 [08:31<06:26,  1.41it/s]"
     ]
    },
    {
     "name": "stdout",
     "output_type": "stream",
     "text": [
      "ret 9.517092789068649e-05\n",
      "LA.norm(trackline.diffs)>15*np.std(coefnorm): -19.6645743378\n",
      "dist_diff 4.71095947363\n"
     ]
    },
    {
     "name": "stderr",
     "output_type": "stream",
     "text": [
      "\r",
      " 57%|█████████████████████████████████████████████                                  | 719/1261 [08:32<06:24,  1.41it/s]"
     ]
    },
    {
     "name": "stdout",
     "output_type": "stream",
     "text": [
      "ret 1.764464744435923e-05\n",
      "LA.norm(trackline.diffs)>15*np.std(coefnorm): -30.7291219375\n",
      "dist_diff 0.577352694387\n"
     ]
    },
    {
     "name": "stderr",
     "output_type": "stream",
     "text": [
      "\r",
      " 57%|█████████████████████████████████████████████                                  | 720/1261 [08:33<06:26,  1.40it/s]"
     ]
    },
    {
     "name": "stdout",
     "output_type": "stream",
     "text": [
      "ret 2.022798125073111e-05\n",
      "LA.norm(trackline.diffs)>15*np.std(coefnorm): -59.1844397232\n",
      "dist_diff 0.728032560093\n"
     ]
    },
    {
     "name": "stderr",
     "output_type": "stream",
     "text": [
      "\r",
      " 57%|█████████████████████████████████████████████▏                                 | 721/1261 [08:33<06:25,  1.40it/s]"
     ]
    },
    {
     "name": "stdout",
     "output_type": "stream",
     "text": [
      "ret 4.574387384448375e-05\n",
      "LA.norm(trackline.diffs)>15*np.std(coefnorm): -94.5779092859\n",
      "dist_diff 1.31019310639\n"
     ]
    },
    {
     "name": "stderr",
     "output_type": "stream",
     "text": [
      "\r",
      " 57%|█████████████████████████████████████████████▏                                 | 722/1261 [08:34<06:23,  1.41it/s]"
     ]
    },
    {
     "name": "stdout",
     "output_type": "stream",
     "text": [
      "ret 1.4449276189820726e-05\n",
      "LA.norm(trackline.diffs)>15*np.std(coefnorm): -111.062944172\n",
      "dist_diff 1.03986242726\n"
     ]
    },
    {
     "name": "stderr",
     "output_type": "stream",
     "text": [
      "\r",
      " 57%|█████████████████████████████████████████████▎                                 | 723/1261 [08:35<06:23,  1.40it/s]"
     ]
    },
    {
     "name": "stdout",
     "output_type": "stream",
     "text": [
      "ret 4.9881018781894326e-05\n",
      "LA.norm(trackline.diffs)>15*np.std(coefnorm): -128.944764135\n",
      "dist_diff 0.864513507088\n"
     ]
    },
    {
     "name": "stderr",
     "output_type": "stream",
     "text": [
      "\r",
      " 57%|█████████████████████████████████████████████▎                                 | 724/1261 [08:35<06:20,  1.41it/s]"
     ]
    },
    {
     "name": "stdout",
     "output_type": "stream",
     "text": [
      "ret 0.00012280178241197426\n",
      "LA.norm(trackline.diffs)>15*np.std(coefnorm): -133.85734175\n",
      "dist_diff 1.63920331441\n"
     ]
    },
    {
     "name": "stderr",
     "output_type": "stream",
     "text": [
      "\r",
      " 57%|█████████████████████████████████████████████▍                                 | 725/1261 [08:36<06:20,  1.41it/s]"
     ]
    },
    {
     "name": "stdout",
     "output_type": "stream",
     "text": [
      "ret 0.0001350156248352552\n",
      "LA.norm(trackline.diffs)>15*np.std(coefnorm): -147.319754722\n",
      "dist_diff 0.122352367401\n"
     ]
    },
    {
     "name": "stderr",
     "output_type": "stream",
     "text": [
      "\r",
      " 58%|█████████████████████████████████████████████▍                                 | 726/1261 [08:37<06:18,  1.41it/s]"
     ]
    },
    {
     "name": "stdout",
     "output_type": "stream",
     "text": [
      "ret 4.696851029195592e-05\n",
      "LA.norm(trackline.diffs)>15*np.std(coefnorm): -167.418850138\n",
      "dist_diff 2.06623525422\n"
     ]
    },
    {
     "name": "stderr",
     "output_type": "stream",
     "text": [
      "\r",
      " 58%|█████████████████████████████████████████████▌                                 | 727/1261 [08:38<06:18,  1.41it/s]"
     ]
    },
    {
     "name": "stdout",
     "output_type": "stream",
     "text": [
      "ret 4.96835903879278e-05\n",
      "LA.norm(trackline.diffs)>15*np.std(coefnorm): -174.438302268\n",
      "dist_diff 15.1904966596\n"
     ]
    },
    {
     "name": "stderr",
     "output_type": "stream",
     "text": [
      "\r",
      " 58%|█████████████████████████████████████████████▌                                 | 728/1261 [08:38<06:18,  1.41it/s]"
     ]
    },
    {
     "name": "stdout",
     "output_type": "stream",
     "text": [
      "ret 3.741166216547631e-05\n",
      "LA.norm(trackline.diffs)>15*np.std(coefnorm): -169.265749702\n",
      "dist_diff 8.32167521954\n"
     ]
    },
    {
     "name": "stderr",
     "output_type": "stream",
     "text": [
      "\r",
      " 58%|█████████████████████████████████████████████▋                                 | 729/1261 [08:39<06:20,  1.40it/s]"
     ]
    },
    {
     "name": "stdout",
     "output_type": "stream",
     "text": [
      "ret 4.4187331950384934e-05\n",
      "LA.norm(trackline.diffs)>15*np.std(coefnorm): -165.090584808\n",
      "dist_diff 2.90028969656\n"
     ]
    },
    {
     "name": "stderr",
     "output_type": "stream",
     "text": [
      "\r",
      " 58%|█████████████████████████████████████████████▋                                 | 730/1261 [08:40<06:24,  1.38it/s]"
     ]
    },
    {
     "name": "stdout",
     "output_type": "stream",
     "text": [
      "ret 0.0001637672773426857\n",
      "LA.norm(trackline.diffs)>15*np.std(coefnorm): -148.887671731\n",
      "dist_diff 1.96052283446\n"
     ]
    },
    {
     "name": "stderr",
     "output_type": "stream",
     "text": [
      "\r",
      " 58%|█████████████████████████████████████████████▊                                 | 731/1261 [08:40<06:28,  1.36it/s]"
     ]
    },
    {
     "name": "stdout",
     "output_type": "stream",
     "text": [
      "ret 0.00025034896859699174\n",
      "LA.norm(trackline.diffs)>15*np.std(coefnorm): -142.213615632\n",
      "dist_diff 3.75135763332\n"
     ]
    },
    {
     "name": "stderr",
     "output_type": "stream",
     "text": [
      "\r",
      " 58%|█████████████████████████████████████████████▊                                 | 732/1261 [08:41<06:25,  1.37it/s]"
     ]
    },
    {
     "name": "stdout",
     "output_type": "stream",
     "text": [
      "ret 0.00016415689360382846\n",
      "LA.norm(trackline.diffs)>15*np.std(coefnorm): -143.453665874\n",
      "dist_diff 3.77321179183\n"
     ]
    },
    {
     "name": "stderr",
     "output_type": "stream",
     "text": [
      "\r",
      " 58%|█████████████████████████████████████████████▉                                 | 733/1261 [08:42<06:22,  1.38it/s]"
     ]
    },
    {
     "name": "stdout",
     "output_type": "stream",
     "text": [
      "ret 5.059361559145437e-06\n",
      "LA.norm(trackline.diffs)>15*np.std(coefnorm): -159.418784765\n",
      "dist_diff 0.628021923594\n"
     ]
    },
    {
     "name": "stderr",
     "output_type": "stream",
     "text": [
      "\r",
      " 58%|█████████████████████████████████████████████▉                                 | 734/1261 [08:43<06:19,  1.39it/s]"
     ]
    },
    {
     "name": "stdout",
     "output_type": "stream",
     "text": [
      "ret 3.506874724140685e-05\n",
      "LA.norm(trackline.diffs)>15*np.std(coefnorm): -161.118390772\n",
      "dist_diff 0.238435051989\n"
     ]
    },
    {
     "name": "stderr",
     "output_type": "stream",
     "text": [
      "\r",
      " 58%|██████████████████████████████████████████████                                 | 735/1261 [08:43<06:17,  1.39it/s]"
     ]
    },
    {
     "name": "stdout",
     "output_type": "stream",
     "text": [
      "ret 3.359590749951735e-05\n",
      "LA.norm(trackline.diffs)>15*np.std(coefnorm): -154.503307638\n",
      "dist_diff 0.462543782231\n"
     ]
    },
    {
     "name": "stderr",
     "output_type": "stream",
     "text": [
      "\r",
      " 58%|██████████████████████████████████████████████                                 | 736/1261 [08:44<06:15,  1.40it/s]"
     ]
    },
    {
     "name": "stdout",
     "output_type": "stream",
     "text": [
      "ret 3.8355771622089474e-05\n",
      "LA.norm(trackline.diffs)>15*np.std(coefnorm): -143.896639287\n",
      "dist_diff 1.04300047339\n"
     ]
    },
    {
     "name": "stderr",
     "output_type": "stream",
     "text": [
      "\r",
      " 58%|██████████████████████████████████████████████▏                                | 737/1261 [08:45<06:15,  1.39it/s]"
     ]
    },
    {
     "name": "stdout",
     "output_type": "stream",
     "text": [
      "ret 3.182925255529323e-06\n",
      "LA.norm(trackline.diffs)>15*np.std(coefnorm): -124.667945205\n",
      "dist_diff 3.22497146754\n"
     ]
    },
    {
     "name": "stderr",
     "output_type": "stream",
     "text": [
      "\r",
      " 59%|██████████████████████████████████████████████▏                                | 738/1261 [08:45<06:14,  1.40it/s]"
     ]
    },
    {
     "name": "stdout",
     "output_type": "stream",
     "text": [
      "ret 3.4490776176954174e-05\n",
      "LA.norm(trackline.diffs)>15*np.std(coefnorm): -112.922727654\n",
      "dist_diff 1.4260376369\n"
     ]
    },
    {
     "name": "stderr",
     "output_type": "stream",
     "text": [
      "\r",
      " 59%|██████████████████████████████████████████████▎                                | 739/1261 [08:46<06:12,  1.40it/s]"
     ]
    },
    {
     "name": "stdout",
     "output_type": "stream",
     "text": [
      "ret 9.275964827382133e-05\n",
      "LA.norm(trackline.diffs)>15*np.std(coefnorm): -86.0235013931\n",
      "dist_diff 1.48577946622\n"
     ]
    },
    {
     "name": "stderr",
     "output_type": "stream",
     "text": [
      "\r",
      " 59%|██████████████████████████████████████████████▎                                | 740/1261 [08:47<06:10,  1.41it/s]"
     ]
    },
    {
     "name": "stdout",
     "output_type": "stream",
     "text": [
      "ret 2.8672265579066103e-05\n",
      "LA.norm(trackline.diffs)>15*np.std(coefnorm): -60.3908091077\n",
      "dist_diff 0.845298079013\n"
     ]
    },
    {
     "name": "stderr",
     "output_type": "stream",
     "text": [
      "\r",
      " 59%|██████████████████████████████████████████████▍                                | 741/1261 [08:48<06:09,  1.41it/s]"
     ]
    },
    {
     "name": "stdout",
     "output_type": "stream",
     "text": [
      "ret 0.00020906091185446396\n",
      "LA.norm(trackline.diffs)>15*np.std(coefnorm): -35.5988108168\n",
      "dist_diff 7.70753520246\n"
     ]
    },
    {
     "name": "stderr",
     "output_type": "stream",
     "text": [
      "\r",
      " 59%|██████████████████████████████████████████████▍                                | 742/1261 [08:48<06:09,  1.40it/s]"
     ]
    },
    {
     "name": "stdout",
     "output_type": "stream",
     "text": [
      "ret 1.1105188914006803e-06\n",
      "LA.norm(trackline.diffs)>15*np.std(coefnorm): -52.1835426739\n",
      "dist_diff 4.99226465855\n"
     ]
    },
    {
     "name": "stderr",
     "output_type": "stream",
     "text": [
      "\r",
      " 59%|██████████████████████████████████████████████▌                                | 743/1261 [08:49<06:10,  1.40it/s]"
     ]
    },
    {
     "name": "stdout",
     "output_type": "stream",
     "text": [
      "ret 8.034396105466302e-05\n",
      "LA.norm(trackline.diffs)>15*np.std(coefnorm): -57.9825116319\n",
      "dist_diff 3.24537200418\n"
     ]
    },
    {
     "name": "stderr",
     "output_type": "stream",
     "text": [
      "\r",
      " 59%|██████████████████████████████████████████████▌                                | 744/1261 [08:50<06:15,  1.38it/s]"
     ]
    },
    {
     "name": "stdout",
     "output_type": "stream",
     "text": [
      "ret 8.784769377623292e-05\n",
      "LA.norm(trackline.diffs)>15*np.std(coefnorm): -76.5211404114\n",
      "dist_diff 1.34396127731\n"
     ]
    },
    {
     "name": "stderr",
     "output_type": "stream",
     "text": [
      "\r",
      " 59%|██████████████████████████████████████████████▋                                | 745/1261 [08:51<06:13,  1.38it/s]"
     ]
    },
    {
     "name": "stdout",
     "output_type": "stream",
     "text": [
      "ret 9.194381720523115e-05\n",
      "LA.norm(trackline.diffs)>15*np.std(coefnorm): -76.1332232522\n",
      "dist_diff 1.59676674449\n"
     ]
    },
    {
     "name": "stderr",
     "output_type": "stream",
     "text": [
      "\r",
      " 59%|██████████████████████████████████████████████▋                                | 746/1261 [08:51<06:15,  1.37it/s]"
     ]
    },
    {
     "name": "stdout",
     "output_type": "stream",
     "text": [
      "ret 4.581665595015938e-05\n",
      "LA.norm(trackline.diffs)>15*np.std(coefnorm): -71.4353951063\n",
      "dist_diff 0.550982798399\n"
     ]
    },
    {
     "name": "stderr",
     "output_type": "stream",
     "text": [
      "\r",
      " 59%|██████████████████████████████████████████████▊                                | 747/1261 [08:52<06:11,  1.38it/s]"
     ]
    },
    {
     "name": "stdout",
     "output_type": "stream",
     "text": [
      "ret 0.00011801542138967225\n",
      "LA.norm(trackline.diffs)>15*np.std(coefnorm): -70.6701648028\n",
      "dist_diff 0.413993458146\n"
     ]
    },
    {
     "name": "stderr",
     "output_type": "stream",
     "text": [
      "\r",
      " 59%|██████████████████████████████████████████████▊                                | 748/1261 [08:53<06:09,  1.39it/s]"
     ]
    },
    {
     "name": "stdout",
     "output_type": "stream",
     "text": [
      "ret 2.251483155535361e-05\n",
      "LA.norm(trackline.diffs)>15*np.std(coefnorm): -55.5570697025\n",
      "dist_diff 1.41563995746\n"
     ]
    },
    {
     "name": "stderr",
     "output_type": "stream",
     "text": [
      "\r",
      " 59%|██████████████████████████████████████████████▉                                | 749/1261 [08:53<06:12,  1.37it/s]"
     ]
    },
    {
     "name": "stdout",
     "output_type": "stream",
     "text": [
      "ret 3.2642709181796015e-06\n",
      "LA.norm(trackline.diffs)>15*np.std(coefnorm): -74.068916198\n",
      "dist_diff 1.74110074963\n"
     ]
    },
    {
     "name": "stderr",
     "output_type": "stream",
     "text": [
      "\r",
      " 59%|██████████████████████████████████████████████▉                                | 750/1261 [08:54<06:15,  1.36it/s]"
     ]
    },
    {
     "name": "stdout",
     "output_type": "stream",
     "text": [
      "ret 3.831172324569865e-05\n",
      "LA.norm(trackline.diffs)>15*np.std(coefnorm): -81.0151937785\n",
      "dist_diff 5.21604569898\n"
     ]
    },
    {
     "name": "stderr",
     "output_type": "stream",
     "text": [
      "\r",
      " 60%|███████████████████████████████████████████████                                | 751/1261 [08:55<06:11,  1.37it/s]"
     ]
    },
    {
     "name": "stdout",
     "output_type": "stream",
     "text": [
      "ret 1.0703199717521095e-05\n",
      "LA.norm(trackline.diffs)>15*np.std(coefnorm): -73.220746199\n",
      "dist_diff 4.70848702678\n"
     ]
    },
    {
     "name": "stderr",
     "output_type": "stream",
     "text": [
      "\r",
      " 60%|███████████████████████████████████████████████                                | 752/1261 [08:56<06:07,  1.39it/s]"
     ]
    },
    {
     "name": "stdout",
     "output_type": "stream",
     "text": [
      "ret 8.981020238107984e-06\n",
      "LA.norm(trackline.diffs)>15*np.std(coefnorm): -91.264944126\n",
      "dist_diff 0.902267645767\n"
     ]
    },
    {
     "name": "stderr",
     "output_type": "stream",
     "text": [
      "\r",
      " 60%|███████████████████████████████████████████████▏                               | 753/1261 [08:56<06:07,  1.38it/s]"
     ]
    },
    {
     "name": "stdout",
     "output_type": "stream",
     "text": [
      "ret 0.0001370809970939746\n",
      "LA.norm(trackline.diffs)>15*np.std(coefnorm): -95.860790352\n",
      "dist_diff 0.538756708474\n"
     ]
    },
    {
     "name": "stderr",
     "output_type": "stream",
     "text": [
      "\r",
      " 60%|███████████████████████████████████████████████▏                               | 754/1261 [08:57<06:04,  1.39it/s]"
     ]
    },
    {
     "name": "stdout",
     "output_type": "stream",
     "text": [
      "ret 8.235668057576806e-05\n",
      "LA.norm(trackline.diffs)>15*np.std(coefnorm): -99.3499863061\n",
      "dist_diff 4.41851557365\n"
     ]
    },
    {
     "name": "stderr",
     "output_type": "stream",
     "text": [
      "\r",
      " 60%|███████████████████████████████████████████████▎                               | 755/1261 [08:58<06:03,  1.39it/s]"
     ]
    },
    {
     "name": "stdout",
     "output_type": "stream",
     "text": [
      "ret 0.0001381958052125709\n",
      "LA.norm(trackline.diffs)>15*np.std(coefnorm): -119.593684227\n",
      "dist_diff 1.81464543099\n"
     ]
    },
    {
     "name": "stderr",
     "output_type": "stream",
     "text": [
      "\r",
      " 60%|███████████████████████████████████████████████▎                               | 756/1261 [08:58<06:02,  1.39it/s]"
     ]
    },
    {
     "name": "stdout",
     "output_type": "stream",
     "text": [
      "ret 9.45620935817737e-05\n",
      "LA.norm(trackline.diffs)>15*np.std(coefnorm): -128.327398367\n",
      "dist_diff 0.637986330226\n"
     ]
    },
    {
     "name": "stderr",
     "output_type": "stream",
     "text": [
      "\r",
      " 60%|███████████████████████████████████████████████▍                               | 757/1261 [08:59<06:01,  1.40it/s]"
     ]
    },
    {
     "name": "stdout",
     "output_type": "stream",
     "text": [
      "ret 4.006646127335811e-05\n",
      "LA.norm(trackline.diffs)>15*np.std(coefnorm): -123.616197713\n",
      "dist_diff 3.31134521301\n"
     ]
    },
    {
     "name": "stderr",
     "output_type": "stream",
     "text": [
      "\r",
      " 60%|███████████████████████████████████████████████▍                               | 758/1261 [09:00<05:58,  1.40it/s]"
     ]
    },
    {
     "name": "stdout",
     "output_type": "stream",
     "text": [
      "ret 0.00015264307700746382\n",
      "LA.norm(trackline.diffs)>15*np.std(coefnorm): -132.481561101\n",
      "dist_diff 3.17417927851\n"
     ]
    },
    {
     "name": "stderr",
     "output_type": "stream",
     "text": [
      "\r",
      " 60%|███████████████████████████████████████████████▌                               | 759/1261 [09:01<05:56,  1.41it/s]"
     ]
    },
    {
     "name": "stdout",
     "output_type": "stream",
     "text": [
      "ret 7.23724941852355e-05\n",
      "LA.norm(trackline.diffs)>15*np.std(coefnorm): -135.296054335\n",
      "dist_diff 0.152318070651\n"
     ]
    },
    {
     "name": "stderr",
     "output_type": "stream",
     "text": [
      "\r",
      " 60%|███████████████████████████████████████████████▌                               | 760/1261 [09:01<05:55,  1.41it/s]"
     ]
    },
    {
     "name": "stdout",
     "output_type": "stream",
     "text": [
      "ret 4.980119006547934e-05\n",
      "LA.norm(trackline.diffs)>15*np.std(coefnorm): -126.623624876\n",
      "dist_diff 1.04471420752\n"
     ]
    },
    {
     "name": "stderr",
     "output_type": "stream",
     "text": [
      "\r",
      " 60%|███████████████████████████████████████████████▋                               | 761/1261 [09:02<05:54,  1.41it/s]"
     ]
    },
    {
     "name": "stdout",
     "output_type": "stream",
     "text": [
      "ret 0.0001517960374325944\n",
      "LA.norm(trackline.diffs)>15*np.std(coefnorm): -100.988165006\n",
      "dist_diff 2.55142664654\n"
     ]
    },
    {
     "name": "stderr",
     "output_type": "stream",
     "text": [
      "\r",
      " 60%|███████████████████████████████████████████████▋                               | 762/1261 [09:03<05:53,  1.41it/s]"
     ]
    },
    {
     "name": "stdout",
     "output_type": "stream",
     "text": [
      "ret 5.321371454813928e-06\n",
      "LA.norm(trackline.diffs)>15*np.std(coefnorm): -81.8209786089\n",
      "dist_diff 0.136961446555\n"
     ]
    },
    {
     "name": "stderr",
     "output_type": "stream",
     "text": [
      "\r",
      " 61%|███████████████████████████████████████████████▊                               | 763/1261 [09:03<05:53,  1.41it/s]"
     ]
    },
    {
     "name": "stdout",
     "output_type": "stream",
     "text": [
      "ret 0.00022001159602008658\n",
      "LA.norm(trackline.diffs)>15*np.std(coefnorm): -57.2626728642\n",
      "dist_diff 13.7527812021\n"
     ]
    },
    {
     "name": "stderr",
     "output_type": "stream",
     "text": [
      "\r",
      " 61%|███████████████████████████████████████████████▊                               | 764/1261 [09:04<05:52,  1.41it/s]"
     ]
    },
    {
     "name": "stdout",
     "output_type": "stream",
     "text": [
      "ret 0.0002631265309399611\n",
      "LA.norm(trackline.diffs)>15*np.std(coefnorm): -56.7160118605\n",
      "dist_diff 2.61652220147\n"
     ]
    },
    {
     "name": "stderr",
     "output_type": "stream",
     "text": [
      "\r",
      " 61%|███████████████████████████████████████████████▉                               | 765/1261 [09:05<05:52,  1.41it/s]"
     ]
    },
    {
     "name": "stdout",
     "output_type": "stream",
     "text": [
      "ret 3.1445070716229484e-05\n",
      "LA.norm(trackline.diffs)>15*np.std(coefnorm): -66.210187734\n",
      "dist_diff 4.89453103938\n"
     ]
    },
    {
     "name": "stderr",
     "output_type": "stream",
     "text": [
      "\r",
      " 61%|███████████████████████████████████████████████▉                               | 766/1261 [09:06<05:55,  1.39it/s]"
     ]
    },
    {
     "name": "stdout",
     "output_type": "stream",
     "text": [
      "ret 5.882014569497107e-05\n",
      "LA.norm(trackline.diffs)>15*np.std(coefnorm): -93.155658253\n",
      "dist_diff 5.72688125751\n"
     ]
    },
    {
     "name": "stderr",
     "output_type": "stream",
     "text": [
      "\r",
      " 61%|████████████████████████████████████████████████                               | 767/1261 [09:06<05:54,  1.39it/s]"
     ]
    },
    {
     "name": "stdout",
     "output_type": "stream",
     "text": [
      "ret 0.00011174920362039265\n",
      "LA.norm(trackline.diffs)>15*np.std(coefnorm): -119.203824199\n",
      "dist_diff 6.47611328988\n"
     ]
    },
    {
     "name": "stderr",
     "output_type": "stream",
     "text": [
      "\r",
      " 61%|████████████████████████████████████████████████                               | 768/1261 [09:07<05:52,  1.40it/s]"
     ]
    },
    {
     "name": "stdout",
     "output_type": "stream",
     "text": [
      "ret 8.017383048730675e-05\n",
      "LA.norm(trackline.diffs)>15*np.std(coefnorm): -117.731520495\n",
      "dist_diff 0.912334653712\n"
     ]
    },
    {
     "name": "stderr",
     "output_type": "stream",
     "text": [
      "\r",
      " 61%|████████████████████████████████████████████████▏                              | 769/1261 [09:08<05:54,  1.39it/s]"
     ]
    },
    {
     "name": "stdout",
     "output_type": "stream",
     "text": [
      "ret 1.274251261013104e-05\n",
      "LA.norm(trackline.diffs)>15*np.std(coefnorm): -101.075981976\n",
      "dist_diff 1.62925223435\n"
     ]
    },
    {
     "name": "stderr",
     "output_type": "stream",
     "text": [
      "\r",
      " 61%|████████████████████████████████████████████████▏                              | 770/1261 [09:08<05:54,  1.39it/s]"
     ]
    },
    {
     "name": "stdout",
     "output_type": "stream",
     "text": [
      "ret 2.4634893156849635e-05\n",
      "LA.norm(trackline.diffs)>15*np.std(coefnorm): -94.3936064388\n",
      "dist_diff 3.86186776389\n"
     ]
    },
    {
     "name": "stderr",
     "output_type": "stream",
     "text": [
      "\r",
      " 61%|████████████████████████████████████████████████▎                              | 771/1261 [09:09<05:57,  1.37it/s]"
     ]
    },
    {
     "name": "stdout",
     "output_type": "stream",
     "text": [
      "ret 0.0001649401733836986\n",
      "LA.norm(trackline.diffs)>15*np.std(coefnorm): -87.8158821461\n",
      "dist_diff 3.07242296546\n"
     ]
    },
    {
     "name": "stderr",
     "output_type": "stream",
     "text": [
      "\r",
      " 61%|████████████████████████████████████████████████▎                              | 772/1261 [09:10<05:55,  1.37it/s]"
     ]
    },
    {
     "name": "stdout",
     "output_type": "stream",
     "text": [
      "ret 2.505039848377244e-05\n",
      "LA.norm(trackline.diffs)>15*np.std(coefnorm): -67.9847277871\n",
      "dist_diff 2.64738172376\n"
     ]
    },
    {
     "name": "stderr",
     "output_type": "stream",
     "text": [
      "\r",
      " 61%|████████████████████████████████████████████████▍                              | 773/1261 [09:11<05:57,  1.36it/s]"
     ]
    },
    {
     "name": "stdout",
     "output_type": "stream",
     "text": [
      "ret 2.1149294388012052e-07\n",
      "LA.norm(trackline.diffs)>15*np.std(coefnorm): -52.8662908823\n",
      "dist_diff 3.31957830935\n"
     ]
    },
    {
     "name": "stderr",
     "output_type": "stream",
     "text": [
      "\r",
      " 61%|████████████████████████████████████████████████▍                              | 774/1261 [09:11<05:59,  1.36it/s]"
     ]
    },
    {
     "name": "stdout",
     "output_type": "stream",
     "text": [
      "ret 4.267525039886033e-05\n",
      "LA.norm(trackline.diffs)>15*np.std(coefnorm): -20.3911395998\n",
      "dist_diff 0.0157635019642\n"
     ]
    },
    {
     "name": "stderr",
     "output_type": "stream",
     "text": [
      "\r",
      " 61%|████████████████████████████████████████████████▌                              | 775/1261 [09:12<05:57,  1.36it/s]"
     ]
    },
    {
     "name": "stdout",
     "output_type": "stream",
     "text": [
      "ret 1.1898922371578191e-05\n",
      "LA.norm(trackline.diffs)>15*np.std(coefnorm): -21.448731546\n",
      "dist_diff 0.137141834275\n"
     ]
    },
    {
     "name": "stderr",
     "output_type": "stream",
     "text": [
      "\r",
      " 62%|████████████████████████████████████████████████▌                              | 776/1261 [09:13<05:58,  1.35it/s]"
     ]
    },
    {
     "name": "stdout",
     "output_type": "stream",
     "text": [
      "ret 7.021381018834649e-05\n",
      "LA.norm(trackline.diffs)>15*np.std(coefnorm): -47.6154262556\n",
      "dist_diff 6.57891414666\n"
     ]
    },
    {
     "name": "stderr",
     "output_type": "stream",
     "text": [
      "\r",
      " 62%|████████████████████████████████████████████████▋                              | 777/1261 [09:14<05:58,  1.35it/s]"
     ]
    },
    {
     "name": "stdout",
     "output_type": "stream",
     "text": [
      "ret 0.0001037960842807939\n",
      "LA.norm(trackline.diffs)>15*np.std(coefnorm): -61.762913898\n",
      "dist_diff 0.782286401909\n"
     ]
    },
    {
     "name": "stderr",
     "output_type": "stream",
     "text": [
      "\r",
      " 62%|████████████████████████████████████████████████▋                              | 778/1261 [09:14<05:57,  1.35it/s]"
     ]
    },
    {
     "name": "stdout",
     "output_type": "stream",
     "text": [
      "ret 1.4495195441555087e-05\n",
      "LA.norm(trackline.diffs)>15*np.std(coefnorm): -79.1317827245\n",
      "dist_diff 3.68388865293\n"
     ]
    },
    {
     "name": "stderr",
     "output_type": "stream",
     "text": [
      "\r",
      " 62%|████████████████████████████████████████████████▊                              | 779/1261 [09:15<05:58,  1.35it/s]"
     ]
    },
    {
     "name": "stdout",
     "output_type": "stream",
     "text": [
      "ret 7.852682108233644e-05\n",
      "LA.norm(trackline.diffs)>15*np.std(coefnorm): -86.864779794\n",
      "dist_diff 1.37480150429\n"
     ]
    },
    {
     "name": "stderr",
     "output_type": "stream",
     "text": [
      "\r",
      " 62%|████████████████████████████████████████████████▊                              | 780/1261 [09:16<05:57,  1.34it/s]"
     ]
    },
    {
     "name": "stdout",
     "output_type": "stream",
     "text": [
      "ret 8.358292480409313e-05\n",
      "LA.norm(trackline.diffs)>15*np.std(coefnorm): -96.8001914126\n",
      "dist_diff 1.68945557547\n"
     ]
    },
    {
     "name": "stderr",
     "output_type": "stream",
     "text": [
      "\r",
      " 62%|████████████████████████████████████████████████▉                              | 781/1261 [09:17<05:57,  1.34it/s]"
     ]
    },
    {
     "name": "stdout",
     "output_type": "stream",
     "text": [
      "ret 0.0001528704692819738\n",
      "LA.norm(trackline.diffs)>15*np.std(coefnorm): -94.5205510084\n",
      "dist_diff 1.25209829224\n"
     ]
    },
    {
     "name": "stderr",
     "output_type": "stream",
     "text": [
      "\r",
      " 62%|████████████████████████████████████████████████▉                              | 782/1261 [09:17<05:55,  1.35it/s]"
     ]
    },
    {
     "name": "stdout",
     "output_type": "stream",
     "text": [
      "ret 1.8014282197498233e-05\n",
      "LA.norm(trackline.diffs)>15*np.std(coefnorm): -93.4009321272\n",
      "dist_diff 3.91956016887\n"
     ]
    },
    {
     "name": "stderr",
     "output_type": "stream",
     "text": [
      "\r",
      " 62%|█████████████████████████████████████████████████                              | 783/1261 [09:18<05:56,  1.34it/s]"
     ]
    },
    {
     "name": "stdout",
     "output_type": "stream",
     "text": [
      "ret 0.00010930299228234519\n",
      "LA.norm(trackline.diffs)>15*np.std(coefnorm): -92.7195750902\n",
      "dist_diff 0.147168502726\n"
     ]
    },
    {
     "name": "stderr",
     "output_type": "stream",
     "text": [
      "\r",
      " 62%|█████████████████████████████████████████████████                              | 784/1261 [09:19<05:52,  1.35it/s]"
     ]
    },
    {
     "name": "stdout",
     "output_type": "stream",
     "text": [
      "ret 0.00010890201669200295\n",
      "LA.norm(trackline.diffs)>15*np.std(coefnorm): -98.135392623\n",
      "dist_diff 1.13812223726\n"
     ]
    },
    {
     "name": "stderr",
     "output_type": "stream",
     "text": [
      "\r",
      " 62%|█████████████████████████████████████████████████▏                             | 785/1261 [09:20<05:51,  1.35it/s]"
     ]
    },
    {
     "name": "stdout",
     "output_type": "stream",
     "text": [
      "ret 3.16693507855792e-05\n",
      "LA.norm(trackline.diffs)>15*np.std(coefnorm): -105.741701638\n",
      "dist_diff 1.09660771757\n"
     ]
    },
    {
     "name": "stderr",
     "output_type": "stream",
     "text": [
      "\r",
      " 62%|█████████████████████████████████████████████████▏                             | 786/1261 [09:20<05:53,  1.34it/s]"
     ]
    },
    {
     "name": "stdout",
     "output_type": "stream",
     "text": [
      "ret 6.144216690351367e-05\n",
      "LA.norm(trackline.diffs)>15*np.std(coefnorm): -124.103619883\n",
      "dist_diff 2.21980335029\n"
     ]
    },
    {
     "name": "stderr",
     "output_type": "stream",
     "text": [
      "\r",
      " 62%|█████████████████████████████████████████████████▎                             | 787/1261 [09:21<05:54,  1.34it/s]"
     ]
    },
    {
     "name": "stdout",
     "output_type": "stream",
     "text": [
      "ret 2.9359708647702654e-05\n",
      "LA.norm(trackline.diffs)>15*np.std(coefnorm): -134.578159288\n",
      "dist_diff 13.7263284372\n"
     ]
    },
    {
     "name": "stderr",
     "output_type": "stream",
     "text": [
      "\r",
      " 62%|█████████████████████████████████████████████████▎                             | 788/1261 [09:22<05:51,  1.35it/s]"
     ]
    },
    {
     "name": "stdout",
     "output_type": "stream",
     "text": [
      "ret 4.255983005035935e-05\n",
      "LA.norm(trackline.diffs)>15*np.std(coefnorm): -126.982020818\n",
      "dist_diff 2.26500881015\n"
     ]
    },
    {
     "name": "stderr",
     "output_type": "stream",
     "text": [
      "\r",
      " 63%|█████████████████████████████████████████████████▍                             | 789/1261 [09:23<05:48,  1.35it/s]"
     ]
    },
    {
     "name": "stdout",
     "output_type": "stream",
     "text": [
      "ret 2.3295611918938697e-06\n",
      "LA.norm(trackline.diffs)>15*np.std(coefnorm): -178.923541913\n",
      "dist_diff 1.73649322869\n"
     ]
    },
    {
     "name": "stderr",
     "output_type": "stream",
     "text": [
      "\r",
      " 63%|█████████████████████████████████████████████████▍                             | 790/1261 [09:23<05:49,  1.35it/s]"
     ]
    },
    {
     "name": "stdout",
     "output_type": "stream",
     "text": [
      "ret 7.915554783854972e-07\n",
      "LA.norm(trackline.diffs)>15*np.std(coefnorm): -215.935971978\n",
      "dist_diff 6.76775792932\n"
     ]
    },
    {
     "name": "stderr",
     "output_type": "stream",
     "text": [
      "\r",
      " 63%|█████████████████████████████████████████████████▌                             | 791/1261 [09:24<05:50,  1.34it/s]"
     ]
    },
    {
     "name": "stdout",
     "output_type": "stream",
     "text": [
      "ret 6.705171020210399e-05\n",
      "LA.norm(trackline.diffs)>15*np.std(coefnorm): -221.564417027\n",
      "dist_diff 0.95850673165\n"
     ]
    },
    {
     "name": "stderr",
     "output_type": "stream",
     "text": [
      "\r",
      " 63%|█████████████████████████████████████████████████▌                             | 792/1261 [09:25<05:48,  1.35it/s]"
     ]
    },
    {
     "name": "stdout",
     "output_type": "stream",
     "text": [
      "ret 0.00010162905517291376\n",
      "LA.norm(trackline.diffs)>15*np.std(coefnorm): -220.655415746\n",
      "dist_diff 1.04187006265\n"
     ]
    },
    {
     "name": "stderr",
     "output_type": "stream",
     "text": [
      "\r",
      " 63%|█████████████████████████████████████████████████▋                             | 793/1261 [09:26<05:50,  1.34it/s]"
     ]
    },
    {
     "name": "stdout",
     "output_type": "stream",
     "text": [
      "ret 7.799000070840556e-05\n",
      "LA.norm(trackline.diffs)>15*np.std(coefnorm): -192.776461036\n",
      "dist_diff 3.96753230526\n"
     ]
    },
    {
     "name": "stderr",
     "output_type": "stream",
     "text": [
      "\r",
      " 63%|█████████████████████████████████████████████████▋                             | 794/1261 [09:26<05:49,  1.34it/s]"
     ]
    },
    {
     "name": "stdout",
     "output_type": "stream",
     "text": [
      "ret 5.887890522815464e-05\n",
      "LA.norm(trackline.diffs)>15*np.std(coefnorm): -174.679380303\n",
      "dist_diff 5.26896122724\n"
     ]
    },
    {
     "name": "stderr",
     "output_type": "stream",
     "text": [
      "\r",
      " 63%|█████████████████████████████████████████████████▊                             | 795/1261 [09:27<05:45,  1.35it/s]"
     ]
    },
    {
     "name": "stdout",
     "output_type": "stream",
     "text": [
      "ret 1.1725432679243752e-06\n",
      "LA.norm(trackline.diffs)>15*np.std(coefnorm): -177.468624261\n",
      "dist_diff 1.42088160387\n"
     ]
    },
    {
     "name": "stderr",
     "output_type": "stream",
     "text": [
      "\r",
      " 63%|█████████████████████████████████████████████████▊                             | 796/1261 [09:28<05:44,  1.35it/s]"
     ]
    },
    {
     "name": "stdout",
     "output_type": "stream",
     "text": [
      "ret 0.00018963057033494213\n",
      "LA.norm(trackline.diffs)>15*np.std(coefnorm): -181.758249082\n",
      "dist_diff 2.84864406689\n"
     ]
    },
    {
     "name": "stderr",
     "output_type": "stream",
     "text": [
      "\r",
      " 63%|█████████████████████████████████████████████████▉                             | 797/1261 [09:29<05:42,  1.36it/s]"
     ]
    },
    {
     "name": "stdout",
     "output_type": "stream",
     "text": [
      "ret 5.203049087670886e-05\n",
      "LA.norm(trackline.diffs)>15*np.std(coefnorm): -202.218145814\n",
      "dist_diff 1.95637889822\n"
     ]
    },
    {
     "name": "stderr",
     "output_type": "stream",
     "text": [
      "\r",
      " 63%|█████████████████████████████████████████████████▉                             | 798/1261 [09:29<05:40,  1.36it/s]"
     ]
    },
    {
     "name": "stdout",
     "output_type": "stream",
     "text": [
      "ret 0.00015790880177490862\n",
      "LA.norm(trackline.diffs)>15*np.std(coefnorm): -201.075071226\n",
      "dist_diff 1.97054339362\n"
     ]
    },
    {
     "name": "stderr",
     "output_type": "stream",
     "text": [
      "\r",
      " 63%|██████████████████████████████████████████████████                             | 799/1261 [09:30<05:40,  1.36it/s]"
     ]
    },
    {
     "name": "stdout",
     "output_type": "stream",
     "text": [
      "ret 0.00013665696015430218\n",
      "LA.norm(trackline.diffs)>15*np.std(coefnorm): -220.311168958\n",
      "dist_diff 13.3709122236\n"
     ]
    },
    {
     "name": "stderr",
     "output_type": "stream",
     "text": [
      "\r",
      " 63%|██████████████████████████████████████████████████                             | 800/1261 [09:31<05:40,  1.35it/s]"
     ]
    },
    {
     "name": "stdout",
     "output_type": "stream",
     "text": [
      "ret 0.00023026896183919732\n",
      "LA.norm(trackline.diffs)>15*np.std(coefnorm): -213.235534843\n",
      "dist_diff 6.52449469284\n"
     ]
    },
    {
     "name": "stderr",
     "output_type": "stream",
     "text": [
      "\r",
      " 64%|██████████████████████████████████████████████████▏                            | 801/1261 [09:31<05:40,  1.35it/s]"
     ]
    },
    {
     "name": "stdout",
     "output_type": "stream",
     "text": [
      "ret 0.00011170983590935712\n",
      "LA.norm(trackline.diffs)>15*np.std(coefnorm): -240.716606744\n",
      "dist_diff 3.40225210216\n"
     ]
    },
    {
     "name": "stderr",
     "output_type": "stream",
     "text": [
      "\r",
      " 64%|██████████████████████████████████████████████████▏                            | 802/1261 [09:32<05:39,  1.35it/s]"
     ]
    },
    {
     "name": "stdout",
     "output_type": "stream",
     "text": [
      "ret 1.0760554208122386e-05\n",
      "LA.norm(trackline.diffs)>15*np.std(coefnorm): -266.340891925\n",
      "dist_diff 4.63447308243\n"
     ]
    },
    {
     "name": "stderr",
     "output_type": "stream",
     "text": [
      "\r",
      " 64%|██████████████████████████████████████████████████▎                            | 803/1261 [09:33<05:40,  1.35it/s]"
     ]
    },
    {
     "name": "stdout",
     "output_type": "stream",
     "text": [
      "ret 0.00010837222912019051\n",
      "LA.norm(trackline.diffs)>15*np.std(coefnorm): -266.366476934\n",
      "dist_diff 3.05158183172\n"
     ]
    },
    {
     "name": "stderr",
     "output_type": "stream",
     "text": [
      "\r",
      " 64%|██████████████████████████████████████████████████▎                            | 804/1261 [09:34<05:40,  1.34it/s]"
     ]
    },
    {
     "name": "stdout",
     "output_type": "stream",
     "text": [
      "ret 0.0001117672399482128\n",
      "LA.norm(trackline.diffs)>15*np.std(coefnorm): -234.870369166\n",
      "dist_diff 3.77230727764\n"
     ]
    },
    {
     "name": "stderr",
     "output_type": "stream",
     "text": [
      "\r",
      " 64%|██████████████████████████████████████████████████▍                            | 805/1261 [09:34<05:38,  1.35it/s]"
     ]
    },
    {
     "name": "stdout",
     "output_type": "stream",
     "text": [
      "ret 1.9857107321497036e-05\n",
      "LA.norm(trackline.diffs)>15*np.std(coefnorm): -203.706452013\n",
      "dist_diff 1.02002548825\n"
     ]
    },
    {
     "name": "stderr",
     "output_type": "stream",
     "text": [
      "\r",
      " 64%|██████████████████████████████████████████████████▍                            | 806/1261 [09:35<05:38,  1.34it/s]"
     ]
    },
    {
     "name": "stdout",
     "output_type": "stream",
     "text": [
      "ret 3.736807574811207e-05\n",
      "LA.norm(trackline.diffs)>15*np.std(coefnorm): -178.99532982\n",
      "dist_diff 1.1186660167\n"
     ]
    },
    {
     "name": "stderr",
     "output_type": "stream",
     "text": [
      "\r",
      " 64%|██████████████████████████████████████████████████▌                            | 807/1261 [09:36<05:36,  1.35it/s]"
     ]
    },
    {
     "name": "stdout",
     "output_type": "stream",
     "text": [
      "ret 5.9049456014814705e-05\n",
      "LA.norm(trackline.diffs)>15*np.std(coefnorm): -149.466604383\n",
      "dist_diff 0.862643459233\n"
     ]
    },
    {
     "name": "stderr",
     "output_type": "stream",
     "text": [
      "\r",
      " 64%|██████████████████████████████████████████████████▌                            | 808/1261 [09:37<05:36,  1.35it/s]"
     ]
    },
    {
     "name": "stdout",
     "output_type": "stream",
     "text": [
      "ret 0.0001702422718813379\n",
      "LA.norm(trackline.diffs)>15*np.std(coefnorm): -132.378783617\n",
      "dist_diff 1.74591367458\n"
     ]
    },
    {
     "name": "stderr",
     "output_type": "stream",
     "text": [
      "\r",
      " 64%|██████████████████████████████████████████████████▋                            | 809/1261 [09:37<05:34,  1.35it/s]"
     ]
    },
    {
     "name": "stdout",
     "output_type": "stream",
     "text": [
      "ret 6.059251304618707e-05\n",
      "LA.norm(trackline.diffs)>15*np.std(coefnorm): -112.200327513\n",
      "dist_diff 2.976579842\n"
     ]
    },
    {
     "name": "stderr",
     "output_type": "stream",
     "text": [
      "\r",
      " 64%|██████████████████████████████████████████████████▋                            | 810/1261 [09:38<05:34,  1.35it/s]"
     ]
    },
    {
     "name": "stdout",
     "output_type": "stream",
     "text": [
      "ret 7.957164006067163e-05\n",
      "LA.norm(trackline.diffs)>15*np.std(coefnorm): -71.8402295822\n",
      "dist_diff 5.22532428218\n"
     ]
    },
    {
     "name": "stderr",
     "output_type": "stream",
     "text": [
      "\r",
      " 64%|██████████████████████████████████████████████████▊                            | 811/1261 [09:39<05:34,  1.35it/s]"
     ]
    },
    {
     "name": "stdout",
     "output_type": "stream",
     "text": [
      "ret 3.977692911122377e-05\n",
      "LA.norm(trackline.diffs)>15*np.std(coefnorm): -37.7380463856\n",
      "dist_diff 13.6436640768\n"
     ]
    },
    {
     "name": "stderr",
     "output_type": "stream",
     "text": [
      "\r",
      " 64%|██████████████████████████████████████████████████▊                            | 812/1261 [09:40<05:33,  1.34it/s]"
     ]
    },
    {
     "name": "stdout",
     "output_type": "stream",
     "text": [
      "ret 9.886118023993973e-05\n",
      "LA.norm(trackline.diffs)>15*np.std(coefnorm): -35.296439419\n",
      "dist_diff 1.90316680945\n"
     ]
    },
    {
     "name": "stderr",
     "output_type": "stream",
     "text": [
      "\r",
      " 64%|██████████████████████████████████████████████████▉                            | 813/1261 [09:40<05:34,  1.34it/s]"
     ]
    },
    {
     "name": "stdout",
     "output_type": "stream",
     "text": [
      "ret 5.217735420559588e-06\n",
      "LA.norm(trackline.diffs)>15*np.std(coefnorm): -29.2058013628\n",
      "dist_diff 1.37839884334\n"
     ]
    },
    {
     "name": "stderr",
     "output_type": "stream",
     "text": [
      "\r",
      " 65%|██████████████████████████████████████████████████▉                            | 814/1261 [09:41<05:34,  1.34it/s]"
     ]
    },
    {
     "name": "stdout",
     "output_type": "stream",
     "text": [
      "ret 0.00014801773403405605\n",
      "LA.norm(trackline.diffs)>15*np.std(coefnorm): -21.828848842\n",
      "dist_diff 5.10681702449\n"
     ]
    },
    {
     "name": "stderr",
     "output_type": "stream",
     "text": [
      "\r",
      " 65%|███████████████████████████████████████████████████                            | 815/1261 [09:42<05:33,  1.34it/s]"
     ]
    },
    {
     "name": "stdout",
     "output_type": "stream",
     "text": [
      "ret 0.00016044235431011966\n",
      "LA.norm(trackline.diffs)>15*np.std(coefnorm): -31.4385178898\n",
      "dist_diff 0.130655318571\n"
     ]
    },
    {
     "name": "stderr",
     "output_type": "stream",
     "text": [
      "\r",
      " 65%|███████████████████████████████████████████████████                            | 816/1261 [09:43<05:35,  1.33it/s]"
     ]
    },
    {
     "name": "stdout",
     "output_type": "stream",
     "text": [
      "ret 0.00018054712544013363\n",
      "LA.norm(trackline.diffs)>15*np.std(coefnorm): -32.4793638265\n",
      "dist_diff 5.00392872169\n"
     ]
    },
    {
     "name": "stderr",
     "output_type": "stream",
     "text": [
      "\r",
      " 65%|███████████████████████████████████████████████████▏                           | 817/1261 [09:43<05:33,  1.33it/s]"
     ]
    },
    {
     "name": "stdout",
     "output_type": "stream",
     "text": [
      "ret 7.626489507706058e-05\n",
      "LA.norm(trackline.diffs)>15*np.std(coefnorm): -36.5698104743\n",
      "dist_diff 1.29811065343\n"
     ]
    },
    {
     "name": "stderr",
     "output_type": "stream",
     "text": [
      "\r",
      " 65%|███████████████████████████████████████████████████▏                           | 818/1261 [09:44<05:29,  1.34it/s]"
     ]
    },
    {
     "name": "stdout",
     "output_type": "stream",
     "text": [
      "ret 3.514675279320256e-05\n",
      "LA.norm(trackline.diffs)>15*np.std(coefnorm): -43.0798018936\n",
      "dist_diff 0.462586480074\n"
     ]
    },
    {
     "name": "stderr",
     "output_type": "stream",
     "text": [
      "\r",
      " 65%|███████████████████████████████████████████████████▎                           | 819/1261 [09:45<05:29,  1.34it/s]"
     ]
    },
    {
     "name": "stdout",
     "output_type": "stream",
     "text": [
      "ret 5.643979348379791e-06\n",
      "LA.norm(trackline.diffs)>15*np.std(coefnorm): -34.2707554072\n",
      "dist_diff 2.24359140481\n"
     ]
    },
    {
     "name": "stderr",
     "output_type": "stream",
     "text": [
      "\r",
      " 65%|███████████████████████████████████████████████████▎                           | 820/1261 [09:46<05:27,  1.35it/s]"
     ]
    },
    {
     "name": "stdout",
     "output_type": "stream",
     "text": [
      "ret 5.48743434219956e-05\n",
      "LA.norm(trackline.diffs)>15*np.std(coefnorm): -31.9495619754\n",
      "dist_diff 1.55048685871\n"
     ]
    },
    {
     "name": "stderr",
     "output_type": "stream",
     "text": [
      "\r",
      " 65%|███████████████████████████████████████████████████▍                           | 821/1261 [09:46<05:28,  1.34it/s]"
     ]
    },
    {
     "name": "stdout",
     "output_type": "stream",
     "text": [
      "ret 6.565590632456875e-05\n",
      "LA.norm(trackline.diffs)>15*np.std(coefnorm): -13.7110420418\n",
      "dist_diff 2.77297732932\n"
     ]
    },
    {
     "name": "stderr",
     "output_type": "stream",
     "text": [
      "\r",
      " 65%|███████████████████████████████████████████████████▍                           | 822/1261 [09:47<05:25,  1.35it/s]"
     ]
    },
    {
     "name": "stdout",
     "output_type": "stream",
     "text": [
      "ret 2.732087060958177e-05\n",
      "LA.norm(trackline.diffs)>15*np.std(coefnorm): -22.776677651\n",
      "dist_diff 1.16539027918\n"
     ]
    },
    {
     "name": "stderr",
     "output_type": "stream",
     "text": [
      "\r",
      " 65%|███████████████████████████████████████████████████▌                           | 823/1261 [09:48<05:25,  1.35it/s]"
     ]
    },
    {
     "name": "stdout",
     "output_type": "stream",
     "text": [
      "ret 9.209217673999959e-07\n",
      "LA.norm(trackline.diffs)>15*np.std(coefnorm): -40.186526679\n",
      "dist_diff 5.50680732488\n"
     ]
    },
    {
     "name": "stderr",
     "output_type": "stream",
     "text": [
      "\r",
      " 65%|███████████████████████████████████████████████████▌                           | 824/1261 [09:49<05:25,  1.34it/s]"
     ]
    },
    {
     "name": "stdout",
     "output_type": "stream",
     "text": [
      "ret 5.728978839841803e-05\n",
      "LA.norm(trackline.diffs)>15*np.std(coefnorm): -43.680098289\n",
      "dist_diff 2.02607590468\n"
     ]
    },
    {
     "name": "stderr",
     "output_type": "stream",
     "text": [
      "\r",
      " 65%|███████████████████████████████████████████████████▋                           | 825/1261 [09:49<05:25,  1.34it/s]"
     ]
    },
    {
     "name": "stdout",
     "output_type": "stream",
     "text": [
      "ret 1.2091837193417554e-05\n",
      "LA.norm(trackline.diffs)>15*np.std(coefnorm): -59.4617378979\n",
      "dist_diff 5.21093457427\n"
     ]
    },
    {
     "name": "stderr",
     "output_type": "stream",
     "text": [
      "\r",
      " 66%|███████████████████████████████████████████████████▋                           | 826/1261 [09:50<05:25,  1.33it/s]"
     ]
    },
    {
     "name": "stdout",
     "output_type": "stream",
     "text": [
      "ret 0.00010529793906144391\n",
      "LA.norm(trackline.diffs)>15*np.std(coefnorm): -59.2397588365\n",
      "dist_diff 1.56952266965\n"
     ]
    },
    {
     "name": "stderr",
     "output_type": "stream",
     "text": [
      "\r",
      " 66%|███████████████████████████████████████████████████▊                           | 827/1261 [09:51<05:23,  1.34it/s]"
     ]
    },
    {
     "name": "stdout",
     "output_type": "stream",
     "text": [
      "ret 1.9931977168763382e-07\n",
      "LA.norm(trackline.diffs)>15*np.std(coefnorm): -55.5076518129\n",
      "dist_diff 1.97695564447\n"
     ]
    },
    {
     "name": "stderr",
     "output_type": "stream",
     "text": [
      "\r",
      " 66%|███████████████████████████████████████████████████▊                           | 828/1261 [09:52<05:22,  1.34it/s]"
     ]
    },
    {
     "name": "stdout",
     "output_type": "stream",
     "text": [
      "ret 6.439799329222007e-05\n",
      "LA.norm(trackline.diffs)>15*np.std(coefnorm): -37.2642978655\n",
      "dist_diff 2.16543348233\n"
     ]
    },
    {
     "name": "stderr",
     "output_type": "stream",
     "text": [
      "\r",
      " 66%|███████████████████████████████████████████████████▉                           | 829/1261 [09:52<05:23,  1.33it/s]"
     ]
    },
    {
     "name": "stdout",
     "output_type": "stream",
     "text": [
      "ret 1.4799853073343971e-05\n",
      "LA.norm(trackline.diffs)>15*np.std(coefnorm): -33.0044159707\n",
      "dist_diff 1.8784099278\n"
     ]
    },
    {
     "name": "stderr",
     "output_type": "stream",
     "text": [
      "\r",
      " 66%|███████████████████████████████████████████████████▉                           | 830/1261 [09:53<05:22,  1.34it/s]"
     ]
    },
    {
     "name": "stdout",
     "output_type": "stream",
     "text": [
      "ret 1.3173832529966845e-05\n",
      "LA.norm(trackline.diffs)>15*np.std(coefnorm): -51.4328334063\n",
      "dist_diff 0.337179586818\n"
     ]
    },
    {
     "name": "stderr",
     "output_type": "stream",
     "text": [
      "\r",
      " 66%|████████████████████████████████████████████████████                           | 831/1261 [09:54<05:22,  1.33it/s]"
     ]
    },
    {
     "name": "stdout",
     "output_type": "stream",
     "text": [
      "ret 6.759961022373417e-05\n",
      "LA.norm(trackline.diffs)>15*np.std(coefnorm): -61.4326460532\n",
      "dist_diff 2.50958274119\n"
     ]
    },
    {
     "name": "stderr",
     "output_type": "stream",
     "text": [
      "\r",
      " 66%|████████████████████████████████████████████████████                           | 832/1261 [09:55<05:21,  1.34it/s]"
     ]
    },
    {
     "name": "stdout",
     "output_type": "stream",
     "text": [
      "ret 5.9999259373111347e-05\n",
      "LA.norm(trackline.diffs)>15*np.std(coefnorm): -60.2121783782\n",
      "dist_diff 0.271532948615\n"
     ]
    },
    {
     "name": "stderr",
     "output_type": "stream",
     "text": [
      "\r",
      " 66%|████████████████████████████████████████████████████▏                          | 833/1261 [09:55<05:20,  1.33it/s]"
     ]
    },
    {
     "name": "stdout",
     "output_type": "stream",
     "text": [
      "ret 0.00014247776979170457\n",
      "LA.norm(trackline.diffs)>15*np.std(coefnorm): -63.5280418614\n",
      "dist_diff 1.98901906835\n"
     ]
    },
    {
     "name": "stderr",
     "output_type": "stream",
     "text": [
      "\r",
      " 66%|████████████████████████████████████████████████████▏                          | 834/1261 [09:56<05:17,  1.34it/s]"
     ]
    },
    {
     "name": "stdout",
     "output_type": "stream",
     "text": [
      "ret 4.4513111613353473e-07\n",
      "LA.norm(trackline.diffs)>15*np.std(coefnorm): -59.4188876174\n",
      "dist_diff 2.21120147796\n"
     ]
    },
    {
     "name": "stderr",
     "output_type": "stream",
     "text": [
      "\r",
      " 66%|████████████████████████████████████████████████████▎                          | 835/1261 [09:57<05:16,  1.35it/s]"
     ]
    },
    {
     "name": "stdout",
     "output_type": "stream",
     "text": [
      "ret 6.517584848642066e-05\n",
      "LA.norm(trackline.diffs)>15*np.std(coefnorm): -46.2805036969\n",
      "dist_diff 1.26664256648\n"
     ]
    },
    {
     "name": "stderr",
     "output_type": "stream",
     "text": [
      "\r",
      " 66%|████████████████████████████████████████████████████▎                          | 836/1261 [09:58<05:14,  1.35it/s]"
     ]
    },
    {
     "name": "stdout",
     "output_type": "stream",
     "text": [
      "ret 2.058698756080002e-06\n",
      "LA.norm(trackline.diffs)>15*np.std(coefnorm): -19.1754814751\n",
      "dist_diff 4.6194949392\n"
     ]
    },
    {
     "name": "stderr",
     "output_type": "stream",
     "text": [
      "\r",
      " 66%|████████████████████████████████████████████████████▍                          | 837/1261 [09:58<05:13,  1.35it/s]"
     ]
    },
    {
     "name": "stdout",
     "output_type": "stream",
     "text": [
      "ret 4.465223920196992e-05\n",
      "LA.norm(trackline.diffs)>15*np.std(coefnorm): -29.4057292159\n",
      "dist_diff 3.28268542634\n"
     ]
    },
    {
     "name": "stderr",
     "output_type": "stream",
     "text": [
      "\r",
      " 66%|████████████████████████████████████████████████████▍                          | 838/1261 [09:59<05:13,  1.35it/s]"
     ]
    },
    {
     "name": "stdout",
     "output_type": "stream",
     "text": [
      "ret 3.797519565734708e-05\n",
      "LA.norm(trackline.diffs)>15*np.std(coefnorm): -21.3080239097\n",
      "dist_diff 0.464582704552\n"
     ]
    },
    {
     "name": "stderr",
     "output_type": "stream",
     "text": [
      "\r",
      " 67%|████████████████████████████████████████████████████▌                          | 839/1261 [10:00<05:14,  1.34it/s]"
     ]
    },
    {
     "name": "stdout",
     "output_type": "stream",
     "text": [
      "ret 0.00010313836182007652\n",
      "LA.norm(trackline.diffs)>15*np.std(coefnorm): -49.9412272859\n",
      "dist_diff 3.73981542159\n"
     ]
    },
    {
     "name": "stderr",
     "output_type": "stream",
     "text": [
      "\r",
      " 67%|████████████████████████████████████████████████████▌                          | 840/1261 [10:01<05:14,  1.34it/s]"
     ]
    },
    {
     "name": "stdout",
     "output_type": "stream",
     "text": [
      "ret 4.4645816404953464e-05\n",
      "LA.norm(trackline.diffs)>15*np.std(coefnorm): -58.7877742317\n",
      "dist_diff 0.940262172967\n"
     ]
    },
    {
     "name": "stderr",
     "output_type": "stream",
     "text": [
      "\r",
      " 67%|████████████████████████████████████████████████████▋                          | 841/1261 [10:01<05:12,  1.34it/s]"
     ]
    },
    {
     "name": "stdout",
     "output_type": "stream",
     "text": [
      "ret 6.110946584686472e-05\n",
      "LA.norm(trackline.diffs)>15*np.std(coefnorm): -53.6976896321\n",
      "dist_diff 4.63838783402\n"
     ]
    },
    {
     "name": "stderr",
     "output_type": "stream",
     "text": [
      "\r",
      " 67%|████████████████████████████████████████████████████▊                          | 842/1261 [10:02<05:12,  1.34it/s]"
     ]
    },
    {
     "name": "stdout",
     "output_type": "stream",
     "text": [
      "ret 7.457654981612993e-05\n",
      "LA.norm(trackline.diffs)>15*np.std(coefnorm): -62.6732431207\n",
      "dist_diff 3.52607447245\n"
     ]
    },
    {
     "name": "stderr",
     "output_type": "stream",
     "text": [
      "\r",
      " 67%|████████████████████████████████████████████████████▊                          | 843/1261 [10:03<05:13,  1.33it/s]"
     ]
    },
    {
     "name": "stdout",
     "output_type": "stream",
     "text": [
      "ret 5.2057433382546314e-05\n",
      "LA.norm(trackline.diffs)>15*np.std(coefnorm): -52.8705968025\n",
      "dist_diff 3.67137145386\n"
     ]
    },
    {
     "name": "stderr",
     "output_type": "stream",
     "text": [
      "\r",
      " 67%|████████████████████████████████████████████████████▉                          | 844/1261 [10:04<05:13,  1.33it/s]"
     ]
    },
    {
     "name": "stdout",
     "output_type": "stream",
     "text": [
      "ret 4.8906989378816323e-05\n",
      "LA.norm(trackline.diffs)>15*np.std(coefnorm): -56.395289982\n",
      "dist_diff 2.62341122805\n"
     ]
    },
    {
     "name": "stderr",
     "output_type": "stream",
     "text": [
      "\r",
      " 67%|████████████████████████████████████████████████████▉                          | 845/1261 [10:04<05:13,  1.33it/s]"
     ]
    },
    {
     "name": "stdout",
     "output_type": "stream",
     "text": [
      "ret 4.107955191234858e-06\n",
      "LA.norm(trackline.diffs)>15*np.std(coefnorm): -67.6104265556\n",
      "dist_diff 3.07053441786\n"
     ]
    },
    {
     "name": "stderr",
     "output_type": "stream",
     "text": [
      "\r",
      " 67%|█████████████████████████████████████████████████████                          | 846/1261 [10:05<05:10,  1.34it/s]"
     ]
    },
    {
     "name": "stdout",
     "output_type": "stream",
     "text": [
      "ret 2.2445100688828212e-05\n",
      "LA.norm(trackline.diffs)>15*np.std(coefnorm): -62.6729117066\n",
      "dist_diff 5.28626369315\n"
     ]
    },
    {
     "name": "stderr",
     "output_type": "stream",
     "text": [
      "\r",
      " 67%|█████████████████████████████████████████████████████                          | 847/1261 [10:06<05:10,  1.33it/s]"
     ]
    },
    {
     "name": "stdout",
     "output_type": "stream",
     "text": [
      "ret 7.830019617516282e-06\n",
      "LA.norm(trackline.diffs)>15*np.std(coefnorm): -32.727777336\n",
      "dist_diff 6.83492168255\n"
     ]
    },
    {
     "name": "stderr",
     "output_type": "stream",
     "text": [
      "\r",
      " 67%|█████████████████████████████████████████████████████▏                         | 848/1261 [10:07<05:10,  1.33it/s]"
     ]
    },
    {
     "name": "stdout",
     "output_type": "stream",
     "text": [
      "ret 4.455733036962117e-05\n",
      "LA.norm(trackline.diffs)>15*np.std(coefnorm): -33.3660697451\n",
      "dist_diff 7.37380044434\n"
     ]
    },
    {
     "name": "stderr",
     "output_type": "stream",
     "text": [
      "\r",
      " 67%|█████████████████████████████████████████████████████▏                         | 849/1261 [10:07<05:04,  1.35it/s]"
     ]
    },
    {
     "name": "stdout",
     "output_type": "stream",
     "text": [
      "ret 7.23735318124974e-05\n",
      "LA.norm(trackline.diffs)>15*np.std(coefnorm): -37.3780394916\n",
      "dist_diff 1.00727483071\n"
     ]
    },
    {
     "name": "stderr",
     "output_type": "stream",
     "text": [
      "\r",
      " 67%|█████████████████████████████████████████████████████▎                         | 850/1261 [10:08<05:07,  1.34it/s]"
     ]
    },
    {
     "name": "stdout",
     "output_type": "stream",
     "text": [
      "ret 1.6856490633765375e-05\n",
      "LA.norm(trackline.diffs)>15*np.std(coefnorm): -55.0275894484\n",
      "dist_diff 1.33814888169\n"
     ]
    },
    {
     "name": "stderr",
     "output_type": "stream",
     "text": [
      "\r",
      " 67%|█████████████████████████████████████████████████████▎                         | 851/1261 [10:09<05:06,  1.34it/s]"
     ]
    },
    {
     "name": "stdout",
     "output_type": "stream",
     "text": [
      "ret 2.5309850460175642e-05\n",
      "LA.norm(trackline.diffs)>15*np.std(coefnorm): -53.6716627816\n",
      "dist_diff 5.68802399254\n"
     ]
    },
    {
     "name": "stderr",
     "output_type": "stream",
     "text": [
      "\r",
      " 68%|█████████████████████████████████████████████████████▍                         | 852/1261 [10:10<05:06,  1.34it/s]"
     ]
    },
    {
     "name": "stdout",
     "output_type": "stream",
     "text": [
      "ret 4.2737333216691376e-05\n",
      "LA.norm(trackline.diffs)>15*np.std(coefnorm): -46.2092347192\n",
      "dist_diff 0.670439930726\n"
     ]
    },
    {
     "name": "stderr",
     "output_type": "stream",
     "text": [
      "\r",
      " 68%|█████████████████████████████████████████████████████▍                         | 853/1261 [10:10<05:03,  1.34it/s]"
     ]
    },
    {
     "name": "stdout",
     "output_type": "stream",
     "text": [
      "ret 1.2822201895523744e-05\n",
      "LA.norm(trackline.diffs)>15*np.std(coefnorm): -51.9797007641\n",
      "dist_diff 3.36140480098\n"
     ]
    },
    {
     "name": "stderr",
     "output_type": "stream",
     "text": [
      "\r",
      " 68%|█████████████████████████████████████████████████████▌                         | 854/1261 [10:11<05:04,  1.34it/s]"
     ]
    },
    {
     "name": "stdout",
     "output_type": "stream",
     "text": [
      "ret 0.00010470225679864997\n",
      "LA.norm(trackline.diffs)>15*np.std(coefnorm): -52.1346436604\n",
      "dist_diff 3.59653284052\n"
     ]
    },
    {
     "name": "stderr",
     "output_type": "stream",
     "text": [
      "\r",
      " 68%|█████████████████████████████████████████████████████▌                         | 855/1261 [10:12<05:00,  1.35it/s]"
     ]
    },
    {
     "name": "stdout",
     "output_type": "stream",
     "text": [
      "ret 9.296730939500897e-05\n",
      "LA.norm(trackline.diffs)>15*np.std(coefnorm): -82.4486102593\n",
      "dist_diff 0.56497958078\n"
     ]
    },
    {
     "name": "stderr",
     "output_type": "stream",
     "text": [
      "\r",
      " 68%|█████████████████████████████████████████████████████▋                         | 856/1261 [10:12<05:00,  1.35it/s]"
     ]
    },
    {
     "name": "stdout",
     "output_type": "stream",
     "text": [
      "ret 1.878182159575914e-05\n",
      "LA.norm(trackline.diffs)>15*np.std(coefnorm): -118.44868154\n",
      "dist_diff 3.43636454051\n"
     ]
    },
    {
     "name": "stderr",
     "output_type": "stream",
     "text": [
      "\r",
      " 68%|█████████████████████████████████████████████████████▋                         | 857/1261 [10:13<04:59,  1.35it/s]"
     ]
    },
    {
     "name": "stdout",
     "output_type": "stream",
     "text": [
      "ret 2.2512467171331707e-05\n",
      "LA.norm(trackline.diffs)>15*np.std(coefnorm): -130.946081062\n",
      "dist_diff 0.13618533156\n"
     ]
    },
    {
     "name": "stderr",
     "output_type": "stream",
     "text": [
      "\r",
      " 68%|█████████████████████████████████████████████████████▊                         | 858/1261 [10:14<04:57,  1.35it/s]"
     ]
    },
    {
     "name": "stdout",
     "output_type": "stream",
     "text": [
      "ret 2.4162356442536392e-05\n",
      "LA.norm(trackline.diffs)>15*np.std(coefnorm): -125.536529094\n",
      "dist_diff 7.62750277389\n"
     ]
    },
    {
     "name": "stderr",
     "output_type": "stream",
     "text": [
      "\r",
      " 68%|█████████████████████████████████████████████████████▊                         | 859/1261 [10:15<04:56,  1.35it/s]"
     ]
    },
    {
     "name": "stdout",
     "output_type": "stream",
     "text": [
      "ret 3.2212048876045785e-06\n",
      "LA.norm(trackline.diffs)>15*np.std(coefnorm): -122.491445605\n",
      "dist_diff 1.4451710045\n"
     ]
    },
    {
     "name": "stderr",
     "output_type": "stream",
     "text": [
      "\r",
      " 68%|█████████████████████████████████████████████████████▉                         | 860/1261 [10:15<04:56,  1.35it/s]"
     ]
    },
    {
     "name": "stdout",
     "output_type": "stream",
     "text": [
      "ret 2.4363808830918376e-05\n",
      "LA.norm(trackline.diffs)>15*np.std(coefnorm): -117.343049771\n",
      "dist_diff 1.65439429766\n"
     ]
    },
    {
     "name": "stderr",
     "output_type": "stream",
     "text": [
      "\r",
      " 68%|█████████████████████████████████████████████████████▉                         | 861/1261 [10:16<04:55,  1.36it/s]"
     ]
    },
    {
     "name": "stdout",
     "output_type": "stream",
     "text": [
      "ret 9.100319719751448e-05\n",
      "LA.norm(trackline.diffs)>15*np.std(coefnorm): -101.577722383\n",
      "dist_diff 2.16564684797\n"
     ]
    },
    {
     "name": "stderr",
     "output_type": "stream",
     "text": [
      "\r",
      " 68%|██████████████████████████████████████████████████████                         | 862/1261 [10:17<04:56,  1.35it/s]"
     ]
    },
    {
     "name": "stdout",
     "output_type": "stream",
     "text": [
      "ret 9.604622943076846e-05\n",
      "LA.norm(trackline.diffs)>15*np.std(coefnorm): -77.8006914796\n",
      "dist_diff 4.14816611195\n"
     ]
    },
    {
     "name": "stderr",
     "output_type": "stream",
     "text": [
      "\r",
      " 68%|██████████████████████████████████████████████████████                         | 863/1261 [10:18<04:55,  1.35it/s]"
     ]
    },
    {
     "name": "stdout",
     "output_type": "stream",
     "text": [
      "ret 1.7527063413735888e-05\n",
      "LA.norm(trackline.diffs)>15*np.std(coefnorm): -67.2378706681\n",
      "dist_diff 3.31238803541\n"
     ]
    },
    {
     "name": "stderr",
     "output_type": "stream",
     "text": [
      "\r",
      " 69%|██████████████████████████████████████████████████████▏                        | 864/1261 [10:18<04:54,  1.35it/s]"
     ]
    },
    {
     "name": "stdout",
     "output_type": "stream",
     "text": [
      "ret 1.5082666121490895e-05\n",
      "LA.norm(trackline.diffs)>15*np.std(coefnorm): -48.457862979\n",
      "dist_diff 3.34663327733\n"
     ]
    },
    {
     "name": "stderr",
     "output_type": "stream",
     "text": [
      "\r",
      " 69%|██████████████████████████████████████████████████████▏                        | 865/1261 [10:19<04:53,  1.35it/s]"
     ]
    },
    {
     "name": "stdout",
     "output_type": "stream",
     "text": [
      "ret 2.9646758070933643e-05\n",
      "LA.norm(trackline.diffs)>15*np.std(coefnorm): -58.7888202102\n",
      "dist_diff 1.21448499318\n"
     ]
    },
    {
     "name": "stderr",
     "output_type": "stream",
     "text": [
      "\r",
      " 69%|██████████████████████████████████████████████████████▎                        | 866/1261 [10:20<04:52,  1.35it/s]"
     ]
    },
    {
     "name": "stdout",
     "output_type": "stream",
     "text": [
      "ret 1.658352894701176e-05\n",
      "LA.norm(trackline.diffs)>15*np.std(coefnorm): -32.3640866918\n",
      "dist_diff 2.68437939528\n"
     ]
    },
    {
     "name": "stderr",
     "output_type": "stream",
     "text": [
      "\r",
      " 69%|██████████████████████████████████████████████████████▎                        | 867/1261 [10:21<04:51,  1.35it/s]"
     ]
    },
    {
     "name": "stdout",
     "output_type": "stream",
     "text": [
      "ret 3.274664354341317e-05\n",
      "LA.norm(trackline.diffs)>15*np.std(coefnorm): -37.6055891948\n",
      "dist_diff 1.63042414577\n"
     ]
    },
    {
     "name": "stderr",
     "output_type": "stream",
     "text": [
      "\r",
      " 69%|██████████████████████████████████████████████████████▍                        | 868/1261 [10:21<04:52,  1.34it/s]"
     ]
    },
    {
     "name": "stdout",
     "output_type": "stream",
     "text": [
      "ret 0.00010237527616230313\n",
      "LA.norm(trackline.diffs)>15*np.std(coefnorm): -53.5194338305\n",
      "dist_diff 2.39205683359\n"
     ]
    },
    {
     "name": "stderr",
     "output_type": "stream",
     "text": [
      "\r",
      " 69%|██████████████████████████████████████████████████████▍                        | 869/1261 [10:22<04:49,  1.35it/s]"
     ]
    },
    {
     "name": "stdout",
     "output_type": "stream",
     "text": [
      "ret 2.6120739226476175e-05\n",
      "LA.norm(trackline.diffs)>15*np.std(coefnorm): -76.941018707\n",
      "dist_diff 2.88292661958\n"
     ]
    },
    {
     "name": "stderr",
     "output_type": "stream",
     "text": [
      "\r",
      " 69%|██████████████████████████████████████████████████████▌                        | 870/1261 [10:23<04:50,  1.35it/s]"
     ]
    },
    {
     "name": "stdout",
     "output_type": "stream",
     "text": [
      "ret 5.745462537609658e-05\n",
      "LA.norm(trackline.diffs)>15*np.std(coefnorm): -117.247339257\n",
      "dist_diff 12.7685440933\n"
     ]
    },
    {
     "name": "stderr",
     "output_type": "stream",
     "text": [
      "\r",
      " 69%|██████████████████████████████████████████████████████▌                        | 871/1261 [10:24<04:49,  1.35it/s]"
     ]
    },
    {
     "name": "stdout",
     "output_type": "stream",
     "text": [
      "ret 9.20609065696576e-05\n",
      "LA.norm(trackline.diffs)>15*np.std(coefnorm): -108.422825765\n",
      "dist_diff 0.21787607311\n"
     ]
    },
    {
     "name": "stderr",
     "output_type": "stream",
     "text": [
      "\r",
      " 69%|██████████████████████████████████████████████████████▋                        | 872/1261 [10:24<04:47,  1.35it/s]"
     ]
    },
    {
     "name": "stdout",
     "output_type": "stream",
     "text": [
      "ret 3.006303724401027e-05\n",
      "LA.norm(trackline.diffs)>15*np.std(coefnorm): -122.024744517\n",
      "dist_diff 0.385647293647\n"
     ]
    },
    {
     "name": "stderr",
     "output_type": "stream",
     "text": [
      "\r",
      " 69%|██████████████████████████████████████████████████████▋                        | 873/1261 [10:25<04:47,  1.35it/s]"
     ]
    },
    {
     "name": "stdout",
     "output_type": "stream",
     "text": [
      "ret 4.957399436900101e-06\n",
      "LA.norm(trackline.diffs)>15*np.std(coefnorm): -122.971812072\n",
      "dist_diff 5.87278441476\n"
     ]
    },
    {
     "name": "stderr",
     "output_type": "stream",
     "text": [
      "\r",
      " 69%|██████████████████████████████████████████████████████▊                        | 874/1261 [10:26<04:46,  1.35it/s]"
     ]
    },
    {
     "name": "stdout",
     "output_type": "stream",
     "text": [
      "ret 1.1231040833281636e-05\n",
      "LA.norm(trackline.diffs)>15*np.std(coefnorm): -114.413595151\n",
      "dist_diff 0.653332827501\n"
     ]
    },
    {
     "name": "stderr",
     "output_type": "stream",
     "text": [
      "\r",
      " 69%|██████████████████████████████████████████████████████▊                        | 875/1261 [10:27<04:45,  1.35it/s]"
     ]
    },
    {
     "name": "stdout",
     "output_type": "stream",
     "text": [
      "ret 0.0001501416816384049\n",
      "LA.norm(trackline.diffs)>15*np.std(coefnorm): -103.477139726\n",
      "dist_diff 6.00630708008\n"
     ]
    },
    {
     "name": "stderr",
     "output_type": "stream",
     "text": [
      "\r",
      " 69%|██████████████████████████████████████████████████████▉                        | 876/1261 [10:27<04:44,  1.35it/s]"
     ]
    },
    {
     "name": "stdout",
     "output_type": "stream",
     "text": [
      "ret 2.470742248233959e-05\n",
      "LA.norm(trackline.diffs)>15*np.std(coefnorm): -95.3625756204\n",
      "dist_diff 2.64239621544\n"
     ]
    },
    {
     "name": "stderr",
     "output_type": "stream",
     "text": [
      "\r",
      " 70%|██████████████████████████████████████████████████████▉                        | 877/1261 [10:28<04:43,  1.36it/s]"
     ]
    },
    {
     "name": "stdout",
     "output_type": "stream",
     "text": [
      "ret 1.3246111870535149e-05\n",
      "LA.norm(trackline.diffs)>15*np.std(coefnorm): -74.4307938316\n",
      "dist_diff 5.15750158908\n"
     ]
    },
    {
     "name": "stderr",
     "output_type": "stream",
     "text": [
      "\r",
      " 70%|███████████████████████████████████████████████████████                        | 878/1261 [10:29<04:42,  1.36it/s]"
     ]
    },
    {
     "name": "stdout",
     "output_type": "stream",
     "text": [
      "ret 5.731731593167089e-05\n",
      "LA.norm(trackline.diffs)>15*np.std(coefnorm): -54.7378257813\n",
      "dist_diff 2.49951916113\n"
     ]
    },
    {
     "name": "stderr",
     "output_type": "stream",
     "text": [
      "\r",
      " 70%|███████████████████████████████████████████████████████                        | 879/1261 [10:29<04:40,  1.36it/s]"
     ]
    },
    {
     "name": "stdout",
     "output_type": "stream",
     "text": [
      "ret 2.667021024954641e-05\n",
      "LA.norm(trackline.diffs)>15*np.std(coefnorm): -34.7976587069\n",
      "dist_diff 0.445463336391\n"
     ]
    },
    {
     "name": "stderr",
     "output_type": "stream",
     "text": [
      "\r",
      " 70%|███████████████████████████████████████████████████████▏                       | 880/1261 [10:30<04:40,  1.36it/s]"
     ]
    },
    {
     "name": "stdout",
     "output_type": "stream",
     "text": [
      "ret 3.2504373246866614e-05\n",
      "LA.norm(trackline.diffs)>15*np.std(coefnorm): -35.2053743181\n",
      "dist_diff 2.33656459129\n"
     ]
    },
    {
     "name": "stderr",
     "output_type": "stream",
     "text": [
      "\r",
      " 70%|███████████████████████████████████████████████████████▏                       | 881/1261 [10:31<04:38,  1.37it/s]"
     ]
    },
    {
     "name": "stdout",
     "output_type": "stream",
     "text": [
      "ret 4.861561353042276e-06\n",
      "LA.norm(trackline.diffs)>15*np.std(coefnorm): -46.5983455232\n",
      "dist_diff 8.90671985003\n"
     ]
    },
    {
     "name": "stderr",
     "output_type": "stream",
     "text": [
      "\r",
      " 70%|███████████████████████████████████████████████████████▎                       | 882/1261 [10:32<04:36,  1.37it/s]"
     ]
    },
    {
     "name": "stdout",
     "output_type": "stream",
     "text": [
      "ret 2.2223050304470693e-05\n",
      "LA.norm(trackline.diffs)>15*np.std(coefnorm): -45.2923843783\n",
      "dist_diff 4.06004205907\n"
     ]
    },
    {
     "name": "stderr",
     "output_type": "stream",
     "text": [
      "\r",
      " 70%|███████████████████████████████████████████████████████▎                       | 883/1261 [10:32<04:37,  1.36it/s]"
     ]
    },
    {
     "name": "stdout",
     "output_type": "stream",
     "text": [
      "ret 5.0388337796525295e-05\n",
      "LA.norm(trackline.diffs)>15*np.std(coefnorm): -39.4683695592\n",
      "dist_diff 1.3604446338\n"
     ]
    },
    {
     "name": "stderr",
     "output_type": "stream",
     "text": [
      "\r",
      " 70%|███████████████████████████████████████████████████████▍                       | 884/1261 [10:33<04:37,  1.36it/s]"
     ]
    },
    {
     "name": "stdout",
     "output_type": "stream",
     "text": [
      "ret 3.499574699700192e-05\n",
      "LA.norm(trackline.diffs)>15*np.std(coefnorm): -42.5331689926\n",
      "dist_diff 1.21670192619\n"
     ]
    },
    {
     "name": "stderr",
     "output_type": "stream",
     "text": [
      "\r",
      " 70%|███████████████████████████████████████████████████████▍                       | 885/1261 [10:34<04:38,  1.35it/s]"
     ]
    },
    {
     "name": "stdout",
     "output_type": "stream",
     "text": [
      "ret 9.959295688211078e-05\n",
      "LA.norm(trackline.diffs)>15*np.std(coefnorm): -23.5426540099\n",
      "dist_diff 7.48473689144\n"
     ]
    },
    {
     "name": "stderr",
     "output_type": "stream",
     "text": [
      "\r",
      " 70%|███████████████████████████████████████████████████████▌                       | 886/1261 [10:35<04:43,  1.32it/s]"
     ]
    },
    {
     "name": "stdout",
     "output_type": "stream",
     "text": [
      "ret 8.730000376944158e-05\n",
      "LA.norm(trackline.diffs)>15*np.std(coefnorm): -82.4664163615\n",
      "dist_diff 0.892026160995\n"
     ]
    },
    {
     "name": "stderr",
     "output_type": "stream",
     "text": [
      "\r",
      " 70%|███████████████████████████████████████████████████████▌                       | 887/1261 [10:35<04:41,  1.33it/s]"
     ]
    },
    {
     "name": "stdout",
     "output_type": "stream",
     "text": [
      "ret 7.318978893261496e-05\n",
      "LA.norm(trackline.diffs)>15*np.std(coefnorm): -128.19602259\n",
      "dist_diff 1.62463836108\n"
     ]
    },
    {
     "name": "stderr",
     "output_type": "stream",
     "text": [
      "\r",
      " 70%|███████████████████████████████████████████████████████▋                       | 888/1261 [10:36<04:42,  1.32it/s]"
     ]
    },
    {
     "name": "stdout",
     "output_type": "stream",
     "text": [
      "ret 2.3411315549781708e-05\n",
      "LA.norm(trackline.diffs)>15*np.std(coefnorm): -169.609143659\n",
      "dist_diff 2.48219401505\n"
     ]
    },
    {
     "name": "stderr",
     "output_type": "stream",
     "text": [
      "\r",
      " 70%|███████████████████████████████████████████████████████▋                       | 889/1261 [10:37<04:49,  1.28it/s]"
     ]
    },
    {
     "name": "stdout",
     "output_type": "stream",
     "text": [
      "ret 3.7593215295839144e-05\n",
      "LA.norm(trackline.diffs)>15*np.std(coefnorm): -204.468184239\n",
      "dist_diff 1.74422580232\n"
     ]
    },
    {
     "name": "stderr",
     "output_type": "stream",
     "text": [
      "\r",
      " 71%|███████████████████████████████████████████████████████▊                       | 890/1261 [10:38<04:48,  1.29it/s]"
     ]
    },
    {
     "name": "stdout",
     "output_type": "stream",
     "text": [
      "ret 6.093876310286905e-06\n",
      "LA.norm(trackline.diffs)>15*np.std(coefnorm): -211.202570862\n",
      "dist_diff 1.86054999975\n"
     ]
    },
    {
     "name": "stderr",
     "output_type": "stream",
     "text": [
      "\r",
      " 71%|███████████████████████████████████████████████████████▊                       | 891/1261 [10:39<04:44,  1.30it/s]"
     ]
    },
    {
     "name": "stdout",
     "output_type": "stream",
     "text": [
      "ret 5.7440953780685255e-05\n",
      "LA.norm(trackline.diffs)>15*np.std(coefnorm): -195.747376178\n",
      "dist_diff 0.717802106075\n"
     ]
    },
    {
     "name": "stderr",
     "output_type": "stream",
     "text": [
      "\r",
      " 71%|███████████████████████████████████████████████████████▉                       | 892/1261 [10:39<04:45,  1.29it/s]"
     ]
    },
    {
     "name": "stdout",
     "output_type": "stream",
     "text": [
      "ret 2.2886115166986798e-05\n",
      "LA.norm(trackline.diffs)>15*np.std(coefnorm): -170.436172687\n",
      "dist_diff 0.519982267674\n"
     ]
    },
    {
     "name": "stderr",
     "output_type": "stream",
     "text": [
      "\r",
      " 71%|███████████████████████████████████████████████████████▉                       | 893/1261 [10:40<04:43,  1.30it/s]"
     ]
    },
    {
     "name": "stdout",
     "output_type": "stream",
     "text": [
      "ret 4.3509824647069983e-05\n",
      "LA.norm(trackline.diffs)>15*np.std(coefnorm): -127.27650115\n",
      "dist_diff 7.41612591329\n"
     ]
    },
    {
     "name": "stderr",
     "output_type": "stream",
     "text": [
      "\r",
      " 71%|████████████████████████████████████████████████████████                       | 894/1261 [10:41<04:45,  1.29it/s]"
     ]
    },
    {
     "name": "stdout",
     "output_type": "stream",
     "text": [
      "ret 4.258228198378289e-05\n",
      "LA.norm(trackline.diffs)>15*np.std(coefnorm): -96.2380302538\n",
      "dist_diff 8.56090963999\n"
     ]
    },
    {
     "name": "stderr",
     "output_type": "stream",
     "text": [
      "\r",
      " 71%|████████████████████████████████████████████████████████                       | 895/1261 [10:42<04:41,  1.30it/s]"
     ]
    },
    {
     "name": "stdout",
     "output_type": "stream",
     "text": [
      "ret 3.262171709184081e-05\n",
      "LA.norm(trackline.diffs)>15*np.std(coefnorm): -99.386710782\n",
      "dist_diff 8.98482288352\n"
     ]
    },
    {
     "name": "stderr",
     "output_type": "stream",
     "text": [
      "\r",
      " 71%|████████████████████████████████████████████████████████▏                      | 896/1261 [10:42<04:36,  1.32it/s]"
     ]
    },
    {
     "name": "stdout",
     "output_type": "stream",
     "text": [
      "ret 3.208087939993165e-05\n",
      "LA.norm(trackline.diffs)>15*np.std(coefnorm): -101.315764291\n",
      "dist_diff 3.46383961159\n"
     ]
    },
    {
     "name": "stderr",
     "output_type": "stream",
     "text": [
      "\r",
      " 71%|████████████████████████████████████████████████████████▏                      | 897/1261 [10:43<04:34,  1.32it/s]"
     ]
    },
    {
     "name": "stdout",
     "output_type": "stream",
     "text": [
      "ret 3.851309054386798e-05\n",
      "LA.norm(trackline.diffs)>15*np.std(coefnorm): -42.9617781788\n",
      "dist_diff 5.53387301419\n"
     ]
    },
    {
     "name": "stderr",
     "output_type": "stream",
     "text": [
      "\r",
      " 71%|████████████████████████████████████████████████████████▎                      | 898/1261 [10:44<04:31,  1.34it/s]"
     ]
    },
    {
     "name": "stdout",
     "output_type": "stream",
     "text": [
      "ret 1.5139534904617946e-05\n",
      "LA.norm(trackline.diffs)>15*np.std(coefnorm): -39.7400531022\n",
      "dist_diff 2.82848193505\n"
     ]
    },
    {
     "name": "stderr",
     "output_type": "stream",
     "text": [
      "\r",
      " 71%|████████████████████████████████████████████████████████▎                      | 899/1261 [10:45<04:32,  1.33it/s]"
     ]
    },
    {
     "name": "stdout",
     "output_type": "stream",
     "text": [
      "ret 0.00012172727148002105\n",
      "LA.norm(trackline.diffs)>15*np.std(coefnorm): -35.5453485283\n",
      "dist_diff 0.437282129639\n"
     ]
    },
    {
     "name": "stderr",
     "output_type": "stream",
     "text": [
      "\r",
      " 71%|████████████████████████████████████████████████████████▍                      | 900/1261 [10:45<04:33,  1.32it/s]"
     ]
    },
    {
     "name": "stdout",
     "output_type": "stream",
     "text": [
      "ret 7.014224045970296e-05\n",
      "LA.norm(trackline.diffs)>15*np.std(coefnorm): -40.1361510753\n",
      "dist_diff 1.98076879687\n"
     ]
    },
    {
     "name": "stderr",
     "output_type": "stream",
     "text": [
      "\r",
      " 71%|████████████████████████████████████████████████████████▍                      | 901/1261 [10:46<04:30,  1.33it/s]"
     ]
    },
    {
     "name": "stdout",
     "output_type": "stream",
     "text": [
      "ret 1.958033661714209e-05\n",
      "LA.norm(trackline.diffs)>15*np.std(coefnorm): -45.3833089295\n",
      "dist_diff 0.714411588001\n"
     ]
    },
    {
     "name": "stderr",
     "output_type": "stream",
     "text": [
      "\r",
      " 72%|████████████████████████████████████████████████████████▌                      | 902/1261 [10:47<04:32,  1.32it/s]"
     ]
    },
    {
     "name": "stdout",
     "output_type": "stream",
     "text": [
      "ret 6.1018265723356e-05\n",
      "LA.norm(trackline.diffs)>15*np.std(coefnorm): -65.1511953965\n",
      "dist_diff 0.334278170589\n"
     ]
    },
    {
     "name": "stderr",
     "output_type": "stream",
     "text": [
      "\r",
      " 72%|████████████████████████████████████████████████████████▌                      | 903/1261 [10:48<04:29,  1.33it/s]"
     ]
    },
    {
     "name": "stdout",
     "output_type": "stream",
     "text": [
      "ret 2.7195066753360475e-05\n",
      "LA.norm(trackline.diffs)>15*np.std(coefnorm): -58.1162572906\n",
      "dist_diff 3.67155201304\n"
     ]
    },
    {
     "name": "stderr",
     "output_type": "stream",
     "text": [
      "\r",
      " 72%|████████████████████████████████████████████████████████▋                      | 904/1261 [10:48<04:28,  1.33it/s]"
     ]
    },
    {
     "name": "stdout",
     "output_type": "stream",
     "text": [
      "ret 1.8917130184870068e-05\n",
      "LA.norm(trackline.diffs)>15*np.std(coefnorm): -66.3262790818\n",
      "dist_diff 1.75886448615\n"
     ]
    },
    {
     "name": "stderr",
     "output_type": "stream",
     "text": [
      "\r",
      " 72%|████████████████████████████████████████████████████████▋                      | 905/1261 [10:49<04:26,  1.34it/s]"
     ]
    },
    {
     "name": "stdout",
     "output_type": "stream",
     "text": [
      "ret 0.00011785587893137217\n",
      "LA.norm(trackline.diffs)>15*np.std(coefnorm): -88.9947889913\n",
      "dist_diff 11.524351211\n"
     ]
    },
    {
     "name": "stderr",
     "output_type": "stream",
     "text": [
      "\r",
      " 72%|████████████████████████████████████████████████████████▊                      | 906/1261 [10:50<04:27,  1.33it/s]"
     ]
    },
    {
     "name": "stdout",
     "output_type": "stream",
     "text": [
      "ret 0.00010720472138042725\n",
      "LA.norm(trackline.diffs)>15*np.std(coefnorm): -80.0991193391\n",
      "dist_diff 6.23053011973\n"
     ]
    },
    {
     "name": "stderr",
     "output_type": "stream",
     "text": [
      "\r",
      " 72%|████████████████████████████████████████████████████████▊                      | 907/1261 [10:51<04:23,  1.34it/s]"
     ]
    },
    {
     "name": "stdout",
     "output_type": "stream",
     "text": [
      "ret 7.184743690669126e-05\n",
      "LA.norm(trackline.diffs)>15*np.std(coefnorm): -80.5735810318\n",
      "dist_diff 0.36256236797\n"
     ]
    },
    {
     "name": "stderr",
     "output_type": "stream",
     "text": [
      "\r",
      " 72%|████████████████████████████████████████████████████████▉                      | 908/1261 [10:51<04:21,  1.35it/s]"
     ]
    },
    {
     "name": "stdout",
     "output_type": "stream",
     "text": [
      "ret 2.4919964620007118e-05\n",
      "LA.norm(trackline.diffs)>15*np.std(coefnorm): -81.9903414797\n",
      "dist_diff 5.14174440878\n"
     ]
    },
    {
     "name": "stderr",
     "output_type": "stream",
     "text": [
      "\r",
      " 72%|████████████████████████████████████████████████████████▉                      | 909/1261 [10:52<04:20,  1.35it/s]"
     ]
    },
    {
     "name": "stdout",
     "output_type": "stream",
     "text": [
      "ret 2.777150792387939e-06\n",
      "LA.norm(trackline.diffs)>15*np.std(coefnorm): -56.7729616193\n",
      "dist_diff 4.54293600952\n"
     ]
    },
    {
     "name": "stderr",
     "output_type": "stream",
     "text": [
      "\r",
      " 72%|█████████████████████████████████████████████████████████                      | 910/1261 [10:53<04:19,  1.35it/s]"
     ]
    },
    {
     "name": "stdout",
     "output_type": "stream",
     "text": [
      "ret 1.5237727699568548e-05\n",
      "LA.norm(trackline.diffs)>15*np.std(coefnorm): -39.3914959826\n",
      "dist_diff 0.114232519428\n"
     ]
    },
    {
     "name": "stderr",
     "output_type": "stream",
     "text": [
      "\r",
      " 72%|█████████████████████████████████████████████████████████                      | 911/1261 [10:54<04:19,  1.35it/s]"
     ]
    },
    {
     "name": "stdout",
     "output_type": "stream",
     "text": [
      "ret 9.037332667882758e-06\n",
      "LA.norm(trackline.diffs)>15*np.std(coefnorm): -49.9899160534\n",
      "dist_diff 2.77201923886\n"
     ]
    },
    {
     "name": "stderr",
     "output_type": "stream",
     "text": [
      "\r",
      " 72%|█████████████████████████████████████████████████████████▏                     | 912/1261 [10:54<04:18,  1.35it/s]"
     ]
    },
    {
     "name": "stdout",
     "output_type": "stream",
     "text": [
      "ret 0.00014220318513452623\n",
      "LA.norm(trackline.diffs)>15*np.std(coefnorm): -37.1361054401\n",
      "dist_diff 0.715143543042\n"
     ]
    },
    {
     "name": "stderr",
     "output_type": "stream",
     "text": [
      "\r",
      " 72%|█████████████████████████████████████████████████████████▏                     | 913/1261 [10:55<04:17,  1.35it/s]"
     ]
    },
    {
     "name": "stdout",
     "output_type": "stream",
     "text": [
      "ret 1.0735279838747225e-05\n",
      "LA.norm(trackline.diffs)>15*np.std(coefnorm): -36.8042197011\n",
      "dist_diff 1.30848246026\n"
     ]
    },
    {
     "name": "stderr",
     "output_type": "stream",
     "text": [
      "\r",
      " 72%|█████████████████████████████████████████████████████████▎                     | 914/1261 [10:56<04:16,  1.35it/s]"
     ]
    },
    {
     "name": "stdout",
     "output_type": "stream",
     "text": [
      "ret 1.9430422180721774e-05\n",
      "LA.norm(trackline.diffs)>15*np.std(coefnorm): -42.7107466674\n",
      "dist_diff 0.453782241921\n"
     ]
    },
    {
     "name": "stderr",
     "output_type": "stream",
     "text": [
      "\r",
      " 73%|█████████████████████████████████████████████████████████▎                     | 915/1261 [10:57<04:15,  1.35it/s]"
     ]
    },
    {
     "name": "stdout",
     "output_type": "stream",
     "text": [
      "ret 1.643260530820312e-05\n",
      "LA.norm(trackline.diffs)>15*np.std(coefnorm): -48.8715199848\n",
      "dist_diff 0.689095796063\n"
     ]
    },
    {
     "name": "stderr",
     "output_type": "stream",
     "text": [
      "\r",
      " 73%|█████████████████████████████████████████████████████████▍                     | 916/1261 [10:57<04:16,  1.34it/s]"
     ]
    },
    {
     "name": "stdout",
     "output_type": "stream",
     "text": [
      "ret 6.25472126908333e-05\n",
      "LA.norm(trackline.diffs)>15*np.std(coefnorm): -60.2639994849\n",
      "dist_diff 2.52337178097\n"
     ]
    },
    {
     "name": "stderr",
     "output_type": "stream",
     "text": [
      "\r",
      " 73%|█████████████████████████████████████████████████████████▍                     | 917/1261 [10:58<04:15,  1.35it/s]"
     ]
    },
    {
     "name": "stdout",
     "output_type": "stream",
     "text": [
      "ret 2.2051018031044034e-05\n",
      "LA.norm(trackline.diffs)>15*np.std(coefnorm): -66.0200569741\n",
      "dist_diff 13.1669303589\n"
     ]
    },
    {
     "name": "stderr",
     "output_type": "stream",
     "text": [
      "\r",
      " 73%|█████████████████████████████████████████████████████████▌                     | 918/1261 [10:59<04:16,  1.33it/s]"
     ]
    },
    {
     "name": "stdout",
     "output_type": "stream",
     "text": [
      "ret 1.3550800639305915e-05\n",
      "LA.norm(trackline.diffs)>15*np.std(coefnorm): -72.0592675857\n",
      "dist_diff 8.4758406738\n"
     ]
    },
    {
     "name": "stderr",
     "output_type": "stream",
     "text": [
      "\r",
      " 73%|█████████████████████████████████████████████████████████▌                     | 919/1261 [11:00<04:15,  1.34it/s]"
     ]
    },
    {
     "name": "stdout",
     "output_type": "stream",
     "text": [
      "ret 6.655932943105958e-05\n",
      "LA.norm(trackline.diffs)>15*np.std(coefnorm): -62.3696503821\n",
      "dist_diff 4.23305277174\n"
     ]
    },
    {
     "name": "stderr",
     "output_type": "stream",
     "text": [
      "\r",
      " 73%|█████████████████████████████████████████████████████████▋                     | 920/1261 [11:00<04:13,  1.34it/s]"
     ]
    },
    {
     "name": "stdout",
     "output_type": "stream",
     "text": [
      "ret 0.00010305715622332956\n",
      "LA.norm(trackline.diffs)>15*np.std(coefnorm): -51.1185709781\n",
      "dist_diff 4.57372138664\n"
     ]
    },
    {
     "name": "stderr",
     "output_type": "stream",
     "text": [
      "\r",
      " 73%|█████████████████████████████████████████████████████████▋                     | 921/1261 [11:01<04:14,  1.33it/s]"
     ]
    },
    {
     "name": "stdout",
     "output_type": "stream",
     "text": [
      "ret 2.8355598216789346e-05\n",
      "LA.norm(trackline.diffs)>15*np.std(coefnorm): -67.3187916939\n",
      "dist_diff 5.89915051549\n"
     ]
    },
    {
     "name": "stderr",
     "output_type": "stream",
     "text": [
      "\r",
      " 73%|█████████████████████████████████████████████████████████▊                     | 922/1261 [11:02<04:15,  1.33it/s]"
     ]
    },
    {
     "name": "stdout",
     "output_type": "stream",
     "text": [
      "ret 9.679153776420701e-05\n",
      "LA.norm(trackline.diffs)>15*np.std(coefnorm): -84.232521285\n",
      "dist_diff 7.36440784983\n"
     ]
    },
    {
     "name": "stderr",
     "output_type": "stream",
     "text": [
      "\r",
      " 73%|█████████████████████████████████████████████████████████▊                     | 923/1261 [11:03<04:14,  1.33it/s]"
     ]
    },
    {
     "name": "stdout",
     "output_type": "stream",
     "text": [
      "ret 3.2964343863239876e-05\n",
      "LA.norm(trackline.diffs)>15*np.std(coefnorm): -87.6188086437\n",
      "dist_diff 2.80448952834\n"
     ]
    },
    {
     "name": "stderr",
     "output_type": "stream",
     "text": [
      "\r",
      " 73%|█████████████████████████████████████████████████████████▉                     | 924/1261 [11:03<04:13,  1.33it/s]"
     ]
    },
    {
     "name": "stdout",
     "output_type": "stream",
     "text": [
      "ret 0.0001560872706447003\n",
      "LA.norm(trackline.diffs)>15*np.std(coefnorm): -93.7279317016\n",
      "dist_diff 2.90676583665\n"
     ]
    },
    {
     "name": "stderr",
     "output_type": "stream",
     "text": [
      "\r",
      " 73%|█████████████████████████████████████████████████████████▉                     | 925/1261 [11:04<04:10,  1.34it/s]"
     ]
    },
    {
     "name": "stdout",
     "output_type": "stream",
     "text": [
      "ret 7.342051673164818e-05\n",
      "LA.norm(trackline.diffs)>15*np.std(coefnorm): -97.3451178889\n",
      "dist_diff 3.36586952561\n"
     ]
    },
    {
     "name": "stderr",
     "output_type": "stream",
     "text": [
      "\r",
      " 73%|██████████████████████████████████████████████████████████                     | 926/1261 [11:05<04:07,  1.35it/s]"
     ]
    },
    {
     "name": "stdout",
     "output_type": "stream",
     "text": [
      "ret 8.715526367453208e-05\n",
      "LA.norm(trackline.diffs)>15*np.std(coefnorm): -109.518938422\n",
      "dist_diff 0.830988886061\n"
     ]
    },
    {
     "name": "stderr",
     "output_type": "stream",
     "text": [
      "\r",
      " 74%|██████████████████████████████████████████████████████████                     | 927/1261 [11:05<04:07,  1.35it/s]"
     ]
    },
    {
     "name": "stdout",
     "output_type": "stream",
     "text": [
      "ret 1.4747392080571853e-05\n",
      "LA.norm(trackline.diffs)>15*np.std(coefnorm): -104.983192792\n",
      "dist_diff 1.21443820935\n"
     ]
    },
    {
     "name": "stderr",
     "output_type": "stream",
     "text": [
      "\r",
      " 74%|██████████████████████████████████████████████████████████▏                    | 928/1261 [11:06<04:07,  1.34it/s]"
     ]
    },
    {
     "name": "stdout",
     "output_type": "stream",
     "text": [
      "ret 3.647073007762014e-06\n",
      "LA.norm(trackline.diffs)>15*np.std(coefnorm): -86.5930776191\n",
      "dist_diff 5.64084938392\n"
     ]
    },
    {
     "name": "stderr",
     "output_type": "stream",
     "text": [
      "\r",
      " 74%|██████████████████████████████████████████████████████████▏                    | 929/1261 [11:07<04:05,  1.35it/s]"
     ]
    },
    {
     "name": "stdout",
     "output_type": "stream",
     "text": [
      "ret 7.530149758733229e-05\n",
      "LA.norm(trackline.diffs)>15*np.std(coefnorm): -57.2962074639\n",
      "dist_diff 0.335250483262\n"
     ]
    },
    {
     "name": "stderr",
     "output_type": "stream",
     "text": [
      "\r",
      " 74%|██████████████████████████████████████████████████████████▎                    | 930/1261 [11:08<04:04,  1.35it/s]"
     ]
    },
    {
     "name": "stdout",
     "output_type": "stream",
     "text": [
      "ret 2.4659505329149844e-05\n",
      "LA.norm(trackline.diffs)>15*np.std(coefnorm): -22.9913370764\n",
      "dist_diff 1.821101965\n"
     ]
    },
    {
     "name": "stderr",
     "output_type": "stream",
     "text": [
      "\r",
      " 74%|██████████████████████████████████████████████████████████▎                    | 931/1261 [11:08<04:04,  1.35it/s]"
     ]
    },
    {
     "name": "stdout",
     "output_type": "stream",
     "text": [
      "ret 2.647438458158735e-05\n",
      "LA.norm(trackline.diffs)>15*np.std(coefnorm): -29.9983444683\n",
      "dist_diff 4.2737657661\n"
     ]
    },
    {
     "name": "stderr",
     "output_type": "stream",
     "text": [
      "\r",
      " 74%|██████████████████████████████████████████████████████████▍                    | 932/1261 [11:09<04:04,  1.34it/s]"
     ]
    },
    {
     "name": "stdout",
     "output_type": "stream",
     "text": [
      "ret 0.00011035687961985507\n",
      "LA.norm(trackline.diffs)>15*np.std(coefnorm): -28.1818671266\n",
      "dist_diff 0.44446254146\n"
     ]
    },
    {
     "name": "stderr",
     "output_type": "stream",
     "text": [
      "\r",
      " 74%|██████████████████████████████████████████████████████████▍                    | 933/1261 [11:10<04:02,  1.35it/s]"
     ]
    },
    {
     "name": "stdout",
     "output_type": "stream",
     "text": [
      "ret 0.00012674664357109622\n",
      "LA.norm(trackline.diffs)>15*np.std(coefnorm): -59.6732279796\n",
      "dist_diff 3.68474187181\n"
     ]
    },
    {
     "name": "stderr",
     "output_type": "stream",
     "text": [
      "\r",
      " 74%|██████████████████████████████████████████████████████████▌                    | 934/1261 [11:11<04:01,  1.35it/s]"
     ]
    },
    {
     "name": "stdout",
     "output_type": "stream",
     "text": [
      "ret 0.00014747265914816232\n",
      "LA.norm(trackline.diffs)>15*np.std(coefnorm): -56.1703810805\n",
      "dist_diff 0.422108302267\n"
     ]
    },
    {
     "name": "stderr",
     "output_type": "stream",
     "text": [
      "\r",
      " 74%|██████████████████████████████████████████████████████████▌                    | 935/1261 [11:11<04:01,  1.35it/s]"
     ]
    },
    {
     "name": "stdout",
     "output_type": "stream",
     "text": [
      "ret 0.0001385396165145547\n",
      "LA.norm(trackline.diffs)>15*np.std(coefnorm): -67.8631628197\n",
      "dist_diff 1.00427350337\n"
     ]
    },
    {
     "name": "stderr",
     "output_type": "stream",
     "text": [
      "\r",
      " 74%|██████████████████████████████████████████████████████████▋                    | 936/1261 [11:12<04:01,  1.34it/s]"
     ]
    },
    {
     "name": "stdout",
     "output_type": "stream",
     "text": [
      "ret 8.969146754633783e-06\n",
      "LA.norm(trackline.diffs)>15*np.std(coefnorm): -103.918672435\n",
      "dist_diff 2.80714518843\n"
     ]
    },
    {
     "name": "stderr",
     "output_type": "stream",
     "text": [
      "\r",
      " 74%|██████████████████████████████████████████████████████████▋                    | 937/1261 [11:13<03:59,  1.35it/s]"
     ]
    },
    {
     "name": "stdout",
     "output_type": "stream",
     "text": [
      "ret 5.748661305149394e-05\n",
      "LA.norm(trackline.diffs)>15*np.std(coefnorm): -126.252390609\n",
      "dist_diff 3.73085009496\n"
     ]
    },
    {
     "name": "stderr",
     "output_type": "stream",
     "text": [
      "\r",
      " 74%|██████████████████████████████████████████████████████████▊                    | 938/1261 [11:14<03:59,  1.35it/s]"
     ]
    },
    {
     "name": "stdout",
     "output_type": "stream",
     "text": [
      "ret 7.64373219213077e-05\n",
      "LA.norm(trackline.diffs)>15*np.std(coefnorm): -155.840346197\n",
      "dist_diff 2.93954232111\n"
     ]
    },
    {
     "name": "stderr",
     "output_type": "stream",
     "text": [
      "\r",
      " 74%|██████████████████████████████████████████████████████████▊                    | 939/1261 [11:14<03:58,  1.35it/s]"
     ]
    },
    {
     "name": "stdout",
     "output_type": "stream",
     "text": [
      "ret 7.744947841969996e-05\n",
      "LA.norm(trackline.diffs)>15*np.std(coefnorm): -155.532122753\n",
      "dist_diff 3.43441850666\n"
     ]
    },
    {
     "name": "stderr",
     "output_type": "stream",
     "text": [
      "\r",
      " 75%|██████████████████████████████████████████████████████████▉                    | 940/1261 [11:15<03:57,  1.35it/s]"
     ]
    },
    {
     "name": "stdout",
     "output_type": "stream",
     "text": [
      "ret 1.869773165769084e-05\n",
      "LA.norm(trackline.diffs)>15*np.std(coefnorm): -160.49285584\n",
      "dist_diff 3.28861812399\n"
     ]
    },
    {
     "name": "stderr",
     "output_type": "stream",
     "text": [
      "\r",
      " 75%|██████████████████████████████████████████████████████████▉                    | 941/1261 [11:16<03:56,  1.35it/s]"
     ]
    },
    {
     "name": "stdout",
     "output_type": "stream",
     "text": [
      "ret 2.460614138960482e-05\n",
      "LA.norm(trackline.diffs)>15*np.std(coefnorm): -154.145432235\n",
      "dist_diff 2.53926903569\n"
     ]
    },
    {
     "name": "stderr",
     "output_type": "stream",
     "text": [
      "\r",
      " 75%|███████████████████████████████████████████████████████████                    | 942/1261 [11:17<03:59,  1.33it/s]"
     ]
    },
    {
     "name": "stdout",
     "output_type": "stream",
     "text": [
      "ret 8.04150350923738e-05\n",
      "LA.norm(trackline.diffs)>15*np.std(coefnorm): -147.019580011\n",
      "dist_diff 11.446350975\n"
     ]
    },
    {
     "name": "stderr",
     "output_type": "stream",
     "text": [
      "\r",
      " 75%|███████████████████████████████████████████████████████████                    | 943/1261 [11:17<03:57,  1.34it/s]"
     ]
    },
    {
     "name": "stdout",
     "output_type": "stream",
     "text": [
      "ret 0.0001405083976929733\n",
      "LA.norm(trackline.diffs)>15*np.std(coefnorm): -147.654055886\n",
      "dist_diff 7.11383620836\n"
     ]
    },
    {
     "name": "stderr",
     "output_type": "stream",
     "text": [
      "\r",
      " 75%|███████████████████████████████████████████████████████████▏                   | 944/1261 [11:18<03:57,  1.34it/s]"
     ]
    },
    {
     "name": "stdout",
     "output_type": "stream",
     "text": [
      "ret 6.200001363743102e-05\n",
      "LA.norm(trackline.diffs)>15*np.std(coefnorm): -134.289402368\n",
      "dist_diff 0.832032107961\n"
     ]
    },
    {
     "name": "stderr",
     "output_type": "stream",
     "text": [
      "\r",
      " 75%|███████████████████████████████████████████████████████████▏                   | 945/1261 [11:19<03:55,  1.34it/s]"
     ]
    },
    {
     "name": "stdout",
     "output_type": "stream",
     "text": [
      "ret 9.362508804622305e-06\n",
      "LA.norm(trackline.diffs)>15*np.std(coefnorm): -98.0606940859\n",
      "dist_diff 1.17534838234\n"
     ]
    },
    {
     "name": "stderr",
     "output_type": "stream",
     "text": [
      "\r",
      " 75%|███████████████████████████████████████████████████████████▎                   | 946/1261 [11:20<03:57,  1.33it/s]"
     ]
    },
    {
     "name": "stdout",
     "output_type": "stream",
     "text": [
      "ret 5.312481779151668e-06\n",
      "LA.norm(trackline.diffs)>15*np.std(coefnorm): -52.2774371069\n",
      "dist_diff 7.32025557242\n"
     ]
    },
    {
     "name": "stderr",
     "output_type": "stream",
     "text": [
      "\r",
      " 75%|███████████████████████████████████████████████████████████▎                   | 947/1261 [11:20<03:55,  1.33it/s]"
     ]
    },
    {
     "name": "stdout",
     "output_type": "stream",
     "text": [
      "ret 7.271476840753355e-05\n",
      "LA.norm(trackline.diffs)>15*np.std(coefnorm): -44.3211106087\n",
      "dist_diff 0.075680841362\n"
     ]
    },
    {
     "name": "stderr",
     "output_type": "stream",
     "text": [
      "\r",
      " 75%|███████████████████████████████████████████████████████████▍                   | 948/1261 [11:21<03:55,  1.33it/s]"
     ]
    },
    {
     "name": "stdout",
     "output_type": "stream",
     "text": [
      "ret 4.4942910416012616e-05\n",
      "LA.norm(trackline.diffs)>15*np.std(coefnorm): -35.020209024\n",
      "dist_diff 3.27916758419\n"
     ]
    },
    {
     "name": "stderr",
     "output_type": "stream",
     "text": [
      "\r",
      " 75%|███████████████████████████████████████████████████████████▍                   | 949/1261 [11:22<03:54,  1.33it/s]"
     ]
    },
    {
     "name": "stdout",
     "output_type": "stream",
     "text": [
      "ret 0.00011787482374203684\n",
      "LA.norm(trackline.diffs)>15*np.std(coefnorm): -31.7692393442\n",
      "dist_diff 2.53269767192\n"
     ]
    },
    {
     "name": "stderr",
     "output_type": "stream",
     "text": [
      "\r",
      " 75%|███████████████████████████████████████████████████████████▌                   | 950/1261 [11:23<03:54,  1.33it/s]"
     ]
    },
    {
     "name": "stdout",
     "output_type": "stream",
     "text": [
      "ret 5.653929537291491e-05\n",
      "LA.norm(trackline.diffs)>15*np.std(coefnorm): -37.0047220121\n",
      "dist_diff 0.0290170040801\n"
     ]
    },
    {
     "name": "stderr",
     "output_type": "stream",
     "text": [
      "\r",
      " 75%|███████████████████████████████████████████████████████████▌                   | 951/1261 [11:23<03:52,  1.33it/s]"
     ]
    },
    {
     "name": "stdout",
     "output_type": "stream",
     "text": [
      "ret 8.188874898301668e-05\n",
      "LA.norm(trackline.diffs)>15*np.std(coefnorm): -31.0865529985\n",
      "dist_diff 7.39172328113\n"
     ]
    },
    {
     "name": "stderr",
     "output_type": "stream",
     "text": [
      "\r",
      " 75%|███████████████████████████████████████████████████████████▋                   | 952/1261 [11:24<03:52,  1.33it/s]"
     ]
    },
    {
     "name": "stdout",
     "output_type": "stream",
     "text": [
      "ret 4.31379301611412e-05\n",
      "LA.norm(trackline.diffs)>15*np.std(coefnorm): -56.9329839273\n",
      "dist_diff 13.3213676969\n"
     ]
    },
    {
     "name": "stderr",
     "output_type": "stream",
     "text": [
      "\r",
      " 76%|███████████████████████████████████████████████████████████▋                   | 953/1261 [11:25<03:52,  1.32it/s]"
     ]
    },
    {
     "name": "stdout",
     "output_type": "stream",
     "text": [
      "ret 0.00010842456406473522\n",
      "LA.norm(trackline.diffs)>15*np.std(coefnorm): -47.7200723448\n",
      "dist_diff 1.46847991232\n"
     ]
    },
    {
     "name": "stderr",
     "output_type": "stream",
     "text": [
      "\r",
      " 76%|███████████████████████████████████████████████████████████▊                   | 954/1261 [11:26<03:51,  1.33it/s]"
     ]
    },
    {
     "name": "stdout",
     "output_type": "stream",
     "text": [
      "ret 5.267684753496038e-05\n",
      "LA.norm(trackline.diffs)>15*np.std(coefnorm): -61.4721624249\n",
      "dist_diff 3.65026284059\n"
     ]
    },
    {
     "name": "stderr",
     "output_type": "stream",
     "text": [
      "\r",
      " 76%|███████████████████████████████████████████████████████████▊                   | 955/1261 [11:26<03:49,  1.33it/s]"
     ]
    },
    {
     "name": "stdout",
     "output_type": "stream",
     "text": [
      "ret 6.692758523985098e-05\n",
      "LA.norm(trackline.diffs)>15*np.std(coefnorm): -46.827690527\n",
      "dist_diff 4.9477988554\n"
     ]
    },
    {
     "name": "stderr",
     "output_type": "stream",
     "text": [
      "\r",
      " 76%|███████████████████████████████████████████████████████████▉                   | 956/1261 [11:27<03:49,  1.33it/s]"
     ]
    },
    {
     "name": "stdout",
     "output_type": "stream",
     "text": [
      "ret 0.0001126709136236026\n",
      "LA.norm(trackline.diffs)>15*np.std(coefnorm): -52.8903903147\n",
      "dist_diff 0.955607524962\n"
     ]
    },
    {
     "name": "stderr",
     "output_type": "stream",
     "text": [
      "\r",
      " 76%|███████████████████████████████████████████████████████████▉                   | 957/1261 [11:28<03:48,  1.33it/s]"
     ]
    },
    {
     "name": "stdout",
     "output_type": "stream",
     "text": [
      "ret 7.229405506992137e-05\n",
      "LA.norm(trackline.diffs)>15*np.std(coefnorm): -56.236083916\n",
      "dist_diff 4.08415471142\n"
     ]
    },
    {
     "name": "stderr",
     "output_type": "stream",
     "text": [
      "\r",
      " 76%|████████████████████████████████████████████████████████████                   | 958/1261 [11:29<03:46,  1.34it/s]"
     ]
    },
    {
     "name": "stdout",
     "output_type": "stream",
     "text": [
      "ret 1.4123635144580593e-05\n",
      "LA.norm(trackline.diffs)>15*np.std(coefnorm): -74.7192500295\n",
      "dist_diff 7.18214333117\n"
     ]
    },
    {
     "name": "stderr",
     "output_type": "stream",
     "text": [
      "\r",
      " 76%|████████████████████████████████████████████████████████████                   | 959/1261 [11:29<03:46,  1.33it/s]"
     ]
    },
    {
     "name": "stdout",
     "output_type": "stream",
     "text": [
      "ret 0.0001864882567613746\n",
      "LA.norm(trackline.diffs)>15*np.std(coefnorm): -57.3666906046\n",
      "dist_diff 1.52029849412\n"
     ]
    },
    {
     "name": "stderr",
     "output_type": "stream",
     "text": [
      "\r",
      " 76%|████████████████████████████████████████████████████████████▏                  | 960/1261 [11:30<03:47,  1.32it/s]"
     ]
    },
    {
     "name": "stdout",
     "output_type": "stream",
     "text": [
      "ret 1.0353053994383021e-05\n",
      "LA.norm(trackline.diffs)>15*np.std(coefnorm): -65.0175380111\n",
      "dist_diff 0.438295635381\n"
     ]
    },
    {
     "name": "stderr",
     "output_type": "stream",
     "text": [
      "\r",
      " 76%|████████████████████████████████████████████████████████████▏                  | 961/1261 [11:31<03:45,  1.33it/s]"
     ]
    },
    {
     "name": "stdout",
     "output_type": "stream",
     "text": [
      "ret 5.967163997772085e-05\n",
      "LA.norm(trackline.diffs)>15*np.std(coefnorm): -74.1748330189\n",
      "dist_diff 4.07104001723\n"
     ]
    },
    {
     "name": "stderr",
     "output_type": "stream",
     "text": [
      "\r",
      " 76%|████████████████████████████████████████████████████████████▎                  | 962/1261 [11:32<03:42,  1.34it/s]"
     ]
    },
    {
     "name": "stdout",
     "output_type": "stream",
     "text": [
      "ret 4.351325573342946e-05\n",
      "LA.norm(trackline.diffs)>15*np.std(coefnorm): -87.2143307223\n",
      "dist_diff 0.806034357473\n"
     ]
    },
    {
     "name": "stderr",
     "output_type": "stream",
     "text": [
      "\r",
      " 76%|████████████████████████████████████████████████████████████▎                  | 963/1261 [11:32<03:43,  1.33it/s]"
     ]
    },
    {
     "name": "stdout",
     "output_type": "stream",
     "text": [
      "ret 0.00010728525825054458\n",
      "LA.norm(trackline.diffs)>15*np.std(coefnorm): -103.95055906\n",
      "dist_diff 0.847662941826\n"
     ]
    },
    {
     "name": "stderr",
     "output_type": "stream",
     "text": [
      "\r",
      " 76%|████████████████████████████████████████████████████████████▍                  | 964/1261 [11:33<03:43,  1.33it/s]"
     ]
    },
    {
     "name": "stdout",
     "output_type": "stream",
     "text": [
      "ret 9.479680967422466e-05\n",
      "LA.norm(trackline.diffs)>15*np.std(coefnorm): -105.765537084\n",
      "dist_diff 5.52935211321\n"
     ]
    },
    {
     "name": "stderr",
     "output_type": "stream",
     "text": [
      "\r",
      " 77%|████████████████████████████████████████████████████████████▍                  | 965/1261 [11:34<03:42,  1.33it/s]"
     ]
    },
    {
     "name": "stdout",
     "output_type": "stream",
     "text": [
      "ret 0.00011059522916168074\n",
      "LA.norm(trackline.diffs)>15*np.std(coefnorm): -104.053713884\n",
      "dist_diff 11.3948094814\n"
     ]
    },
    {
     "name": "stderr",
     "output_type": "stream",
     "text": [
      "\r",
      " 77%|████████████████████████████████████████████████████████████▌                  | 966/1261 [11:35<03:41,  1.33it/s]"
     ]
    },
    {
     "name": "stdout",
     "output_type": "stream",
     "text": [
      "ret 0.00017167594155320653\n",
      "LA.norm(trackline.diffs)>15*np.std(coefnorm): -105.173065691\n",
      "dist_diff 3.96948426251\n"
     ]
    },
    {
     "name": "stderr",
     "output_type": "stream",
     "text": [
      "\r",
      " 77%|████████████████████████████████████████████████████████████▌                  | 967/1261 [11:35<03:42,  1.32it/s]"
     ]
    },
    {
     "name": "stdout",
     "output_type": "stream",
     "text": [
      "ret 6.141863216307941e-05\n",
      "LA.norm(trackline.diffs)>15*np.std(coefnorm): -98.5096017585\n",
      "dist_diff 1.64109285451\n"
     ]
    },
    {
     "name": "stderr",
     "output_type": "stream",
     "text": [
      "\r",
      " 77%|████████████████████████████████████████████████████████████▋                  | 968/1261 [11:36<03:42,  1.31it/s]"
     ]
    },
    {
     "name": "stdout",
     "output_type": "stream",
     "text": [
      "ret 0.00013011244170318959\n",
      "LA.norm(trackline.diffs)>15*np.std(coefnorm): -108.373530732\n",
      "dist_diff 0.0288141404609\n"
     ]
    },
    {
     "name": "stderr",
     "output_type": "stream",
     "text": [
      "\r",
      " 77%|████████████████████████████████████████████████████████████▋                  | 969/1261 [11:37<03:41,  1.32it/s]"
     ]
    },
    {
     "name": "stdout",
     "output_type": "stream",
     "text": [
      "ret 8.692678192862013e-05\n",
      "LA.norm(trackline.diffs)>15*np.std(coefnorm): -141.565767387\n",
      "dist_diff 4.91665680565\n"
     ]
    },
    {
     "name": "stderr",
     "output_type": "stream",
     "text": [
      "\r",
      " 77%|████████████████████████████████████████████████████████████▊                  | 970/1261 [11:38<03:40,  1.32it/s]"
     ]
    },
    {
     "name": "stdout",
     "output_type": "stream",
     "text": [
      "ret 2.2734219779996234e-05\n",
      "LA.norm(trackline.diffs)>15*np.std(coefnorm): -170.885213349\n",
      "dist_diff 2.08295026321\n"
     ]
    },
    {
     "name": "stderr",
     "output_type": "stream",
     "text": [
      "\r",
      " 77%|████████████████████████████████████████████████████████████▊                  | 971/1261 [11:38<03:38,  1.33it/s]"
     ]
    },
    {
     "name": "stdout",
     "output_type": "stream",
     "text": [
      "ret 5.945639427623606e-05\n",
      "LA.norm(trackline.diffs)>15*np.std(coefnorm): -184.287848714\n",
      "dist_diff 1.6955965096\n"
     ]
    },
    {
     "name": "stderr",
     "output_type": "stream",
     "text": [
      "\r",
      " 77%|████████████████████████████████████████████████████████████▉                  | 972/1261 [11:39<03:37,  1.33it/s]"
     ]
    },
    {
     "name": "stdout",
     "output_type": "stream",
     "text": [
      "ret 4.653764363471424e-05\n",
      "LA.norm(trackline.diffs)>15*np.std(coefnorm): -201.855741016\n",
      "dist_diff 2.99947557934\n"
     ]
    },
    {
     "name": "stderr",
     "output_type": "stream",
     "text": [
      "\r",
      " 77%|████████████████████████████████████████████████████████████▉                  | 973/1261 [11:40<03:35,  1.33it/s]"
     ]
    },
    {
     "name": "stdout",
     "output_type": "stream",
     "text": [
      "ret 0.0002138882350410931\n",
      "LA.norm(trackline.diffs)>15*np.std(coefnorm): -198.236763958\n",
      "dist_diff 4.25379008451\n"
     ]
    },
    {
     "name": "stderr",
     "output_type": "stream",
     "text": [
      "\r",
      " 77%|█████████████████████████████████████████████████████████████                  | 974/1261 [11:41<03:42,  1.29it/s]"
     ]
    },
    {
     "name": "stdout",
     "output_type": "stream",
     "text": [
      "ret 0.0004291115470397844\n",
      "LA.norm(trackline.diffs)>15*np.std(coefnorm): -192.264277715\n",
      "dist_diff 20.4119092544\n"
     ]
    },
    {
     "name": "stderr",
     "output_type": "stream",
     "text": [
      "\r",
      " 77%|█████████████████████████████████████████████████████████████                  | 975/1261 [11:42<03:44,  1.27it/s]"
     ]
    },
    {
     "name": "stdout",
     "output_type": "stream",
     "text": [
      "ret 0.0004434682583586702\n",
      "LA.norm(trackline.diffs)>15*np.std(coefnorm): -183.504681445\n",
      "dist_diff 38.2007410998\n"
     ]
    },
    {
     "name": "stderr",
     "output_type": "stream",
     "text": [
      "\r",
      " 77%|█████████████████████████████████████████████████████████████▏                 | 976/1261 [11:42<03:40,  1.29it/s]"
     ]
    },
    {
     "name": "stdout",
     "output_type": "stream",
     "text": [
      "ret 0.000254583607471659\n",
      "LA.norm(trackline.diffs)>15*np.std(coefnorm): -200.847723252\n",
      "dist_diff 44.2532868613\n"
     ]
    },
    {
     "name": "stderr",
     "output_type": "stream",
     "text": [
      "\r",
      " 77%|█████████████████████████████████████████████████████████████▏                 | 977/1261 [11:43<03:38,  1.30it/s]"
     ]
    },
    {
     "name": "stdout",
     "output_type": "stream",
     "text": [
      "ret 0.0001116968256251738\n",
      "LA.norm(trackline.diffs)>15*np.std(coefnorm): -220.917695456\n",
      "dist_diff 18.8518382853\n"
     ]
    },
    {
     "name": "stderr",
     "output_type": "stream",
     "text": [
      "\r",
      " 78%|█████████████████████████████████████████████████████████████▎                 | 978/1261 [11:44<03:36,  1.31it/s]"
     ]
    },
    {
     "name": "stdout",
     "output_type": "stream",
     "text": [
      "ret 0.00042092400460452817\n",
      "LA.norm(trackline.diffs)>15*np.std(coefnorm): -179.450576812\n",
      "dist_diff 26.387599031\n"
     ]
    },
    {
     "name": "stderr",
     "output_type": "stream",
     "text": [
      "\r",
      " 78%|█████████████████████████████████████████████████████████████▎                 | 979/1261 [11:45<03:34,  1.32it/s]"
     ]
    },
    {
     "name": "stdout",
     "output_type": "stream",
     "text": [
      "ret 0.0001377254083420043\n",
      "LA.norm(trackline.diffs)>15*np.std(coefnorm): -208.831632172\n",
      "dist_diff 15.8512776264\n"
     ]
    },
    {
     "name": "stderr",
     "output_type": "stream",
     "text": [
      "\r",
      " 78%|█████████████████████████████████████████████████████████████▍                 | 980/1261 [11:45<03:32,  1.32it/s]"
     ]
    },
    {
     "name": "stdout",
     "output_type": "stream",
     "text": [
      "ret 0.00045539013213174995\n",
      "LA.norm(trackline.diffs)>15*np.std(coefnorm): -178.435822767\n",
      "dist_diff 9.68940452037\n"
     ]
    },
    {
     "name": "stderr",
     "output_type": "stream",
     "text": [
      "\r",
      " 78%|█████████████████████████████████████████████████████████████▍                 | 981/1261 [11:46<03:32,  1.32it/s]"
     ]
    },
    {
     "name": "stdout",
     "output_type": "stream",
     "text": [
      "ret 6.290443070255947e-05\n",
      "LA.norm(trackline.diffs)>15*np.std(coefnorm): -223.085393248\n",
      "dist_diff 6.63719053721\n"
     ]
    },
    {
     "name": "stderr",
     "output_type": "stream",
     "text": [
      "\r",
      " 78%|█████████████████████████████████████████████████████████████▌                 | 982/1261 [11:47<03:33,  1.31it/s]"
     ]
    },
    {
     "name": "stdout",
     "output_type": "stream",
     "text": [
      "ret 0.00010745296561770479\n",
      "LA.norm(trackline.diffs)>15*np.std(coefnorm): -248.309506698\n",
      "dist_diff 2.04643391318\n"
     ]
    },
    {
     "name": "stderr",
     "output_type": "stream",
     "text": [
      "\r",
      " 78%|█████████████████████████████████████████████████████████████▌                 | 983/1261 [11:48<03:31,  1.31it/s]"
     ]
    },
    {
     "name": "stdout",
     "output_type": "stream",
     "text": [
      "ret 0.0004536746538159053\n",
      "LA.norm(trackline.diffs)>15*np.std(coefnorm): -172.374419387\n",
      "dist_diff 4.40952792402\n"
     ]
    },
    {
     "name": "stderr",
     "output_type": "stream",
     "text": [
      "\r",
      " 78%|█████████████████████████████████████████████████████████████▋                 | 984/1261 [11:48<03:31,  1.31it/s]"
     ]
    },
    {
     "name": "stdout",
     "output_type": "stream",
     "text": [
      "ret 0.0002469633380602354\n",
      "LA.norm(trackline.diffs)>15*np.std(coefnorm): -237.671266098\n",
      "dist_diff 6.88797510415\n"
     ]
    },
    {
     "name": "stderr",
     "output_type": "stream",
     "text": [
      "\r",
      " 78%|█████████████████████████████████████████████████████████████▋                 | 985/1261 [11:49<03:31,  1.31it/s]"
     ]
    },
    {
     "name": "stdout",
     "output_type": "stream",
     "text": [
      "ret 6.471967947857538e-05\n",
      "LA.norm(trackline.diffs)>15*np.std(coefnorm): -212.137785615\n",
      "dist_diff 0.722851748392\n"
     ]
    },
    {
     "name": "stderr",
     "output_type": "stream",
     "text": [
      "\r",
      " 78%|█████████████████████████████████████████████████████████████▊                 | 986/1261 [11:50<03:29,  1.31it/s]"
     ]
    },
    {
     "name": "stdout",
     "output_type": "stream",
     "text": [
      "ret 1.985981012586624e-06\n",
      "LA.norm(trackline.diffs)>15*np.std(coefnorm): -187.776958456\n",
      "dist_diff 3.12212781057\n"
     ]
    },
    {
     "name": "stderr",
     "output_type": "stream",
     "text": [
      "\r",
      " 78%|█████████████████████████████████████████████████████████████▊                 | 987/1261 [11:51<03:29,  1.31it/s]"
     ]
    },
    {
     "name": "stdout",
     "output_type": "stream",
     "text": [
      "ret 1.982298089575618e-05\n",
      "LA.norm(trackline.diffs)>15*np.std(coefnorm): -188.453778961\n",
      "dist_diff 0.976721534113\n"
     ]
    },
    {
     "name": "stderr",
     "output_type": "stream",
     "text": [
      "\r",
      " 78%|█████████████████████████████████████████████████████████████▉                 | 988/1261 [11:51<03:29,  1.30it/s]"
     ]
    },
    {
     "name": "stdout",
     "output_type": "stream",
     "text": [
      "ret 8.27334093607135e-05\n",
      "LA.norm(trackline.diffs)>15*np.std(coefnorm): -120.437200045\n",
      "dist_diff 17.8057298347\n"
     ]
    },
    {
     "name": "stderr",
     "output_type": "stream",
     "text": [
      "\r",
      " 78%|█████████████████████████████████████████████████████████████▉                 | 989/1261 [11:52<03:28,  1.30it/s]"
     ]
    },
    {
     "name": "stdout",
     "output_type": "stream",
     "text": [
      "ret 6.390159179686661e-05\n",
      "LA.norm(trackline.diffs)>15*np.std(coefnorm): -63.1255833377\n",
      "dist_diff 18.3653957538\n"
     ]
    },
    {
     "name": "stderr",
     "output_type": "stream",
     "text": [
      "\r",
      " 79%|██████████████████████████████████████████████████████████████                 | 990/1261 [11:53<03:27,  1.30it/s]"
     ]
    },
    {
     "name": "stdout",
     "output_type": "stream",
     "text": [
      "ret 0.0001877264539490442\n",
      "LA.norm(trackline.diffs)>15*np.std(coefnorm): -122.957822156\n",
      "dist_diff 21.3757992112\n"
     ]
    },
    {
     "name": "stderr",
     "output_type": "stream",
     "text": [
      "\r",
      " 79%|██████████████████████████████████████████████████████████████                 | 991/1261 [11:54<03:26,  1.31it/s]"
     ]
    },
    {
     "name": "stdout",
     "output_type": "stream",
     "text": [
      "ret 0.023989377051921223\n",
      "LA.norm(trackline.diffs)>15*np.std(coefnorm): 1345.63143661\n",
      "dist_diff 59.0594079063\n"
     ]
    },
    {
     "name": "stderr",
     "output_type": "stream",
     "text": [
      "\r",
      " 79%|██████████████████████████████████████████████████████████████▏                | 992/1261 [11:55<03:25,  1.31it/s]"
     ]
    },
    {
     "name": "stdout",
     "output_type": "stream",
     "text": [
      "ret 6.992428961494213e-05\n",
      "LA.norm(trackline.diffs)>15*np.std(coefnorm): -103.199014219\n",
      "dist_diff 37.5379216551\n"
     ]
    },
    {
     "name": "stderr",
     "output_type": "stream",
     "text": [
      "\r",
      " 79%|██████████████████████████████████████████████████████████████▏                | 993/1261 [11:55<03:24,  1.31it/s]"
     ]
    },
    {
     "name": "stdout",
     "output_type": "stream",
     "text": [
      "ret 0.0001348232335117161\n",
      "LA.norm(trackline.diffs)>15*np.std(coefnorm): -111.008073896\n",
      "dist_diff 10.1274455475\n"
     ]
    },
    {
     "name": "stderr",
     "output_type": "stream",
     "text": [
      "\r",
      " 79%|██████████████████████████████████████████████████████████████▎                | 994/1261 [11:56<03:23,  1.31it/s]"
     ]
    },
    {
     "name": "stdout",
     "output_type": "stream",
     "text": [
      "ret 0.04052445734949528\n",
      "LA.norm(trackline.diffs)>15*np.std(coefnorm): 4015.21563019\n",
      "dist_diff 78.6456380309\n"
     ]
    },
    {
     "name": "stderr",
     "output_type": "stream",
     "text": [
      "\r",
      " 79%|██████████████████████████████████████████████████████████████▎                | 995/1261 [11:57<03:22,  1.32it/s]"
     ]
    },
    {
     "name": "stdout",
     "output_type": "stream",
     "text": [
      "ret 2.041789065870825e-05\n",
      "LA.norm(trackline.diffs)>15*np.std(coefnorm): -185.515344801\n",
      "dist_diff 64.3634704281\n"
     ]
    },
    {
     "name": "stderr",
     "output_type": "stream",
     "text": [
      "\r",
      " 79%|██████████████████████████████████████████████████████████████▍                | 996/1261 [11:58<03:21,  1.31it/s]"
     ]
    },
    {
     "name": "stdout",
     "output_type": "stream",
     "text": [
      "ret 7.055239433384486e-05\n",
      "LA.norm(trackline.diffs)>15*np.std(coefnorm): -141.546617947\n",
      "dist_diff 1.87957235016\n"
     ]
    },
    {
     "name": "stderr",
     "output_type": "stream",
     "text": [
      "\r",
      " 79%|██████████████████████████████████████████████████████████████▍                | 997/1261 [11:58<03:20,  1.32it/s]"
     ]
    },
    {
     "name": "stdout",
     "output_type": "stream",
     "text": [
      "ret 5.483492069657814e-05\n",
      "LA.norm(trackline.diffs)>15*np.std(coefnorm): -123.629308204\n",
      "dist_diff 0.140361667545\n"
     ]
    },
    {
     "name": "stderr",
     "output_type": "stream",
     "text": [
      "\r",
      " 79%|██████████████████████████████████████████████████████████████▌                | 998/1261 [11:59<03:19,  1.32it/s]"
     ]
    },
    {
     "name": "stdout",
     "output_type": "stream",
     "text": [
      "ret 0.00023693445890421438\n",
      "LA.norm(trackline.diffs)>15*np.std(coefnorm): -157.748810373\n",
      "dist_diff 240.516245221\n"
     ]
    },
    {
     "name": "stderr",
     "output_type": "stream",
     "text": [
      "\r",
      " 79%|██████████████████████████████████████████████████████████████▌                | 999/1261 [12:00<03:18,  1.32it/s]"
     ]
    },
    {
     "name": "stdout",
     "output_type": "stream",
     "text": [
      "ret 0.00010034052161606022\n",
      "LA.norm(trackline.diffs)>15*np.std(coefnorm): -155.035093084\n",
      "dist_diff 214.966539206\n"
     ]
    },
    {
     "name": "stderr",
     "output_type": "stream",
     "text": [
      "\r",
      " 79%|█████████████████████████████████████████████████████████████▊                | 1000/1261 [12:01<03:18,  1.32it/s]"
     ]
    },
    {
     "name": "stdout",
     "output_type": "stream",
     "text": [
      "ret 5.2572969707676e-05\n",
      "LA.norm(trackline.diffs)>15*np.std(coefnorm): -139.623999704\n",
      "dist_diff 11.4869870772\n"
     ]
    },
    {
     "name": "stderr",
     "output_type": "stream",
     "text": [
      "\r",
      " 79%|█████████████████████████████████████████████████████████████▉                | 1001/1261 [12:01<03:17,  1.32it/s]"
     ]
    },
    {
     "name": "stdout",
     "output_type": "stream",
     "text": [
      "ret 5.6836712434671366e-05\n",
      "LA.norm(trackline.diffs)>15*np.std(coefnorm): -86.0043675097\n",
      "dist_diff 31.2618411039\n"
     ]
    },
    {
     "name": "stderr",
     "output_type": "stream",
     "text": [
      "\r",
      " 79%|█████████████████████████████████████████████████████████████▉                | 1002/1261 [12:02<03:16,  1.32it/s]"
     ]
    },
    {
     "name": "stdout",
     "output_type": "stream",
     "text": [
      "ret 6.391126339316822e-05\n",
      "LA.norm(trackline.diffs)>15*np.std(coefnorm): -30.3539721181\n",
      "dist_diff 7.1768776846\n"
     ]
    },
    {
     "name": "stderr",
     "output_type": "stream",
     "text": [
      "\r",
      " 80%|██████████████████████████████████████████████████████████████                | 1003/1261 [12:03<03:17,  1.31it/s]"
     ]
    },
    {
     "name": "stdout",
     "output_type": "stream",
     "text": [
      "ret 0.00018179184662503456\n",
      "LA.norm(trackline.diffs)>15*np.std(coefnorm): -10.0801730114\n",
      "dist_diff 14.7549563645\n"
     ]
    },
    {
     "name": "stderr",
     "output_type": "stream",
     "text": [
      "\r",
      " 80%|██████████████████████████████████████████████████████████████                | 1004/1261 [12:04<03:17,  1.30it/s]"
     ]
    },
    {
     "name": "stdout",
     "output_type": "stream",
     "text": [
      "ret 0.00019394579114490051\n",
      "LA.norm(trackline.diffs)>15*np.std(coefnorm): -26.1663132612\n",
      "dist_diff 3.72475691446\n"
     ]
    },
    {
     "name": "stderr",
     "output_type": "stream",
     "text": [
      "\r",
      " 80%|██████████████████████████████████████████████████████████████▏               | 1005/1261 [12:04<03:11,  1.34it/s]"
     ]
    },
    {
     "name": "stdout",
     "output_type": "stream",
     "text": [
      "ret 4.284028655476835e-05\n",
      "LA.norm(trackline.diffs)>15*np.std(coefnorm): -142.655273106\n",
      "dist_diff 14.2492696053\n"
     ]
    },
    {
     "name": "stderr",
     "output_type": "stream",
     "text": [
      "\r",
      " 80%|██████████████████████████████████████████████████████████████▏               | 1006/1261 [12:05<03:07,  1.36it/s]"
     ]
    },
    {
     "name": "stdout",
     "output_type": "stream",
     "text": [
      "ret 0.00037920519736728275\n",
      "LA.norm(trackline.diffs)>15*np.std(coefnorm): -119.596854858\n",
      "dist_diff 14.900534322\n"
     ]
    },
    {
     "name": "stderr",
     "output_type": "stream",
     "text": [
      "\r",
      " 80%|██████████████████████████████████████████████████████████████▎               | 1007/1261 [12:06<03:05,  1.37it/s]"
     ]
    },
    {
     "name": "stdout",
     "output_type": "stream",
     "text": [
      "ret 1.1064813176808741e-05\n",
      "LA.norm(trackline.diffs)>15*np.std(coefnorm): -156.512805172\n",
      "dist_diff 43.5187396875\n"
     ]
    },
    {
     "name": "stderr",
     "output_type": "stream",
     "text": [
      "\r",
      " 80%|██████████████████████████████████████████████████████████████▎               | 1008/1261 [12:07<03:02,  1.38it/s]"
     ]
    },
    {
     "name": "stdout",
     "output_type": "stream",
     "text": [
      "ret 0.00010371056415736657\n",
      "LA.norm(trackline.diffs)>15*np.std(coefnorm): -178.58520581\n",
      "dist_diff 0.989781491599\n"
     ]
    },
    {
     "name": "stderr",
     "output_type": "stream",
     "text": [
      "\r",
      " 80%|██████████████████████████████████████████████████████████████▍               | 1009/1261 [12:07<03:00,  1.39it/s]"
     ]
    },
    {
     "name": "stdout",
     "output_type": "stream",
     "text": [
      "ret 0.00010906847440111944\n",
      "LA.norm(trackline.diffs)>15*np.std(coefnorm): -164.744042838\n",
      "dist_diff 1.50206540084\n"
     ]
    },
    {
     "name": "stderr",
     "output_type": "stream",
     "text": [
      "\r",
      " 80%|██████████████████████████████████████████████████████████████▍               | 1010/1261 [12:08<02:59,  1.40it/s]"
     ]
    },
    {
     "name": "stdout",
     "output_type": "stream",
     "text": [
      "ret 0.00014435212655006247\n",
      "LA.norm(trackline.diffs)>15*np.std(coefnorm): -139.104943009\n",
      "dist_diff 4.42718991343\n"
     ]
    },
    {
     "name": "stderr",
     "output_type": "stream",
     "text": [
      "\r",
      " 80%|██████████████████████████████████████████████████████████████▌               | 1011/1261 [12:09<02:57,  1.41it/s]"
     ]
    },
    {
     "name": "stdout",
     "output_type": "stream",
     "text": [
      "ret 0.0001492179126146298\n",
      "LA.norm(trackline.diffs)>15*np.std(coefnorm): -34.2386929044\n",
      "dist_diff 11.5316586674\n"
     ]
    },
    {
     "name": "stderr",
     "output_type": "stream",
     "text": [
      "\r",
      " 80%|██████████████████████████████████████████████████████████████▌               | 1012/1261 [12:09<02:57,  1.40it/s]"
     ]
    },
    {
     "name": "stdout",
     "output_type": "stream",
     "text": [
      "ret 8.811550686205205e-05\n",
      "LA.norm(trackline.diffs)>15*np.std(coefnorm): -2.33833476001\n",
      "dist_diff 2.85669298993\n"
     ]
    },
    {
     "name": "stderr",
     "output_type": "stream",
     "text": [
      "\r",
      " 80%|██████████████████████████████████████████████████████████████▋               | 1013/1261 [12:10<02:55,  1.41it/s]"
     ]
    },
    {
     "name": "stdout",
     "output_type": "stream",
     "text": [
      "ret 4.3105671086118846e-05\n",
      "LA.norm(trackline.diffs)>15*np.std(coefnorm): -112.685715073\n",
      "dist_diff 0.283498543591\n"
     ]
    },
    {
     "name": "stderr",
     "output_type": "stream",
     "text": [
      "\r",
      " 80%|██████████████████████████████████████████████████████████████▋               | 1014/1261 [12:11<02:55,  1.41it/s]"
     ]
    },
    {
     "name": "stdout",
     "output_type": "stream",
     "text": [
      "ret 0.00010833565137946533\n",
      "LA.norm(trackline.diffs)>15*np.std(coefnorm): -182.281858665\n",
      "dist_diff 5.01925984314\n"
     ]
    },
    {
     "name": "stderr",
     "output_type": "stream",
     "text": [
      "\r",
      " 80%|██████████████████████████████████████████████████████████████▊               | 1015/1261 [12:11<02:54,  1.41it/s]"
     ]
    },
    {
     "name": "stdout",
     "output_type": "stream",
     "text": [
      "ret 6.542119710312155e-05\n",
      "LA.norm(trackline.diffs)>15*np.std(coefnorm): -286.111911846\n",
      "dist_diff 2.76745642238\n"
     ]
    },
    {
     "name": "stderr",
     "output_type": "stream",
     "text": [
      "\r",
      " 81%|██████████████████████████████████████████████████████████████▊               | 1016/1261 [12:12<02:53,  1.41it/s]"
     ]
    },
    {
     "name": "stdout",
     "output_type": "stream",
     "text": [
      "ret 5.3000273013470434e-05\n",
      "LA.norm(trackline.diffs)>15*np.std(coefnorm): -292.112269334\n",
      "dist_diff 18.3629442728\n"
     ]
    },
    {
     "name": "stderr",
     "output_type": "stream",
     "text": [
      "\r",
      " 81%|██████████████████████████████████████████████████████████████▉               | 1017/1261 [12:13<02:53,  1.41it/s]"
     ]
    },
    {
     "name": "stdout",
     "output_type": "stream",
     "text": [
      "ret 3.502795888032928e-05\n",
      "LA.norm(trackline.diffs)>15*np.std(coefnorm): -323.79737537\n",
      "dist_diff 2.89680054456\n"
     ]
    },
    {
     "name": "stderr",
     "output_type": "stream",
     "text": [
      "\r",
      " 81%|██████████████████████████████████████████████████████████████▉               | 1018/1261 [12:14<02:52,  1.41it/s]"
     ]
    },
    {
     "name": "stdout",
     "output_type": "stream",
     "text": [
      "ret 7.220491339865465e-05\n",
      "LA.norm(trackline.diffs)>15*np.std(coefnorm): -285.579728016\n",
      "dist_diff 2.84299209739\n"
     ]
    },
    {
     "name": "stderr",
     "output_type": "stream",
     "text": [
      "\r",
      " 81%|███████████████████████████████████████████████████████████████               | 1019/1261 [12:14<02:51,  1.41it/s]"
     ]
    },
    {
     "name": "stdout",
     "output_type": "stream",
     "text": [
      "ret 4.852726052251288e-05\n",
      "LA.norm(trackline.diffs)>15*np.std(coefnorm): -277.988775394\n",
      "dist_diff 1.49565673995\n"
     ]
    },
    {
     "name": "stderr",
     "output_type": "stream",
     "text": [
      "\r",
      " 81%|███████████████████████████████████████████████████████████████               | 1020/1261 [12:15<02:51,  1.41it/s]"
     ]
    },
    {
     "name": "stdout",
     "output_type": "stream",
     "text": [
      "ret 0.0001622593789039617\n",
      "LA.norm(trackline.diffs)>15*np.std(coefnorm): -194.768696633\n",
      "dist_diff 7.91448752807\n"
     ]
    },
    {
     "name": "stderr",
     "output_type": "stream",
     "text": [
      "\r",
      " 81%|███████████████████████████████████████████████████████████████▏              | 1021/1261 [12:16<02:50,  1.41it/s]"
     ]
    },
    {
     "name": "stdout",
     "output_type": "stream",
     "text": [
      "ret 5.946246718391279e-05\n",
      "LA.norm(trackline.diffs)>15*np.std(coefnorm): -183.503575242\n",
      "dist_diff 7.19936028117\n"
     ]
    },
    {
     "name": "stderr",
     "output_type": "stream",
     "text": [
      "\r",
      " 81%|███████████████████████████████████████████████████████████████▏              | 1022/1261 [12:16<02:49,  1.41it/s]"
     ]
    },
    {
     "name": "stdout",
     "output_type": "stream",
     "text": [
      "ret 4.331659572737179e-05\n",
      "LA.norm(trackline.diffs)>15*np.std(coefnorm): -177.470268079\n",
      "dist_diff 7.26928422384\n"
     ]
    },
    {
     "name": "stderr",
     "output_type": "stream",
     "text": [
      "\r",
      " 81%|███████████████████████████████████████████████████████████████▎              | 1023/1261 [12:17<02:48,  1.41it/s]"
     ]
    },
    {
     "name": "stdout",
     "output_type": "stream",
     "text": [
      "ret 0.00013357532156388352\n",
      "LA.norm(trackline.diffs)>15*np.std(coefnorm): -136.013392034\n",
      "dist_diff 13.6659281763\n"
     ]
    },
    {
     "name": "stderr",
     "output_type": "stream",
     "text": [
      "\r",
      " 81%|███████████████████████████████████████████████████████████████▎              | 1024/1261 [12:18<02:47,  1.41it/s]"
     ]
    },
    {
     "name": "stdout",
     "output_type": "stream",
     "text": [
      "ret 0.0001082969437794512\n",
      "LA.norm(trackline.diffs)>15*np.std(coefnorm): -133.614075955\n",
      "dist_diff 0.144695182798\n"
     ]
    },
    {
     "name": "stderr",
     "output_type": "stream",
     "text": [
      "\r",
      " 81%|███████████████████████████████████████████████████████████████▍              | 1025/1261 [12:19<02:47,  1.41it/s]"
     ]
    },
    {
     "name": "stdout",
     "output_type": "stream",
     "text": [
      "ret 0.00010900103786254389\n",
      "LA.norm(trackline.diffs)>15*np.std(coefnorm): -66.0032919041\n",
      "dist_diff 7.21930404823\n"
     ]
    },
    {
     "name": "stderr",
     "output_type": "stream",
     "text": [
      "\r",
      " 81%|███████████████████████████████████████████████████████████████▍              | 1026/1261 [12:19<02:46,  1.41it/s]"
     ]
    },
    {
     "name": "stdout",
     "output_type": "stream",
     "text": [
      "ret 2.9911333716658994e-05\n",
      "LA.norm(trackline.diffs)>15*np.std(coefnorm): -15.575084353\n",
      "dist_diff 6.03554129267\n"
     ]
    },
    {
     "name": "stderr",
     "output_type": "stream",
     "text": [
      "\r",
      " 81%|███████████████████████████████████████████████████████████████▌              | 1027/1261 [12:20<02:46,  1.41it/s]"
     ]
    },
    {
     "name": "stdout",
     "output_type": "stream",
     "text": [
      "ret 0.00022501566392701955\n",
      "LA.norm(trackline.diffs)>15*np.std(coefnorm): -18.7149273138\n",
      "dist_diff 15.8010411621\n"
     ]
    },
    {
     "name": "stderr",
     "output_type": "stream",
     "text": [
      "\r",
      " 82%|███████████████████████████████████████████████████████████████▌              | 1028/1261 [12:21<02:45,  1.41it/s]"
     ]
    },
    {
     "name": "stdout",
     "output_type": "stream",
     "text": [
      "ret 0.0003430382506107721\n",
      "LA.norm(trackline.diffs)>15*np.std(coefnorm): -24.0088604411\n",
      "dist_diff 6.52409585596\n"
     ]
    },
    {
     "name": "stderr",
     "output_type": "stream",
     "text": [
      "\r",
      " 82%|███████████████████████████████████████████████████████████████▋              | 1029/1261 [12:21<02:45,  1.40it/s]"
     ]
    },
    {
     "name": "stdout",
     "output_type": "stream",
     "text": [
      "ret 6.358408746331978e-05\n",
      "LA.norm(trackline.diffs)>15*np.std(coefnorm): -47.2009090764\n",
      "dist_diff 0.808860969944\n"
     ]
    },
    {
     "name": "stderr",
     "output_type": "stream",
     "text": [
      "\r",
      " 82%|███████████████████████████████████████████████████████████████▋              | 1030/1261 [12:22<02:44,  1.41it/s]"
     ]
    },
    {
     "name": "stdout",
     "output_type": "stream",
     "text": [
      "ret 0.00026775795846534223\n",
      "LA.norm(trackline.diffs)>15*np.std(coefnorm): -4.35605030497\n",
      "dist_diff 8.66816693541\n"
     ]
    },
    {
     "name": "stderr",
     "output_type": "stream",
     "text": [
      "\r",
      " 82%|███████████████████████████████████████████████████████████████▊              | 1031/1261 [12:23<02:44,  1.40it/s]"
     ]
    },
    {
     "name": "stdout",
     "output_type": "stream",
     "text": [
      "ret 0.0002273257117026417\n",
      "LA.norm(trackline.diffs)>15*np.std(coefnorm): -8.90179694419\n",
      "dist_diff 3.39005792893\n"
     ]
    },
    {
     "name": "stderr",
     "output_type": "stream",
     "text": [
      "\r",
      " 82%|███████████████████████████████████████████████████████████████▊              | 1032/1261 [12:24<02:43,  1.40it/s]"
     ]
    },
    {
     "name": "stdout",
     "output_type": "stream",
     "text": [
      "ret 0.0001316205406479698\n",
      "LA.norm(trackline.diffs)>15*np.std(coefnorm): -28.5647813159\n",
      "dist_diff 6.81806792437\n"
     ]
    },
    {
     "name": "stderr",
     "output_type": "stream",
     "text": [
      "\r",
      " 82%|███████████████████████████████████████████████████████████████▉              | 1033/1261 [12:24<02:43,  1.40it/s]"
     ]
    },
    {
     "name": "stdout",
     "output_type": "stream",
     "text": [
      "ret 0.00018442511790095484\n",
      "LA.norm(trackline.diffs)>15*np.std(coefnorm): -54.8706242746\n",
      "dist_diff 0.566110756347\n"
     ]
    },
    {
     "name": "stderr",
     "output_type": "stream",
     "text": [
      "\r",
      " 82%|███████████████████████████████████████████████████████████████▉              | 1034/1261 [12:25<02:43,  1.39it/s]"
     ]
    },
    {
     "name": "stdout",
     "output_type": "stream",
     "text": [
      "ret 0.00029756979089190505\n",
      "LA.norm(trackline.diffs)>15*np.std(coefnorm): -65.9110301324\n",
      "dist_diff 2.92413597801\n"
     ]
    },
    {
     "name": "stderr",
     "output_type": "stream",
     "text": [
      "\r",
      " 82%|████████████████████████████████████████████████████████████████              | 1035/1261 [12:26<02:43,  1.38it/s]"
     ]
    },
    {
     "name": "stdout",
     "output_type": "stream",
     "text": [
      "ret 0.0006761060375100603\n",
      "LA.norm(trackline.diffs)>15*np.std(coefnorm): -108.601883085\n",
      "dist_diff 3.93308321468\n"
     ]
    },
    {
     "name": "stderr",
     "output_type": "stream",
     "text": [
      "\r",
      " 82%|████████████████████████████████████████████████████████████████              | 1036/1261 [12:26<02:42,  1.38it/s]"
     ]
    },
    {
     "name": "stdout",
     "output_type": "stream",
     "text": [
      "ret 0.0007007741706093196\n",
      "LA.norm(trackline.diffs)>15*np.std(coefnorm): -221.580575874\n",
      "dist_diff 20.6650199433\n"
     ]
    },
    {
     "name": "stderr",
     "output_type": "stream",
     "text": [
      "\r",
      " 82%|████████████████████████████████████████████████████████████████▏             | 1037/1261 [12:27<02:41,  1.38it/s]"
     ]
    },
    {
     "name": "stdout",
     "output_type": "stream",
     "text": [
      "ret 0.0007044778258747386\n",
      "LA.norm(trackline.diffs)>15*np.std(coefnorm): -210.340655129\n",
      "dist_diff 20.2932241831\n"
     ]
    },
    {
     "name": "stderr",
     "output_type": "stream",
     "text": [
      "\r",
      " 82%|████████████████████████████████████████████████████████████████▏             | 1038/1261 [12:28<02:41,  1.38it/s]"
     ]
    },
    {
     "name": "stdout",
     "output_type": "stream",
     "text": [
      "ret 0.0010508967786790335\n",
      "LA.norm(trackline.diffs)>15*np.std(coefnorm): -188.428301457\n",
      "dist_diff 55.098904635\n"
     ]
    },
    {
     "name": "stderr",
     "output_type": "stream",
     "text": [
      "\r",
      " 82%|████████████████████████████████████████████████████████████████▎             | 1039/1261 [12:29<02:40,  1.39it/s]"
     ]
    },
    {
     "name": "stdout",
     "output_type": "stream",
     "text": [
      "ret 0.00041012427122971706\n",
      "LA.norm(trackline.diffs)>15*np.std(coefnorm): -211.802061146\n",
      "dist_diff 16.4321324592\n"
     ]
    },
    {
     "name": "stderr",
     "output_type": "stream",
     "text": [
      "\r",
      " 82%|████████████████████████████████████████████████████████████████▎             | 1040/1261 [12:29<02:39,  1.39it/s]"
     ]
    },
    {
     "name": "stdout",
     "output_type": "stream",
     "text": [
      "ret 0.00037546153703915675\n",
      "LA.norm(trackline.diffs)>15*np.std(coefnorm): -222.029421805\n",
      "dist_diff 30.4799207776\n"
     ]
    },
    {
     "name": "stderr",
     "output_type": "stream",
     "text": [
      "\r",
      " 83%|████████████████████████████████████████████████████████████████▍             | 1041/1261 [12:30<02:37,  1.39it/s]"
     ]
    },
    {
     "name": "stdout",
     "output_type": "stream",
     "text": [
      "ret 0.0013920982146205518\n",
      "LA.norm(trackline.diffs)>15*np.std(coefnorm): -190.429484743\n",
      "dist_diff 62.3323614018\n"
     ]
    },
    {
     "name": "stderr",
     "output_type": "stream",
     "text": [
      "\r",
      " 83%|████████████████████████████████████████████████████████████████▍             | 1042/1261 [12:31<02:37,  1.39it/s]"
     ]
    },
    {
     "name": "stdout",
     "output_type": "stream",
     "text": [
      "ret 0.0001070371202258058\n",
      "LA.norm(trackline.diffs)>15*np.std(coefnorm): -225.258669325\n",
      "dist_diff 28.7112822826\n"
     ]
    },
    {
     "name": "stderr",
     "output_type": "stream",
     "text": [
      "\r",
      " 83%|████████████████████████████████████████████████████████████████▌             | 1043/1261 [12:31<02:37,  1.39it/s]"
     ]
    },
    {
     "name": "stdout",
     "output_type": "stream",
     "text": [
      "ret 0.00010606030925386367\n",
      "LA.norm(trackline.diffs)>15*np.std(coefnorm): -226.837483911\n",
      "dist_diff 9.19578442775\n"
     ]
    },
    {
     "name": "stderr",
     "output_type": "stream",
     "text": [
      "\r",
      " 83%|████████████████████████████████████████████████████████████████▌             | 1044/1261 [12:32<02:35,  1.39it/s]"
     ]
    },
    {
     "name": "stdout",
     "output_type": "stream",
     "text": [
      "ret 0.0005727329994542063\n",
      "LA.norm(trackline.diffs)>15*np.std(coefnorm): -242.700470272\n",
      "dist_diff 9.53145074889\n"
     ]
    },
    {
     "name": "stderr",
     "output_type": "stream",
     "text": [
      "\r",
      " 83%|████████████████████████████████████████████████████████████████▋             | 1045/1261 [12:33<02:35,  1.39it/s]"
     ]
    },
    {
     "name": "stdout",
     "output_type": "stream",
     "text": [
      "ret 0.00035447748586731054\n",
      "LA.norm(trackline.diffs)>15*np.std(coefnorm): -215.424297726\n",
      "dist_diff 62.9584149343\n"
     ]
    },
    {
     "name": "stderr",
     "output_type": "stream",
     "text": [
      "\r",
      " 83%|████████████████████████████████████████████████████████████████▋             | 1046/1261 [12:34<02:35,  1.38it/s]"
     ]
    },
    {
     "name": "stdout",
     "output_type": "stream",
     "text": [
      "ret 0.0005872212628572626\n",
      "LA.norm(trackline.diffs)>15*np.std(coefnorm): -227.578703163\n",
      "dist_diff 17.7491386206\n"
     ]
    },
    {
     "name": "stderr",
     "output_type": "stream",
     "text": [
      "\r",
      " 83%|████████████████████████████████████████████████████████████████▊             | 1047/1261 [12:34<02:34,  1.39it/s]"
     ]
    },
    {
     "name": "stdout",
     "output_type": "stream",
     "text": [
      "ret 0.0005994137248774845\n",
      "LA.norm(trackline.diffs)>15*np.std(coefnorm): -231.615118735\n",
      "dist_diff 22.2970169818\n"
     ]
    },
    {
     "name": "stderr",
     "output_type": "stream",
     "text": [
      "\r",
      " 83%|████████████████████████████████████████████████████████████████▊             | 1048/1261 [12:35<02:33,  1.39it/s]"
     ]
    },
    {
     "name": "stdout",
     "output_type": "stream",
     "text": [
      "ret 0.0004894081172495124\n",
      "LA.norm(trackline.diffs)>15*np.std(coefnorm): -226.999170591\n",
      "dist_diff 5.23645523611\n"
     ]
    },
    {
     "name": "stderr",
     "output_type": "stream",
     "text": [
      "\r",
      " 83%|████████████████████████████████████████████████████████████████▉             | 1049/1261 [12:36<02:32,  1.39it/s]"
     ]
    },
    {
     "name": "stdout",
     "output_type": "stream",
     "text": [
      "ret 2.298985078985627e-05\n",
      "LA.norm(trackline.diffs)>15*np.std(coefnorm): -365.749357043\n",
      "dist_diff 24.3911110718\n"
     ]
    },
    {
     "name": "stderr",
     "output_type": "stream",
     "text": [
      "\r",
      " 83%|████████████████████████████████████████████████████████████████▉             | 1050/1261 [12:37<02:31,  1.39it/s]"
     ]
    },
    {
     "name": "stdout",
     "output_type": "stream",
     "text": [
      "ret 0.00012425929845044648\n",
      "LA.norm(trackline.diffs)>15*np.std(coefnorm): -403.849574569\n",
      "dist_diff 2.6129577305\n"
     ]
    },
    {
     "name": "stderr",
     "output_type": "stream",
     "text": [
      "\r",
      " 83%|█████████████████████████████████████████████████████████████████             | 1051/1261 [12:37<02:30,  1.39it/s]"
     ]
    },
    {
     "name": "stdout",
     "output_type": "stream",
     "text": [
      "ret 7.512817062410582e-05\n",
      "LA.norm(trackline.diffs)>15*np.std(coefnorm): -424.385658976\n",
      "dist_diff 9.82264562821\n"
     ]
    },
    {
     "name": "stderr",
     "output_type": "stream",
     "text": [
      "\r",
      " 83%|█████████████████████████████████████████████████████████████████             | 1052/1261 [12:38<02:29,  1.40it/s]"
     ]
    },
    {
     "name": "stdout",
     "output_type": "stream",
     "text": [
      "ret 9.789152251599154e-05\n",
      "LA.norm(trackline.diffs)>15*np.std(coefnorm): -412.554363163\n",
      "dist_diff 14.335458087\n"
     ]
    },
    {
     "name": "stderr",
     "output_type": "stream",
     "text": [
      "\r",
      " 84%|█████████████████████████████████████████████████████████████████▏            | 1053/1261 [12:39<02:28,  1.40it/s]"
     ]
    },
    {
     "name": "stdout",
     "output_type": "stream",
     "text": [
      "ret 6.896843716153178e-05\n",
      "LA.norm(trackline.diffs)>15*np.std(coefnorm): -406.943007219\n",
      "dist_diff 34.9781177037\n"
     ]
    },
    {
     "name": "stderr",
     "output_type": "stream",
     "text": [
      "\r",
      " 84%|█████████████████████████████████████████████████████████████████▏            | 1054/1261 [12:39<02:27,  1.41it/s]"
     ]
    },
    {
     "name": "stdout",
     "output_type": "stream",
     "text": [
      "ret 0.0004951499594175734\n",
      "LA.norm(trackline.diffs)>15*np.std(coefnorm): -382.124953513\n",
      "dist_diff 8.55690605188\n"
     ]
    },
    {
     "name": "stderr",
     "output_type": "stream",
     "text": [
      "\r",
      " 84%|█████████████████████████████████████████████████████████████████▎            | 1055/1261 [12:40<02:26,  1.40it/s]"
     ]
    },
    {
     "name": "stdout",
     "output_type": "stream",
     "text": [
      "ret 0.0006832430529931655\n",
      "LA.norm(trackline.diffs)>15*np.std(coefnorm): -363.03777852\n",
      "dist_diff 4.44743153634\n"
     ]
    },
    {
     "name": "stderr",
     "output_type": "stream",
     "text": [
      "\r",
      " 84%|█████████████████████████████████████████████████████████████████▎            | 1056/1261 [12:41<02:25,  1.41it/s]"
     ]
    },
    {
     "name": "stdout",
     "output_type": "stream",
     "text": [
      "ret 0.0002478026588288995\n",
      "LA.norm(trackline.diffs)>15*np.std(coefnorm): -350.475429006\n",
      "dist_diff 4.74333580544\n"
     ]
    },
    {
     "name": "stderr",
     "output_type": "stream",
     "text": [
      "\r",
      " 84%|█████████████████████████████████████████████████████████████████▍            | 1057/1261 [12:41<02:25,  1.41it/s]"
     ]
    },
    {
     "name": "stdout",
     "output_type": "stream",
     "text": [
      "ret 6.344046562190009e-06\n",
      "LA.norm(trackline.diffs)>15*np.std(coefnorm): -333.403938829\n",
      "dist_diff 3.29217350341\n"
     ]
    },
    {
     "name": "stderr",
     "output_type": "stream",
     "text": [
      "\r",
      " 84%|█████████████████████████████████████████████████████████████████▍            | 1058/1261 [12:42<02:24,  1.41it/s]"
     ]
    },
    {
     "name": "stdout",
     "output_type": "stream",
     "text": [
      "ret 0.00018978665878954804\n",
      "LA.norm(trackline.diffs)>15*np.std(coefnorm): -284.476352278\n",
      "dist_diff 8.63157670436\n"
     ]
    },
    {
     "name": "stderr",
     "output_type": "stream",
     "text": [
      "\r",
      " 84%|█████████████████████████████████████████████████████████████████▌            | 1059/1261 [12:43<02:23,  1.40it/s]"
     ]
    },
    {
     "name": "stdout",
     "output_type": "stream",
     "text": [
      "ret 0.00041022330783674343\n",
      "LA.norm(trackline.diffs)>15*np.std(coefnorm): -266.434100994\n",
      "dist_diff 4.75224926693\n"
     ]
    },
    {
     "name": "stderr",
     "output_type": "stream",
     "text": [
      "\r",
      " 84%|█████████████████████████████████████████████████████████████████▌            | 1060/1261 [12:44<02:23,  1.41it/s]"
     ]
    },
    {
     "name": "stdout",
     "output_type": "stream",
     "text": [
      "ret 0.00043751854530649226\n",
      "LA.norm(trackline.diffs)>15*np.std(coefnorm): -196.762549773\n",
      "dist_diff 4.92539678096\n"
     ]
    },
    {
     "name": "stderr",
     "output_type": "stream",
     "text": [
      "\r",
      " 84%|█████████████████████████████████████████████████████████████████▋            | 1061/1261 [12:44<02:22,  1.41it/s]"
     ]
    },
    {
     "name": "stdout",
     "output_type": "stream",
     "text": [
      "ret 0.00022581456180831294\n",
      "LA.norm(trackline.diffs)>15*np.std(coefnorm): -164.548351623\n",
      "dist_diff 7.97517713621\n"
     ]
    },
    {
     "name": "stderr",
     "output_type": "stream",
     "text": [
      "\r",
      " 84%|█████████████████████████████████████████████████████████████████▋            | 1062/1261 [12:45<02:21,  1.41it/s]"
     ]
    },
    {
     "name": "stdout",
     "output_type": "stream",
     "text": [
      "ret 0.0009589772527091589\n",
      "LA.norm(trackline.diffs)>15*np.std(coefnorm): -151.271928102\n",
      "dist_diff 2.80327970271\n"
     ]
    },
    {
     "name": "stderr",
     "output_type": "stream",
     "text": [
      "\r",
      " 84%|█████████████████████████████████████████████████████████████████▊            | 1063/1261 [12:46<02:20,  1.41it/s]"
     ]
    },
    {
     "name": "stdout",
     "output_type": "stream",
     "text": [
      "ret 0.00033382097925477305\n",
      "LA.norm(trackline.diffs)>15*np.std(coefnorm): -105.689894764\n",
      "dist_diff 1.09146251904\n"
     ]
    },
    {
     "name": "stderr",
     "output_type": "stream",
     "text": [
      "\r",
      " 84%|█████████████████████████████████████████████████████████████████▊            | 1064/1261 [12:46<02:20,  1.41it/s]"
     ]
    },
    {
     "name": "stdout",
     "output_type": "stream",
     "text": [
      "ret 0.0003758449874670111\n",
      "LA.norm(trackline.diffs)>15*np.std(coefnorm): -68.0499279293\n",
      "dist_diff 2.56734923328\n"
     ]
    },
    {
     "name": "stderr",
     "output_type": "stream",
     "text": [
      "\r",
      " 84%|█████████████████████████████████████████████████████████████████▉            | 1065/1261 [12:47<02:18,  1.41it/s]"
     ]
    },
    {
     "name": "stdout",
     "output_type": "stream",
     "text": [
      "ret 0.00012534947511555483\n",
      "LA.norm(trackline.diffs)>15*np.std(coefnorm): -0.627553683981\n",
      "dist_diff 1.98442857585\n"
     ]
    },
    {
     "name": "stderr",
     "output_type": "stream",
     "text": [
      "\r",
      " 85%|█████████████████████████████████████████████████████████████████▉            | 1066/1261 [12:48<02:18,  1.41it/s]"
     ]
    },
    {
     "name": "stdout",
     "output_type": "stream",
     "text": [
      "ret 5.025762187488292e-05\n",
      "LA.norm(trackline.diffs)>15*np.std(coefnorm): -2.69536555125\n",
      "dist_diff 1.05081392502\n"
     ]
    },
    {
     "name": "stderr",
     "output_type": "stream",
     "text": [
      "\r",
      " 85%|██████████████████████████████████████████████████████████████████            | 1067/1261 [12:49<02:17,  1.41it/s]"
     ]
    },
    {
     "name": "stdout",
     "output_type": "stream",
     "text": [
      "ret 2.912488514639211e-06\n",
      "LA.norm(trackline.diffs)>15*np.std(coefnorm): -2.93874991661\n",
      "dist_diff 0.130303486571\n"
     ]
    },
    {
     "name": "stderr",
     "output_type": "stream",
     "text": [
      "\r",
      " 85%|██████████████████████████████████████████████████████████████████            | 1068/1261 [12:49<02:17,  1.41it/s]"
     ]
    },
    {
     "name": "stdout",
     "output_type": "stream",
     "text": [
      "ret 0.00011382209220106576\n",
      "LA.norm(trackline.diffs)>15*np.std(coefnorm): -23.4303510837\n",
      "dist_diff 1.72713820215\n"
     ]
    },
    {
     "name": "stderr",
     "output_type": "stream",
     "text": [
      "\r",
      " 85%|██████████████████████████████████████████████████████████████████            | 1069/1261 [12:50<02:16,  1.41it/s]"
     ]
    },
    {
     "name": "stdout",
     "output_type": "stream",
     "text": [
      "ret 7.02166089526779e-05\n",
      "LA.norm(trackline.diffs)>15*np.std(coefnorm): -35.6168073374\n",
      "dist_diff 0.852699201665\n"
     ]
    },
    {
     "name": "stderr",
     "output_type": "stream",
     "text": [
      "\r",
      " 85%|██████████████████████████████████████████████████████████████████▏           | 1070/1261 [12:51<02:15,  1.40it/s]"
     ]
    },
    {
     "name": "stdout",
     "output_type": "stream",
     "text": [
      "ret 2.1441177106007459e-07\n",
      "LA.norm(trackline.diffs)>15*np.std(coefnorm): -33.017288171\n",
      "dist_diff 1.70078250228\n"
     ]
    },
    {
     "name": "stderr",
     "output_type": "stream",
     "text": [
      "\r",
      " 85%|██████████████████████████████████████████████████████████████████▏           | 1071/1261 [12:51<02:15,  1.40it/s]"
     ]
    },
    {
     "name": "stdout",
     "output_type": "stream",
     "text": [
      "ret 0.00013877213444085656\n",
      "LA.norm(trackline.diffs)>15*np.std(coefnorm): -87.0514142303\n",
      "dist_diff 17.327919305\n"
     ]
    },
    {
     "name": "stderr",
     "output_type": "stream",
     "text": [
      "\r",
      " 85%|██████████████████████████████████████████████████████████████████▎           | 1072/1261 [12:52<02:14,  1.40it/s]"
     ]
    },
    {
     "name": "stdout",
     "output_type": "stream",
     "text": [
      "ret 0.0001550231453012474\n",
      "LA.norm(trackline.diffs)>15*np.std(coefnorm): -75.622594494\n",
      "dist_diff 4.50120191568\n"
     ]
    },
    {
     "name": "stderr",
     "output_type": "stream",
     "text": [
      "\r",
      " 85%|██████████████████████████████████████████████████████████████████▎           | 1073/1261 [12:53<02:14,  1.40it/s]"
     ]
    },
    {
     "name": "stdout",
     "output_type": "stream",
     "text": [
      "ret 1.5020886587446824e-05\n",
      "LA.norm(trackline.diffs)>15*np.std(coefnorm): -92.421738257\n",
      "dist_diff 6.75068107071\n"
     ]
    },
    {
     "name": "stderr",
     "output_type": "stream",
     "text": [
      "\r",
      " 85%|██████████████████████████████████████████████████████████████████▍           | 1074/1261 [12:54<02:13,  1.40it/s]"
     ]
    },
    {
     "name": "stdout",
     "output_type": "stream",
     "text": [
      "ret 3.955061685728678e-05\n",
      "LA.norm(trackline.diffs)>15*np.std(coefnorm): -95.4540185501\n",
      "dist_diff 6.71409121666\n"
     ]
    },
    {
     "name": "stderr",
     "output_type": "stream",
     "text": [
      "\r",
      " 85%|██████████████████████████████████████████████████████████████████▍           | 1075/1261 [12:54<02:12,  1.40it/s]"
     ]
    },
    {
     "name": "stdout",
     "output_type": "stream",
     "text": [
      "ret 5.8153778363434494e-05\n",
      "LA.norm(trackline.diffs)>15*np.std(coefnorm): -96.9158503669\n",
      "dist_diff 2.12130452348\n"
     ]
    },
    {
     "name": "stderr",
     "output_type": "stream",
     "text": [
      "\r",
      " 85%|██████████████████████████████████████████████████████████████████▌           | 1076/1261 [12:55<02:11,  1.41it/s]"
     ]
    },
    {
     "name": "stdout",
     "output_type": "stream",
     "text": [
      "ret 0.00020777312300179762\n",
      "LA.norm(trackline.diffs)>15*np.std(coefnorm): -50.5275978918\n",
      "dist_diff 0.321105861806\n"
     ]
    },
    {
     "name": "stderr",
     "output_type": "stream",
     "text": [
      "\r",
      " 85%|██████████████████████████████████████████████████████████████████▌           | 1077/1261 [12:56<02:10,  1.41it/s]"
     ]
    },
    {
     "name": "stdout",
     "output_type": "stream",
     "text": [
      "ret 8.874779499190577e-05\n",
      "LA.norm(trackline.diffs)>15*np.std(coefnorm): -43.6836469603\n",
      "dist_diff 0.366515423568\n"
     ]
    },
    {
     "name": "stderr",
     "output_type": "stream",
     "text": [
      "\r",
      " 85%|██████████████████████████████████████████████████████████████████▋           | 1078/1261 [12:56<02:09,  1.41it/s]"
     ]
    },
    {
     "name": "stdout",
     "output_type": "stream",
     "text": [
      "ret 0.00013457385145526635\n",
      "LA.norm(trackline.diffs)>15*np.std(coefnorm): -52.5822638121\n",
      "dist_diff 2.33226834519\n"
     ]
    },
    {
     "name": "stderr",
     "output_type": "stream",
     "text": [
      "\r",
      " 86%|██████████████████████████████████████████████████████████████████▋           | 1079/1261 [12:57<02:09,  1.41it/s]"
     ]
    },
    {
     "name": "stdout",
     "output_type": "stream",
     "text": [
      "ret 2.9195528329084564e-05\n",
      "LA.norm(trackline.diffs)>15*np.std(coefnorm): -61.5933360421\n",
      "dist_diff 2.037582283\n"
     ]
    },
    {
     "name": "stderr",
     "output_type": "stream",
     "text": [
      "\r",
      " 86%|██████████████████████████████████████████████████████████████████▊           | 1080/1261 [12:58<02:08,  1.41it/s]"
     ]
    },
    {
     "name": "stdout",
     "output_type": "stream",
     "text": [
      "ret 0.00015514428842633432\n",
      "LA.norm(trackline.diffs)>15*np.std(coefnorm): -80.0407374803\n",
      "dist_diff 5.72567367923\n"
     ]
    },
    {
     "name": "stderr",
     "output_type": "stream",
     "text": [
      "\r",
      " 86%|██████████████████████████████████████████████████████████████████▊           | 1081/1261 [12:59<02:07,  1.41it/s]"
     ]
    },
    {
     "name": "stdout",
     "output_type": "stream",
     "text": [
      "ret 6.647343775667558e-05\n",
      "LA.norm(trackline.diffs)>15*np.std(coefnorm): -102.53503295\n",
      "dist_diff 1.4275364016\n"
     ]
    },
    {
     "name": "stderr",
     "output_type": "stream",
     "text": [
      "\r",
      " 86%|██████████████████████████████████████████████████████████████████▉           | 1082/1261 [12:59<02:07,  1.41it/s]"
     ]
    },
    {
     "name": "stdout",
     "output_type": "stream",
     "text": [
      "ret 7.562929720605904e-05\n",
      "LA.norm(trackline.diffs)>15*np.std(coefnorm): -117.148007069\n",
      "dist_diff 14.6957851945\n"
     ]
    },
    {
     "name": "stderr",
     "output_type": "stream",
     "text": [
      "\r",
      " 86%|██████████████████████████████████████████████████████████████████▉           | 1083/1261 [13:00<02:07,  1.40it/s]"
     ]
    },
    {
     "name": "stdout",
     "output_type": "stream",
     "text": [
      "ret 1.0183365759031116e-05\n",
      "LA.norm(trackline.diffs)>15*np.std(coefnorm): -115.393031807\n",
      "dist_diff 0.0623473905025\n"
     ]
    },
    {
     "name": "stderr",
     "output_type": "stream",
     "text": [
      "\r",
      " 86%|███████████████████████████████████████████████████████████████████           | 1084/1261 [13:01<02:06,  1.40it/s]"
     ]
    },
    {
     "name": "stdout",
     "output_type": "stream",
     "text": [
      "ret 6.781901319863337e-06\n",
      "LA.norm(trackline.diffs)>15*np.std(coefnorm): -148.823205401\n",
      "dist_diff 8.32307825354\n"
     ]
    },
    {
     "name": "stderr",
     "output_type": "stream",
     "text": [
      "\r",
      " 86%|███████████████████████████████████████████████████████████████████           | 1085/1261 [13:01<02:05,  1.40it/s]"
     ]
    },
    {
     "name": "stdout",
     "output_type": "stream",
     "text": [
      "ret 6.519918066794084e-05\n",
      "LA.norm(trackline.diffs)>15*np.std(coefnorm): -133.813738095\n",
      "dist_diff 0.233207205832\n"
     ]
    },
    {
     "name": "stderr",
     "output_type": "stream",
     "text": [
      "\r",
      " 86%|███████████████████████████████████████████████████████████████████▏          | 1086/1261 [13:02<02:04,  1.41it/s]"
     ]
    },
    {
     "name": "stdout",
     "output_type": "stream",
     "text": [
      "ret 0.00012323705695771459\n",
      "LA.norm(trackline.diffs)>15*np.std(coefnorm): -150.807348125\n",
      "dist_diff 6.14868775389\n"
     ]
    },
    {
     "name": "stderr",
     "output_type": "stream",
     "text": [
      "\r",
      " 86%|███████████████████████████████████████████████████████████████████▏          | 1087/1261 [13:03<02:03,  1.41it/s]"
     ]
    },
    {
     "name": "stdout",
     "output_type": "stream",
     "text": [
      "ret 8.202450280275775e-05\n",
      "LA.norm(trackline.diffs)>15*np.std(coefnorm): -164.209673417\n",
      "dist_diff 5.64549969947\n"
     ]
    },
    {
     "name": "stderr",
     "output_type": "stream",
     "text": [
      "\r",
      " 86%|███████████████████████████████████████████████████████████████████▎          | 1088/1261 [13:04<02:03,  1.41it/s]"
     ]
    },
    {
     "name": "stdout",
     "output_type": "stream",
     "text": [
      "ret 5.847158314858936e-05\n",
      "LA.norm(trackline.diffs)>15*np.std(coefnorm): -133.892216314\n",
      "dist_diff 1.5261511441\n"
     ]
    },
    {
     "name": "stderr",
     "output_type": "stream",
     "text": [
      "\r",
      " 86%|███████████████████████████████████████████████████████████████████▎          | 1089/1261 [13:04<02:02,  1.41it/s]"
     ]
    },
    {
     "name": "stdout",
     "output_type": "stream",
     "text": [
      "ret 0.00012581712308690207\n",
      "LA.norm(trackline.diffs)>15*np.std(coefnorm): -100.464076561\n",
      "dist_diff 2.4380114629\n"
     ]
    },
    {
     "name": "stderr",
     "output_type": "stream",
     "text": [
      "\r",
      " 86%|███████████████████████████████████████████████████████████████████▍          | 1090/1261 [13:05<02:01,  1.41it/s]"
     ]
    },
    {
     "name": "stdout",
     "output_type": "stream",
     "text": [
      "ret 0.00012064288068275308\n",
      "LA.norm(trackline.diffs)>15*np.std(coefnorm): -97.3745660106\n",
      "dist_diff 0.240925081768\n"
     ]
    },
    {
     "name": "stderr",
     "output_type": "stream",
     "text": [
      "\r",
      " 87%|███████████████████████████████████████████████████████████████████▍          | 1091/1261 [13:06<02:00,  1.41it/s]"
     ]
    },
    {
     "name": "stdout",
     "output_type": "stream",
     "text": [
      "ret 6.055691284978515e-06\n",
      "LA.norm(trackline.diffs)>15*np.std(coefnorm): -90.4925202755\n",
      "dist_diff 3.99755128687\n"
     ]
    },
    {
     "name": "stderr",
     "output_type": "stream",
     "text": [
      "\r",
      " 87%|███████████████████████████████████████████████████████████████████▌          | 1092/1261 [13:06<02:00,  1.40it/s]"
     ]
    },
    {
     "name": "stdout",
     "output_type": "stream",
     "text": [
      "ret 9.940543294600923e-05\n",
      "LA.norm(trackline.diffs)>15*np.std(coefnorm): -95.863770205\n",
      "dist_diff 0.973320277958\n"
     ]
    },
    {
     "name": "stderr",
     "output_type": "stream",
     "text": [
      "\r",
      " 87%|███████████████████████████████████████████████████████████████████▌          | 1093/1261 [13:07<01:59,  1.41it/s]"
     ]
    },
    {
     "name": "stdout",
     "output_type": "stream",
     "text": [
      "ret 5.274142168115725e-05\n",
      "LA.norm(trackline.diffs)>15*np.std(coefnorm): -108.439428172\n",
      "dist_diff 2.59482695411\n"
     ]
    },
    {
     "name": "stderr",
     "output_type": "stream",
     "text": [
      "\r",
      " 87%|███████████████████████████████████████████████████████████████████▋          | 1094/1261 [13:08<01:59,  1.40it/s]"
     ]
    },
    {
     "name": "stdout",
     "output_type": "stream",
     "text": [
      "ret 8.48325697276886e-05\n",
      "LA.norm(trackline.diffs)>15*np.std(coefnorm): -118.512099764\n",
      "dist_diff 25.3559977869\n"
     ]
    },
    {
     "name": "stderr",
     "output_type": "stream",
     "text": [
      "\r",
      " 87%|███████████████████████████████████████████████████████████████████▋          | 1095/1261 [13:09<01:57,  1.41it/s]"
     ]
    },
    {
     "name": "stdout",
     "output_type": "stream",
     "text": [
      "ret 9.96038883015471e-05\n",
      "LA.norm(trackline.diffs)>15*np.std(coefnorm): -115.139725928\n",
      "dist_diff 3.24134935119\n"
     ]
    },
    {
     "name": "stderr",
     "output_type": "stream",
     "text": [
      "\r",
      " 87%|███████████████████████████████████████████████████████████████████▊          | 1096/1261 [13:09<01:57,  1.41it/s]"
     ]
    },
    {
     "name": "stdout",
     "output_type": "stream",
     "text": [
      "ret 3.1150137468904937e-06\n",
      "LA.norm(trackline.diffs)>15*np.std(coefnorm): -170.631435391\n",
      "dist_diff 1.98734533514\n"
     ]
    },
    {
     "name": "stderr",
     "output_type": "stream",
     "text": [
      "\r",
      " 87%|███████████████████████████████████████████████████████████████████▊          | 1097/1261 [13:10<01:56,  1.40it/s]"
     ]
    },
    {
     "name": "stdout",
     "output_type": "stream",
     "text": [
      "ret 8.40060327642056e-05\n",
      "LA.norm(trackline.diffs)>15*np.std(coefnorm): -197.489550682\n",
      "dist_diff 4.58658611575\n"
     ]
    },
    {
     "name": "stderr",
     "output_type": "stream",
     "text": [
      "\r",
      " 87%|███████████████████████████████████████████████████████████████████▉          | 1098/1261 [13:11<01:55,  1.41it/s]"
     ]
    },
    {
     "name": "stdout",
     "output_type": "stream",
     "text": [
      "ret 9.260050017012578e-05\n",
      "LA.norm(trackline.diffs)>15*np.std(coefnorm): -214.300119777\n",
      "dist_diff 0.260254698032\n"
     ]
    },
    {
     "name": "stderr",
     "output_type": "stream",
     "text": [
      "\r",
      " 87%|███████████████████████████████████████████████████████████████████▉          | 1099/1261 [13:11<01:54,  1.41it/s]"
     ]
    },
    {
     "name": "stdout",
     "output_type": "stream",
     "text": [
      "ret 1.1945018676073893e-05\n",
      "LA.norm(trackline.diffs)>15*np.std(coefnorm): -238.617565237\n",
      "dist_diff 2.63720208448\n"
     ]
    },
    {
     "name": "stderr",
     "output_type": "stream",
     "text": [
      "\r",
      " 87%|████████████████████████████████████████████████████████████████████          | 1100/1261 [13:12<01:54,  1.41it/s]"
     ]
    },
    {
     "name": "stdout",
     "output_type": "stream",
     "text": [
      "ret 2.695085286852361e-05\n",
      "LA.norm(trackline.diffs)>15*np.std(coefnorm): -243.357019926\n",
      "dist_diff 0.795041409645\n"
     ]
    },
    {
     "name": "stderr",
     "output_type": "stream",
     "text": [
      "\r",
      " 87%|████████████████████████████████████████████████████████████████████          | 1101/1261 [13:13<01:53,  1.40it/s]"
     ]
    },
    {
     "name": "stdout",
     "output_type": "stream",
     "text": [
      "ret 0.0001344896831971809\n",
      "LA.norm(trackline.diffs)>15*np.std(coefnorm): -234.206261321\n",
      "dist_diff 6.32909388923\n"
     ]
    },
    {
     "name": "stderr",
     "output_type": "stream",
     "text": [
      "\r",
      " 87%|████████████████████████████████████████████████████████████████████▏         | 1102/1261 [13:14<01:53,  1.40it/s]"
     ]
    },
    {
     "name": "stdout",
     "output_type": "stream",
     "text": [
      "ret 2.5470119984161155e-05\n",
      "LA.norm(trackline.diffs)>15*np.std(coefnorm): -219.829013938\n",
      "dist_diff 0.709656338598\n"
     ]
    },
    {
     "name": "stderr",
     "output_type": "stream",
     "text": [
      "\r",
      " 87%|████████████████████████████████████████████████████████████████████▏         | 1103/1261 [13:14<01:52,  1.41it/s]"
     ]
    },
    {
     "name": "stdout",
     "output_type": "stream",
     "text": [
      "ret 6.250959671549872e-05\n",
      "LA.norm(trackline.diffs)>15*np.std(coefnorm): -167.374805238\n",
      "dist_diff 0.847268985628\n"
     ]
    },
    {
     "name": "stderr",
     "output_type": "stream",
     "text": [
      "\r",
      " 88%|████████████████████████████████████████████████████████████████████▎         | 1104/1261 [13:15<01:51,  1.41it/s]"
     ]
    },
    {
     "name": "stdout",
     "output_type": "stream",
     "text": [
      "ret 4.203761715798615e-05\n",
      "LA.norm(trackline.diffs)>15*np.std(coefnorm): -140.85040585\n",
      "dist_diff 3.68896209076\n"
     ]
    },
    {
     "name": "stderr",
     "output_type": "stream",
     "text": [
      "\r",
      " 88%|████████████████████████████████████████████████████████████████████▎         | 1105/1261 [13:16<01:51,  1.40it/s]"
     ]
    },
    {
     "name": "stdout",
     "output_type": "stream",
     "text": [
      "ret 9.28757612542741e-05\n",
      "LA.norm(trackline.diffs)>15*np.std(coefnorm): -110.465311273\n",
      "dist_diff 9.68932166346\n"
     ]
    },
    {
     "name": "stderr",
     "output_type": "stream",
     "text": [
      "\r",
      " 88%|████████████████████████████████████████████████████████████████████▍         | 1106/1261 [13:16<01:49,  1.41it/s]"
     ]
    },
    {
     "name": "stdout",
     "output_type": "stream",
     "text": [
      "ret 4.224651134865365e-06\n",
      "LA.norm(trackline.diffs)>15*np.std(coefnorm): -100.094162181\n",
      "dist_diff 8.62601726237\n"
     ]
    },
    {
     "name": "stderr",
     "output_type": "stream",
     "text": [
      "\r",
      " 88%|████████████████████████████████████████████████████████████████████▍         | 1107/1261 [13:17<01:49,  1.41it/s]"
     ]
    },
    {
     "name": "stdout",
     "output_type": "stream",
     "text": [
      "ret 6.681409402703453e-05\n",
      "LA.norm(trackline.diffs)>15*np.std(coefnorm): -109.829970216\n",
      "dist_diff 2.95800844781\n"
     ]
    },
    {
     "name": "stderr",
     "output_type": "stream",
     "text": [
      "\r",
      " 88%|████████████████████████████████████████████████████████████████████▌         | 1108/1261 [13:18<01:48,  1.41it/s]"
     ]
    },
    {
     "name": "stdout",
     "output_type": "stream",
     "text": [
      "ret 3.742115682348057e-05\n",
      "LA.norm(trackline.diffs)>15*np.std(coefnorm): -124.084597914\n",
      "dist_diff 1.47652937742\n"
     ]
    },
    {
     "name": "stderr",
     "output_type": "stream",
     "text": [
      "\r",
      " 88%|████████████████████████████████████████████████████████████████████▌         | 1109/1261 [13:18<01:48,  1.41it/s]"
     ]
    },
    {
     "name": "stdout",
     "output_type": "stream",
     "text": [
      "ret 0.00010305900478774221\n",
      "LA.norm(trackline.diffs)>15*np.std(coefnorm): -146.483795334\n",
      "dist_diff 4.09635746861\n"
     ]
    },
    {
     "name": "stderr",
     "output_type": "stream",
     "text": [
      "\r",
      " 88%|████████████████████████████████████████████████████████████████████▋         | 1110/1261 [13:19<01:47,  1.41it/s]"
     ]
    },
    {
     "name": "stdout",
     "output_type": "stream",
     "text": [
      "ret 1.7029307916416325e-05\n",
      "LA.norm(trackline.diffs)>15*np.std(coefnorm): -160.670156101\n",
      "dist_diff 9.08226184578\n"
     ]
    },
    {
     "name": "stderr",
     "output_type": "stream",
     "text": [
      "\r",
      " 88%|████████████████████████████████████████████████████████████████████▋         | 1111/1261 [13:20<01:46,  1.41it/s]"
     ]
    },
    {
     "name": "stdout",
     "output_type": "stream",
     "text": [
      "ret 9.477470856722459e-06\n",
      "LA.norm(trackline.diffs)>15*np.std(coefnorm): -163.111612852\n",
      "dist_diff 0.803028678166\n"
     ]
    },
    {
     "name": "stderr",
     "output_type": "stream",
     "text": [
      "\r",
      " 88%|████████████████████████████████████████████████████████████████████▊         | 1112/1261 [13:21<01:46,  1.40it/s]"
     ]
    },
    {
     "name": "stdout",
     "output_type": "stream",
     "text": [
      "ret 9.340776924326999e-05\n",
      "LA.norm(trackline.diffs)>15*np.std(coefnorm): -147.628754849\n",
      "dist_diff 3.08578880609\n"
     ]
    },
    {
     "name": "stderr",
     "output_type": "stream",
     "text": [
      "\r",
      " 88%|████████████████████████████████████████████████████████████████████▊         | 1113/1261 [13:21<01:45,  1.41it/s]"
     ]
    },
    {
     "name": "stdout",
     "output_type": "stream",
     "text": [
      "ret 3.460278884298562e-05\n",
      "LA.norm(trackline.diffs)>15*np.std(coefnorm): -123.298680151\n",
      "dist_diff 1.24125490635\n"
     ]
    },
    {
     "name": "stderr",
     "output_type": "stream",
     "text": [
      "\r",
      " 88%|████████████████████████████████████████████████████████████████████▉         | 1114/1261 [13:22<01:44,  1.40it/s]"
     ]
    },
    {
     "name": "stdout",
     "output_type": "stream",
     "text": [
      "ret 6.684041960408615e-05\n",
      "LA.norm(trackline.diffs)>15*np.std(coefnorm): -79.8234513471\n",
      "dist_diff 1.59830568383\n"
     ]
    },
    {
     "name": "stderr",
     "output_type": "stream",
     "text": [
      "\r",
      " 88%|████████████████████████████████████████████████████████████████████▉         | 1115/1261 [13:23<01:43,  1.40it/s]"
     ]
    },
    {
     "name": "stdout",
     "output_type": "stream",
     "text": [
      "ret 0.00019369478473213464\n",
      "LA.norm(trackline.diffs)>15*np.std(coefnorm): -74.416026742\n",
      "dist_diff 7.55494970345\n"
     ]
    },
    {
     "name": "stderr",
     "output_type": "stream",
     "text": [
      "\r",
      " 89%|█████████████████████████████████████████████████████████████████████         | 1116/1261 [13:23<01:43,  1.41it/s]"
     ]
    },
    {
     "name": "stdout",
     "output_type": "stream",
     "text": [
      "ret 9.384781566035283e-05\n",
      "LA.norm(trackline.diffs)>15*np.std(coefnorm): -51.6126329488\n",
      "dist_diff 11.8974335367\n"
     ]
    },
    {
     "name": "stderr",
     "output_type": "stream",
     "text": [
      "\r",
      " 89%|█████████████████████████████████████████████████████████████████████         | 1117/1261 [13:24<01:42,  1.41it/s]"
     ]
    },
    {
     "name": "stdout",
     "output_type": "stream",
     "text": [
      "ret 0.00012221079844948468\n",
      "LA.norm(trackline.diffs)>15*np.std(coefnorm): -48.2967247266\n",
      "dist_diff 14.6170037334\n"
     ]
    },
    {
     "name": "stderr",
     "output_type": "stream",
     "text": [
      "\r",
      " 89%|█████████████████████████████████████████████████████████████████████▏        | 1118/1261 [13:25<01:41,  1.40it/s]"
     ]
    },
    {
     "name": "stdout",
     "output_type": "stream",
     "text": [
      "ret 0.00013172993124876964\n",
      "LA.norm(trackline.diffs)>15*np.std(coefnorm): -55.4602640411\n",
      "dist_diff 3.78698179526\n"
     ]
    },
    {
     "name": "stderr",
     "output_type": "stream",
     "text": [
      "\r",
      " 89%|█████████████████████████████████████████████████████████████████████▏        | 1119/1261 [13:26<01:41,  1.41it/s]"
     ]
    },
    {
     "name": "stdout",
     "output_type": "stream",
     "text": [
      "ret 4.0245665074767345e-05\n",
      "LA.norm(trackline.diffs)>15*np.std(coefnorm): -81.2761953039\n",
      "dist_diff 5.97368677469\n"
     ]
    },
    {
     "name": "stderr",
     "output_type": "stream",
     "text": [
      "\r",
      " 89%|█████████████████████████████████████████████████████████████████████▎        | 1120/1261 [13:26<01:40,  1.40it/s]"
     ]
    },
    {
     "name": "stdout",
     "output_type": "stream",
     "text": [
      "ret 7.161963440349695e-05\n",
      "LA.norm(trackline.diffs)>15*np.std(coefnorm): -79.4328217043\n",
      "dist_diff 0.265546856462\n"
     ]
    },
    {
     "name": "stderr",
     "output_type": "stream",
     "text": [
      "\r",
      " 89%|█████████████████████████████████████████████████████████████████████▎        | 1121/1261 [13:27<01:39,  1.40it/s]"
     ]
    },
    {
     "name": "stdout",
     "output_type": "stream",
     "text": [
      "ret 1.314269461527573e-05\n",
      "LA.norm(trackline.diffs)>15*np.std(coefnorm): -67.6733887493\n",
      "dist_diff 1.29911610134\n"
     ]
    },
    {
     "name": "stderr",
     "output_type": "stream",
     "text": [
      "\r",
      " 89%|█████████████████████████████████████████████████████████████████████▍        | 1122/1261 [13:28<01:38,  1.40it/s]"
     ]
    },
    {
     "name": "stdout",
     "output_type": "stream",
     "text": [
      "ret 1.4436765372827232e-05\n",
      "LA.norm(trackline.diffs)>15*np.std(coefnorm): -34.252700618\n",
      "dist_diff 4.7608805623\n"
     ]
    },
    {
     "name": "stderr",
     "output_type": "stream",
     "text": [
      "\r",
      " 89%|█████████████████████████████████████████████████████████████████████▍        | 1123/1261 [13:28<01:38,  1.40it/s]"
     ]
    },
    {
     "name": "stdout",
     "output_type": "stream",
     "text": [
      "ret 0.0001486368273823646\n",
      "LA.norm(trackline.diffs)>15*np.std(coefnorm): -45.7685931666\n",
      "dist_diff 6.11667263709\n"
     ]
    },
    {
     "name": "stderr",
     "output_type": "stream",
     "text": [
      "\r",
      " 89%|█████████████████████████████████████████████████████████████████████▌        | 1124/1261 [13:29<01:37,  1.40it/s]"
     ]
    },
    {
     "name": "stdout",
     "output_type": "stream",
     "text": [
      "ret 2.7584283086856676e-05\n",
      "LA.norm(trackline.diffs)>15*np.std(coefnorm): -32.9551680525\n",
      "dist_diff 5.20838894882\n"
     ]
    },
    {
     "name": "stderr",
     "output_type": "stream",
     "text": [
      "\r",
      " 89%|█████████████████████████████████████████████████████████████████████▌        | 1125/1261 [13:30<01:36,  1.40it/s]"
     ]
    },
    {
     "name": "stdout",
     "output_type": "stream",
     "text": [
      "ret 4.3051835217411405e-05\n",
      "LA.norm(trackline.diffs)>15*np.std(coefnorm): -45.8222499228\n",
      "dist_diff 1.04351904602\n"
     ]
    },
    {
     "name": "stderr",
     "output_type": "stream",
     "text": [
      "\r",
      " 89%|█████████████████████████████████████████████████████████████████████▋        | 1126/1261 [13:31<01:36,  1.40it/s]"
     ]
    },
    {
     "name": "stdout",
     "output_type": "stream",
     "text": [
      "ret 1.736693626125385e-05\n",
      "LA.norm(trackline.diffs)>15*np.std(coefnorm): -55.8553166954\n",
      "dist_diff 4.81135196366\n"
     ]
    },
    {
     "name": "stderr",
     "output_type": "stream",
     "text": [
      "\r",
      " 89%|█████████████████████████████████████████████████████████████████████▋        | 1127/1261 [13:31<01:35,  1.40it/s]"
     ]
    },
    {
     "name": "stdout",
     "output_type": "stream",
     "text": [
      "ret 0.00010955158273279197\n",
      "LA.norm(trackline.diffs)>15*np.std(coefnorm): -60.4317143946\n",
      "dist_diff 5.66440612898\n"
     ]
    },
    {
     "name": "stderr",
     "output_type": "stream",
     "text": [
      "\r",
      " 89%|█████████████████████████████████████████████████████████████████████▊        | 1128/1261 [13:32<01:34,  1.40it/s]"
     ]
    },
    {
     "name": "stdout",
     "output_type": "stream",
     "text": [
      "ret 2.0731918134175853e-05\n",
      "LA.norm(trackline.diffs)>15*np.std(coefnorm): -92.9761834074\n",
      "dist_diff 6.82740367046\n"
     ]
    },
    {
     "name": "stderr",
     "output_type": "stream",
     "text": [
      "\r",
      " 90%|█████████████████████████████████████████████████████████████████████▊        | 1129/1261 [13:33<01:34,  1.40it/s]"
     ]
    },
    {
     "name": "stdout",
     "output_type": "stream",
     "text": [
      "ret 5.952613343906954e-07\n",
      "LA.norm(trackline.diffs)>15*np.std(coefnorm): -88.2074280346\n",
      "dist_diff 5.75752530884\n"
     ]
    },
    {
     "name": "stderr",
     "output_type": "stream",
     "text": [
      "\r",
      " 90%|█████████████████████████████████████████████████████████████████████▉        | 1130/1261 [13:33<01:33,  1.40it/s]"
     ]
    },
    {
     "name": "stdout",
     "output_type": "stream",
     "text": [
      "ret 6.051278103658131e-06\n",
      "LA.norm(trackline.diffs)>15*np.std(coefnorm): -81.4673111749\n",
      "dist_diff 2.99870121463\n"
     ]
    },
    {
     "name": "stderr",
     "output_type": "stream",
     "text": [
      "\r",
      " 90%|█████████████████████████████████████████████████████████████████████▉        | 1131/1261 [13:34<01:32,  1.40it/s]"
     ]
    },
    {
     "name": "stdout",
     "output_type": "stream",
     "text": [
      "ret 5.791158475959568e-05\n",
      "LA.norm(trackline.diffs)>15*np.std(coefnorm): -49.4481078187\n",
      "dist_diff 1.75157640622\n"
     ]
    },
    {
     "name": "stderr",
     "output_type": "stream",
     "text": [
      "\r",
      " 90%|██████████████████████████████████████████████████████████████████████        | 1132/1261 [13:35<01:32,  1.40it/s]"
     ]
    },
    {
     "name": "stdout",
     "output_type": "stream",
     "text": [
      "ret 8.502237166396753e-05\n",
      "LA.norm(trackline.diffs)>15*np.std(coefnorm): -85.7206299684\n",
      "dist_diff 3.5702198076\n"
     ]
    },
    {
     "name": "stderr",
     "output_type": "stream",
     "text": [
      "\r",
      " 90%|██████████████████████████████████████████████████████████████████████        | 1133/1261 [13:36<01:31,  1.41it/s]"
     ]
    },
    {
     "name": "stdout",
     "output_type": "stream",
     "text": [
      "ret 0.00010802630048600825\n",
      "LA.norm(trackline.diffs)>15*np.std(coefnorm): -79.9119687837\n",
      "dist_diff 2.58338393764\n"
     ]
    },
    {
     "name": "stderr",
     "output_type": "stream",
     "text": [
      "\r",
      " 90%|██████████████████████████████████████████████████████████████████████▏       | 1134/1261 [13:36<01:30,  1.40it/s]"
     ]
    },
    {
     "name": "stdout",
     "output_type": "stream",
     "text": [
      "ret 1.3230857625556869e-05\n",
      "LA.norm(trackline.diffs)>15*np.std(coefnorm): -119.39041652\n",
      "dist_diff 4.76359933095\n"
     ]
    },
    {
     "name": "stderr",
     "output_type": "stream",
     "text": [
      "\r",
      " 90%|██████████████████████████████████████████████████████████████████████▏       | 1135/1261 [13:37<01:29,  1.40it/s]"
     ]
    },
    {
     "name": "stdout",
     "output_type": "stream",
     "text": [
      "ret 5.9226821806923624e-05\n",
      "LA.norm(trackline.diffs)>15*np.std(coefnorm): -159.976497349\n",
      "dist_diff 2.90484431289\n"
     ]
    },
    {
     "name": "stderr",
     "output_type": "stream",
     "text": [
      "\r",
      " 90%|██████████████████████████████████████████████████████████████████████▎       | 1136/1261 [13:38<01:28,  1.40it/s]"
     ]
    },
    {
     "name": "stdout",
     "output_type": "stream",
     "text": [
      "ret 0.0001199094595107919\n",
      "LA.norm(trackline.diffs)>15*np.std(coefnorm): -183.353602017\n",
      "dist_diff 0.433282236567\n"
     ]
    },
    {
     "name": "stderr",
     "output_type": "stream",
     "text": [
      "\r",
      " 90%|██████████████████████████████████████████████████████████████████████▎       | 1137/1261 [13:38<01:28,  1.41it/s]"
     ]
    },
    {
     "name": "stdout",
     "output_type": "stream",
     "text": [
      "ret 4.983435962141458e-05\n",
      "LA.norm(trackline.diffs)>15*np.std(coefnorm): -199.617911244\n",
      "dist_diff 1.30655269171\n"
     ]
    },
    {
     "name": "stderr",
     "output_type": "stream",
     "text": [
      "\r",
      " 90%|██████████████████████████████████████████████████████████████████████▍       | 1138/1261 [13:39<01:27,  1.40it/s]"
     ]
    },
    {
     "name": "stdout",
     "output_type": "stream",
     "text": [
      "ret 9.686746081316588e-06\n",
      "LA.norm(trackline.diffs)>15*np.std(coefnorm): -178.672631949\n",
      "dist_diff 0.481761228308\n"
     ]
    },
    {
     "name": "stderr",
     "output_type": "stream",
     "text": [
      "\r",
      " 90%|██████████████████████████████████████████████████████████████████████▍       | 1139/1261 [13:40<01:26,  1.41it/s]"
     ]
    },
    {
     "name": "stdout",
     "output_type": "stream",
     "text": [
      "ret 3.129867265194708e-05\n",
      "LA.norm(trackline.diffs)>15*np.std(coefnorm): -153.823246475\n",
      "dist_diff 3.32011521021\n"
     ]
    },
    {
     "name": "stderr",
     "output_type": "stream",
     "text": [
      "\r",
      " 90%|██████████████████████████████████████████████████████████████████████▌       | 1140/1261 [13:41<01:26,  1.40it/s]"
     ]
    },
    {
     "name": "stdout",
     "output_type": "stream",
     "text": [
      "ret 0.00012089510671164927\n",
      "LA.norm(trackline.diffs)>15*np.std(coefnorm): -134.599332891\n",
      "dist_diff 0.318587627884\n"
     ]
    },
    {
     "name": "stderr",
     "output_type": "stream",
     "text": [
      "\r",
      " 90%|██████████████████████████████████████████████████████████████████████▌       | 1141/1261 [13:41<01:25,  1.40it/s]"
     ]
    },
    {
     "name": "stdout",
     "output_type": "stream",
     "text": [
      "ret 3.932955115182324e-05\n",
      "LA.norm(trackline.diffs)>15*np.std(coefnorm): -109.102111148\n",
      "dist_diff 5.63851633209\n"
     ]
    },
    {
     "name": "stderr",
     "output_type": "stream",
     "text": [
      "\r",
      " 91%|██████████████████████████████████████████████████████████████████████▋       | 1142/1261 [13:42<01:24,  1.40it/s]"
     ]
    },
    {
     "name": "stdout",
     "output_type": "stream",
     "text": [
      "ret 3.6999245054292196e-05\n",
      "LA.norm(trackline.diffs)>15*np.std(coefnorm): -95.5895116778\n",
      "dist_diff 1.46947180279\n"
     ]
    },
    {
     "name": "stderr",
     "output_type": "stream",
     "text": [
      "\r",
      " 91%|██████████████████████████████████████████████████████████████████████▋       | 1143/1261 [13:43<01:24,  1.40it/s]"
     ]
    },
    {
     "name": "stdout",
     "output_type": "stream",
     "text": [
      "ret 0.0001257427154549018\n",
      "LA.norm(trackline.diffs)>15*np.std(coefnorm): -31.3355556942\n",
      "dist_diff 5.88639874542\n"
     ]
    },
    {
     "name": "stderr",
     "output_type": "stream",
     "text": [
      "\r",
      " 91%|██████████████████████████████████████████████████████████████████████▊       | 1144/1261 [13:43<01:23,  1.40it/s]"
     ]
    },
    {
     "name": "stdout",
     "output_type": "stream",
     "text": [
      "ret 6.044268388399887e-05\n",
      "LA.norm(trackline.diffs)>15*np.std(coefnorm): -40.2959856532\n",
      "dist_diff 3.08205190175\n"
     ]
    },
    {
     "name": "stderr",
     "output_type": "stream",
     "text": [
      "\r",
      " 91%|██████████████████████████████████████████████████████████████████████▊       | 1145/1261 [13:44<01:22,  1.41it/s]"
     ]
    },
    {
     "name": "stdout",
     "output_type": "stream",
     "text": [
      "ret 4.595977104393523e-05\n",
      "LA.norm(trackline.diffs)>15*np.std(coefnorm): -78.9563920809\n",
      "dist_diff 2.49858230625\n"
     ]
    },
    {
     "name": "stderr",
     "output_type": "stream",
     "text": [
      "\r",
      " 91%|██████████████████████████████████████████████████████████████████████▉       | 1146/1261 [13:45<01:21,  1.42it/s]"
     ]
    },
    {
     "name": "stdout",
     "output_type": "stream",
     "text": [
      "ret 4.0074569622905454e-05\n",
      "LA.norm(trackline.diffs)>15*np.std(coefnorm): -83.7693222333\n",
      "dist_diff 1.59594588086\n"
     ]
    },
    {
     "name": "stderr",
     "output_type": "stream",
     "text": [
      "\r",
      " 91%|██████████████████████████████████████████████████████████████████████▉       | 1147/1261 [13:46<01:20,  1.42it/s]"
     ]
    },
    {
     "name": "stdout",
     "output_type": "stream",
     "text": [
      "ret 8.84265571474141e-05\n",
      "LA.norm(trackline.diffs)>15*np.std(coefnorm): -83.3042802208\n",
      "dist_diff 2.20117577847\n"
     ]
    },
    {
     "name": "stderr",
     "output_type": "stream",
     "text": [
      "\r",
      " 91%|███████████████████████████████████████████████████████████████████████       | 1148/1261 [13:46<01:19,  1.42it/s]"
     ]
    },
    {
     "name": "stdout",
     "output_type": "stream",
     "text": [
      "ret 0.0001550187771671152\n",
      "LA.norm(trackline.diffs)>15*np.std(coefnorm): -58.259209364\n",
      "dist_diff 1.30268186033\n"
     ]
    },
    {
     "name": "stderr",
     "output_type": "stream",
     "text": [
      "\r",
      " 91%|███████████████████████████████████████████████████████████████████████       | 1149/1261 [13:47<01:19,  1.41it/s]"
     ]
    },
    {
     "name": "stdout",
     "output_type": "stream",
     "text": [
      "ret 0.0001066703668498592\n",
      "LA.norm(trackline.diffs)>15*np.std(coefnorm): -57.2232597625\n",
      "dist_diff 1.79664431445\n"
     ]
    },
    {
     "name": "stderr",
     "output_type": "stream",
     "text": [
      "\r",
      " 91%|███████████████████████████████████████████████████████████████████████▏      | 1150/1261 [13:48<01:18,  1.41it/s]"
     ]
    },
    {
     "name": "stdout",
     "output_type": "stream",
     "text": [
      "ret 2.040662187319242e-05\n",
      "LA.norm(trackline.diffs)>15*np.std(coefnorm): -57.145132504\n",
      "dist_diff 0.642018651578\n"
     ]
    },
    {
     "name": "stderr",
     "output_type": "stream",
     "text": [
      "\r",
      " 91%|███████████████████████████████████████████████████████████████████████▏      | 1151/1261 [13:48<01:18,  1.40it/s]"
     ]
    },
    {
     "name": "stdout",
     "output_type": "stream",
     "text": [
      "ret 5.206600109469717e-05\n",
      "LA.norm(trackline.diffs)>15*np.std(coefnorm): -74.0863125776\n",
      "dist_diff 6.65731537851\n"
     ]
    },
    {
     "name": "stderr",
     "output_type": "stream",
     "text": [
      "\r",
      " 91%|███████████████████████████████████████████████████████████████████████▎      | 1152/1261 [13:49<01:17,  1.40it/s]"
     ]
    },
    {
     "name": "stdout",
     "output_type": "stream",
     "text": [
      "ret 1.2056130348381267e-05\n",
      "LA.norm(trackline.diffs)>15*np.std(coefnorm): -80.2381974133\n",
      "dist_diff 1.86469652858\n"
     ]
    },
    {
     "name": "stderr",
     "output_type": "stream",
     "text": [
      "\r",
      " 91%|███████████████████████████████████████████████████████████████████████▎      | 1153/1261 [13:50<01:17,  1.40it/s]"
     ]
    },
    {
     "name": "stdout",
     "output_type": "stream",
     "text": [
      "ret 2.7965571471277872e-05\n",
      "LA.norm(trackline.diffs)>15*np.std(coefnorm): -59.0620954463\n",
      "dist_diff 6.93711631656\n"
     ]
    },
    {
     "name": "stderr",
     "output_type": "stream",
     "text": [
      "\r",
      " 92%|███████████████████████████████████████████████████████████████████████▍      | 1154/1261 [13:51<01:16,  1.40it/s]"
     ]
    },
    {
     "name": "stdout",
     "output_type": "stream",
     "text": [
      "ret 7.3363502761159e-05\n",
      "LA.norm(trackline.diffs)>15*np.std(coefnorm): -78.3415904754\n",
      "dist_diff 3.3329480601\n"
     ]
    },
    {
     "name": "stderr",
     "output_type": "stream",
     "text": [
      "\r",
      " 92%|███████████████████████████████████████████████████████████████████████▍      | 1155/1261 [13:51<01:15,  1.40it/s]"
     ]
    },
    {
     "name": "stdout",
     "output_type": "stream",
     "text": [
      "ret 5.8214693999747436e-05\n",
      "LA.norm(trackline.diffs)>15*np.std(coefnorm): -77.6978020371\n",
      "dist_diff 4.88766715156\n"
     ]
    },
    {
     "name": "stderr",
     "output_type": "stream",
     "text": [
      "\r",
      " 92%|███████████████████████████████████████████████████████████████████████▌      | 1156/1261 [13:52<01:15,  1.40it/s]"
     ]
    },
    {
     "name": "stdout",
     "output_type": "stream",
     "text": [
      "ret 2.6933693077657583e-05\n",
      "LA.norm(trackline.diffs)>15*np.std(coefnorm): -50.6554696105\n",
      "dist_diff 4.77466926655\n"
     ]
    },
    {
     "name": "stderr",
     "output_type": "stream",
     "text": [
      "\r",
      " 92%|███████████████████████████████████████████████████████████████████████▌      | 1157/1261 [13:53<01:14,  1.40it/s]"
     ]
    },
    {
     "name": "stdout",
     "output_type": "stream",
     "text": [
      "ret 8.840644958096888e-06\n",
      "LA.norm(trackline.diffs)>15*np.std(coefnorm): -77.4489933485\n",
      "dist_diff 0.513558173202\n"
     ]
    },
    {
     "name": "stderr",
     "output_type": "stream",
     "text": [
      "\r",
      " 92%|███████████████████████████████████████████████████████████████████████▋      | 1158/1261 [13:53<01:13,  1.39it/s]"
     ]
    },
    {
     "name": "stdout",
     "output_type": "stream",
     "text": [
      "ret 1.8858156434597984e-05\n",
      "LA.norm(trackline.diffs)>15*np.std(coefnorm): -82.8433234358\n",
      "dist_diff 0.687109968618\n"
     ]
    },
    {
     "name": "stderr",
     "output_type": "stream",
     "text": [
      "\r",
      " 92%|███████████████████████████████████████████████████████████████████████▋      | 1159/1261 [13:54<01:13,  1.39it/s]"
     ]
    },
    {
     "name": "stdout",
     "output_type": "stream",
     "text": [
      "ret 0.0001657904705616997\n",
      "LA.norm(trackline.diffs)>15*np.std(coefnorm): -81.4647149806\n",
      "dist_diff 2.26824313981\n"
     ]
    },
    {
     "name": "stderr",
     "output_type": "stream",
     "text": [
      "\r",
      " 92%|███████████████████████████████████████████████████████████████████████▊      | 1160/1261 [13:55<01:12,  1.40it/s]"
     ]
    },
    {
     "name": "stdout",
     "output_type": "stream",
     "text": [
      "ret 0.00014882437918245506\n",
      "LA.norm(trackline.diffs)>15*np.std(coefnorm): -92.0297715839\n",
      "dist_diff 0.18977220628\n"
     ]
    },
    {
     "name": "stderr",
     "output_type": "stream",
     "text": [
      "\r",
      " 92%|███████████████████████████████████████████████████████████████████████▊      | 1161/1261 [13:56<01:11,  1.40it/s]"
     ]
    },
    {
     "name": "stdout",
     "output_type": "stream",
     "text": [
      "ret 2.4509271591310888e-05\n",
      "LA.norm(trackline.diffs)>15*np.std(coefnorm): -117.625621109\n",
      "dist_diff 0.738873313291\n"
     ]
    },
    {
     "name": "stderr",
     "output_type": "stream",
     "text": [
      "\r",
      " 92%|███████████████████████████████████████████████████████████████████████▉      | 1162/1261 [13:56<01:10,  1.40it/s]"
     ]
    },
    {
     "name": "stdout",
     "output_type": "stream",
     "text": [
      "ret 9.864359520811439e-05\n",
      "LA.norm(trackline.diffs)>15*np.std(coefnorm): -137.175797619\n",
      "dist_diff 1.87048200128\n"
     ]
    },
    {
     "name": "stderr",
     "output_type": "stream",
     "text": [
      "\r",
      " 92%|███████████████████████████████████████████████████████████████████████▉      | 1163/1261 [13:57<01:09,  1.40it/s]"
     ]
    },
    {
     "name": "stdout",
     "output_type": "stream",
     "text": [
      "ret 8.474028760724339e-05\n",
      "LA.norm(trackline.diffs)>15*np.std(coefnorm): -135.011860262\n",
      "dist_diff 0.761257581303\n"
     ]
    },
    {
     "name": "stderr",
     "output_type": "stream",
     "text": [
      "\r",
      " 92%|████████████████████████████████████████████████████████████████████████      | 1164/1261 [13:58<01:09,  1.40it/s]"
     ]
    },
    {
     "name": "stdout",
     "output_type": "stream",
     "text": [
      "ret 8.256893239177998e-05\n",
      "LA.norm(trackline.diffs)>15*np.std(coefnorm): -152.520043669\n",
      "dist_diff 4.99402518812\n"
     ]
    },
    {
     "name": "stderr",
     "output_type": "stream",
     "text": [
      "\r",
      " 92%|████████████████████████████████████████████████████████████████████████      | 1165/1261 [13:58<01:08,  1.40it/s]"
     ]
    },
    {
     "name": "stdout",
     "output_type": "stream",
     "text": [
      "ret 0.0001710668433871354\n",
      "LA.norm(trackline.diffs)>15*np.std(coefnorm): -146.528122405\n",
      "dist_diff 4.52238430878\n"
     ]
    },
    {
     "name": "stderr",
     "output_type": "stream",
     "text": [
      "\r",
      " 92%|████████████████████████████████████████████████████████████████████████      | 1166/1261 [13:59<01:08,  1.39it/s]"
     ]
    },
    {
     "name": "stdout",
     "output_type": "stream",
     "text": [
      "ret 1.4806234721609357e-05\n",
      "LA.norm(trackline.diffs)>15*np.std(coefnorm): -147.056273835\n",
      "dist_diff 1.26848991245\n"
     ]
    },
    {
     "name": "stderr",
     "output_type": "stream",
     "text": [
      "\r",
      " 93%|████████████████████████████████████████████████████████████████████████▏     | 1167/1261 [14:00<01:07,  1.40it/s]"
     ]
    },
    {
     "name": "stdout",
     "output_type": "stream",
     "text": [
      "ret 0.0001693999525194112\n",
      "LA.norm(trackline.diffs)>15*np.std(coefnorm): -165.162711708\n",
      "dist_diff 6.38938736944\n"
     ]
    },
    {
     "name": "stderr",
     "output_type": "stream",
     "text": [
      "\r",
      " 93%|████████████████████████████████████████████████████████████████████████▏     | 1168/1261 [14:01<01:06,  1.40it/s]"
     ]
    },
    {
     "name": "stdout",
     "output_type": "stream",
     "text": [
      "ret 0.0001770145371478571\n",
      "LA.norm(trackline.diffs)>15*np.std(coefnorm): -127.94692949\n",
      "dist_diff 3.32046898703\n"
     ]
    },
    {
     "name": "stderr",
     "output_type": "stream",
     "text": [
      "\r",
      " 93%|████████████████████████████████████████████████████████████████████████▎     | 1169/1261 [14:01<01:05,  1.40it/s]"
     ]
    },
    {
     "name": "stdout",
     "output_type": "stream",
     "text": [
      "ret 2.5054428849702326e-05\n",
      "LA.norm(trackline.diffs)>15*np.std(coefnorm): -103.329056036\n",
      "dist_diff 0.836450083774\n"
     ]
    },
    {
     "name": "stderr",
     "output_type": "stream",
     "text": [
      "\r",
      " 93%|████████████████████████████████████████████████████████████████████████▎     | 1170/1261 [14:02<01:05,  1.40it/s]"
     ]
    },
    {
     "name": "stdout",
     "output_type": "stream",
     "text": [
      "ret 0.00017969013198271266\n",
      "LA.norm(trackline.diffs)>15*np.std(coefnorm): -77.3410746089\n",
      "dist_diff 1.31168651554\n"
     ]
    },
    {
     "name": "stderr",
     "output_type": "stream",
     "text": [
      "\r",
      " 93%|████████████████████████████████████████████████████████████████████████▍     | 1171/1261 [14:03<01:04,  1.40it/s]"
     ]
    },
    {
     "name": "stdout",
     "output_type": "stream",
     "text": [
      "ret 2.337626281156968e-06\n",
      "LA.norm(trackline.diffs)>15*np.std(coefnorm): -64.9239621048\n",
      "dist_diff 0.146278187695\n"
     ]
    },
    {
     "name": "stderr",
     "output_type": "stream",
     "text": [
      "\r",
      " 93%|████████████████████████████████████████████████████████████████████████▍     | 1172/1261 [14:03<01:03,  1.40it/s]"
     ]
    },
    {
     "name": "stdout",
     "output_type": "stream",
     "text": [
      "ret 3.8578328657334904e-05\n",
      "LA.norm(trackline.diffs)>15*np.std(coefnorm): -66.5478942337\n",
      "dist_diff 0.244734347144\n"
     ]
    },
    {
     "name": "stderr",
     "output_type": "stream",
     "text": [
      "\r",
      " 93%|████████████████████████████████████████████████████████████████████████▌     | 1173/1261 [14:04<01:02,  1.40it/s]"
     ]
    },
    {
     "name": "stdout",
     "output_type": "stream",
     "text": [
      "ret 4.515783265190976e-05\n",
      "LA.norm(trackline.diffs)>15*np.std(coefnorm): -52.1191600868\n",
      "dist_diff 12.2936184698\n"
     ]
    },
    {
     "name": "stderr",
     "output_type": "stream",
     "text": [
      "\r",
      " 93%|████████████████████████████████████████████████████████████████████████▌     | 1174/1261 [14:05<01:02,  1.40it/s]"
     ]
    },
    {
     "name": "stdout",
     "output_type": "stream",
     "text": [
      "ret 4.7669966387442475e-05\n",
      "LA.norm(trackline.diffs)>15*np.std(coefnorm): -59.0684812987\n",
      "dist_diff 7.12552712967\n"
     ]
    },
    {
     "name": "stderr",
     "output_type": "stream",
     "text": [
      "\r",
      " 93%|████████████████████████████████████████████████████████████████████████▋     | 1175/1261 [14:06<01:01,  1.41it/s]"
     ]
    },
    {
     "name": "stdout",
     "output_type": "stream",
     "text": [
      "ret 8.84383557891999e-06\n",
      "LA.norm(trackline.diffs)>15*np.std(coefnorm): -59.6768409866\n",
      "dist_diff 8.0234025699\n"
     ]
    },
    {
     "name": "stderr",
     "output_type": "stream",
     "text": [
      "\r",
      " 93%|████████████████████████████████████████████████████████████████████████▋     | 1176/1261 [14:06<01:00,  1.40it/s]"
     ]
    },
    {
     "name": "stdout",
     "output_type": "stream",
     "text": [
      "ret 1.6257245983530844e-05\n",
      "LA.norm(trackline.diffs)>15*np.std(coefnorm): -53.1922284486\n",
      "dist_diff 3.45272260554\n"
     ]
    },
    {
     "name": "stderr",
     "output_type": "stream",
     "text": [
      "\r",
      " 93%|████████████████████████████████████████████████████████████████████████▊     | 1177/1261 [14:07<00:59,  1.41it/s]"
     ]
    },
    {
     "name": "stdout",
     "output_type": "stream",
     "text": [
      "ret 3.074889096288391e-05\n",
      "LA.norm(trackline.diffs)>15*np.std(coefnorm): -55.1215417383\n",
      "dist_diff 7.53545363171\n"
     ]
    },
    {
     "name": "stderr",
     "output_type": "stream",
     "text": [
      "\r",
      " 93%|████████████████████████████████████████████████████████████████████████▊     | 1178/1261 [14:08<00:59,  1.40it/s]"
     ]
    },
    {
     "name": "stdout",
     "output_type": "stream",
     "text": [
      "ret 1.0807267045720437e-06\n",
      "LA.norm(trackline.diffs)>15*np.std(coefnorm): -64.4804135062\n",
      "dist_diff 3.45981984204\n"
     ]
    },
    {
     "name": "stderr",
     "output_type": "stream",
     "text": [
      "\r",
      " 93%|████████████████████████████████████████████████████████████████████████▉     | 1179/1261 [14:08<00:58,  1.40it/s]"
     ]
    },
    {
     "name": "stdout",
     "output_type": "stream",
     "text": [
      "ret 1.4169517963014133e-05\n",
      "LA.norm(trackline.diffs)>15*np.std(coefnorm): -65.0652311682\n",
      "dist_diff 3.63666291129\n"
     ]
    },
    {
     "name": "stderr",
     "output_type": "stream",
     "text": [
      "\r",
      " 94%|████████████████████████████████████████████████████████████████████████▉     | 1180/1261 [14:09<00:58,  1.40it/s]"
     ]
    },
    {
     "name": "stdout",
     "output_type": "stream",
     "text": [
      "ret 1.2183419584310684e-07\n",
      "LA.norm(trackline.diffs)>15*np.std(coefnorm): -49.9580540277\n",
      "dist_diff 1.19561885544\n"
     ]
    },
    {
     "name": "stderr",
     "output_type": "stream",
     "text": [
      "\r",
      " 94%|█████████████████████████████████████████████████████████████████████████     | 1181/1261 [14:10<00:57,  1.40it/s]"
     ]
    },
    {
     "name": "stdout",
     "output_type": "stream",
     "text": [
      "ret 2.6304250687947395e-05\n",
      "LA.norm(trackline.diffs)>15*np.std(coefnorm): -76.3361307318\n",
      "dist_diff 3.80373280062\n"
     ]
    },
    {
     "name": "stderr",
     "output_type": "stream",
     "text": [
      "\r",
      " 94%|█████████████████████████████████████████████████████████████████████████     | 1182/1261 [14:11<00:56,  1.40it/s]"
     ]
    },
    {
     "name": "stdout",
     "output_type": "stream",
     "text": [
      "ret 2.3035791307413067e-05\n",
      "LA.norm(trackline.diffs)>15*np.std(coefnorm): -79.7924358882\n",
      "dist_diff 0.982464217591\n"
     ]
    },
    {
     "name": "stderr",
     "output_type": "stream",
     "text": [
      "\r",
      " 94%|█████████████████████████████████████████████████████████████████████████▏    | 1183/1261 [14:11<00:55,  1.40it/s]"
     ]
    },
    {
     "name": "stdout",
     "output_type": "stream",
     "text": [
      "ret 7.58447344634261e-05\n",
      "LA.norm(trackline.diffs)>15*np.std(coefnorm): -101.743004142\n",
      "dist_diff 2.75406729455\n"
     ]
    },
    {
     "name": "stderr",
     "output_type": "stream",
     "text": [
      "\r",
      " 94%|█████████████████████████████████████████████████████████████████████████▏    | 1184/1261 [14:12<00:55,  1.40it/s]"
     ]
    },
    {
     "name": "stdout",
     "output_type": "stream",
     "text": [
      "ret 3.874996565350619e-05\n",
      "LA.norm(trackline.diffs)>15*np.std(coefnorm): -128.970564552\n",
      "dist_diff 7.20677139358\n"
     ]
    },
    {
     "name": "stderr",
     "output_type": "stream",
     "text": [
      "\r",
      " 94%|█████████████████████████████████████████████████████████████████████████▎    | 1185/1261 [14:13<00:54,  1.40it/s]"
     ]
    },
    {
     "name": "stdout",
     "output_type": "stream",
     "text": [
      "ret 1.5282469492339246e-05\n",
      "LA.norm(trackline.diffs)>15*np.std(coefnorm): -140.746298644\n",
      "dist_diff 0.68157896975\n"
     ]
    },
    {
     "name": "stderr",
     "output_type": "stream",
     "text": [
      "\r",
      " 94%|█████████████████████████████████████████████████████████████████████████▎    | 1186/1261 [14:13<00:53,  1.40it/s]"
     ]
    },
    {
     "name": "stdout",
     "output_type": "stream",
     "text": [
      "ret 5.255102342899276e-05\n",
      "LA.norm(trackline.diffs)>15*np.std(coefnorm): -142.432975445\n",
      "dist_diff 0.522621208307\n"
     ]
    },
    {
     "name": "stderr",
     "output_type": "stream",
     "text": [
      "\r",
      " 94%|█████████████████████████████████████████████████████████████████████████▍    | 1187/1261 [14:14<00:52,  1.41it/s]"
     ]
    },
    {
     "name": "stdout",
     "output_type": "stream",
     "text": [
      "ret 8.335221718447361e-06\n",
      "LA.norm(trackline.diffs)>15*np.std(coefnorm): -126.271633689\n",
      "dist_diff 1.24478143783\n"
     ]
    },
    {
     "name": "stderr",
     "output_type": "stream",
     "text": [
      "\r",
      " 94%|█████████████████████████████████████████████████████████████████████████▍    | 1188/1261 [14:15<00:51,  1.40it/s]"
     ]
    },
    {
     "name": "stdout",
     "output_type": "stream",
     "text": [
      "ret 3.8254806085824544e-05\n",
      "LA.norm(trackline.diffs)>15*np.std(coefnorm): -124.959799359\n",
      "dist_diff 7.55747772879\n"
     ]
    },
    {
     "name": "stderr",
     "output_type": "stream",
     "text": [
      "\r",
      " 94%|█████████████████████████████████████████████████████████████████████████▌    | 1189/1261 [14:16<00:51,  1.41it/s]"
     ]
    },
    {
     "name": "stdout",
     "output_type": "stream",
     "text": [
      "ret 0.00014715945346094328\n",
      "LA.norm(trackline.diffs)>15*np.std(coefnorm): -102.781637094\n",
      "dist_diff 11.7186828582\n"
     ]
    },
    {
     "name": "stderr",
     "output_type": "stream",
     "text": [
      "\r",
      " 94%|█████████████████████████████████████████████████████████████████████████▌    | 1190/1261 [14:16<00:50,  1.40it/s]"
     ]
    },
    {
     "name": "stdout",
     "output_type": "stream",
     "text": [
      "ret 0.00015439169159553456\n",
      "LA.norm(trackline.diffs)>15*np.std(coefnorm): -100.855692483\n",
      "dist_diff 3.46999382744\n"
     ]
    },
    {
     "name": "stderr",
     "output_type": "stream",
     "text": [
      "\r",
      " 94%|█████████████████████████████████████████████████████████████████████████▋    | 1191/1261 [14:17<00:49,  1.40it/s]"
     ]
    },
    {
     "name": "stdout",
     "output_type": "stream",
     "text": [
      "ret 0.00013855027109344054\n",
      "LA.norm(trackline.diffs)>15*np.std(coefnorm): -70.1265862259\n",
      "dist_diff 2.45007501805\n"
     ]
    },
    {
     "name": "stderr",
     "output_type": "stream",
     "text": [
      "\r",
      " 95%|█████████████████████████████████████████████████████████████████████████▋    | 1192/1261 [14:18<00:49,  1.40it/s]"
     ]
    },
    {
     "name": "stdout",
     "output_type": "stream",
     "text": [
      "ret 8.23040357427196e-05\n",
      "LA.norm(trackline.diffs)>15*np.std(coefnorm): -59.1747436044\n",
      "dist_diff 0.936870045675\n"
     ]
    },
    {
     "name": "stderr",
     "output_type": "stream",
     "text": [
      "\r",
      " 95%|█████████████████████████████████████████████████████████████████████████▊    | 1193/1261 [14:18<00:48,  1.40it/s]"
     ]
    },
    {
     "name": "stdout",
     "output_type": "stream",
     "text": [
      "ret 0.00015509457300155738\n",
      "LA.norm(trackline.diffs)>15*np.std(coefnorm): -67.908395307\n",
      "dist_diff 0.770650127983\n"
     ]
    },
    {
     "name": "stderr",
     "output_type": "stream",
     "text": [
      "\r",
      " 95%|█████████████████████████████████████████████████████████████████████████▊    | 1194/1261 [14:19<00:48,  1.40it/s]"
     ]
    },
    {
     "name": "stdout",
     "output_type": "stream",
     "text": [
      "ret 0.0001304720751756916\n",
      "LA.norm(trackline.diffs)>15*np.std(coefnorm): -69.0306547035\n",
      "dist_diff 1.27438890246\n"
     ]
    },
    {
     "name": "stderr",
     "output_type": "stream",
     "text": [
      "\r",
      " 95%|█████████████████████████████████████████████████████████████████████████▉    | 1195/1261 [14:20<00:47,  1.40it/s]"
     ]
    },
    {
     "name": "stdout",
     "output_type": "stream",
     "text": [
      "ret 1.755669021036299e-05\n",
      "LA.norm(trackline.diffs)>15*np.std(coefnorm): -68.6663314989\n",
      "dist_diff 3.53327200119\n"
     ]
    },
    {
     "name": "stderr",
     "output_type": "stream",
     "text": [
      "\r",
      " 95%|█████████████████████████████████████████████████████████████████████████▉    | 1196/1261 [14:21<00:46,  1.40it/s]"
     ]
    },
    {
     "name": "stdout",
     "output_type": "stream",
     "text": [
      "ret 5.5749496646606556e-05\n",
      "LA.norm(trackline.diffs)>15*np.std(coefnorm): -95.0319269358\n",
      "dist_diff 5.20231211807\n"
     ]
    },
    {
     "name": "stderr",
     "output_type": "stream",
     "text": [
      "\r",
      " 95%|██████████████████████████████████████████████████████████████████████████    | 1197/1261 [14:21<00:45,  1.40it/s]"
     ]
    },
    {
     "name": "stdout",
     "output_type": "stream",
     "text": [
      "ret 9.771593412943869e-05\n",
      "LA.norm(trackline.diffs)>15*np.std(coefnorm): -96.3147874721\n",
      "dist_diff 2.79624995531\n"
     ]
    },
    {
     "name": "stderr",
     "output_type": "stream",
     "text": [
      "\r",
      " 95%|██████████████████████████████████████████████████████████████████████████    | 1198/1261 [14:22<00:45,  1.40it/s]"
     ]
    },
    {
     "name": "stdout",
     "output_type": "stream",
     "text": [
      "ret 9.891634769204627e-05\n",
      "LA.norm(trackline.diffs)>15*np.std(coefnorm): -51.7077180481\n",
      "dist_diff 6.50221069276\n"
     ]
    },
    {
     "name": "stderr",
     "output_type": "stream",
     "text": [
      "\r",
      " 95%|██████████████████████████████████████████████████████████████████████████▏   | 1199/1261 [14:23<00:44,  1.40it/s]"
     ]
    },
    {
     "name": "stdout",
     "output_type": "stream",
     "text": [
      "ret 0.00011370510462471728\n",
      "LA.norm(trackline.diffs)>15*np.std(coefnorm): -22.588798892\n",
      "dist_diff 0.511501883319\n"
     ]
    },
    {
     "name": "stderr",
     "output_type": "stream",
     "text": [
      "\r",
      " 95%|██████████████████████████████████████████████████████████████████████████▏   | 1200/1261 [14:23<00:43,  1.40it/s]"
     ]
    },
    {
     "name": "stdout",
     "output_type": "stream",
     "text": [
      "ret 0.0001679521009292917\n",
      "LA.norm(trackline.diffs)>15*np.std(coefnorm): -5.59637236699\n",
      "dist_diff 10.6006498597\n"
     ]
    },
    {
     "name": "stderr",
     "output_type": "stream",
     "text": [
      "\r",
      " 95%|██████████████████████████████████████████████████████████████████████████▎   | 1201/1261 [14:24<00:42,  1.40it/s]"
     ]
    },
    {
     "name": "stdout",
     "output_type": "stream",
     "text": [
      "ret 0.00023681789684004695\n",
      "LA.norm(trackline.diffs)>15*np.std(coefnorm): 2.4098848179\n",
      "dist_diff 1.48942892284\n"
     ]
    },
    {
     "name": "stderr",
     "output_type": "stream",
     "text": [
      "\r",
      " 95%|██████████████████████████████████████████████████████████████████████████▎   | 1202/1261 [14:25<00:42,  1.40it/s]"
     ]
    },
    {
     "name": "stdout",
     "output_type": "stream",
     "text": [
      "ret 0.00015116730440112303\n",
      "LA.norm(trackline.diffs)>15*np.std(coefnorm): -16.5937819305\n",
      "dist_diff 4.04717182245\n"
     ]
    },
    {
     "name": "stderr",
     "output_type": "stream",
     "text": [
      "\r",
      " 95%|██████████████████████████████████████████████████████████████████████████▍   | 1203/1261 [14:26<00:41,  1.40it/s]"
     ]
    },
    {
     "name": "stdout",
     "output_type": "stream",
     "text": [
      "ret 0.00014892160930474185\n",
      "LA.norm(trackline.diffs)>15*np.std(coefnorm): -56.0133045686\n",
      "dist_diff 3.05658642488\n"
     ]
    },
    {
     "name": "stderr",
     "output_type": "stream",
     "text": [
      "\r",
      " 95%|██████████████████████████████████████████████████████████████████████████▍   | 1204/1261 [14:26<00:40,  1.40it/s]"
     ]
    },
    {
     "name": "stdout",
     "output_type": "stream",
     "text": [
      "ret 0.0001588514977187705\n",
      "LA.norm(trackline.diffs)>15*np.std(coefnorm): -92.2310938415\n",
      "dist_diff 0.992107012761\n"
     ]
    },
    {
     "name": "stderr",
     "output_type": "stream",
     "text": [
      "\r",
      " 96%|██████████████████████████████████████████████████████████████████████████▌   | 1205/1261 [14:27<00:39,  1.40it/s]"
     ]
    },
    {
     "name": "stdout",
     "output_type": "stream",
     "text": [
      "ret 0.00034473858405009716\n",
      "LA.norm(trackline.diffs)>15*np.std(coefnorm): -128.687591116\n",
      "dist_diff 3.13404461539\n"
     ]
    },
    {
     "name": "stderr",
     "output_type": "stream",
     "text": [
      "\r",
      " 96%|██████████████████████████████████████████████████████████████████████████▌   | 1206/1261 [14:28<00:39,  1.40it/s]"
     ]
    },
    {
     "name": "stdout",
     "output_type": "stream",
     "text": [
      "ret 0.0001317628924977221\n",
      "LA.norm(trackline.diffs)>15*np.std(coefnorm): -189.192074098\n",
      "dist_diff 5.24582941508\n"
     ]
    },
    {
     "name": "stderr",
     "output_type": "stream",
     "text": [
      "\r",
      " 96%|██████████████████████████████████████████████████████████████████████████▋   | 1207/1261 [14:28<00:38,  1.41it/s]"
     ]
    },
    {
     "name": "stdout",
     "output_type": "stream",
     "text": [
      "ret 3.974025930986169e-05\n",
      "LA.norm(trackline.diffs)>15*np.std(coefnorm): -225.449978823\n",
      "dist_diff 12.0641949972\n"
     ]
    },
    {
     "name": "stderr",
     "output_type": "stream",
     "text": [
      "\r",
      " 96%|██████████████████████████████████████████████████████████████████████████▋   | 1208/1261 [14:29<00:37,  1.40it/s]"
     ]
    },
    {
     "name": "stdout",
     "output_type": "stream",
     "text": [
      "ret 0.00021645110096507603\n",
      "LA.norm(trackline.diffs)>15*np.std(coefnorm): -208.825499054\n",
      "dist_diff 1.43218710142\n"
     ]
    },
    {
     "name": "stderr",
     "output_type": "stream",
     "text": [
      "\r",
      " 96%|██████████████████████████████████████████████████████████████████████████▊   | 1209/1261 [14:30<00:37,  1.40it/s]"
     ]
    },
    {
     "name": "stdout",
     "output_type": "stream",
     "text": [
      "ret 1.3398848871581936e-05\n",
      "LA.norm(trackline.diffs)>15*np.std(coefnorm): -233.209719362\n",
      "dist_diff 0.755383710401\n"
     ]
    },
    {
     "name": "stderr",
     "output_type": "stream",
     "text": [
      "\r",
      " 96%|██████████████████████████████████████████████████████████████████████████▊   | 1210/1261 [14:31<00:36,  1.40it/s]"
     ]
    },
    {
     "name": "stdout",
     "output_type": "stream",
     "text": [
      "ret 0.00015282520918469267\n",
      "LA.norm(trackline.diffs)>15*np.std(coefnorm): -256.279051731\n",
      "dist_diff 7.15572784287\n"
     ]
    },
    {
     "name": "stderr",
     "output_type": "stream",
     "text": [
      "\r",
      " 96%|██████████████████████████████████████████████████████████████████████████▉   | 1211/1261 [14:31<00:35,  1.40it/s]"
     ]
    },
    {
     "name": "stdout",
     "output_type": "stream",
     "text": [
      "ret 7.519507794134794e-05\n",
      "LA.norm(trackline.diffs)>15*np.std(coefnorm): -244.17638872\n",
      "dist_diff 0.726553935849\n"
     ]
    },
    {
     "name": "stderr",
     "output_type": "stream",
     "text": [
      "\r",
      " 96%|██████████████████████████████████████████████████████████████████████████▉   | 1212/1261 [14:32<00:34,  1.41it/s]"
     ]
    },
    {
     "name": "stdout",
     "output_type": "stream",
     "text": [
      "ret 0.00022365314040506679\n",
      "LA.norm(trackline.diffs)>15*np.std(coefnorm): -236.423600281\n",
      "dist_diff 2.01225596556\n"
     ]
    },
    {
     "name": "stderr",
     "output_type": "stream",
     "text": [
      "\r",
      " 96%|███████████████████████████████████████████████████████████████████████████   | 1213/1261 [14:33<00:34,  1.41it/s]"
     ]
    },
    {
     "name": "stdout",
     "output_type": "stream",
     "text": [
      "ret 2.544832240225503e-05\n",
      "LA.norm(trackline.diffs)>15*np.std(coefnorm): -180.435572476\n",
      "dist_diff 4.95521134769\n"
     ]
    },
    {
     "name": "stderr",
     "output_type": "stream",
     "text": [
      "\r",
      " 96%|███████████████████████████████████████████████████████████████████████████   | 1214/1261 [14:33<00:33,  1.40it/s]"
     ]
    },
    {
     "name": "stdout",
     "output_type": "stream",
     "text": [
      "ret 5.4980235015766876e-05\n",
      "LA.norm(trackline.diffs)>15*np.std(coefnorm): -129.163686579\n",
      "dist_diff 2.34984084524\n"
     ]
    },
    {
     "name": "stderr",
     "output_type": "stream",
     "text": [
      "\r",
      " 96%|███████████████████████████████████████████████████████████████████████████▏  | 1215/1261 [14:34<00:32,  1.40it/s]"
     ]
    },
    {
     "name": "stdout",
     "output_type": "stream",
     "text": [
      "ret 0.00010308626063648685\n",
      "LA.norm(trackline.diffs)>15*np.std(coefnorm): -66.0107192897\n",
      "dist_diff 6.33180018247\n"
     ]
    },
    {
     "name": "stderr",
     "output_type": "stream",
     "text": [
      "\r",
      " 96%|███████████████████████████████████████████████████████████████████████████▏  | 1216/1261 [14:35<00:32,  1.41it/s]"
     ]
    },
    {
     "name": "stdout",
     "output_type": "stream",
     "text": [
      "ret 0.00011037048903411728\n",
      "LA.norm(trackline.diffs)>15*np.std(coefnorm): -37.7406776487\n",
      "dist_diff 1.49595824369\n"
     ]
    },
    {
     "name": "stderr",
     "output_type": "stream",
     "text": [
      "\r",
      " 97%|███████████████████████████████████████████████████████████████████████████▎  | 1217/1261 [14:35<00:31,  1.41it/s]"
     ]
    },
    {
     "name": "stdout",
     "output_type": "stream",
     "text": [
      "ret 5.602018974426581e-06\n",
      "LA.norm(trackline.diffs)>15*np.std(coefnorm): -30.0010870738\n",
      "dist_diff 0.7285261535\n"
     ]
    },
    {
     "name": "stderr",
     "output_type": "stream",
     "text": [
      "\r",
      " 97%|███████████████████████████████████████████████████████████████████████████▎  | 1218/1261 [14:36<00:30,  1.41it/s]"
     ]
    },
    {
     "name": "stdout",
     "output_type": "stream",
     "text": [
      "ret 7.397447835011395e-06\n",
      "LA.norm(trackline.diffs)>15*np.std(coefnorm): -36.2414725125\n",
      "dist_diff 0.100468716723\n"
     ]
    },
    {
     "name": "stderr",
     "output_type": "stream",
     "text": [
      "\r",
      " 97%|███████████████████████████████████████████████████████████████████████████▍  | 1219/1261 [14:37<00:29,  1.40it/s]"
     ]
    },
    {
     "name": "stdout",
     "output_type": "stream",
     "text": [
      "ret 7.294375077182558e-06\n",
      "LA.norm(trackline.diffs)>15*np.std(coefnorm): -71.5594764546\n",
      "dist_diff 12.588489721\n"
     ]
    },
    {
     "name": "stderr",
     "output_type": "stream",
     "text": [
      "\r",
      " 97%|███████████████████████████████████████████████████████████████████████████▍  | 1220/1261 [14:38<00:29,  1.40it/s]"
     ]
    },
    {
     "name": "stdout",
     "output_type": "stream",
     "text": [
      "ret 6.946366915960844e-05\n",
      "LA.norm(trackline.diffs)>15*np.std(coefnorm): -61.0887567292\n",
      "dist_diff 6.45689653557\n"
     ]
    },
    {
     "name": "stderr",
     "output_type": "stream",
     "text": [
      "\r",
      " 97%|███████████████████████████████████████████████████████████████████████████▌  | 1221/1261 [14:38<00:28,  1.40it/s]"
     ]
    },
    {
     "name": "stdout",
     "output_type": "stream",
     "text": [
      "ret 7.776721205410286e-05\n",
      "LA.norm(trackline.diffs)>15*np.std(coefnorm): -66.8272488614\n",
      "dist_diff 7.30876676026\n"
     ]
    },
    {
     "name": "stderr",
     "output_type": "stream",
     "text": [
      "\r",
      " 97%|███████████████████████████████████████████████████████████████████████████▌  | 1222/1261 [14:39<00:27,  1.40it/s]"
     ]
    },
    {
     "name": "stdout",
     "output_type": "stream",
     "text": [
      "ret 6.76985897001825e-05\n",
      "LA.norm(trackline.diffs)>15*np.std(coefnorm): -64.5511649159\n",
      "dist_diff 8.42243375976\n"
     ]
    },
    {
     "name": "stderr",
     "output_type": "stream",
     "text": [
      "\r",
      " 97%|███████████████████████████████████████████████████████████████████████████▋  | 1223/1261 [14:40<00:27,  1.40it/s]"
     ]
    },
    {
     "name": "stdout",
     "output_type": "stream",
     "text": [
      "ret 0.00011593419317368348\n",
      "LA.norm(trackline.diffs)>15*np.std(coefnorm): -68.1513234691\n",
      "dist_diff 1.54262678023\n"
     ]
    },
    {
     "name": "stderr",
     "output_type": "stream",
     "text": [
      "\r",
      " 97%|███████████████████████████████████████████████████████████████████████████▋  | 1224/1261 [14:40<00:26,  1.40it/s]"
     ]
    },
    {
     "name": "stdout",
     "output_type": "stream",
     "text": [
      "ret 3.5932122403381506e-05\n",
      "LA.norm(trackline.diffs)>15*np.std(coefnorm): -50.336579026\n",
      "dist_diff 0.738788615839\n"
     ]
    },
    {
     "name": "stderr",
     "output_type": "stream",
     "text": [
      "\r",
      " 97%|███████████████████████████████████████████████████████████████████████████▊  | 1225/1261 [14:41<00:25,  1.40it/s]"
     ]
    },
    {
     "name": "stdout",
     "output_type": "stream",
     "text": [
      "ret 0.00017357921402783028\n",
      "LA.norm(trackline.diffs)>15*np.std(coefnorm): -70.8633684947\n",
      "dist_diff 2.75074107622\n"
     ]
    },
    {
     "name": "stderr",
     "output_type": "stream",
     "text": [
      "\r",
      " 97%|███████████████████████████████████████████████████████████████████████████▊  | 1226/1261 [14:42<00:25,  1.40it/s]"
     ]
    },
    {
     "name": "stdout",
     "output_type": "stream",
     "text": [
      "ret 0.0001878710610290768\n",
      "LA.norm(trackline.diffs)>15*np.std(coefnorm): -65.6624038151\n",
      "dist_diff 4.32225494759\n"
     ]
    },
    {
     "name": "stderr",
     "output_type": "stream",
     "text": [
      "\r",
      " 97%|███████████████████████████████████████████████████████████████████████████▉  | 1227/1261 [14:43<00:24,  1.40it/s]"
     ]
    },
    {
     "name": "stdout",
     "output_type": "stream",
     "text": [
      "ret 3.388849419255768e-05\n",
      "LA.norm(trackline.diffs)>15*np.std(coefnorm): -74.3749198873\n",
      "dist_diff 0.583073440783\n"
     ]
    },
    {
     "name": "stderr",
     "output_type": "stream",
     "text": [
      "\r",
      " 97%|███████████████████████████████████████████████████████████████████████████▉  | 1228/1261 [14:43<00:23,  1.39it/s]"
     ]
    },
    {
     "name": "stdout",
     "output_type": "stream",
     "text": [
      "ret 0.00012694515088201852\n",
      "LA.norm(trackline.diffs)>15*np.std(coefnorm): -71.6109009435\n",
      "dist_diff 0.325291190522\n"
     ]
    },
    {
     "name": "stderr",
     "output_type": "stream",
     "text": [
      "\r",
      " 97%|████████████████████████████████████████████████████████████████████████████  | 1229/1261 [14:44<00:22,  1.40it/s]"
     ]
    },
    {
     "name": "stdout",
     "output_type": "stream",
     "text": [
      "ret 4.254626639960124e-05\n",
      "LA.norm(trackline.diffs)>15*np.std(coefnorm): -92.0523448123\n",
      "dist_diff 4.32563589096\n"
     ]
    },
    {
     "name": "stderr",
     "output_type": "stream",
     "text": [
      "\r",
      " 98%|████████████████████████████████████████████████████████████████████████████  | 1230/1261 [14:45<00:22,  1.40it/s]"
     ]
    },
    {
     "name": "stdout",
     "output_type": "stream",
     "text": [
      "ret 6.093298557385829e-05\n",
      "LA.norm(trackline.diffs)>15*np.std(coefnorm): -100.663142187\n",
      "dist_diff 5.25926233111\n"
     ]
    },
    {
     "name": "stderr",
     "output_type": "stream",
     "text": [
      "\r",
      " 98%|████████████████████████████████████████████████████████████████████████████▏ | 1231/1261 [14:46<00:21,  1.39it/s]"
     ]
    },
    {
     "name": "stdout",
     "output_type": "stream",
     "text": [
      "ret 0.00019813464312495865\n",
      "LA.norm(trackline.diffs)>15*np.std(coefnorm): -93.4877192476\n",
      "dist_diff 6.31279494\n"
     ]
    },
    {
     "name": "stderr",
     "output_type": "stream",
     "text": [
      "\r",
      " 98%|████████████████████████████████████████████████████████████████████████████▏ | 1232/1261 [14:46<00:20,  1.40it/s]"
     ]
    },
    {
     "name": "stdout",
     "output_type": "stream",
     "text": [
      "ret 1.306625095226499e-05\n",
      "LA.norm(trackline.diffs)>15*np.std(coefnorm): -131.375090565\n",
      "dist_diff 7.32225730296\n"
     ]
    },
    {
     "name": "stderr",
     "output_type": "stream",
     "text": [
      "\r",
      " 98%|████████████████████████████████████████████████████████████████████████████▎ | 1233/1261 [14:47<00:20,  1.39it/s]"
     ]
    },
    {
     "name": "stdout",
     "output_type": "stream",
     "text": [
      "ret 0.0001577384849055785\n",
      "LA.norm(trackline.diffs)>15*np.std(coefnorm): -137.635928685\n",
      "dist_diff 2.9409044826\n"
     ]
    },
    {
     "name": "stderr",
     "output_type": "stream",
     "text": [
      "\r",
      " 98%|████████████████████████████████████████████████████████████████████████████▎ | 1234/1261 [14:48<00:19,  1.40it/s]"
     ]
    },
    {
     "name": "stdout",
     "output_type": "stream",
     "text": [
      "ret 0.00019196923166808766\n",
      "LA.norm(trackline.diffs)>15*np.std(coefnorm): -180.310971025\n",
      "dist_diff 0.525896879056\n"
     ]
    },
    {
     "name": "stderr",
     "output_type": "stream",
     "text": [
      "\r",
      " 98%|████████████████████████████████████████████████████████████████████████████▍ | 1235/1261 [14:48<00:18,  1.40it/s]"
     ]
    },
    {
     "name": "stdout",
     "output_type": "stream",
     "text": [
      "ret 4.959824550415659e-05\n",
      "LA.norm(trackline.diffs)>15*np.std(coefnorm): -233.227360542\n",
      "dist_diff 6.38315402225\n"
     ]
    },
    {
     "name": "stderr",
     "output_type": "stream",
     "text": [
      "\r",
      " 98%|████████████████████████████████████████████████████████████████████████████▍ | 1236/1261 [14:49<00:17,  1.40it/s]"
     ]
    },
    {
     "name": "stdout",
     "output_type": "stream",
     "text": [
      "ret 6.670081506499059e-05\n",
      "LA.norm(trackline.diffs)>15*np.std(coefnorm): -263.192324493\n",
      "dist_diff 4.63980360569\n"
     ]
    },
    {
     "name": "stderr",
     "output_type": "stream",
     "text": [
      "\r",
      " 98%|████████████████████████████████████████████████████████████████████████████▌ | 1237/1261 [14:50<00:17,  1.40it/s]"
     ]
    },
    {
     "name": "stdout",
     "output_type": "stream",
     "text": [
      "ret 5.803197132303595e-05\n",
      "LA.norm(trackline.diffs)>15*np.std(coefnorm): -271.29964573\n",
      "dist_diff 4.87357512167\n"
     ]
    },
    {
     "name": "stderr",
     "output_type": "stream",
     "text": [
      "\r",
      " 98%|████████████████████████████████████████████████████████████████████████████▌ | 1238/1261 [14:51<00:16,  1.40it/s]"
     ]
    },
    {
     "name": "stdout",
     "output_type": "stream",
     "text": [
      "ret 5.823435752838613e-06\n",
      "LA.norm(trackline.diffs)>15*np.std(coefnorm): -269.41865792\n",
      "dist_diff 3.41420652493\n"
     ]
    },
    {
     "name": "stderr",
     "output_type": "stream",
     "text": [
      "\r",
      " 98%|████████████████████████████████████████████████████████████████████████████▋ | 1239/1261 [14:51<00:15,  1.40it/s]"
     ]
    },
    {
     "name": "stdout",
     "output_type": "stream",
     "text": [
      "ret 3.061925047526115e-05\n",
      "LA.norm(trackline.diffs)>15*np.std(coefnorm): -267.066048247\n",
      "dist_diff 0.72784176479\n"
     ]
    },
    {
     "name": "stderr",
     "output_type": "stream",
     "text": [
      "\r",
      " 98%|████████████████████████████████████████████████████████████████████████████▋ | 1240/1261 [14:52<00:15,  1.40it/s]"
     ]
    },
    {
     "name": "stdout",
     "output_type": "stream",
     "text": [
      "ret 0.00010553270330787567\n",
      "LA.norm(trackline.diffs)>15*np.std(coefnorm): -231.564669172\n",
      "dist_diff 0.0499230484486\n"
     ]
    },
    {
     "name": "stderr",
     "output_type": "stream",
     "text": [
      "\r",
      " 98%|████████████████████████████████████████████████████████████████████████████▊ | 1241/1261 [14:53<00:14,  1.40it/s]"
     ]
    },
    {
     "name": "stdout",
     "output_type": "stream",
     "text": [
      "ret 0.00014178951733068157\n",
      "LA.norm(trackline.diffs)>15*np.std(coefnorm): -204.352831368\n",
      "dist_diff 9.87877889165\n"
     ]
    },
    {
     "name": "stderr",
     "output_type": "stream",
     "text": [
      "\r",
      " 98%|████████████████████████████████████████████████████████████████████████████▊ | 1242/1261 [14:53<00:13,  1.40it/s]"
     ]
    },
    {
     "name": "stdout",
     "output_type": "stream",
     "text": [
      "ret 0.00019753283223572504\n",
      "LA.norm(trackline.diffs)>15*np.std(coefnorm): -198.93010447\n",
      "dist_diff 3.9975261312\n"
     ]
    },
    {
     "name": "stderr",
     "output_type": "stream",
     "text": [
      "\r",
      " 99%|████████████████████████████████████████████████████████████████████████████▉ | 1243/1261 [14:54<00:12,  1.40it/s]"
     ]
    },
    {
     "name": "stdout",
     "output_type": "stream",
     "text": [
      "ret 0.0001187770696668422\n",
      "LA.norm(trackline.diffs)>15*np.std(coefnorm): -218.357952522\n",
      "dist_diff 0.340809377173\n"
     ]
    },
    {
     "name": "stderr",
     "output_type": "stream",
     "text": [
      "\r",
      " 99%|████████████████████████████████████████████████████████████████████████████▉ | 1244/1261 [14:55<00:12,  1.40it/s]"
     ]
    },
    {
     "name": "stdout",
     "output_type": "stream",
     "text": [
      "ret 2.173554804646427e-05\n",
      "LA.norm(trackline.diffs)>15*np.std(coefnorm): -261.53798975\n",
      "dist_diff 1.27236692775\n"
     ]
    },
    {
     "name": "stderr",
     "output_type": "stream",
     "text": [
      "\r",
      " 99%|█████████████████████████████████████████████████████████████████████████████ | 1245/1261 [14:56<00:11,  1.40it/s]"
     ]
    },
    {
     "name": "stdout",
     "output_type": "stream",
     "text": [
      "ret 0.00020270607724420797\n",
      "LA.norm(trackline.diffs)>15*np.std(coefnorm): -275.046431316\n",
      "dist_diff 4.26603262371\n"
     ]
    },
    {
     "name": "stderr",
     "output_type": "stream",
     "text": [
      "\r",
      " 99%|█████████████████████████████████████████████████████████████████████████████ | 1246/1261 [14:56<00:10,  1.40it/s]"
     ]
    },
    {
     "name": "stdout",
     "output_type": "stream",
     "text": [
      "ret 1.3387644025031342e-06\n",
      "LA.norm(trackline.diffs)>15*np.std(coefnorm): -330.581500381\n",
      "dist_diff 1.65678128077\n"
     ]
    },
    {
     "name": "stderr",
     "output_type": "stream",
     "text": [
      "\r",
      " 99%|█████████████████████████████████████████████████████████████████████████████▏| 1247/1261 [14:57<00:09,  1.40it/s]"
     ]
    },
    {
     "name": "stdout",
     "output_type": "stream",
     "text": [
      "ret 8.903821825112512e-06\n",
      "LA.norm(trackline.diffs)>15*np.std(coefnorm): -411.621763745\n",
      "dist_diff 6.59442711543\n"
     ]
    },
    {
     "name": "stderr",
     "output_type": "stream",
     "text": [
      "\r",
      " 99%|█████████████████████████████████████████████████████████████████████████████▏| 1248/1261 [14:58<00:09,  1.40it/s]"
     ]
    },
    {
     "name": "stdout",
     "output_type": "stream",
     "text": [
      "ret 3.777066512966609e-05\n",
      "LA.norm(trackline.diffs)>15*np.std(coefnorm): -429.781929557\n",
      "dist_diff 3.35594914497\n"
     ]
    },
    {
     "name": "stderr",
     "output_type": "stream",
     "text": [
      "\r",
      " 99%|█████████████████████████████████████████████████████████████████████████████▎| 1249/1261 [14:58<00:08,  1.40it/s]"
     ]
    },
    {
     "name": "stdout",
     "output_type": "stream",
     "text": [
      "ret 2.07334202163012e-05\n",
      "LA.norm(trackline.diffs)>15*np.std(coefnorm): -417.846454176\n",
      "dist_diff 2.87343778399\n"
     ]
    },
    {
     "name": "stderr",
     "output_type": "stream",
     "text": [
      "\r",
      " 99%|█████████████████████████████████████████████████████████████████████████████▎| 1250/1261 [14:59<00:07,  1.40it/s]"
     ]
    },
    {
     "name": "stdout",
     "output_type": "stream",
     "text": [
      "ret 3.0994745955137404e-05\n",
      "LA.norm(trackline.diffs)>15*np.std(coefnorm): -423.274243356\n",
      "dist_diff 5.43108111468\n"
     ]
    },
    {
     "name": "stderr",
     "output_type": "stream",
     "text": [
      "\r",
      " 99%|█████████████████████████████████████████████████████████████████████████████▍| 1251/1261 [15:00<00:07,  1.40it/s]"
     ]
    },
    {
     "name": "stdout",
     "output_type": "stream",
     "text": [
      "ret 7.824218410679151e-05\n",
      "LA.norm(trackline.diffs)>15*np.std(coefnorm): -353.211121875\n",
      "dist_diff 1.0426708431\n"
     ]
    },
    {
     "name": "stderr",
     "output_type": "stream",
     "text": [
      "\r",
      " 99%|█████████████████████████████████████████████████████████████████████████████▍| 1252/1261 [15:01<00:06,  1.40it/s]"
     ]
    },
    {
     "name": "stdout",
     "output_type": "stream",
     "text": [
      "ret 2.509011257750826e-05\n",
      "LA.norm(trackline.diffs)>15*np.std(coefnorm): -301.047700061\n",
      "dist_diff 5.21380464958\n"
     ]
    },
    {
     "name": "stderr",
     "output_type": "stream",
     "text": [
      "\r",
      " 99%|█████████████████████████████████████████████████████████████████████████████▌| 1253/1261 [15:01<00:05,  1.40it/s]"
     ]
    },
    {
     "name": "stdout",
     "output_type": "stream",
     "text": [
      "ret 5.9159124693675125e-05\n",
      "LA.norm(trackline.diffs)>15*np.std(coefnorm): -261.892310102\n",
      "dist_diff 3.40229269807\n"
     ]
    },
    {
     "name": "stderr",
     "output_type": "stream",
     "text": [
      "\r",
      " 99%|█████████████████████████████████████████████████████████████████████████████▌| 1254/1261 [15:02<00:04,  1.40it/s]"
     ]
    },
    {
     "name": "stdout",
     "output_type": "stream",
     "text": [
      "ret 2.6396707241027606e-05\n",
      "LA.norm(trackline.diffs)>15*np.std(coefnorm): -224.8310675\n",
      "dist_diff 0.329183981495\n"
     ]
    },
    {
     "name": "stderr",
     "output_type": "stream",
     "text": [
      "\r",
      "100%|█████████████████████████████████████████████████████████████████████████████▋| 1255/1261 [15:03<00:04,  1.40it/s]"
     ]
    },
    {
     "name": "stdout",
     "output_type": "stream",
     "text": [
      "ret 7.850829749522781e-05\n",
      "LA.norm(trackline.diffs)>15*np.std(coefnorm): -200.203019127\n",
      "dist_diff 2.5733014196\n"
     ]
    },
    {
     "name": "stderr",
     "output_type": "stream",
     "text": [
      "\r",
      "100%|█████████████████████████████████████████████████████████████████████████████▋| 1256/1261 [15:03<00:03,  1.40it/s]"
     ]
    },
    {
     "name": "stdout",
     "output_type": "stream",
     "text": [
      "ret 3.331586666432962e-05\n",
      "LA.norm(trackline.diffs)>15*np.std(coefnorm): -235.238920747\n",
      "dist_diff 1.36211781182\n"
     ]
    },
    {
     "name": "stderr",
     "output_type": "stream",
     "text": [
      "\r",
      "100%|█████████████████████████████████████████████████████████████████████████████▊| 1257/1261 [15:04<00:02,  1.40it/s]"
     ]
    },
    {
     "name": "stdout",
     "output_type": "stream",
     "text": [
      "ret 6.910507768848051e-05\n",
      "LA.norm(trackline.diffs)>15*np.std(coefnorm): -313.310851113\n",
      "dist_diff 3.2394298827\n"
     ]
    },
    {
     "name": "stderr",
     "output_type": "stream",
     "text": [
      "\r",
      "100%|█████████████████████████████████████████████████████████████████████████████▊| 1258/1261 [15:05<00:02,  1.40it/s]"
     ]
    },
    {
     "name": "stdout",
     "output_type": "stream",
     "text": [
      "ret 7.875671760859682e-07\n",
      "LA.norm(trackline.diffs)>15*np.std(coefnorm): -379.010805382\n",
      "dist_diff 4.31961614318\n"
     ]
    },
    {
     "name": "stderr",
     "output_type": "stream",
     "text": [
      "\r",
      "100%|█████████████████████████████████████████████████████████████████████████████▉| 1259/1261 [15:05<00:01,  1.40it/s]"
     ]
    },
    {
     "name": "stdout",
     "output_type": "stream",
     "text": [
      "ret 3.56606842936702e-05\n",
      "LA.norm(trackline.diffs)>15*np.std(coefnorm): -402.003283735\n",
      "dist_diff 3.92077937971\n"
     ]
    },
    {
     "name": "stderr",
     "output_type": "stream",
     "text": [
      "100%|█████████████████████████████████████████████████████████████████████████████▉| 1260/1261 [15:06<00:00,  1.41it/s]\n"
     ]
    },
    {
     "name": "stdout",
     "output_type": "stream",
     "text": [
      "[MoviePy] Done.\n",
      "[MoviePy] >>>> Video ready: C:/Users/Yi Zhu/Desktop/self-driving_car/CarND-Advanced-Lane-Lines-master/CarND-Advanced-Lane-Lines-master/project_video_out.mp4 \n",
      "\n",
      "Wall time: 15min 7s\n"
     ]
    }
   ],
   "source": [
    "white_clip = clip1.fl_image(add_lane) #NOTE: this function expects color images!!\n",
    "%time white_clip.write_videofile(white_output, audio=False) "
   ]
  },
  {
   "cell_type": "code",
   "execution_count": null,
   "metadata": {
    "collapsed": true
   },
   "outputs": [],
   "source": []
  },
  {
   "cell_type": "code",
   "execution_count": null,
   "metadata": {
    "collapsed": true
   },
   "outputs": [],
   "source": []
  }
 ],
 "metadata": {
  "anaconda-cloud": {},
  "kernelspec": {
   "display_name": "Python 3",
   "language": "python",
   "name": "python3"
  },
  "language_info": {
   "codemirror_mode": {
    "name": "ipython",
    "version": 3
   },
   "file_extension": ".py",
   "mimetype": "text/x-python",
   "name": "python",
   "nbconvert_exporter": "python",
   "pygments_lexer": "ipython3",
   "version": "3.5.0"
  }
 },
 "nbformat": 4,
 "nbformat_minor": 1
}
