{
 "cells": [
  {
   "cell_type": "markdown",
   "metadata": {},
   "source": [
    "## Advanced Lane Finding Project\n",
    "\n",
    "The goals / steps of this project are the following:\n",
    "\n",
    "* Compute the camera calibration matrix and distortion coefficients given a set of chessboard images.\n",
    "* Apply a distortion correction to raw images.\n",
    "* Use color transforms, gradients, etc., to create a thresholded binary image.\n",
    "* Apply a perspective transform to rectify binary image (\"birds-eye view\").\n",
    "* Detect lane pixels and fit to find the lane boundary.\n",
    "* Determine the curvature of the lane and vehicle position with respect to center.\n",
    "* Warp the detected lane boundaries back onto the original image.\n",
    "* Output visual display of the lane boundaries and numerical estimation of lane curvature and vehicle position.\n",
    "\n",
    "---\n",
    "## First, I'll compute the camera calibration using chessboard images"
   ]
  },
  {
   "cell_type": "code",
   "execution_count": 1,
   "metadata": {
    "collapsed": true
   },
   "outputs": [],
   "source": [
    "import numpy as np\n",
    "import cv2\n",
    "import glob\n",
    "import matplotlib.image as mpimg\n",
    "import matplotlib.pyplot as plt\n",
    "%matplotlib qt\n",
    "# prepare object points, like (0,0,0), (1,0,0), (2,0,0) ....,(6,5,0)\n",
    "objp = np.zeros((6*9,3), np.float32)\n",
    "objp[:,:2] = np.mgrid[0:9,0:6].T.reshape(-1,2)\n",
    "\n",
    "# Arrays to store object points and image points from all the images.\n",
    "objpoints = [] # 3d points in real world space\n",
    "imgpoints = [] # 2d points in image plane.\n",
    "\n",
    "# Make a list of calibration images\n",
    "images = glob.glob('../camera_cal/calibration*.jpg')\n",
    "# Step through the list and search for chessboard corners\n",
    "for fname in images:\n",
    "    img = mpimg.imread(fname)\n",
    "    gray = cv2.cvtColor(img,cv2.COLOR_RGB2GRAY)\n",
    "\n",
    "    # Find the chessboard corners\n",
    "    ret, corners = cv2.findChessboardCorners(gray, (9,6),None)\n",
    "\n",
    "    # If found, add object points, image points\n",
    "    if ret == True:\n",
    "        objpoints.append(objp)\n",
    "        imgpoints.append(corners)\n",
    "\n",
    "        # Draw and display the corners\n",
    "        img = cv2.drawChessboardCorners(img, (9,6), corners, ret)\n",
    "        cv2.imshow('img',img)\n",
    "        cv2.waitKey(500)\n",
    "\n",
    "cv2.destroyAllWindows()"
   ]
  },
  {
   "cell_type": "markdown",
   "metadata": {},
   "source": [
    "## Then write a function cal_undistort to undistort images and plot a sample, saved as distort_vs_undistort.png"
   ]
  },
  {
   "cell_type": "code",
   "execution_count": 2,
   "metadata": {
    "collapsed": true
   },
   "outputs": [],
   "source": [
    "def cal_undistort(img, objpoints, imgpoints):\n",
    "    # Use cv2.calibrateCamera() and cv2.undistort()\n",
    "    gray = cv2.cvtColor(img,cv2.COLOR_RGB2GRAY)\n",
    "    ret, mtx, dist, rvecs, tvecs = cv2.calibrateCamera(objpoints, imgpoints, gray.shape[::-1], None, None)\n",
    "    undist = cv2.undistort(img,mtx,dist)  # Delete this line\n",
    "    return undist\n",
    "sampleimg1= mpimg.imread('C:/Users/Yi Zhu/desktop/self-driving_car/CarND-Advanced-Lane-Lines-master/CarND-Advanced-Lane-Lines-master/camera_cal/calibration5.jpg')\n",
    "undistorted1 = cal_undistort(sampleimg1, objpoints, imgpoints)\n",
    "f, (ax1, ax2) = plt.subplots(1, 2, figsize=(13, 9))\n",
    "f.tight_layout()\n",
    "ax1.imshow(sampleimg1)\n",
    "ax1.set_title('Original Image', fontsize=30)\n",
    "ax2.imshow(undistorted1)\n",
    "ax2.set_title('Undistorted Image', fontsize=30)\n",
    "plt.subplots_adjust(left=0.1, right=0.9, top=0.9, bottom=0.)\n"
   ]
  },
  {
   "cell_type": "code",
   "execution_count": 3,
   "metadata": {
    "collapsed": true
   },
   "outputs": [],
   "source": [
    "sampleimg= mpimg.imread('C:/Users/Yi Zhu/desktop/self-driving_car/CarND-Advanced-Lane-Lines-master/CarND-Advanced-Lane-Lines-master/test_images/test3.jpg')\n",
    "undistorted = cal_undistort(sampleimg, objpoints, imgpoints)\n",
    "f, (ax1, ax2) = plt.subplots(1, 2, figsize=(13, 9))\n",
    "f.tight_layout()\n",
    "ax1.imshow(sampleimg)\n",
    "ax1.set_title('Original Image', fontsize=30)\n",
    "ax2.imshow(undistorted)\n",
    "ax2.set_title('Undistorted Image', fontsize=30)\n",
    "plt.subplots_adjust(left=0.1, right=0.9, top=0.9, bottom=0.)"
   ]
  },
  {
   "cell_type": "markdown",
   "metadata": {},
   "source": [
    "## Then write a function pipeline to show what color and gradient detect repectively, the sample image is saved as  undistorted_vs_pipeline.png "
   ]
  },
  {
   "cell_type": "code",
   "execution_count": 4,
   "metadata": {
    "collapsed": true
   },
   "outputs": [],
   "source": [
    "# Note: img is the undistorted image\n",
    "def pipeline(img, s_thresh=(170, 255), sx_thresh=(20, 100)):\n",
    "    img = np.copy(img)\n",
    "    # Convert to HSV color space and separate the V channel\n",
    "    hsv = cv2.cvtColor(img, cv2.COLOR_RGB2HLS).astype(np.float)\n",
    "    l_channel = hsv[:,:,1]\n",
    "    s_channel = hsv[:,:,2]\n",
    "    # Sobel x\n",
    "    sobelx = cv2.Sobel(l_channel, cv2.CV_64F, 1, 0) # Take the derivative in x\n",
    "    abs_sobelx = np.absolute(sobelx) # Absolute x derivative to accentuate lines away from horizontal\n",
    "    scaled_sobel = np.uint8(255*abs_sobelx/np.max(abs_sobelx))\n",
    "    \n",
    "    # Threshold x gradient\n",
    "    sxbinary = np.zeros_like(scaled_sobel)\n",
    "    sxbinary[(scaled_sobel >= sx_thresh[0]) & (scaled_sobel <= sx_thresh[1])] = 1\n",
    "    \n",
    "    # Threshold color channel\n",
    "    s_binary = np.zeros_like(s_channel)\n",
    "    s_binary[(s_channel >= s_thresh[0]) & (s_channel <= s_thresh[1])] = 1\n",
    "    # Stack each channel\n",
    "    # Note color_binary[:, :, 0] is all 0s, effectively an all black image. It might\n",
    "    # be beneficial to replace this channel with something else.\n",
    "    color_binary = np.dstack(( np.zeros_like(sxbinary), sxbinary, s_binary))\n",
    "    return color_binary\n",
    "    \n",
    "result = pipeline(undistorted)\n",
    "\n",
    "# Plot the result\n",
    "f, (ax1, ax2) = plt.subplots(1, 2, figsize=(13, 9))\n",
    "f.tight_layout()\n",
    "ax1.imshow(undistorted)\n",
    "ax1.set_title('undistorted', fontsize=30)\n",
    "ax2.imshow(result)\n",
    "ax2.set_title('Pipeline result', fontsize=30)\n",
    "plt.subplots_adjust(left=0.1, right=0.9, top=0.9, bottom=0.)"
   ]
  },
  {
   "cell_type": "markdown",
   "metadata": {},
   "source": [
    "## Then write a function pipeline_binary to show how color and gradient combine together to produce a binary picture line detection. The sample plot is saved as pipeline_vs_pipelinebinary.png "
   ]
  },
  {
   "cell_type": "code",
   "execution_count": 5,
   "metadata": {
    "collapsed": true
   },
   "outputs": [],
   "source": [
    "# Note: img is the undistorted image\n",
    "def pipeline_binary(img, s_thresh=(170, 255), sx_thresh=(20, 100)):\n",
    "    img = np.copy(img)\n",
    "    # Convert to HSV color space and separate the V channel\n",
    "    hsv = cv2.cvtColor(img, cv2.COLOR_RGB2HLS).astype(np.float)\n",
    "    l_channel = hsv[:,:,1]\n",
    "    s_channel = hsv[:,:,2]\n",
    "    # Sobel x\n",
    "    sobelx = cv2.Sobel(l_channel, cv2.CV_64F, 1, 0) # Take the derivative in x\n",
    "    abs_sobelx = np.absolute(sobelx) # Absolute x derivative to accentuate lines away from horizontal\n",
    "    scaled_sobel = np.uint8(255*abs_sobelx/np.max(abs_sobelx))\n",
    "    \n",
    "    # Threshold x gradient\n",
    "    sxbinary = np.zeros_like(scaled_sobel)\n",
    "    sxbinary[(scaled_sobel >= sx_thresh[0]) & (scaled_sobel <= sx_thresh[1])] = 1\n",
    "    \n",
    "    # Threshold color channel\n",
    "    s_binary = np.zeros_like(s_channel)\n",
    "    s_binary[(s_channel >= s_thresh[0]) & (s_channel <= s_thresh[1])] = 1\n",
    "    # Stack each channel\n",
    "    # Note color_binary[:, :, 0] is all 0s, effectively an all black image. It might\n",
    "    # be beneficial to replace this channel with something else.\n",
    "    combined_binary = np.zeros_like(sxbinary)\n",
    "    combined_binary[(s_binary == 1) | (sxbinary == 1)] = 1   \n",
    "    return combined_binary\n",
    "    \n",
    "result_binary = pipeline_binary(undistorted)\n",
    "\n",
    "# Plot the result\n",
    "f, (ax1, ax2) = plt.subplots(1, 2, figsize=(13, 9))\n",
    "f.tight_layout()\n",
    "ax1.imshow(result)\n",
    "ax1.set_title('pipeline result', fontsize=30)\n",
    "ax2.imshow(result_binary,cmap='gray')\n",
    "ax2.set_title('Pipeline_binary result', fontsize=30)\n",
    "plt.subplots_adjust(left=0.1, right=0.9, top=0.9, bottom=0.)"
   ]
  },
  {
   "cell_type": "markdown",
   "metadata": {},
   "source": [
    "## Next, I first  calculated the perspective tranform matrix by using straightline image and corresponding warped image. And write a function to conduct such transform by using the matrix derived above. I provide two sample images. First is the transformation for straightline, saved as straight_vs_birdview.png. And second is the perspective transformed image for test1, saved as test2_birdview.png"
   ]
  },
  {
   "cell_type": "code",
   "execution_count": 6,
   "metadata": {
    "collapsed": true
   },
   "outputs": [],
   "source": [
    "straight=mpimg.imread('C:/Users/Yi Zhu/desktop/self-driving_car/CarND-Advanced-Lane-Lines-master/CarND-Advanced-Lane-Lines-master/test_images/straight_lines1.jpg')\n",
    "src=np.float32([[247,677],[1039,672],[588,453],[692,453]])\n",
    "dst=np.float32([[270,700],[980,700],[270,0],[980,0]])\n",
    "img_size=(straight.shape[1],straight.shape[0])\n",
    "M = cv2.getPerspectiveTransform(src, dst)\n",
    "Minv = cv2.getPerspectiveTransform(dst, src)\n",
    "warped_straight= cv2.warpPerspective(straight, M, img_size, flags=cv2.INTER_LINEAR)\n",
    "warped_test= cv2.warpPerspective(result_binary, M, img_size, flags=cv2.INTER_LINEAR)\n",
    "f, (ax1, ax2) = plt.subplots(1, 2, figsize=(13, 9))\n",
    "f.tight_layout()\n",
    "ax1.imshow(straight)\n",
    "ax1.set_title('straight_orig', fontsize=30)\n",
    "ax2.imshow(warped_straight)\n",
    "ax2.set_title('Pipeline_binary result', fontsize=30)\n",
    "plt.subplots_adjust(left=0.1, right=0.9, top=0.9, bottom=0.)"
   ]
  },
  {
   "cell_type": "code",
   "execution_count": 7,
   "metadata": {},
   "outputs": [
    {
     "data": {
      "text/plain": [
       "<matplotlib.image.AxesImage at 0x21edbe46668>"
      ]
     },
     "execution_count": 7,
     "metadata": {},
     "output_type": "execute_result"
    }
   ],
   "source": [
    "plt.imshow(warped_test,cmap='gray')"
   ]
  },
  {
   "cell_type": "markdown",
   "metadata": {},
   "source": [
    "## Next let's find the fit line of the image, saved as fittedline.png.\n"
   ]
  },
  {
   "cell_type": "code",
   "execution_count": 8,
   "metadata": {},
   "outputs": [
    {
     "data": {
      "text/plain": [
       "(720, 0)"
      ]
     },
     "execution_count": 8,
     "metadata": {},
     "output_type": "execute_result"
    }
   ],
   "source": [
    "# Take a histogram of the bottom half of the image\n",
    "\n",
    "#print (warped_test.shape[0]/2)\n",
    "histogram = np.sum(warped_test[int(warped_test.shape[0]/2):,:], axis=0)\n",
    "# Create an output image to draw on and  visualize the result\n",
    "out_img = np.dstack((warped_test, warped_test, warped_test))*255\n",
    "# Find the peak of the left and right halves of the histogram\n",
    "# These will be the starting point for the left and right lines\n",
    "midpoint = np.int(histogram.shape[0]/2)\n",
    "leftx_base = np.argmax(histogram[:midpoint])\n",
    "rightx_base = np.argmax(histogram[midpoint:]) + midpoint\n",
    "\n",
    "# Choose the number of sliding windows\n",
    "nwindows = 9\n",
    "# Set height of windows\n",
    "window_height = np.int(warped_test.shape[0]/nwindows)\n",
    "# Identify the x and y positions of all nonzero pixels in the image\n",
    "nonzero = warped_test.nonzero()\n",
    "nonzeroy = np.array(nonzero[0])\n",
    "nonzerox = np.array(nonzero[1])\n",
    "# Current positions to be updated for each window\n",
    "leftx_current = leftx_base\n",
    "rightx_current = rightx_base\n",
    "# Set the width of the windows +/- margin\n",
    "margin = 100\n",
    "# Set minimum number of pixels found to recenter window\n",
    "minpix = 50\n",
    "# Create empty lists to receive left and right lane pixel indices\n",
    "left_lane_inds = []\n",
    "right_lane_inds = []\n",
    "\n",
    "# Step through the windows one by one\n",
    "for window in range(nwindows):\n",
    "    # Identify window boundaries in x and y (and right and left)\n",
    "    win_y_low = warped_test.shape[0] - (window+1)*window_height\n",
    "    win_y_high = warped_test.shape[0] - window*window_height\n",
    "    win_xleft_low = leftx_current - margin\n",
    "    win_xleft_high = leftx_current + margin\n",
    "    win_xright_low = rightx_current - margin\n",
    "    win_xright_high = rightx_current + margin\n",
    "    # Draw the windows on the visualization image\n",
    "    #cv2.rectangle(out_img,(win_xleft_low,win_y_low),(win_xleft_high,win_y_high),(0,255,0), 2) \n",
    "    #cv2.rectangle(out_img,(win_xright_low,win_y_low),(win_xright_high,win_y_high),(0,255,0), 2) \n",
    "    # Identify the nonzero pixels in x and y within the window\n",
    "    good_left_inds = ((nonzeroy >= win_y_low) & (nonzeroy < win_y_high) & (nonzerox >= win_xleft_low) & (nonzerox < win_xleft_high)).nonzero()[0]\n",
    "    good_right_inds = ((nonzeroy >= win_y_low) & (nonzeroy < win_y_high) & (nonzerox >= win_xright_low) & (nonzerox < win_xright_high)).nonzero()[0]\n",
    "    # Append these indices to the lists\n",
    "    left_lane_inds.append(good_left_inds)\n",
    "    right_lane_inds.append(good_right_inds)\n",
    "    # If you found > minpix pixels, recenter next window on their mean position\n",
    "    if len(good_left_inds) > minpix:\n",
    "        leftx_current = np.int(np.mean(nonzerox[good_left_inds]))\n",
    "    if len(good_right_inds) > minpix:        \n",
    "        rightx_current = np.int(np.mean(nonzerox[good_right_inds]))\n",
    "\n",
    "# Concatenate the arrays of indices\n",
    "left_lane_inds = np.concatenate(left_lane_inds)\n",
    "right_lane_inds = np.concatenate(right_lane_inds)\n",
    "\n",
    "# Extract left and right line pixel positions\n",
    "leftx = nonzerox[left_lane_inds]\n",
    "lefty = nonzeroy[left_lane_inds] \n",
    "rightx = nonzerox[right_lane_inds]\n",
    "righty = nonzeroy[right_lane_inds] \n",
    "\n",
    "# Fit a second order polynomial to each\n",
    "left_fit = np.polyfit(lefty, leftx, 2)\n",
    "right_fit = np.polyfit(righty, rightx, 2)\n",
    "\n",
    "ploty = np.linspace(0, warped_test.shape[0]-1, warped_test.shape[0] )\n",
    "left_fitx = left_fit[0]*ploty**2 + left_fit[1]*ploty + left_fit[2]\n",
    "right_fitx = right_fit[0]*ploty**2 + right_fit[1]*ploty + right_fit[2]\n",
    "\n",
    "out_img[nonzeroy[left_lane_inds], nonzerox[left_lane_inds]] = [255, 0, 0]\n",
    "out_img[nonzeroy[right_lane_inds], nonzerox[right_lane_inds]] = [0, 0, 255]\n",
    "plt.imshow(out_img)\n",
    "plt.plot(left_fitx, ploty, color='yellow')\n",
    "plt.plot(right_fitx, ploty, color='yellow')\n",
    "plt.xlim(0, 1280)\n",
    "plt.ylim(720, 0)"
   ]
  },
  {
   "cell_type": "markdown",
   "metadata": {},
   "source": [
    "## write a fit_line function for further use in video detection"
   ]
  },
  {
   "cell_type": "code",
   "execution_count": 9,
   "metadata": {
    "collapsed": true
   },
   "outputs": [],
   "source": [
    "def fit_line(warped_test):\n",
    "    # Take a histogram of the bottom half of the images\n",
    "    #print (warped_test.shape[0]/2)\n",
    "    histogram = np.sum(warped_test[int(warped_test.shape[0]/2):,:], axis=0)\n",
    "    # Create an output image to draw on and  visualize the result\n",
    "    out_img = np.dstack((warped_test, warped_test, warped_test))*255\n",
    "    # Find the peak of the left and right halves of the histogram\n",
    "    # These will be the starting point for the left and right lines\n",
    "    midpoint = np.int(histogram.shape[0]/2)\n",
    "    leftx_base = np.argmax(histogram[:midpoint])\n",
    "    rightx_base = np.argmax(histogram[midpoint:]) + midpoint\n",
    "    # Choose the number of sliding windows\n",
    "    nwindows = 9\n",
    "    # Set height of windows\n",
    "    window_height = np.int(warped_test.shape[0]/nwindows)\n",
    "    # Identify the x and y positions of all nonzero pixels in the image\n",
    "    nonzero = warped_test.nonzero()\n",
    "    nonzeroy = np.array(nonzero[0])\n",
    "    nonzerox = np.array(nonzero[1])\n",
    "    # Current positions to be updated for each window\n",
    "    leftx_current = leftx_base\n",
    "    rightx_current = rightx_base\n",
    "    # Set the width of the windows +/- margin\n",
    "    margin = 100\n",
    "    # Set minimum number of pixels found to recenter window\n",
    "    minpix = 50\n",
    "    # Create empty lists to receive left and right lane pixel indices\n",
    "    left_lane_inds = []\n",
    "    right_lane_inds = []\n",
    "    # Step through the windows one by one\n",
    "    for window in range(nwindows):\n",
    "        # Identify window boundaries in x and y (and right and left)\n",
    "        win_y_low = warped_test.shape[0] - (window+1)*window_height\n",
    "        win_y_high = warped_test.shape[0] - window*window_height\n",
    "        win_xleft_low = leftx_current - margin\n",
    "        win_xleft_high = leftx_current + margin\n",
    "        win_xright_low = rightx_current - margin\n",
    "        win_xright_high = rightx_current + margin\n",
    "        # Draw the windows on the visualization image\n",
    "        #cv2.rectangle(out_img,(win_xleft_low,win_y_low),(win_xleft_high,win_y_high),(0,255,0), 2) \n",
    "        #cv2.rectangle(out_img,(win_xright_low,win_y_low),(win_xright_high,win_y_high),(0,255,0), 2) \n",
    "        # Identify the nonzero pixels in x and y within the window\n",
    "        good_left_inds = ((nonzeroy >= win_y_low) & (nonzeroy < win_y_high) & (nonzerox >= win_xleft_low) & (nonzerox < win_xleft_high)).nonzero()[0]\n",
    "        good_right_inds = ((nonzeroy >= win_y_low) & (nonzeroy < win_y_high) & (nonzerox >= win_xright_low) & (nonzerox < win_xright_high)).nonzero()[0]\n",
    "        # Append these indices to the lists\n",
    "        left_lane_inds.append(good_left_inds)\n",
    "        right_lane_inds.append(good_right_inds)\n",
    "        # If you found > minpix pixels, recenter next window on their mean position\n",
    "        if len(good_left_inds) > minpix:\n",
    "            leftx_current = np.int(np.mean(nonzerox[good_left_inds]))\n",
    "        if len(good_right_inds) > minpix:        \n",
    "            rightx_current = np.int(np.mean(nonzerox[good_right_inds]))\n",
    "    # Concatenate the arrays of indices\n",
    "    left_lane_inds = np.concatenate(left_lane_inds)\n",
    "    right_lane_inds = np.concatenate(right_lane_inds)\n",
    "    # Extract left and right line pixel positions\n",
    "    leftx = nonzerox[left_lane_inds]\n",
    "    lefty = nonzeroy[left_lane_inds] \n",
    "    rightx = nonzerox[right_lane_inds]\n",
    "    righty = nonzeroy[right_lane_inds] \n",
    "    # Fit a second order polynomial to each\n",
    "    left_fit = np.polyfit(lefty, leftx, 2)\n",
    "    right_fit = np.polyfit(righty, rightx, 2)\n",
    "    ploty = np.linspace(0, warped_test.shape[0]-1, warped_test.shape[0] )\n",
    "    left_fitx = left_fit[0]*ploty**2 + left_fit[1]*ploty + left_fit[2]\n",
    "    right_fitx = right_fit[0]*ploty**2 + right_fit[1]*ploty + right_fit[2]\n",
    "    return left_fitx, right_fitx"
   ]
  },
  {
   "cell_type": "markdown",
   "metadata": {},
   "source": [
    "## Determine the curvature of the lane and vehicle position with respect to center"
   ]
  },
  {
   "cell_type": "code",
   "execution_count": 10,
   "metadata": {
    "collapsed": true
   },
   "outputs": [],
   "source": [
    "def calculate_curvature(left_fitx, right_fitx):\n",
    "    y_eval = np.max(ploty)\n",
    "    ym_per_pix = 30/720 # meters per pixel in y dimension\n",
    "    xm_per_pix = 3.7/700 # meters per pixel in x dimension\n",
    "    # Fit new polynomials to x,y in world space\n",
    "    left_fit_cr = np.polyfit(ploty*ym_per_pix, left_fitx*xm_per_pix, 2)\n",
    "    right_fit_cr = np.polyfit(ploty*ym_per_pix, right_fitx*xm_per_pix, 2)\n",
    "    # Calculate the new radii of curvature\n",
    "    left_curverad = ((1 + (2*left_fit_cr[0]*y_eval*ym_per_pix + left_fit_cr[1])**2)**1.5) / np.absolute(2*left_fit_cr[0])\n",
    "    right_curverad = ((1 + (2*right_fit_cr[0]*y_eval*ym_per_pix + right_fit_cr[1])**2)**1.5) / np.absolute(2*right_fit_cr[0])\n",
    "    # Now our radius of curvature is in meters\n",
    "    return left_curverad, right_curverad "
   ]
  },
  {
   "cell_type": "markdown",
   "metadata": {},
   "source": [
    "## print curvature of test_2"
   ]
  },
  {
   "cell_type": "code",
   "execution_count": 11,
   "metadata": {},
   "outputs": [
    {
     "name": "stdout",
     "output_type": "stream",
     "text": [
      "left_cur 584.188387201 m right_cur 621.183276641 m\n"
     ]
    }
   ],
   "source": [
    "    print('left_cur',calculate_curvature(left_fitx, right_fitx)[0], 'm', 'right_cur', calculate_curvature(left_fitx, right_fitx)[1], 'm')\n"
   ]
  },
  {
   "cell_type": "markdown",
   "metadata": {},
   "source": [
    "## print vehicle position respect to center"
   ]
  },
  {
   "cell_type": "code",
   "execution_count": 12,
   "metadata": {},
   "outputs": [
    {
     "name": "stdout",
     "output_type": "stream",
     "text": [
      "0.609783249922\n"
     ]
    }
   ],
   "source": [
    "midpoint=warped_test.shape[1]/2\n",
    "leftstart=min(left_fitx)\n",
    "rightstart=max(right_fitx)\n",
    "lanemiddle=(leftstart+rightstart)/2\n",
    "offset=abs(midpoint-lanemiddle)*3.7/700\n",
    "print(offset)\n",
    "if midpoint-lanemiddle<0:\n",
    "    pos='left'\n",
    "else:\n",
    "    pos='right'"
   ]
  },
  {
   "cell_type": "markdown",
   "metadata": {},
   "source": [
    "## draw detected lane back to original image. The lane added picture is saved as   lane_added.png"
   ]
  },
  {
   "cell_type": "code",
   "execution_count": 13,
   "metadata": {},
   "outputs": [
    {
     "data": {
      "text/plain": [
       "<matplotlib.image.AxesImage at 0x21edbe554e0>"
      ]
     },
     "execution_count": 13,
     "metadata": {},
     "output_type": "execute_result"
    }
   ],
   "source": [
    "warp_zero = np.zeros_like(warped_test).astype(np.uint8)\n",
    "color_warp = np.dstack((warp_zero, warp_zero, warp_zero))\n",
    "\n",
    "# Recast the x and y points into usable format for cv2.fillPoly()\n",
    "pts_left = np.array([np.transpose(np.vstack([left_fitx, ploty]))])\n",
    "pts_right = np.array([np.flipud(np.transpose(np.vstack([right_fitx, ploty])))])\n",
    "pts = np.hstack((pts_left, pts_right))\n",
    "\n",
    "# Draw the lane onto the warped blank image\n",
    "cv2.fillPoly(color_warp, np.int_([pts]), (0,255, 0))\n",
    "\n",
    "# Warp the blank back to original image space using inverse perspective matrix (Minv)\n",
    "newwarp = cv2.warpPerspective(color_warp, Minv, (warped_test.shape[1], warped_test.shape[0])) \n",
    "# Combine the result with the original image\n",
    "result = cv2.addWeighted(undistorted, 1, newwarp, 0.3, 0)\n",
    "curvature= np.mean(calculate_curvature(left_fitx, right_fitx))\n",
    "font = cv2.FONT_HERSHEY_SIMPLEX\n",
    "\n",
    "cv2.putText(result,'Radius of Curvature is '+str(curvature)+'m',(10,50), font, 1,(255,255,255),2)\n",
    "cv2.putText(result,'Vehicle is '+ str(offset)+'m '+pos +' of the road',(10,80), font, 1,(255,255,255),2)\n",
    "plt.imshow(result)\n"
   ]
  },
  {
   "cell_type": "markdown",
   "metadata": {},
   "source": [
    "## function add_lane(img) works here as the wrapping up of the previous demo of one image and will be applied to vidoe stream."
   ]
  },
  {
   "cell_type": "code",
   "execution_count": 14,
   "metadata": {
    "collapsed": true
   },
   "outputs": [],
   "source": [
    "class Line():\n",
    "    def __init__(self):\n",
    "        # was the line detected in the last iteration?\n",
    "        self.detected = False  \n",
    "        # x values of the last n fits of the line\n",
    "        self.recent_xfitted = [] \n",
    "        #average x values of the fitted line over the last n iterations\n",
    "        self.bestx = None     \n",
    "        #polynomial coefficients averaged over the last n iterations\n",
    "        self.best_fit = None  \n",
    "        #polynomial coefficients for the most recent fit\n",
    "        self.current_fit = [np.array([False])]  \n",
    "        #radius of curvature of the line in some units\n",
    "        self.radius_of_curvature = None \n",
    "        #distance in meters of vehicle center from the line\n",
    "        self.line_base_pos = None \n",
    "        #difference in fit coefficients between last and new fits\n",
    "        self.diffs = np.array([0,0,0], dtype='float') \n",
    "        #x values for detected line pixels\n",
    "        self.leftx = None\n",
    "        self.righx = None"
   ]
  },
  {
   "cell_type": "code",
   "execution_count": 25,
   "metadata": {
    "collapsed": true
   },
   "outputs": [],
   "source": [
    "from numpy import linalg as LA\n",
    "def add_lane(img):\n",
    "    undistorted = cal_undistort(img, objpoints, imgpoints)\n",
    "    #result = pipeline(undistorted)\n",
    "    result_binary = pipeline_binary(undistorted)\n",
    "    warped_test= cv2.warpPerspective(result_binary, M, img_size, flags=cv2.INTER_LINEAR)\n",
    "    left_fitx, right_fitx = fit_line(warped_test)\n",
    "    #print(len(trackline.recent_xfitted))\n",
    "    #print(left_fitx)\n",
    "    ploty=np.linspace(0, img.shape[0]-1, img.shape[0] )\n",
    "    #print(max(ploty))\n",
    "    if len(trackline.recent_xfitted)<n:\n",
    "        trackline.recent_xfitted.append([left_fitx,right_fitx])\n",
    "    #else:\n",
    "        #trackline.recent_xfitted.append([left_fitx,rightfitx])\n",
    "        #trackline.recent_xfitted.pop(0)\n",
    "        curvature = calculate_curvature(left_fitx, right_fitx)\n",
    "        midpoint  =warped_test.shape[1]/2\n",
    "        leftstart = min(left_fitx)\n",
    "        rightstart = max(right_fitx)\n",
    "        lanemiddle = (leftstart+rightstart)/2\n",
    "        offset=abs(midpoint-lanemiddle)*3.7/700\n",
    "        #print (leftstart, rightstart,midpoint, lanemiddle,offset)\n",
    "        if midpoint-lanemiddle<0:\n",
    "            pos='left'\n",
    "        else:\n",
    "            pos='right'\n",
    "        warp_zero = np.zeros_like(warped_test).astype(np.uint8)\n",
    "        color_warp = np.dstack((warp_zero, warp_zero, warp_zero))\n",
    "        # Recast the x and y points into usable format for cv2.fillPoly()\n",
    "        pts_left = np.array([np.transpose(np.vstack([left_fitx, ploty]))])\n",
    "        pts_right = np.array([np.flipud(np.transpose(np.vstack([right_fitx, ploty])))])\n",
    "        pts = np.hstack((pts_left, pts_right))\n",
    "        # Draw the lane onto the warped blank image\n",
    "        cv2.fillPoly(color_warp, np.int_([pts]), (0,255, 0))\n",
    "        # Warp the blank back to original image space using inverse perspective matrix (Minv)\n",
    "        newwarp = cv2.warpPerspective(color_warp, Minv, (warped_test.shape[1], warped_test.shape[0])) \n",
    "        # Combine the result with the original image\n",
    "        result = cv2.addWeighted(undistorted, 1, newwarp, 0.3, 0)\n",
    "        font = cv2.FONT_HERSHEY_SIMPLEX\n",
    "        cv2.putText(result,'left Radius of Curvature is '+str(curvature[0])+'m',(10,50), font, 1,(255,255,255),2)\n",
    "        cv2.putText(result,'right Radius of Curvature is '+str(curvature[1])+'m',(10,80), font, 1,(255,255,255),2)\n",
    "        cv2.putText(result,'Vehicle is '+ str(abs(offset))+'m '+pos +' of the road',(10,110), font, 1,(255,255,255),2)\n",
    "        #cv2.putText(result,'shape_match'+ str(shapematch),(10,120), font, 1,(255,255,255),2)\n",
    "        #cv2.putText(result,'line_dist'+ str(rightstart-leftstart),(10,150), font, 1,(255,255,255),2)\n",
    "        return result\n",
    "    coef=[]\n",
    "    coefnorm=[]\n",
    "    leftxstart_rec=[]\n",
    "    rightxstart_rec=[]\n",
    "    for record in trackline.recent_xfitted:\n",
    "        # Fit new polynomials to x,y in world space\n",
    "        left_cr = np.polyfit(ploty, record[0], 2)\n",
    "        right_cr = np.polyfit(ploty, record[1], 2)\n",
    "        coef.append([left_cr,right_cr])\n",
    "        coefnorm.append(LA.norm([left_cr,right_cr]))\n",
    "        leftxstart_rec.append(min(record[0]))\n",
    "        rightxstart_rec.append(max(record[1]))\n",
    "    #    leftxstart.append(record[0][warped_test.shape[0]-1])\n",
    "    #    rightxstart.append(record[1][warped_test.shape[0]-1])\n",
    "    left_ave_start=trackline.leftx[-1]\n",
    "    right_ave_start= trackline.rightx[-1]\n",
    "    trackline.leftx=left_fitx\n",
    "    trackline.rightx=right_fitx\n",
    "    average_coef = np.mean(coef, axis=0)\n",
    "    #print(average_coef)\n",
    "    trackline.bestfit = average_coef\n",
    "    trackline.current_fit = coef[-1]\n",
    "    curvature = calculate_curvature(left_fitx, right_fitx)\n",
    "    midpoint  =warped_test.shape[1]/2\n",
    "    leftstart = left_fitx[-1]\n",
    "    rightstart = right_fitx[-1]\n",
    "    dist_diff=abs(LA.norm(leftstart-rightstart)-LA.norm(left_ave_start-right_ave_start))\n",
    "    lanemiddle = (leftstart+rightstart)/2\n",
    "    offset=abs(midpoint-lanemiddle)*3.7/700\n",
    "    #print (leftstart, rightstart,offset)\n",
    "    if midpoint-lanemiddle<0:\n",
    "        pos='left'\n",
    "    else:\n",
    "        pos='right'\n",
    "    left_fit_cr = np.polyfit(ploty, left_fitx, 2)\n",
    "    right_fit_cr = np.polyfit(ploty, right_fitx, 2)\n",
    "    #print(np.array([left_fit_cr,right_fit_cr]))\n",
    "    trackline.diffs = abs(np.array([left_fit_cr,right_fit_cr])-average_coef)\n",
    "    #print(LA.norm(trackline.diffs),15*np.std(coefnorm))\n",
    "    warp_zero_2 = np.zeros_like(warped_test).astype(np.uint8)\n",
    "    # Recast the x and y points into usable format for cv2.fillPoly()\n",
    "    #print(ploty)\n",
    "    pts_left_2 = np.array([np.transpose(np.vstack([trackline.recent_xfitted[-1][0], ploty]))])\n",
    "    pts_right_2 = np.array([np.flipud(np.transpose(np.vstack([trackline.recent_xfitted[-1][1], ploty])))])\n",
    "    pts_2 = np.hstack((pts_left_2, pts_right_2))\n",
    "    # Draw the lane onto the warped blank image\n",
    "    cv2.fillPoly(warp_zero_2, np.int_([pts_2]), 255)\n",
    "    warp_zero_1 = np.zeros_like(warped_test).astype(np.uint8)\n",
    "    pts_left_1 = np.array([np.transpose(np.vstack([left_fitx, ploty]))])\n",
    "    pts_right_1 = np.array([np.flipud(np.transpose(np.vstack([right_fitx, ploty])))])\n",
    "    pts_1 = np.hstack((pts_left_1, pts_right_1))\n",
    "    # Draw the lane onto the warped blank image\n",
    "    cv2.fillPoly(warp_zero_1, np.int_([pts_1]), 255)\n",
    "    ret = cv2.matchShapes(warp_zero_1, warp_zero_2,1,0.0)\n",
    "    print('ret',ret)\n",
    "    print ('LA.norm(trackline.diffs)>15*np.std(coefnorm):',LA.norm(trackline.diffs)-15*np.std(coefnorm))\n",
    "    print('dist_diff',dist_diff)\n",
    "    if (LA.norm(trackline.diffs)>15*np.std(coefnorm))| (ret>0.002) |(dist_diff>230):\n",
    "        #print(’unchanged')\n",
    "        left_fitx = average_coef[0][0]*ploty**2 + average_coef[0][1]*ploty + average_coef[0][2]\n",
    "        right_fitx = average_coef[1][0]*ploty**2 + average_coef[1][1]*ploty + average_coef[1][2]\n",
    "       # print(left_fitx)\n",
    "    else:\n",
    "        trackline.recent_xfitted.append([left_fitx,right_fitx])\n",
    "        trackline.recent_xfitted.pop(0)\n",
    "        trackline.line_base_pos = (midpoint-lanemiddle)*3.7/700\n",
    "        trackline.radius_of_curvature=curvature\n",
    "    warp_zero = np.zeros_like(warped_test).astype(np.uint8)\n",
    "    color_warp = np.dstack((warp_zero, warp_zero, warp_zero))\n",
    "    # Recast the x and y points into usable format for cv2.fillPoly()\n",
    "    #print(ploty)\n",
    "    pts_left = np.array([np.transpose(np.vstack([left_fitx, ploty]))])\n",
    "    pts_right = np.array([np.flipud(np.transpose(np.vstack([right_fitx, ploty])))])\n",
    "    pts = np.hstack((pts_left, pts_right))\n",
    "    # Draw the lane onto the warped blank image\n",
    "    cv2.fillPoly(color_warp, np.int_([pts]), (0,255, 0))\n",
    "    # Warp the blank back to original image space using inverse perspective matrix (Minv)\n",
    "    newwarp = cv2.warpPerspective(color_warp, Minv, (warped_test.shape[1], warped_test.shape[0])) \n",
    "    # Combine the result with the original image\n",
    "    result = cv2.addWeighted(undistorted, 1, newwarp, 0.3, 0)\n",
    "    font = cv2.FONT_HERSHEY_SIMPLEX\n",
    "    if midpoint-lanemiddle<0:\n",
    "        pos='left'\n",
    "    else:\n",
    "        pos='right'\n",
    "    cv2.putText(result,'left Radius of Curvature is '+str(trackline.radius_of_curvature[0])+'m',(10,50), font, 1,(255,255,255),2)\n",
    "    cv2.putText(result,'right Radius of Curvature is '+str(trackline.radius_of_curvature[1])+'m',(10,80), font, 1,(255,255,255),2)\n",
    "    cv2.putText(result,'Vehicle is '+ str(abs(trackline.line_base_pos))+'m '+pos +' of the road',(10,110), font, 1,(255,255,255),2)\n",
    "    #cv2.putText(result,'shape_match'+ str(shapematch),(10,120), font, 1,(255,255,255),2)\n",
    "    #cv2.putText(result,'line_dist'+ str(rightstart-leftstart),(10,150), font, 1,(255,255,255),2)\n",
    "    return result"
   ]
  },
  {
   "cell_type": "code",
   "execution_count": 26,
   "metadata": {
    "collapsed": true
   },
   "outputs": [],
   "source": [
    "trackline=Line()\n",
    "n=10"
   ]
  },
  {
   "cell_type": "code",
   "execution_count": 27,
   "metadata": {},
   "outputs": [
    {
     "ename": "OSError",
     "evalue": "[WinError 6] The handle is invalid",
     "output_type": "error",
     "traceback": [
      "\u001b[1;31m---------------------------------------------------------------------------\u001b[0m",
      "\u001b[1;31mOSError\u001b[0m                                   Traceback (most recent call last)",
      "\u001b[1;32m<ipython-input-27-253eb554bbff>\u001b[0m in \u001b[0;36m<module>\u001b[1;34m()\u001b[0m\n\u001b[0;32m      5\u001b[0m \u001b[0mtrackline\u001b[0m\u001b[1;33m=\u001b[0m\u001b[0mLine\u001b[0m\u001b[1;33m(\u001b[0m\u001b[1;33m)\u001b[0m\u001b[1;33m\u001b[0m\u001b[0m\n\u001b[0;32m      6\u001b[0m \u001b[0mwhite_output\u001b[0m \u001b[1;33m=\u001b[0m \u001b[1;34m'C:/Users/Yi Zhu/Desktop/self-driving_car/CarND-Advanced-Lane-Lines-master/CarND-Advanced-Lane-Lines-master/project_video_out_try.mp4'\u001b[0m\u001b[1;33m\u001b[0m\u001b[0m\n\u001b[1;32m----> 7\u001b[1;33m \u001b[0mclip1\u001b[0m \u001b[1;33m=\u001b[0m \u001b[0mVideoFileClip\u001b[0m\u001b[1;33m(\u001b[0m\u001b[1;34m'C:/Users/Yi Zhu/Desktop/self-driving_car/CarND-Advanced-Lane-Lines-master/CarND-Advanced-Lane-Lines-master/project_video.mp4'\u001b[0m\u001b[1;33m)\u001b[0m\u001b[1;33m.\u001b[0m\u001b[0msubclip\u001b[0m\u001b[1;33m(\u001b[0m\u001b[1;36m37\u001b[0m\u001b[1;33m,\u001b[0m\u001b[1;36m47\u001b[0m\u001b[1;33m)\u001b[0m\u001b[1;33m\u001b[0m\u001b[0m\n\u001b[0m\u001b[0;32m      8\u001b[0m \u001b[0mwhite_clip\u001b[0m \u001b[1;33m=\u001b[0m \u001b[0mclip1\u001b[0m\u001b[1;33m.\u001b[0m\u001b[0mfl_image\u001b[0m\u001b[1;33m(\u001b[0m\u001b[0madd_lane\u001b[0m\u001b[1;33m)\u001b[0m \u001b[1;31m#NOTE: this function expects color images!!\u001b[0m\u001b[1;33m\u001b[0m\u001b[0m\n\u001b[0;32m      9\u001b[0m \u001b[0mget_ipython\u001b[0m\u001b[1;33m(\u001b[0m\u001b[1;33m)\u001b[0m\u001b[1;33m.\u001b[0m\u001b[0mmagic\u001b[0m\u001b[1;33m(\u001b[0m\u001b[1;34m'time white_clip.write_videofile(white_output, audio=False)'\u001b[0m\u001b[1;33m)\u001b[0m\u001b[1;33m\u001b[0m\u001b[0m\n",
      "\u001b[1;32mC:\\Users\\Yi Zhu\\Anaconda3\\lib\\site-packages\\moviepy\\video\\io\\VideoFileClip.py\u001b[0m in \u001b[0;36m__init__\u001b[1;34m(self, filename, has_mask, audio, audio_buffersize, target_resolution, resize_algorithm, audio_fps, audio_nbytes, verbose, fps_source)\u001b[0m\n\u001b[0;32m     79\u001b[0m                                          \u001b[0mtarget_resolution\u001b[0m\u001b[1;33m=\u001b[0m\u001b[0mtarget_resolution\u001b[0m\u001b[1;33m,\u001b[0m\u001b[1;33m\u001b[0m\u001b[0m\n\u001b[0;32m     80\u001b[0m                                          \u001b[0mresize_algo\u001b[0m\u001b[1;33m=\u001b[0m\u001b[0mresize_algorithm\u001b[0m\u001b[1;33m,\u001b[0m\u001b[1;33m\u001b[0m\u001b[0m\n\u001b[1;32m---> 81\u001b[1;33m                                          fps_source=fps_source)\n\u001b[0m\u001b[0;32m     82\u001b[0m \u001b[1;33m\u001b[0m\u001b[0m\n\u001b[0;32m     83\u001b[0m         \u001b[1;31m# Make some of the reader's attributes accessible from the clip\u001b[0m\u001b[1;33m\u001b[0m\u001b[1;33m\u001b[0m\u001b[0m\n",
      "\u001b[1;32mC:\\Users\\Yi Zhu\\Anaconda3\\lib\\site-packages\\moviepy\\video\\io\\ffmpeg_reader.py\u001b[0m in \u001b[0;36m__init__\u001b[1;34m(self, filename, print_infos, bufsize, pix_fmt, check_duration, target_resolution, resize_algo, fps_source)\u001b[0m\n\u001b[0;32m     30\u001b[0m         \u001b[0mself\u001b[0m\u001b[1;33m.\u001b[0m\u001b[0mfilename\u001b[0m \u001b[1;33m=\u001b[0m \u001b[0mfilename\u001b[0m\u001b[1;33m\u001b[0m\u001b[0m\n\u001b[0;32m     31\u001b[0m         infos = ffmpeg_parse_infos(filename, print_infos, check_duration,\n\u001b[1;32m---> 32\u001b[1;33m                                    fps_source)\n\u001b[0m\u001b[0;32m     33\u001b[0m         \u001b[0mself\u001b[0m\u001b[1;33m.\u001b[0m\u001b[0mfps\u001b[0m \u001b[1;33m=\u001b[0m \u001b[0minfos\u001b[0m\u001b[1;33m[\u001b[0m\u001b[1;34m'video_fps'\u001b[0m\u001b[1;33m]\u001b[0m\u001b[1;33m\u001b[0m\u001b[0m\n\u001b[0;32m     34\u001b[0m         \u001b[0mself\u001b[0m\u001b[1;33m.\u001b[0m\u001b[0msize\u001b[0m \u001b[1;33m=\u001b[0m \u001b[0minfos\u001b[0m\u001b[1;33m[\u001b[0m\u001b[1;34m'video_size'\u001b[0m\u001b[1;33m]\u001b[0m\u001b[1;33m\u001b[0m\u001b[0m\n",
      "\u001b[1;32mC:\\Users\\Yi Zhu\\Anaconda3\\lib\\site-packages\\moviepy\\video\\io\\ffmpeg_reader.py\u001b[0m in \u001b[0;36mffmpeg_parse_infos\u001b[1;34m(filename, print_infos, check_duration, fps_source)\u001b[0m\n\u001b[0;32m    254\u001b[0m         \u001b[0mpopen_params\u001b[0m\u001b[1;33m[\u001b[0m\u001b[1;34m\"creationflags\"\u001b[0m\u001b[1;33m]\u001b[0m \u001b[1;33m=\u001b[0m \u001b[1;36m0x08000000\u001b[0m\u001b[1;33m\u001b[0m\u001b[0m\n\u001b[0;32m    255\u001b[0m \u001b[1;33m\u001b[0m\u001b[0m\n\u001b[1;32m--> 256\u001b[1;33m     \u001b[0mproc\u001b[0m \u001b[1;33m=\u001b[0m \u001b[0msp\u001b[0m\u001b[1;33m.\u001b[0m\u001b[0mPopen\u001b[0m\u001b[1;33m(\u001b[0m\u001b[0mcmd\u001b[0m\u001b[1;33m,\u001b[0m \u001b[1;33m**\u001b[0m\u001b[0mpopen_params\u001b[0m\u001b[1;33m)\u001b[0m\u001b[1;33m\u001b[0m\u001b[0m\n\u001b[0m\u001b[0;32m    257\u001b[0m \u001b[1;33m\u001b[0m\u001b[0m\n\u001b[0;32m    258\u001b[0m     \u001b[0mproc\u001b[0m\u001b[1;33m.\u001b[0m\u001b[0mstdout\u001b[0m\u001b[1;33m.\u001b[0m\u001b[0mreadline\u001b[0m\u001b[1;33m(\u001b[0m\u001b[1;33m)\u001b[0m\u001b[1;33m\u001b[0m\u001b[0m\n",
      "\u001b[1;32mC:\\Users\\Yi Zhu\\Anaconda3\\lib\\subprocess.py\u001b[0m in \u001b[0;36m__init__\u001b[1;34m(self, args, bufsize, executable, stdin, stdout, stderr, preexec_fn, close_fds, shell, cwd, env, universal_newlines, startupinfo, creationflags, restore_signals, start_new_session, pass_fds)\u001b[0m\n\u001b[0;32m    843\u001b[0m                  pass_fds=()):\n\u001b[0;32m    844\u001b[0m         \u001b[1;34m\"\"\"Create new Popen instance.\"\"\"\u001b[0m\u001b[1;33m\u001b[0m\u001b[0m\n\u001b[1;32m--> 845\u001b[1;33m         \u001b[0m_cleanup\u001b[0m\u001b[1;33m(\u001b[0m\u001b[1;33m)\u001b[0m\u001b[1;33m\u001b[0m\u001b[0m\n\u001b[0m\u001b[0;32m    846\u001b[0m         \u001b[1;31m# Held while anything is calling waitpid before returncode has been\u001b[0m\u001b[1;33m\u001b[0m\u001b[1;33m\u001b[0m\u001b[0m\n\u001b[0;32m    847\u001b[0m         \u001b[1;31m# updated to prevent clobbering returncode if wait() or poll() are\u001b[0m\u001b[1;33m\u001b[0m\u001b[1;33m\u001b[0m\u001b[0m\n",
      "\u001b[1;32mC:\\Users\\Yi Zhu\\Anaconda3\\lib\\subprocess.py\u001b[0m in \u001b[0;36m_cleanup\u001b[1;34m()\u001b[0m\n\u001b[0;32m    503\u001b[0m \u001b[1;32mdef\u001b[0m \u001b[0m_cleanup\u001b[0m\u001b[1;33m(\u001b[0m\u001b[1;33m)\u001b[0m\u001b[1;33m:\u001b[0m\u001b[1;33m\u001b[0m\u001b[0m\n\u001b[0;32m    504\u001b[0m     \u001b[1;32mfor\u001b[0m \u001b[0minst\u001b[0m \u001b[1;32min\u001b[0m \u001b[0m_active\u001b[0m\u001b[1;33m[\u001b[0m\u001b[1;33m:\u001b[0m\u001b[1;33m]\u001b[0m\u001b[1;33m:\u001b[0m\u001b[1;33m\u001b[0m\u001b[0m\n\u001b[1;32m--> 505\u001b[1;33m         \u001b[0mres\u001b[0m \u001b[1;33m=\u001b[0m \u001b[0minst\u001b[0m\u001b[1;33m.\u001b[0m\u001b[0m_internal_poll\u001b[0m\u001b[1;33m(\u001b[0m\u001b[0m_deadstate\u001b[0m\u001b[1;33m=\u001b[0m\u001b[0msys\u001b[0m\u001b[1;33m.\u001b[0m\u001b[0mmaxsize\u001b[0m\u001b[1;33m)\u001b[0m\u001b[1;33m\u001b[0m\u001b[0m\n\u001b[0m\u001b[0;32m    506\u001b[0m         \u001b[1;32mif\u001b[0m \u001b[0mres\u001b[0m \u001b[1;32mis\u001b[0m \u001b[1;32mnot\u001b[0m \u001b[1;32mNone\u001b[0m\u001b[1;33m:\u001b[0m\u001b[1;33m\u001b[0m\u001b[0m\n\u001b[0;32m    507\u001b[0m             \u001b[1;32mtry\u001b[0m\u001b[1;33m:\u001b[0m\u001b[1;33m\u001b[0m\u001b[0m\n",
      "\u001b[1;32mC:\\Users\\Yi Zhu\\Anaconda3\\lib\\subprocess.py\u001b[0m in \u001b[0;36m_internal_poll\u001b[1;34m(self, _deadstate, _WaitForSingleObject, _WAIT_OBJECT_0, _GetExitCodeProcess)\u001b[0m\n\u001b[0;32m   1253\u001b[0m             \"\"\"\n\u001b[0;32m   1254\u001b[0m             \u001b[1;32mif\u001b[0m \u001b[0mself\u001b[0m\u001b[1;33m.\u001b[0m\u001b[0mreturncode\u001b[0m \u001b[1;32mis\u001b[0m \u001b[1;32mNone\u001b[0m\u001b[1;33m:\u001b[0m\u001b[1;33m\u001b[0m\u001b[0m\n\u001b[1;32m-> 1255\u001b[1;33m                 \u001b[1;32mif\u001b[0m \u001b[0m_WaitForSingleObject\u001b[0m\u001b[1;33m(\u001b[0m\u001b[0mself\u001b[0m\u001b[1;33m.\u001b[0m\u001b[0m_handle\u001b[0m\u001b[1;33m,\u001b[0m \u001b[1;36m0\u001b[0m\u001b[1;33m)\u001b[0m \u001b[1;33m==\u001b[0m \u001b[0m_WAIT_OBJECT_0\u001b[0m\u001b[1;33m:\u001b[0m\u001b[1;33m\u001b[0m\u001b[0m\n\u001b[0m\u001b[0;32m   1256\u001b[0m                     \u001b[0mself\u001b[0m\u001b[1;33m.\u001b[0m\u001b[0mreturncode\u001b[0m \u001b[1;33m=\u001b[0m \u001b[0m_GetExitCodeProcess\u001b[0m\u001b[1;33m(\u001b[0m\u001b[0mself\u001b[0m\u001b[1;33m.\u001b[0m\u001b[0m_handle\u001b[0m\u001b[1;33m)\u001b[0m\u001b[1;33m\u001b[0m\u001b[0m\n\u001b[0;32m   1257\u001b[0m             \u001b[1;32mreturn\u001b[0m \u001b[0mself\u001b[0m\u001b[1;33m.\u001b[0m\u001b[0mreturncode\u001b[0m\u001b[1;33m\u001b[0m\u001b[0m\n",
      "\u001b[1;31mOSError\u001b[0m: [WinError 6] The handle is invalid"
     ]
    }
   ],
   "source": [
    "import imageio\n",
    "imageio.plugins.ffmpeg.download()\n",
    "from moviepy.editor import VideoFileClip\n",
    "from IPython.display import HTML\n",
    "trackline=Line()\n",
    "white_output = 'C:/Users/Yi Zhu/Desktop/self-driving_car/CarND-Advanced-Lane-Lines-master/CarND-Advanced-Lane-Lines-master/project_video_out_try.mp4'\n",
    "clip1 = VideoFileClip('C:/Users/Yi Zhu/Desktop/self-driving_car/CarND-Advanced-Lane-Lines-master/CarND-Advanced-Lane-Lines-master/project_video.mp4').subclip(37,47)\n",
    "white_clip = clip1.fl_image(add_lane) #NOTE: this function expects color images!!\n",
    "%time white_clip.write_videofile(white_output, audio=False) "
   ]
  },
  {
   "cell_type": "markdown",
   "metadata": {},
   "source": [
    "## Try the add_lane method on video stream"
   ]
  },
  {
   "cell_type": "code",
   "execution_count": 17,
   "metadata": {
    "collapsed": true
   },
   "outputs": [],
   "source": [
    "\n",
    "import imageio\n",
    "imageio.plugins.ffmpeg.download()\n",
    "from moviepy.editor import VideoFileClip\n",
    "from IPython.display import HTML\n",
    "trackline=Line()\n",
    "white_output = 'C:/Users/Yi Zhu/Desktop/self-driving_car/CarND-Advanced-Lane-Lines-master/CarND-Advanced-Lane-Lines-master/project_video_out.mp4'\n",
    "clip1 = VideoFileClip('C:/Users/Yi Zhu/Desktop/self-driving_car/CarND-Advanced-Lane-Lines-master/CarND-Advanced-Lane-Lines-master/project_video.mp4')"
   ]
  },
  {
   "cell_type": "code",
   "execution_count": 18,
   "metadata": {
    "scrolled": true
   },
   "outputs": [
    {
     "name": "stdout",
     "output_type": "stream",
     "text": [
      "[MoviePy] >>>> Building video C:/Users/Yi Zhu/Desktop/self-driving_car/CarND-Advanced-Lane-Lines-master/CarND-Advanced-Lane-Lines-master/project_video_out.mp4\n",
      "[MoviePy] Writing video C:/Users/Yi Zhu/Desktop/self-driving_car/CarND-Advanced-Lane-Lines-master/CarND-Advanced-Lane-Lines-master/project_video_out.mp4\n"
     ]
    },
    {
     "name": "stderr",
     "output_type": "stream",
     "text": [
      "  1%|▌                                                                                | 9/1261 [00:06<14:25,  1.45it/s]"
     ]
    },
    {
     "name": "stdout",
     "output_type": "stream",
     "text": [
      "ret 2.320864587601612e-05\n",
      "LA.norm(trackline.diffs)>15*np.std(coefnorm): -191.962638656\n",
      "dist_diff 195.086684362\n"
     ]
    },
    {
     "name": "stderr",
     "output_type": "stream",
     "text": [
      "\r",
      "  1%|▋                                                                               | 10/1261 [00:06<14:31,  1.44it/s]"
     ]
    },
    {
     "name": "stdout",
     "output_type": "stream",
     "text": [
      "ret 0.00015016572755671698\n",
      "LA.norm(trackline.diffs)>15*np.std(coefnorm): -209.226638326\n",
      "dist_diff 189.282038302\n"
     ]
    },
    {
     "name": "stderr",
     "output_type": "stream",
     "text": [
      "\r",
      "  1%|▋                                                                               | 11/1261 [00:07<14:43,  1.42it/s]"
     ]
    },
    {
     "name": "stdout",
     "output_type": "stream",
     "text": [
      "ret 0.00033594075481602204\n",
      "LA.norm(trackline.diffs)>15*np.std(coefnorm): -227.331467442\n",
      "dist_diff 193.832370894\n"
     ]
    },
    {
     "name": "stderr",
     "output_type": "stream",
     "text": [
      "\r",
      "  1%|▊                                                                               | 12/1261 [00:08<14:50,  1.40it/s]"
     ]
    },
    {
     "name": "stdout",
     "output_type": "stream",
     "text": [
      "ret 0.00018248228065331773\n",
      "LA.norm(trackline.diffs)>15*np.std(coefnorm): -192.970226062\n",
      "dist_diff 187.652565412\n"
     ]
    },
    {
     "name": "stderr",
     "output_type": "stream",
     "text": [
      "\r",
      "  1%|▊                                                                               | 13/1261 [00:09<14:50,  1.40it/s]"
     ]
    },
    {
     "name": "stdout",
     "output_type": "stream",
     "text": [
      "ret 5.064433712920202e-05\n",
      "LA.norm(trackline.diffs)>15*np.std(coefnorm): -158.248615922\n",
      "dist_diff 184.554430121\n"
     ]
    },
    {
     "name": "stderr",
     "output_type": "stream",
     "text": [
      "\r",
      "  1%|▉                                                                               | 14/1261 [00:09<14:52,  1.40it/s]"
     ]
    },
    {
     "name": "stdout",
     "output_type": "stream",
     "text": [
      "ret 0.0002796755072430046\n",
      "LA.norm(trackline.diffs)>15*np.std(coefnorm): -132.219959694\n",
      "dist_diff 188.449688304\n"
     ]
    },
    {
     "name": "stderr",
     "output_type": "stream",
     "text": [
      "\r",
      "  1%|▉                                                                               | 15/1261 [00:10<14:47,  1.40it/s]"
     ]
    },
    {
     "name": "stdout",
     "output_type": "stream",
     "text": [
      "ret 0.00014827964952579542\n",
      "LA.norm(trackline.diffs)>15*np.std(coefnorm): -118.272688193\n",
      "dist_diff 198.582495463\n"
     ]
    },
    {
     "name": "stderr",
     "output_type": "stream",
     "text": [
      "\r",
      "  1%|█                                                                               | 16/1261 [00:11<14:49,  1.40it/s]"
     ]
    },
    {
     "name": "stdout",
     "output_type": "stream",
     "text": [
      "ret 6.817262793112899e-05\n",
      "LA.norm(trackline.diffs)>15*np.std(coefnorm): -181.640992419\n",
      "dist_diff 199.278172934\n"
     ]
    },
    {
     "name": "stderr",
     "output_type": "stream",
     "text": [
      "\r",
      "  1%|█                                                                               | 17/1261 [00:11<15:00,  1.38it/s]"
     ]
    },
    {
     "name": "stdout",
     "output_type": "stream",
     "text": [
      "ret 6.676931537075159e-05\n",
      "LA.norm(trackline.diffs)>15*np.std(coefnorm): -197.034756614\n",
      "dist_diff 200.510426452\n"
     ]
    },
    {
     "name": "stderr",
     "output_type": "stream",
     "text": [
      "\r",
      "  1%|█▏                                                                              | 18/1261 [00:12<15:01,  1.38it/s]"
     ]
    },
    {
     "name": "stdout",
     "output_type": "stream",
     "text": [
      "ret 0.0002189832448746265\n",
      "LA.norm(trackline.diffs)>15*np.std(coefnorm): -251.481878298\n",
      "dist_diff 201.857170042\n"
     ]
    },
    {
     "name": "stderr",
     "output_type": "stream",
     "text": [
      "\r",
      "  2%|█▏                                                                              | 19/1261 [00:13<14:50,  1.39it/s]"
     ]
    },
    {
     "name": "stdout",
     "output_type": "stream",
     "text": [
      "ret 0.00020859851154869657\n",
      "LA.norm(trackline.diffs)>15*np.std(coefnorm): -259.133433449\n",
      "dist_diff 206.233616636\n"
     ]
    },
    {
     "name": "stderr",
     "output_type": "stream",
     "text": [
      "\r",
      "  2%|█▎                                                                              | 20/1261 [00:14<14:44,  1.40it/s]"
     ]
    },
    {
     "name": "stdout",
     "output_type": "stream",
     "text": [
      "ret 0.00021897872874337976\n",
      "LA.norm(trackline.diffs)>15*np.std(coefnorm): -254.66569464\n",
      "dist_diff 210.022460542\n"
     ]
    },
    {
     "name": "stderr",
     "output_type": "stream",
     "text": [
      "\r",
      "  2%|█▎                                                                              | 21/1261 [00:14<14:44,  1.40it/s]"
     ]
    },
    {
     "name": "stdout",
     "output_type": "stream",
     "text": [
      "ret 0.0001840976212261758\n",
      "LA.norm(trackline.diffs)>15*np.std(coefnorm): -245.027696472\n",
      "dist_diff 204.939346003\n"
     ]
    },
    {
     "name": "stderr",
     "output_type": "stream",
     "text": [
      "\r",
      "  2%|█▍                                                                              | 22/1261 [00:15<14:40,  1.41it/s]"
     ]
    },
    {
     "name": "stdout",
     "output_type": "stream",
     "text": [
      "ret 0.00018793301281061492\n",
      "LA.norm(trackline.diffs)>15*np.std(coefnorm): -223.776606583\n",
      "dist_diff 209.510597583\n"
     ]
    },
    {
     "name": "stderr",
     "output_type": "stream",
     "text": [
      "\r",
      "  2%|█▍                                                                              | 23/1261 [00:16<14:38,  1.41it/s]"
     ]
    },
    {
     "name": "stdout",
     "output_type": "stream",
     "text": [
      "ret 7.181745884443647e-05\n",
      "LA.norm(trackline.diffs)>15*np.std(coefnorm): -229.627943681\n",
      "dist_diff 208.515028283\n"
     ]
    },
    {
     "name": "stderr",
     "output_type": "stream",
     "text": [
      "\r",
      "  2%|█▌                                                                              | 24/1261 [00:16<14:34,  1.41it/s]"
     ]
    },
    {
     "name": "stdout",
     "output_type": "stream",
     "text": [
      "ret 0.0002452761417107152\n",
      "LA.norm(trackline.diffs)>15*np.std(coefnorm): -194.30934815\n",
      "dist_diff 189.968131048\n"
     ]
    },
    {
     "name": "stderr",
     "output_type": "stream",
     "text": [
      "\r",
      "  2%|█▌                                                                              | 25/1261 [00:17<14:34,  1.41it/s]"
     ]
    },
    {
     "name": "stdout",
     "output_type": "stream",
     "text": [
      "ret 0.0002359561015476963\n",
      "LA.norm(trackline.diffs)>15*np.std(coefnorm): -177.898187679\n",
      "dist_diff 187.831867353\n"
     ]
    },
    {
     "name": "stderr",
     "output_type": "stream",
     "text": [
      "\r",
      "  2%|█▋                                                                              | 26/1261 [00:18<14:32,  1.42it/s]"
     ]
    },
    {
     "name": "stdout",
     "output_type": "stream",
     "text": [
      "ret 7.458460913528642e-05\n",
      "LA.norm(trackline.diffs)>15*np.std(coefnorm): -181.897567759\n",
      "dist_diff 179.713669796\n"
     ]
    },
    {
     "name": "stderr",
     "output_type": "stream",
     "text": [
      "\r",
      "  2%|█▋                                                                              | 27/1261 [00:19<14:33,  1.41it/s]"
     ]
    },
    {
     "name": "stdout",
     "output_type": "stream",
     "text": [
      "ret 0.0002525448413666642\n",
      "LA.norm(trackline.diffs)>15*np.std(coefnorm): -155.6238754\n",
      "dist_diff 177.612402957\n"
     ]
    },
    {
     "name": "stderr",
     "output_type": "stream",
     "text": [
      "\r",
      "  2%|█▊                                                                              | 28/1261 [00:19<14:30,  1.42it/s]"
     ]
    },
    {
     "name": "stdout",
     "output_type": "stream",
     "text": [
      "ret 0.00022516931796257023\n",
      "LA.norm(trackline.diffs)>15*np.std(coefnorm): -178.717401813\n",
      "dist_diff 170.037027086\n"
     ]
    },
    {
     "name": "stderr",
     "output_type": "stream",
     "text": [
      "\r",
      "  2%|█▊                                                                              | 29/1261 [00:20<14:30,  1.41it/s]"
     ]
    },
    {
     "name": "stdout",
     "output_type": "stream",
     "text": [
      "ret 0.00012820966783244625\n",
      "LA.norm(trackline.diffs)>15*np.std(coefnorm): -198.75378013\n",
      "dist_diff 173.657120681\n"
     ]
    },
    {
     "name": "stderr",
     "output_type": "stream",
     "text": [
      "\r",
      "  2%|█▉                                                                              | 30/1261 [00:21<14:32,  1.41it/s]"
     ]
    },
    {
     "name": "stdout",
     "output_type": "stream",
     "text": [
      "ret 0.0001155658629021783\n",
      "LA.norm(trackline.diffs)>15*np.std(coefnorm): -188.350846051\n",
      "dist_diff 181.635901812\n"
     ]
    },
    {
     "name": "stderr",
     "output_type": "stream",
     "text": [
      "\r",
      "  2%|█▉                                                                              | 31/1261 [00:21<14:33,  1.41it/s]"
     ]
    },
    {
     "name": "stdout",
     "output_type": "stream",
     "text": [
      "ret 0.00026504070784422185\n",
      "LA.norm(trackline.diffs)>15*np.std(coefnorm): -176.368360254\n",
      "dist_diff 181.838499013\n"
     ]
    },
    {
     "name": "stderr",
     "output_type": "stream",
     "text": [
      "\r",
      "  3%|██                                                                              | 32/1261 [00:22<14:29,  1.41it/s]"
     ]
    },
    {
     "name": "stdout",
     "output_type": "stream",
     "text": [
      "ret 0.0001343785076362014\n",
      "LA.norm(trackline.diffs)>15*np.std(coefnorm): -219.769805134\n",
      "dist_diff 177.061808837\n"
     ]
    },
    {
     "name": "stderr",
     "output_type": "stream",
     "text": [
      "\r",
      "  3%|██                                                                              | 33/1261 [00:23<14:31,  1.41it/s]"
     ]
    },
    {
     "name": "stdout",
     "output_type": "stream",
     "text": [
      "ret 4.078378406319194e-05\n",
      "LA.norm(trackline.diffs)>15*np.std(coefnorm): -186.737807043\n",
      "dist_diff 204.314851898\n"
     ]
    },
    {
     "name": "stderr",
     "output_type": "stream",
     "text": [
      "\r",
      "  3%|██▏                                                                             | 34/1261 [00:24<14:33,  1.40it/s]"
     ]
    },
    {
     "name": "stdout",
     "output_type": "stream",
     "text": [
      "ret 0.0001393285460005167\n",
      "LA.norm(trackline.diffs)>15*np.std(coefnorm): -242.992920988\n",
      "dist_diff 203.731975238\n"
     ]
    },
    {
     "name": "stderr",
     "output_type": "stream",
     "text": [
      "\r",
      "  3%|██▏                                                                             | 35/1261 [00:24<14:39,  1.39it/s]"
     ]
    },
    {
     "name": "stdout",
     "output_type": "stream",
     "text": [
      "ret 0.00031626784697252885\n",
      "LA.norm(trackline.diffs)>15*np.std(coefnorm): -304.265792711\n",
      "dist_diff 192.984442417\n"
     ]
    },
    {
     "name": "stderr",
     "output_type": "stream",
     "text": [
      "\r",
      "  3%|██▎                                                                             | 36/1261 [00:25<14:34,  1.40it/s]"
     ]
    },
    {
     "name": "stdout",
     "output_type": "stream",
     "text": [
      "ret 0.00016722708430966238\n",
      "LA.norm(trackline.diffs)>15*np.std(coefnorm): -359.924429682\n",
      "dist_diff 190.768937172\n"
     ]
    },
    {
     "name": "stderr",
     "output_type": "stream",
     "text": [
      "\r",
      "  3%|██▎                                                                             | 37/1261 [00:26<14:32,  1.40it/s]"
     ]
    },
    {
     "name": "stdout",
     "output_type": "stream",
     "text": [
      "ret 0.00018336903908167113\n",
      "LA.norm(trackline.diffs)>15*np.std(coefnorm): -402.985886866\n",
      "dist_diff 187.074168438\n"
     ]
    },
    {
     "name": "stderr",
     "output_type": "stream",
     "text": [
      "\r",
      "  3%|██▍                                                                             | 38/1261 [00:26<14:28,  1.41it/s]"
     ]
    },
    {
     "name": "stdout",
     "output_type": "stream",
     "text": [
      "ret 0.0002132265963464275\n",
      "LA.norm(trackline.diffs)>15*np.std(coefnorm): -365.389412987\n",
      "dist_diff 196.136409021\n"
     ]
    },
    {
     "name": "stderr",
     "output_type": "stream",
     "text": [
      "\r",
      "  3%|██▍                                                                             | 39/1261 [00:27<14:24,  1.41it/s]"
     ]
    },
    {
     "name": "stdout",
     "output_type": "stream",
     "text": [
      "ret 8.614373567567002e-05\n",
      "LA.norm(trackline.diffs)>15*np.std(coefnorm): -346.286157925\n",
      "dist_diff 200.382303624\n"
     ]
    },
    {
     "name": "stderr",
     "output_type": "stream",
     "text": [
      "\r",
      "  3%|██▌                                                                             | 40/1261 [00:28<14:26,  1.41it/s]"
     ]
    },
    {
     "name": "stdout",
     "output_type": "stream",
     "text": [
      "ret 2.9683111005263108e-05\n",
      "LA.norm(trackline.diffs)>15*np.std(coefnorm): -302.382077807\n",
      "dist_diff 202.636019397\n"
     ]
    },
    {
     "name": "stderr",
     "output_type": "stream",
     "text": [
      "\r",
      "  3%|██▌                                                                             | 41/1261 [00:28<14:25,  1.41it/s]"
     ]
    },
    {
     "name": "stdout",
     "output_type": "stream",
     "text": [
      "ret 3.9688709685958834e-05\n",
      "LA.norm(trackline.diffs)>15*np.std(coefnorm): -291.326026215\n",
      "dist_diff 203.594708974\n"
     ]
    },
    {
     "name": "stderr",
     "output_type": "stream",
     "text": [
      "\r",
      "  3%|██▋                                                                             | 42/1261 [00:29<14:26,  1.41it/s]"
     ]
    },
    {
     "name": "stdout",
     "output_type": "stream",
     "text": [
      "ret 0.00012724167275213194\n",
      "LA.norm(trackline.diffs)>15*np.std(coefnorm): -275.64320492\n",
      "dist_diff 207.058458872\n"
     ]
    },
    {
     "name": "stderr",
     "output_type": "stream",
     "text": [
      "\r",
      "  3%|██▋                                                                             | 43/1261 [00:30<14:28,  1.40it/s]"
     ]
    },
    {
     "name": "stdout",
     "output_type": "stream",
     "text": [
      "ret 0.00020135691732348082\n",
      "LA.norm(trackline.diffs)>15*np.std(coefnorm): -127.040536791\n",
      "dist_diff 207.025908267\n"
     ]
    },
    {
     "name": "stderr",
     "output_type": "stream",
     "text": [
      "\r",
      "  3%|██▊                                                                             | 44/1261 [00:31<14:25,  1.41it/s]"
     ]
    },
    {
     "name": "stdout",
     "output_type": "stream",
     "text": [
      "ret 7.252499023341352e-05\n",
      "LA.norm(trackline.diffs)>15*np.std(coefnorm): -123.173798353\n",
      "dist_diff 207.296877434\n"
     ]
    },
    {
     "name": "stderr",
     "output_type": "stream",
     "text": [
      "\r",
      "  4%|██▊                                                                             | 45/1261 [00:31<14:29,  1.40it/s]"
     ]
    },
    {
     "name": "stdout",
     "output_type": "stream",
     "text": [
      "ret 8.930818999891565e-05\n",
      "LA.norm(trackline.diffs)>15*np.std(coefnorm): -171.828140994\n",
      "dist_diff 215.82723007\n"
     ]
    },
    {
     "name": "stderr",
     "output_type": "stream",
     "text": [
      "\r",
      "  4%|██▉                                                                             | 46/1261 [00:32<14:26,  1.40it/s]"
     ]
    },
    {
     "name": "stdout",
     "output_type": "stream",
     "text": [
      "ret 0.00012623063767552845\n",
      "LA.norm(trackline.diffs)>15*np.std(coefnorm): -211.705188398\n",
      "dist_diff 227.622913837\n"
     ]
    },
    {
     "name": "stderr",
     "output_type": "stream",
     "text": [
      "\r",
      "  4%|██▉                                                                             | 47/1261 [00:33<14:27,  1.40it/s]"
     ]
    },
    {
     "name": "stdout",
     "output_type": "stream",
     "text": [
      "ret 5.142026048465809e-05\n",
      "LA.norm(trackline.diffs)>15*np.std(coefnorm): -227.400832447\n",
      "dist_diff 236.289048907\n"
     ]
    },
    {
     "name": "stderr",
     "output_type": "stream",
     "text": [
      "\r",
      "  4%|███                                                                             | 48/1261 [00:33<14:24,  1.40it/s]"
     ]
    },
    {
     "name": "stdout",
     "output_type": "stream",
     "text": [
      "ret 6.687779392405835e-05\n",
      "LA.norm(trackline.diffs)>15*np.std(coefnorm): -226.187288218\n",
      "dist_diff 230.903128913\n"
     ]
    },
    {
     "name": "stderr",
     "output_type": "stream",
     "text": [
      "\r",
      "  4%|███                                                                             | 49/1261 [00:34<14:21,  1.41it/s]"
     ]
    },
    {
     "name": "stdout",
     "output_type": "stream",
     "text": [
      "ret 3.227763578539378e-05\n",
      "LA.norm(trackline.diffs)>15*np.std(coefnorm): -226.011084469\n",
      "dist_diff 226.205397065\n"
     ]
    },
    {
     "name": "stderr",
     "output_type": "stream",
     "text": [
      "\r",
      "  4%|███▏                                                                            | 50/1261 [00:35<14:22,  1.40it/s]"
     ]
    },
    {
     "name": "stdout",
     "output_type": "stream",
     "text": [
      "ret 7.825226326024781e-05\n",
      "LA.norm(trackline.diffs)>15*np.std(coefnorm): -225.201032426\n",
      "dist_diff 220.943761205\n"
     ]
    },
    {
     "name": "stderr",
     "output_type": "stream",
     "text": [
      "\r",
      "  4%|███▏                                                                            | 51/1261 [00:36<14:24,  1.40it/s]"
     ]
    },
    {
     "name": "stdout",
     "output_type": "stream",
     "text": [
      "ret 0.00018494807976565664\n",
      "LA.norm(trackline.diffs)>15*np.std(coefnorm): -215.682802682\n",
      "dist_diff 218.166434\n"
     ]
    },
    {
     "name": "stderr",
     "output_type": "stream",
     "text": [
      "\r",
      "  4%|███▎                                                                            | 52/1261 [00:36<14:31,  1.39it/s]"
     ]
    },
    {
     "name": "stdout",
     "output_type": "stream",
     "text": [
      "ret 3.775433844022125e-05\n",
      "LA.norm(trackline.diffs)>15*np.std(coefnorm): -185.317991028\n",
      "dist_diff 222.589294651\n"
     ]
    },
    {
     "name": "stderr",
     "output_type": "stream",
     "text": [
      "\r",
      "  4%|███▎                                                                            | 53/1261 [00:37<14:31,  1.39it/s]"
     ]
    },
    {
     "name": "stdout",
     "output_type": "stream",
     "text": [
      "ret 9.558083459942912e-05\n",
      "LA.norm(trackline.diffs)>15*np.std(coefnorm): -131.547750682\n",
      "dist_diff 226.274556622\n"
     ]
    },
    {
     "name": "stderr",
     "output_type": "stream",
     "text": [
      "\r",
      "  4%|███▍                                                                            | 54/1261 [00:38<14:34,  1.38it/s]"
     ]
    },
    {
     "name": "stdout",
     "output_type": "stream",
     "text": [
      "ret 8.256077258600447e-05\n",
      "LA.norm(trackline.diffs)>15*np.std(coefnorm): -132.941022398\n",
      "dist_diff 226.166143377\n"
     ]
    },
    {
     "name": "stderr",
     "output_type": "stream",
     "text": [
      "\r",
      "  4%|███▍                                                                            | 55/1261 [00:39<14:30,  1.39it/s]"
     ]
    },
    {
     "name": "stdout",
     "output_type": "stream",
     "text": [
      "ret 0.00016311768953125583\n",
      "LA.norm(trackline.diffs)>15*np.std(coefnorm): -151.993273111\n",
      "dist_diff 223.860938164\n"
     ]
    },
    {
     "name": "stderr",
     "output_type": "stream",
     "text": [
      "\r",
      "  4%|███▌                                                                            | 56/1261 [00:39<14:30,  1.38it/s]"
     ]
    },
    {
     "name": "stdout",
     "output_type": "stream",
     "text": [
      "ret 1.8350681817547176e-05\n",
      "LA.norm(trackline.diffs)>15*np.std(coefnorm): -146.611796013\n",
      "dist_diff 217.846092394\n"
     ]
    },
    {
     "name": "stderr",
     "output_type": "stream",
     "text": [
      "\r",
      "  5%|███▌                                                                            | 57/1261 [00:40<14:27,  1.39it/s]"
     ]
    },
    {
     "name": "stdout",
     "output_type": "stream",
     "text": [
      "ret 2.3608102691752286e-05\n",
      "LA.norm(trackline.diffs)>15*np.std(coefnorm): -128.543051713\n",
      "dist_diff 220.131336667\n"
     ]
    },
    {
     "name": "stderr",
     "output_type": "stream",
     "text": [
      "\r",
      "  5%|███▋                                                                            | 58/1261 [00:41<14:27,  1.39it/s]"
     ]
    },
    {
     "name": "stdout",
     "output_type": "stream",
     "text": [
      "ret 0.0002309450036862004\n",
      "LA.norm(trackline.diffs)>15*np.std(coefnorm): -77.676808762\n",
      "dist_diff 227.699171065\n"
     ]
    },
    {
     "name": "stderr",
     "output_type": "stream",
     "text": [
      "\r",
      "  5%|███▋                                                                            | 59/1261 [00:41<14:25,  1.39it/s]"
     ]
    },
    {
     "name": "stdout",
     "output_type": "stream",
     "text": [
      "ret 0.0002923079568390441\n",
      "LA.norm(trackline.diffs)>15*np.std(coefnorm): -132.03951637\n",
      "dist_diff 216.466025488\n"
     ]
    },
    {
     "name": "stderr",
     "output_type": "stream",
     "text": [
      "\r",
      "  5%|███▊                                                                            | 60/1261 [00:42<14:22,  1.39it/s]"
     ]
    },
    {
     "name": "stdout",
     "output_type": "stream",
     "text": [
      "ret 0.00018520631498603057\n",
      "LA.norm(trackline.diffs)>15*np.std(coefnorm): -177.668112007\n",
      "dist_diff 206.683916065\n"
     ]
    },
    {
     "name": "stderr",
     "output_type": "stream",
     "text": [
      "\r",
      "  5%|███▊                                                                            | 61/1261 [00:43<14:19,  1.40it/s]"
     ]
    },
    {
     "name": "stdout",
     "output_type": "stream",
     "text": [
      "ret 6.322142759895844e-05\n",
      "LA.norm(trackline.diffs)>15*np.std(coefnorm): -177.168290025\n",
      "dist_diff 212.277012528\n"
     ]
    },
    {
     "name": "stderr",
     "output_type": "stream",
     "text": [
      "\r",
      "  5%|███▉                                                                            | 62/1261 [00:44<14:19,  1.40it/s]"
     ]
    },
    {
     "name": "stdout",
     "output_type": "stream",
     "text": [
      "ret 0.00030655391670220133\n",
      "LA.norm(trackline.diffs)>15*np.std(coefnorm): -230.942752647\n",
      "dist_diff 210.799341757\n"
     ]
    },
    {
     "name": "stderr",
     "output_type": "stream",
     "text": [
      "\r",
      "  5%|███▉                                                                            | 63/1261 [00:44<14:20,  1.39it/s]"
     ]
    },
    {
     "name": "stdout",
     "output_type": "stream",
     "text": [
      "ret 2.963939097766488e-05\n",
      "LA.norm(trackline.diffs)>15*np.std(coefnorm): -224.06643798\n",
      "dist_diff 213.364825044\n"
     ]
    },
    {
     "name": "stderr",
     "output_type": "stream",
     "text": [
      "\r",
      "  5%|████                                                                            | 64/1261 [00:45<14:17,  1.40it/s]"
     ]
    },
    {
     "name": "stdout",
     "output_type": "stream",
     "text": [
      "ret 0.00023967602406255173\n",
      "LA.norm(trackline.diffs)>15*np.std(coefnorm): -246.735088927\n",
      "dist_diff 209.121264075\n"
     ]
    },
    {
     "name": "stderr",
     "output_type": "stream",
     "text": [
      "\r",
      "  5%|████                                                                            | 65/1261 [00:46<14:19,  1.39it/s]"
     ]
    },
    {
     "name": "stdout",
     "output_type": "stream",
     "text": [
      "ret 1.9033435722459746e-05\n",
      "LA.norm(trackline.diffs)>15*np.std(coefnorm): -239.26392302\n",
      "dist_diff 207.480889459\n"
     ]
    },
    {
     "name": "stderr",
     "output_type": "stream",
     "text": [
      "\r",
      "  5%|████▏                                                                           | 66/1261 [00:46<14:20,  1.39it/s]"
     ]
    },
    {
     "name": "stdout",
     "output_type": "stream",
     "text": [
      "ret 0.0001652682959533136\n",
      "LA.norm(trackline.diffs)>15*np.std(coefnorm): -214.540690244\n",
      "dist_diff 207.434206422\n"
     ]
    },
    {
     "name": "stderr",
     "output_type": "stream",
     "text": [
      "\r",
      "  5%|████▎                                                                           | 67/1261 [00:47<14:16,  1.39it/s]"
     ]
    },
    {
     "name": "stdout",
     "output_type": "stream",
     "text": [
      "ret 0.0001951273990141167\n",
      "LA.norm(trackline.diffs)>15*np.std(coefnorm): -146.843331797\n",
      "dist_diff 204.713303253\n"
     ]
    },
    {
     "name": "stderr",
     "output_type": "stream",
     "text": [
      "\r",
      "  5%|████▎                                                                           | 68/1261 [00:48<14:16,  1.39it/s]"
     ]
    },
    {
     "name": "stdout",
     "output_type": "stream",
     "text": [
      "ret 6.248188037188962e-05\n",
      "LA.norm(trackline.diffs)>15*np.std(coefnorm): -96.7312365455\n",
      "dist_diff 209.525634933\n"
     ]
    },
    {
     "name": "stderr",
     "output_type": "stream",
     "text": [
      "\r",
      "  5%|████▍                                                                           | 69/1261 [00:49<14:13,  1.40it/s]"
     ]
    },
    {
     "name": "stdout",
     "output_type": "stream",
     "text": [
      "ret 0.0003309907897764419\n",
      "LA.norm(trackline.diffs)>15*np.std(coefnorm): -111.390277855\n",
      "dist_diff 213.903298409\n"
     ]
    },
    {
     "name": "stderr",
     "output_type": "stream",
     "text": [
      "\r",
      "  6%|████▍                                                                           | 70/1261 [00:49<14:13,  1.40it/s]"
     ]
    },
    {
     "name": "stdout",
     "output_type": "stream",
     "text": [
      "ret 2.3472752692543786e-05\n",
      "LA.norm(trackline.diffs)>15*np.std(coefnorm): -111.47638018\n",
      "dist_diff 213.849480345\n"
     ]
    },
    {
     "name": "stderr",
     "output_type": "stream",
     "text": [
      "\r",
      "  6%|████▌                                                                           | 71/1261 [00:50<14:09,  1.40it/s]"
     ]
    },
    {
     "name": "stdout",
     "output_type": "stream",
     "text": [
      "ret 0.00013389646874029104\n",
      "LA.norm(trackline.diffs)>15*np.std(coefnorm): -108.793873677\n",
      "dist_diff 203.676487934\n"
     ]
    },
    {
     "name": "stderr",
     "output_type": "stream",
     "text": [
      "\r",
      "  6%|████▌                                                                           | 72/1261 [00:51<14:12,  1.39it/s]"
     ]
    },
    {
     "name": "stdout",
     "output_type": "stream",
     "text": [
      "ret 1.0815651060369635e-05\n",
      "LA.norm(trackline.diffs)>15*np.std(coefnorm): -79.5723196093\n",
      "dist_diff 188.711398222\n"
     ]
    },
    {
     "name": "stderr",
     "output_type": "stream",
     "text": [
      "\r",
      "  6%|████▋                                                                           | 73/1261 [00:51<14:18,  1.38it/s]"
     ]
    },
    {
     "name": "stdout",
     "output_type": "stream",
     "text": [
      "ret 0.00010395072409918882\n",
      "LA.norm(trackline.diffs)>15*np.std(coefnorm): -103.266045833\n",
      "dist_diff 176.303440902\n"
     ]
    },
    {
     "name": "stderr",
     "output_type": "stream",
     "text": [
      "\r",
      "  6%|████▋                                                                           | 74/1261 [00:52<14:18,  1.38it/s]"
     ]
    },
    {
     "name": "stdout",
     "output_type": "stream",
     "text": [
      "ret 0.00011049187800271643\n",
      "LA.norm(trackline.diffs)>15*np.std(coefnorm): -95.0356629869\n",
      "dist_diff 169.708723728\n"
     ]
    },
    {
     "name": "stderr",
     "output_type": "stream",
     "text": [
      "\r",
      "  6%|████▊                                                                           | 75/1261 [00:53<14:13,  1.39it/s]"
     ]
    },
    {
     "name": "stdout",
     "output_type": "stream",
     "text": [
      "ret 1.829592988472628e-05\n",
      "LA.norm(trackline.diffs)>15*np.std(coefnorm): -150.847857244\n",
      "dist_diff 169.92475565\n"
     ]
    },
    {
     "name": "stderr",
     "output_type": "stream",
     "text": [
      "\r",
      "  6%|████▊                                                                           | 76/1261 [00:54<14:10,  1.39it/s]"
     ]
    },
    {
     "name": "stdout",
     "output_type": "stream",
     "text": [
      "ret 0.0002490159295813754\n",
      "LA.norm(trackline.diffs)>15*np.std(coefnorm): -144.774010955\n",
      "dist_diff 161.388792473\n"
     ]
    },
    {
     "name": "stderr",
     "output_type": "stream",
     "text": [
      "\r",
      "  6%|████▉                                                                           | 77/1261 [00:54<14:09,  1.39it/s]"
     ]
    },
    {
     "name": "stdout",
     "output_type": "stream",
     "text": [
      "ret 0.0001285165116380882\n",
      "LA.norm(trackline.diffs)>15*np.std(coefnorm): -202.506679338\n",
      "dist_diff 159.777360207\n"
     ]
    },
    {
     "name": "stderr",
     "output_type": "stream",
     "text": [
      "\r",
      "  6%|████▉                                                                           | 78/1261 [00:55<14:14,  1.38it/s]"
     ]
    },
    {
     "name": "stdout",
     "output_type": "stream",
     "text": [
      "ret 0.00010148153414829553\n",
      "LA.norm(trackline.diffs)>15*np.std(coefnorm): -269.627616383\n",
      "dist_diff 157.346596515\n"
     ]
    },
    {
     "name": "stderr",
     "output_type": "stream",
     "text": [
      "\r",
      "  6%|█████                                                                           | 79/1261 [00:56<14:10,  1.39it/s]"
     ]
    },
    {
     "name": "stdout",
     "output_type": "stream",
     "text": [
      "ret 3.1056785757654914e-05\n",
      "LA.norm(trackline.diffs)>15*np.std(coefnorm): -299.19023353\n",
      "dist_diff 158.084666922\n"
     ]
    },
    {
     "name": "stderr",
     "output_type": "stream",
     "text": [
      "\r",
      "  6%|█████                                                                           | 80/1261 [00:56<14:05,  1.40it/s]"
     ]
    },
    {
     "name": "stdout",
     "output_type": "stream",
     "text": [
      "ret 6.815020852779519e-05\n",
      "LA.norm(trackline.diffs)>15*np.std(coefnorm): -319.164947644\n",
      "dist_diff 159.587035596\n"
     ]
    },
    {
     "name": "stderr",
     "output_type": "stream",
     "text": [
      "\r",
      "  6%|█████▏                                                                          | 81/1261 [00:57<14:05,  1.40it/s]"
     ]
    },
    {
     "name": "stdout",
     "output_type": "stream",
     "text": [
      "ret 6.867929074910739e-05\n",
      "LA.norm(trackline.diffs)>15*np.std(coefnorm): -282.558835383\n",
      "dist_diff 157.004780411\n"
     ]
    },
    {
     "name": "stderr",
     "output_type": "stream",
     "text": [
      "\r",
      "  7%|█████▏                                                                          | 82/1261 [00:58<14:02,  1.40it/s]"
     ]
    },
    {
     "name": "stdout",
     "output_type": "stream",
     "text": [
      "ret 5.014551244442167e-05\n",
      "LA.norm(trackline.diffs)>15*np.std(coefnorm): -254.910416301\n",
      "dist_diff 151.889539287\n"
     ]
    },
    {
     "name": "stderr",
     "output_type": "stream",
     "text": [
      "\r",
      "  7%|█████▎                                                                          | 83/1261 [00:59<14:00,  1.40it/s]"
     ]
    },
    {
     "name": "stdout",
     "output_type": "stream",
     "text": [
      "ret 0.00017067199881137807\n",
      "LA.norm(trackline.diffs)>15*np.std(coefnorm): -214.196188244\n",
      "dist_diff 145.35627959\n"
     ]
    },
    {
     "name": "stderr",
     "output_type": "stream",
     "text": [
      "\r",
      "  7%|█████▎                                                                          | 84/1261 [00:59<13:57,  1.41it/s]"
     ]
    },
    {
     "name": "stdout",
     "output_type": "stream",
     "text": [
      "ret 8.512337278759885e-05\n",
      "LA.norm(trackline.diffs)>15*np.std(coefnorm): -230.328340909\n",
      "dist_diff 153.950216917\n"
     ]
    },
    {
     "name": "stderr",
     "output_type": "stream",
     "text": [
      "\r",
      "  7%|█████▍                                                                          | 85/1261 [01:00<14:00,  1.40it/s]"
     ]
    },
    {
     "name": "stdout",
     "output_type": "stream",
     "text": [
      "ret 2.9940765305436212e-05\n",
      "LA.norm(trackline.diffs)>15*np.std(coefnorm): -234.699865513\n",
      "dist_diff 161.641838616\n"
     ]
    },
    {
     "name": "stderr",
     "output_type": "stream",
     "text": [
      "\r",
      "  7%|█████▍                                                                          | 86/1261 [01:01<13:56,  1.40it/s]"
     ]
    },
    {
     "name": "stdout",
     "output_type": "stream",
     "text": [
      "ret 0.00030827122277948815\n",
      "LA.norm(trackline.diffs)>15*np.std(coefnorm): -141.182479867\n",
      "dist_diff 159.893549148\n"
     ]
    },
    {
     "name": "stderr",
     "output_type": "stream",
     "text": [
      "\r",
      "  7%|█████▌                                                                          | 87/1261 [01:01<14:00,  1.40it/s]"
     ]
    },
    {
     "name": "stdout",
     "output_type": "stream",
     "text": [
      "ret 0.0003002133919788874\n",
      "LA.norm(trackline.diffs)>15*np.std(coefnorm): -150.009264291\n",
      "dist_diff 149.025315496\n"
     ]
    },
    {
     "name": "stderr",
     "output_type": "stream",
     "text": [
      "\r",
      "  7%|█████▌                                                                          | 88/1261 [01:02<14:02,  1.39it/s]"
     ]
    },
    {
     "name": "stdout",
     "output_type": "stream",
     "text": [
      "ret 0.0001551720966772585\n",
      "LA.norm(trackline.diffs)>15*np.std(coefnorm): -174.249797706\n",
      "dist_diff 149.308315731\n"
     ]
    },
    {
     "name": "stderr",
     "output_type": "stream",
     "text": [
      "\r",
      "  7%|█████▋                                                                          | 89/1261 [01:03<14:10,  1.38it/s]"
     ]
    },
    {
     "name": "stdout",
     "output_type": "stream",
     "text": [
      "ret 0.000253359046950119\n",
      "LA.norm(trackline.diffs)>15*np.std(coefnorm): -185.168260343\n",
      "dist_diff 156.529368958\n"
     ]
    },
    {
     "name": "stderr",
     "output_type": "stream",
     "text": [
      "\r",
      "  7%|█████▋                                                                          | 90/1261 [01:04<14:07,  1.38it/s]"
     ]
    },
    {
     "name": "stdout",
     "output_type": "stream",
     "text": [
      "ret 0.00020089415669999333\n",
      "LA.norm(trackline.diffs)>15*np.std(coefnorm): -270.745202132\n",
      "dist_diff 155.85085436\n"
     ]
    },
    {
     "name": "stderr",
     "output_type": "stream",
     "text": [
      "\r",
      "  7%|█████▊                                                                          | 91/1261 [01:04<14:02,  1.39it/s]"
     ]
    },
    {
     "name": "stdout",
     "output_type": "stream",
     "text": [
      "ret 7.058355498335e-05\n",
      "LA.norm(trackline.diffs)>15*np.std(coefnorm): -306.190111727\n",
      "dist_diff 156.236252758\n"
     ]
    },
    {
     "name": "stderr",
     "output_type": "stream",
     "text": [
      "\r",
      "  7%|█████▊                                                                          | 92/1261 [01:05<13:58,  1.39it/s]"
     ]
    },
    {
     "name": "stdout",
     "output_type": "stream",
     "text": [
      "ret 9.09865997807402e-05\n",
      "LA.norm(trackline.diffs)>15*np.std(coefnorm): -316.006124999\n",
      "dist_diff 159.30765226\n"
     ]
    },
    {
     "name": "stderr",
     "output_type": "stream",
     "text": [
      "\r",
      "  7%|█████▉                                                                          | 93/1261 [01:06<13:52,  1.40it/s]"
     ]
    },
    {
     "name": "stdout",
     "output_type": "stream",
     "text": [
      "ret 5.484586222503918e-05\n",
      "LA.norm(trackline.diffs)>15*np.std(coefnorm): -301.880494237\n",
      "dist_diff 164.15877205\n"
     ]
    },
    {
     "name": "stderr",
     "output_type": "stream",
     "text": [
      "\r",
      "  7%|█████▉                                                                          | 94/1261 [01:06<13:48,  1.41it/s]"
     ]
    },
    {
     "name": "stdout",
     "output_type": "stream",
     "text": [
      "ret 0.00021111430980219614\n",
      "LA.norm(trackline.diffs)>15*np.std(coefnorm): -274.540535724\n",
      "dist_diff 167.681557416\n"
     ]
    },
    {
     "name": "stderr",
     "output_type": "stream",
     "text": [
      "\r",
      "  8%|██████                                                                          | 95/1261 [01:07<13:44,  1.41it/s]"
     ]
    },
    {
     "name": "stdout",
     "output_type": "stream",
     "text": [
      "ret 0.00023707334873246388\n",
      "LA.norm(trackline.diffs)>15*np.std(coefnorm): -192.053336058\n",
      "dist_diff 188.821437924\n"
     ]
    },
    {
     "name": "stderr",
     "output_type": "stream",
     "text": [
      "\r",
      "  8%|██████                                                                          | 96/1261 [01:08<13:44,  1.41it/s]"
     ]
    },
    {
     "name": "stdout",
     "output_type": "stream",
     "text": [
      "ret 7.051249453687847e-05\n",
      "LA.norm(trackline.diffs)>15*np.std(coefnorm): -136.97966581\n",
      "dist_diff 178.531052002\n"
     ]
    },
    {
     "name": "stderr",
     "output_type": "stream",
     "text": [
      "\r",
      "  8%|██████▏                                                                         | 97/1261 [01:09<13:42,  1.41it/s]"
     ]
    },
    {
     "name": "stdout",
     "output_type": "stream",
     "text": [
      "ret 5.282543947010554e-05\n",
      "LA.norm(trackline.diffs)>15*np.std(coefnorm): -124.735692536\n",
      "dist_diff 166.154478899\n"
     ]
    },
    {
     "name": "stderr",
     "output_type": "stream",
     "text": [
      "\r",
      "  8%|██████▏                                                                         | 98/1261 [01:09<13:40,  1.42it/s]"
     ]
    },
    {
     "name": "stdout",
     "output_type": "stream",
     "text": [
      "ret 0.00016900816938886232\n",
      "LA.norm(trackline.diffs)>15*np.std(coefnorm): -108.871984687\n",
      "dist_diff 157.150060332\n"
     ]
    },
    {
     "name": "stderr",
     "output_type": "stream",
     "text": [
      "\r",
      "  8%|██████▎                                                                         | 99/1261 [01:10<13:38,  1.42it/s]"
     ]
    },
    {
     "name": "stdout",
     "output_type": "stream",
     "text": [
      "ret 5.374056226592483e-05\n",
      "LA.norm(trackline.diffs)>15*np.std(coefnorm): -81.421339446\n",
      "dist_diff 149.793713494\n"
     ]
    },
    {
     "name": "stderr",
     "output_type": "stream",
     "text": [
      "\r",
      "  8%|██████▎                                                                        | 100/1261 [01:11<13:36,  1.42it/s]"
     ]
    },
    {
     "name": "stdout",
     "output_type": "stream",
     "text": [
      "ret 0.00014824208722047372\n",
      "LA.norm(trackline.diffs)>15*np.std(coefnorm): -101.958804033\n",
      "dist_diff 144.12732259\n"
     ]
    },
    {
     "name": "stderr",
     "output_type": "stream",
     "text": [
      "\r",
      "  8%|██████▎                                                                        | 101/1261 [01:11<13:35,  1.42it/s]"
     ]
    },
    {
     "name": "stdout",
     "output_type": "stream",
     "text": [
      "ret 1.0623970466527854e-05\n",
      "LA.norm(trackline.diffs)>15*np.std(coefnorm): -128.408313558\n",
      "dist_diff 150.348137941\n"
     ]
    },
    {
     "name": "stderr",
     "output_type": "stream",
     "text": [
      "\r",
      "  8%|██████▍                                                                        | 102/1261 [01:12<13:36,  1.42it/s]"
     ]
    },
    {
     "name": "stdout",
     "output_type": "stream",
     "text": [
      "ret 6.209272071328042e-05\n",
      "LA.norm(trackline.diffs)>15*np.std(coefnorm): -133.525189055\n",
      "dist_diff 151.344480378\n"
     ]
    },
    {
     "name": "stderr",
     "output_type": "stream",
     "text": [
      "\r",
      "  8%|██████▍                                                                        | 103/1261 [01:13<13:33,  1.42it/s]"
     ]
    },
    {
     "name": "stdout",
     "output_type": "stream",
     "text": [
      "ret 3.8889206478709415e-05\n",
      "LA.norm(trackline.diffs)>15*np.std(coefnorm): -132.475542906\n",
      "dist_diff 151.837918829\n"
     ]
    },
    {
     "name": "stderr",
     "output_type": "stream",
     "text": [
      "\r",
      "  8%|██████▌                                                                        | 104/1261 [01:14<13:36,  1.42it/s]"
     ]
    },
    {
     "name": "stdout",
     "output_type": "stream",
     "text": [
      "ret 0.0002201571841083383\n",
      "LA.norm(trackline.diffs)>15*np.std(coefnorm): -104.281366739\n",
      "dist_diff 148.65452511\n"
     ]
    },
    {
     "name": "stderr",
     "output_type": "stream",
     "text": [
      "\r",
      "  8%|██████▌                                                                        | 105/1261 [01:14<13:35,  1.42it/s]"
     ]
    },
    {
     "name": "stdout",
     "output_type": "stream",
     "text": [
      "ret 5.9053846545142896e-05\n",
      "LA.norm(trackline.diffs)>15*np.std(coefnorm): -139.128199326\n",
      "dist_diff 147.926891852\n"
     ]
    },
    {
     "name": "stderr",
     "output_type": "stream",
     "text": [
      "\r",
      "  8%|██████▋                                                                        | 106/1261 [01:15<13:33,  1.42it/s]"
     ]
    },
    {
     "name": "stdout",
     "output_type": "stream",
     "text": [
      "ret 0.00011047434454114491\n",
      "LA.norm(trackline.diffs)>15*np.std(coefnorm): -160.971255588\n",
      "dist_diff 149.790725778\n"
     ]
    },
    {
     "name": "stderr",
     "output_type": "stream",
     "text": [
      "\r",
      "  8%|██████▋                                                                        | 107/1261 [01:16<13:36,  1.41it/s]"
     ]
    },
    {
     "name": "stdout",
     "output_type": "stream",
     "text": [
      "ret 0.00016208909027787266\n",
      "LA.norm(trackline.diffs)>15*np.std(coefnorm): -204.470225627\n",
      "dist_diff 152.685530305\n"
     ]
    },
    {
     "name": "stderr",
     "output_type": "stream",
     "text": [
      "\r",
      "  9%|██████▊                                                                        | 108/1261 [01:16<13:34,  1.42it/s]"
     ]
    },
    {
     "name": "stdout",
     "output_type": "stream",
     "text": [
      "ret 0.00014036906068959354\n",
      "LA.norm(trackline.diffs)>15*np.std(coefnorm): -234.48722315\n",
      "dist_diff 170.189133586\n"
     ]
    },
    {
     "name": "stderr",
     "output_type": "stream",
     "text": [
      "\r",
      "  9%|██████▊                                                                        | 109/1261 [01:17<13:29,  1.42it/s]"
     ]
    },
    {
     "name": "stdout",
     "output_type": "stream",
     "text": [
      "ret 7.048219578453807e-05\n",
      "LA.norm(trackline.diffs)>15*np.std(coefnorm): -225.89372443\n",
      "dist_diff 183.322860934\n"
     ]
    },
    {
     "name": "stderr",
     "output_type": "stream",
     "text": [
      "\r",
      "  9%|██████▉                                                                        | 110/1261 [01:18<13:27,  1.43it/s]"
     ]
    },
    {
     "name": "stdout",
     "output_type": "stream",
     "text": [
      "ret 0.00011817606792619006\n",
      "LA.norm(trackline.diffs)>15*np.std(coefnorm): -222.153869007\n",
      "dist_diff 173.880396756\n"
     ]
    },
    {
     "name": "stderr",
     "output_type": "stream",
     "text": [
      "\r",
      "  9%|██████▉                                                                        | 111/1261 [01:18<13:27,  1.42it/s]"
     ]
    },
    {
     "name": "stdout",
     "output_type": "stream",
     "text": [
      "ret 0.00017151353245853374\n",
      "LA.norm(trackline.diffs)>15*np.std(coefnorm): -207.51476371\n",
      "dist_diff 165.113279793\n"
     ]
    },
    {
     "name": "stderr",
     "output_type": "stream",
     "text": [
      "\r",
      "  9%|███████                                                                        | 112/1261 [01:19<13:25,  1.43it/s]"
     ]
    },
    {
     "name": "stdout",
     "output_type": "stream",
     "text": [
      "ret 0.00028523475907665796\n",
      "LA.norm(trackline.diffs)>15*np.std(coefnorm): -206.63234024\n",
      "dist_diff 159.037405495\n"
     ]
    },
    {
     "name": "stderr",
     "output_type": "stream",
     "text": [
      "\r",
      "  9%|███████                                                                        | 113/1261 [01:20<13:29,  1.42it/s]"
     ]
    },
    {
     "name": "stdout",
     "output_type": "stream",
     "text": [
      "ret 9.783210020558597e-05\n",
      "LA.norm(trackline.diffs)>15*np.std(coefnorm): -172.838271164\n",
      "dist_diff 154.161101653\n"
     ]
    },
    {
     "name": "stderr",
     "output_type": "stream",
     "text": [
      "\r",
      "  9%|███████▏                                                                       | 114/1261 [01:21<13:26,  1.42it/s]"
     ]
    },
    {
     "name": "stdout",
     "output_type": "stream",
     "text": [
      "ret 0.0002382032649127508\n",
      "LA.norm(trackline.diffs)>15*np.std(coefnorm): -125.14760924\n",
      "dist_diff 156.598534875\n"
     ]
    },
    {
     "name": "stderr",
     "output_type": "stream",
     "text": [
      "\r",
      "  9%|███████▏                                                                       | 115/1261 [01:21<13:24,  1.42it/s]"
     ]
    },
    {
     "name": "stdout",
     "output_type": "stream",
     "text": [
      "ret 7.870181735064596e-05\n",
      "LA.norm(trackline.diffs)>15*np.std(coefnorm): -130.98026386\n",
      "dist_diff 161.566771426\n"
     ]
    },
    {
     "name": "stderr",
     "output_type": "stream",
     "text": [
      "\r",
      "  9%|███████▎                                                                       | 116/1261 [01:22<13:28,  1.42it/s]"
     ]
    },
    {
     "name": "stdout",
     "output_type": "stream",
     "text": [
      "ret 6.218617068620702e-06\n",
      "LA.norm(trackline.diffs)>15*np.std(coefnorm): -172.213934371\n",
      "dist_diff 160.34791122\n"
     ]
    },
    {
     "name": "stderr",
     "output_type": "stream",
     "text": [
      "\r",
      "  9%|███████▎                                                                       | 117/1261 [01:23<13:30,  1.41it/s]"
     ]
    },
    {
     "name": "stdout",
     "output_type": "stream",
     "text": [
      "ret 6.726936885481649e-05\n",
      "LA.norm(trackline.diffs)>15*np.std(coefnorm): -169.841338627\n",
      "dist_diff 161.15606157\n"
     ]
    },
    {
     "name": "stderr",
     "output_type": "stream",
     "text": [
      "\r",
      "  9%|███████▍                                                                       | 118/1261 [01:23<13:27,  1.42it/s]"
     ]
    },
    {
     "name": "stdout",
     "output_type": "stream",
     "text": [
      "ret 3.342784342047489e-05\n",
      "LA.norm(trackline.diffs)>15*np.std(coefnorm): -153.164290918\n",
      "dist_diff 161.225909935\n"
     ]
    },
    {
     "name": "stderr",
     "output_type": "stream",
     "text": [
      "\r",
      "  9%|███████▍                                                                       | 119/1261 [01:24<13:27,  1.41it/s]"
     ]
    },
    {
     "name": "stdout",
     "output_type": "stream",
     "text": [
      "ret 0.00030248416422912205\n",
      "LA.norm(trackline.diffs)>15*np.std(coefnorm): -111.154186226\n",
      "dist_diff 171.691960734\n"
     ]
    },
    {
     "name": "stderr",
     "output_type": "stream",
     "text": [
      "\r",
      " 10%|███████▌                                                                       | 120/1261 [01:25<13:25,  1.42it/s]"
     ]
    },
    {
     "name": "stdout",
     "output_type": "stream",
     "text": [
      "ret 0.00018992452868688003\n",
      "LA.norm(trackline.diffs)>15*np.std(coefnorm): -203.432887586\n",
      "dist_diff 182.127466911\n"
     ]
    },
    {
     "name": "stderr",
     "output_type": "stream",
     "text": [
      "\r",
      " 10%|███████▌                                                                       | 121/1261 [01:26<13:23,  1.42it/s]"
     ]
    },
    {
     "name": "stdout",
     "output_type": "stream",
     "text": [
      "ret 0.00016532724754458883\n",
      "LA.norm(trackline.diffs)>15*np.std(coefnorm): -245.903529674\n",
      "dist_diff 180.19686019\n"
     ]
    },
    {
     "name": "stderr",
     "output_type": "stream",
     "text": [
      "\r",
      " 10%|███████▋                                                                       | 122/1261 [01:26<13:23,  1.42it/s]"
     ]
    },
    {
     "name": "stdout",
     "output_type": "stream",
     "text": [
      "ret 0.00024208523317093\n",
      "LA.norm(trackline.diffs)>15*np.std(coefnorm): -248.78704718\n",
      "dist_diff 175.763365718\n"
     ]
    },
    {
     "name": "stderr",
     "output_type": "stream",
     "text": [
      "\r",
      " 10%|███████▋                                                                       | 123/1261 [01:27<13:21,  1.42it/s]"
     ]
    },
    {
     "name": "stdout",
     "output_type": "stream",
     "text": [
      "ret 0.00012784418227196337\n",
      "LA.norm(trackline.diffs)>15*np.std(coefnorm): -258.639639093\n",
      "dist_diff 171.224877729\n"
     ]
    },
    {
     "name": "stderr",
     "output_type": "stream",
     "text": [
      "\r",
      " 10%|███████▊                                                                       | 124/1261 [01:28<13:19,  1.42it/s]"
     ]
    },
    {
     "name": "stdout",
     "output_type": "stream",
     "text": [
      "ret 0.00010162706608507488\n",
      "LA.norm(trackline.diffs)>15*np.std(coefnorm): -227.695605855\n",
      "dist_diff 172.876193963\n"
     ]
    },
    {
     "name": "stderr",
     "output_type": "stream",
     "text": [
      "\r",
      " 10%|███████▊                                                                       | 125/1261 [01:28<13:21,  1.42it/s]"
     ]
    },
    {
     "name": "stdout",
     "output_type": "stream",
     "text": [
      "ret 0.0003066614020993952\n",
      "LA.norm(trackline.diffs)>15*np.std(coefnorm): -231.101892028\n",
      "dist_diff 171.058805642\n"
     ]
    },
    {
     "name": "stderr",
     "output_type": "stream",
     "text": [
      "\r",
      " 10%|███████▉                                                                       | 126/1261 [01:29<13:17,  1.42it/s]"
     ]
    },
    {
     "name": "stdout",
     "output_type": "stream",
     "text": [
      "ret 0.00013322414041855302\n",
      "LA.norm(trackline.diffs)>15*np.std(coefnorm): -225.654972111\n",
      "dist_diff 174.910458397\n"
     ]
    },
    {
     "name": "stderr",
     "output_type": "stream",
     "text": [
      "\r",
      " 10%|███████▉                                                                       | 127/1261 [01:30<13:16,  1.42it/s]"
     ]
    },
    {
     "name": "stdout",
     "output_type": "stream",
     "text": [
      "ret 0.0001398295674648331\n",
      "LA.norm(trackline.diffs)>15*np.std(coefnorm): -198.567138876\n",
      "dist_diff 180.418040365\n"
     ]
    },
    {
     "name": "stderr",
     "output_type": "stream",
     "text": [
      "\r",
      " 10%|████████                                                                       | 128/1261 [01:30<13:16,  1.42it/s]"
     ]
    },
    {
     "name": "stdout",
     "output_type": "stream",
     "text": [
      "ret 0.00038123722905958335\n",
      "LA.norm(trackline.diffs)>15*np.std(coefnorm): -161.314210492\n",
      "dist_diff 183.884843047\n"
     ]
    },
    {
     "name": "stderr",
     "output_type": "stream",
     "text": [
      "\r",
      " 10%|████████                                                                       | 129/1261 [01:31<13:17,  1.42it/s]"
     ]
    },
    {
     "name": "stdout",
     "output_type": "stream",
     "text": [
      "ret 0.00015517158817823784\n",
      "LA.norm(trackline.diffs)>15*np.std(coefnorm): -110.487801636\n",
      "dist_diff 186.206370511\n"
     ]
    },
    {
     "name": "stderr",
     "output_type": "stream",
     "text": [
      "\r",
      " 10%|████████▏                                                                      | 130/1261 [01:32<13:15,  1.42it/s]"
     ]
    },
    {
     "name": "stdout",
     "output_type": "stream",
     "text": [
      "ret 1.3233777921672907e-05\n",
      "LA.norm(trackline.diffs)>15*np.std(coefnorm): -104.697602464\n",
      "dist_diff 194.315952913\n"
     ]
    },
    {
     "name": "stderr",
     "output_type": "stream",
     "text": [
      "\r",
      " 10%|████████▏                                                                      | 131/1261 [01:33<13:14,  1.42it/s]"
     ]
    },
    {
     "name": "stdout",
     "output_type": "stream",
     "text": [
      "ret 0.00014038405686656041\n",
      "LA.norm(trackline.diffs)>15*np.std(coefnorm): -97.5585040375\n",
      "dist_diff 199.855321028\n"
     ]
    },
    {
     "name": "stderr",
     "output_type": "stream",
     "text": [
      "\r",
      " 10%|████████▎                                                                      | 132/1261 [01:33<13:14,  1.42it/s]"
     ]
    },
    {
     "name": "stdout",
     "output_type": "stream",
     "text": [
      "ret 0.00017450215570219418\n",
      "LA.norm(trackline.diffs)>15*np.std(coefnorm): -133.466122042\n",
      "dist_diff 202.481030962\n"
     ]
    },
    {
     "name": "stderr",
     "output_type": "stream",
     "text": [
      "\r",
      " 11%|████████▎                                                                      | 133/1261 [01:34<13:15,  1.42it/s]"
     ]
    },
    {
     "name": "stdout",
     "output_type": "stream",
     "text": [
      "ret 0.00010618256110406232\n",
      "LA.norm(trackline.diffs)>15*np.std(coefnorm): -138.771914311\n",
      "dist_diff 198.165599537\n"
     ]
    },
    {
     "name": "stderr",
     "output_type": "stream",
     "text": [
      "\r",
      " 11%|████████▍                                                                      | 134/1261 [01:35<13:14,  1.42it/s]"
     ]
    },
    {
     "name": "stdout",
     "output_type": "stream",
     "text": [
      "ret 0.00010325926863169466\n",
      "LA.norm(trackline.diffs)>15*np.std(coefnorm): -142.885974379\n",
      "dist_diff 195.823791238\n"
     ]
    },
    {
     "name": "stderr",
     "output_type": "stream",
     "text": [
      "\r",
      " 11%|████████▍                                                                      | 135/1261 [01:35<13:14,  1.42it/s]"
     ]
    },
    {
     "name": "stdout",
     "output_type": "stream",
     "text": [
      "ret 0.00013970315051620164\n",
      "LA.norm(trackline.diffs)>15*np.std(coefnorm): -130.626114633\n",
      "dist_diff 191.912464764\n"
     ]
    },
    {
     "name": "stderr",
     "output_type": "stream",
     "text": [
      "\r",
      " 11%|████████▌                                                                      | 136/1261 [01:36<13:19,  1.41it/s]"
     ]
    },
    {
     "name": "stdout",
     "output_type": "stream",
     "text": [
      "ret 0.0001359432269736338\n",
      "LA.norm(trackline.diffs)>15*np.std(coefnorm): -121.706780039\n",
      "dist_diff 186.92825763\n"
     ]
    },
    {
     "name": "stderr",
     "output_type": "stream",
     "text": [
      "\r",
      " 11%|████████▌                                                                      | 137/1261 [01:37<13:19,  1.41it/s]"
     ]
    },
    {
     "name": "stdout",
     "output_type": "stream",
     "text": [
      "ret 0.00025585113497283984\n",
      "LA.norm(trackline.diffs)>15*np.std(coefnorm): -152.849921855\n",
      "dist_diff 182.293880374\n"
     ]
    },
    {
     "name": "stderr",
     "output_type": "stream",
     "text": [
      "\r",
      " 11%|████████▋                                                                      | 138/1261 [01:38<13:16,  1.41it/s]"
     ]
    },
    {
     "name": "stdout",
     "output_type": "stream",
     "text": [
      "ret 3.431895274130792e-05\n",
      "LA.norm(trackline.diffs)>15*np.std(coefnorm): -242.730349251\n",
      "dist_diff 177.514205124\n"
     ]
    },
    {
     "name": "stderr",
     "output_type": "stream",
     "text": [
      "\r",
      " 11%|████████▋                                                                      | 139/1261 [01:38<13:12,  1.42it/s]"
     ]
    },
    {
     "name": "stdout",
     "output_type": "stream",
     "text": [
      "ret 0.00026247302401627426\n",
      "LA.norm(trackline.diffs)>15*np.std(coefnorm): -309.147986551\n",
      "dist_diff 175.724921385\n"
     ]
    },
    {
     "name": "stderr",
     "output_type": "stream",
     "text": [
      "\r",
      " 11%|████████▊                                                                      | 140/1261 [01:39<13:12,  1.42it/s]"
     ]
    },
    {
     "name": "stdout",
     "output_type": "stream",
     "text": [
      "ret 2.303272724796246e-05\n",
      "LA.norm(trackline.diffs)>15*np.std(coefnorm): -409.239093598\n",
      "dist_diff 177.20478376\n"
     ]
    },
    {
     "name": "stderr",
     "output_type": "stream",
     "text": [
      "\r",
      " 11%|████████▊                                                                      | 141/1261 [01:40<13:07,  1.42it/s]"
     ]
    },
    {
     "name": "stdout",
     "output_type": "stream",
     "text": [
      "ret 0.00011123250041700228\n",
      "LA.norm(trackline.diffs)>15*np.std(coefnorm): -466.94534929\n",
      "dist_diff 183.861644532\n"
     ]
    },
    {
     "name": "stderr",
     "output_type": "stream",
     "text": [
      "\r",
      " 11%|████████▉                                                                      | 142/1261 [01:40<13:09,  1.42it/s]"
     ]
    },
    {
     "name": "stdout",
     "output_type": "stream",
     "text": [
      "ret 0.00016659769010740622\n",
      "LA.norm(trackline.diffs)>15*np.std(coefnorm): -458.539426706\n",
      "dist_diff 187.271282931\n"
     ]
    },
    {
     "name": "stderr",
     "output_type": "stream",
     "text": [
      "\r",
      " 11%|████████▉                                                                      | 143/1261 [01:41<13:08,  1.42it/s]"
     ]
    },
    {
     "name": "stdout",
     "output_type": "stream",
     "text": [
      "ret 5.905214707613293e-06\n",
      "LA.norm(trackline.diffs)>15*np.std(coefnorm): -414.572059889\n",
      "dist_diff 189.825083806\n"
     ]
    },
    {
     "name": "stderr",
     "output_type": "stream",
     "text": [
      "\r",
      " 11%|█████████                                                                      | 144/1261 [01:42<13:06,  1.42it/s]"
     ]
    },
    {
     "name": "stdout",
     "output_type": "stream",
     "text": [
      "ret 0.00012439464605162875\n",
      "LA.norm(trackline.diffs)>15*np.std(coefnorm): -336.587440669\n",
      "dist_diff 192.23387464\n"
     ]
    },
    {
     "name": "stderr",
     "output_type": "stream",
     "text": [
      "\r",
      " 11%|█████████                                                                      | 145/1261 [01:42<13:07,  1.42it/s]"
     ]
    },
    {
     "name": "stdout",
     "output_type": "stream",
     "text": [
      "ret 2.573536683680988e-05\n",
      "LA.norm(trackline.diffs)>15*np.std(coefnorm): -240.220839591\n",
      "dist_diff 204.737190146\n"
     ]
    },
    {
     "name": "stderr",
     "output_type": "stream",
     "text": [
      "\r",
      " 12%|█████████▏                                                                     | 146/1261 [01:43<13:05,  1.42it/s]"
     ]
    },
    {
     "name": "stdout",
     "output_type": "stream",
     "text": [
      "ret 0.0002003127409268557\n",
      "LA.norm(trackline.diffs)>15*np.std(coefnorm): -206.491414084\n",
      "dist_diff 208.988132892\n"
     ]
    },
    {
     "name": "stderr",
     "output_type": "stream",
     "text": [
      "\r",
      " 12%|█████████▏                                                                     | 147/1261 [01:44<13:05,  1.42it/s]"
     ]
    },
    {
     "name": "stdout",
     "output_type": "stream",
     "text": [
      "ret 0.0006100872252236544\n",
      "LA.norm(trackline.diffs)>15*np.std(coefnorm): -178.742724819\n",
      "dist_diff 182.225859693\n"
     ]
    },
    {
     "name": "stderr",
     "output_type": "stream",
     "text": [
      "\r",
      " 12%|█████████▎                                                                     | 148/1261 [01:45<13:10,  1.41it/s]"
     ]
    },
    {
     "name": "stdout",
     "output_type": "stream",
     "text": [
      "ret 5.619531787365295e-05\n",
      "LA.norm(trackline.diffs)>15*np.std(coefnorm): -219.991727157\n",
      "dist_diff 172.655155124\n"
     ]
    },
    {
     "name": "stderr",
     "output_type": "stream",
     "text": [
      "\r",
      " 12%|█████████▎                                                                     | 149/1261 [01:45<13:14,  1.40it/s]"
     ]
    },
    {
     "name": "stdout",
     "output_type": "stream",
     "text": [
      "ret 0.00016415473882980258\n",
      "LA.norm(trackline.diffs)>15*np.std(coefnorm): -254.414950761\n",
      "dist_diff 168.10071668\n"
     ]
    },
    {
     "name": "stderr",
     "output_type": "stream",
     "text": [
      "\r",
      " 12%|█████████▍                                                                     | 150/1261 [01:46<13:09,  1.41it/s]"
     ]
    },
    {
     "name": "stdout",
     "output_type": "stream",
     "text": [
      "ret 0.00014767433725210166\n",
      "LA.norm(trackline.diffs)>15*np.std(coefnorm): -224.007806508\n",
      "dist_diff 167.475532926\n"
     ]
    },
    {
     "name": "stderr",
     "output_type": "stream",
     "text": [
      "\r",
      " 12%|█████████▍                                                                     | 151/1261 [01:47<13:07,  1.41it/s]"
     ]
    },
    {
     "name": "stdout",
     "output_type": "stream",
     "text": [
      "ret 0.00010737349532063956\n",
      "LA.norm(trackline.diffs)>15*np.std(coefnorm): -164.377651548\n",
      "dist_diff 162.047225601\n"
     ]
    },
    {
     "name": "stderr",
     "output_type": "stream",
     "text": [
      "\r",
      " 12%|█████████▌                                                                     | 152/1261 [01:47<13:05,  1.41it/s]"
     ]
    },
    {
     "name": "stdout",
     "output_type": "stream",
     "text": [
      "ret 0.00013370730223261074\n",
      "LA.norm(trackline.diffs)>15*np.std(coefnorm): -146.018956664\n",
      "dist_diff 165.409062842\n"
     ]
    },
    {
     "name": "stderr",
     "output_type": "stream",
     "text": [
      "\r",
      " 12%|█████████▌                                                                     | 153/1261 [01:48<13:02,  1.42it/s]"
     ]
    },
    {
     "name": "stdout",
     "output_type": "stream",
     "text": [
      "ret 0.00020240746298111345\n",
      "LA.norm(trackline.diffs)>15*np.std(coefnorm): -123.512029677\n",
      "dist_diff 160.333820361\n"
     ]
    },
    {
     "name": "stderr",
     "output_type": "stream",
     "text": [
      "\r",
      " 12%|█████████▋                                                                     | 154/1261 [01:49<13:01,  1.42it/s]"
     ]
    },
    {
     "name": "stdout",
     "output_type": "stream",
     "text": [
      "ret 5.14063249279495e-05\n",
      "LA.norm(trackline.diffs)>15*np.std(coefnorm): -122.300704236\n",
      "dist_diff 156.820618543\n"
     ]
    },
    {
     "name": "stderr",
     "output_type": "stream",
     "text": [
      "\r",
      " 12%|█████████▋                                                                     | 155/1261 [01:50<13:04,  1.41it/s]"
     ]
    },
    {
     "name": "stdout",
     "output_type": "stream",
     "text": [
      "ret 4.858690591680315e-05\n",
      "LA.norm(trackline.diffs)>15*np.std(coefnorm): -160.808246073\n",
      "dist_diff 156.507409699\n"
     ]
    },
    {
     "name": "stderr",
     "output_type": "stream",
     "text": [
      "\r",
      " 12%|█████████▊                                                                     | 156/1261 [01:50<13:02,  1.41it/s]"
     ]
    },
    {
     "name": "stdout",
     "output_type": "stream",
     "text": [
      "ret 4.491905423875675e-05\n",
      "LA.norm(trackline.diffs)>15*np.std(coefnorm): -168.627400192\n",
      "dist_diff 157.742594451\n"
     ]
    },
    {
     "name": "stderr",
     "output_type": "stream",
     "text": [
      "\r",
      " 12%|█████████▊                                                                     | 157/1261 [01:51<13:01,  1.41it/s]"
     ]
    },
    {
     "name": "stdout",
     "output_type": "stream",
     "text": [
      "ret 0.0002204623177339271\n",
      "LA.norm(trackline.diffs)>15*np.std(coefnorm): -164.59480541\n",
      "dist_diff 174.263737298\n"
     ]
    },
    {
     "name": "stderr",
     "output_type": "stream",
     "text": [
      "\r",
      " 13%|█████████▉                                                                     | 158/1261 [01:52<13:00,  1.41it/s]"
     ]
    },
    {
     "name": "stdout",
     "output_type": "stream",
     "text": [
      "ret 0.0001893517955344759\n",
      "LA.norm(trackline.diffs)>15*np.std(coefnorm): -188.888706965\n",
      "dist_diff 180.242482236\n"
     ]
    },
    {
     "name": "stderr",
     "output_type": "stream",
     "text": [
      "\r",
      " 13%|█████████▉                                                                     | 159/1261 [01:52<12:59,  1.41it/s]"
     ]
    },
    {
     "name": "stdout",
     "output_type": "stream",
     "text": [
      "ret 0.0002656902022687424\n",
      "LA.norm(trackline.diffs)>15*np.std(coefnorm): -199.765100778\n",
      "dist_diff 170.735059019\n"
     ]
    },
    {
     "name": "stderr",
     "output_type": "stream",
     "text": [
      "\r",
      " 13%|██████████                                                                     | 160/1261 [01:53<12:57,  1.42it/s]"
     ]
    },
    {
     "name": "stdout",
     "output_type": "stream",
     "text": [
      "ret 6.871515161671615e-05\n",
      "LA.norm(trackline.diffs)>15*np.std(coefnorm): -245.355700369\n",
      "dist_diff 161.883314516\n"
     ]
    },
    {
     "name": "stderr",
     "output_type": "stream",
     "text": [
      "\r",
      " 13%|██████████                                                                     | 161/1261 [01:54<12:56,  1.42it/s]"
     ]
    },
    {
     "name": "stdout",
     "output_type": "stream",
     "text": [
      "ret 1.943726818554037e-05\n",
      "LA.norm(trackline.diffs)>15*np.std(coefnorm): -248.514249545\n",
      "dist_diff 162.261308086\n"
     ]
    },
    {
     "name": "stderr",
     "output_type": "stream",
     "text": [
      "\r",
      " 13%|██████████▏                                                                    | 162/1261 [01:54<12:54,  1.42it/s]"
     ]
    },
    {
     "name": "stdout",
     "output_type": "stream",
     "text": [
      "ret 7.766114292456772e-05\n",
      "LA.norm(trackline.diffs)>15*np.std(coefnorm): -239.968595982\n",
      "dist_diff 159.713423508\n"
     ]
    },
    {
     "name": "stderr",
     "output_type": "stream",
     "text": [
      "\r",
      " 13%|██████████▏                                                                    | 163/1261 [01:55<12:53,  1.42it/s]"
     ]
    },
    {
     "name": "stdout",
     "output_type": "stream",
     "text": [
      "ret 0.00017446626461864456\n",
      "LA.norm(trackline.diffs)>15*np.std(coefnorm): -245.847514014\n",
      "dist_diff 165.938643043\n"
     ]
    },
    {
     "name": "stderr",
     "output_type": "stream",
     "text": [
      "\r",
      " 13%|██████████▎                                                                    | 164/1261 [01:56<12:55,  1.42it/s]"
     ]
    },
    {
     "name": "stdout",
     "output_type": "stream",
     "text": [
      "ret 0.00019513901989737237\n",
      "LA.norm(trackline.diffs)>15*np.std(coefnorm): -220.532369544\n",
      "dist_diff 180.327177389\n"
     ]
    },
    {
     "name": "stderr",
     "output_type": "stream",
     "text": [
      "\r",
      " 13%|██████████▎                                                                    | 165/1261 [01:57<12:53,  1.42it/s]"
     ]
    },
    {
     "name": "stdout",
     "output_type": "stream",
     "text": [
      "ret 4.591297059908239e-05\n",
      "LA.norm(trackline.diffs)>15*np.std(coefnorm): -245.761185456\n",
      "dist_diff 180.209634028\n"
     ]
    },
    {
     "name": "stderr",
     "output_type": "stream",
     "text": [
      "\r",
      " 13%|██████████▍                                                                    | 166/1261 [01:57<12:50,  1.42it/s]"
     ]
    },
    {
     "name": "stdout",
     "output_type": "stream",
     "text": [
      "ret 0.0002487368615671781\n",
      "LA.norm(trackline.diffs)>15*np.std(coefnorm): -217.956644423\n",
      "dist_diff 181.904894621\n"
     ]
    },
    {
     "name": "stderr",
     "output_type": "stream",
     "text": [
      "\r",
      " 13%|██████████▍                                                                    | 167/1261 [01:58<12:52,  1.42it/s]"
     ]
    },
    {
     "name": "stdout",
     "output_type": "stream",
     "text": [
      "ret 0.0003557443293140117\n",
      "LA.norm(trackline.diffs)>15*np.std(coefnorm): -227.041776439\n",
      "dist_diff 184.784850752\n"
     ]
    },
    {
     "name": "stderr",
     "output_type": "stream",
     "text": [
      "\r",
      " 13%|██████████▌                                                                    | 168/1261 [01:59<12:51,  1.42it/s]"
     ]
    },
    {
     "name": "stdout",
     "output_type": "stream",
     "text": [
      "ret 8.801315085604777e-05\n",
      "LA.norm(trackline.diffs)>15*np.std(coefnorm): -227.940872252\n",
      "dist_diff 187.389884112\n"
     ]
    },
    {
     "name": "stderr",
     "output_type": "stream",
     "text": [
      "\r",
      " 13%|██████████▌                                                                    | 169/1261 [01:59<12:50,  1.42it/s]"
     ]
    },
    {
     "name": "stdout",
     "output_type": "stream",
     "text": [
      "ret 0.0002300542934335903\n",
      "LA.norm(trackline.diffs)>15*np.std(coefnorm): -222.71052244\n",
      "dist_diff 192.238277834\n"
     ]
    },
    {
     "name": "stderr",
     "output_type": "stream",
     "text": [
      "\r",
      " 13%|██████████▋                                                                    | 170/1261 [02:00<12:49,  1.42it/s]"
     ]
    },
    {
     "name": "stdout",
     "output_type": "stream",
     "text": [
      "ret 0.0002822914464257753\n",
      "LA.norm(trackline.diffs)>15*np.std(coefnorm): -229.541009466\n",
      "dist_diff 224.987956906\n"
     ]
    },
    {
     "name": "stderr",
     "output_type": "stream",
     "text": [
      "\r",
      " 14%|██████████▋                                                                    | 171/1261 [02:01<12:47,  1.42it/s]"
     ]
    },
    {
     "name": "stdout",
     "output_type": "stream",
     "text": [
      "ret 1.267211757721709e-05\n",
      "LA.norm(trackline.diffs)>15*np.std(coefnorm): -211.025069098\n",
      "dist_diff 233.936938902\n"
     ]
    },
    {
     "name": "stderr",
     "output_type": "stream",
     "text": [
      "\r",
      " 14%|██████████▊                                                                    | 172/1261 [02:02<12:44,  1.43it/s]"
     ]
    },
    {
     "name": "stdout",
     "output_type": "stream",
     "text": [
      "ret 0.0003839789948479888\n",
      "LA.norm(trackline.diffs)>15*np.std(coefnorm): -206.97756874\n",
      "dist_diff 210.736073934\n"
     ]
    },
    {
     "name": "stderr",
     "output_type": "stream",
     "text": [
      "\r",
      " 14%|██████████▊                                                                    | 173/1261 [02:02<12:46,  1.42it/s]"
     ]
    },
    {
     "name": "stdout",
     "output_type": "stream",
     "text": [
      "ret 0.00044170599771448105\n",
      "LA.norm(trackline.diffs)>15*np.std(coefnorm): -213.119011212\n",
      "dist_diff 202.806305151\n"
     ]
    },
    {
     "name": "stderr",
     "output_type": "stream",
     "text": [
      "\r",
      " 14%|██████████▉                                                                    | 174/1261 [02:03<12:46,  1.42it/s]"
     ]
    },
    {
     "name": "stdout",
     "output_type": "stream",
     "text": [
      "ret 0.0001917216770430663\n",
      "LA.norm(trackline.diffs)>15*np.std(coefnorm): -233.687834434\n",
      "dist_diff 202.190487882\n"
     ]
    },
    {
     "name": "stderr",
     "output_type": "stream",
     "text": [
      "\r",
      " 14%|██████████▉                                                                    | 175/1261 [02:04<12:49,  1.41it/s]"
     ]
    },
    {
     "name": "stdout",
     "output_type": "stream",
     "text": [
      "ret 0.00017423222372980884\n",
      "LA.norm(trackline.diffs)>15*np.std(coefnorm): -309.019398579\n",
      "dist_diff 193.624519902\n"
     ]
    },
    {
     "name": "stderr",
     "output_type": "stream",
     "text": [
      "\r",
      " 14%|███████████                                                                    | 176/1261 [02:04<12:47,  1.41it/s]"
     ]
    },
    {
     "name": "stdout",
     "output_type": "stream",
     "text": [
      "ret 0.0003452149133453819\n",
      "LA.norm(trackline.diffs)>15*np.std(coefnorm): -412.044022628\n",
      "dist_diff 189.308099133\n"
     ]
    },
    {
     "name": "stderr",
     "output_type": "stream",
     "text": [
      "\r",
      " 14%|███████████                                                                    | 177/1261 [02:05<12:44,  1.42it/s]"
     ]
    },
    {
     "name": "stdout",
     "output_type": "stream",
     "text": [
      "ret 1.2096833570729437e-05\n",
      "LA.norm(trackline.diffs)>15*np.std(coefnorm): -426.538697726\n",
      "dist_diff 183.862851987\n"
     ]
    },
    {
     "name": "stderr",
     "output_type": "stream",
     "text": [
      "\r",
      " 14%|███████████▏                                                                   | 178/1261 [02:06<12:43,  1.42it/s]"
     ]
    },
    {
     "name": "stdout",
     "output_type": "stream",
     "text": [
      "ret 9.717169741518816e-06\n",
      "LA.norm(trackline.diffs)>15*np.std(coefnorm): -439.887247857\n",
      "dist_diff 178.738163991\n"
     ]
    },
    {
     "name": "stderr",
     "output_type": "stream",
     "text": [
      "\r",
      " 14%|███████████▏                                                                   | 179/1261 [02:06<12:41,  1.42it/s]"
     ]
    },
    {
     "name": "stdout",
     "output_type": "stream",
     "text": [
      "ret 0.00010242677634170194\n",
      "LA.norm(trackline.diffs)>15*np.std(coefnorm): -420.7304916\n",
      "dist_diff 173.022705358\n"
     ]
    },
    {
     "name": "stderr",
     "output_type": "stream",
     "text": [
      "\r",
      " 14%|███████████▎                                                                   | 180/1261 [02:07<12:39,  1.42it/s]"
     ]
    },
    {
     "name": "stdout",
     "output_type": "stream",
     "text": [
      "ret 0.00022885625615670646\n",
      "LA.norm(trackline.diffs)>15*np.std(coefnorm): -387.062989508\n",
      "dist_diff 172.637986624\n"
     ]
    },
    {
     "name": "stderr",
     "output_type": "stream",
     "text": [
      "\r",
      " 14%|███████████▎                                                                   | 181/1261 [02:08<12:41,  1.42it/s]"
     ]
    },
    {
     "name": "stdout",
     "output_type": "stream",
     "text": [
      "ret 0.0001458815479408182\n",
      "LA.norm(trackline.diffs)>15*np.std(coefnorm): -270.689310758\n",
      "dist_diff 170.805826791\n"
     ]
    },
    {
     "name": "stderr",
     "output_type": "stream",
     "text": [
      "\r",
      " 14%|███████████▍                                                                   | 182/1261 [02:09<12:42,  1.42it/s]"
     ]
    },
    {
     "name": "stdout",
     "output_type": "stream",
     "text": [
      "ret 0.0002993687178045601\n",
      "LA.norm(trackline.diffs)>15*np.std(coefnorm): -214.08488653\n",
      "dist_diff 174.106180793\n"
     ]
    },
    {
     "name": "stderr",
     "output_type": "stream",
     "text": [
      "\r",
      " 15%|███████████▍                                                                   | 183/1261 [02:09<12:46,  1.41it/s]"
     ]
    },
    {
     "name": "stdout",
     "output_type": "stream",
     "text": [
      "ret 0.00043251454216264307\n",
      "LA.norm(trackline.diffs)>15*np.std(coefnorm): -195.654867809\n",
      "dist_diff 161.628057224\n"
     ]
    },
    {
     "name": "stderr",
     "output_type": "stream",
     "text": [
      "\r",
      " 15%|███████████▌                                                                   | 184/1261 [02:10<12:52,  1.39it/s]"
     ]
    },
    {
     "name": "stdout",
     "output_type": "stream",
     "text": [
      "ret 0.00028573677648907614\n",
      "LA.norm(trackline.diffs)>15*np.std(coefnorm): -190.104036237\n",
      "dist_diff 162.548219705\n"
     ]
    },
    {
     "name": "stderr",
     "output_type": "stream",
     "text": [
      "\r",
      " 15%|███████████▌                                                                   | 185/1261 [02:11<12:52,  1.39it/s]"
     ]
    },
    {
     "name": "stdout",
     "output_type": "stream",
     "text": [
      "ret 0.0005765493338648064\n",
      "LA.norm(trackline.diffs)>15*np.std(coefnorm): -136.403095308\n",
      "dist_diff 185.638348558\n"
     ]
    },
    {
     "name": "stderr",
     "output_type": "stream",
     "text": [
      "\r",
      " 15%|███████████▋                                                                   | 186/1261 [02:11<12:45,  1.40it/s]"
     ]
    },
    {
     "name": "stdout",
     "output_type": "stream",
     "text": [
      "ret 1.787642108252996e-05\n",
      "LA.norm(trackline.diffs)>15*np.std(coefnorm): -271.097019421\n",
      "dist_diff 186.592113253\n"
     ]
    },
    {
     "name": "stderr",
     "output_type": "stream",
     "text": [
      "\r",
      " 15%|███████████▋                                                                   | 187/1261 [02:12<12:45,  1.40it/s]"
     ]
    },
    {
     "name": "stdout",
     "output_type": "stream",
     "text": [
      "ret 0.00027076678633192186\n",
      "LA.norm(trackline.diffs)>15*np.std(coefnorm): -329.995479489\n",
      "dist_diff 192.757495912\n"
     ]
    },
    {
     "name": "stderr",
     "output_type": "stream",
     "text": [
      "\r",
      " 15%|███████████▊                                                                   | 188/1261 [02:13<12:51,  1.39it/s]"
     ]
    },
    {
     "name": "stdout",
     "output_type": "stream",
     "text": [
      "ret 6.89205100287138e-05\n",
      "LA.norm(trackline.diffs)>15*np.std(coefnorm): -402.721663223\n",
      "dist_diff 195.791386816\n"
     ]
    },
    {
     "name": "stderr",
     "output_type": "stream",
     "text": [
      "\r",
      " 15%|███████████▊                                                                   | 189/1261 [02:14<13:01,  1.37it/s]"
     ]
    },
    {
     "name": "stdout",
     "output_type": "stream",
     "text": [
      "ret 3.107344273428625e-05\n",
      "LA.norm(trackline.diffs)>15*np.std(coefnorm): -417.973764975\n",
      "dist_diff 204.792500584\n"
     ]
    },
    {
     "name": "stderr",
     "output_type": "stream",
     "text": [
      "\r",
      " 15%|███████████▉                                                                   | 190/1261 [02:14<13:02,  1.37it/s]"
     ]
    },
    {
     "name": "stdout",
     "output_type": "stream",
     "text": [
      "ret 0.00017893206587948907\n",
      "LA.norm(trackline.diffs)>15*np.std(coefnorm): -403.187783387\n",
      "dist_diff 211.604529763\n"
     ]
    },
    {
     "name": "stderr",
     "output_type": "stream",
     "text": [
      "\r",
      " 15%|███████████▉                                                                   | 191/1261 [02:15<13:00,  1.37it/s]"
     ]
    },
    {
     "name": "stdout",
     "output_type": "stream",
     "text": [
      "ret 0.0002609388510524391\n",
      "LA.norm(trackline.diffs)>15*np.std(coefnorm): -409.390321905\n",
      "dist_diff 214.338947195\n"
     ]
    },
    {
     "name": "stderr",
     "output_type": "stream",
     "text": [
      "\r",
      " 15%|████████████                                                                   | 192/1261 [02:16<12:58,  1.37it/s]"
     ]
    },
    {
     "name": "stdout",
     "output_type": "stream",
     "text": [
      "ret 0.00025601370108657706\n",
      "LA.norm(trackline.diffs)>15*np.std(coefnorm): -321.747856045\n",
      "dist_diff 216.667221267\n"
     ]
    },
    {
     "name": "stderr",
     "output_type": "stream",
     "text": [
      "\r",
      " 15%|████████████                                                                   | 193/1261 [02:17<12:58,  1.37it/s]"
     ]
    },
    {
     "name": "stdout",
     "output_type": "stream",
     "text": [
      "ret 0.00022850110193112227\n",
      "LA.norm(trackline.diffs)>15*np.std(coefnorm): -290.703387488\n",
      "dist_diff 219.019188905\n"
     ]
    },
    {
     "name": "stderr",
     "output_type": "stream",
     "text": [
      "\r",
      " 15%|████████████▏                                                                  | 194/1261 [02:17<12:53,  1.38it/s]"
     ]
    },
    {
     "name": "stdout",
     "output_type": "stream",
     "text": [
      "ret 9.53357790003384e-05\n",
      "LA.norm(trackline.diffs)>15*np.std(coefnorm): -200.49875197\n",
      "dist_diff 217.743844661\n"
     ]
    },
    {
     "name": "stderr",
     "output_type": "stream",
     "text": [
      "\r",
      " 15%|████████████▏                                                                  | 195/1261 [02:18<12:47,  1.39it/s]"
     ]
    },
    {
     "name": "stdout",
     "output_type": "stream",
     "text": [
      "ret 0.0010876589511935042\n",
      "LA.norm(trackline.diffs)>15*np.std(coefnorm): -41.6218194048\n",
      "dist_diff 223.776859115\n"
     ]
    },
    {
     "name": "stderr",
     "output_type": "stream",
     "text": [
      "\r",
      " 16%|████████████▎                                                                  | 196/1261 [02:19<12:46,  1.39it/s]"
     ]
    },
    {
     "name": "stdout",
     "output_type": "stream",
     "text": [
      "ret 0.0006777427916207501\n",
      "LA.norm(trackline.diffs)>15*np.std(coefnorm): -160.59626115\n",
      "dist_diff 222.135491677\n"
     ]
    },
    {
     "name": "stderr",
     "output_type": "stream",
     "text": [
      "\r",
      " 16%|████████████▎                                                                  | 197/1261 [02:19<12:42,  1.40it/s]"
     ]
    },
    {
     "name": "stdout",
     "output_type": "stream",
     "text": [
      "ret 0.0004921269165274467\n",
      "LA.norm(trackline.diffs)>15*np.std(coefnorm): -320.402553308\n",
      "dist_diff 217.234463563\n"
     ]
    },
    {
     "name": "stderr",
     "output_type": "stream",
     "text": [
      "\r",
      " 16%|████████████▍                                                                  | 198/1261 [02:20<12:38,  1.40it/s]"
     ]
    },
    {
     "name": "stdout",
     "output_type": "stream",
     "text": [
      "ret 0.00015462272739336091\n",
      "LA.norm(trackline.diffs)>15*np.std(coefnorm): -490.723784703\n",
      "dist_diff 196.852950364\n"
     ]
    },
    {
     "name": "stderr",
     "output_type": "stream",
     "text": [
      "\r",
      " 16%|████████████▍                                                                  | 199/1261 [02:21<12:35,  1.41it/s]"
     ]
    },
    {
     "name": "stdout",
     "output_type": "stream",
     "text": [
      "ret 9.370075140097134e-05\n",
      "LA.norm(trackline.diffs)>15*np.std(coefnorm): -751.212868262\n",
      "dist_diff 201.774303487\n"
     ]
    },
    {
     "name": "stderr",
     "output_type": "stream",
     "text": [
      "\r",
      " 16%|████████████▌                                                                  | 200/1261 [02:22<12:41,  1.39it/s]"
     ]
    },
    {
     "name": "stdout",
     "output_type": "stream",
     "text": [
      "ret 6.540479336308858e-05\n",
      "LA.norm(trackline.diffs)>15*np.std(coefnorm): -820.976073264\n",
      "dist_diff 197.1031684\n"
     ]
    },
    {
     "name": "stderr",
     "output_type": "stream",
     "text": [
      "\r",
      " 16%|████████████▌                                                                  | 201/1261 [02:22<12:40,  1.39it/s]"
     ]
    },
    {
     "name": "stdout",
     "output_type": "stream",
     "text": [
      "ret 0.00024735530801162087\n",
      "LA.norm(trackline.diffs)>15*np.std(coefnorm): -870.646898235\n",
      "dist_diff 192.230231326\n"
     ]
    },
    {
     "name": "stderr",
     "output_type": "stream",
     "text": [
      "\r",
      " 16%|████████████▋                                                                  | 202/1261 [02:23<12:38,  1.40it/s]"
     ]
    },
    {
     "name": "stdout",
     "output_type": "stream",
     "text": [
      "ret 0.00023573091011147573\n",
      "LA.norm(trackline.diffs)>15*np.std(coefnorm): -852.997185285\n",
      "dist_diff 187.952282215\n"
     ]
    },
    {
     "name": "stderr",
     "output_type": "stream",
     "text": [
      "\r",
      " 16%|████████████▋                                                                  | 203/1261 [02:24<12:44,  1.38it/s]"
     ]
    },
    {
     "name": "stdout",
     "output_type": "stream",
     "text": [
      "ret 1.7015294541344872e-05\n",
      "LA.norm(trackline.diffs)>15*np.std(coefnorm): -759.741799884\n",
      "dist_diff 191.561092594\n"
     ]
    },
    {
     "name": "stderr",
     "output_type": "stream",
     "text": [
      "\r",
      " 16%|████████████▊                                                                  | 204/1261 [02:24<12:43,  1.38it/s]"
     ]
    },
    {
     "name": "stdout",
     "output_type": "stream",
     "text": [
      "ret 0.0002112159429121796\n",
      "LA.norm(trackline.diffs)>15*np.std(coefnorm): -632.404288317\n",
      "dist_diff 200.171461705\n"
     ]
    },
    {
     "name": "stderr",
     "output_type": "stream",
     "text": [
      "\r",
      " 16%|████████████▊                                                                  | 205/1261 [02:25<12:44,  1.38it/s]"
     ]
    },
    {
     "name": "stdout",
     "output_type": "stream",
     "text": [
      "ret 7.292829387750555e-05\n",
      "LA.norm(trackline.diffs)>15*np.std(coefnorm): -422.998667576\n",
      "dist_diff 200.711222141\n"
     ]
    },
    {
     "name": "stderr",
     "output_type": "stream",
     "text": [
      "\r",
      " 16%|████████████▉                                                                  | 206/1261 [02:26<12:42,  1.38it/s]"
     ]
    },
    {
     "name": "stdout",
     "output_type": "stream",
     "text": [
      "ret 0.0005144706499206064\n",
      "LA.norm(trackline.diffs)>15*np.std(coefnorm): -268.021487598\n",
      "dist_diff 211.396472898\n"
     ]
    },
    {
     "name": "stderr",
     "output_type": "stream",
     "text": [
      "\r",
      " 16%|████████████▉                                                                  | 207/1261 [02:27<12:40,  1.39it/s]"
     ]
    },
    {
     "name": "stdout",
     "output_type": "stream",
     "text": [
      "ret 0.00021806045745331737\n",
      "LA.norm(trackline.diffs)>15*np.std(coefnorm): -372.014307893\n",
      "dist_diff 213.954211756\n"
     ]
    },
    {
     "name": "stderr",
     "output_type": "stream",
     "text": [
      "\r",
      " 16%|█████████████                                                                  | 208/1261 [02:27<12:41,  1.38it/s]"
     ]
    },
    {
     "name": "stdout",
     "output_type": "stream",
     "text": [
      "ret 0.0002619153783698924\n",
      "LA.norm(trackline.diffs)>15*np.std(coefnorm): -506.492093068\n",
      "dist_diff 213.190978874\n"
     ]
    },
    {
     "name": "stderr",
     "output_type": "stream",
     "text": [
      "\r",
      " 17%|█████████████                                                                  | 209/1261 [02:28<12:44,  1.38it/s]"
     ]
    },
    {
     "name": "stdout",
     "output_type": "stream",
     "text": [
      "ret 0.00016768294774149872\n",
      "LA.norm(trackline.diffs)>15*np.std(coefnorm): -514.86678211\n",
      "dist_diff 208.137624268\n"
     ]
    },
    {
     "name": "stderr",
     "output_type": "stream",
     "text": [
      "\r",
      " 17%|█████████████▏                                                                 | 210/1261 [02:29<12:44,  1.38it/s]"
     ]
    },
    {
     "name": "stdout",
     "output_type": "stream",
     "text": [
      "ret 0.00039062142699364255\n",
      "LA.norm(trackline.diffs)>15*np.std(coefnorm): -514.435755992\n",
      "dist_diff 209.780302692\n"
     ]
    },
    {
     "name": "stderr",
     "output_type": "stream",
     "text": [
      "\r",
      " 17%|█████████████▏                                                                 | 211/1261 [02:30<12:42,  1.38it/s]"
     ]
    },
    {
     "name": "stdout",
     "output_type": "stream",
     "text": [
      "ret 0.00021297366734435164\n",
      "LA.norm(trackline.diffs)>15*np.std(coefnorm): -441.120154735\n",
      "dist_diff 202.710575347\n"
     ]
    },
    {
     "name": "stderr",
     "output_type": "stream",
     "text": [
      "\r",
      " 17%|█████████████▎                                                                 | 212/1261 [02:30<12:39,  1.38it/s]"
     ]
    },
    {
     "name": "stdout",
     "output_type": "stream",
     "text": [
      "ret 6.249261370105952e-05\n",
      "LA.norm(trackline.diffs)>15*np.std(coefnorm): -375.954706305\n",
      "dist_diff 193.928040141\n"
     ]
    },
    {
     "name": "stderr",
     "output_type": "stream",
     "text": [
      "\r",
      " 17%|█████████████▎                                                                 | 213/1261 [02:31<12:40,  1.38it/s]"
     ]
    },
    {
     "name": "stdout",
     "output_type": "stream",
     "text": [
      "ret 8.476852702060667e-05\n",
      "LA.norm(trackline.diffs)>15*np.std(coefnorm): -331.713346719\n",
      "dist_diff 194.492580059\n"
     ]
    },
    {
     "name": "stderr",
     "output_type": "stream",
     "text": [
      "\r",
      " 17%|█████████████▍                                                                 | 214/1261 [02:32<12:40,  1.38it/s]"
     ]
    },
    {
     "name": "stdout",
     "output_type": "stream",
     "text": [
      "ret 4.1557732194719144e-05\n",
      "LA.norm(trackline.diffs)>15*np.std(coefnorm): -301.396477944\n",
      "dist_diff 202.192980624\n"
     ]
    },
    {
     "name": "stderr",
     "output_type": "stream",
     "text": [
      "\r",
      " 17%|█████████████▍                                                                 | 215/1261 [02:32<12:35,  1.38it/s]"
     ]
    },
    {
     "name": "stdout",
     "output_type": "stream",
     "text": [
      "ret 2.1443464054526906e-05\n",
      "LA.norm(trackline.diffs)>15*np.std(coefnorm): -298.611128198\n",
      "dist_diff 207.345694677\n"
     ]
    },
    {
     "name": "stderr",
     "output_type": "stream",
     "text": [
      "\r",
      " 17%|█████████████▌                                                                 | 216/1261 [02:33<12:37,  1.38it/s]"
     ]
    },
    {
     "name": "stdout",
     "output_type": "stream",
     "text": [
      "ret 6.553484374172136e-05\n",
      "LA.norm(trackline.diffs)>15*np.std(coefnorm): -293.399806821\n",
      "dist_diff 211.48969376\n"
     ]
    },
    {
     "name": "stderr",
     "output_type": "stream",
     "text": [
      "\r",
      " 17%|█████████████▌                                                                 | 217/1261 [02:34<12:42,  1.37it/s]"
     ]
    },
    {
     "name": "stdout",
     "output_type": "stream",
     "text": [
      "ret 0.0002684676749039605\n",
      "LA.norm(trackline.diffs)>15*np.std(coefnorm): -248.316409742\n",
      "dist_diff 214.761797858\n"
     ]
    },
    {
     "name": "stderr",
     "output_type": "stream",
     "text": [
      "\r",
      " 17%|█████████████▋                                                                 | 218/1261 [02:35<12:33,  1.38it/s]"
     ]
    },
    {
     "name": "stdout",
     "output_type": "stream",
     "text": [
      "ret 0.0002700397015337752\n",
      "LA.norm(trackline.diffs)>15*np.std(coefnorm): -181.488903712\n",
      "dist_diff 222.281622394\n"
     ]
    },
    {
     "name": "stderr",
     "output_type": "stream",
     "text": [
      "\r",
      " 17%|█████████████▋                                                                 | 219/1261 [02:35<12:30,  1.39it/s]"
     ]
    },
    {
     "name": "stdout",
     "output_type": "stream",
     "text": [
      "ret 0.00030077542307305194\n",
      "LA.norm(trackline.diffs)>15*np.std(coefnorm): -129.675635341\n",
      "dist_diff 222.445448389\n"
     ]
    },
    {
     "name": "stderr",
     "output_type": "stream",
     "text": [
      "\r",
      " 17%|█████████████▊                                                                 | 220/1261 [02:36<12:26,  1.39it/s]"
     ]
    },
    {
     "name": "stdout",
     "output_type": "stream",
     "text": [
      "ret 0.00017863786653998792\n",
      "LA.norm(trackline.diffs)>15*np.std(coefnorm): -110.564507422\n",
      "dist_diff 245.096006284\n"
     ]
    },
    {
     "name": "stderr",
     "output_type": "stream",
     "text": [
      "\r",
      " 18%|█████████████▊                                                                 | 221/1261 [02:37<12:20,  1.40it/s]"
     ]
    },
    {
     "name": "stdout",
     "output_type": "stream",
     "text": [
      "ret 0.00017630774340471334\n",
      "LA.norm(trackline.diffs)>15*np.std(coefnorm): -108.102399071\n",
      "dist_diff 245.440374631\n"
     ]
    },
    {
     "name": "stderr",
     "output_type": "stream",
     "text": [
      "\r",
      " 18%|█████████████▉                                                                 | 222/1261 [02:37<12:17,  1.41it/s]"
     ]
    },
    {
     "name": "stdout",
     "output_type": "stream",
     "text": [
      "ret 0.00013420631353344703\n",
      "LA.norm(trackline.diffs)>15*np.std(coefnorm): -112.654056449\n",
      "dist_diff 236.432862797\n"
     ]
    },
    {
     "name": "stderr",
     "output_type": "stream",
     "text": [
      "\r",
      " 18%|█████████████▉                                                                 | 223/1261 [02:38<12:15,  1.41it/s]"
     ]
    },
    {
     "name": "stdout",
     "output_type": "stream",
     "text": [
      "ret 0.00021984742169189886\n",
      "LA.norm(trackline.diffs)>15*np.std(coefnorm): -104.610338558\n",
      "dist_diff 229.205508546\n"
     ]
    },
    {
     "name": "stderr",
     "output_type": "stream",
     "text": [
      "\r",
      " 18%|██████████████                                                                 | 224/1261 [02:39<12:18,  1.40it/s]"
     ]
    },
    {
     "name": "stdout",
     "output_type": "stream",
     "text": [
      "ret 0.00013255632702041664\n",
      "LA.norm(trackline.diffs)>15*np.std(coefnorm): -144.236305569\n",
      "dist_diff 225.173288109\n"
     ]
    },
    {
     "name": "stderr",
     "output_type": "stream",
     "text": [
      "\r",
      " 18%|██████████████                                                                 | 225/1261 [02:40<12:18,  1.40it/s]"
     ]
    },
    {
     "name": "stdout",
     "output_type": "stream",
     "text": [
      "ret 0.00014078851812338034\n",
      "LA.norm(trackline.diffs)>15*np.std(coefnorm): -130.59153204\n",
      "dist_diff 229.648926049\n"
     ]
    },
    {
     "name": "stderr",
     "output_type": "stream",
     "text": [
      "\r",
      " 18%|██████████████▏                                                                | 226/1261 [02:40<12:18,  1.40it/s]"
     ]
    },
    {
     "name": "stdout",
     "output_type": "stream",
     "text": [
      "ret 0.00016595081051595795\n",
      "LA.norm(trackline.diffs)>15*np.std(coefnorm): -154.42386125\n",
      "dist_diff 229.616415985\n"
     ]
    },
    {
     "name": "stderr",
     "output_type": "stream",
     "text": [
      "\r",
      " 18%|██████████████▏                                                                | 227/1261 [02:41<12:25,  1.39it/s]"
     ]
    },
    {
     "name": "stdout",
     "output_type": "stream",
     "text": [
      "ret 0.00014546551365296478\n",
      "LA.norm(trackline.diffs)>15*np.std(coefnorm): -153.492454146\n",
      "dist_diff 226.543204966\n"
     ]
    },
    {
     "name": "stderr",
     "output_type": "stream",
     "text": [
      "\r",
      " 18%|██████████████▎                                                                | 228/1261 [02:42<12:23,  1.39it/s]"
     ]
    },
    {
     "name": "stdout",
     "output_type": "stream",
     "text": [
      "ret 5.17217595433217e-05\n",
      "LA.norm(trackline.diffs)>15*np.std(coefnorm): -150.949403598\n",
      "dist_diff 227.225867997\n"
     ]
    },
    {
     "name": "stderr",
     "output_type": "stream",
     "text": [
      "\r",
      " 18%|██████████████▎                                                                | 229/1261 [02:42<12:28,  1.38it/s]"
     ]
    },
    {
     "name": "stdout",
     "output_type": "stream",
     "text": [
      "ret 0.00022644977069319339\n",
      "LA.norm(trackline.diffs)>15*np.std(coefnorm): -137.242807422\n",
      "dist_diff 224.606660826\n"
     ]
    },
    {
     "name": "stderr",
     "output_type": "stream",
     "text": [
      "\r",
      " 18%|██████████████▍                                                                | 230/1261 [02:43<12:28,  1.38it/s]"
     ]
    },
    {
     "name": "stdout",
     "output_type": "stream",
     "text": [
      "ret 9.949298265188311e-05\n",
      "LA.norm(trackline.diffs)>15*np.std(coefnorm): -158.416665915\n",
      "dist_diff 223.343693575\n"
     ]
    },
    {
     "name": "stderr",
     "output_type": "stream",
     "text": [
      "\r",
      " 18%|██████████████▍                                                                | 231/1261 [02:44<12:26,  1.38it/s]"
     ]
    },
    {
     "name": "stdout",
     "output_type": "stream",
     "text": [
      "ret 0.00023407572614458916\n",
      "LA.norm(trackline.diffs)>15*np.std(coefnorm): -132.541831404\n",
      "dist_diff 226.663405984\n"
     ]
    },
    {
     "name": "stderr",
     "output_type": "stream",
     "text": [
      "\r",
      " 18%|██████████████▌                                                                | 232/1261 [02:45<12:28,  1.37it/s]"
     ]
    },
    {
     "name": "stdout",
     "output_type": "stream",
     "text": [
      "ret 0.00022402650892561216\n",
      "LA.norm(trackline.diffs)>15*np.std(coefnorm): -131.529953119\n",
      "dist_diff 250.770334835\n"
     ]
    },
    {
     "name": "stderr",
     "output_type": "stream",
     "text": [
      "\r",
      " 18%|██████████████▌                                                                | 233/1261 [02:45<12:20,  1.39it/s]"
     ]
    },
    {
     "name": "stdout",
     "output_type": "stream",
     "text": [
      "ret 6.480497230837434e-05\n",
      "LA.norm(trackline.diffs)>15*np.std(coefnorm): -129.273504396\n",
      "dist_diff 238.981119642\n"
     ]
    },
    {
     "name": "stderr",
     "output_type": "stream",
     "text": [
      "\r",
      " 19%|██████████████▋                                                                | 234/1261 [02:46<12:16,  1.39it/s]"
     ]
    },
    {
     "name": "stdout",
     "output_type": "stream",
     "text": [
      "ret 3.992085345205787e-05\n",
      "LA.norm(trackline.diffs)>15*np.std(coefnorm): -128.388394852\n",
      "dist_diff 227.280148545\n"
     ]
    },
    {
     "name": "stderr",
     "output_type": "stream",
     "text": [
      "\r",
      " 19%|██████████████▋                                                                | 235/1261 [02:47<12:17,  1.39it/s]"
     ]
    },
    {
     "name": "stdout",
     "output_type": "stream",
     "text": [
      "ret 0.00044897648278069413\n",
      "LA.norm(trackline.diffs)>15*np.std(coefnorm): -102.445296988\n",
      "dist_diff 215.572821623\n"
     ]
    },
    {
     "name": "stderr",
     "output_type": "stream",
     "text": [
      "\r",
      " 19%|██████████████▊                                                                | 236/1261 [02:48<12:18,  1.39it/s]"
     ]
    },
    {
     "name": "stdout",
     "output_type": "stream",
     "text": [
      "ret 1.0375230585224493e-06\n",
      "LA.norm(trackline.diffs)>15*np.std(coefnorm): -184.259926555\n",
      "dist_diff 211.254999821\n"
     ]
    },
    {
     "name": "stderr",
     "output_type": "stream",
     "text": [
      "\r",
      " 19%|██████████████▊                                                                | 237/1261 [02:48<12:13,  1.40it/s]"
     ]
    },
    {
     "name": "stdout",
     "output_type": "stream",
     "text": [
      "ret 0.0001400250226998856\n",
      "LA.norm(trackline.diffs)>15*np.std(coefnorm): -224.465981879\n",
      "dist_diff 209.249576244\n"
     ]
    },
    {
     "name": "stderr",
     "output_type": "stream",
     "text": [
      "\r",
      " 19%|██████████████▉                                                                | 238/1261 [02:49<12:13,  1.39it/s]"
     ]
    },
    {
     "name": "stdout",
     "output_type": "stream",
     "text": [
      "ret 0.00014545953354588859\n",
      "LA.norm(trackline.diffs)>15*np.std(coefnorm): -279.444687906\n",
      "dist_diff 205.154540636\n"
     ]
    },
    {
     "name": "stderr",
     "output_type": "stream",
     "text": [
      "\r",
      " 19%|██████████████▉                                                                | 239/1261 [02:50<12:13,  1.39it/s]"
     ]
    },
    {
     "name": "stdout",
     "output_type": "stream",
     "text": [
      "ret 3.858027079584048e-06\n",
      "LA.norm(trackline.diffs)>15*np.std(coefnorm): -345.435239808\n",
      "dist_diff 201.294875379\n"
     ]
    },
    {
     "name": "stderr",
     "output_type": "stream",
     "text": [
      "\r",
      " 19%|███████████████                                                                | 240/1261 [02:50<12:10,  1.40it/s]"
     ]
    },
    {
     "name": "stdout",
     "output_type": "stream",
     "text": [
      "ret 0.00011880425080834645\n",
      "LA.norm(trackline.diffs)>15*np.std(coefnorm): -381.557975137\n",
      "dist_diff 204.061458256\n"
     ]
    },
    {
     "name": "stderr",
     "output_type": "stream",
     "text": [
      "\r",
      " 19%|███████████████                                                                | 241/1261 [02:51<12:08,  1.40it/s]"
     ]
    },
    {
     "name": "stdout",
     "output_type": "stream",
     "text": [
      "ret 0.00025885237859923915\n",
      "LA.norm(trackline.diffs)>15*np.std(coefnorm): -409.48944729\n",
      "dist_diff 197.559160038\n"
     ]
    },
    {
     "name": "stderr",
     "output_type": "stream",
     "text": [
      "\r",
      " 19%|███████████████▏                                                               | 242/1261 [02:52<12:08,  1.40it/s]"
     ]
    },
    {
     "name": "stdout",
     "output_type": "stream",
     "text": [
      "ret 0.0003591752348535149\n",
      "LA.norm(trackline.diffs)>15*np.std(coefnorm): -327.632758851\n",
      "dist_diff 199.099545827\n"
     ]
    },
    {
     "name": "stderr",
     "output_type": "stream",
     "text": [
      "\r",
      " 19%|███████████████▏                                                               | 243/1261 [02:53<12:05,  1.40it/s]"
     ]
    },
    {
     "name": "stdout",
     "output_type": "stream",
     "text": [
      "ret 0.00021234641172390711\n",
      "LA.norm(trackline.diffs)>15*np.std(coefnorm): -311.418067388\n",
      "dist_diff 200.668209154\n"
     ]
    },
    {
     "name": "stderr",
     "output_type": "stream",
     "text": [
      "\r",
      " 19%|███████████████▎                                                               | 244/1261 [02:53<12:08,  1.40it/s]"
     ]
    },
    {
     "name": "stdout",
     "output_type": "stream",
     "text": [
      "ret 0.00023939019499852332\n",
      "LA.norm(trackline.diffs)>15*np.std(coefnorm): -189.595442351\n",
      "dist_diff 195.760800581\n"
     ]
    },
    {
     "name": "stderr",
     "output_type": "stream",
     "text": [
      "\r",
      " 19%|███████████████▎                                                               | 245/1261 [02:54<12:13,  1.39it/s]"
     ]
    },
    {
     "name": "stdout",
     "output_type": "stream",
     "text": [
      "ret 9.253479491228012e-05\n",
      "LA.norm(trackline.diffs)>15*np.std(coefnorm): -136.587727128\n",
      "dist_diff 190.799080731\n"
     ]
    },
    {
     "name": "stderr",
     "output_type": "stream",
     "text": [
      "\r",
      " 20%|███████████████▍                                                               | 246/1261 [02:55<12:14,  1.38it/s]"
     ]
    },
    {
     "name": "stdout",
     "output_type": "stream",
     "text": [
      "ret 9.95976353865835e-05\n",
      "LA.norm(trackline.diffs)>15*np.std(coefnorm): -133.41225378\n",
      "dist_diff 190.697369427\n"
     ]
    },
    {
     "name": "stderr",
     "output_type": "stream",
     "text": [
      "\r",
      " 20%|███████████████▍                                                               | 247/1261 [02:55<12:13,  1.38it/s]"
     ]
    },
    {
     "name": "stdout",
     "output_type": "stream",
     "text": [
      "ret 0.0002134424033013449\n",
      "LA.norm(trackline.diffs)>15*np.std(coefnorm): -92.1050374406\n",
      "dist_diff 201.714004037\n"
     ]
    },
    {
     "name": "stderr",
     "output_type": "stream",
     "text": [
      "\r",
      " 20%|███████████████▌                                                               | 248/1261 [02:56<12:04,  1.40it/s]"
     ]
    },
    {
     "name": "stdout",
     "output_type": "stream",
     "text": [
      "ret 0.00028071981431454507\n",
      "LA.norm(trackline.diffs)>15*np.std(coefnorm): -153.495458054\n",
      "dist_diff 196.215225126\n"
     ]
    },
    {
     "name": "stderr",
     "output_type": "stream",
     "text": [
      "\r",
      " 20%|███████████████▌                                                               | 249/1261 [02:57<12:06,  1.39it/s]"
     ]
    },
    {
     "name": "stdout",
     "output_type": "stream",
     "text": [
      "ret 2.0544351219675683e-06\n",
      "LA.norm(trackline.diffs)>15*np.std(coefnorm): -152.941491996\n",
      "dist_diff 195.936265142\n"
     ]
    },
    {
     "name": "stderr",
     "output_type": "stream",
     "text": [
      "\r",
      " 20%|███████████████▋                                                               | 250/1261 [02:58<12:03,  1.40it/s]"
     ]
    },
    {
     "name": "stdout",
     "output_type": "stream",
     "text": [
      "ret 0.00014809894438994053\n",
      "LA.norm(trackline.diffs)>15*np.std(coefnorm): -147.923037447\n",
      "dist_diff 191.231424471\n"
     ]
    },
    {
     "name": "stderr",
     "output_type": "stream",
     "text": [
      "\r",
      " 20%|███████████████▋                                                               | 251/1261 [02:58<12:10,  1.38it/s]"
     ]
    },
    {
     "name": "stdout",
     "output_type": "stream",
     "text": [
      "ret 0.00017571027572971243\n",
      "LA.norm(trackline.diffs)>15*np.std(coefnorm): -146.264858891\n",
      "dist_diff 191.289806811\n"
     ]
    },
    {
     "name": "stderr",
     "output_type": "stream",
     "text": [
      "\r",
      " 20%|███████████████▊                                                               | 252/1261 [02:59<12:07,  1.39it/s]"
     ]
    },
    {
     "name": "stdout",
     "output_type": "stream",
     "text": [
      "ret 2.788138318421396e-05\n",
      "LA.norm(trackline.diffs)>15*np.std(coefnorm): -141.583952422\n",
      "dist_diff 192.203064588\n"
     ]
    },
    {
     "name": "stderr",
     "output_type": "stream",
     "text": [
      "\r",
      " 20%|███████████████▊                                                               | 253/1261 [03:00<12:08,  1.38it/s]"
     ]
    },
    {
     "name": "stdout",
     "output_type": "stream",
     "text": [
      "ret 0.00024297256935862377\n",
      "LA.norm(trackline.diffs)>15*np.std(coefnorm): -148.12845422\n",
      "dist_diff 190.379611089\n"
     ]
    },
    {
     "name": "stderr",
     "output_type": "stream",
     "text": [
      "\r",
      " 20%|███████████████▉                                                               | 254/1261 [03:00<12:09,  1.38it/s]"
     ]
    },
    {
     "name": "stdout",
     "output_type": "stream",
     "text": [
      "ret 7.921344798611507e-05\n",
      "LA.norm(trackline.diffs)>15*np.std(coefnorm): -211.255133575\n",
      "dist_diff 195.594853082\n"
     ]
    },
    {
     "name": "stderr",
     "output_type": "stream",
     "text": [
      "\r",
      " 20%|███████████████▉                                                               | 255/1261 [03:01<12:06,  1.38it/s]"
     ]
    },
    {
     "name": "stdout",
     "output_type": "stream",
     "text": [
      "ret 0.0001197250554096918\n",
      "LA.norm(trackline.diffs)>15*np.std(coefnorm): -208.637636258\n",
      "dist_diff 197.537167508\n"
     ]
    },
    {
     "name": "stderr",
     "output_type": "stream",
     "text": [
      "\r",
      " 20%|████████████████                                                               | 256/1261 [03:02<12:09,  1.38it/s]"
     ]
    },
    {
     "name": "stdout",
     "output_type": "stream",
     "text": [
      "ret 7.581479762958088e-05\n",
      "LA.norm(trackline.diffs)>15*np.std(coefnorm): -206.389046409\n",
      "dist_diff 202.44850558\n"
     ]
    },
    {
     "name": "stderr",
     "output_type": "stream",
     "text": [
      "\r",
      " 20%|████████████████                                                               | 257/1261 [03:03<12:02,  1.39it/s]"
     ]
    },
    {
     "name": "stdout",
     "output_type": "stream",
     "text": [
      "ret 0.0001167743077722938\n",
      "LA.norm(trackline.diffs)>15*np.std(coefnorm): -199.757303873\n",
      "dist_diff 184.265662681\n"
     ]
    },
    {
     "name": "stderr",
     "output_type": "stream",
     "text": [
      "\r",
      " 20%|████████████████▏                                                              | 258/1261 [03:03<12:03,  1.39it/s]"
     ]
    },
    {
     "name": "stdout",
     "output_type": "stream",
     "text": [
      "ret 0.00011697959004142167\n",
      "LA.norm(trackline.diffs)>15*np.std(coefnorm): -132.016375307\n",
      "dist_diff 178.703120519\n"
     ]
    },
    {
     "name": "stderr",
     "output_type": "stream",
     "text": [
      "\r",
      " 21%|████████████████▏                                                              | 259/1261 [03:04<11:57,  1.40it/s]"
     ]
    },
    {
     "name": "stdout",
     "output_type": "stream",
     "text": [
      "ret 6.874188730704445e-05\n",
      "LA.norm(trackline.diffs)>15*np.std(coefnorm): -132.819996834\n",
      "dist_diff 179.644565974\n"
     ]
    },
    {
     "name": "stderr",
     "output_type": "stream",
     "text": [
      "\r",
      " 21%|████████████████▎                                                              | 260/1261 [03:05<11:56,  1.40it/s]"
     ]
    },
    {
     "name": "stdout",
     "output_type": "stream",
     "text": [
      "ret 0.00030762135916018174\n",
      "LA.norm(trackline.diffs)>15*np.std(coefnorm): -80.1928005012\n",
      "dist_diff 167.167413546\n"
     ]
    },
    {
     "name": "stderr",
     "output_type": "stream",
     "text": [
      "\r",
      " 21%|████████████████▎                                                              | 261/1261 [03:05<11:55,  1.40it/s]"
     ]
    },
    {
     "name": "stdout",
     "output_type": "stream",
     "text": [
      "ret 1.9544045009534106e-05\n",
      "LA.norm(trackline.diffs)>15*np.std(coefnorm): -172.001327859\n",
      "dist_diff 166.326830233\n"
     ]
    },
    {
     "name": "stderr",
     "output_type": "stream",
     "text": [
      "\r",
      " 21%|████████████████▍                                                              | 262/1261 [03:06<11:53,  1.40it/s]"
     ]
    },
    {
     "name": "stdout",
     "output_type": "stream",
     "text": [
      "ret 7.138907631998315e-05\n",
      "LA.norm(trackline.diffs)>15*np.std(coefnorm): -205.687538862\n",
      "dist_diff 161.09852143\n"
     ]
    },
    {
     "name": "stderr",
     "output_type": "stream",
     "text": [
      "\r",
      " 21%|████████████████▍                                                              | 263/1261 [03:07<11:55,  1.40it/s]"
     ]
    },
    {
     "name": "stdout",
     "output_type": "stream",
     "text": [
      "ret 0.00011163713310680112\n",
      "LA.norm(trackline.diffs)>15*np.std(coefnorm): -231.4788484\n",
      "dist_diff 155.766461737\n"
     ]
    },
    {
     "name": "stderr",
     "output_type": "stream",
     "text": [
      "\r",
      " 21%|████████████████▌                                                              | 264/1261 [03:08<12:03,  1.38it/s]"
     ]
    },
    {
     "name": "stdout",
     "output_type": "stream",
     "text": [
      "ret 4.68459668583332e-05\n",
      "LA.norm(trackline.diffs)>15*np.std(coefnorm): -279.018430164\n",
      "dist_diff 150.650194339\n"
     ]
    },
    {
     "name": "stderr",
     "output_type": "stream",
     "text": [
      "\r",
      " 21%|████████████████▌                                                              | 265/1261 [03:08<11:57,  1.39it/s]"
     ]
    },
    {
     "name": "stdout",
     "output_type": "stream",
     "text": [
      "ret 0.00017893819699094093\n",
      "LA.norm(trackline.diffs)>15*np.std(coefnorm): -289.729860782\n",
      "dist_diff 144.753953024\n"
     ]
    },
    {
     "name": "stderr",
     "output_type": "stream",
     "text": [
      "\r",
      " 21%|████████████████▋                                                              | 266/1261 [03:09<12:03,  1.37it/s]"
     ]
    },
    {
     "name": "stdout",
     "output_type": "stream",
     "text": [
      "ret 7.065947593065669e-05\n",
      "LA.norm(trackline.diffs)>15*np.std(coefnorm): -352.664464994\n",
      "dist_diff 144.99971944\n"
     ]
    },
    {
     "name": "stderr",
     "output_type": "stream",
     "text": [
      "\r",
      " 21%|████████████████▋                                                              | 267/1261 [03:10<12:08,  1.36it/s]"
     ]
    },
    {
     "name": "stdout",
     "output_type": "stream",
     "text": [
      "ret 0.00012021403001361008\n",
      "LA.norm(trackline.diffs)>15*np.std(coefnorm): -340.927772006\n",
      "dist_diff 146.605472447\n"
     ]
    },
    {
     "name": "stderr",
     "output_type": "stream",
     "text": [
      "\r",
      " 21%|████████████████▊                                                              | 268/1261 [03:11<12:09,  1.36it/s]"
     ]
    },
    {
     "name": "stdout",
     "output_type": "stream",
     "text": [
      "ret 0.00017150073808525068\n",
      "LA.norm(trackline.diffs)>15*np.std(coefnorm): -322.139555974\n",
      "dist_diff 147.859583346\n"
     ]
    },
    {
     "name": "stderr",
     "output_type": "stream",
     "text": [
      "\r",
      " 21%|████████████████▊                                                              | 269/1261 [03:11<12:05,  1.37it/s]"
     ]
    },
    {
     "name": "stdout",
     "output_type": "stream",
     "text": [
      "ret 3.0444528559714357e-05\n",
      "LA.norm(trackline.diffs)>15*np.std(coefnorm): -316.682803089\n",
      "dist_diff 151.29307631\n"
     ]
    },
    {
     "name": "stderr",
     "output_type": "stream",
     "text": [
      "\r",
      " 21%|████████████████▉                                                              | 270/1261 [03:12<12:07,  1.36it/s]"
     ]
    },
    {
     "name": "stdout",
     "output_type": "stream",
     "text": [
      "ret 0.00019842216274790214\n",
      "LA.norm(trackline.diffs)>15*np.std(coefnorm): -237.176158482\n",
      "dist_diff 139.076285584\n"
     ]
    },
    {
     "name": "stderr",
     "output_type": "stream",
     "text": [
      "\r",
      " 21%|████████████████▉                                                              | 271/1261 [03:13<12:01,  1.37it/s]"
     ]
    },
    {
     "name": "stdout",
     "output_type": "stream",
     "text": [
      "ret 0.0003245390499795886\n",
      "LA.norm(trackline.diffs)>15*np.std(coefnorm): -227.158721416\n",
      "dist_diff 130.566831691\n"
     ]
    },
    {
     "name": "stderr",
     "output_type": "stream",
     "text": [
      "\r",
      " 22%|█████████████████                                                              | 272/1261 [03:14<12:02,  1.37it/s]"
     ]
    },
    {
     "name": "stdout",
     "output_type": "stream",
     "text": [
      "ret 9.675036095990741e-05\n",
      "LA.norm(trackline.diffs)>15*np.std(coefnorm): -172.530817891\n",
      "dist_diff 136.205860358\n"
     ]
    },
    {
     "name": "stderr",
     "output_type": "stream",
     "text": [
      "\r",
      " 22%|█████████████████                                                              | 273/1261 [03:14<11:57,  1.38it/s]"
     ]
    },
    {
     "name": "stdout",
     "output_type": "stream",
     "text": [
      "ret 0.00017663996623545897\n",
      "LA.norm(trackline.diffs)>15*np.std(coefnorm): -106.777251617\n",
      "dist_diff 136.81185303\n"
     ]
    },
    {
     "name": "stderr",
     "output_type": "stream",
     "text": [
      "\r",
      " 22%|█████████████████▏                                                             | 274/1261 [03:15<11:58,  1.37it/s]"
     ]
    },
    {
     "name": "stdout",
     "output_type": "stream",
     "text": [
      "ret 0.00015636616333147835\n",
      "LA.norm(trackline.diffs)>15*np.std(coefnorm): -75.8069032623\n",
      "dist_diff 135.527529426\n"
     ]
    },
    {
     "name": "stderr",
     "output_type": "stream",
     "text": [
      "\r",
      " 22%|█████████████████▏                                                             | 275/1261 [03:16<11:50,  1.39it/s]"
     ]
    },
    {
     "name": "stdout",
     "output_type": "stream",
     "text": [
      "ret 0.00022928897843788043\n",
      "LA.norm(trackline.diffs)>15*np.std(coefnorm): -46.6103828625\n",
      "dist_diff 134.714248753\n"
     ]
    },
    {
     "name": "stderr",
     "output_type": "stream",
     "text": [
      "\r",
      " 22%|█████████████████▎                                                             | 276/1261 [03:16<11:44,  1.40it/s]"
     ]
    },
    {
     "name": "stdout",
     "output_type": "stream",
     "text": [
      "ret 9.759122802366349e-05\n",
      "LA.norm(trackline.diffs)>15*np.std(coefnorm): -80.1478978606\n",
      "dist_diff 136.666022405\n"
     ]
    },
    {
     "name": "stderr",
     "output_type": "stream",
     "text": [
      "\r",
      " 22%|█████████████████▎                                                             | 277/1261 [03:17<11:46,  1.39it/s]"
     ]
    },
    {
     "name": "stdout",
     "output_type": "stream",
     "text": [
      "ret 0.0001540315622657884\n",
      "LA.norm(trackline.diffs)>15*np.std(coefnorm): -106.142007603\n",
      "dist_diff 133.236747153\n"
     ]
    },
    {
     "name": "stderr",
     "output_type": "stream",
     "text": [
      "\r",
      " 22%|█████████████████▍                                                             | 278/1261 [03:18<11:48,  1.39it/s]"
     ]
    },
    {
     "name": "stdout",
     "output_type": "stream",
     "text": [
      "ret 2.9945240847872867e-05\n",
      "LA.norm(trackline.diffs)>15*np.std(coefnorm): -187.996722941\n",
      "dist_diff 142.47636871\n"
     ]
    },
    {
     "name": "stderr",
     "output_type": "stream",
     "text": [
      "\r",
      " 22%|█████████████████▍                                                             | 279/1261 [03:19<11:45,  1.39it/s]"
     ]
    },
    {
     "name": "stdout",
     "output_type": "stream",
     "text": [
      "ret 2.9481594427949176e-05\n",
      "LA.norm(trackline.diffs)>15*np.std(coefnorm): -189.071362762\n",
      "dist_diff 138.97025621\n"
     ]
    },
    {
     "name": "stderr",
     "output_type": "stream",
     "text": [
      "\r",
      " 22%|█████████████████▌                                                             | 280/1261 [03:19<11:41,  1.40it/s]"
     ]
    },
    {
     "name": "stdout",
     "output_type": "stream",
     "text": [
      "ret 9.355840368885371e-05\n",
      "LA.norm(trackline.diffs)>15*np.std(coefnorm): -190.722632598\n",
      "dist_diff 138.759764052\n"
     ]
    },
    {
     "name": "stderr",
     "output_type": "stream",
     "text": [
      "\r",
      " 22%|█████████████████▌                                                             | 281/1261 [03:20<11:40,  1.40it/s]"
     ]
    },
    {
     "name": "stdout",
     "output_type": "stream",
     "text": [
      "ret 0.00017705125137995603\n",
      "LA.norm(trackline.diffs)>15*np.std(coefnorm): -197.369954379\n",
      "dist_diff 122.941741023\n"
     ]
    },
    {
     "name": "stderr",
     "output_type": "stream",
     "text": [
      "\r",
      " 22%|█████████████████▋                                                             | 282/1261 [03:21<11:36,  1.41it/s]"
     ]
    },
    {
     "name": "stdout",
     "output_type": "stream",
     "text": [
      "ret 0.0001957899331556101\n",
      "LA.norm(trackline.diffs)>15*np.std(coefnorm): -187.631487135\n",
      "dist_diff 120.931037876\n"
     ]
    },
    {
     "name": "stderr",
     "output_type": "stream",
     "text": [
      "\r",
      " 22%|█████████████████▋                                                             | 283/1261 [03:21<11:33,  1.41it/s]"
     ]
    },
    {
     "name": "stdout",
     "output_type": "stream",
     "text": [
      "ret 3.503008803312779e-05\n",
      "LA.norm(trackline.diffs)>15*np.std(coefnorm): -208.181094416\n",
      "dist_diff 114.241805817\n"
     ]
    },
    {
     "name": "stderr",
     "output_type": "stream",
     "text": [
      "\r",
      " 23%|█████████████████▊                                                             | 284/1261 [03:22<11:34,  1.41it/s]"
     ]
    },
    {
     "name": "stdout",
     "output_type": "stream",
     "text": [
      "ret 0.00015546134022803582\n",
      "LA.norm(trackline.diffs)>15*np.std(coefnorm): -174.477392934\n",
      "dist_diff 112.347579732\n"
     ]
    },
    {
     "name": "stderr",
     "output_type": "stream",
     "text": [
      "\r",
      " 23%|█████████████████▊                                                             | 285/1261 [03:23<11:31,  1.41it/s]"
     ]
    },
    {
     "name": "stdout",
     "output_type": "stream",
     "text": [
      "ret 0.00012147776067927829\n",
      "LA.norm(trackline.diffs)>15*np.std(coefnorm): -192.960854952\n",
      "dist_diff 105.081696894\n"
     ]
    },
    {
     "name": "stderr",
     "output_type": "stream",
     "text": [
      "\r",
      " 23%|█████████████████▉                                                             | 286/1261 [03:23<11:28,  1.42it/s]"
     ]
    },
    {
     "name": "stdout",
     "output_type": "stream",
     "text": [
      "ret 8.417461969523199e-05\n",
      "LA.norm(trackline.diffs)>15*np.std(coefnorm): -274.902820177\n",
      "dist_diff 106.098289541\n"
     ]
    },
    {
     "name": "stderr",
     "output_type": "stream",
     "text": [
      "\r",
      " 23%|█████████████████▉                                                             | 287/1261 [03:24<11:31,  1.41it/s]"
     ]
    },
    {
     "name": "stdout",
     "output_type": "stream",
     "text": [
      "ret 9.282091444984264e-05\n",
      "LA.norm(trackline.diffs)>15*np.std(coefnorm): -313.019132467\n",
      "dist_diff 100.680214033\n"
     ]
    },
    {
     "name": "stderr",
     "output_type": "stream",
     "text": [
      "\r",
      " 23%|██████████████████                                                             | 288/1261 [03:25<11:30,  1.41it/s]"
     ]
    },
    {
     "name": "stdout",
     "output_type": "stream",
     "text": [
      "ret 5.476229731371518e-05\n",
      "LA.norm(trackline.diffs)>15*np.std(coefnorm): -404.594055908\n",
      "dist_diff 104.621553135\n"
     ]
    },
    {
     "name": "stderr",
     "output_type": "stream",
     "text": [
      "\r",
      " 23%|██████████████████                                                             | 289/1261 [03:26<11:32,  1.40it/s]"
     ]
    },
    {
     "name": "stdout",
     "output_type": "stream",
     "text": [
      "ret 7.244473200879176e-05\n",
      "LA.norm(trackline.diffs)>15*np.std(coefnorm): -387.709569447\n",
      "dist_diff 101.933964267\n"
     ]
    },
    {
     "name": "stderr",
     "output_type": "stream",
     "text": [
      "\r",
      " 23%|██████████████████▏                                                            | 290/1261 [03:26<11:30,  1.41it/s]"
     ]
    },
    {
     "name": "stdout",
     "output_type": "stream",
     "text": [
      "ret 8.102701135170864e-05\n",
      "LA.norm(trackline.diffs)>15*np.std(coefnorm): -370.828387853\n",
      "dist_diff 105.461818154\n"
     ]
    },
    {
     "name": "stderr",
     "output_type": "stream",
     "text": [
      "\r",
      " 23%|██████████████████▏                                                            | 291/1261 [03:27<11:27,  1.41it/s]"
     ]
    },
    {
     "name": "stdout",
     "output_type": "stream",
     "text": [
      "ret 5.114943584350051e-06\n",
      "LA.norm(trackline.diffs)>15*np.std(coefnorm): -309.381616429\n",
      "dist_diff 106.131588056\n"
     ]
    },
    {
     "name": "stderr",
     "output_type": "stream",
     "text": [
      "\r",
      " 23%|██████████████████▎                                                            | 292/1261 [03:28<11:27,  1.41it/s]"
     ]
    },
    {
     "name": "stdout",
     "output_type": "stream",
     "text": [
      "ret 8.470969472107459e-05\n",
      "LA.norm(trackline.diffs)>15*np.std(coefnorm): -239.638559961\n",
      "dist_diff 105.618709734\n"
     ]
    },
    {
     "name": "stderr",
     "output_type": "stream",
     "text": [
      "\r",
      " 23%|██████████████████▎                                                            | 293/1261 [03:28<11:24,  1.41it/s]"
     ]
    },
    {
     "name": "stdout",
     "output_type": "stream",
     "text": [
      "ret 0.00010323227607672569\n",
      "LA.norm(trackline.diffs)>15*np.std(coefnorm): -187.761933368\n",
      "dist_diff 96.3612122723\n"
     ]
    },
    {
     "name": "stderr",
     "output_type": "stream",
     "text": [
      "\r",
      " 23%|██████████████████▍                                                            | 294/1261 [03:29<11:26,  1.41it/s]"
     ]
    },
    {
     "name": "stdout",
     "output_type": "stream",
     "text": [
      "ret 3.802757260362721e-05\n",
      "LA.norm(trackline.diffs)>15*np.std(coefnorm): -129.978101439\n",
      "dist_diff 81.8089550873\n"
     ]
    },
    {
     "name": "stderr",
     "output_type": "stream",
     "text": [
      "\r",
      " 23%|██████████████████▍                                                            | 295/1261 [03:30<11:22,  1.41it/s]"
     ]
    },
    {
     "name": "stdout",
     "output_type": "stream",
     "text": [
      "ret 6.70948937430138e-05\n",
      "LA.norm(trackline.diffs)>15*np.std(coefnorm): -107.23986901\n",
      "dist_diff 77.3460095703\n"
     ]
    },
    {
     "name": "stderr",
     "output_type": "stream",
     "text": [
      "\r",
      " 23%|██████████████████▌                                                            | 296/1261 [03:31<11:25,  1.41it/s]"
     ]
    },
    {
     "name": "stdout",
     "output_type": "stream",
     "text": [
      "ret 4.75071689399198e-05\n",
      "LA.norm(trackline.diffs)>15*np.std(coefnorm): -113.093000091\n",
      "dist_diff 72.8421611661\n"
     ]
    },
    {
     "name": "stderr",
     "output_type": "stream",
     "text": [
      "\r",
      " 24%|██████████████████▌                                                            | 297/1261 [03:31<11:23,  1.41it/s]"
     ]
    },
    {
     "name": "stdout",
     "output_type": "stream",
     "text": [
      "ret 1.9777151378574942e-05\n",
      "LA.norm(trackline.diffs)>15*np.std(coefnorm): -122.095886764\n",
      "dist_diff 67.8619327181\n"
     ]
    },
    {
     "name": "stderr",
     "output_type": "stream",
     "text": [
      "\r",
      " 24%|██████████████████▋                                                            | 298/1261 [03:32<11:26,  1.40it/s]"
     ]
    },
    {
     "name": "stdout",
     "output_type": "stream",
     "text": [
      "ret 6.962166222501676e-05\n",
      "LA.norm(trackline.diffs)>15*np.std(coefnorm): -123.70940374\n",
      "dist_diff 69.9513015151\n"
     ]
    },
    {
     "name": "stderr",
     "output_type": "stream",
     "text": [
      "\r",
      " 24%|██████████████████▋                                                            | 299/1261 [03:33<11:22,  1.41it/s]"
     ]
    },
    {
     "name": "stdout",
     "output_type": "stream",
     "text": [
      "ret 8.401127306922884e-05\n",
      "LA.norm(trackline.diffs)>15*np.std(coefnorm): -127.830297172\n",
      "dist_diff 67.0318873612\n"
     ]
    },
    {
     "name": "stderr",
     "output_type": "stream",
     "text": [
      "\r",
      " 24%|██████████████████▊                                                            | 300/1261 [03:33<11:27,  1.40it/s]"
     ]
    },
    {
     "name": "stdout",
     "output_type": "stream",
     "text": [
      "ret 3.0031307520272943e-05\n",
      "LA.norm(trackline.diffs)>15*np.std(coefnorm): -160.412303097\n",
      "dist_diff 67.8685899713\n"
     ]
    },
    {
     "name": "stderr",
     "output_type": "stream",
     "text": [
      "\r",
      " 24%|██████████████████▊                                                            | 301/1261 [03:34<11:23,  1.40it/s]"
     ]
    },
    {
     "name": "stdout",
     "output_type": "stream",
     "text": [
      "ret 0.00011932457909219485\n",
      "LA.norm(trackline.diffs)>15*np.std(coefnorm): -155.660296082\n",
      "dist_diff 66.9558488345\n"
     ]
    },
    {
     "name": "stderr",
     "output_type": "stream",
     "text": [
      "\r",
      " 24%|██████████████████▉                                                            | 302/1261 [03:35<11:24,  1.40it/s]"
     ]
    },
    {
     "name": "stdout",
     "output_type": "stream",
     "text": [
      "ret 4.569382333363681e-05\n",
      "LA.norm(trackline.diffs)>15*np.std(coefnorm): -175.464119258\n",
      "dist_diff 66.9136229886\n"
     ]
    },
    {
     "name": "stderr",
     "output_type": "stream",
     "text": [
      "\r",
      " 24%|██████████████████▉                                                            | 303/1261 [03:36<11:25,  1.40it/s]"
     ]
    },
    {
     "name": "stdout",
     "output_type": "stream",
     "text": [
      "ret 9.344608431494095e-06\n",
      "LA.norm(trackline.diffs)>15*np.std(coefnorm): -179.086210585\n",
      "dist_diff 72.1442220688\n"
     ]
    },
    {
     "name": "stderr",
     "output_type": "stream",
     "text": [
      "\r",
      " 24%|███████████████████                                                            | 304/1261 [03:36<11:50,  1.35it/s]"
     ]
    },
    {
     "name": "stdout",
     "output_type": "stream",
     "text": [
      "ret 7.395206659971398e-05\n",
      "LA.norm(trackline.diffs)>15*np.std(coefnorm): -136.22235279\n",
      "dist_diff 71.7517353245\n"
     ]
    },
    {
     "name": "stderr",
     "output_type": "stream",
     "text": [
      "\r",
      " 24%|███████████████████                                                            | 305/1261 [03:37<11:52,  1.34it/s]"
     ]
    },
    {
     "name": "stdout",
     "output_type": "stream",
     "text": [
      "ret 0.00014281608704486137\n",
      "LA.norm(trackline.diffs)>15*np.std(coefnorm): -151.952541187\n",
      "dist_diff 69.5713385993\n"
     ]
    },
    {
     "name": "stderr",
     "output_type": "stream",
     "text": [
      "\r",
      " 24%|███████████████████▏                                                           | 306/1261 [03:38<11:48,  1.35it/s]"
     ]
    },
    {
     "name": "stdout",
     "output_type": "stream",
     "text": [
      "ret 0.00012366588627449326\n",
      "LA.norm(trackline.diffs)>15*np.std(coefnorm): -112.931659708\n",
      "dist_diff 69.5596879963\n"
     ]
    },
    {
     "name": "stderr",
     "output_type": "stream",
     "text": [
      "\r",
      " 24%|███████████████████▏                                                           | 307/1261 [03:39<11:42,  1.36it/s]"
     ]
    },
    {
     "name": "stdout",
     "output_type": "stream",
     "text": [
      "ret 0.0002281630562321335\n",
      "LA.norm(trackline.diffs)>15*np.std(coefnorm): -110.786033462\n",
      "dist_diff 64.433172862\n"
     ]
    },
    {
     "name": "stderr",
     "output_type": "stream",
     "text": [
      "\r",
      " 24%|███████████████████▎                                                           | 308/1261 [03:39<11:37,  1.37it/s]"
     ]
    },
    {
     "name": "stdout",
     "output_type": "stream",
     "text": [
      "ret 0.00013938918969458314\n",
      "LA.norm(trackline.diffs)>15*np.std(coefnorm): -98.6580275109\n",
      "dist_diff 68.0613606547\n"
     ]
    },
    {
     "name": "stderr",
     "output_type": "stream",
     "text": [
      "\r",
      " 25%|███████████████████▎                                                           | 309/1261 [03:40<11:39,  1.36it/s]"
     ]
    },
    {
     "name": "stdout",
     "output_type": "stream",
     "text": [
      "ret 4.8174380090859614e-05\n",
      "LA.norm(trackline.diffs)>15*np.std(coefnorm): -107.344673905\n",
      "dist_diff 72.3304799507\n"
     ]
    },
    {
     "name": "stderr",
     "output_type": "stream",
     "text": [
      "\r",
      " 25%|███████████████████▍                                                           | 310/1261 [03:41<11:39,  1.36it/s]"
     ]
    },
    {
     "name": "stdout",
     "output_type": "stream",
     "text": [
      "ret 1.172900078905137e-05\n",
      "LA.norm(trackline.diffs)>15*np.std(coefnorm): -111.833738715\n",
      "dist_diff 78.3316045347\n"
     ]
    },
    {
     "name": "stderr",
     "output_type": "stream",
     "text": [
      "\r",
      " 25%|███████████████████▍                                                           | 311/1261 [03:42<11:38,  1.36it/s]"
     ]
    },
    {
     "name": "stdout",
     "output_type": "stream",
     "text": [
      "ret 3.562325739381311e-05\n",
      "LA.norm(trackline.diffs)>15*np.std(coefnorm): -98.300233517\n",
      "dist_diff 73.3262554419\n"
     ]
    },
    {
     "name": "stderr",
     "output_type": "stream",
     "text": [
      "\r",
      " 25%|███████████████████▌                                                           | 312/1261 [03:42<11:40,  1.36it/s]"
     ]
    },
    {
     "name": "stdout",
     "output_type": "stream",
     "text": [
      "ret 0.0001111159387692795\n",
      "LA.norm(trackline.diffs)>15*np.std(coefnorm): -90.2967352346\n",
      "dist_diff 74.6729886917\n"
     ]
    },
    {
     "name": "stderr",
     "output_type": "stream",
     "text": [
      "\r",
      " 25%|███████████████████▌                                                           | 313/1261 [03:43<11:37,  1.36it/s]"
     ]
    },
    {
     "name": "stdout",
     "output_type": "stream",
     "text": [
      "ret 0.000121931916355289\n",
      "LA.norm(trackline.diffs)>15*np.std(coefnorm): -93.1930840066\n",
      "dist_diff 68.5201419771\n"
     ]
    },
    {
     "name": "stderr",
     "output_type": "stream",
     "text": [
      "\r",
      " 25%|███████████████████▋                                                           | 314/1261 [03:44<11:39,  1.35it/s]"
     ]
    },
    {
     "name": "stdout",
     "output_type": "stream",
     "text": [
      "ret 4.0273880679786433e-05\n",
      "LA.norm(trackline.diffs)>15*np.std(coefnorm): -74.5186134922\n",
      "dist_diff 60.8551993256\n"
     ]
    },
    {
     "name": "stderr",
     "output_type": "stream",
     "text": [
      "\r",
      " 25%|███████████████████▋                                                           | 315/1261 [03:44<11:36,  1.36it/s]"
     ]
    },
    {
     "name": "stdout",
     "output_type": "stream",
     "text": [
      "ret 0.0001861388050241053\n",
      "LA.norm(trackline.diffs)>15*np.std(coefnorm): -91.5707754462\n",
      "dist_diff 57.9411996854\n"
     ]
    },
    {
     "name": "stderr",
     "output_type": "stream",
     "text": [
      "\r",
      " 25%|███████████████████▊                                                           | 316/1261 [03:45<11:31,  1.37it/s]"
     ]
    },
    {
     "name": "stdout",
     "output_type": "stream",
     "text": [
      "ret 0.00013854360287607337\n",
      "LA.norm(trackline.diffs)>15*np.std(coefnorm): -101.247718462\n",
      "dist_diff 60.4335785846\n"
     ]
    },
    {
     "name": "stderr",
     "output_type": "stream",
     "text": [
      "\r",
      " 25%|███████████████████▊                                                           | 317/1261 [03:46<11:30,  1.37it/s]"
     ]
    },
    {
     "name": "stdout",
     "output_type": "stream",
     "text": [
      "ret 0.00018744827885019966\n",
      "LA.norm(trackline.diffs)>15*np.std(coefnorm): -144.014217742\n",
      "dist_diff 46.2326063303\n"
     ]
    },
    {
     "name": "stderr",
     "output_type": "stream",
     "text": [
      "\r",
      " 25%|███████████████████▉                                                           | 318/1261 [03:47<11:32,  1.36it/s]"
     ]
    },
    {
     "name": "stdout",
     "output_type": "stream",
     "text": [
      "ret 9.550518713702383e-05\n",
      "LA.norm(trackline.diffs)>15*np.std(coefnorm): -148.510854581\n",
      "dist_diff 37.5311098848\n"
     ]
    },
    {
     "name": "stderr",
     "output_type": "stream",
     "text": [
      "\r",
      " 25%|███████████████████▉                                                           | 319/1261 [03:47<11:31,  1.36it/s]"
     ]
    },
    {
     "name": "stdout",
     "output_type": "stream",
     "text": [
      "ret 0.00011556965255754559\n",
      "LA.norm(trackline.diffs)>15*np.std(coefnorm): -185.231524354\n",
      "dist_diff 25.3722870821\n"
     ]
    },
    {
     "name": "stderr",
     "output_type": "stream",
     "text": [
      "\r",
      " 25%|████████████████████                                                           | 320/1261 [03:48<11:28,  1.37it/s]"
     ]
    },
    {
     "name": "stdout",
     "output_type": "stream",
     "text": [
      "ret 0.00010732664071849696\n",
      "LA.norm(trackline.diffs)>15*np.std(coefnorm): -198.116904285\n",
      "dist_diff 18.8675483064\n"
     ]
    },
    {
     "name": "stderr",
     "output_type": "stream",
     "text": [
      "\r",
      " 25%|████████████████████                                                           | 321/1261 [03:49<11:32,  1.36it/s]"
     ]
    },
    {
     "name": "stdout",
     "output_type": "stream",
     "text": [
      "ret 7.309307874792115e-06\n",
      "LA.norm(trackline.diffs)>15*np.std(coefnorm): -208.179402872\n",
      "dist_diff 10.457559731\n"
     ]
    },
    {
     "name": "stderr",
     "output_type": "stream",
     "text": [
      "\r",
      " 26%|████████████████████▏                                                          | 322/1261 [03:50<11:31,  1.36it/s]"
     ]
    },
    {
     "name": "stdout",
     "output_type": "stream",
     "text": [
      "ret 2.9717405123530494e-05\n",
      "LA.norm(trackline.diffs)>15*np.std(coefnorm): -214.546080338\n",
      "dist_diff 8.94280379028\n"
     ]
    },
    {
     "name": "stderr",
     "output_type": "stream",
     "text": [
      "\r",
      " 26%|████████████████████▏                                                          | 323/1261 [03:50<11:29,  1.36it/s]"
     ]
    },
    {
     "name": "stdout",
     "output_type": "stream",
     "text": [
      "ret 6.815433448936759e-05\n",
      "LA.norm(trackline.diffs)>15*np.std(coefnorm): -147.939785643\n",
      "dist_diff 1.07116106426\n"
     ]
    },
    {
     "name": "stderr",
     "output_type": "stream",
     "text": [
      "\r",
      " 26%|████████████████████▎                                                          | 324/1261 [03:51<11:24,  1.37it/s]"
     ]
    },
    {
     "name": "stdout",
     "output_type": "stream",
     "text": [
      "ret 1.370685917490011e-05\n",
      "LA.norm(trackline.diffs)>15*np.std(coefnorm): -175.221067405\n",
      "dist_diff 0.0795270678352\n"
     ]
    },
    {
     "name": "stderr",
     "output_type": "stream",
     "text": [
      "\r",
      " 26%|████████████████████▎                                                          | 325/1261 [03:52<11:22,  1.37it/s]"
     ]
    },
    {
     "name": "stdout",
     "output_type": "stream",
     "text": [
      "ret 1.9198449638380133e-06\n",
      "LA.norm(trackline.diffs)>15*np.std(coefnorm): -168.155141916\n",
      "dist_diff 1.74804314592\n"
     ]
    },
    {
     "name": "stderr",
     "output_type": "stream",
     "text": [
      "\r",
      " 26%|████████████████████▍                                                          | 326/1261 [03:53<11:23,  1.37it/s]"
     ]
    },
    {
     "name": "stdout",
     "output_type": "stream",
     "text": [
      "ret 7.179572880089413e-05\n",
      "LA.norm(trackline.diffs)>15*np.std(coefnorm): -158.134382372\n",
      "dist_diff 5.26555689774\n"
     ]
    },
    {
     "name": "stderr",
     "output_type": "stream",
     "text": [
      "\r",
      " 26%|████████████████████▍                                                          | 327/1261 [03:53<11:20,  1.37it/s]"
     ]
    },
    {
     "name": "stdout",
     "output_type": "stream",
     "text": [
      "ret 3.899664541728853e-06\n",
      "LA.norm(trackline.diffs)>15*np.std(coefnorm): -168.113899605\n",
      "dist_diff 6.64696863907\n"
     ]
    },
    {
     "name": "stderr",
     "output_type": "stream",
     "text": [
      "\r",
      " 26%|████████████████████▌                                                          | 328/1261 [03:54<11:20,  1.37it/s]"
     ]
    },
    {
     "name": "stdout",
     "output_type": "stream",
     "text": [
      "ret 0.00012141645201446671\n",
      "LA.norm(trackline.diffs)>15*np.std(coefnorm): -136.392497253\n",
      "dist_diff 4.80595858219\n"
     ]
    },
    {
     "name": "stderr",
     "output_type": "stream",
     "text": [
      "\r",
      " 26%|████████████████████▌                                                          | 329/1261 [03:55<11:22,  1.37it/s]"
     ]
    },
    {
     "name": "stdout",
     "output_type": "stream",
     "text": [
      "ret 0.0001374790702757811\n",
      "LA.norm(trackline.diffs)>15*np.std(coefnorm): -179.802831418\n",
      "dist_diff 11.3556107798\n"
     ]
    },
    {
     "name": "stderr",
     "output_type": "stream",
     "text": [
      "\r",
      " 26%|████████████████████▋                                                          | 330/1261 [03:55<11:18,  1.37it/s]"
     ]
    },
    {
     "name": "stdout",
     "output_type": "stream",
     "text": [
      "ret 0.00015660083744484243\n",
      "LA.norm(trackline.diffs)>15*np.std(coefnorm): -164.083335463\n",
      "dist_diff 20.6385818256\n"
     ]
    },
    {
     "name": "stderr",
     "output_type": "stream",
     "text": [
      "\r",
      " 26%|████████████████████▋                                                          | 331/1261 [03:56<11:19,  1.37it/s]"
     ]
    },
    {
     "name": "stdout",
     "output_type": "stream",
     "text": [
      "ret 8.249570300739029e-05\n",
      "LA.norm(trackline.diffs)>15*np.std(coefnorm): -158.35049213\n",
      "dist_diff 6.07892947099\n"
     ]
    },
    {
     "name": "stderr",
     "output_type": "stream",
     "text": [
      "\r",
      " 26%|████████████████████▊                                                          | 332/1261 [03:57<11:21,  1.36it/s]"
     ]
    },
    {
     "name": "stdout",
     "output_type": "stream",
     "text": [
      "ret 5.402280562483153e-05\n",
      "LA.norm(trackline.diffs)>15*np.std(coefnorm): -120.753672898\n",
      "dist_diff 2.23966543159\n"
     ]
    },
    {
     "name": "stderr",
     "output_type": "stream",
     "text": [
      "\r",
      " 26%|████████████████████▊                                                          | 333/1261 [03:58<11:22,  1.36it/s]"
     ]
    },
    {
     "name": "stdout",
     "output_type": "stream",
     "text": [
      "ret 5.327118095732608e-05\n",
      "LA.norm(trackline.diffs)>15*np.std(coefnorm): -84.4901289836\n",
      "dist_diff 1.55231245913\n"
     ]
    },
    {
     "name": "stderr",
     "output_type": "stream",
     "text": [
      "\r",
      " 26%|████████████████████▉                                                          | 334/1261 [03:58<11:16,  1.37it/s]"
     ]
    },
    {
     "name": "stdout",
     "output_type": "stream",
     "text": [
      "ret 2.0746651579639508e-05\n",
      "LA.norm(trackline.diffs)>15*np.std(coefnorm): -88.5485840477\n",
      "dist_diff 2.79822194485\n"
     ]
    },
    {
     "name": "stderr",
     "output_type": "stream",
     "text": [
      "\r",
      " 27%|████████████████████▉                                                          | 335/1261 [03:59<11:17,  1.37it/s]"
     ]
    },
    {
     "name": "stdout",
     "output_type": "stream",
     "text": [
      "ret 0.00012840896826837866\n",
      "LA.norm(trackline.diffs)>15*np.std(coefnorm): -85.0509248266\n",
      "dist_diff 3.65171687487\n"
     ]
    },
    {
     "name": "stderr",
     "output_type": "stream",
     "text": [
      "\r",
      " 27%|█████████████████████                                                          | 336/1261 [04:00<11:15,  1.37it/s]"
     ]
    },
    {
     "name": "stdout",
     "output_type": "stream",
     "text": [
      "ret 2.5058188057480724e-05\n",
      "LA.norm(trackline.diffs)>15*np.std(coefnorm): -99.4714180891\n",
      "dist_diff 2.06061169867\n"
     ]
    },
    {
     "name": "stderr",
     "output_type": "stream",
     "text": [
      "\r",
      " 27%|█████████████████████                                                          | 337/1261 [04:01<11:15,  1.37it/s]"
     ]
    },
    {
     "name": "stdout",
     "output_type": "stream",
     "text": [
      "ret 6.267261558301485e-05\n",
      "LA.norm(trackline.diffs)>15*np.std(coefnorm): -126.949633684\n",
      "dist_diff 2.70430772248\n"
     ]
    },
    {
     "name": "stderr",
     "output_type": "stream",
     "text": [
      "\r",
      " 27%|█████████████████████▏                                                         | 338/1261 [04:01<11:15,  1.37it/s]"
     ]
    },
    {
     "name": "stdout",
     "output_type": "stream",
     "text": [
      "ret 6.352460022562845e-06\n",
      "LA.norm(trackline.diffs)>15*np.std(coefnorm): -143.210898372\n",
      "dist_diff 4.33516959065\n"
     ]
    },
    {
     "name": "stderr",
     "output_type": "stream",
     "text": [
      "\r",
      " 27%|█████████████████████▏                                                         | 339/1261 [04:02<11:16,  1.36it/s]"
     ]
    },
    {
     "name": "stdout",
     "output_type": "stream",
     "text": [
      "ret 0.00011930598788584268\n",
      "LA.norm(trackline.diffs)>15*np.std(coefnorm): -155.589262583\n",
      "dist_diff 3.85120961347\n"
     ]
    },
    {
     "name": "stderr",
     "output_type": "stream",
     "text": [
      "\r",
      " 27%|█████████████████████▎                                                         | 340/1261 [04:03<11:14,  1.37it/s]"
     ]
    },
    {
     "name": "stdout",
     "output_type": "stream",
     "text": [
      "ret 5.807032581117699e-05\n",
      "LA.norm(trackline.diffs)>15*np.std(coefnorm): -156.919410479\n",
      "dist_diff 11.5613008692\n"
     ]
    },
    {
     "name": "stderr",
     "output_type": "stream",
     "text": [
      "\r",
      " 27%|█████████████████████▎                                                         | 341/1261 [04:04<11:12,  1.37it/s]"
     ]
    },
    {
     "name": "stdout",
     "output_type": "stream",
     "text": [
      "ret 0.000248893563775332\n",
      "LA.norm(trackline.diffs)>15*np.std(coefnorm): -153.058205769\n",
      "dist_diff 0.410069946431\n"
     ]
    },
    {
     "name": "stderr",
     "output_type": "stream",
     "text": [
      "\r",
      " 27%|█████████████████████▍                                                         | 342/1261 [04:04<11:08,  1.37it/s]"
     ]
    },
    {
     "name": "stdout",
     "output_type": "stream",
     "text": [
      "ret 5.398225113606436e-05\n",
      "LA.norm(trackline.diffs)>15*np.std(coefnorm): -147.414359168\n",
      "dist_diff 3.18187731156\n"
     ]
    },
    {
     "name": "stderr",
     "output_type": "stream",
     "text": [
      "\r",
      " 27%|█████████████████████▍                                                         | 343/1261 [04:05<11:10,  1.37it/s]"
     ]
    },
    {
     "name": "stdout",
     "output_type": "stream",
     "text": [
      "ret 4.652747260580625e-05\n",
      "LA.norm(trackline.diffs)>15*np.std(coefnorm): -126.294547334\n",
      "dist_diff 4.53704914259\n"
     ]
    },
    {
     "name": "stderr",
     "output_type": "stream",
     "text": [
      "\r",
      " 27%|█████████████████████▌                                                         | 344/1261 [04:06<11:07,  1.37it/s]"
     ]
    },
    {
     "name": "stdout",
     "output_type": "stream",
     "text": [
      "ret 3.540585490641179e-05\n",
      "LA.norm(trackline.diffs)>15*np.std(coefnorm): -102.302695613\n",
      "dist_diff 3.05962808579\n"
     ]
    },
    {
     "name": "stderr",
     "output_type": "stream",
     "text": [
      "\r",
      " 27%|█████████████████████▌                                                         | 345/1261 [04:06<11:07,  1.37it/s]"
     ]
    },
    {
     "name": "stdout",
     "output_type": "stream",
     "text": [
      "ret 4.893382151133219e-05\n",
      "LA.norm(trackline.diffs)>15*np.std(coefnorm): -40.3283724541\n",
      "dist_diff 4.84420392011\n"
     ]
    },
    {
     "name": "stderr",
     "output_type": "stream",
     "text": [
      "\r",
      " 27%|█████████████████████▋                                                         | 346/1261 [04:07<11:07,  1.37it/s]"
     ]
    },
    {
     "name": "stdout",
     "output_type": "stream",
     "text": [
      "ret 3.7336309488933406e-05\n",
      "LA.norm(trackline.diffs)>15*np.std(coefnorm): -86.1055427148\n",
      "dist_diff 1.43969197371\n"
     ]
    },
    {
     "name": "stderr",
     "output_type": "stream",
     "text": [
      "\r",
      " 28%|█████████████████████▋                                                         | 347/1261 [04:08<11:06,  1.37it/s]"
     ]
    },
    {
     "name": "stdout",
     "output_type": "stream",
     "text": [
      "ret 6.989080108166235e-05\n",
      "LA.norm(trackline.diffs)>15*np.std(coefnorm): -77.3167499262\n",
      "dist_diff 2.62534968793\n"
     ]
    },
    {
     "name": "stderr",
     "output_type": "stream",
     "text": [
      "\r",
      " 28%|█████████████████████▊                                                         | 348/1261 [04:09<11:05,  1.37it/s]"
     ]
    },
    {
     "name": "stdout",
     "output_type": "stream",
     "text": [
      "ret 4.6574998205983764e-05\n",
      "LA.norm(trackline.diffs)>15*np.std(coefnorm): -107.781976479\n",
      "dist_diff 2.42863184082\n"
     ]
    },
    {
     "name": "stderr",
     "output_type": "stream",
     "text": [
      "\r",
      " 28%|█████████████████████▊                                                         | 349/1261 [04:09<11:02,  1.38it/s]"
     ]
    },
    {
     "name": "stdout",
     "output_type": "stream",
     "text": [
      "ret 8.551441163001661e-05\n",
      "LA.norm(trackline.diffs)>15*np.std(coefnorm): -100.393507718\n",
      "dist_diff 0.477454601554\n"
     ]
    },
    {
     "name": "stderr",
     "output_type": "stream",
     "text": [
      "\r",
      " 28%|█████████████████████▉                                                         | 350/1261 [04:10<11:03,  1.37it/s]"
     ]
    },
    {
     "name": "stdout",
     "output_type": "stream",
     "text": [
      "ret 1.5775653026128822e-05\n",
      "LA.norm(trackline.diffs)>15*np.std(coefnorm): -103.999772427\n",
      "dist_diff 1.08445843783\n"
     ]
    },
    {
     "name": "stderr",
     "output_type": "stream",
     "text": [
      "\r",
      " 28%|█████████████████████▉                                                         | 351/1261 [04:11<11:06,  1.37it/s]"
     ]
    },
    {
     "name": "stdout",
     "output_type": "stream",
     "text": [
      "ret 1.9767933089609446e-05\n",
      "LA.norm(trackline.diffs)>15*np.std(coefnorm): -94.4205234868\n",
      "dist_diff 4.45001490577\n"
     ]
    },
    {
     "name": "stderr",
     "output_type": "stream",
     "text": [
      "\r",
      " 28%|██████████████████████                                                         | 352/1261 [04:12<11:04,  1.37it/s]"
     ]
    },
    {
     "name": "stdout",
     "output_type": "stream",
     "text": [
      "ret 8.885633796656967e-05\n",
      "LA.norm(trackline.diffs)>15*np.std(coefnorm): -61.3837913593\n",
      "dist_diff 10.7470196036\n"
     ]
    },
    {
     "name": "stderr",
     "output_type": "stream",
     "text": [
      "\r",
      " 28%|██████████████████████                                                         | 353/1261 [04:12<11:03,  1.37it/s]"
     ]
    },
    {
     "name": "stdout",
     "output_type": "stream",
     "text": [
      "ret 2.9900763726664614e-06\n",
      "LA.norm(trackline.diffs)>15*np.std(coefnorm): -64.8641248594\n",
      "dist_diff 11.8317165085\n"
     ]
    },
    {
     "name": "stderr",
     "output_type": "stream",
     "text": [
      "\r",
      " 28%|██████████████████████▏                                                        | 354/1261 [04:13<11:02,  1.37it/s]"
     ]
    },
    {
     "name": "stdout",
     "output_type": "stream",
     "text": [
      "ret 1.70337820705746e-05\n",
      "LA.norm(trackline.diffs)>15*np.std(coefnorm): -56.6036762048\n",
      "dist_diff 9.26291928006\n"
     ]
    },
    {
     "name": "stderr",
     "output_type": "stream",
     "text": [
      "\r",
      " 28%|██████████████████████▏                                                        | 355/1261 [04:14<11:05,  1.36it/s]"
     ]
    },
    {
     "name": "stdout",
     "output_type": "stream",
     "text": [
      "ret 7.903246244322926e-05\n",
      "LA.norm(trackline.diffs)>15*np.std(coefnorm): -55.3293850264\n",
      "dist_diff 1.07831489035\n"
     ]
    },
    {
     "name": "stderr",
     "output_type": "stream",
     "text": [
      "\r",
      " 28%|██████████████████████▎                                                        | 356/1261 [04:14<11:04,  1.36it/s]"
     ]
    },
    {
     "name": "stdout",
     "output_type": "stream",
     "text": [
      "ret 4.20845681250448e-05\n",
      "LA.norm(trackline.diffs)>15*np.std(coefnorm): -52.5057010347\n",
      "dist_diff 2.75600116706\n"
     ]
    },
    {
     "name": "stderr",
     "output_type": "stream",
     "text": [
      "\r",
      " 28%|██████████████████████▎                                                        | 357/1261 [04:15<11:02,  1.36it/s]"
     ]
    },
    {
     "name": "stdout",
     "output_type": "stream",
     "text": [
      "ret 2.2855140462074708e-05\n",
      "LA.norm(trackline.diffs)>15*np.std(coefnorm): -55.4864367858\n",
      "dist_diff 2.01741234725\n"
     ]
    },
    {
     "name": "stderr",
     "output_type": "stream",
     "text": [
      "\r",
      " 28%|██████████████████████▍                                                        | 358/1261 [04:16<11:04,  1.36it/s]"
     ]
    },
    {
     "name": "stdout",
     "output_type": "stream",
     "text": [
      "ret 4.045205668323781e-06\n",
      "LA.norm(trackline.diffs)>15*np.std(coefnorm): -44.45549375\n",
      "dist_diff 7.28819943787\n"
     ]
    },
    {
     "name": "stderr",
     "output_type": "stream",
     "text": [
      "\r",
      " 28%|██████████████████████▍                                                        | 359/1261 [04:17<10:59,  1.37it/s]"
     ]
    },
    {
     "name": "stdout",
     "output_type": "stream",
     "text": [
      "ret 5.2825695668723416e-05\n",
      "LA.norm(trackline.diffs)>15*np.std(coefnorm): -47.9473949812\n",
      "dist_diff 7.26970956458\n"
     ]
    },
    {
     "name": "stderr",
     "output_type": "stream",
     "text": [
      "\r",
      " 29%|██████████████████████▌                                                        | 360/1261 [04:17<10:56,  1.37it/s]"
     ]
    },
    {
     "name": "stdout",
     "output_type": "stream",
     "text": [
      "ret 5.857297624589641e-05\n",
      "LA.norm(trackline.diffs)>15*np.std(coefnorm): -52.4174653121\n",
      "dist_diff 10.0558092212\n"
     ]
    },
    {
     "name": "stderr",
     "output_type": "stream",
     "text": [
      "\r",
      " 29%|██████████████████████▌                                                        | 361/1261 [04:18<10:57,  1.37it/s]"
     ]
    },
    {
     "name": "stdout",
     "output_type": "stream",
     "text": [
      "ret 9.790941847831469e-06\n",
      "LA.norm(trackline.diffs)>15*np.std(coefnorm): -37.6918921437\n",
      "dist_diff 15.500715533\n"
     ]
    },
    {
     "name": "stderr",
     "output_type": "stream",
     "text": [
      "\r",
      " 29%|██████████████████████▋                                                        | 362/1261 [04:19<11:03,  1.36it/s]"
     ]
    },
    {
     "name": "stdout",
     "output_type": "stream",
     "text": [
      "ret 6.5008688408974e-05\n",
      "LA.norm(trackline.diffs)>15*np.std(coefnorm): -25.6776074401\n",
      "dist_diff 17.002293819\n"
     ]
    },
    {
     "name": "stderr",
     "output_type": "stream",
     "text": [
      "\r",
      " 29%|██████████████████████▋                                                        | 363/1261 [04:20<11:12,  1.34it/s]"
     ]
    },
    {
     "name": "stdout",
     "output_type": "stream",
     "text": [
      "ret 0.0001793410513188931\n",
      "LA.norm(trackline.diffs)>15*np.std(coefnorm): -12.6123287365\n",
      "dist_diff 14.3264613513\n"
     ]
    },
    {
     "name": "stderr",
     "output_type": "stream",
     "text": [
      "\r",
      " 29%|██████████████████████▊                                                        | 364/1261 [04:20<11:16,  1.33it/s]"
     ]
    },
    {
     "name": "stdout",
     "output_type": "stream",
     "text": [
      "ret 1.9228084338074325e-05\n",
      "LA.norm(trackline.diffs)>15*np.std(coefnorm): -25.1947656233\n",
      "dist_diff 9.31871026182\n"
     ]
    },
    {
     "name": "stderr",
     "output_type": "stream",
     "text": [
      "\r",
      " 29%|██████████████████████▊                                                        | 365/1261 [04:21<11:23,  1.31it/s]"
     ]
    },
    {
     "name": "stdout",
     "output_type": "stream",
     "text": [
      "ret 0.00010337074433880433\n",
      "LA.norm(trackline.diffs)>15*np.std(coefnorm): -26.6368801894\n",
      "dist_diff 2.40490542377\n"
     ]
    },
    {
     "name": "stderr",
     "output_type": "stream",
     "text": [
      "\r",
      " 29%|██████████████████████▉                                                        | 366/1261 [04:22<11:14,  1.33it/s]"
     ]
    },
    {
     "name": "stdout",
     "output_type": "stream",
     "text": [
      "ret 5.365326326473019e-05\n",
      "LA.norm(trackline.diffs)>15*np.std(coefnorm): -44.1833755575\n",
      "dist_diff 1.82263586795\n"
     ]
    },
    {
     "name": "stderr",
     "output_type": "stream",
     "text": [
      "\r",
      " 29%|██████████████████████▉                                                        | 367/1261 [04:23<11:03,  1.35it/s]"
     ]
    },
    {
     "name": "stdout",
     "output_type": "stream",
     "text": [
      "ret 3.938680081067014e-05\n",
      "LA.norm(trackline.diffs)>15*np.std(coefnorm): -66.2729345414\n",
      "dist_diff 2.48734610299\n"
     ]
    },
    {
     "name": "stderr",
     "output_type": "stream",
     "text": [
      "\r",
      " 29%|███████████████████████                                                        | 368/1261 [04:23<10:52,  1.37it/s]"
     ]
    },
    {
     "name": "stdout",
     "output_type": "stream",
     "text": [
      "ret 8.455979863475349e-05\n",
      "LA.norm(trackline.diffs)>15*np.std(coefnorm): -100.872401426\n",
      "dist_diff 0.296130393501\n"
     ]
    },
    {
     "name": "stderr",
     "output_type": "stream",
     "text": [
      "\r",
      " 29%|███████████████████████                                                        | 369/1261 [04:24<10:51,  1.37it/s]"
     ]
    },
    {
     "name": "stdout",
     "output_type": "stream",
     "text": [
      "ret 6.924177636552509e-05\n",
      "LA.norm(trackline.diffs)>15*np.std(coefnorm): -101.859625243\n",
      "dist_diff 0.537946562235\n"
     ]
    },
    {
     "name": "stderr",
     "output_type": "stream",
     "text": [
      "\r",
      " 29%|███████████████████████▏                                                       | 370/1261 [04:25<10:48,  1.37it/s]"
     ]
    },
    {
     "name": "stdout",
     "output_type": "stream",
     "text": [
      "ret 9.632853696156518e-05\n",
      "LA.norm(trackline.diffs)>15*np.std(coefnorm): -111.215822141\n",
      "dist_diff 7.81025003636\n"
     ]
    },
    {
     "name": "stderr",
     "output_type": "stream",
     "text": [
      "\r",
      " 29%|███████████████████████▏                                                       | 371/1261 [04:26<10:47,  1.37it/s]"
     ]
    },
    {
     "name": "stdout",
     "output_type": "stream",
     "text": [
      "ret 5.1277107175784487e-05\n",
      "LA.norm(trackline.diffs)>15*np.std(coefnorm): -110.043150194\n",
      "dist_diff 7.61767007723\n"
     ]
    },
    {
     "name": "stderr",
     "output_type": "stream",
     "text": [
      "\r",
      " 30%|███████████████████████▎                                                       | 372/1261 [04:26<10:55,  1.36it/s]"
     ]
    },
    {
     "name": "stdout",
     "output_type": "stream",
     "text": [
      "ret 2.470467341536553e-05\n",
      "LA.norm(trackline.diffs)>15*np.std(coefnorm): -112.13610833\n",
      "dist_diff 7.02629582632\n"
     ]
    },
    {
     "name": "stderr",
     "output_type": "stream",
     "text": [
      "\r",
      " 30%|███████████████████████▎                                                       | 373/1261 [04:27<10:53,  1.36it/s]"
     ]
    },
    {
     "name": "stdout",
     "output_type": "stream",
     "text": [
      "ret 1.336596470064011e-05\n",
      "LA.norm(trackline.diffs)>15*np.std(coefnorm): -125.877312256\n",
      "dist_diff 2.10660805962\n"
     ]
    },
    {
     "name": "stderr",
     "output_type": "stream",
     "text": [
      "\r",
      " 30%|███████████████████████▍                                                       | 374/1261 [04:28<10:45,  1.37it/s]"
     ]
    },
    {
     "name": "stdout",
     "output_type": "stream",
     "text": [
      "ret 1.2206886282561946e-05\n",
      "LA.norm(trackline.diffs)>15*np.std(coefnorm): -86.1829876759\n",
      "dist_diff 0.657372915877\n"
     ]
    },
    {
     "name": "stderr",
     "output_type": "stream",
     "text": [
      "\r",
      " 30%|███████████████████████▍                                                       | 375/1261 [04:28<10:45,  1.37it/s]"
     ]
    },
    {
     "name": "stdout",
     "output_type": "stream",
     "text": [
      "ret 0.00019120999303690045\n",
      "LA.norm(trackline.diffs)>15*np.std(coefnorm): -72.9282255382\n",
      "dist_diff 0.904223832854\n"
     ]
    },
    {
     "name": "stderr",
     "output_type": "stream",
     "text": [
      "\r",
      " 30%|███████████████████████▌                                                       | 376/1261 [04:29<10:44,  1.37it/s]"
     ]
    },
    {
     "name": "stdout",
     "output_type": "stream",
     "text": [
      "ret 1.763470682686341e-05\n",
      "LA.norm(trackline.diffs)>15*np.std(coefnorm): -117.506545393\n",
      "dist_diff 1.35053044421\n"
     ]
    },
    {
     "name": "stderr",
     "output_type": "stream",
     "text": [
      "\r",
      " 30%|███████████████████████▌                                                       | 377/1261 [04:30<10:41,  1.38it/s]"
     ]
    },
    {
     "name": "stdout",
     "output_type": "stream",
     "text": [
      "ret 0.00010057706743993311\n",
      "LA.norm(trackline.diffs)>15*np.std(coefnorm): -130.838220828\n",
      "dist_diff 7.80764932608\n"
     ]
    },
    {
     "name": "stderr",
     "output_type": "stream",
     "text": [
      "\r",
      " 30%|███████████████████████▋                                                       | 378/1261 [04:31<10:34,  1.39it/s]"
     ]
    },
    {
     "name": "stdout",
     "output_type": "stream",
     "text": [
      "ret 5.6548819211243995e-05\n",
      "LA.norm(trackline.diffs)>15*np.std(coefnorm): -142.943251956\n",
      "dist_diff 7.3082641428\n"
     ]
    },
    {
     "name": "stderr",
     "output_type": "stream",
     "text": [
      "\r",
      " 30%|███████████████████████▋                                                       | 379/1261 [04:31<10:36,  1.38it/s]"
     ]
    },
    {
     "name": "stdout",
     "output_type": "stream",
     "text": [
      "ret 4.274465982634368e-05\n",
      "LA.norm(trackline.diffs)>15*np.std(coefnorm): -137.326362\n",
      "dist_diff 7.4472034173\n"
     ]
    },
    {
     "name": "stderr",
     "output_type": "stream",
     "text": [
      "\r",
      " 30%|███████████████████████▊                                                       | 380/1261 [04:32<10:34,  1.39it/s]"
     ]
    },
    {
     "name": "stdout",
     "output_type": "stream",
     "text": [
      "ret 2.8174960929716608e-05\n",
      "LA.norm(trackline.diffs)>15*np.std(coefnorm): -125.610141097\n",
      "dist_diff 6.67407562253\n"
     ]
    },
    {
     "name": "stderr",
     "output_type": "stream",
     "text": [
      "\r",
      " 30%|███████████████████████▊                                                       | 381/1261 [04:33<10:34,  1.39it/s]"
     ]
    },
    {
     "name": "stdout",
     "output_type": "stream",
     "text": [
      "ret 2.467822912005646e-05\n",
      "LA.norm(trackline.diffs)>15*np.std(coefnorm): -127.055928529\n",
      "dist_diff 4.64720064586\n"
     ]
    },
    {
     "name": "stderr",
     "output_type": "stream",
     "text": [
      "\r",
      " 30%|███████████████████████▉                                                       | 382/1261 [04:33<10:33,  1.39it/s]"
     ]
    },
    {
     "name": "stdout",
     "output_type": "stream",
     "text": [
      "ret 2.8265617508682617e-05\n",
      "LA.norm(trackline.diffs)>15*np.std(coefnorm): -128.484716104\n",
      "dist_diff 0.275817168595\n"
     ]
    },
    {
     "name": "stderr",
     "output_type": "stream",
     "text": [
      "\r",
      " 30%|███████████████████████▉                                                       | 383/1261 [04:34<10:40,  1.37it/s]"
     ]
    },
    {
     "name": "stdout",
     "output_type": "stream",
     "text": [
      "ret 1.7759988932275483e-05\n",
      "LA.norm(trackline.diffs)>15*np.std(coefnorm): -113.356571609\n",
      "dist_diff 3.02135267311\n"
     ]
    },
    {
     "name": "stderr",
     "output_type": "stream",
     "text": [
      "\r",
      " 30%|████████████████████████                                                       | 384/1261 [04:35<10:42,  1.37it/s]"
     ]
    },
    {
     "name": "stdout",
     "output_type": "stream",
     "text": [
      "ret 1.788304864241974e-05\n",
      "LA.norm(trackline.diffs)>15*np.std(coefnorm): -107.692850064\n",
      "dist_diff 1.26059686077\n"
     ]
    },
    {
     "name": "stderr",
     "output_type": "stream",
     "text": [
      "\r",
      " 31%|████████████████████████                                                       | 385/1261 [04:36<10:42,  1.36it/s]"
     ]
    },
    {
     "name": "stdout",
     "output_type": "stream",
     "text": [
      "ret 5.857306549272856e-05\n",
      "LA.norm(trackline.diffs)>15*np.std(coefnorm): -100.538781497\n",
      "dist_diff 3.30724500128\n"
     ]
    },
    {
     "name": "stderr",
     "output_type": "stream",
     "text": [
      "\r",
      " 31%|████████████████████████▏                                                      | 386/1261 [04:36<10:41,  1.36it/s]"
     ]
    },
    {
     "name": "stdout",
     "output_type": "stream",
     "text": [
      "ret 7.54622755313461e-05\n",
      "LA.norm(trackline.diffs)>15*np.std(coefnorm): -70.5612582388\n",
      "dist_diff 3.13854988052\n"
     ]
    },
    {
     "name": "stderr",
     "output_type": "stream",
     "text": [
      "\r",
      " 31%|████████████████████████▏                                                      | 387/1261 [04:37<10:40,  1.36it/s]"
     ]
    },
    {
     "name": "stdout",
     "output_type": "stream",
     "text": [
      "ret 3.176787134101522e-05\n",
      "LA.norm(trackline.diffs)>15*np.std(coefnorm): -69.8113997057\n",
      "dist_diff 4.98376525438\n"
     ]
    },
    {
     "name": "stderr",
     "output_type": "stream",
     "text": [
      "\r",
      " 31%|████████████████████████▎                                                      | 388/1261 [04:38<10:41,  1.36it/s]"
     ]
    },
    {
     "name": "stdout",
     "output_type": "stream",
     "text": [
      "ret 7.297993530436253e-05\n",
      "LA.norm(trackline.diffs)>15*np.std(coefnorm): -36.8931301264\n",
      "dist_diff 7.9010467785\n"
     ]
    },
    {
     "name": "stderr",
     "output_type": "stream",
     "text": [
      "\r",
      " 31%|████████████████████████▎                                                      | 389/1261 [04:39<10:36,  1.37it/s]"
     ]
    },
    {
     "name": "stdout",
     "output_type": "stream",
     "text": [
      "ret 5.515878304551691e-06\n",
      "LA.norm(trackline.diffs)>15*np.std(coefnorm): -20.0018980706\n",
      "dist_diff 6.85973534223\n"
     ]
    },
    {
     "name": "stderr",
     "output_type": "stream",
     "text": [
      "\r",
      " 31%|████████████████████████▍                                                      | 390/1261 [04:39<10:30,  1.38it/s]"
     ]
    },
    {
     "name": "stdout",
     "output_type": "stream",
     "text": [
      "ret 4.650446482895587e-05\n",
      "LA.norm(trackline.diffs)>15*np.std(coefnorm): -19.1487016676\n",
      "dist_diff 9.36327810623\n"
     ]
    },
    {
     "name": "stderr",
     "output_type": "stream",
     "text": [
      "\r",
      " 31%|████████████████████████▍                                                      | 391/1261 [04:40<10:30,  1.38it/s]"
     ]
    },
    {
     "name": "stdout",
     "output_type": "stream",
     "text": [
      "ret 2.9076995345933554e-06\n",
      "LA.norm(trackline.diffs)>15*np.std(coefnorm): -37.1836029784\n",
      "dist_diff 5.9227185356\n"
     ]
    },
    {
     "name": "stderr",
     "output_type": "stream",
     "text": [
      "\r",
      " 31%|████████████████████████▌                                                      | 392/1261 [04:41<10:34,  1.37it/s]"
     ]
    },
    {
     "name": "stdout",
     "output_type": "stream",
     "text": [
      "ret 8.69568819369948e-05\n",
      "LA.norm(trackline.diffs)>15*np.std(coefnorm): -49.929651169\n",
      "dist_diff 3.7943844629\n"
     ]
    },
    {
     "name": "stderr",
     "output_type": "stream",
     "text": [
      "\r",
      " 31%|████████████████████████▌                                                      | 393/1261 [04:42<10:35,  1.37it/s]"
     ]
    },
    {
     "name": "stdout",
     "output_type": "stream",
     "text": [
      "ret 1.2986819668769911e-05\n",
      "LA.norm(trackline.diffs)>15*np.std(coefnorm): -79.3296712286\n",
      "dist_diff 0.40516655831\n"
     ]
    },
    {
     "name": "stderr",
     "output_type": "stream",
     "text": [
      "\r",
      " 31%|████████████████████████▋                                                      | 394/1261 [04:42<10:34,  1.37it/s]"
     ]
    },
    {
     "name": "stdout",
     "output_type": "stream",
     "text": [
      "ret 7.021512399235652e-05\n",
      "LA.norm(trackline.diffs)>15*np.std(coefnorm): -89.6783660589\n",
      "dist_diff 1.76056646808\n"
     ]
    },
    {
     "name": "stderr",
     "output_type": "stream",
     "text": [
      "\r",
      " 31%|████████████████████████▋                                                      | 395/1261 [04:43<10:37,  1.36it/s]"
     ]
    },
    {
     "name": "stdout",
     "output_type": "stream",
     "text": [
      "ret 1.1120181338530877e-05\n",
      "LA.norm(trackline.diffs)>15*np.std(coefnorm): -91.7968447199\n",
      "dist_diff 1.23530372188\n"
     ]
    },
    {
     "name": "stderr",
     "output_type": "stream",
     "text": [
      "\r",
      " 31%|████████████████████████▊                                                      | 396/1261 [04:44<10:37,  1.36it/s]"
     ]
    },
    {
     "name": "stdout",
     "output_type": "stream",
     "text": [
      "ret 3.9311768337269015e-05\n",
      "LA.norm(trackline.diffs)>15*np.std(coefnorm): -85.502252993\n",
      "dist_diff 2.3573388493\n"
     ]
    },
    {
     "name": "stderr",
     "output_type": "stream",
     "text": [
      "\r",
      " 31%|████████████████████████▊                                                      | 397/1261 [04:44<10:35,  1.36it/s]"
     ]
    },
    {
     "name": "stdout",
     "output_type": "stream",
     "text": [
      "ret 2.763142604289559e-05\n",
      "LA.norm(trackline.diffs)>15*np.std(coefnorm): -74.012042041\n",
      "dist_diff 6.29927623181\n"
     ]
    },
    {
     "name": "stderr",
     "output_type": "stream",
     "text": [
      "\r",
      " 32%|████████████████████████▉                                                      | 398/1261 [04:45<10:30,  1.37it/s]"
     ]
    },
    {
     "name": "stdout",
     "output_type": "stream",
     "text": [
      "ret 1.3824871306855613e-05\n",
      "LA.norm(trackline.diffs)>15*np.std(coefnorm): -65.0627524147\n",
      "dist_diff 7.06834523124\n"
     ]
    },
    {
     "name": "stderr",
     "output_type": "stream",
     "text": [
      "\r",
      " 32%|████████████████████████▉                                                      | 399/1261 [04:46<10:31,  1.36it/s]"
     ]
    },
    {
     "name": "stdout",
     "output_type": "stream",
     "text": [
      "ret 2.5300758425161884e-05\n",
      "LA.norm(trackline.diffs)>15*np.std(coefnorm): -72.9741132644\n",
      "dist_diff 12.0192611297\n"
     ]
    },
    {
     "name": "stderr",
     "output_type": "stream",
     "text": [
      "\r",
      " 32%|█████████████████████████                                                      | 400/1261 [04:47<10:26,  1.37it/s]"
     ]
    },
    {
     "name": "stdout",
     "output_type": "stream",
     "text": [
      "ret 2.9094379965621808e-05\n",
      "LA.norm(trackline.diffs)>15*np.std(coefnorm): -58.1921917882\n",
      "dist_diff 14.6316325636\n"
     ]
    },
    {
     "name": "stderr",
     "output_type": "stream",
     "text": [
      "\r",
      " 32%|█████████████████████████                                                      | 401/1261 [04:47<10:22,  1.38it/s]"
     ]
    },
    {
     "name": "stdout",
     "output_type": "stream",
     "text": [
      "ret 9.918382211537846e-06\n",
      "LA.norm(trackline.diffs)>15*np.std(coefnorm): -59.8817462316\n",
      "dist_diff 14.6970174215\n"
     ]
    },
    {
     "name": "stderr",
     "output_type": "stream",
     "text": [
      "\r",
      " 32%|█████████████████████████▏                                                     | 402/1261 [04:48<10:22,  1.38it/s]"
     ]
    },
    {
     "name": "stdout",
     "output_type": "stream",
     "text": [
      "ret 0.00014292323399883733\n",
      "LA.norm(trackline.diffs)>15*np.std(coefnorm): -60.9700782878\n",
      "dist_diff 33.6760931178\n"
     ]
    },
    {
     "name": "stderr",
     "output_type": "stream",
     "text": [
      "\r",
      " 32%|█████████████████████████▏                                                     | 403/1261 [04:49<10:25,  1.37it/s]"
     ]
    },
    {
     "name": "stdout",
     "output_type": "stream",
     "text": [
      "ret 1.0500356012688172e-05\n",
      "LA.norm(trackline.diffs)>15*np.std(coefnorm): -76.5320657344\n",
      "dist_diff 31.0157705364\n"
     ]
    },
    {
     "name": "stderr",
     "output_type": "stream",
     "text": [
      "\r",
      " 32%|█████████████████████████▎                                                     | 404/1261 [04:50<10:23,  1.37it/s]"
     ]
    },
    {
     "name": "stdout",
     "output_type": "stream",
     "text": [
      "ret 1.450918589090966e-05\n",
      "LA.norm(trackline.diffs)>15*np.std(coefnorm): -69.4268481373\n",
      "dist_diff 31.9070741017\n"
     ]
    },
    {
     "name": "stderr",
     "output_type": "stream",
     "text": [
      "\r",
      " 32%|█████████████████████████▎                                                     | 405/1261 [04:50<10:24,  1.37it/s]"
     ]
    },
    {
     "name": "stdout",
     "output_type": "stream",
     "text": [
      "ret 3.3390860944448875e-05\n",
      "LA.norm(trackline.diffs)>15*np.std(coefnorm): -118.90824806\n",
      "dist_diff 25.7565023745\n"
     ]
    },
    {
     "name": "stderr",
     "output_type": "stream",
     "text": [
      "\r",
      " 32%|█████████████████████████▍                                                     | 406/1261 [04:51<10:23,  1.37it/s]"
     ]
    },
    {
     "name": "stdout",
     "output_type": "stream",
     "text": [
      "ret 6.095060829713894e-06\n",
      "LA.norm(trackline.diffs)>15*np.std(coefnorm): -127.356932675\n",
      "dist_diff 22.6915751566\n"
     ]
    },
    {
     "name": "stderr",
     "output_type": "stream",
     "text": [
      "\r",
      " 32%|█████████████████████████▍                                                     | 407/1261 [04:52<10:19,  1.38it/s]"
     ]
    },
    {
     "name": "stdout",
     "output_type": "stream",
     "text": [
      "ret 6.637664154696132e-05\n",
      "LA.norm(trackline.diffs)>15*np.std(coefnorm): -125.145966131\n",
      "dist_diff 17.963734883\n"
     ]
    },
    {
     "name": "stderr",
     "output_type": "stream",
     "text": [
      "\r",
      " 32%|█████████████████████████▌                                                     | 408/1261 [04:52<10:22,  1.37it/s]"
     ]
    },
    {
     "name": "stdout",
     "output_type": "stream",
     "text": [
      "ret 2.798097843370595e-06\n",
      "LA.norm(trackline.diffs)>15*np.std(coefnorm): -121.574802739\n",
      "dist_diff 17.532966161\n"
     ]
    },
    {
     "name": "stderr",
     "output_type": "stream",
     "text": [
      "\r",
      " 32%|█████████████████████████▌                                                     | 409/1261 [04:53<10:23,  1.37it/s]"
     ]
    },
    {
     "name": "stdout",
     "output_type": "stream",
     "text": [
      "ret 5.739178413688428e-05\n",
      "LA.norm(trackline.diffs)>15*np.std(coefnorm): -114.717485059\n",
      "dist_diff 16.7805605286\n"
     ]
    },
    {
     "name": "stderr",
     "output_type": "stream",
     "text": [
      "\r",
      " 33%|█████████████████████████▋                                                     | 410/1261 [04:54<10:21,  1.37it/s]"
     ]
    },
    {
     "name": "stdout",
     "output_type": "stream",
     "text": [
      "ret 3.924313491937559e-05\n",
      "LA.norm(trackline.diffs)>15*np.std(coefnorm): -101.742152478\n",
      "dist_diff 16.4916684449\n"
     ]
    },
    {
     "name": "stderr",
     "output_type": "stream",
     "text": [
      "\r",
      " 33%|█████████████████████████▋                                                     | 411/1261 [04:55<10:18,  1.37it/s]"
     ]
    },
    {
     "name": "stdout",
     "output_type": "stream",
     "text": [
      "ret 5.6352700492645624e-06\n",
      "LA.norm(trackline.diffs)>15*np.std(coefnorm): -90.5579658862\n",
      "dist_diff 16.9494139774\n"
     ]
    },
    {
     "name": "stderr",
     "output_type": "stream",
     "text": [
      "\r",
      " 33%|█████████████████████████▊                                                     | 412/1261 [04:55<10:16,  1.38it/s]"
     ]
    },
    {
     "name": "stdout",
     "output_type": "stream",
     "text": [
      "ret 7.040030859090107e-05\n",
      "LA.norm(trackline.diffs)>15*np.std(coefnorm): -64.5313518503\n",
      "dist_diff 9.67486640556\n"
     ]
    },
    {
     "name": "stderr",
     "output_type": "stream",
     "text": [
      "\r",
      " 33%|█████████████████████████▊                                                     | 413/1261 [04:56<10:16,  1.37it/s]"
     ]
    },
    {
     "name": "stdout",
     "output_type": "stream",
     "text": [
      "ret 6.557154999531356e-07\n",
      "LA.norm(trackline.diffs)>15*np.std(coefnorm): -62.7148296531\n",
      "dist_diff 11.4579550164\n"
     ]
    },
    {
     "name": "stderr",
     "output_type": "stream",
     "text": [
      "\r",
      " 33%|█████████████████████████▉                                                     | 414/1261 [04:57<10:18,  1.37it/s]"
     ]
    },
    {
     "name": "stdout",
     "output_type": "stream",
     "text": [
      "ret 8.046552033408316e-05\n",
      "LA.norm(trackline.diffs)>15*np.std(coefnorm): -39.9550587271\n",
      "dist_diff 25.7027615029\n"
     ]
    },
    {
     "name": "stderr",
     "output_type": "stream",
     "text": [
      "\r",
      " 33%|█████████████████████████▉                                                     | 415/1261 [04:58<10:20,  1.36it/s]"
     ]
    },
    {
     "name": "stdout",
     "output_type": "stream",
     "text": [
      "ret 3.7691650367766005e-05\n",
      "LA.norm(trackline.diffs)>15*np.std(coefnorm): -110.552815502\n",
      "dist_diff 23.5035872864\n"
     ]
    },
    {
     "name": "stderr",
     "output_type": "stream",
     "text": [
      "\r",
      " 33%|██████████████████████████                                                     | 416/1261 [04:58<10:18,  1.37it/s]"
     ]
    },
    {
     "name": "stdout",
     "output_type": "stream",
     "text": [
      "ret 2.5305465812308636e-05\n",
      "LA.norm(trackline.diffs)>15*np.std(coefnorm): -118.110962199\n",
      "dist_diff 20.7386219363\n"
     ]
    },
    {
     "name": "stderr",
     "output_type": "stream",
     "text": [
      "\r",
      " 33%|██████████████████████████                                                     | 417/1261 [04:59<10:15,  1.37it/s]"
     ]
    },
    {
     "name": "stdout",
     "output_type": "stream",
     "text": [
      "ret 4.082348524053758e-05\n",
      "LA.norm(trackline.diffs)>15*np.std(coefnorm): -157.852697851\n",
      "dist_diff 13.6299267819\n"
     ]
    },
    {
     "name": "stderr",
     "output_type": "stream",
     "text": [
      "\r",
      " 33%|██████████████████████████▏                                                    | 418/1261 [05:00<10:13,  1.37it/s]"
     ]
    },
    {
     "name": "stdout",
     "output_type": "stream",
     "text": [
      "ret 5.440009209273233e-05\n",
      "LA.norm(trackline.diffs)>15*np.std(coefnorm): -164.501335659\n",
      "dist_diff 8.83534009153\n"
     ]
    },
    {
     "name": "stderr",
     "output_type": "stream",
     "text": [
      "\r",
      " 33%|██████████████████████████▏                                                    | 419/1261 [05:01<10:10,  1.38it/s]"
     ]
    },
    {
     "name": "stdout",
     "output_type": "stream",
     "text": [
      "ret 5.980999232274575e-05\n",
      "LA.norm(trackline.diffs)>15*np.std(coefnorm): -155.578748562\n",
      "dist_diff 10.6332409175\n"
     ]
    },
    {
     "name": "stderr",
     "output_type": "stream",
     "text": [
      "\r",
      " 33%|██████████████████████████▎                                                    | 420/1261 [05:01<10:05,  1.39it/s]"
     ]
    },
    {
     "name": "stdout",
     "output_type": "stream",
     "text": [
      "ret 1.788358819687641e-05\n",
      "LA.norm(trackline.diffs)>15*np.std(coefnorm): -135.702341765\n",
      "dist_diff 10.8039541656\n"
     ]
    },
    {
     "name": "stderr",
     "output_type": "stream",
     "text": [
      "\r",
      " 33%|██████████████████████████▍                                                    | 421/1261 [05:02<10:02,  1.39it/s]"
     ]
    },
    {
     "name": "stdout",
     "output_type": "stream",
     "text": [
      "ret 5.309560780597522e-06\n",
      "LA.norm(trackline.diffs)>15*np.std(coefnorm): -119.227839229\n",
      "dist_diff 17.2150265783\n"
     ]
    },
    {
     "name": "stderr",
     "output_type": "stream",
     "text": [
      "\r",
      " 33%|██████████████████████████▍                                                    | 422/1261 [05:03<10:04,  1.39it/s]"
     ]
    },
    {
     "name": "stdout",
     "output_type": "stream",
     "text": [
      "ret 7.001325508310119e-05\n",
      "LA.norm(trackline.diffs)>15*np.std(coefnorm): -119.805795667\n",
      "dist_diff 16.9531734509\n"
     ]
    },
    {
     "name": "stderr",
     "output_type": "stream",
     "text": [
      "\r",
      " 34%|██████████████████████████▌                                                    | 423/1261 [05:03<10:02,  1.39it/s]"
     ]
    },
    {
     "name": "stdout",
     "output_type": "stream",
     "text": [
      "ret 1.7668063794995525e-05\n",
      "LA.norm(trackline.diffs)>15*np.std(coefnorm): -105.896364835\n",
      "dist_diff 14.3864349706\n"
     ]
    },
    {
     "name": "stderr",
     "output_type": "stream",
     "text": [
      "\r",
      " 34%|██████████████████████████▌                                                    | 424/1261 [05:04<10:05,  1.38it/s]"
     ]
    },
    {
     "name": "stdout",
     "output_type": "stream",
     "text": [
      "ret 3.4067489400047e-06\n",
      "LA.norm(trackline.diffs)>15*np.std(coefnorm): -74.1878453041\n",
      "dist_diff 14.7359697057\n"
     ]
    },
    {
     "name": "stderr",
     "output_type": "stream",
     "text": [
      "\r",
      " 34%|██████████████████████████▋                                                    | 425/1261 [05:05<10:01,  1.39it/s]"
     ]
    },
    {
     "name": "stdout",
     "output_type": "stream",
     "text": [
      "ret 3.886615603260202e-05\n",
      "LA.norm(trackline.diffs)>15*np.std(coefnorm): -52.4077109818\n",
      "dist_diff 14.9573996175\n"
     ]
    },
    {
     "name": "stderr",
     "output_type": "stream",
     "text": [
      "\r",
      " 34%|██████████████████████████▋                                                    | 426/1261 [05:06<09:56,  1.40it/s]"
     ]
    },
    {
     "name": "stdout",
     "output_type": "stream",
     "text": [
      "ret 0.00013716771382510373\n",
      "LA.norm(trackline.diffs)>15*np.std(coefnorm): -67.4247924588\n",
      "dist_diff 30.8400084026\n"
     ]
    },
    {
     "name": "stderr",
     "output_type": "stream",
     "text": [
      "\r",
      " 34%|██████████████████████████▊                                                    | 427/1261 [05:06<09:53,  1.40it/s]"
     ]
    },
    {
     "name": "stdout",
     "output_type": "stream",
     "text": [
      "ret 1.3894495306088217e-05\n",
      "LA.norm(trackline.diffs)>15*np.std(coefnorm): -68.7188553785\n",
      "dist_diff 30.0721738444\n"
     ]
    },
    {
     "name": "stderr",
     "output_type": "stream",
     "text": [
      "\r",
      " 34%|██████████████████████████▊                                                    | 428/1261 [05:07<09:50,  1.41it/s]"
     ]
    },
    {
     "name": "stdout",
     "output_type": "stream",
     "text": [
      "ret 4.515266032062426e-05\n",
      "LA.norm(trackline.diffs)>15*np.std(coefnorm): -100.614885917\n",
      "dist_diff 27.6035864533\n"
     ]
    },
    {
     "name": "stderr",
     "output_type": "stream",
     "text": [
      "\r",
      " 34%|██████████████████████████▉                                                    | 429/1261 [05:08<09:52,  1.40it/s]"
     ]
    },
    {
     "name": "stdout",
     "output_type": "stream",
     "text": [
      "ret 1.275815360524124e-06\n",
      "LA.norm(trackline.diffs)>15*np.std(coefnorm): -122.316917053\n",
      "dist_diff 24.8091480495\n"
     ]
    },
    {
     "name": "stderr",
     "output_type": "stream",
     "text": [
      "\r",
      " 34%|██████████████████████████▉                                                    | 430/1261 [05:08<09:51,  1.40it/s]"
     ]
    },
    {
     "name": "stdout",
     "output_type": "stream",
     "text": [
      "ret 1.8443621737862514e-05\n",
      "LA.norm(trackline.diffs)>15*np.std(coefnorm): -121.63347902\n",
      "dist_diff 20.634457079\n"
     ]
    },
    {
     "name": "stderr",
     "output_type": "stream",
     "text": [
      "\r",
      " 34%|███████████████████████████                                                    | 431/1261 [05:09<09:50,  1.40it/s]"
     ]
    },
    {
     "name": "stdout",
     "output_type": "stream",
     "text": [
      "ret 3.4473310691451875e-05\n",
      "LA.norm(trackline.diffs)>15*np.std(coefnorm): -107.040583404\n",
      "dist_diff 18.3433297446\n"
     ]
    },
    {
     "name": "stderr",
     "output_type": "stream",
     "text": [
      "\r",
      " 34%|███████████████████████████                                                    | 432/1261 [05:10<09:52,  1.40it/s]"
     ]
    },
    {
     "name": "stdout",
     "output_type": "stream",
     "text": [
      "ret 1.8061355930687473e-05\n",
      "LA.norm(trackline.diffs)>15*np.std(coefnorm): -93.3634949084\n",
      "dist_diff 16.8053691376\n"
     ]
    },
    {
     "name": "stderr",
     "output_type": "stream",
     "text": [
      "\r",
      " 34%|███████████████████████████▏                                                   | 433/1261 [05:10<09:51,  1.40it/s]"
     ]
    },
    {
     "name": "stdout",
     "output_type": "stream",
     "text": [
      "ret 5.51725808038972e-05\n",
      "LA.norm(trackline.diffs)>15*np.std(coefnorm): -120.055508224\n",
      "dist_diff 21.6422048116\n"
     ]
    },
    {
     "name": "stderr",
     "output_type": "stream",
     "text": [
      "\r",
      " 34%|███████████████████████████▏                                                   | 434/1261 [05:11<09:49,  1.40it/s]"
     ]
    },
    {
     "name": "stdout",
     "output_type": "stream",
     "text": [
      "ret 2.478002716693739e-05\n",
      "LA.norm(trackline.diffs)>15*np.std(coefnorm): -121.073792208\n",
      "dist_diff 22.5705762236\n"
     ]
    },
    {
     "name": "stderr",
     "output_type": "stream",
     "text": [
      "\r",
      " 34%|███████████████████████████▎                                                   | 435/1261 [05:12<09:46,  1.41it/s]"
     ]
    },
    {
     "name": "stdout",
     "output_type": "stream",
     "text": [
      "ret 8.009229139072094e-06\n",
      "LA.norm(trackline.diffs)>15*np.std(coefnorm): -116.43264031\n",
      "dist_diff 23.928959794\n"
     ]
    },
    {
     "name": "stderr",
     "output_type": "stream",
     "text": [
      "\r",
      " 35%|███████████████████████████▎                                                   | 436/1261 [05:13<09:43,  1.41it/s]"
     ]
    },
    {
     "name": "stdout",
     "output_type": "stream",
     "text": [
      "ret 5.1781847018039784e-05\n",
      "LA.norm(trackline.diffs)>15*np.std(coefnorm): -78.0088076664\n",
      "dist_diff 33.4291886684\n"
     ]
    },
    {
     "name": "stderr",
     "output_type": "stream",
     "text": [
      "\r",
      " 35%|███████████████████████████▍                                                   | 437/1261 [05:13<09:43,  1.41it/s]"
     ]
    },
    {
     "name": "stdout",
     "output_type": "stream",
     "text": [
      "ret 7.908438780857008e-05\n",
      "LA.norm(trackline.diffs)>15*np.std(coefnorm): -106.101021414\n",
      "dist_diff 35.616371873\n"
     ]
    },
    {
     "name": "stderr",
     "output_type": "stream",
     "text": [
      "\r",
      " 35%|███████████████████████████▍                                                   | 438/1261 [05:14<09:41,  1.42it/s]"
     ]
    },
    {
     "name": "stdout",
     "output_type": "stream",
     "text": [
      "ret 5.212140973953616e-05\n",
      "LA.norm(trackline.diffs)>15*np.std(coefnorm): -89.4371763197\n",
      "dist_diff 31.4237952172\n"
     ]
    },
    {
     "name": "stderr",
     "output_type": "stream",
     "text": [
      "\r",
      " 35%|███████████████████████████▌                                                   | 439/1261 [05:15<09:39,  1.42it/s]"
     ]
    },
    {
     "name": "stdout",
     "output_type": "stream",
     "text": [
      "ret 0.00020837293556141834\n",
      "LA.norm(trackline.diffs)>15*np.std(coefnorm): -102.755240057\n",
      "dist_diff 17.0565781618\n"
     ]
    },
    {
     "name": "stderr",
     "output_type": "stream",
     "text": [
      "\r",
      " 35%|███████████████████████████▌                                                   | 440/1261 [05:15<09:39,  1.42it/s]"
     ]
    },
    {
     "name": "stdout",
     "output_type": "stream",
     "text": [
      "ret 4.790233682933076e-05\n",
      "LA.norm(trackline.diffs)>15*np.std(coefnorm): -128.66400382\n",
      "dist_diff 14.7303021927\n"
     ]
    },
    {
     "name": "stderr",
     "output_type": "stream",
     "text": [
      "\r",
      " 35%|███████████████████████████▋                                                   | 441/1261 [05:16<09:40,  1.41it/s]"
     ]
    },
    {
     "name": "stdout",
     "output_type": "stream",
     "text": [
      "ret 1.6129927881858297e-05\n",
      "LA.norm(trackline.diffs)>15*np.std(coefnorm): -143.228766597\n",
      "dist_diff 10.3191583628\n"
     ]
    },
    {
     "name": "stderr",
     "output_type": "stream",
     "text": [
      "\r",
      " 35%|███████████████████████████▋                                                   | 442/1261 [05:17<09:42,  1.41it/s]"
     ]
    },
    {
     "name": "stdout",
     "output_type": "stream",
     "text": [
      "ret 0.00011820804666995421\n",
      "LA.norm(trackline.diffs)>15*np.std(coefnorm): -159.285388967\n",
      "dist_diff 7.53278754994\n"
     ]
    },
    {
     "name": "stderr",
     "output_type": "stream",
     "text": [
      "\r",
      " 35%|███████████████████████████▊                                                   | 443/1261 [05:18<09:41,  1.41it/s]"
     ]
    },
    {
     "name": "stdout",
     "output_type": "stream",
     "text": [
      "ret 4.1320753208673455e-05\n",
      "LA.norm(trackline.diffs)>15*np.std(coefnorm): -136.851393226\n",
      "dist_diff 1.98936349754\n"
     ]
    },
    {
     "name": "stderr",
     "output_type": "stream",
     "text": [
      "\r",
      " 35%|███████████████████████████▊                                                   | 444/1261 [05:18<09:40,  1.41it/s]"
     ]
    },
    {
     "name": "stdout",
     "output_type": "stream",
     "text": [
      "ret 1.0837623860615597e-05\n",
      "LA.norm(trackline.diffs)>15*np.std(coefnorm): -115.829937846\n",
      "dist_diff 0.235031648039\n"
     ]
    },
    {
     "name": "stderr",
     "output_type": "stream",
     "text": [
      "\r",
      " 35%|███████████████████████████▉                                                   | 445/1261 [05:19<09:41,  1.40it/s]"
     ]
    },
    {
     "name": "stdout",
     "output_type": "stream",
     "text": [
      "ret 3.7277923476131125e-05\n",
      "LA.norm(trackline.diffs)>15*np.std(coefnorm): -130.567934228\n",
      "dist_diff 2.22436071229\n"
     ]
    },
    {
     "name": "stderr",
     "output_type": "stream",
     "text": [
      "\r",
      " 35%|███████████████████████████▉                                                   | 446/1261 [05:20<09:50,  1.38it/s]"
     ]
    },
    {
     "name": "stdout",
     "output_type": "stream",
     "text": [
      "ret 5.1467278064876165e-05\n",
      "LA.norm(trackline.diffs)>15*np.std(coefnorm): -111.584490759\n",
      "dist_diff 3.4482754304\n"
     ]
    },
    {
     "name": "stderr",
     "output_type": "stream",
     "text": [
      "\r",
      " 35%|████████████████████████████                                                   | 447/1261 [05:20<09:52,  1.37it/s]"
     ]
    },
    {
     "name": "stdout",
     "output_type": "stream",
     "text": [
      "ret 2.938599771312722e-05\n",
      "LA.norm(trackline.diffs)>15*np.std(coefnorm): -112.31828657\n",
      "dist_diff 3.60421828873\n"
     ]
    },
    {
     "name": "stderr",
     "output_type": "stream",
     "text": [
      "\r",
      " 36%|████████████████████████████                                                   | 448/1261 [05:21<09:54,  1.37it/s]"
     ]
    },
    {
     "name": "stdout",
     "output_type": "stream",
     "text": [
      "ret 2.285755911946019e-05\n",
      "LA.norm(trackline.diffs)>15*np.std(coefnorm): -99.1312616293\n",
      "dist_diff 12.2375804364\n"
     ]
    },
    {
     "name": "stderr",
     "output_type": "stream",
     "text": [
      "\r",
      " 36%|████████████████████████████▏                                                  | 449/1261 [05:22<09:55,  1.36it/s]"
     ]
    },
    {
     "name": "stdout",
     "output_type": "stream",
     "text": [
      "ret 2.178873391806002e-05\n",
      "LA.norm(trackline.diffs)>15*np.std(coefnorm): -115.949515635\n",
      "dist_diff 9.10574873729\n"
     ]
    },
    {
     "name": "stderr",
     "output_type": "stream",
     "text": [
      "\r",
      " 36%|████████████████████████████▏                                                  | 450/1261 [05:23<09:59,  1.35it/s]"
     ]
    },
    {
     "name": "stdout",
     "output_type": "stream",
     "text": [
      "ret 8.233635077120605e-05\n",
      "LA.norm(trackline.diffs)>15*np.std(coefnorm): -120.154788774\n",
      "dist_diff 0.20559570075\n"
     ]
    },
    {
     "name": "stderr",
     "output_type": "stream",
     "text": [
      "\r",
      " 36%|████████████████████████████▎                                                  | 451/1261 [05:23<10:02,  1.34it/s]"
     ]
    },
    {
     "name": "stdout",
     "output_type": "stream",
     "text": [
      "ret 4.7728943505187527e-05\n",
      "LA.norm(trackline.diffs)>15*np.std(coefnorm): -127.613693356\n",
      "dist_diff 5.15409825002\n"
     ]
    },
    {
     "name": "stderr",
     "output_type": "stream",
     "text": [
      "\r",
      " 36%|████████████████████████████▎                                                  | 452/1261 [05:24<10:05,  1.34it/s]"
     ]
    },
    {
     "name": "stdout",
     "output_type": "stream",
     "text": [
      "ret 3.337450546009313e-05\n",
      "LA.norm(trackline.diffs)>15*np.std(coefnorm): -132.384121043\n",
      "dist_diff 7.39550298797\n"
     ]
    },
    {
     "name": "stderr",
     "output_type": "stream",
     "text": [
      "\r",
      " 36%|████████████████████████████▍                                                  | 453/1261 [05:25<09:53,  1.36it/s]"
     ]
    },
    {
     "name": "stdout",
     "output_type": "stream",
     "text": [
      "ret 0.0001760700190183706\n",
      "LA.norm(trackline.diffs)>15*np.std(coefnorm): -115.778094672\n",
      "dist_diff 13.2233957376\n"
     ]
    },
    {
     "name": "stderr",
     "output_type": "stream",
     "text": [
      "\r",
      " 36%|████████████████████████████▍                                                  | 454/1261 [05:26<09:45,  1.38it/s]"
     ]
    },
    {
     "name": "stdout",
     "output_type": "stream",
     "text": [
      "ret 1.971658430005574e-05\n",
      "LA.norm(trackline.diffs)>15*np.std(coefnorm): -110.759548418\n",
      "dist_diff 11.0686531056\n"
     ]
    },
    {
     "name": "stderr",
     "output_type": "stream",
     "text": [
      "\r",
      " 36%|████████████████████████████▌                                                  | 455/1261 [05:26<09:41,  1.39it/s]"
     ]
    },
    {
     "name": "stdout",
     "output_type": "stream",
     "text": [
      "ret 3.434014174119593e-05\n",
      "LA.norm(trackline.diffs)>15*np.std(coefnorm): -102.539799186\n",
      "dist_diff 7.91919497397\n"
     ]
    },
    {
     "name": "stderr",
     "output_type": "stream",
     "text": [
      "\r",
      " 36%|████████████████████████████▌                                                  | 456/1261 [05:27<09:35,  1.40it/s]"
     ]
    },
    {
     "name": "stdout",
     "output_type": "stream",
     "text": [
      "ret 3.019825644545726e-06\n",
      "LA.norm(trackline.diffs)>15*np.std(coefnorm): -116.114364529\n",
      "dist_diff 3.62765791307\n"
     ]
    },
    {
     "name": "stderr",
     "output_type": "stream",
     "text": [
      "\r",
      " 36%|████████████████████████████▋                                                  | 457/1261 [05:28<09:31,  1.41it/s]"
     ]
    },
    {
     "name": "stdout",
     "output_type": "stream",
     "text": [
      "ret 1.607250078056177e-05\n",
      "LA.norm(trackline.diffs)>15*np.std(coefnorm): -116.057980065\n",
      "dist_diff 2.26384795897\n"
     ]
    },
    {
     "name": "stderr",
     "output_type": "stream",
     "text": [
      "\r",
      " 36%|████████████████████████████▋                                                  | 458/1261 [05:28<09:34,  1.40it/s]"
     ]
    },
    {
     "name": "stdout",
     "output_type": "stream",
     "text": [
      "ret 7.970396183587525e-05\n",
      "LA.norm(trackline.diffs)>15*np.std(coefnorm): -141.366557365\n",
      "dist_diff 1.96333400486\n"
     ]
    },
    {
     "name": "stderr",
     "output_type": "stream",
     "text": [
      "\r",
      " 36%|████████████████████████████▊                                                  | 459/1261 [05:29<09:50,  1.36it/s]"
     ]
    },
    {
     "name": "stdout",
     "output_type": "stream",
     "text": [
      "ret 4.219642528757728e-05\n",
      "LA.norm(trackline.diffs)>15*np.std(coefnorm): -119.894610203\n",
      "dist_diff 3.40255692038\n"
     ]
    },
    {
     "name": "stderr",
     "output_type": "stream",
     "text": [
      "\r",
      " 36%|████████████████████████████▊                                                  | 460/1261 [05:30<09:52,  1.35it/s]"
     ]
    },
    {
     "name": "stdout",
     "output_type": "stream",
     "text": [
      "ret 2.2539455016457044e-05\n",
      "LA.norm(trackline.diffs)>15*np.std(coefnorm): -96.1983449463\n",
      "dist_diff 6.02463350118\n"
     ]
    },
    {
     "name": "stderr",
     "output_type": "stream",
     "text": [
      "\r",
      " 37%|████████████████████████████▉                                                  | 461/1261 [05:31<09:54,  1.35it/s]"
     ]
    },
    {
     "name": "stdout",
     "output_type": "stream",
     "text": [
      "ret 2.1860985599864158e-05\n",
      "LA.norm(trackline.diffs)>15*np.std(coefnorm): -65.9647562471\n",
      "dist_diff 2.007917425\n"
     ]
    },
    {
     "name": "stderr",
     "output_type": "stream",
     "text": [
      "\r",
      " 37%|████████████████████████████▉                                                  | 462/1261 [05:31<09:51,  1.35it/s]"
     ]
    },
    {
     "name": "stdout",
     "output_type": "stream",
     "text": [
      "ret 4.890001196872218e-05\n",
      "LA.norm(trackline.diffs)>15*np.std(coefnorm): -54.7769047514\n",
      "dist_diff 1.23288514823\n"
     ]
    },
    {
     "name": "stderr",
     "output_type": "stream",
     "text": [
      "\r",
      " 37%|█████████████████████████████                                                  | 463/1261 [05:32<09:47,  1.36it/s]"
     ]
    },
    {
     "name": "stdout",
     "output_type": "stream",
     "text": [
      "ret 0.000113477257533523\n",
      "LA.norm(trackline.diffs)>15*np.std(coefnorm): -84.5821466075\n",
      "dist_diff 0.0959797325852\n"
     ]
    },
    {
     "name": "stderr",
     "output_type": "stream",
     "text": [
      "\r",
      " 37%|█████████████████████████████                                                  | 464/1261 [05:33<09:41,  1.37it/s]"
     ]
    },
    {
     "name": "stdout",
     "output_type": "stream",
     "text": [
      "ret 3.8015059158957865e-05\n",
      "LA.norm(trackline.diffs)>15*np.std(coefnorm): -86.1478510447\n",
      "dist_diff 3.30517472364\n"
     ]
    },
    {
     "name": "stderr",
     "output_type": "stream",
     "text": [
      "\r",
      " 37%|█████████████████████████████▏                                                 | 465/1261 [05:34<09:38,  1.38it/s]"
     ]
    },
    {
     "name": "stdout",
     "output_type": "stream",
     "text": [
      "ret 0.0001069007199396288\n",
      "LA.norm(trackline.diffs)>15*np.std(coefnorm): -119.07117977\n",
      "dist_diff 6.5215396891\n"
     ]
    },
    {
     "name": "stderr",
     "output_type": "stream",
     "text": [
      "\r",
      " 37%|█████████████████████████████▏                                                 | 466/1261 [05:34<09:38,  1.37it/s]"
     ]
    },
    {
     "name": "stdout",
     "output_type": "stream",
     "text": [
      "ret 4.353613391439026e-05\n",
      "LA.norm(trackline.diffs)>15*np.std(coefnorm): -128.068482904\n",
      "dist_diff 1.20220928713\n"
     ]
    },
    {
     "name": "stderr",
     "output_type": "stream",
     "text": [
      "\r",
      " 37%|█████████████████████████████▎                                                 | 467/1261 [05:35<09:35,  1.38it/s]"
     ]
    },
    {
     "name": "stdout",
     "output_type": "stream",
     "text": [
      "ret 2.8872740033103472e-05\n",
      "LA.norm(trackline.diffs)>15*np.std(coefnorm): -134.716360014\n",
      "dist_diff 3.88088938813\n"
     ]
    },
    {
     "name": "stderr",
     "output_type": "stream",
     "text": [
      "\r",
      " 37%|█████████████████████████████▎                                                 | 468/1261 [05:36<09:32,  1.39it/s]"
     ]
    },
    {
     "name": "stdout",
     "output_type": "stream",
     "text": [
      "ret 5.7261910960337836e-05\n",
      "LA.norm(trackline.diffs)>15*np.std(coefnorm): -153.815697889\n",
      "dist_diff 10.3643234584\n"
     ]
    },
    {
     "name": "stderr",
     "output_type": "stream",
     "text": [
      "\r",
      " 37%|█████████████████████████████▍                                                 | 469/1261 [05:37<09:31,  1.38it/s]"
     ]
    },
    {
     "name": "stdout",
     "output_type": "stream",
     "text": [
      "ret 9.241203986676272e-05\n",
      "LA.norm(trackline.diffs)>15*np.std(coefnorm): -118.72423653\n",
      "dist_diff 11.550668836\n"
     ]
    },
    {
     "name": "stderr",
     "output_type": "stream",
     "text": [
      "\r",
      " 37%|█████████████████████████████▍                                                 | 470/1261 [05:37<09:29,  1.39it/s]"
     ]
    },
    {
     "name": "stdout",
     "output_type": "stream",
     "text": [
      "ret 4.280229115527501e-05\n",
      "LA.norm(trackline.diffs)>15*np.std(coefnorm): -123.105411372\n",
      "dist_diff 15.0836079776\n"
     ]
    },
    {
     "name": "stderr",
     "output_type": "stream",
     "text": [
      "\r",
      " 37%|█████████████████████████████▌                                                 | 471/1261 [05:38<09:26,  1.39it/s]"
     ]
    },
    {
     "name": "stdout",
     "output_type": "stream",
     "text": [
      "ret 2.5100471192140983e-05\n",
      "LA.norm(trackline.diffs)>15*np.std(coefnorm): -91.7208076438\n",
      "dist_diff 17.3791591645\n"
     ]
    },
    {
     "name": "stderr",
     "output_type": "stream",
     "text": [
      "\r",
      " 37%|█████████████████████████████▌                                                 | 472/1261 [05:39<09:20,  1.41it/s]"
     ]
    },
    {
     "name": "stdout",
     "output_type": "stream",
     "text": [
      "ret 0.00016936263407169028\n",
      "LA.norm(trackline.diffs)>15*np.std(coefnorm): -76.8462542073\n",
      "dist_diff 36.7955908563\n"
     ]
    },
    {
     "name": "stderr",
     "output_type": "stream",
     "text": [
      "\r",
      " 38%|█████████████████████████████▋                                                 | 473/1261 [05:39<09:23,  1.40it/s]"
     ]
    },
    {
     "name": "stdout",
     "output_type": "stream",
     "text": [
      "ret 8.46775999502336e-06\n",
      "LA.norm(trackline.diffs)>15*np.std(coefnorm): -62.8539692969\n",
      "dist_diff 37.3131974824\n"
     ]
    },
    {
     "name": "stderr",
     "output_type": "stream",
     "text": [
      "\r",
      " 38%|█████████████████████████████▋                                                 | 474/1261 [05:40<09:21,  1.40it/s]"
     ]
    },
    {
     "name": "stdout",
     "output_type": "stream",
     "text": [
      "ret 3.48892778043175e-05\n",
      "LA.norm(trackline.diffs)>15*np.std(coefnorm): -59.2631609515\n",
      "dist_diff 31.3981222329\n"
     ]
    },
    {
     "name": "stderr",
     "output_type": "stream",
     "text": [
      "\r",
      " 38%|█████████████████████████████▊                                                 | 475/1261 [05:41<09:20,  1.40it/s]"
     ]
    },
    {
     "name": "stdout",
     "output_type": "stream",
     "text": [
      "ret 3.5285414180519226e-06\n",
      "LA.norm(trackline.diffs)>15*np.std(coefnorm): -64.0989693625\n",
      "dist_diff 28.1297785737\n"
     ]
    },
    {
     "name": "stderr",
     "output_type": "stream",
     "text": [
      "\r",
      " 38%|█████████████████████████████▊                                                 | 476/1261 [05:42<09:17,  1.41it/s]"
     ]
    },
    {
     "name": "stdout",
     "output_type": "stream",
     "text": [
      "ret 6.289857439562008e-05\n",
      "LA.norm(trackline.diffs)>15*np.std(coefnorm): -57.1227686926\n",
      "dist_diff 26.5624920557\n"
     ]
    },
    {
     "name": "stderr",
     "output_type": "stream",
     "text": [
      "\r",
      " 38%|█████████████████████████████▉                                                 | 477/1261 [05:42<09:19,  1.40it/s]"
     ]
    },
    {
     "name": "stdout",
     "output_type": "stream",
     "text": [
      "ret 6.687959342915883e-05\n",
      "LA.norm(trackline.diffs)>15*np.std(coefnorm): -51.6514842379\n",
      "dist_diff 17.8111916011\n"
     ]
    },
    {
     "name": "stderr",
     "output_type": "stream",
     "text": [
      "\r",
      " 38%|█████████████████████████████▉                                                 | 478/1261 [05:43<09:20,  1.40it/s]"
     ]
    },
    {
     "name": "stdout",
     "output_type": "stream",
     "text": [
      "ret 1.3785314635417212e-05\n",
      "LA.norm(trackline.diffs)>15*np.std(coefnorm): -68.5123826137\n",
      "dist_diff 16.9324085674\n"
     ]
    },
    {
     "name": "stderr",
     "output_type": "stream",
     "text": [
      "\r",
      " 38%|██████████████████████████████                                                 | 479/1261 [05:44<09:18,  1.40it/s]"
     ]
    },
    {
     "name": "stdout",
     "output_type": "stream",
     "text": [
      "ret 2.1553860681200465e-05\n",
      "LA.norm(trackline.diffs)>15*np.std(coefnorm): -75.2784105432\n",
      "dist_diff 15.52734781\n"
     ]
    },
    {
     "name": "stderr",
     "output_type": "stream",
     "text": [
      "\r",
      " 38%|██████████████████████████████                                                 | 480/1261 [05:44<09:20,  1.39it/s]"
     ]
    },
    {
     "name": "stdout",
     "output_type": "stream",
     "text": [
      "ret 4.036371990273624e-05\n",
      "LA.norm(trackline.diffs)>15*np.std(coefnorm): -122.466926103\n",
      "dist_diff 17.023615783\n"
     ]
    },
    {
     "name": "stderr",
     "output_type": "stream",
     "text": [
      "\r",
      " 38%|██████████████████████████████▏                                                | 481/1261 [05:45<09:20,  1.39it/s]"
     ]
    },
    {
     "name": "stdout",
     "output_type": "stream",
     "text": [
      "ret 9.133366147939803e-06\n",
      "LA.norm(trackline.diffs)>15*np.std(coefnorm): -146.654585094\n",
      "dist_diff 18.2550081461\n"
     ]
    },
    {
     "name": "stderr",
     "output_type": "stream",
     "text": [
      "\r",
      " 38%|██████████████████████████████▏                                                | 482/1261 [05:46<09:17,  1.40it/s]"
     ]
    },
    {
     "name": "stdout",
     "output_type": "stream",
     "text": [
      "ret 4.273098594465008e-06\n",
      "LA.norm(trackline.diffs)>15*np.std(coefnorm): -184.741826338\n",
      "dist_diff 18.434412741\n"
     ]
    },
    {
     "name": "stderr",
     "output_type": "stream",
     "text": [
      "\r",
      " 38%|██████████████████████████████▎                                                | 483/1261 [05:47<09:19,  1.39it/s]"
     ]
    },
    {
     "name": "stdout",
     "output_type": "stream",
     "text": [
      "ret 5.998853026567552e-05\n",
      "LA.norm(trackline.diffs)>15*np.std(coefnorm): -219.241808518\n",
      "dist_diff 28.1660083031\n"
     ]
    },
    {
     "name": "stderr",
     "output_type": "stream",
     "text": [
      "\r",
      " 38%|██████████████████████████████▎                                                | 484/1261 [05:47<09:16,  1.40it/s]"
     ]
    },
    {
     "name": "stdout",
     "output_type": "stream",
     "text": [
      "ret 2.4735623633809212e-05\n",
      "LA.norm(trackline.diffs)>15*np.std(coefnorm): -187.313871575\n",
      "dist_diff 28.4638464939\n"
     ]
    },
    {
     "name": "stderr",
     "output_type": "stream",
     "text": [
      "\r",
      " 38%|██████████████████████████████▍                                                | 485/1261 [05:48<09:18,  1.39it/s]"
     ]
    },
    {
     "name": "stdout",
     "output_type": "stream",
     "text": [
      "ret 5.8955125611492853e-05\n",
      "LA.norm(trackline.diffs)>15*np.std(coefnorm): -164.049849586\n",
      "dist_diff 42.2785108781\n"
     ]
    },
    {
     "name": "stderr",
     "output_type": "stream",
     "text": [
      "\r",
      " 39%|██████████████████████████████▍                                                | 486/1261 [05:49<09:21,  1.38it/s]"
     ]
    },
    {
     "name": "stdout",
     "output_type": "stream",
     "text": [
      "ret 5.277454373064927e-05\n",
      "LA.norm(trackline.diffs)>15*np.std(coefnorm): -122.688310011\n",
      "dist_diff 47.9735547301\n"
     ]
    },
    {
     "name": "stderr",
     "output_type": "stream",
     "text": [
      "\r",
      " 39%|██████████████████████████████▌                                                | 487/1261 [05:49<09:23,  1.37it/s]"
     ]
    },
    {
     "name": "stdout",
     "output_type": "stream",
     "text": [
      "ret 9.188898199452566e-06\n",
      "LA.norm(trackline.diffs)>15*np.std(coefnorm): -109.062086243\n",
      "dist_diff 48.8409162857\n"
     ]
    },
    {
     "name": "stderr",
     "output_type": "stream",
     "text": [
      "\r",
      " 39%|██████████████████████████████▌                                                | 488/1261 [05:50<09:25,  1.37it/s]"
     ]
    },
    {
     "name": "stdout",
     "output_type": "stream",
     "text": [
      "ret 0.00011582793553521764\n",
      "LA.norm(trackline.diffs)>15*np.std(coefnorm): -142.842793523\n",
      "dist_diff 38.0593818889\n"
     ]
    },
    {
     "name": "stderr",
     "output_type": "stream",
     "text": [
      "\r",
      " 39%|██████████████████████████████▋                                                | 489/1261 [05:51<09:18,  1.38it/s]"
     ]
    },
    {
     "name": "stdout",
     "output_type": "stream",
     "text": [
      "ret 2.1556371840203425e-05\n",
      "LA.norm(trackline.diffs)>15*np.std(coefnorm): -176.318643529\n",
      "dist_diff 33.2879861663\n"
     ]
    },
    {
     "name": "stderr",
     "output_type": "stream",
     "text": [
      "\r",
      " 39%|██████████████████████████████▋                                                | 490/1261 [05:52<09:13,  1.39it/s]"
     ]
    },
    {
     "name": "stdout",
     "output_type": "stream",
     "text": [
      "ret 3.5768952619252836e-05\n",
      "LA.norm(trackline.diffs)>15*np.std(coefnorm): -190.846056828\n",
      "dist_diff 29.894736956\n"
     ]
    },
    {
     "name": "stderr",
     "output_type": "stream",
     "text": [
      "\r",
      " 39%|██████████████████████████████▊                                                | 491/1261 [05:52<09:12,  1.39it/s]"
     ]
    },
    {
     "name": "stdout",
     "output_type": "stream",
     "text": [
      "ret 4.0872175636252894e-05\n",
      "LA.norm(trackline.diffs)>15*np.std(coefnorm): -204.863368372\n",
      "dist_diff 25.1888554141\n"
     ]
    },
    {
     "name": "stderr",
     "output_type": "stream",
     "text": [
      "\r",
      " 39%|██████████████████████████████▊                                                | 492/1261 [05:53<09:11,  1.39it/s]"
     ]
    },
    {
     "name": "stdout",
     "output_type": "stream",
     "text": [
      "ret 6.262569545611996e-06\n",
      "LA.norm(trackline.diffs)>15*np.std(coefnorm): -182.309081433\n",
      "dist_diff 20.399309993\n"
     ]
    },
    {
     "name": "stderr",
     "output_type": "stream",
     "text": [
      "\r",
      " 39%|██████████████████████████████▉                                                | 493/1261 [05:54<09:08,  1.40it/s]"
     ]
    },
    {
     "name": "stdout",
     "output_type": "stream",
     "text": [
      "ret 5.128865526876636e-05\n",
      "LA.norm(trackline.diffs)>15*np.std(coefnorm): -140.641577967\n",
      "dist_diff 15.405788772\n"
     ]
    },
    {
     "name": "stderr",
     "output_type": "stream",
     "text": [
      "\r",
      " 39%|██████████████████████████████▉                                                | 494/1261 [05:54<09:06,  1.40it/s]"
     ]
    },
    {
     "name": "stdout",
     "output_type": "stream",
     "text": [
      "ret 5.120548401960079e-06\n",
      "LA.norm(trackline.diffs)>15*np.std(coefnorm): -110.37536017\n",
      "dist_diff 12.6023167329\n"
     ]
    },
    {
     "name": "stderr",
     "output_type": "stream",
     "text": [
      "\r",
      " 39%|███████████████████████████████                                                | 495/1261 [05:55<09:06,  1.40it/s]"
     ]
    },
    {
     "name": "stdout",
     "output_type": "stream",
     "text": [
      "ret 2.59011475375881e-05\n",
      "LA.norm(trackline.diffs)>15*np.std(coefnorm): -68.9987421607\n",
      "dist_diff 8.09767447185\n"
     ]
    },
    {
     "name": "stderr",
     "output_type": "stream",
     "text": [
      "\r",
      " 39%|███████████████████████████████                                                | 496/1261 [05:56<09:05,  1.40it/s]"
     ]
    },
    {
     "name": "stdout",
     "output_type": "stream",
     "text": [
      "ret 7.468509756142216e-05\n",
      "LA.norm(trackline.diffs)>15*np.std(coefnorm): -55.024607541\n",
      "dist_diff 0.760660781773\n"
     ]
    },
    {
     "name": "stderr",
     "output_type": "stream",
     "text": [
      "\r",
      " 39%|███████████████████████████████▏                                               | 497/1261 [05:57<09:07,  1.40it/s]"
     ]
    },
    {
     "name": "stdout",
     "output_type": "stream",
     "text": [
      "ret 0.00011388549130209036\n",
      "LA.norm(trackline.diffs)>15*np.std(coefnorm): -68.6199838287\n",
      "dist_diff 14.7220440511\n"
     ]
    },
    {
     "name": "stderr",
     "output_type": "stream",
     "text": [
      "\r",
      " 39%|███████████████████████████████▏                                               | 498/1261 [05:57<09:07,  1.39it/s]"
     ]
    },
    {
     "name": "stdout",
     "output_type": "stream",
     "text": [
      "ret 2.082379258372402e-05\n",
      "LA.norm(trackline.diffs)>15*np.std(coefnorm): -81.6978614947\n",
      "dist_diff 12.7974104599\n"
     ]
    },
    {
     "name": "stderr",
     "output_type": "stream",
     "text": [
      "\r",
      " 40%|███████████████████████████████▎                                               | 499/1261 [05:58<09:06,  1.39it/s]"
     ]
    },
    {
     "name": "stdout",
     "output_type": "stream",
     "text": [
      "ret 2.600733880886441e-05\n",
      "LA.norm(trackline.diffs)>15*np.std(coefnorm): -72.3958977219\n",
      "dist_diff 7.9483285254\n"
     ]
    },
    {
     "name": "stderr",
     "output_type": "stream",
     "text": [
      "\r",
      " 40%|███████████████████████████████▎                                               | 500/1261 [05:59<09:08,  1.39it/s]"
     ]
    },
    {
     "name": "stdout",
     "output_type": "stream",
     "text": [
      "ret 1.1773225294942069e-05\n",
      "LA.norm(trackline.diffs)>15*np.std(coefnorm): -62.8239120008\n",
      "dist_diff 5.92569569898\n"
     ]
    },
    {
     "name": "stderr",
     "output_type": "stream",
     "text": [
      "\r",
      " 40%|███████████████████████████████▍                                               | 501/1261 [06:00<09:07,  1.39it/s]"
     ]
    },
    {
     "name": "stdout",
     "output_type": "stream",
     "text": [
      "ret 2.405849130693305e-05\n",
      "LA.norm(trackline.diffs)>15*np.std(coefnorm): -56.295855509\n",
      "dist_diff 4.29563077054\n"
     ]
    },
    {
     "name": "stderr",
     "output_type": "stream",
     "text": [
      "\r",
      " 40%|███████████████████████████████▍                                               | 502/1261 [06:00<09:08,  1.38it/s]"
     ]
    },
    {
     "name": "stdout",
     "output_type": "stream",
     "text": [
      "ret 2.2562958631899832e-05\n",
      "LA.norm(trackline.diffs)>15*np.std(coefnorm): -94.0234367109\n",
      "dist_diff 7.57032101238\n"
     ]
    },
    {
     "name": "stderr",
     "output_type": "stream",
     "text": [
      "\r",
      " 40%|███████████████████████████████▌                                               | 503/1261 [06:01<09:07,  1.38it/s]"
     ]
    },
    {
     "name": "stdout",
     "output_type": "stream",
     "text": [
      "ret 6.861397988278117e-06\n",
      "LA.norm(trackline.diffs)>15*np.std(coefnorm): -96.1139874237\n",
      "dist_diff 10.7310779291\n"
     ]
    },
    {
     "name": "stderr",
     "output_type": "stream",
     "text": [
      "\r",
      " 40%|███████████████████████████████▌                                               | 504/1261 [06:02<09:07,  1.38it/s]"
     ]
    },
    {
     "name": "stdout",
     "output_type": "stream",
     "text": [
      "ret 3.1415134671419764e-05\n",
      "LA.norm(trackline.diffs)>15*np.std(coefnorm): -103.129253097\n",
      "dist_diff 13.2750346873\n"
     ]
    },
    {
     "name": "stderr",
     "output_type": "stream",
     "text": [
      "\r",
      " 40%|███████████████████████████████▋                                               | 505/1261 [06:02<09:04,  1.39it/s]"
     ]
    },
    {
     "name": "stdout",
     "output_type": "stream",
     "text": [
      "ret 2.8627191128061114e-05\n",
      "LA.norm(trackline.diffs)>15*np.std(coefnorm): -122.101790666\n",
      "dist_diff 16.3658918997\n"
     ]
    },
    {
     "name": "stderr",
     "output_type": "stream",
     "text": [
      "\r",
      " 40%|███████████████████████████████▋                                               | 506/1261 [06:03<09:02,  1.39it/s]"
     ]
    },
    {
     "name": "stdout",
     "output_type": "stream",
     "text": [
      "ret 1.5829185003202184e-05\n",
      "LA.norm(trackline.diffs)>15*np.std(coefnorm): -132.396409241\n",
      "dist_diff 17.6248056132\n"
     ]
    },
    {
     "name": "stderr",
     "output_type": "stream",
     "text": [
      "\r",
      " 40%|███████████████████████████████▊                                               | 507/1261 [06:04<08:59,  1.40it/s]"
     ]
    },
    {
     "name": "stdout",
     "output_type": "stream",
     "text": [
      "ret 5.1829624038435274e-05\n",
      "LA.norm(trackline.diffs)>15*np.std(coefnorm): -164.292163497\n",
      "dist_diff 25.2377001536\n"
     ]
    },
    {
     "name": "stderr",
     "output_type": "stream",
     "text": [
      "\r",
      " 40%|███████████████████████████████▊                                               | 508/1261 [06:05<09:05,  1.38it/s]"
     ]
    },
    {
     "name": "stdout",
     "output_type": "stream",
     "text": [
      "ret 0.00010382641843059703\n",
      "LA.norm(trackline.diffs)>15*np.std(coefnorm): -134.521069717\n",
      "dist_diff 43.569287984\n"
     ]
    },
    {
     "name": "stderr",
     "output_type": "stream",
     "text": [
      "\r",
      " 40%|███████████████████████████████▉                                               | 509/1261 [06:05<09:00,  1.39it/s]"
     ]
    },
    {
     "name": "stdout",
     "output_type": "stream",
     "text": [
      "ret 3.462767762768548e-05\n",
      "LA.norm(trackline.diffs)>15*np.std(coefnorm): -93.2480815289\n",
      "dist_diff 41.4414038178\n"
     ]
    },
    {
     "name": "stderr",
     "output_type": "stream",
     "text": [
      "\r",
      " 40%|███████████████████████████████▉                                               | 510/1261 [06:06<09:04,  1.38it/s]"
     ]
    },
    {
     "name": "stdout",
     "output_type": "stream",
     "text": [
      "ret 9.91656939369201e-05\n",
      "LA.norm(trackline.diffs)>15*np.std(coefnorm): -84.2641674955\n",
      "dist_diff 33.1351414471\n"
     ]
    },
    {
     "name": "stderr",
     "output_type": "stream",
     "text": [
      "\r",
      " 41%|████████████████████████████████                                               | 511/1261 [06:07<09:06,  1.37it/s]"
     ]
    },
    {
     "name": "stdout",
     "output_type": "stream",
     "text": [
      "ret 0.00016503882477092446\n",
      "LA.norm(trackline.diffs)>15*np.std(coefnorm): -57.1723266551\n",
      "dist_diff 48.9032879016\n"
     ]
    },
    {
     "name": "stderr",
     "output_type": "stream",
     "text": [
      "\r",
      " 41%|████████████████████████████████                                               | 512/1261 [06:07<09:04,  1.37it/s]"
     ]
    },
    {
     "name": "stdout",
     "output_type": "stream",
     "text": [
      "ret 9.654412892284858e-05\n",
      "LA.norm(trackline.diffs)>15*np.std(coefnorm): -92.9102994023\n",
      "dist_diff 57.5077216281\n"
     ]
    },
    {
     "name": "stderr",
     "output_type": "stream",
     "text": [
      "\r",
      " 41%|████████████████████████████████▏                                              | 513/1261 [06:08<09:01,  1.38it/s]"
     ]
    },
    {
     "name": "stdout",
     "output_type": "stream",
     "text": [
      "ret 6.62368873291519e-05\n",
      "LA.norm(trackline.diffs)>15*np.std(coefnorm): -204.546529409\n",
      "dist_diff 45.9795400098\n"
     ]
    },
    {
     "name": "stderr",
     "output_type": "stream",
     "text": [
      "\r",
      " 41%|████████████████████████████████▏                                              | 514/1261 [06:09<09:00,  1.38it/s]"
     ]
    },
    {
     "name": "stdout",
     "output_type": "stream",
     "text": [
      "ret 6.688825032569179e-05\n",
      "LA.norm(trackline.diffs)>15*np.std(coefnorm): -242.886647599\n",
      "dist_diff 37.6197163032\n"
     ]
    },
    {
     "name": "stderr",
     "output_type": "stream",
     "text": [
      "\r",
      " 41%|████████████████████████████████▎                                              | 515/1261 [06:10<08:59,  1.38it/s]"
     ]
    },
    {
     "name": "stdout",
     "output_type": "stream",
     "text": [
      "ret 1.3639302178458657e-05\n",
      "LA.norm(trackline.diffs)>15*np.std(coefnorm): -271.686630581\n",
      "dist_diff 33.788697344\n"
     ]
    },
    {
     "name": "stderr",
     "output_type": "stream",
     "text": [
      "\r",
      " 41%|████████████████████████████████▎                                              | 516/1261 [06:10<09:03,  1.37it/s]"
     ]
    },
    {
     "name": "stdout",
     "output_type": "stream",
     "text": [
      "ret 7.982054107624759e-06\n",
      "LA.norm(trackline.diffs)>15*np.std(coefnorm): -271.286337795\n",
      "dist_diff 28.8480001689\n"
     ]
    },
    {
     "name": "stderr",
     "output_type": "stream",
     "text": [
      "\r",
      " 41%|████████████████████████████████▍                                              | 517/1261 [06:11<09:02,  1.37it/s]"
     ]
    },
    {
     "name": "stdout",
     "output_type": "stream",
     "text": [
      "ret 1.6210441930841757e-05\n",
      "LA.norm(trackline.diffs)>15*np.std(coefnorm): -237.468125851\n",
      "dist_diff 26.913504983\n"
     ]
    },
    {
     "name": "stderr",
     "output_type": "stream",
     "text": [
      "\r",
      " 41%|████████████████████████████████▍                                              | 518/1261 [06:12<09:02,  1.37it/s]"
     ]
    },
    {
     "name": "stdout",
     "output_type": "stream",
     "text": [
      "ret 3.7299503778009946e-05\n",
      "LA.norm(trackline.diffs)>15*np.std(coefnorm): -190.990536103\n",
      "dist_diff 20.4334669262\n"
     ]
    },
    {
     "name": "stderr",
     "output_type": "stream",
     "text": [
      "\r",
      " 41%|████████████████████████████████▌                                              | 519/1261 [06:13<09:01,  1.37it/s]"
     ]
    },
    {
     "name": "stdout",
     "output_type": "stream",
     "text": [
      "ret 4.397444213549706e-05\n",
      "LA.norm(trackline.diffs)>15*np.std(coefnorm): -179.951491818\n",
      "dist_diff 22.8616929308\n"
     ]
    },
    {
     "name": "stderr",
     "output_type": "stream",
     "text": [
      "\r",
      " 41%|████████████████████████████████▌                                              | 520/1261 [06:13<08:54,  1.39it/s]"
     ]
    },
    {
     "name": "stdout",
     "output_type": "stream",
     "text": [
      "ret 9.527344742205068e-05\n",
      "LA.norm(trackline.diffs)>15*np.std(coefnorm): -173.442549224\n",
      "dist_diff 33.1859314083\n"
     ]
    },
    {
     "name": "stderr",
     "output_type": "stream",
     "text": [
      "\r",
      " 41%|████████████████████████████████▋                                              | 521/1261 [06:14<08:50,  1.39it/s]"
     ]
    },
    {
     "name": "stdout",
     "output_type": "stream",
     "text": [
      "ret 1.900392571824172e-05\n",
      "LA.norm(trackline.diffs)>15*np.std(coefnorm): -143.488563197\n",
      "dist_diff 23.308264819\n"
     ]
    },
    {
     "name": "stderr",
     "output_type": "stream",
     "text": [
      "\r",
      " 41%|████████████████████████████████▋                                              | 522/1261 [06:15<08:48,  1.40it/s]"
     ]
    },
    {
     "name": "stdout",
     "output_type": "stream",
     "text": [
      "ret 8.77927895688857e-05\n",
      "LA.norm(trackline.diffs)>15*np.std(coefnorm): -143.828108\n",
      "dist_diff 15.5743798663\n"
     ]
    },
    {
     "name": "stderr",
     "output_type": "stream",
     "text": [
      "\r",
      " 41%|████████████████████████████████▊                                              | 523/1261 [06:15<08:49,  1.39it/s]"
     ]
    },
    {
     "name": "stdout",
     "output_type": "stream",
     "text": [
      "ret 2.6523971961622816e-05\n",
      "LA.norm(trackline.diffs)>15*np.std(coefnorm): -120.992994084\n",
      "dist_diff 16.1034846626\n"
     ]
    },
    {
     "name": "stderr",
     "output_type": "stream",
     "text": [
      "\r",
      " 42%|████████████████████████████████▊                                              | 524/1261 [06:16<08:48,  1.39it/s]"
     ]
    },
    {
     "name": "stdout",
     "output_type": "stream",
     "text": [
      "ret 6.828608329928487e-05\n",
      "LA.norm(trackline.diffs)>15*np.std(coefnorm): -98.1431073347\n",
      "dist_diff 13.6566014012\n"
     ]
    },
    {
     "name": "stderr",
     "output_type": "stream",
     "text": [
      "\r",
      " 42%|████████████████████████████████▉                                              | 525/1261 [06:17<08:52,  1.38it/s]"
     ]
    },
    {
     "name": "stdout",
     "output_type": "stream",
     "text": [
      "ret 4.200391567188433e-05\n",
      "LA.norm(trackline.diffs)>15*np.std(coefnorm): -66.4423374593\n",
      "dist_diff 11.5122193429\n"
     ]
    },
    {
     "name": "stderr",
     "output_type": "stream",
     "text": [
      "\r",
      " 42%|████████████████████████████████▉                                              | 526/1261 [06:18<08:51,  1.38it/s]"
     ]
    },
    {
     "name": "stdout",
     "output_type": "stream",
     "text": [
      "ret 3.9468347415860805e-05\n",
      "LA.norm(trackline.diffs)>15*np.std(coefnorm): -71.2966882664\n",
      "dist_diff 8.23951952576\n"
     ]
    },
    {
     "name": "stderr",
     "output_type": "stream",
     "text": [
      "\r",
      " 42%|█████████████████████████████████                                              | 527/1261 [06:18<08:56,  1.37it/s]"
     ]
    },
    {
     "name": "stdout",
     "output_type": "stream",
     "text": [
      "ret 4.5595608878679084e-05\n",
      "LA.norm(trackline.diffs)>15*np.std(coefnorm): -66.8962677595\n",
      "dist_diff 7.45769036659\n"
     ]
    },
    {
     "name": "stderr",
     "output_type": "stream",
     "text": [
      "\r",
      " 42%|█████████████████████████████████                                              | 528/1261 [06:19<09:01,  1.35it/s]"
     ]
    },
    {
     "name": "stdout",
     "output_type": "stream",
     "text": [
      "ret 0.00016709103243767176\n",
      "LA.norm(trackline.diffs)>15*np.std(coefnorm): -132.167277742\n",
      "dist_diff 21.9032446655\n"
     ]
    },
    {
     "name": "stderr",
     "output_type": "stream",
     "text": [
      "\r",
      " 42%|█████████████████████████████████▏                                             | 529/1261 [06:20<08:57,  1.36it/s]"
     ]
    },
    {
     "name": "stdout",
     "output_type": "stream",
     "text": [
      "ret 8.6202505580113e-05\n",
      "LA.norm(trackline.diffs)>15*np.std(coefnorm): -135.042351434\n",
      "dist_diff 35.3387538819\n"
     ]
    },
    {
     "name": "stderr",
     "output_type": "stream",
     "text": [
      "\r",
      " 42%|█████████████████████████████████▏                                             | 530/1261 [06:21<08:59,  1.35it/s]"
     ]
    },
    {
     "name": "stdout",
     "output_type": "stream",
     "text": [
      "ret 0.0001497396249433014\n",
      "LA.norm(trackline.diffs)>15*np.std(coefnorm): -143.823575803\n",
      "dist_diff 45.4614484228\n"
     ]
    },
    {
     "name": "stderr",
     "output_type": "stream",
     "text": [
      "\r",
      " 42%|█████████████████████████████████▎                                             | 531/1261 [06:21<08:52,  1.37it/s]"
     ]
    },
    {
     "name": "stdout",
     "output_type": "stream",
     "text": [
      "ret 0.00025411410074560603\n",
      "LA.norm(trackline.diffs)>15*np.std(coefnorm): -98.7132593354\n",
      "dist_diff 36.7830421886\n"
     ]
    },
    {
     "name": "stderr",
     "output_type": "stream",
     "text": [
      "\r",
      " 42%|█████████████████████████████████▎                                             | 532/1261 [06:22<08:50,  1.37it/s]"
     ]
    },
    {
     "name": "stdout",
     "output_type": "stream",
     "text": [
      "ret 6.016386077611902e-06\n",
      "LA.norm(trackline.diffs)>15*np.std(coefnorm): -64.8824891921\n",
      "dist_diff 37.9339930275\n"
     ]
    },
    {
     "name": "stderr",
     "output_type": "stream",
     "text": [
      "\r",
      " 42%|█████████████████████████████████▍                                             | 533/1261 [06:23<08:47,  1.38it/s]"
     ]
    },
    {
     "name": "stdout",
     "output_type": "stream",
     "text": [
      "ret 0.00017680690493776519\n",
      "LA.norm(trackline.diffs)>15*np.std(coefnorm): -68.4550269611\n",
      "dist_diff 20.2802859089\n"
     ]
    },
    {
     "name": "stderr",
     "output_type": "stream",
     "text": [
      "\r",
      " 42%|█████████████████████████████████▍                                             | 534/1261 [06:23<08:43,  1.39it/s]"
     ]
    },
    {
     "name": "stdout",
     "output_type": "stream",
     "text": [
      "ret 0.0001491215954692593\n",
      "LA.norm(trackline.diffs)>15*np.std(coefnorm): -94.083112434\n",
      "dist_diff 29.5231595472\n"
     ]
    },
    {
     "name": "stderr",
     "output_type": "stream",
     "text": [
      "\r",
      " 42%|█████████████████████████████████▌                                             | 535/1261 [06:24<08:40,  1.40it/s]"
     ]
    },
    {
     "name": "stdout",
     "output_type": "stream",
     "text": [
      "ret 5.831367489572692e-05\n",
      "LA.norm(trackline.diffs)>15*np.std(coefnorm): -84.5997068695\n",
      "dist_diff 31.0858303859\n"
     ]
    },
    {
     "name": "stderr",
     "output_type": "stream",
     "text": [
      "\r",
      " 43%|█████████████████████████████████▌                                             | 536/1261 [06:25<08:38,  1.40it/s]"
     ]
    },
    {
     "name": "stdout",
     "output_type": "stream",
     "text": [
      "ret 3.389201570985767e-05\n",
      "LA.norm(trackline.diffs)>15*np.std(coefnorm): -143.507961056\n",
      "dist_diff 31.6512410136\n"
     ]
    },
    {
     "name": "stderr",
     "output_type": "stream",
     "text": [
      "\r",
      " 43%|█████████████████████████████████▋                                             | 537/1261 [06:26<08:36,  1.40it/s]"
     ]
    },
    {
     "name": "stdout",
     "output_type": "stream",
     "text": [
      "ret 5.77624117046871e-05\n",
      "LA.norm(trackline.diffs)>15*np.std(coefnorm): -184.031951583\n",
      "dist_diff 31.2565133038\n"
     ]
    },
    {
     "name": "stderr",
     "output_type": "stream",
     "text": [
      "\r",
      " 43%|█████████████████████████████████▋                                             | 538/1261 [06:26<08:40,  1.39it/s]"
     ]
    },
    {
     "name": "stdout",
     "output_type": "stream",
     "text": [
      "ret 1.7542572237072562e-05\n",
      "LA.norm(trackline.diffs)>15*np.std(coefnorm): -267.58045577\n",
      "dist_diff 32.8157532285\n"
     ]
    },
    {
     "name": "stderr",
     "output_type": "stream",
     "text": [
      "\r",
      " 43%|█████████████████████████████████▊                                             | 539/1261 [06:27<08:42,  1.38it/s]"
     ]
    },
    {
     "name": "stdout",
     "output_type": "stream",
     "text": [
      "ret 0.00010443569429913202\n",
      "LA.norm(trackline.diffs)>15*np.std(coefnorm): -268.973439835\n",
      "dist_diff 31.7210332473\n"
     ]
    },
    {
     "name": "stderr",
     "output_type": "stream",
     "text": [
      "\r",
      " 43%|█████████████████████████████████▊                                             | 540/1261 [06:28<08:41,  1.38it/s]"
     ]
    },
    {
     "name": "stdout",
     "output_type": "stream",
     "text": [
      "ret 4.7943411467410435e-05\n",
      "LA.norm(trackline.diffs)>15*np.std(coefnorm): -366.297702748\n",
      "dist_diff 24.3871774492\n"
     ]
    },
    {
     "name": "stderr",
     "output_type": "stream",
     "text": [
      "\r",
      " 43%|█████████████████████████████████▉                                             | 541/1261 [06:28<08:42,  1.38it/s]"
     ]
    },
    {
     "name": "stdout",
     "output_type": "stream",
     "text": [
      "ret 3.6812253512763515e-05\n",
      "LA.norm(trackline.diffs)>15*np.std(coefnorm): -296.910522691\n",
      "dist_diff 23.5643647385\n"
     ]
    },
    {
     "name": "stderr",
     "output_type": "stream",
     "text": [
      "\r",
      " 43%|█████████████████████████████████▉                                             | 542/1261 [06:29<08:43,  1.37it/s]"
     ]
    },
    {
     "name": "stdout",
     "output_type": "stream",
     "text": [
      "ret 4.951282031223636e-05\n",
      "LA.norm(trackline.diffs)>15*np.std(coefnorm): -225.438387658\n",
      "dist_diff 33.666470938\n"
     ]
    },
    {
     "name": "stderr",
     "output_type": "stream",
     "text": [
      "\r",
      " 43%|██████████████████████████████████                                             | 543/1261 [06:30<08:43,  1.37it/s]"
     ]
    },
    {
     "name": "stdout",
     "output_type": "stream",
     "text": [
      "ret 0.0003007751336737141\n",
      "LA.norm(trackline.diffs)>15*np.std(coefnorm): -163.095019327\n",
      "dist_diff 25.9899325556\n"
     ]
    },
    {
     "name": "stderr",
     "output_type": "stream",
     "text": [
      "\r",
      " 43%|██████████████████████████████████                                             | 544/1261 [06:31<08:43,  1.37it/s]"
     ]
    },
    {
     "name": "stdout",
     "output_type": "stream",
     "text": [
      "ret 0.00017995044243068747\n",
      "LA.norm(trackline.diffs)>15*np.std(coefnorm): -170.255894361\n",
      "dist_diff 12.647052633\n"
     ]
    },
    {
     "name": "stderr",
     "output_type": "stream",
     "text": [
      "\r",
      " 43%|██████████████████████████████████▏                                            | 545/1261 [06:31<08:42,  1.37it/s]"
     ]
    },
    {
     "name": "stdout",
     "output_type": "stream",
     "text": [
      "ret 4.7467794870637015e-05\n",
      "LA.norm(trackline.diffs)>15*np.std(coefnorm): -142.46057945\n",
      "dist_diff 14.5757317833\n"
     ]
    },
    {
     "name": "stderr",
     "output_type": "stream",
     "text": [
      "\r",
      " 43%|██████████████████████████████████▏                                            | 546/1261 [06:32<08:39,  1.38it/s]"
     ]
    },
    {
     "name": "stdout",
     "output_type": "stream",
     "text": [
      "ret 0.00018426853997038917\n",
      "LA.norm(trackline.diffs)>15*np.std(coefnorm): -6.79605561411\n",
      "dist_diff 8.40784383678\n"
     ]
    },
    {
     "name": "stderr",
     "output_type": "stream",
     "text": [
      "\r",
      " 43%|██████████████████████████████████▎                                            | 547/1261 [06:33<08:38,  1.38it/s]"
     ]
    },
    {
     "name": "stdout",
     "output_type": "stream",
     "text": [
      "ret 5.6351337413218516e-05\n",
      "LA.norm(trackline.diffs)>15*np.std(coefnorm): -97.8830535601\n",
      "dist_diff 11.1455297695\n"
     ]
    },
    {
     "name": "stderr",
     "output_type": "stream",
     "text": [
      "\r",
      " 43%|██████████████████████████████████▎                                            | 548/1261 [06:34<08:44,  1.36it/s]"
     ]
    },
    {
     "name": "stdout",
     "output_type": "stream",
     "text": [
      "ret 0.0002818963193041979\n",
      "LA.norm(trackline.diffs)>15*np.std(coefnorm): -114.901977346\n",
      "dist_diff 8.66228363403\n"
     ]
    },
    {
     "name": "stderr",
     "output_type": "stream",
     "text": [
      "\r",
      " 44%|██████████████████████████████████▍                                            | 549/1261 [06:34<08:41,  1.37it/s]"
     ]
    },
    {
     "name": "stdout",
     "output_type": "stream",
     "text": [
      "ret 6.673348178720673e-06\n",
      "LA.norm(trackline.diffs)>15*np.std(coefnorm): -132.386933578\n",
      "dist_diff 14.1062501749\n"
     ]
    },
    {
     "name": "stderr",
     "output_type": "stream",
     "text": [
      "\r",
      " 44%|██████████████████████████████████▍                                            | 550/1261 [06:35<08:39,  1.37it/s]"
     ]
    },
    {
     "name": "stdout",
     "output_type": "stream",
     "text": [
      "ret 0.0002718973888526932\n",
      "LA.norm(trackline.diffs)>15*np.std(coefnorm): -92.548076353\n",
      "dist_diff 16.3292197632\n"
     ]
    },
    {
     "name": "stderr",
     "output_type": "stream",
     "text": [
      "\r",
      " 44%|██████████████████████████████████▌                                            | 551/1261 [06:36<08:35,  1.38it/s]"
     ]
    },
    {
     "name": "stdout",
     "output_type": "stream",
     "text": [
      "ret 0.00018018879438397306\n",
      "LA.norm(trackline.diffs)>15*np.std(coefnorm): -126.46096579\n",
      "dist_diff 42.3336238582\n"
     ]
    },
    {
     "name": "stderr",
     "output_type": "stream",
     "text": [
      "\r",
      " 44%|██████████████████████████████████▌                                            | 552/1261 [06:36<08:31,  1.39it/s]"
     ]
    },
    {
     "name": "stdout",
     "output_type": "stream",
     "text": [
      "ret 7.118292558672135e-05\n",
      "LA.norm(trackline.diffs)>15*np.std(coefnorm): -163.519673615\n",
      "dist_diff 64.0116071934\n"
     ]
    },
    {
     "name": "stderr",
     "output_type": "stream",
     "text": [
      "\r",
      " 44%|██████████████████████████████████▋                                            | 553/1261 [06:37<08:33,  1.38it/s]"
     ]
    },
    {
     "name": "stdout",
     "output_type": "stream",
     "text": [
      "ret 6.578349150476726e-05\n",
      "LA.norm(trackline.diffs)>15*np.std(coefnorm): -170.196511477\n",
      "dist_diff 97.5223093211\n"
     ]
    },
    {
     "name": "stderr",
     "output_type": "stream",
     "text": [
      "\r",
      " 44%|██████████████████████████████████▋                                            | 554/1261 [06:38<08:31,  1.38it/s]"
     ]
    },
    {
     "name": "stdout",
     "output_type": "stream",
     "text": [
      "ret 0.00022340045480928605\n",
      "LA.norm(trackline.diffs)>15*np.std(coefnorm): -151.08292635\n",
      "dist_diff 116.174872548\n"
     ]
    },
    {
     "name": "stderr",
     "output_type": "stream",
     "text": [
      "\r",
      " 44%|██████████████████████████████████▊                                            | 555/1261 [06:39<08:31,  1.38it/s]"
     ]
    },
    {
     "name": "stdout",
     "output_type": "stream",
     "text": [
      "ret 0.0008701464101059098\n",
      "LA.norm(trackline.diffs)>15*np.std(coefnorm): -94.6573812353\n",
      "dist_diff 126.903914109\n"
     ]
    },
    {
     "name": "stderr",
     "output_type": "stream",
     "text": [
      "\r",
      " 44%|██████████████████████████████████▊                                            | 556/1261 [06:39<08:31,  1.38it/s]"
     ]
    },
    {
     "name": "stdout",
     "output_type": "stream",
     "text": [
      "ret 0.001458957137943584\n",
      "LA.norm(trackline.diffs)>15*np.std(coefnorm): -241.581892163\n",
      "dist_diff 190.366630249\n"
     ]
    },
    {
     "name": "stderr",
     "output_type": "stream",
     "text": [
      "\r",
      " 44%|██████████████████████████████████▉                                            | 557/1261 [06:40<08:28,  1.38it/s]"
     ]
    },
    {
     "name": "stdout",
     "output_type": "stream",
     "text": [
      "ret 0.00047076649690103167\n",
      "LA.norm(trackline.diffs)>15*np.std(coefnorm): -96.5380487359\n",
      "dist_diff 218.493432327\n"
     ]
    },
    {
     "name": "stderr",
     "output_type": "stream",
     "text": [
      "\r",
      " 44%|██████████████████████████████████▉                                            | 558/1261 [06:41<08:24,  1.39it/s]"
     ]
    },
    {
     "name": "stdout",
     "output_type": "stream",
     "text": [
      "ret 0.0005714863514458268\n",
      "LA.norm(trackline.diffs)>15*np.std(coefnorm): -95.0875118707\n",
      "dist_diff 163.574173582\n"
     ]
    },
    {
     "name": "stderr",
     "output_type": "stream",
     "text": [
      "\r",
      " 44%|███████████████████████████████████                                            | 559/1261 [06:42<08:23,  1.39it/s]"
     ]
    },
    {
     "name": "stdout",
     "output_type": "stream",
     "text": [
      "ret 0.0004415264913304462\n",
      "LA.norm(trackline.diffs)>15*np.std(coefnorm): -257.958292498\n",
      "dist_diff 149.177784401\n"
     ]
    },
    {
     "name": "stderr",
     "output_type": "stream",
     "text": [
      "\r",
      " 44%|███████████████████████████████████                                            | 560/1261 [06:42<08:26,  1.38it/s]"
     ]
    },
    {
     "name": "stdout",
     "output_type": "stream",
     "text": [
      "ret 0.00039126874300510206\n",
      "LA.norm(trackline.diffs)>15*np.std(coefnorm): -480.348442538\n",
      "dist_diff 150.491970786\n"
     ]
    },
    {
     "name": "stderr",
     "output_type": "stream",
     "text": [
      "\r",
      " 44%|███████████████████████████████████▏                                           | 561/1261 [06:43<08:22,  1.39it/s]"
     ]
    },
    {
     "name": "stdout",
     "output_type": "stream",
     "text": [
      "ret 0.000382437479935438\n",
      "LA.norm(trackline.diffs)>15*np.std(coefnorm): -595.889705959\n",
      "dist_diff 155.459205054\n"
     ]
    },
    {
     "name": "stderr",
     "output_type": "stream",
     "text": [
      "\r",
      " 45%|███████████████████████████████████▏                                           | 562/1261 [06:44<08:21,  1.40it/s]"
     ]
    },
    {
     "name": "stdout",
     "output_type": "stream",
     "text": [
      "ret 0.0008331796682177761\n",
      "LA.norm(trackline.diffs)>15*np.std(coefnorm): -785.925583345\n",
      "dist_diff 172.133749171\n"
     ]
    },
    {
     "name": "stderr",
     "output_type": "stream",
     "text": [
      "\r",
      " 45%|███████████████████████████████████▎                                           | 563/1261 [06:44<08:19,  1.40it/s]"
     ]
    },
    {
     "name": "stdout",
     "output_type": "stream",
     "text": [
      "ret 0.0005572757485928781\n",
      "LA.norm(trackline.diffs)>15*np.std(coefnorm): -752.877493616\n",
      "dist_diff 182.516000873\n"
     ]
    },
    {
     "name": "stderr",
     "output_type": "stream",
     "text": [
      "\r",
      " 45%|███████████████████████████████████▎                                           | 564/1261 [06:45<08:17,  1.40it/s]"
     ]
    },
    {
     "name": "stdout",
     "output_type": "stream",
     "text": [
      "ret 6.702744933084759e-06\n",
      "LA.norm(trackline.diffs)>15*np.std(coefnorm): -730.97450369\n",
      "dist_diff 176.499222819\n"
     ]
    },
    {
     "name": "stderr",
     "output_type": "stream",
     "text": [
      "\r",
      " 45%|███████████████████████████████████▍                                           | 565/1261 [06:46<08:19,  1.39it/s]"
     ]
    },
    {
     "name": "stdout",
     "output_type": "stream",
     "text": [
      "ret 1.6850806167367782e-05\n",
      "LA.norm(trackline.diffs)>15*np.std(coefnorm): -671.984970652\n",
      "dist_diff 195.609544466\n"
     ]
    },
    {
     "name": "stderr",
     "output_type": "stream",
     "text": [
      "\r",
      " 45%|███████████████████████████████████▍                                           | 566/1261 [06:47<08:20,  1.39it/s]"
     ]
    },
    {
     "name": "stdout",
     "output_type": "stream",
     "text": [
      "ret 0.00043180713197488174\n",
      "LA.norm(trackline.diffs)>15*np.std(coefnorm): -858.461528092\n",
      "dist_diff 189.603125186\n"
     ]
    },
    {
     "name": "stderr",
     "output_type": "stream",
     "text": [
      "\r",
      " 45%|███████████████████████████████████▌                                           | 567/1261 [06:47<08:20,  1.39it/s]"
     ]
    },
    {
     "name": "stdout",
     "output_type": "stream",
     "text": [
      "ret 3.365379341568886e-05\n",
      "LA.norm(trackline.diffs)>15*np.std(coefnorm): -978.21460786\n",
      "dist_diff 175.563312348\n"
     ]
    },
    {
     "name": "stderr",
     "output_type": "stream",
     "text": [
      "\r",
      " 45%|███████████████████████████████████▌                                           | 568/1261 [06:48<08:19,  1.39it/s]"
     ]
    },
    {
     "name": "stdout",
     "output_type": "stream",
     "text": [
      "ret 9.828039028159097e-07\n",
      "LA.norm(trackline.diffs)>15*np.std(coefnorm): -1116.1420978\n",
      "dist_diff 165.528913918\n"
     ]
    },
    {
     "name": "stderr",
     "output_type": "stream",
     "text": [
      "\r",
      " 45%|███████████████████████████████████▋                                           | 569/1261 [06:49<08:20,  1.38it/s]"
     ]
    },
    {
     "name": "stdout",
     "output_type": "stream",
     "text": [
      "ret 0.00018358785297578617\n",
      "LA.norm(trackline.diffs)>15*np.std(coefnorm): -1128.38266742\n",
      "dist_diff 151.705736219\n"
     ]
    },
    {
     "name": "stderr",
     "output_type": "stream",
     "text": [
      "\r",
      " 45%|███████████████████████████████████▋                                           | 570/1261 [06:49<08:25,  1.37it/s]"
     ]
    },
    {
     "name": "stdout",
     "output_type": "stream",
     "text": [
      "ret 4.3655094873085165e-05\n",
      "LA.norm(trackline.diffs)>15*np.std(coefnorm): -1105.55406488\n",
      "dist_diff 127.420395809\n"
     ]
    },
    {
     "name": "stderr",
     "output_type": "stream",
     "text": [
      "\r",
      " 45%|███████████████████████████████████▊                                           | 571/1261 [06:50<08:30,  1.35it/s]"
     ]
    },
    {
     "name": "stdout",
     "output_type": "stream",
     "text": [
      "ret 4.149906657663349e-05\n",
      "LA.norm(trackline.diffs)>15*np.std(coefnorm): -959.215566996\n",
      "dist_diff 99.112632474\n"
     ]
    },
    {
     "name": "stderr",
     "output_type": "stream",
     "text": [
      "\r",
      " 45%|███████████████████████████████████▊                                           | 572/1261 [06:51<08:29,  1.35it/s]"
     ]
    },
    {
     "name": "stdout",
     "output_type": "stream",
     "text": [
      "ret 3.520819017066579e-05\n",
      "LA.norm(trackline.diffs)>15*np.std(coefnorm): -695.719842694\n",
      "dist_diff 64.1843684252\n"
     ]
    },
    {
     "name": "stderr",
     "output_type": "stream",
     "text": [
      "\r",
      " 45%|███████████████████████████████████▉                                           | 573/1261 [06:52<08:22,  1.37it/s]"
     ]
    },
    {
     "name": "stdout",
     "output_type": "stream",
     "text": [
      "ret 0.00021096761436245615\n",
      "LA.norm(trackline.diffs)>15*np.std(coefnorm): -484.90779914\n",
      "dist_diff 41.3345560903\n"
     ]
    },
    {
     "name": "stderr",
     "output_type": "stream",
     "text": [
      "\r",
      " 46%|███████████████████████████████████▉                                           | 574/1261 [06:52<08:29,  1.35it/s]"
     ]
    },
    {
     "name": "stdout",
     "output_type": "stream",
     "text": [
      "ret 0.0003561418366130886\n",
      "LA.norm(trackline.diffs)>15*np.std(coefnorm): -355.539098702\n",
      "dist_diff 33.8548055747\n"
     ]
    },
    {
     "name": "stderr",
     "output_type": "stream",
     "text": [
      "\r",
      " 46%|████████████████████████████████████                                           | 575/1261 [06:53<08:25,  1.36it/s]"
     ]
    },
    {
     "name": "stdout",
     "output_type": "stream",
     "text": [
      "ret 0.00033062843148851107\n",
      "LA.norm(trackline.diffs)>15*np.std(coefnorm): -374.690821403\n",
      "dist_diff 34.6748413508\n"
     ]
    },
    {
     "name": "stderr",
     "output_type": "stream",
     "text": [
      "\r",
      " 46%|████████████████████████████████████                                           | 576/1261 [06:54<08:22,  1.36it/s]"
     ]
    },
    {
     "name": "stdout",
     "output_type": "stream",
     "text": [
      "ret 0.0002361506854375306\n",
      "LA.norm(trackline.diffs)>15*np.std(coefnorm): -295.662739647\n",
      "dist_diff 31.3713404548\n"
     ]
    },
    {
     "name": "stderr",
     "output_type": "stream",
     "text": [
      "\r",
      " 46%|████████████████████████████████████▏                                          | 577/1261 [06:55<08:16,  1.38it/s]"
     ]
    },
    {
     "name": "stdout",
     "output_type": "stream",
     "text": [
      "ret 0.00015542315383731964\n",
      "LA.norm(trackline.diffs)>15*np.std(coefnorm): -174.427721118\n",
      "dist_diff 37.7975261938\n"
     ]
    },
    {
     "name": "stderr",
     "output_type": "stream",
     "text": [
      "\r",
      " 46%|████████████████████████████████████▏                                          | 578/1261 [06:55<08:17,  1.37it/s]"
     ]
    },
    {
     "name": "stdout",
     "output_type": "stream",
     "text": [
      "ret 3.8541310016404484e-05\n",
      "LA.norm(trackline.diffs)>15*np.std(coefnorm): -201.637597258\n",
      "dist_diff 37.2985440143\n"
     ]
    },
    {
     "name": "stderr",
     "output_type": "stream",
     "text": [
      "\r",
      " 46%|████████████████████████████████████▎                                          | 579/1261 [06:56<08:15,  1.38it/s]"
     ]
    },
    {
     "name": "stdout",
     "output_type": "stream",
     "text": [
      "ret 3.0836758167451794e-05\n",
      "LA.norm(trackline.diffs)>15*np.std(coefnorm): -154.494918901\n",
      "dist_diff 34.2172479194\n"
     ]
    },
    {
     "name": "stderr",
     "output_type": "stream",
     "text": [
      "\r",
      " 46%|████████████████████████████████████▎                                          | 580/1261 [06:57<08:12,  1.38it/s]"
     ]
    },
    {
     "name": "stdout",
     "output_type": "stream",
     "text": [
      "ret 1.3835654444349643e-07\n",
      "LA.norm(trackline.diffs)>15*np.std(coefnorm): -215.655439964\n",
      "dist_diff 23.6359015021\n"
     ]
    },
    {
     "name": "stderr",
     "output_type": "stream",
     "text": [
      "\r",
      " 46%|████████████████████████████████████▍                                          | 581/1261 [06:57<08:09,  1.39it/s]"
     ]
    },
    {
     "name": "stdout",
     "output_type": "stream",
     "text": [
      "ret 5.239827655101337e-05\n",
      "LA.norm(trackline.diffs)>15*np.std(coefnorm): -238.369810105\n",
      "dist_diff 22.9085466493\n"
     ]
    },
    {
     "name": "stderr",
     "output_type": "stream",
     "text": [
      "\r",
      " 46%|████████████████████████████████████▍                                          | 582/1261 [06:58<08:13,  1.38it/s]"
     ]
    },
    {
     "name": "stdout",
     "output_type": "stream",
     "text": [
      "ret 5.815033537259762e-05\n",
      "LA.norm(trackline.diffs)>15*np.std(coefnorm): -210.526760391\n",
      "dist_diff 23.4980723568\n"
     ]
    },
    {
     "name": "stderr",
     "output_type": "stream",
     "text": [
      "\r",
      " 46%|████████████████████████████████████▌                                          | 583/1261 [06:59<08:09,  1.38it/s]"
     ]
    },
    {
     "name": "stdout",
     "output_type": "stream",
     "text": [
      "ret 0.00028785788597357476\n",
      "LA.norm(trackline.diffs)>15*np.std(coefnorm): -147.450849725\n",
      "dist_diff 21.2987996041\n"
     ]
    },
    {
     "name": "stderr",
     "output_type": "stream",
     "text": [
      "\r",
      " 46%|████████████████████████████████████▌                                          | 584/1261 [07:00<08:05,  1.39it/s]"
     ]
    },
    {
     "name": "stdout",
     "output_type": "stream",
     "text": [
      "ret 3.531294725594991e-05\n",
      "LA.norm(trackline.diffs)>15*np.std(coefnorm): -177.836381274\n",
      "dist_diff 21.601492823\n"
     ]
    },
    {
     "name": "stderr",
     "output_type": "stream",
     "text": [
      "\r",
      " 46%|████████████████████████████████████▋                                          | 585/1261 [07:00<08:09,  1.38it/s]"
     ]
    },
    {
     "name": "stdout",
     "output_type": "stream",
     "text": [
      "ret 0.0017433715112769033\n",
      "LA.norm(trackline.diffs)>15*np.std(coefnorm): 72.7357367907\n",
      "dist_diff 202.465585983\n"
     ]
    },
    {
     "name": "stderr",
     "output_type": "stream",
     "text": [
      "\r",
      " 46%|████████████████████████████████████▋                                          | 586/1261 [07:01<08:09,  1.38it/s]"
     ]
    },
    {
     "name": "stdout",
     "output_type": "stream",
     "text": [
      "ret 0.0017696846070806571\n",
      "LA.norm(trackline.diffs)>15*np.std(coefnorm): 77.0463213376\n",
      "dist_diff 175.985767318\n"
     ]
    },
    {
     "name": "stderr",
     "output_type": "stream",
     "text": [
      "\r",
      " 47%|████████████████████████████████████▊                                          | 587/1261 [07:02<08:05,  1.39it/s]"
     ]
    },
    {
     "name": "stdout",
     "output_type": "stream",
     "text": [
      "ret 0.0018354970069394128\n",
      "LA.norm(trackline.diffs)>15*np.std(coefnorm): 68.1166804371\n",
      "dist_diff 217.019920776\n"
     ]
    },
    {
     "name": "stderr",
     "output_type": "stream",
     "text": [
      "\r",
      " 47%|████████████████████████████████████▊                                          | 588/1261 [07:03<08:06,  1.38it/s]"
     ]
    },
    {
     "name": "stdout",
     "output_type": "stream",
     "text": [
      "ret 0.0020137103789330535\n",
      "LA.norm(trackline.diffs)>15*np.std(coefnorm): 76.1399926044\n",
      "dist_diff 223.524837129\n"
     ]
    },
    {
     "name": "stderr",
     "output_type": "stream",
     "text": [
      "\r",
      " 47%|████████████████████████████████████▉                                          | 589/1261 [07:03<08:07,  1.38it/s]"
     ]
    },
    {
     "name": "stdout",
     "output_type": "stream",
     "text": [
      "ret 0.00013452696546067955\n",
      "LA.norm(trackline.diffs)>15*np.std(coefnorm): -109.591130912\n",
      "dist_diff 16.4108450287\n"
     ]
    },
    {
     "name": "stderr",
     "output_type": "stream",
     "text": [
      "\r",
      " 47%|████████████████████████████████████▉                                          | 590/1261 [07:04<08:09,  1.37it/s]"
     ]
    },
    {
     "name": "stdout",
     "output_type": "stream",
     "text": [
      "ret 4.19446947428348e-05\n",
      "LA.norm(trackline.diffs)>15*np.std(coefnorm): -335.289162961\n",
      "dist_diff 5.84901564968\n"
     ]
    },
    {
     "name": "stderr",
     "output_type": "stream",
     "text": [
      "\r",
      " 47%|█████████████████████████████████████                                          | 591/1261 [07:05<08:07,  1.37it/s]"
     ]
    },
    {
     "name": "stdout",
     "output_type": "stream",
     "text": [
      "ret 0.0003773623183399022\n",
      "LA.norm(trackline.diffs)>15*np.std(coefnorm): -431.700087823\n",
      "dist_diff 33.2829741657\n"
     ]
    },
    {
     "name": "stderr",
     "output_type": "stream",
     "text": [
      "\r",
      " 47%|█████████████████████████████████████                                          | 592/1261 [07:05<08:07,  1.37it/s]"
     ]
    },
    {
     "name": "stdout",
     "output_type": "stream",
     "text": [
      "ret 0.00016873918825921486\n",
      "LA.norm(trackline.diffs)>15*np.std(coefnorm): -455.246278355\n",
      "dist_diff 66.9383535034\n"
     ]
    },
    {
     "name": "stderr",
     "output_type": "stream",
     "text": [
      "\r",
      " 47%|█████████████████████████████████████▏                                         | 593/1261 [07:06<08:02,  1.38it/s]"
     ]
    },
    {
     "name": "stdout",
     "output_type": "stream",
     "text": [
      "ret 8.407292641648967e-05\n",
      "LA.norm(trackline.diffs)>15*np.std(coefnorm): -455.872716108\n",
      "dist_diff 60.9090791279\n"
     ]
    },
    {
     "name": "stderr",
     "output_type": "stream",
     "text": [
      "\r",
      " 47%|█████████████████████████████████████▏                                         | 594/1261 [07:07<08:00,  1.39it/s]"
     ]
    },
    {
     "name": "stdout",
     "output_type": "stream",
     "text": [
      "ret 0.0002562304485760891\n",
      "LA.norm(trackline.diffs)>15*np.std(coefnorm): -457.809837195\n",
      "dist_diff 49.385804364\n"
     ]
    },
    {
     "name": "stderr",
     "output_type": "stream",
     "text": [
      "\r",
      " 47%|█████████████████████████████████████▎                                         | 595/1261 [07:08<08:01,  1.38it/s]"
     ]
    },
    {
     "name": "stdout",
     "output_type": "stream",
     "text": [
      "ret 3.7130855146172426e-05\n",
      "LA.norm(trackline.diffs)>15*np.std(coefnorm): -446.157004976\n",
      "dist_diff 45.0127926402\n"
     ]
    },
    {
     "name": "stderr",
     "output_type": "stream",
     "text": [
      "\r",
      " 47%|█████████████████████████████████████▎                                         | 596/1261 [07:08<07:57,  1.39it/s]"
     ]
    },
    {
     "name": "stdout",
     "output_type": "stream",
     "text": [
      "ret 2.7352845616723798e-05\n",
      "LA.norm(trackline.diffs)>15*np.std(coefnorm): -432.112865932\n",
      "dist_diff 53.2222702686\n"
     ]
    },
    {
     "name": "stderr",
     "output_type": "stream",
     "text": [
      "\r",
      " 47%|█████████████████████████████████████▍                                         | 597/1261 [07:09<07:55,  1.40it/s]"
     ]
    },
    {
     "name": "stdout",
     "output_type": "stream",
     "text": [
      "ret 6.672612540992162e-05\n",
      "LA.norm(trackline.diffs)>15*np.std(coefnorm): -436.881631021\n",
      "dist_diff 52.703690869\n"
     ]
    },
    {
     "name": "stderr",
     "output_type": "stream",
     "text": [
      "\r",
      " 47%|█████████████████████████████████████▍                                         | 598/1261 [07:10<07:57,  1.39it/s]"
     ]
    },
    {
     "name": "stdout",
     "output_type": "stream",
     "text": [
      "ret 8.511464221372389e-06\n",
      "LA.norm(trackline.diffs)>15*np.std(coefnorm): -340.102871202\n",
      "dist_diff 59.4860891043\n"
     ]
    },
    {
     "name": "stderr",
     "output_type": "stream",
     "text": [
      "\r",
      " 48%|█████████████████████████████████████▌                                         | 599/1261 [07:11<08:00,  1.38it/s]"
     ]
    },
    {
     "name": "stdout",
     "output_type": "stream",
     "text": [
      "ret 7.655907331149958e-06\n",
      "LA.norm(trackline.diffs)>15*np.std(coefnorm): -257.52896509\n",
      "dist_diff 59.4864678503\n"
     ]
    },
    {
     "name": "stderr",
     "output_type": "stream",
     "text": [
      "\r",
      " 48%|█████████████████████████████████████▌                                         | 600/1261 [07:11<07:56,  1.39it/s]"
     ]
    },
    {
     "name": "stdout",
     "output_type": "stream",
     "text": [
      "ret 6.555449221906651e-05\n",
      "LA.norm(trackline.diffs)>15*np.std(coefnorm): -51.4715223502\n",
      "dist_diff 73.1178035497\n"
     ]
    },
    {
     "name": "stderr",
     "output_type": "stream",
     "text": [
      "\r",
      " 48%|█████████████████████████████████████▋                                         | 601/1261 [07:12<07:54,  1.39it/s]"
     ]
    },
    {
     "name": "stdout",
     "output_type": "stream",
     "text": [
      "ret 6.45759025622028e-05\n",
      "LA.norm(trackline.diffs)>15*np.std(coefnorm): -55.3347610014\n",
      "dist_diff 70.5590068028\n"
     ]
    },
    {
     "name": "stderr",
     "output_type": "stream",
     "text": [
      "\r",
      " 48%|█████████████████████████████████████▋                                         | 602/1261 [07:13<07:54,  1.39it/s]"
     ]
    },
    {
     "name": "stdout",
     "output_type": "stream",
     "text": [
      "ret 1.5330671912339167e-05\n",
      "LA.norm(trackline.diffs)>15*np.std(coefnorm): -105.896903461\n",
      "dist_diff 70.4812278929\n"
     ]
    },
    {
     "name": "stderr",
     "output_type": "stream",
     "text": [
      "\r",
      " 48%|█████████████████████████████████████▊                                         | 603/1261 [07:13<07:51,  1.39it/s]"
     ]
    },
    {
     "name": "stdout",
     "output_type": "stream",
     "text": [
      "ret 8.656807047541237e-05\n",
      "LA.norm(trackline.diffs)>15*np.std(coefnorm): -158.111088427\n",
      "dist_diff 69.5597827245\n"
     ]
    },
    {
     "name": "stderr",
     "output_type": "stream",
     "text": [
      "\r",
      " 48%|█████████████████████████████████████▊                                         | 604/1261 [07:14<07:58,  1.37it/s]"
     ]
    },
    {
     "name": "stdout",
     "output_type": "stream",
     "text": [
      "ret 9.837392038192228e-07\n",
      "LA.norm(trackline.diffs)>15*np.std(coefnorm): -224.366903943\n",
      "dist_diff 80.4643920582\n"
     ]
    },
    {
     "name": "stderr",
     "output_type": "stream",
     "text": [
      "\r",
      " 48%|█████████████████████████████████████▉                                         | 605/1261 [07:15<07:57,  1.37it/s]"
     ]
    },
    {
     "name": "stdout",
     "output_type": "stream",
     "text": [
      "ret 4.739242356488482e-05\n",
      "LA.norm(trackline.diffs)>15*np.std(coefnorm): -261.313346247\n",
      "dist_diff 89.0403806541\n"
     ]
    },
    {
     "name": "stderr",
     "output_type": "stream",
     "text": [
      "\r",
      " 48%|█████████████████████████████████████▉                                         | 606/1261 [07:16<07:58,  1.37it/s]"
     ]
    },
    {
     "name": "stdout",
     "output_type": "stream",
     "text": [
      "ret 2.3024990973508075e-05\n",
      "LA.norm(trackline.diffs)>15*np.std(coefnorm): -277.740563192\n",
      "dist_diff 100.806424465\n"
     ]
    },
    {
     "name": "stderr",
     "output_type": "stream",
     "text": [
      "\r",
      " 48%|██████████████████████████████████████                                         | 607/1261 [07:16<07:57,  1.37it/s]"
     ]
    },
    {
     "name": "stdout",
     "output_type": "stream",
     "text": [
      "ret 2.9766500253547434e-06\n",
      "LA.norm(trackline.diffs)>15*np.std(coefnorm): -284.709537724\n",
      "dist_diff 101.365652266\n"
     ]
    },
    {
     "name": "stderr",
     "output_type": "stream",
     "text": [
      "\r",
      " 48%|██████████████████████████████████████                                         | 608/1261 [07:17<07:57,  1.37it/s]"
     ]
    },
    {
     "name": "stdout",
     "output_type": "stream",
     "text": [
      "ret 6.81539150685917e-05\n",
      "LA.norm(trackline.diffs)>15*np.std(coefnorm): -288.36271331\n",
      "dist_diff 106.363820437\n"
     ]
    },
    {
     "name": "stderr",
     "output_type": "stream",
     "text": [
      "\r",
      " 48%|██████████████████████████████████████▏                                        | 609/1261 [07:18<07:58,  1.36it/s]"
     ]
    },
    {
     "name": "stdout",
     "output_type": "stream",
     "text": [
      "ret 4.344882123974436e-06\n",
      "LA.norm(trackline.diffs)>15*np.std(coefnorm): -279.763936051\n",
      "dist_diff 111.782543774\n"
     ]
    },
    {
     "name": "stderr",
     "output_type": "stream",
     "text": [
      "\r",
      " 48%|██████████████████████████████████████▏                                        | 610/1261 [07:19<07:55,  1.37it/s]"
     ]
    },
    {
     "name": "stdout",
     "output_type": "stream",
     "text": [
      "ret 4.2089677944889825e-05\n",
      "LA.norm(trackline.diffs)>15*np.std(coefnorm): -248.643192012\n",
      "dist_diff 116.877724578\n"
     ]
    },
    {
     "name": "stderr",
     "output_type": "stream",
     "text": [
      "\r",
      " 48%|██████████████████████████████████████▎                                        | 611/1261 [07:19<07:53,  1.37it/s]"
     ]
    },
    {
     "name": "stdout",
     "output_type": "stream",
     "text": [
      "ret 0.00011853837818331936\n",
      "LA.norm(trackline.diffs)>15*np.std(coefnorm): -160.389164059\n",
      "dist_diff 119.307463355\n"
     ]
    },
    {
     "name": "stderr",
     "output_type": "stream",
     "text": [
      "\r",
      " 49%|██████████████████████████████████████▎                                        | 612/1261 [07:20<07:54,  1.37it/s]"
     ]
    },
    {
     "name": "stdout",
     "output_type": "stream",
     "text": [
      "ret 2.8567488630171223e-05\n",
      "LA.norm(trackline.diffs)>15*np.std(coefnorm): -116.42565947\n",
      "dist_diff 132.33488917\n"
     ]
    },
    {
     "name": "stderr",
     "output_type": "stream",
     "text": [
      "\r",
      " 49%|██████████████████████████████████████▍                                        | 613/1261 [07:21<07:52,  1.37it/s]"
     ]
    },
    {
     "name": "stdout",
     "output_type": "stream",
     "text": [
      "ret 0.00012368875169405102\n",
      "LA.norm(trackline.diffs)>15*np.std(coefnorm): -82.8486990529\n",
      "dist_diff 119.961703723\n"
     ]
    },
    {
     "name": "stderr",
     "output_type": "stream",
     "text": [
      "\r",
      " 49%|██████████████████████████████████████▍                                        | 614/1261 [07:21<07:57,  1.36it/s]"
     ]
    },
    {
     "name": "stdout",
     "output_type": "stream",
     "text": [
      "ret 7.29339526724937e-05\n",
      "LA.norm(trackline.diffs)>15*np.std(coefnorm): -104.757503785\n",
      "dist_diff 117.20442124\n"
     ]
    },
    {
     "name": "stderr",
     "output_type": "stream",
     "text": [
      "\r",
      " 49%|██████████████████████████████████████▌                                        | 615/1261 [07:22<07:54,  1.36it/s]"
     ]
    },
    {
     "name": "stdout",
     "output_type": "stream",
     "text": [
      "ret 0.00011128158177003966\n",
      "LA.norm(trackline.diffs)>15*np.std(coefnorm): -125.568316519\n",
      "dist_diff 145.438068929\n"
     ]
    },
    {
     "name": "stderr",
     "output_type": "stream",
     "text": [
      "\r",
      " 49%|██████████████████████████████████████▌                                        | 616/1261 [07:23<07:57,  1.35it/s]"
     ]
    },
    {
     "name": "stdout",
     "output_type": "stream",
     "text": [
      "ret 0.00019415178310644432\n",
      "LA.norm(trackline.diffs)>15*np.std(coefnorm): -120.828265204\n",
      "dist_diff 171.761557442\n"
     ]
    },
    {
     "name": "stderr",
     "output_type": "stream",
     "text": [
      "\r",
      " 49%|██████████████████████████████████████▋                                        | 617/1261 [07:24<07:57,  1.35it/s]"
     ]
    },
    {
     "name": "stdout",
     "output_type": "stream",
     "text": [
      "ret 0.00010906253708570235\n",
      "LA.norm(trackline.diffs)>15*np.std(coefnorm): -130.833568628\n",
      "dist_diff 159.586886403\n"
     ]
    },
    {
     "name": "stderr",
     "output_type": "stream",
     "text": [
      "\r",
      " 49%|██████████████████████████████████████▋                                        | 618/1261 [07:24<08:01,  1.34it/s]"
     ]
    },
    {
     "name": "stdout",
     "output_type": "stream",
     "text": [
      "ret 0.000401067641741748\n",
      "LA.norm(trackline.diffs)>15*np.std(coefnorm): -120.254500612\n",
      "dist_diff 163.499854258\n"
     ]
    },
    {
     "name": "stderr",
     "output_type": "stream",
     "text": [
      "\r",
      " 49%|██████████████████████████████████████▊                                        | 619/1261 [07:25<07:57,  1.35it/s]"
     ]
    },
    {
     "name": "stdout",
     "output_type": "stream",
     "text": [
      "ret 2.54360175699353e-05\n",
      "LA.norm(trackline.diffs)>15*np.std(coefnorm): -172.910394595\n",
      "dist_diff 159.03218779\n"
     ]
    },
    {
     "name": "stderr",
     "output_type": "stream",
     "text": [
      "\r",
      " 49%|██████████████████████████████████████▊                                        | 620/1261 [07:26<07:48,  1.37it/s]"
     ]
    },
    {
     "name": "stdout",
     "output_type": "stream",
     "text": [
      "ret 0.00020079973652215033\n",
      "LA.norm(trackline.diffs)>15*np.std(coefnorm): -184.728409125\n",
      "dist_diff 157.350503554\n"
     ]
    },
    {
     "name": "stderr",
     "output_type": "stream",
     "text": [
      "\r",
      " 49%|██████████████████████████████████████▉                                        | 621/1261 [07:27<07:43,  1.38it/s]"
     ]
    },
    {
     "name": "stdout",
     "output_type": "stream",
     "text": [
      "ret 0.00015358729943809601\n",
      "LA.norm(trackline.diffs)>15*np.std(coefnorm): -214.024610353\n",
      "dist_diff 160.214057332\n"
     ]
    },
    {
     "name": "stderr",
     "output_type": "stream",
     "text": [
      "\r",
      " 49%|██████████████████████████████████████▉                                        | 622/1261 [07:27<07:43,  1.38it/s]"
     ]
    },
    {
     "name": "stdout",
     "output_type": "stream",
     "text": [
      "ret 1.769784963218113e-05\n",
      "LA.norm(trackline.diffs)>15*np.std(coefnorm): -240.553125355\n",
      "dist_diff 163.893154834\n"
     ]
    },
    {
     "name": "stderr",
     "output_type": "stream",
     "text": [
      "\r",
      " 49%|███████████████████████████████████████                                        | 623/1261 [07:28<07:38,  1.39it/s]"
     ]
    },
    {
     "name": "stdout",
     "output_type": "stream",
     "text": [
      "ret 0.00020358987287560915\n",
      "LA.norm(trackline.diffs)>15*np.std(coefnorm): -254.429894627\n",
      "dist_diff 162.684116594\n"
     ]
    },
    {
     "name": "stderr",
     "output_type": "stream",
     "text": [
      "\r",
      " 49%|███████████████████████████████████████                                        | 624/1261 [07:29<07:48,  1.36it/s]"
     ]
    },
    {
     "name": "stdout",
     "output_type": "stream",
     "text": [
      "ret 0.0009205495783646822\n",
      "LA.norm(trackline.diffs)>15*np.std(coefnorm): -242.186470776\n",
      "dist_diff 173.364867173\n"
     ]
    },
    {
     "name": "stderr",
     "output_type": "stream",
     "text": [
      "\r",
      " 50%|███████████████████████████████████████▏                                       | 625/1261 [07:30<07:52,  1.35it/s]"
     ]
    },
    {
     "name": "stdout",
     "output_type": "stream",
     "text": [
      "ret 0.00016467314653434428\n",
      "LA.norm(trackline.diffs)>15*np.std(coefnorm): -319.527738976\n",
      "dist_diff 175.962573138\n"
     ]
    },
    {
     "name": "stderr",
     "output_type": "stream",
     "text": [
      "\r",
      " 50%|███████████████████████████████████████▏                                       | 626/1261 [07:30<07:51,  1.35it/s]"
     ]
    },
    {
     "name": "stdout",
     "output_type": "stream",
     "text": [
      "ret 7.898461307154214e-05\n",
      "LA.norm(trackline.diffs)>15*np.std(coefnorm): -374.194822327\n",
      "dist_diff 175.868920824\n"
     ]
    },
    {
     "name": "stderr",
     "output_type": "stream",
     "text": [
      "\r",
      " 50%|███████████████████████████████████████▎                                       | 627/1261 [07:31<07:52,  1.34it/s]"
     ]
    },
    {
     "name": "stdout",
     "output_type": "stream",
     "text": [
      "ret 0.0006421806591264678\n",
      "LA.norm(trackline.diffs)>15*np.std(coefnorm): -385.698338554\n",
      "dist_diff 177.76401317\n"
     ]
    },
    {
     "name": "stderr",
     "output_type": "stream",
     "text": [
      "\r",
      " 50%|███████████████████████████████████████▎                                       | 628/1261 [07:32<07:53,  1.34it/s]"
     ]
    },
    {
     "name": "stdout",
     "output_type": "stream",
     "text": [
      "ret 0.0003430116109913728\n",
      "LA.norm(trackline.diffs)>15*np.std(coefnorm): -444.372458515\n",
      "dist_diff 168.108122696\n"
     ]
    },
    {
     "name": "stderr",
     "output_type": "stream",
     "text": [
      "\r",
      " 50%|███████████████████████████████████████▍                                       | 629/1261 [07:33<07:46,  1.36it/s]"
     ]
    },
    {
     "name": "stdout",
     "output_type": "stream",
     "text": [
      "ret 0.0009308531998801772\n",
      "LA.norm(trackline.diffs)>15*np.std(coefnorm): -478.779834293\n",
      "dist_diff 173.788214091\n"
     ]
    },
    {
     "name": "stderr",
     "output_type": "stream",
     "text": [
      "\r",
      " 50%|███████████████████████████████████████▍                                       | 630/1261 [07:33<07:51,  1.34it/s]"
     ]
    },
    {
     "name": "stdout",
     "output_type": "stream",
     "text": [
      "ret 0.0003747219020911463\n",
      "LA.norm(trackline.diffs)>15*np.std(coefnorm): -404.674584075\n",
      "dist_diff 167.801378525\n"
     ]
    },
    {
     "name": "stderr",
     "output_type": "stream",
     "text": [
      "\r",
      " 50%|███████████████████████████████████████▌                                       | 631/1261 [07:34<07:52,  1.33it/s]"
     ]
    },
    {
     "name": "stdout",
     "output_type": "stream",
     "text": [
      "ret 0.00015367633305918282\n",
      "LA.norm(trackline.diffs)>15*np.std(coefnorm): -322.697854296\n",
      "dist_diff 167.510926682\n"
     ]
    },
    {
     "name": "stderr",
     "output_type": "stream",
     "text": [
      "\r",
      " 50%|███████████████████████████████████████▌                                       | 632/1261 [07:35<07:45,  1.35it/s]"
     ]
    },
    {
     "name": "stdout",
     "output_type": "stream",
     "text": [
      "ret 9.445097833093996e-05\n",
      "LA.norm(trackline.diffs)>15*np.std(coefnorm): -256.296400692\n",
      "dist_diff 181.487828075\n"
     ]
    },
    {
     "name": "stderr",
     "output_type": "stream",
     "text": [
      "\r",
      " 50%|███████████████████████████████████████▋                                       | 633/1261 [07:35<07:38,  1.37it/s]"
     ]
    },
    {
     "name": "stdout",
     "output_type": "stream",
     "text": [
      "ret 0.0001367133146207844\n",
      "LA.norm(trackline.diffs)>15*np.std(coefnorm): -181.965077721\n",
      "dist_diff 186.881883411\n"
     ]
    },
    {
     "name": "stderr",
     "output_type": "stream",
     "text": [
      "\r",
      " 50%|███████████████████████████████████████▋                                       | 634/1261 [07:36<07:34,  1.38it/s]"
     ]
    },
    {
     "name": "stdout",
     "output_type": "stream",
     "text": [
      "ret 0.0005569717464951052\n",
      "LA.norm(trackline.diffs)>15*np.std(coefnorm): -140.243218365\n",
      "dist_diff 194.818889349\n"
     ]
    },
    {
     "name": "stderr",
     "output_type": "stream",
     "text": [
      "\r",
      " 50%|███████████████████████████████████████▊                                       | 635/1261 [07:37<07:30,  1.39it/s]"
     ]
    },
    {
     "name": "stdout",
     "output_type": "stream",
     "text": [
      "ret 0.0007250253271129936\n",
      "LA.norm(trackline.diffs)>15*np.std(coefnorm): -88.8989690206\n",
      "dist_diff 207.623205821\n"
     ]
    },
    {
     "name": "stderr",
     "output_type": "stream",
     "text": [
      "\r",
      " 50%|███████████████████████████████████████▊                                       | 636/1261 [07:38<07:25,  1.40it/s]"
     ]
    },
    {
     "name": "stdout",
     "output_type": "stream",
     "text": [
      "ret 0.0009035644639174834\n",
      "LA.norm(trackline.diffs)>15*np.std(coefnorm): -33.3085752332\n",
      "dist_diff 219.208634457\n"
     ]
    },
    {
     "name": "stderr",
     "output_type": "stream",
     "text": [
      "\r",
      " 51%|███████████████████████████████████████▉                                       | 637/1261 [07:38<07:25,  1.40it/s]"
     ]
    },
    {
     "name": "stdout",
     "output_type": "stream",
     "text": [
      "ret 1.891791631625228e-05\n",
      "LA.norm(trackline.diffs)>15*np.std(coefnorm): -55.4611560925\n",
      "dist_diff 223.083108792\n"
     ]
    },
    {
     "name": "stderr",
     "output_type": "stream",
     "text": [
      "\r",
      " 51%|███████████████████████████████████████▉                                       | 638/1261 [07:39<07:23,  1.40it/s]"
     ]
    },
    {
     "name": "stdout",
     "output_type": "stream",
     "text": [
      "ret 0.0005349125804190447\n",
      "LA.norm(trackline.diffs)>15*np.std(coefnorm): -91.6293323831\n",
      "dist_diff 219.937382348\n"
     ]
    },
    {
     "name": "stderr",
     "output_type": "stream",
     "text": [
      "\r",
      " 51%|████████████████████████████████████████                                       | 639/1261 [07:40<07:22,  1.41it/s]"
     ]
    },
    {
     "name": "stdout",
     "output_type": "stream",
     "text": [
      "ret 0.0009460460773435542\n",
      "LA.norm(trackline.diffs)>15*np.std(coefnorm): -142.897146365\n",
      "dist_diff 221.987799495\n"
     ]
    },
    {
     "name": "stderr",
     "output_type": "stream",
     "text": [
      "\r",
      " 51%|████████████████████████████████████████                                       | 640/1261 [07:40<07:20,  1.41it/s]"
     ]
    },
    {
     "name": "stdout",
     "output_type": "stream",
     "text": [
      "ret 0.0005098717817627607\n",
      "LA.norm(trackline.diffs)>15*np.std(coefnorm): -108.281024242\n",
      "dist_diff 207.660420536\n"
     ]
    },
    {
     "name": "stderr",
     "output_type": "stream",
     "text": [
      "\r",
      " 51%|████████████████████████████████████████▏                                      | 641/1261 [07:41<07:19,  1.41it/s]"
     ]
    },
    {
     "name": "stdout",
     "output_type": "stream",
     "text": [
      "ret 9.697062541091928e-05\n",
      "LA.norm(trackline.diffs)>15*np.std(coefnorm): -94.0146351884\n",
      "dist_diff 203.950798434\n"
     ]
    },
    {
     "name": "stderr",
     "output_type": "stream",
     "text": [
      "\r",
      " 51%|████████████████████████████████████████▏                                      | 642/1261 [07:42<07:23,  1.40it/s]"
     ]
    },
    {
     "name": "stdout",
     "output_type": "stream",
     "text": [
      "ret 4.242459029857315e-06\n",
      "LA.norm(trackline.diffs)>15*np.std(coefnorm): -105.161809707\n",
      "dist_diff 214.497672213\n"
     ]
    },
    {
     "name": "stderr",
     "output_type": "stream",
     "text": [
      "\r",
      " 51%|████████████████████████████████████████▎                                      | 643/1261 [07:43<07:20,  1.40it/s]"
     ]
    },
    {
     "name": "stdout",
     "output_type": "stream",
     "text": [
      "ret 8.237251416598479e-05\n",
      "LA.norm(trackline.diffs)>15*np.std(coefnorm): -111.447411173\n",
      "dist_diff 215.457454091\n"
     ]
    },
    {
     "name": "stderr",
     "output_type": "stream",
     "text": [
      "\r",
      " 51%|████████████████████████████████████████▎                                      | 644/1261 [07:43<07:20,  1.40it/s]"
     ]
    },
    {
     "name": "stdout",
     "output_type": "stream",
     "text": [
      "ret 0.0001326459157861004\n",
      "LA.norm(trackline.diffs)>15*np.std(coefnorm): -95.9718330971\n",
      "dist_diff 212.611080192\n"
     ]
    },
    {
     "name": "stderr",
     "output_type": "stream",
     "text": [
      "\r",
      " 51%|████████████████████████████████████████▍                                      | 645/1261 [07:44<07:22,  1.39it/s]"
     ]
    },
    {
     "name": "stdout",
     "output_type": "stream",
     "text": [
      "ret 0.00020678448419880757\n",
      "LA.norm(trackline.diffs)>15*np.std(coefnorm): -101.166589823\n",
      "dist_diff 215.866076563\n"
     ]
    },
    {
     "name": "stderr",
     "output_type": "stream",
     "text": [
      "\r",
      " 51%|████████████████████████████████████████▍                                      | 646/1261 [07:45<07:25,  1.38it/s]"
     ]
    },
    {
     "name": "stdout",
     "output_type": "stream",
     "text": [
      "ret 0.00011227067850311245\n",
      "LA.norm(trackline.diffs)>15*np.std(coefnorm): -103.287096097\n",
      "dist_diff 218.776186591\n"
     ]
    },
    {
     "name": "stderr",
     "output_type": "stream",
     "text": [
      "\r",
      " 51%|████████████████████████████████████████▌                                      | 647/1261 [07:45<07:23,  1.38it/s]"
     ]
    },
    {
     "name": "stdout",
     "output_type": "stream",
     "text": [
      "ret 0.00013431287511173062\n",
      "LA.norm(trackline.diffs)>15*np.std(coefnorm): -90.8035048989\n",
      "dist_diff 222.721969972\n"
     ]
    },
    {
     "name": "stderr",
     "output_type": "stream",
     "text": [
      "\r",
      " 51%|████████████████████████████████████████▌                                      | 648/1261 [07:46<07:27,  1.37it/s]"
     ]
    },
    {
     "name": "stdout",
     "output_type": "stream",
     "text": [
      "ret 6.052454635396831e-05\n",
      "LA.norm(trackline.diffs)>15*np.std(coefnorm): -61.1669166786\n",
      "dist_diff 227.169369689\n"
     ]
    },
    {
     "name": "stderr",
     "output_type": "stream",
     "text": [
      "\r",
      " 51%|████████████████████████████████████████▋                                      | 649/1261 [07:47<07:30,  1.36it/s]"
     ]
    },
    {
     "name": "stdout",
     "output_type": "stream",
     "text": [
      "ret 0.00018069260476033522\n",
      "LA.norm(trackline.diffs)>15*np.std(coefnorm): -53.3137959855\n",
      "dist_diff 222.351213038\n"
     ]
    },
    {
     "name": "stderr",
     "output_type": "stream",
     "text": [
      "\r",
      " 52%|████████████████████████████████████████▋                                      | 650/1261 [07:48<07:31,  1.35it/s]"
     ]
    },
    {
     "name": "stdout",
     "output_type": "stream",
     "text": [
      "ret 5.694686952062433e-05\n",
      "LA.norm(trackline.diffs)>15*np.std(coefnorm): -59.8122224385\n",
      "dist_diff 224.212169787\n"
     ]
    },
    {
     "name": "stderr",
     "output_type": "stream",
     "text": [
      "\r",
      " 52%|████████████████████████████████████████▊                                      | 651/1261 [07:48<07:35,  1.34it/s]"
     ]
    },
    {
     "name": "stdout",
     "output_type": "stream",
     "text": [
      "ret 5.455896040928998e-05\n",
      "LA.norm(trackline.diffs)>15*np.std(coefnorm): -73.0729225653\n",
      "dist_diff 220.358325777\n"
     ]
    },
    {
     "name": "stderr",
     "output_type": "stream",
     "text": [
      "\r",
      " 52%|████████████████████████████████████████▊                                      | 652/1261 [07:49<07:29,  1.36it/s]"
     ]
    },
    {
     "name": "stdout",
     "output_type": "stream",
     "text": [
      "ret 6.954506299283736e-06\n",
      "LA.norm(trackline.diffs)>15*np.std(coefnorm): -76.8229898618\n",
      "dist_diff 220.155094973\n"
     ]
    },
    {
     "name": "stderr",
     "output_type": "stream",
     "text": [
      "\r",
      " 52%|████████████████████████████████████████▉                                      | 653/1261 [07:50<07:25,  1.37it/s]"
     ]
    },
    {
     "name": "stdout",
     "output_type": "stream",
     "text": [
      "ret 2.261516091173199e-05\n",
      "LA.norm(trackline.diffs)>15*np.std(coefnorm): -99.325121962\n",
      "dist_diff 215.739774597\n"
     ]
    },
    {
     "name": "stderr",
     "output_type": "stream",
     "text": [
      "\r",
      " 52%|████████████████████████████████████████▉                                      | 654/1261 [07:51<07:28,  1.35it/s]"
     ]
    },
    {
     "name": "stdout",
     "output_type": "stream",
     "text": [
      "ret 3.402563500826128e-05\n",
      "LA.norm(trackline.diffs)>15*np.std(coefnorm): -112.933213307\n",
      "dist_diff 208.738082298\n"
     ]
    },
    {
     "name": "stderr",
     "output_type": "stream",
     "text": [
      "\r",
      " 52%|█████████████████████████████████████████                                      | 655/1261 [07:51<07:29,  1.35it/s]"
     ]
    },
    {
     "name": "stdout",
     "output_type": "stream",
     "text": [
      "ret 7.414555356483055e-05\n",
      "LA.norm(trackline.diffs)>15*np.std(coefnorm): -115.313803412\n",
      "dist_diff 205.773316254\n"
     ]
    },
    {
     "name": "stderr",
     "output_type": "stream",
     "text": [
      "\r",
      " 52%|█████████████████████████████████████████                                      | 656/1261 [07:52<07:27,  1.35it/s]"
     ]
    },
    {
     "name": "stdout",
     "output_type": "stream",
     "text": [
      "ret 3.385203250372282e-05\n",
      "LA.norm(trackline.diffs)>15*np.std(coefnorm): -101.797339485\n",
      "dist_diff 199.807299741\n"
     ]
    },
    {
     "name": "stderr",
     "output_type": "stream",
     "text": [
      "\r",
      " 52%|█████████████████████████████████████████▏                                     | 657/1261 [07:53<07:24,  1.36it/s]"
     ]
    },
    {
     "name": "stdout",
     "output_type": "stream",
     "text": [
      "ret 0.00014637170667147759\n",
      "LA.norm(trackline.diffs)>15*np.std(coefnorm): -66.0988704526\n",
      "dist_diff 194.915916483\n"
     ]
    },
    {
     "name": "stderr",
     "output_type": "stream",
     "text": [
      "\r",
      " 52%|█████████████████████████████████████████▏                                     | 658/1261 [07:54<07:24,  1.36it/s]"
     ]
    },
    {
     "name": "stdout",
     "output_type": "stream",
     "text": [
      "ret 0.00012272487440212476\n",
      "LA.norm(trackline.diffs)>15*np.std(coefnorm): -50.6622398746\n",
      "dist_diff 191.749560473\n"
     ]
    },
    {
     "name": "stderr",
     "output_type": "stream",
     "text": [
      "\r",
      " 52%|█████████████████████████████████████████▎                                     | 659/1261 [07:54<07:23,  1.36it/s]"
     ]
    },
    {
     "name": "stdout",
     "output_type": "stream",
     "text": [
      "ret 4.382465562707827e-05\n",
      "LA.norm(trackline.diffs)>15*np.std(coefnorm): -33.0118383254\n",
      "dist_diff 191.941640654\n"
     ]
    },
    {
     "name": "stderr",
     "output_type": "stream",
     "text": [
      "\r",
      " 52%|█████████████████████████████████████████▎                                     | 660/1261 [07:55<07:18,  1.37it/s]"
     ]
    },
    {
     "name": "stdout",
     "output_type": "stream",
     "text": [
      "ret 0.00017291855881795826\n",
      "LA.norm(trackline.diffs)>15*np.std(coefnorm): -30.522223734\n",
      "dist_diff 187.700772922\n"
     ]
    },
    {
     "name": "stderr",
     "output_type": "stream",
     "text": [
      "\r",
      " 52%|█████████████████████████████████████████▍                                     | 661/1261 [07:56<07:17,  1.37it/s]"
     ]
    },
    {
     "name": "stdout",
     "output_type": "stream",
     "text": [
      "ret 0.00011970107134356978\n",
      "LA.norm(trackline.diffs)>15*np.std(coefnorm): -29.6310868269\n",
      "dist_diff 185.502403887\n"
     ]
    },
    {
     "name": "stderr",
     "output_type": "stream",
     "text": [
      "\r",
      " 52%|█████████████████████████████████████████▍                                     | 662/1261 [07:57<07:14,  1.38it/s]"
     ]
    },
    {
     "name": "stdout",
     "output_type": "stream",
     "text": [
      "ret 1.512195999364696e-06\n",
      "LA.norm(trackline.diffs)>15*np.std(coefnorm): -38.5930614671\n",
      "dist_diff 182.319489925\n"
     ]
    },
    {
     "name": "stderr",
     "output_type": "stream",
     "text": [
      "\r",
      " 53%|█████████████████████████████████████████▌                                     | 663/1261 [07:57<07:22,  1.35it/s]"
     ]
    },
    {
     "name": "stdout",
     "output_type": "stream",
     "text": [
      "ret 3.96847437031389e-05\n",
      "LA.norm(trackline.diffs)>15*np.std(coefnorm): -42.8560762892\n",
      "dist_diff 177.820277241\n"
     ]
    },
    {
     "name": "stderr",
     "output_type": "stream",
     "text": [
      "\r",
      " 53%|█████████████████████████████████████████▌                                     | 664/1261 [07:58<07:22,  1.35it/s]"
     ]
    },
    {
     "name": "stdout",
     "output_type": "stream",
     "text": [
      "ret 4.4305265282318373e-05\n",
      "LA.norm(trackline.diffs)>15*np.std(coefnorm): -65.4564214198\n",
      "dist_diff 175.928685493\n"
     ]
    },
    {
     "name": "stderr",
     "output_type": "stream",
     "text": [
      "\r",
      " 53%|█████████████████████████████████████████▋                                     | 665/1261 [07:59<07:26,  1.34it/s]"
     ]
    },
    {
     "name": "stdout",
     "output_type": "stream",
     "text": [
      "ret 5.077243275181109e-05\n",
      "LA.norm(trackline.diffs)>15*np.std(coefnorm): -85.0330268255\n",
      "dist_diff 180.978565178\n"
     ]
    },
    {
     "name": "stderr",
     "output_type": "stream",
     "text": [
      "\r",
      " 53%|█████████████████████████████████████████▋                                     | 666/1261 [08:00<07:21,  1.35it/s]"
     ]
    },
    {
     "name": "stdout",
     "output_type": "stream",
     "text": [
      "ret 7.79668260148525e-05\n",
      "LA.norm(trackline.diffs)>15*np.std(coefnorm): -106.414222293\n",
      "dist_diff 170.255374778\n"
     ]
    },
    {
     "name": "stderr",
     "output_type": "stream",
     "text": [
      "\r",
      " 53%|█████████████████████████████████████████▊                                     | 667/1261 [08:00<07:21,  1.35it/s]"
     ]
    },
    {
     "name": "stdout",
     "output_type": "stream",
     "text": [
      "ret 0.0001310559139718892\n",
      "LA.norm(trackline.diffs)>15*np.std(coefnorm): -109.426644653\n",
      "dist_diff 167.925394808\n"
     ]
    },
    {
     "name": "stderr",
     "output_type": "stream",
     "text": [
      "\r",
      " 53%|█████████████████████████████████████████▊                                     | 668/1261 [08:01<07:19,  1.35it/s]"
     ]
    },
    {
     "name": "stdout",
     "output_type": "stream",
     "text": [
      "ret 0.00011549616382577899\n",
      "LA.norm(trackline.diffs)>15*np.std(coefnorm): -100.988212676\n",
      "dist_diff 167.863257072\n"
     ]
    },
    {
     "name": "stderr",
     "output_type": "stream",
     "text": [
      "\r",
      " 53%|█████████████████████████████████████████▉                                     | 669/1261 [08:02<07:20,  1.34it/s]"
     ]
    },
    {
     "name": "stdout",
     "output_type": "stream",
     "text": [
      "ret 1.2829712066009247e-05\n",
      "LA.norm(trackline.diffs)>15*np.std(coefnorm): -92.3420769751\n",
      "dist_diff 163.705012287\n"
     ]
    },
    {
     "name": "stderr",
     "output_type": "stream",
     "text": [
      "\r",
      " 53%|█████████████████████████████████████████▉                                     | 670/1261 [08:03<07:17,  1.35it/s]"
     ]
    },
    {
     "name": "stdout",
     "output_type": "stream",
     "text": [
      "ret 1.0277795254143296e-05\n",
      "LA.norm(trackline.diffs)>15*np.std(coefnorm): -72.7270950211\n",
      "dist_diff 160.383483212\n"
     ]
    },
    {
     "name": "stderr",
     "output_type": "stream",
     "text": [
      "\r",
      " 53%|██████████████████████████████████████████                                     | 671/1261 [08:03<07:16,  1.35it/s]"
     ]
    },
    {
     "name": "stdout",
     "output_type": "stream",
     "text": [
      "ret 0.0002196590635332174\n",
      "LA.norm(trackline.diffs)>15*np.std(coefnorm): -66.0537245124\n",
      "dist_diff 158.010514943\n"
     ]
    },
    {
     "name": "stderr",
     "output_type": "stream",
     "text": [
      "\r",
      " 53%|██████████████████████████████████████████                                     | 672/1261 [08:04<07:09,  1.37it/s]"
     ]
    },
    {
     "name": "stdout",
     "output_type": "stream",
     "text": [
      "ret 1.8703661939789562e-05\n",
      "LA.norm(trackline.diffs)>15*np.std(coefnorm): -51.48095133\n",
      "dist_diff 159.081749615\n"
     ]
    },
    {
     "name": "stderr",
     "output_type": "stream",
     "text": [
      "\r",
      " 53%|██████████████████████████████████████████▏                                    | 673/1261 [08:05<07:09,  1.37it/s]"
     ]
    },
    {
     "name": "stdout",
     "output_type": "stream",
     "text": [
      "ret 3.924796941257025e-05\n",
      "LA.norm(trackline.diffs)>15*np.std(coefnorm): -51.941732068\n",
      "dist_diff 161.899461054\n"
     ]
    },
    {
     "name": "stderr",
     "output_type": "stream",
     "text": [
      "\r",
      " 53%|██████████████████████████████████████████▏                                    | 674/1261 [08:05<07:07,  1.37it/s]"
     ]
    },
    {
     "name": "stdout",
     "output_type": "stream",
     "text": [
      "ret 1.5094234564361209e-05\n",
      "LA.norm(trackline.diffs)>15*np.std(coefnorm): -51.049043554\n",
      "dist_diff 163.697942606\n"
     ]
    },
    {
     "name": "stderr",
     "output_type": "stream",
     "text": [
      "\r",
      " 54%|██████████████████████████████████████████▎                                    | 675/1261 [08:06<07:08,  1.37it/s]"
     ]
    },
    {
     "name": "stdout",
     "output_type": "stream",
     "text": [
      "ret 1.40331939555427e-05\n",
      "LA.norm(trackline.diffs)>15*np.std(coefnorm): -47.2299143878\n",
      "dist_diff 164.269583958\n"
     ]
    },
    {
     "name": "stderr",
     "output_type": "stream",
     "text": [
      "\r",
      " 54%|██████████████████████████████████████████▎                                    | 676/1261 [08:07<07:09,  1.36it/s]"
     ]
    },
    {
     "name": "stdout",
     "output_type": "stream",
     "text": [
      "ret 9.186103401309653e-05\n",
      "LA.norm(trackline.diffs)>15*np.std(coefnorm): -42.4238792664\n",
      "dist_diff 169.948162562\n"
     ]
    },
    {
     "name": "stderr",
     "output_type": "stream",
     "text": [
      "\r",
      " 54%|██████████████████████████████████████████▍                                    | 677/1261 [08:08<07:12,  1.35it/s]"
     ]
    },
    {
     "name": "stdout",
     "output_type": "stream",
     "text": [
      "ret 1.1325210492518778e-05\n",
      "LA.norm(trackline.diffs)>15*np.std(coefnorm): -61.3900737571\n",
      "dist_diff 166.403569031\n"
     ]
    },
    {
     "name": "stderr",
     "output_type": "stream",
     "text": [
      "\r",
      " 54%|██████████████████████████████████████████▍                                    | 678/1261 [08:08<07:12,  1.35it/s]"
     ]
    },
    {
     "name": "stdout",
     "output_type": "stream",
     "text": [
      "ret 2.7588568872971564e-05\n",
      "LA.norm(trackline.diffs)>15*np.std(coefnorm): -63.5091722248\n",
      "dist_diff 168.989010996\n"
     ]
    },
    {
     "name": "stderr",
     "output_type": "stream",
     "text": [
      "\r",
      " 54%|██████████████████████████████████████████▌                                    | 679/1261 [08:09<07:16,  1.33it/s]"
     ]
    },
    {
     "name": "stdout",
     "output_type": "stream",
     "text": [
      "ret 5.9659448775173374e-05\n",
      "LA.norm(trackline.diffs)>15*np.std(coefnorm): -63.2362084727\n",
      "dist_diff 170.439110935\n"
     ]
    },
    {
     "name": "stderr",
     "output_type": "stream",
     "text": [
      "\r",
      " 54%|██████████████████████████████████████████▌                                    | 680/1261 [08:10<07:12,  1.34it/s]"
     ]
    },
    {
     "name": "stdout",
     "output_type": "stream",
     "text": [
      "ret 2.3460888391002577e-05\n",
      "LA.norm(trackline.diffs)>15*np.std(coefnorm): -70.0616150351\n",
      "dist_diff 169.323992732\n"
     ]
    },
    {
     "name": "stderr",
     "output_type": "stream",
     "text": [
      "\r",
      " 54%|██████████████████████████████████████████▋                                    | 681/1261 [08:11<07:11,  1.34it/s]"
     ]
    },
    {
     "name": "stdout",
     "output_type": "stream",
     "text": [
      "ret 3.6849035128239116e-06\n",
      "LA.norm(trackline.diffs)>15*np.std(coefnorm): -81.5711510296\n",
      "dist_diff 163.381339598\n"
     ]
    },
    {
     "name": "stderr",
     "output_type": "stream",
     "text": [
      "\r",
      " 54%|██████████████████████████████████████████▋                                    | 682/1261 [08:11<07:12,  1.34it/s]"
     ]
    },
    {
     "name": "stdout",
     "output_type": "stream",
     "text": [
      "ret 2.7691624449044383e-05\n",
      "LA.norm(trackline.diffs)>15*np.std(coefnorm): -76.8695894754\n",
      "dist_diff 162.616429727\n"
     ]
    },
    {
     "name": "stderr",
     "output_type": "stream",
     "text": [
      "\r",
      " 54%|██████████████████████████████████████████▊                                    | 683/1261 [08:12<07:13,  1.33it/s]"
     ]
    },
    {
     "name": "stdout",
     "output_type": "stream",
     "text": [
      "ret 4.700033483401311e-05\n",
      "LA.norm(trackline.diffs)>15*np.std(coefnorm): -46.9973138077\n",
      "dist_diff 159.613591811\n"
     ]
    },
    {
     "name": "stderr",
     "output_type": "stream",
     "text": [
      "\r",
      " 54%|██████████████████████████████████████████▊                                    | 684/1261 [08:13<07:05,  1.36it/s]"
     ]
    },
    {
     "name": "stdout",
     "output_type": "stream",
     "text": [
      "ret 2.0383666091139396e-05\n",
      "LA.norm(trackline.diffs)>15*np.std(coefnorm): -38.6574370449\n",
      "dist_diff 159.744777182\n"
     ]
    },
    {
     "name": "stderr",
     "output_type": "stream",
     "text": [
      "\r",
      " 54%|██████████████████████████████████████████▉                                    | 685/1261 [08:14<07:02,  1.36it/s]"
     ]
    },
    {
     "name": "stdout",
     "output_type": "stream",
     "text": [
      "ret 7.449823588823179e-05\n",
      "LA.norm(trackline.diffs)>15*np.std(coefnorm): -28.4771984093\n",
      "dist_diff 161.505947359\n"
     ]
    },
    {
     "name": "stderr",
     "output_type": "stream",
     "text": [
      "\r",
      " 54%|██████████████████████████████████████████▉                                    | 686/1261 [08:14<07:03,  1.36it/s]"
     ]
    },
    {
     "name": "stdout",
     "output_type": "stream",
     "text": [
      "ret 3.171882319991104e-05\n",
      "LA.norm(trackline.diffs)>15*np.std(coefnorm): -20.0132041052\n",
      "dist_diff 161.789389989\n"
     ]
    },
    {
     "name": "stderr",
     "output_type": "stream",
     "text": [
      "\r",
      " 54%|███████████████████████████████████████████                                    | 687/1261 [08:15<07:07,  1.34it/s]"
     ]
    },
    {
     "name": "stdout",
     "output_type": "stream",
     "text": [
      "ret 0.0001052861016606621\n",
      "LA.norm(trackline.diffs)>15*np.std(coefnorm): -20.7652088629\n",
      "dist_diff 161.806166632\n"
     ]
    },
    {
     "name": "stderr",
     "output_type": "stream",
     "text": [
      "\r",
      " 55%|███████████████████████████████████████████                                    | 688/1261 [08:16<07:11,  1.33it/s]"
     ]
    },
    {
     "name": "stdout",
     "output_type": "stream",
     "text": [
      "ret 0.00013116485627834296\n",
      "LA.norm(trackline.diffs)>15*np.std(coefnorm): -10.5192211497\n",
      "dist_diff 156.675788903\n"
     ]
    },
    {
     "name": "stderr",
     "output_type": "stream",
     "text": [
      "\r",
      " 55%|███████████████████████████████████████████▏                                   | 689/1261 [08:17<07:08,  1.34it/s]"
     ]
    },
    {
     "name": "stdout",
     "output_type": "stream",
     "text": [
      "ret 5.921108762629856e-06\n",
      "LA.norm(trackline.diffs)>15*np.std(coefnorm): -14.7867000616\n",
      "dist_diff 161.572014357\n"
     ]
    },
    {
     "name": "stderr",
     "output_type": "stream",
     "text": [
      "\r",
      " 55%|███████████████████████████████████████████▏                                   | 690/1261 [08:17<07:05,  1.34it/s]"
     ]
    },
    {
     "name": "stdout",
     "output_type": "stream",
     "text": [
      "ret 2.658382129161474e-05\n",
      "LA.norm(trackline.diffs)>15*np.std(coefnorm): -25.6038407146\n",
      "dist_diff 165.452684789\n"
     ]
    },
    {
     "name": "stderr",
     "output_type": "stream",
     "text": [
      "\r",
      " 55%|███████████████████████████████████████████▎                                   | 691/1261 [08:18<07:04,  1.34it/s]"
     ]
    },
    {
     "name": "stdout",
     "output_type": "stream",
     "text": [
      "ret 7.259023485167715e-05\n",
      "LA.norm(trackline.diffs)>15*np.std(coefnorm): -15.0349377813\n",
      "dist_diff 167.725148567\n"
     ]
    },
    {
     "name": "stderr",
     "output_type": "stream",
     "text": [
      "\r",
      " 55%|███████████████████████████████████████████▎                                   | 692/1261 [08:19<07:03,  1.34it/s]"
     ]
    },
    {
     "name": "stdout",
     "output_type": "stream",
     "text": [
      "ret 5.296960414341578e-05\n",
      "LA.norm(trackline.diffs)>15*np.std(coefnorm): -15.6547383738\n",
      "dist_diff 166.980816073\n"
     ]
    },
    {
     "name": "stderr",
     "output_type": "stream",
     "text": [
      "\r",
      " 55%|███████████████████████████████████████████▍                                   | 693/1261 [08:20<07:09,  1.32it/s]"
     ]
    },
    {
     "name": "stdout",
     "output_type": "stream",
     "text": [
      "ret 0.00014159422672638255\n",
      "LA.norm(trackline.diffs)>15*np.std(coefnorm): -33.3788092124\n",
      "dist_diff 154.969642752\n"
     ]
    },
    {
     "name": "stderr",
     "output_type": "stream",
     "text": [
      "\r",
      " 55%|███████████████████████████████████████████▍                                   | 694/1261 [08:20<07:14,  1.30it/s]"
     ]
    },
    {
     "name": "stdout",
     "output_type": "stream",
     "text": [
      "ret 1.9663819459281306e-05\n",
      "LA.norm(trackline.diffs)>15*np.std(coefnorm): -35.5151595674\n",
      "dist_diff 154.548202103\n"
     ]
    },
    {
     "name": "stderr",
     "output_type": "stream",
     "text": [
      "\r",
      " 55%|███████████████████████████████████████████▌                                   | 695/1261 [08:21<07:12,  1.31it/s]"
     ]
    },
    {
     "name": "stdout",
     "output_type": "stream",
     "text": [
      "ret 1.6751620581900717e-05\n",
      "LA.norm(trackline.diffs)>15*np.std(coefnorm): -46.9637112333\n",
      "dist_diff 153.315316835\n"
     ]
    },
    {
     "name": "stderr",
     "output_type": "stream",
     "text": [
      "\r",
      " 55%|███████████████████████████████████████████▌                                   | 696/1261 [08:22<07:14,  1.30it/s]"
     ]
    },
    {
     "name": "stdout",
     "output_type": "stream",
     "text": [
      "ret 8.993368007770286e-05\n",
      "LA.norm(trackline.diffs)>15*np.std(coefnorm): -44.9643839981\n",
      "dist_diff 154.005069881\n"
     ]
    },
    {
     "name": "stderr",
     "output_type": "stream",
     "text": [
      "\r",
      " 55%|███████████████████████████████████████████▋                                   | 697/1261 [08:23<07:15,  1.29it/s]"
     ]
    },
    {
     "name": "stdout",
     "output_type": "stream",
     "text": [
      "ret 0.00012096117247106797\n",
      "LA.norm(trackline.diffs)>15*np.std(coefnorm): -41.2319247488\n",
      "dist_diff 153.487194074\n"
     ]
    },
    {
     "name": "stderr",
     "output_type": "stream",
     "text": [
      "\r",
      " 55%|███████████████████████████████████████████▋                                   | 698/1261 [08:23<07:17,  1.29it/s]"
     ]
    },
    {
     "name": "stdout",
     "output_type": "stream",
     "text": [
      "ret 1.1230541220985657e-05\n",
      "LA.norm(trackline.diffs)>15*np.std(coefnorm): -44.5179228309\n",
      "dist_diff 155.282377962\n"
     ]
    },
    {
     "name": "stderr",
     "output_type": "stream",
     "text": [
      "\r",
      " 55%|███████████████████████████████████████████▊                                   | 699/1261 [08:24<07:14,  1.29it/s]"
     ]
    },
    {
     "name": "stdout",
     "output_type": "stream",
     "text": [
      "ret 0.00023215647565238973\n",
      "LA.norm(trackline.diffs)>15*np.std(coefnorm): -35.7265447697\n",
      "dist_diff 152.439580358\n"
     ]
    },
    {
     "name": "stderr",
     "output_type": "stream",
     "text": [
      "\r",
      " 56%|███████████████████████████████████████████▊                                   | 700/1261 [08:25<07:15,  1.29it/s]"
     ]
    },
    {
     "name": "stdout",
     "output_type": "stream",
     "text": [
      "ret 9.13787047523984e-06\n",
      "LA.norm(trackline.diffs)>15*np.std(coefnorm): -38.8861415385\n",
      "dist_diff 153.211080374\n"
     ]
    },
    {
     "name": "stderr",
     "output_type": "stream",
     "text": [
      "\r",
      " 56%|███████████████████████████████████████████▉                                   | 701/1261 [08:26<07:12,  1.29it/s]"
     ]
    },
    {
     "name": "stdout",
     "output_type": "stream",
     "text": [
      "ret 8.514295554873375e-05\n",
      "LA.norm(trackline.diffs)>15*np.std(coefnorm): -50.1867093786\n",
      "dist_diff 148.815893582\n"
     ]
    },
    {
     "name": "stderr",
     "output_type": "stream",
     "text": [
      "\r",
      " 56%|███████████████████████████████████████████▉                                   | 702/1261 [08:27<07:11,  1.29it/s]"
     ]
    },
    {
     "name": "stdout",
     "output_type": "stream",
     "text": [
      "ret 5.713570207116492e-05\n",
      "LA.norm(trackline.diffs)>15*np.std(coefnorm): -46.3251927741\n",
      "dist_diff 148.22374661\n"
     ]
    },
    {
     "name": "stderr",
     "output_type": "stream",
     "text": [
      "\r",
      " 56%|████████████████████████████████████████████                                   | 703/1261 [08:27<07:06,  1.31it/s]"
     ]
    },
    {
     "name": "stdout",
     "output_type": "stream",
     "text": [
      "ret 1.1827912178630218e-05\n",
      "LA.norm(trackline.diffs)>15*np.std(coefnorm): -20.4502736098\n",
      "dist_diff 145.016853166\n"
     ]
    },
    {
     "name": "stderr",
     "output_type": "stream",
     "text": [
      "\r",
      " 56%|████████████████████████████████████████████                                   | 704/1261 [08:28<07:06,  1.31it/s]"
     ]
    },
    {
     "name": "stdout",
     "output_type": "stream",
     "text": [
      "ret 0.00013781636781690088\n",
      "LA.norm(trackline.diffs)>15*np.std(coefnorm): -18.300600189\n",
      "dist_diff 143.328754905\n"
     ]
    },
    {
     "name": "stderr",
     "output_type": "stream",
     "text": [
      "\r",
      " 56%|████████████████████████████████████████████▏                                  | 705/1261 [08:29<07:05,  1.31it/s]"
     ]
    },
    {
     "name": "stdout",
     "output_type": "stream",
     "text": [
      "ret 0.00010832629607337996\n",
      "LA.norm(trackline.diffs)>15*np.std(coefnorm): -35.6234541511\n",
      "dist_diff 143.794677212\n"
     ]
    },
    {
     "name": "stderr",
     "output_type": "stream",
     "text": [
      "\r",
      " 56%|████████████████████████████████████████████▏                                  | 706/1261 [08:30<07:06,  1.30it/s]"
     ]
    },
    {
     "name": "stdout",
     "output_type": "stream",
     "text": [
      "ret 9.581912775374901e-05\n",
      "LA.norm(trackline.diffs)>15*np.std(coefnorm): -25.4691149845\n",
      "dist_diff 138.843560226\n"
     ]
    },
    {
     "name": "stderr",
     "output_type": "stream",
     "text": [
      "\r",
      " 56%|████████████████████████████████████████████▎                                  | 707/1261 [08:30<07:07,  1.30it/s]"
     ]
    },
    {
     "name": "stdout",
     "output_type": "stream",
     "text": [
      "ret 6.106383290488404e-05\n",
      "LA.norm(trackline.diffs)>15*np.std(coefnorm): -38.1144901313\n",
      "dist_diff 141.886775969\n"
     ]
    },
    {
     "name": "stderr",
     "output_type": "stream",
     "text": [
      "\r",
      " 56%|████████████████████████████████████████████▎                                  | 708/1261 [08:31<07:03,  1.31it/s]"
     ]
    },
    {
     "name": "stdout",
     "output_type": "stream",
     "text": [
      "ret 0.00011715782858368051\n",
      "LA.norm(trackline.diffs)>15*np.std(coefnorm): -39.2148898948\n",
      "dist_diff 144.171727492\n"
     ]
    },
    {
     "name": "stderr",
     "output_type": "stream",
     "text": [
      "\r",
      " 56%|████████████████████████████████████████████▍                                  | 709/1261 [08:32<06:55,  1.33it/s]"
     ]
    },
    {
     "name": "stdout",
     "output_type": "stream",
     "text": [
      "ret 4.944819515628751e-05\n",
      "LA.norm(trackline.diffs)>15*np.std(coefnorm): -40.3797251239\n",
      "dist_diff 147.63544229\n"
     ]
    },
    {
     "name": "stderr",
     "output_type": "stream",
     "text": [
      "\r",
      " 56%|████████████████████████████████████████████▍                                  | 710/1261 [08:33<07:00,  1.31it/s]"
     ]
    },
    {
     "name": "stdout",
     "output_type": "stream",
     "text": [
      "ret 4.562080773584665e-05\n",
      "LA.norm(trackline.diffs)>15*np.std(coefnorm): -38.6449732511\n",
      "dist_diff 149.830674339\n"
     ]
    },
    {
     "name": "stderr",
     "output_type": "stream",
     "text": [
      "\r",
      " 56%|████████████████████████████████████████████▌                                  | 711/1261 [08:33<07:03,  1.30it/s]"
     ]
    },
    {
     "name": "stdout",
     "output_type": "stream",
     "text": [
      "ret 9.999254064901875e-05\n",
      "LA.norm(trackline.diffs)>15*np.std(coefnorm): -32.4716763569\n",
      "dist_diff 154.570680673\n"
     ]
    },
    {
     "name": "stderr",
     "output_type": "stream",
     "text": [
      "\r",
      " 56%|████████████████████████████████████████████▌                                  | 712/1261 [08:34<07:02,  1.30it/s]"
     ]
    },
    {
     "name": "stdout",
     "output_type": "stream",
     "text": [
      "ret 6.744718346979317e-05\n",
      "LA.norm(trackline.diffs)>15*np.std(coefnorm): -22.5586867961\n",
      "dist_diff 158.070624931\n"
     ]
    },
    {
     "name": "stderr",
     "output_type": "stream",
     "text": [
      "\r",
      " 57%|████████████████████████████████████████████▋                                  | 713/1261 [08:35<07:00,  1.30it/s]"
     ]
    },
    {
     "name": "stdout",
     "output_type": "stream",
     "text": [
      "ret 7.70513191078459e-05\n",
      "LA.norm(trackline.diffs)>15*np.std(coefnorm): -34.1042614672\n",
      "dist_diff 162.953317441\n"
     ]
    },
    {
     "name": "stderr",
     "output_type": "stream",
     "text": [
      "\r",
      " 57%|████████████████████████████████████████████▋                                  | 714/1261 [08:36<07:02,  1.30it/s]"
     ]
    },
    {
     "name": "stdout",
     "output_type": "stream",
     "text": [
      "ret 0.00012687572603581332\n",
      "LA.norm(trackline.diffs)>15*np.std(coefnorm): -24.5495839985\n",
      "dist_diff 166.897558046\n"
     ]
    },
    {
     "name": "stderr",
     "output_type": "stream",
     "text": [
      "\r",
      " 57%|████████████████████████████████████████████▊                                  | 715/1261 [08:37<06:56,  1.31it/s]"
     ]
    },
    {
     "name": "stdout",
     "output_type": "stream",
     "text": [
      "ret 7.875022124459452e-06\n",
      "LA.norm(trackline.diffs)>15*np.std(coefnorm): -25.8514451695\n",
      "dist_diff 164.562696431\n"
     ]
    },
    {
     "name": "stderr",
     "output_type": "stream",
     "text": [
      "\r",
      " 57%|████████████████████████████████████████████▊                                  | 716/1261 [08:37<06:59,  1.30it/s]"
     ]
    },
    {
     "name": "stdout",
     "output_type": "stream",
     "text": [
      "ret 0.00013761778675785985\n",
      "LA.norm(trackline.diffs)>15*np.std(coefnorm): -27.1381863599\n",
      "dist_diff 167.213245426\n"
     ]
    },
    {
     "name": "stderr",
     "output_type": "stream",
     "text": [
      "\r",
      " 57%|████████████████████████████████████████████▉                                  | 717/1261 [08:38<06:57,  1.30it/s]"
     ]
    },
    {
     "name": "stdout",
     "output_type": "stream",
     "text": [
      "ret 0.00015108770143190675\n",
      "LA.norm(trackline.diffs)>15*np.std(coefnorm): -29.4330290366\n",
      "dist_diff 168.152094287\n"
     ]
    },
    {
     "name": "stderr",
     "output_type": "stream",
     "text": [
      "\r",
      " 57%|████████████████████████████████████████████▉                                  | 718/1261 [08:39<06:53,  1.31it/s]"
     ]
    },
    {
     "name": "stdout",
     "output_type": "stream",
     "text": [
      "ret 9.517092789068649e-05\n",
      "LA.norm(trackline.diffs)>15*np.std(coefnorm): -19.6645743378\n",
      "dist_diff 163.969450481\n"
     ]
    },
    {
     "name": "stderr",
     "output_type": "stream",
     "text": [
      "\r",
      " 57%|█████████████████████████████████████████████                                  | 719/1261 [08:40<06:52,  1.31it/s]"
     ]
    },
    {
     "name": "stdout",
     "output_type": "stream",
     "text": [
      "ret 1.764464744435923e-05\n",
      "LA.norm(trackline.diffs)>15*np.std(coefnorm): -30.7291219375\n",
      "dist_diff 164.658800651\n"
     ]
    },
    {
     "name": "stderr",
     "output_type": "stream",
     "text": [
      "\r",
      " 57%|█████████████████████████████████████████████                                  | 720/1261 [08:40<06:55,  1.30it/s]"
     ]
    },
    {
     "name": "stdout",
     "output_type": "stream",
     "text": [
      "ret 2.022798125073111e-05\n",
      "LA.norm(trackline.diffs)>15*np.std(coefnorm): -59.1844397232\n",
      "dist_diff 165.857919623\n"
     ]
    },
    {
     "name": "stderr",
     "output_type": "stream",
     "text": [
      "\r",
      " 57%|█████████████████████████████████████████████▏                                 | 721/1261 [08:41<06:59,  1.29it/s]"
     ]
    },
    {
     "name": "stdout",
     "output_type": "stream",
     "text": [
      "ret 4.574387384448375e-05\n",
      "LA.norm(trackline.diffs)>15*np.std(coefnorm): -94.5779092859\n",
      "dist_diff 169.524975161\n"
     ]
    },
    {
     "name": "stderr",
     "output_type": "stream",
     "text": [
      "\r",
      " 57%|█████████████████████████████████████████████▏                                 | 722/1261 [08:42<07:00,  1.28it/s]"
     ]
    },
    {
     "name": "stdout",
     "output_type": "stream",
     "text": [
      "ret 1.4449276189820726e-05\n",
      "LA.norm(trackline.diffs)>15*np.std(coefnorm): -111.062944172\n",
      "dist_diff 170.8535022\n"
     ]
    },
    {
     "name": "stderr",
     "output_type": "stream",
     "text": [
      "\r",
      " 57%|█████████████████████████████████████████████▎                                 | 723/1261 [08:43<07:00,  1.28it/s]"
     ]
    },
    {
     "name": "stdout",
     "output_type": "stream",
     "text": [
      "ret 4.9881018781894326e-05\n",
      "LA.norm(trackline.diffs)>15*np.std(coefnorm): -128.944764135\n",
      "dist_diff 172.584394024\n"
     ]
    },
    {
     "name": "stderr",
     "output_type": "stream",
     "text": [
      "\r",
      " 57%|█████████████████████████████████████████████▎                                 | 724/1261 [08:44<06:59,  1.28it/s]"
     ]
    },
    {
     "name": "stdout",
     "output_type": "stream",
     "text": [
      "ret 0.00012280178241197426\n",
      "LA.norm(trackline.diffs)>15*np.std(coefnorm): -133.85734175\n",
      "dist_diff 177.972785921\n"
     ]
    },
    {
     "name": "stderr",
     "output_type": "stream",
     "text": [
      "\r",
      " 57%|█████████████████████████████████████████████▍                                 | 725/1261 [08:44<06:57,  1.28it/s]"
     ]
    },
    {
     "name": "stdout",
     "output_type": "stream",
     "text": [
      "ret 0.0001350156248352552\n",
      "LA.norm(trackline.diffs)>15*np.std(coefnorm): -147.319754722\n",
      "dist_diff 182.284047512\n"
     ]
    },
    {
     "name": "stderr",
     "output_type": "stream",
     "text": [
      "\r",
      " 58%|█████████████████████████████████████████████▍                                 | 726/1261 [08:45<06:57,  1.28it/s]"
     ]
    },
    {
     "name": "stdout",
     "output_type": "stream",
     "text": [
      "ret 4.696851029195592e-05\n",
      "LA.norm(trackline.diffs)>15*np.std(coefnorm): -167.418850138\n",
      "dist_diff 184.35443101\n"
     ]
    },
    {
     "name": "stderr",
     "output_type": "stream",
     "text": [
      "\r",
      " 58%|█████████████████████████████████████████████▌                                 | 727/1261 [08:46<06:58,  1.28it/s]"
     ]
    },
    {
     "name": "stdout",
     "output_type": "stream",
     "text": [
      "ret 4.96835903879278e-05\n",
      "LA.norm(trackline.diffs)>15*np.std(coefnorm): -174.438302268\n",
      "dist_diff 203.276533481\n"
     ]
    },
    {
     "name": "stderr",
     "output_type": "stream",
     "text": [
      "\r",
      " 58%|█████████████████████████████████████████████▌                                 | 728/1261 [08:47<06:55,  1.28it/s]"
     ]
    },
    {
     "name": "stdout",
     "output_type": "stream",
     "text": [
      "ret 8.709525255340411e-05\n",
      "LA.norm(trackline.diffs)>15*np.std(coefnorm): -143.136839103\n",
      "dist_diff 197.619372949\n"
     ]
    },
    {
     "name": "stderr",
     "output_type": "stream",
     "text": [
      "\r",
      " 58%|█████████████████████████████████████████████▋                                 | 729/1261 [08:47<06:51,  1.29it/s]"
     ]
    },
    {
     "name": "stdout",
     "output_type": "stream",
     "text": [
      "ret 6.775669784908622e-06\n",
      "LA.norm(trackline.diffs)>15*np.std(coefnorm): -121.565267134\n",
      "dist_diff 196.96434879\n"
     ]
    },
    {
     "name": "stderr",
     "output_type": "stream",
     "text": [
      "\r",
      " 58%|█████████████████████████████████████████████▋                                 | 730/1261 [08:48<06:51,  1.29it/s]"
     ]
    },
    {
     "name": "stdout",
     "output_type": "stream",
     "text": [
      "ret 0.0001637672773426857\n",
      "LA.norm(trackline.diffs)>15*np.std(coefnorm): -107.957676866\n",
      "dist_diff 196.695163875\n"
     ]
    },
    {
     "name": "stderr",
     "output_type": "stream",
     "text": [
      "\r",
      " 58%|█████████████████████████████████████████████▊                                 | 731/1261 [08:49<06:50,  1.29it/s]"
     ]
    },
    {
     "name": "stdout",
     "output_type": "stream",
     "text": [
      "ret 0.00025034896859699174\n",
      "LA.norm(trackline.diffs)>15*np.std(coefnorm): -107.644047974\n",
      "dist_diff 194.465171587\n"
     ]
    },
    {
     "name": "stderr",
     "output_type": "stream",
     "text": [
      "\r",
      " 58%|█████████████████████████████████████████████▊                                 | 732/1261 [08:50<06:48,  1.29it/s]"
     ]
    },
    {
     "name": "stdout",
     "output_type": "stream",
     "text": [
      "ret 0.00016415689360382846\n",
      "LA.norm(trackline.diffs)>15*np.std(coefnorm): -104.290296801\n",
      "dist_diff 199.831251002\n"
     ]
    },
    {
     "name": "stderr",
     "output_type": "stream",
     "text": [
      "\r",
      " 58%|█████████████████████████████████████████████▉                                 | 733/1261 [08:50<06:46,  1.30it/s]"
     ]
    },
    {
     "name": "stdout",
     "output_type": "stream",
     "text": [
      "ret 5.059361559145437e-06\n",
      "LA.norm(trackline.diffs)>15*np.std(coefnorm): -115.435284201\n",
      "dist_diff 200.864635326\n"
     ]
    },
    {
     "name": "stderr",
     "output_type": "stream",
     "text": [
      "\r",
      " 58%|█████████████████████████████████████████████▉                                 | 734/1261 [08:51<06:44,  1.30it/s]"
     ]
    },
    {
     "name": "stdout",
     "output_type": "stream",
     "text": [
      "ret 3.506874724140685e-05\n",
      "LA.norm(trackline.diffs)>15*np.std(coefnorm): -121.265347034\n",
      "dist_diff 201.144113568\n"
     ]
    },
    {
     "name": "stderr",
     "output_type": "stream",
     "text": [
      "\r",
      " 58%|██████████████████████████████████████████████                                 | 735/1261 [08:52<06:41,  1.31it/s]"
     ]
    },
    {
     "name": "stdout",
     "output_type": "stream",
     "text": [
      "ret 3.359590749951735e-05\n",
      "LA.norm(trackline.diffs)>15*np.std(coefnorm): -122.835582528\n",
      "dist_diff 201.356371281\n"
     ]
    },
    {
     "name": "stderr",
     "output_type": "stream",
     "text": [
      "\r",
      " 58%|██████████████████████████████████████████████                                 | 736/1261 [08:53<06:36,  1.32it/s]"
     ]
    },
    {
     "name": "stdout",
     "output_type": "stream",
     "text": [
      "ret 3.8355771622089474e-05\n",
      "LA.norm(trackline.diffs)>15*np.std(coefnorm): -130.178051862\n",
      "dist_diff 202.029984569\n"
     ]
    },
    {
     "name": "stderr",
     "output_type": "stream",
     "text": [
      "\r",
      " 58%|██████████████████████████████████████████████▏                                | 737/1261 [08:53<06:34,  1.33it/s]"
     ]
    },
    {
     "name": "stdout",
     "output_type": "stream",
     "text": [
      "ret 3.182925255529323e-06\n",
      "LA.norm(trackline.diffs)>15*np.std(coefnorm): -127.938384849\n",
      "dist_diff 205.085623923\n"
     ]
    },
    {
     "name": "stderr",
     "output_type": "stream",
     "text": [
      "\r",
      " 59%|██████████████████████████████████████████████▏                                | 738/1261 [08:54<06:32,  1.33it/s]"
     ]
    },
    {
     "name": "stdout",
     "output_type": "stream",
     "text": [
      "ret 3.4490776176954174e-05\n",
      "LA.norm(trackline.diffs)>15*np.std(coefnorm): -110.191988018\n",
      "dist_diff 203.697567276\n"
     ]
    },
    {
     "name": "stderr",
     "output_type": "stream",
     "text": [
      "\r",
      " 59%|██████████████████████████████████████████████▎                                | 739/1261 [08:55<06:27,  1.35it/s]"
     ]
    },
    {
     "name": "stdout",
     "output_type": "stream",
     "text": [
      "ret 9.275964827382133e-05\n",
      "LA.norm(trackline.diffs)>15*np.std(coefnorm): -86.0235013931\n",
      "dist_diff 202.550734766\n"
     ]
    },
    {
     "name": "stderr",
     "output_type": "stream",
     "text": [
      "\r",
      " 59%|██████████████████████████████████████████████▎                                | 740/1261 [08:56<06:33,  1.32it/s]"
     ]
    },
    {
     "name": "stdout",
     "output_type": "stream",
     "text": [
      "ret 2.8672265579066103e-05\n",
      "LA.norm(trackline.diffs)>15*np.std(coefnorm): -60.3908091077\n",
      "dist_diff 203.060916256\n"
     ]
    },
    {
     "name": "stderr",
     "output_type": "stream",
     "text": [
      "\r",
      " 59%|██████████████████████████████████████████████▍                                | 741/1261 [08:56<06:33,  1.32it/s]"
     ]
    },
    {
     "name": "stdout",
     "output_type": "stream",
     "text": [
      "ret 0.00020906091185446396\n",
      "LA.norm(trackline.diffs)>15*np.std(coefnorm): -35.5988108168\n",
      "dist_diff 194.71921521\n"
     ]
    },
    {
     "name": "stderr",
     "output_type": "stream",
     "text": [
      "\r",
      " 59%|██████████████████████████████████████████████▍                                | 742/1261 [08:57<06:34,  1.31it/s]"
     ]
    },
    {
     "name": "stdout",
     "output_type": "stream",
     "text": [
      "ret 1.1105188914006803e-06\n",
      "LA.norm(trackline.diffs)>15*np.std(coefnorm): -52.1835426739\n",
      "dist_diff 199.577168837\n"
     ]
    },
    {
     "name": "stderr",
     "output_type": "stream",
     "text": [
      "\r",
      " 59%|██████████████████████████████████████████████▌                                | 743/1261 [08:58<06:35,  1.31it/s]"
     ]
    },
    {
     "name": "stdout",
     "output_type": "stream",
     "text": [
      "ret 8.034396105466302e-05\n",
      "LA.norm(trackline.diffs)>15*np.std(coefnorm): -57.9825116319\n",
      "dist_diff 203.247801393\n"
     ]
    },
    {
     "name": "stderr",
     "output_type": "stream",
     "text": [
      "\r",
      " 59%|██████████████████████████████████████████████▌                                | 744/1261 [08:59<06:38,  1.30it/s]"
     ]
    },
    {
     "name": "stdout",
     "output_type": "stream",
     "text": [
      "ret 8.784769377623292e-05\n",
      "LA.norm(trackline.diffs)>15*np.std(coefnorm): -76.5211404114\n",
      "dist_diff 202.032441029\n"
     ]
    },
    {
     "name": "stderr",
     "output_type": "stream",
     "text": [
      "\r",
      " 59%|██████████████████████████████████████████████▋                                | 745/1261 [09:00<06:32,  1.32it/s]"
     ]
    },
    {
     "name": "stdout",
     "output_type": "stream",
     "text": [
      "ret 9.194381720523115e-05\n",
      "LA.norm(trackline.diffs)>15*np.std(coefnorm): -76.1332232522\n",
      "dist_diff 204.092818148\n"
     ]
    },
    {
     "name": "stderr",
     "output_type": "stream",
     "text": [
      "\r",
      " 59%|██████████████████████████████████████████████▋                                | 746/1261 [09:00<06:31,  1.32it/s]"
     ]
    },
    {
     "name": "stdout",
     "output_type": "stream",
     "text": [
      "ret 4.581665595015938e-05\n",
      "LA.norm(trackline.diffs)>15*np.std(coefnorm): -71.4353951063\n",
      "dist_diff 204.080909732\n"
     ]
    },
    {
     "name": "stderr",
     "output_type": "stream",
     "text": [
      "\r",
      " 59%|██████████████████████████████████████████████▊                                | 747/1261 [09:01<06:31,  1.31it/s]"
     ]
    },
    {
     "name": "stdout",
     "output_type": "stream",
     "text": [
      "ret 0.00011801542138967225\n",
      "LA.norm(trackline.diffs)>15*np.std(coefnorm): -70.6701648028\n",
      "dist_diff 204.364701238\n"
     ]
    },
    {
     "name": "stderr",
     "output_type": "stream",
     "text": [
      "\r",
      " 59%|██████████████████████████████████████████████▊                                | 748/1261 [09:02<06:31,  1.31it/s]"
     ]
    },
    {
     "name": "stdout",
     "output_type": "stream",
     "text": [
      "ret 2.251483155535361e-05\n",
      "LA.norm(trackline.diffs)>15*np.std(coefnorm): -55.5570697025\n",
      "dist_diff 207.464449832\n"
     ]
    },
    {
     "name": "stderr",
     "output_type": "stream",
     "text": [
      "\r",
      " 59%|██████████████████████████████████████████████▉                                | 749/1261 [09:03<06:30,  1.31it/s]"
     ]
    },
    {
     "name": "stdout",
     "output_type": "stream",
     "text": [
      "ret 3.2642709181796015e-06\n",
      "LA.norm(trackline.diffs)>15*np.std(coefnorm): -74.068916198\n",
      "dist_diff 211.071760724\n"
     ]
    },
    {
     "name": "stderr",
     "output_type": "stream",
     "text": [
      "\r",
      " 59%|██████████████████████████████████████████████▉                                | 750/1261 [09:03<06:28,  1.32it/s]"
     ]
    },
    {
     "name": "stdout",
     "output_type": "stream",
     "text": [
      "ret 3.831172324569865e-05\n",
      "LA.norm(trackline.diffs)>15*np.std(coefnorm): -81.0151937785\n",
      "dist_diff 218.565546032\n"
     ]
    },
    {
     "name": "stderr",
     "output_type": "stream",
     "text": [
      "\r",
      " 60%|███████████████████████████████████████████████                                | 751/1261 [09:04<06:28,  1.31it/s]"
     ]
    },
    {
     "name": "stdout",
     "output_type": "stream",
     "text": [
      "ret 1.0703199717521095e-05\n",
      "LA.norm(trackline.diffs)>15*np.std(coefnorm): -73.220746199\n",
      "dist_diff 225.389762202\n"
     ]
    },
    {
     "name": "stderr",
     "output_type": "stream",
     "text": [
      "\r",
      " 60%|███████████████████████████████████████████████                                | 752/1261 [09:05<06:27,  1.31it/s]"
     ]
    },
    {
     "name": "stdout",
     "output_type": "stream",
     "text": [
      "ret 8.981020238107984e-06\n",
      "LA.norm(trackline.diffs)>15*np.std(coefnorm): -91.264944126\n",
      "dist_diff 228.233132308\n"
     ]
    },
    {
     "name": "stderr",
     "output_type": "stream",
     "text": [
      "\r",
      " 60%|███████████████████████████████████████████████▏                               | 753/1261 [09:06<06:24,  1.32it/s]"
     ]
    },
    {
     "name": "stdout",
     "output_type": "stream",
     "text": [
      "ret 0.0001370809970939746\n",
      "LA.norm(trackline.diffs)>15*np.std(coefnorm): -95.860790352\n",
      "dist_diff 230.548284521\n"
     ]
    },
    {
     "name": "stderr",
     "output_type": "stream",
     "text": [
      "\r",
      " 60%|███████████████████████████████████████████████▏                               | 754/1261 [09:06<06:26,  1.31it/s]"
     ]
    },
    {
     "name": "stdout",
     "output_type": "stream",
     "text": [
      "ret 0.00021943767766974265\n",
      "LA.norm(trackline.diffs)>15*np.std(coefnorm): -86.812876845\n",
      "dist_diff 226.129768947\n"
     ]
    },
    {
     "name": "stderr",
     "output_type": "stream",
     "text": [
      "\r",
      " 60%|███████████████████████████████████████████████▎                               | 755/1261 [09:07<06:24,  1.32it/s]"
     ]
    },
    {
     "name": "stdout",
     "output_type": "stream",
     "text": [
      "ret 0.0001381958052125709\n",
      "LA.norm(trackline.diffs)>15*np.std(coefnorm): -122.246296895\n",
      "dist_diff 229.458468102\n"
     ]
    },
    {
     "name": "stderr",
     "output_type": "stream",
     "text": [
      "\r",
      " 60%|███████████████████████████████████████████████▎                               | 756/1261 [09:08<06:24,  1.31it/s]"
     ]
    },
    {
     "name": "stdout",
     "output_type": "stream",
     "text": [
      "ret 9.45620935817737e-05\n",
      "LA.norm(trackline.diffs)>15*np.std(coefnorm): -139.476657565\n",
      "dist_diff 230.554259091\n"
     ]
    },
    {
     "name": "stderr",
     "output_type": "stream",
     "text": [
      "\r",
      " 60%|███████████████████████████████████████████████▍                               | 757/1261 [09:09<06:26,  1.31it/s]"
     ]
    },
    {
     "name": "stdout",
     "output_type": "stream",
     "text": [
      "ret 5.449563230841559e-05\n",
      "LA.norm(trackline.diffs)>15*np.std(coefnorm): -131.572177815\n",
      "dist_diff 227.242913878\n"
     ]
    },
    {
     "name": "stderr",
     "output_type": "stream",
     "text": [
      "\r",
      " 60%|███████████████████████████████████████████████▍                               | 758/1261 [09:09<06:25,  1.31it/s]"
     ]
    },
    {
     "name": "stdout",
     "output_type": "stream",
     "text": [
      "ret 0.00015264307700746382\n",
      "LA.norm(trackline.diffs)>15*np.std(coefnorm): -163.586401479\n",
      "dist_diff 232.953527435\n"
     ]
    },
    {
     "name": "stderr",
     "output_type": "stream",
     "text": [
      "\r",
      " 60%|███████████████████████████████████████████████▌                               | 759/1261 [09:10<06:24,  1.31it/s]"
     ]
    },
    {
     "name": "stdout",
     "output_type": "stream",
     "text": [
      "ret 0.00022501557119269933\n",
      "LA.norm(trackline.diffs)>15*np.std(coefnorm): -166.266709963\n",
      "dist_diff 232.801209364\n"
     ]
    },
    {
     "name": "stderr",
     "output_type": "stream",
     "text": [
      "\r",
      " 60%|███████████████████████████████████████████████▌                               | 760/1261 [09:11<06:22,  1.31it/s]"
     ]
    },
    {
     "name": "stdout",
     "output_type": "stream",
     "text": [
      "ret 0.00027481676125817867\n",
      "LA.norm(trackline.diffs)>15*np.std(coefnorm): -168.116100605\n",
      "dist_diff 233.845923572\n"
     ]
    },
    {
     "name": "stderr",
     "output_type": "stream",
     "text": [
      "\r",
      " 60%|███████████████████████████████████████████████▋                               | 761/1261 [09:12<06:21,  1.31it/s]"
     ]
    },
    {
     "name": "stdout",
     "output_type": "stream",
     "text": [
      "ret 0.00042661279869077307\n",
      "LA.norm(trackline.diffs)>15*np.std(coefnorm): -168.539661686\n",
      "dist_diff 231.294496925\n"
     ]
    },
    {
     "name": "stderr",
     "output_type": "stream",
     "text": [
      "\r",
      " 60%|███████████████████████████████████████████████▋                               | 762/1261 [09:13<06:21,  1.31it/s]"
     ]
    },
    {
     "name": "stdout",
     "output_type": "stream",
     "text": [
      "ret 0.000431934170145587\n",
      "LA.norm(trackline.diffs)>15*np.std(coefnorm): -168.3760574\n",
      "dist_diff 231.431458372\n"
     ]
    },
    {
     "name": "stderr",
     "output_type": "stream",
     "text": [
      "\r",
      " 61%|███████████████████████████████████████████████▊                               | 763/1261 [09:13<06:21,  1.30it/s]"
     ]
    },
    {
     "name": "stdout",
     "output_type": "stream",
     "text": [
      "ret 0.0006519457661656736\n",
      "LA.norm(trackline.diffs)>15*np.std(coefnorm): -175.996974247\n",
      "dist_diff 245.184239574\n"
     ]
    },
    {
     "name": "stderr",
     "output_type": "stream",
     "text": [
      "\r",
      " 61%|███████████████████████████████████████████████▊                               | 764/1261 [09:14<06:19,  1.31it/s]"
     ]
    },
    {
     "name": "stdout",
     "output_type": "stream",
     "text": [
      "ret 0.0006950607010855481\n",
      "LA.norm(trackline.diffs)>15*np.std(coefnorm): -176.927291857\n",
      "dist_diff 242.567717372\n"
     ]
    },
    {
     "name": "stderr",
     "output_type": "stream",
     "text": [
      "\r",
      " 61%|███████████████████████████████████████████████▉                               | 765/1261 [09:15<06:19,  1.31it/s]"
     ]
    },
    {
     "name": "stdout",
     "output_type": "stream",
     "text": [
      "ret 0.0006636156303693186\n",
      "LA.norm(trackline.diffs)>15*np.std(coefnorm): -179.009969256\n",
      "dist_diff 237.673186333\n"
     ]
    },
    {
     "name": "stderr",
     "output_type": "stream",
     "text": [
      "\r",
      " 61%|███████████████████████████████████████████████▉                               | 766/1261 [09:16<06:17,  1.31it/s]"
     ]
    },
    {
     "name": "stdout",
     "output_type": "stream",
     "text": [
      "ret 0.0007224357760642897\n",
      "LA.norm(trackline.diffs)>15*np.std(coefnorm): -178.662202977\n",
      "dist_diff 231.946305076\n"
     ]
    },
    {
     "name": "stderr",
     "output_type": "stream",
     "text": [
      "\r",
      " 61%|████████████████████████████████████████████████                               | 767/1261 [09:16<06:21,  1.30it/s]"
     ]
    },
    {
     "name": "stdout",
     "output_type": "stream",
     "text": [
      "ret 0.000610686572443897\n",
      "LA.norm(trackline.diffs)>15*np.std(coefnorm): -181.797438815\n",
      "dist_diff 225.470191786\n"
     ]
    },
    {
     "name": "stderr",
     "output_type": "stream",
     "text": [
      "\r",
      " 61%|████████████████████████████████████████████████                               | 768/1261 [09:17<06:18,  1.30it/s]"
     ]
    },
    {
     "name": "stdout",
     "output_type": "stream",
     "text": [
      "ret 8.017383048730675e-05\n",
      "LA.norm(trackline.diffs)>15*np.std(coefnorm): -152.18446641\n",
      "dist_diff 223.729635769\n"
     ]
    },
    {
     "name": "stderr",
     "output_type": "stream",
     "text": [
      "\r",
      " 61%|████████████████████████████████████████████████▏                              | 769/1261 [09:18<06:19,  1.30it/s]"
     ]
    },
    {
     "name": "stdout",
     "output_type": "stream",
     "text": [
      "ret 1.274251261013104e-05\n",
      "LA.norm(trackline.diffs)>15*np.std(coefnorm): -122.004104093\n",
      "dist_diff 223.627964729\n"
     ]
    },
    {
     "name": "stderr",
     "output_type": "stream",
     "text": [
      "\r",
      " 61%|████████████████████████████████████████████████▏                              | 770/1261 [09:19<06:23,  1.28it/s]"
     ]
    },
    {
     "name": "stdout",
     "output_type": "stream",
     "text": [
      "ret 2.4634893156849635e-05\n",
      "LA.norm(trackline.diffs)>15*np.std(coefnorm): -120.38269759\n",
      "dist_diff 216.739948116\n"
     ]
    },
    {
     "name": "stderr",
     "output_type": "stream",
     "text": [
      "\r",
      " 61%|████████████████████████████████████████████████▎                              | 771/1261 [09:19<06:17,  1.30it/s]"
     ]
    },
    {
     "name": "stdout",
     "output_type": "stream",
     "text": [
      "ret 0.0001649401733836986\n",
      "LA.norm(trackline.diffs)>15*np.std(coefnorm): -118.626448282\n",
      "dist_diff 211.109729757\n"
     ]
    },
    {
     "name": "stderr",
     "output_type": "stream",
     "text": [
      "\r",
      " 61%|████████████████████████████████████████████████▎                              | 772/1261 [09:20<06:19,  1.29it/s]"
     ]
    },
    {
     "name": "stdout",
     "output_type": "stream",
     "text": [
      "ret 2.505039848377244e-05\n",
      "LA.norm(trackline.diffs)>15*np.std(coefnorm): -113.360116759\n",
      "dist_diff 206.473958326\n"
     ]
    },
    {
     "name": "stderr",
     "output_type": "stream",
     "text": [
      "\r",
      " 61%|████████████████████████████████████████████████▍                              | 773/1261 [09:21<06:19,  1.28it/s]"
     ]
    },
    {
     "name": "stdout",
     "output_type": "stream",
     "text": [
      "ret 2.1149294388012052e-07\n",
      "LA.norm(trackline.diffs)>15*np.std(coefnorm): -116.172548652\n",
      "dist_diff 201.042427339\n"
     ]
    },
    {
     "name": "stderr",
     "output_type": "stream",
     "text": [
      "\r",
      " 61%|████████████████████████████████████████████████▍                              | 774/1261 [09:22<06:19,  1.28it/s]"
     ]
    },
    {
     "name": "stdout",
     "output_type": "stream",
     "text": [
      "ret 4.267525039886033e-05\n",
      "LA.norm(trackline.diffs)>15*np.std(coefnorm): -121.945454132\n",
      "dist_diff 199.16193308\n"
     ]
    },
    {
     "name": "stderr",
     "output_type": "stream",
     "text": [
      "\r",
      " 61%|████████████████████████████████████████████████▌                              | 775/1261 [09:23<06:15,  1.29it/s]"
     ]
    },
    {
     "name": "stdout",
     "output_type": "stream",
     "text": [
      "ret 1.1898922371578191e-05\n",
      "LA.norm(trackline.diffs)>15*np.std(coefnorm): -120.032950716\n",
      "dist_diff 197.641800479\n"
     ]
    },
    {
     "name": "stderr",
     "output_type": "stream",
     "text": [
      "\r",
      " 62%|████████████████████████████████████████████████▌                              | 776/1261 [09:23<06:12,  1.30it/s]"
     ]
    },
    {
     "name": "stdout",
     "output_type": "stream",
     "text": [
      "ret 7.021381018834649e-05\n",
      "LA.norm(trackline.diffs)>15*np.std(coefnorm): -120.309538278\n",
      "dist_diff 187.560515467\n"
     ]
    },
    {
     "name": "stderr",
     "output_type": "stream",
     "text": [
      "\r",
      " 62%|████████████████████████████████████████████████▋                              | 777/1261 [09:24<06:17,  1.28it/s]"
     ]
    },
    {
     "name": "stdout",
     "output_type": "stream",
     "text": [
      "ret 0.0001037960842807939\n",
      "LA.norm(trackline.diffs)>15*np.std(coefnorm): -61.762913898\n",
      "dist_diff 182.221519149\n"
     ]
    },
    {
     "name": "stderr",
     "output_type": "stream",
     "text": [
      "\r",
      " 62%|████████████████████████████████████████████████▋                              | 778/1261 [09:25<06:15,  1.28it/s]"
     ]
    },
    {
     "name": "stdout",
     "output_type": "stream",
     "text": [
      "ret 1.4495195441555087e-05\n",
      "LA.norm(trackline.diffs)>15*np.std(coefnorm): -79.1317827245\n",
      "dist_diff 176.308009451\n"
     ]
    },
    {
     "name": "stderr",
     "output_type": "stream",
     "text": [
      "\r",
      " 62%|████████████████████████████████████████████████▊                              | 779/1261 [09:26<06:10,  1.30it/s]"
     ]
    },
    {
     "name": "stdout",
     "output_type": "stream",
     "text": [
      "ret 7.852682108233644e-05\n",
      "LA.norm(trackline.diffs)>15*np.std(coefnorm): -86.864779794\n",
      "dist_diff 176.010900835\n"
     ]
    },
    {
     "name": "stderr",
     "output_type": "stream",
     "text": [
      "\r",
      " 62%|████████████████████████████████████████████████▊                              | 780/1261 [09:26<06:07,  1.31it/s]"
     ]
    },
    {
     "name": "stdout",
     "output_type": "stream",
     "text": [
      "ret 8.358292480409313e-05\n",
      "LA.norm(trackline.diffs)>15*np.std(coefnorm): -96.8001914126\n",
      "dist_diff 173.017181673\n"
     ]
    },
    {
     "name": "stderr",
     "output_type": "stream",
     "text": [
      "\r",
      " 62%|████████████████████████████████████████████████▉                              | 781/1261 [09:27<06:09,  1.30it/s]"
     ]
    },
    {
     "name": "stdout",
     "output_type": "stream",
     "text": [
      "ret 0.0001528704692819738\n",
      "LA.norm(trackline.diffs)>15*np.std(coefnorm): -94.5205510084\n",
      "dist_diff 170.348714342\n"
     ]
    },
    {
     "name": "stderr",
     "output_type": "stream",
     "text": [
      "\r",
      " 62%|████████████████████████████████████████████████▉                              | 782/1261 [09:28<06:08,  1.30it/s]"
     ]
    },
    {
     "name": "stdout",
     "output_type": "stream",
     "text": [
      "ret 1.8014282197498233e-05\n",
      "LA.norm(trackline.diffs)>15*np.std(coefnorm): -93.4009321272\n",
      "dist_diff 173.130822655\n"
     ]
    },
    {
     "name": "stderr",
     "output_type": "stream",
     "text": [
      "\r",
      " 62%|█████████████████████████████████████████████████                              | 783/1261 [09:29<06:10,  1.29it/s]"
     ]
    },
    {
     "name": "stdout",
     "output_type": "stream",
     "text": [
      "ret 0.00010930299228234519\n",
      "LA.norm(trackline.diffs)>15*np.std(coefnorm): -92.7195750902\n",
      "dist_diff 170.92604176\n"
     ]
    },
    {
     "name": "stderr",
     "output_type": "stream",
     "text": [
      "\r",
      " 62%|█████████████████████████████████████████████████                              | 784/1261 [09:29<06:05,  1.31it/s]"
     ]
    },
    {
     "name": "stdout",
     "output_type": "stream",
     "text": [
      "ret 0.00010890201669200295\n",
      "LA.norm(trackline.diffs)>15*np.std(coefnorm): -98.135392623\n",
      "dist_diff 169.826336909\n"
     ]
    },
    {
     "name": "stderr",
     "output_type": "stream",
     "text": [
      "\r",
      " 62%|█████████████████████████████████████████████████▏                             | 785/1261 [09:30<06:00,  1.32it/s]"
     ]
    },
    {
     "name": "stdout",
     "output_type": "stream",
     "text": [
      "ret 3.16693507855792e-05\n",
      "LA.norm(trackline.diffs)>15*np.std(coefnorm): -105.741701638\n",
      "dist_diff 166.856036557\n"
     ]
    },
    {
     "name": "stderr",
     "output_type": "stream",
     "text": [
      "\r",
      " 62%|█████████████████████████████████████████████████▏                             | 786/1261 [09:31<05:57,  1.33it/s]"
     ]
    },
    {
     "name": "stdout",
     "output_type": "stream",
     "text": [
      "ret 6.144216690351367e-05\n",
      "LA.norm(trackline.diffs)>15*np.std(coefnorm): -124.103619883\n",
      "dist_diff 167.974188986\n"
     ]
    },
    {
     "name": "stderr",
     "output_type": "stream",
     "text": [
      "\r",
      " 62%|█████████████████████████████████████████████████▎                             | 787/1261 [09:32<05:58,  1.32it/s]"
     ]
    },
    {
     "name": "stdout",
     "output_type": "stream",
     "text": [
      "ret 2.9359708647702654e-05\n",
      "LA.norm(trackline.diffs)>15*np.std(coefnorm): -134.578159288\n",
      "dist_diff 180.434780674\n"
     ]
    },
    {
     "name": "stderr",
     "output_type": "stream",
     "text": [
      "\r",
      " 62%|█████████████████████████████████████████████████▎                             | 788/1261 [09:32<05:59,  1.32it/s]"
     ]
    },
    {
     "name": "stdout",
     "output_type": "stream",
     "text": [
      "ret 1.3200121402656695e-05\n",
      "LA.norm(trackline.diffs)>15*np.std(coefnorm): -152.707823799\n",
      "dist_diff 180.847153082\n"
     ]
    },
    {
     "name": "stderr",
     "output_type": "stream",
     "text": [
      "\r",
      " 63%|█████████████████████████████████████████████████▍                             | 789/1261 [09:33<05:59,  1.31it/s]"
     ]
    },
    {
     "name": "stdout",
     "output_type": "stream",
     "text": [
      "ret 2.3295611918938697e-06\n",
      "LA.norm(trackline.diffs)>15*np.std(coefnorm): -178.648793796\n",
      "dist_diff 176.215843683\n"
     ]
    },
    {
     "name": "stderr",
     "output_type": "stream",
     "text": [
      "\r",
      " 63%|█████████████████████████████████████████████████▍                             | 790/1261 [09:34<05:57,  1.32it/s]"
     ]
    },
    {
     "name": "stdout",
     "output_type": "stream",
     "text": [
      "ret 7.915554783854972e-07\n",
      "LA.norm(trackline.diffs)>15*np.std(coefnorm): -206.874914465\n",
      "dist_diff 166.133671549\n"
     ]
    },
    {
     "name": "stderr",
     "output_type": "stream",
     "text": [
      "\r",
      " 63%|█████████████████████████████████████████████████▌                             | 791/1261 [09:35<05:58,  1.31it/s]"
     ]
    },
    {
     "name": "stdout",
     "output_type": "stream",
     "text": [
      "ret 6.705171020210399e-05\n",
      "LA.norm(trackline.diffs)>15*np.std(coefnorm): -204.916225972\n",
      "dist_diff 162.132676319\n"
     ]
    },
    {
     "name": "stderr",
     "output_type": "stream",
     "text": [
      "\r",
      " 63%|█████████████████████████████████████████████████▌                             | 792/1261 [09:36<05:58,  1.31it/s]"
     ]
    },
    {
     "name": "stdout",
     "output_type": "stream",
     "text": [
      "ret 0.00010162905517291376\n",
      "LA.norm(trackline.diffs)>15*np.std(coefnorm): -189.201827144\n",
      "dist_diff 157.692292549\n"
     ]
    },
    {
     "name": "stderr",
     "output_type": "stream",
     "text": [
      "\r",
      " 63%|█████████████████████████████████████████████████▋                             | 793/1261 [09:36<05:58,  1.31it/s]"
     ]
    },
    {
     "name": "stdout",
     "output_type": "stream",
     "text": [
      "ret 7.799000070840556e-05\n",
      "LA.norm(trackline.diffs)>15*np.std(coefnorm): -162.362715369\n",
      "dist_diff 158.570367181\n"
     ]
    },
    {
     "name": "stderr",
     "output_type": "stream",
     "text": [
      "\r",
      " 63%|█████████████████████████████████████████████████▋                             | 794/1261 [09:37<05:54,  1.32it/s]"
     ]
    },
    {
     "name": "stdout",
     "output_type": "stream",
     "text": [
      "ret 5.887890522815464e-05\n",
      "LA.norm(trackline.diffs)>15*np.std(coefnorm): -148.50522142\n",
      "dist_diff 160.308758997\n"
     ]
    },
    {
     "name": "stderr",
     "output_type": "stream",
     "text": [
      "\r",
      " 63%|█████████████████████████████████████████████████▊                             | 795/1261 [09:38<05:52,  1.32it/s]"
     ]
    },
    {
     "name": "stdout",
     "output_type": "stream",
     "text": [
      "ret 1.1725432679243752e-06\n",
      "LA.norm(trackline.diffs)>15*np.std(coefnorm): -150.305274263\n",
      "dist_diff 156.7156298\n"
     ]
    },
    {
     "name": "stderr",
     "output_type": "stream",
     "text": [
      "\r",
      " 63%|█████████████████████████████████████████████████▊                             | 796/1261 [09:39<05:57,  1.30it/s]"
     ]
    },
    {
     "name": "stdout",
     "output_type": "stream",
     "text": [
      "ret 0.00018963057033494213\n",
      "LA.norm(trackline.diffs)>15*np.std(coefnorm): -159.593999461\n",
      "dist_diff 153.843979927\n"
     ]
    },
    {
     "name": "stderr",
     "output_type": "stream",
     "text": [
      "\r",
      " 63%|█████████████████████████████████████████████████▉                             | 797/1261 [09:39<06:00,  1.29it/s]"
     ]
    },
    {
     "name": "stdout",
     "output_type": "stream",
     "text": [
      "ret 5.203049087670886e-05\n",
      "LA.norm(trackline.diffs)>15*np.std(coefnorm): -181.362410345\n",
      "dist_diff 149.567467902\n"
     ]
    },
    {
     "name": "stderr",
     "output_type": "stream",
     "text": [
      "\r",
      " 63%|█████████████████████████████████████████████████▉                             | 798/1261 [09:40<05:58,  1.29it/s]"
     ]
    },
    {
     "name": "stdout",
     "output_type": "stream",
     "text": [
      "ret 0.00015790880177490862\n",
      "LA.norm(trackline.diffs)>15*np.std(coefnorm): -201.075071226\n",
      "dist_diff 146.244689494\n"
     ]
    },
    {
     "name": "stderr",
     "output_type": "stream",
     "text": [
      "\r",
      " 63%|██████████████████████████████████████████████████                             | 799/1261 [09:41<05:56,  1.30it/s]"
     ]
    },
    {
     "name": "stdout",
     "output_type": "stream",
     "text": [
      "ret 0.00013665696015430218\n",
      "LA.norm(trackline.diffs)>15*np.std(coefnorm): -220.311168958\n",
      "dist_diff 155.871333471\n"
     ]
    },
    {
     "name": "stderr",
     "output_type": "stream",
     "text": [
      "\r",
      " 63%|██████████████████████████████████████████████████                             | 800/1261 [09:42<05:56,  1.29it/s]"
     ]
    },
    {
     "name": "stdout",
     "output_type": "stream",
     "text": [
      "ret 9.361200168489514e-05\n",
      "LA.norm(trackline.diffs)>15*np.std(coefnorm): -238.434081811\n",
      "dist_diff 145.892150355\n"
     ]
    },
    {
     "name": "stderr",
     "output_type": "stream",
     "text": [
      "\r",
      " 64%|██████████████████████████████████████████████████▏                            | 801/1261 [09:42<05:55,  1.29it/s]"
     ]
    },
    {
     "name": "stdout",
     "output_type": "stream",
     "text": [
      "ret 0.00011170983590935712\n",
      "LA.norm(trackline.diffs)>15*np.std(coefnorm): -238.907222632\n",
      "dist_diff 138.36270565\n"
     ]
    },
    {
     "name": "stderr",
     "output_type": "stream",
     "text": [
      "\r",
      " 64%|██████████████████████████████████████████████████▏                            | 802/1261 [09:43<05:57,  1.28it/s]"
     ]
    },
    {
     "name": "stdout",
     "output_type": "stream",
     "text": [
      "ret 1.0760554208122386e-05\n",
      "LA.norm(trackline.diffs)>15*np.std(coefnorm): -242.685169481\n",
      "dist_diff 128.887407996\n"
     ]
    },
    {
     "name": "stderr",
     "output_type": "stream",
     "text": [
      "\r",
      " 64%|██████████████████████████████████████████████████▎                            | 803/1261 [09:44<05:53,  1.30it/s]"
     ]
    },
    {
     "name": "stdout",
     "output_type": "stream",
     "text": [
      "ret 0.00010837222912019051\n",
      "LA.norm(trackline.diffs)>15*np.std(coefnorm): -218.554291628\n",
      "dist_diff 121.239978134\n"
     ]
    },
    {
     "name": "stderr",
     "output_type": "stream",
     "text": [
      "\r",
      " 64%|██████████████████████████████████████████████████▎                            | 804/1261 [09:45<05:55,  1.29it/s]"
     ]
    },
    {
     "name": "stdout",
     "output_type": "stream",
     "text": [
      "ret 0.0001117672399482128\n",
      "LA.norm(trackline.diffs)>15*np.std(coefnorm): -182.453413272\n",
      "dist_diff 119.665387785\n"
     ]
    },
    {
     "name": "stderr",
     "output_type": "stream",
     "text": [
      "\r",
      " 64%|██████████████████████████████████████████████████▍                            | 805/1261 [09:46<05:53,  1.29it/s]"
     ]
    },
    {
     "name": "stdout",
     "output_type": "stream",
     "text": [
      "ret 1.9857107321497036e-05\n",
      "LA.norm(trackline.diffs)>15*np.std(coefnorm): -159.212730939\n",
      "dist_diff 113.637349474\n"
     ]
    },
    {
     "name": "stderr",
     "output_type": "stream",
     "text": [
      "\r",
      " 64%|██████████████████████████████████████████████████▍                            | 806/1261 [09:46<05:51,  1.30it/s]"
     ]
    },
    {
     "name": "stdout",
     "output_type": "stream",
     "text": [
      "ret 3.736807574811207e-05\n",
      "LA.norm(trackline.diffs)>15*np.std(coefnorm): -138.29560024\n",
      "dist_diff 108.49467906\n"
     ]
    },
    {
     "name": "stderr",
     "output_type": "stream",
     "text": [
      "\r",
      " 64%|██████████████████████████████████████████████████▌                            | 807/1261 [09:47<05:49,  1.30it/s]"
     ]
    },
    {
     "name": "stdout",
     "output_type": "stream",
     "text": [
      "ret 5.9049456014814705e-05\n",
      "LA.norm(trackline.diffs)>15*np.std(coefnorm): -126.572438628\n",
      "dist_diff 106.186035042\n"
     ]
    },
    {
     "name": "stderr",
     "output_type": "stream",
     "text": [
      "\r",
      " 64%|██████████████████████████████████████████████████▌                            | 808/1261 [09:48<05:48,  1.30it/s]"
     ]
    },
    {
     "name": "stdout",
     "output_type": "stream",
     "text": [
      "ret 0.0001702422718813379\n",
      "LA.norm(trackline.diffs)>15*np.std(coefnorm): -114.510990945\n",
      "dist_diff 101.366573271\n"
     ]
    },
    {
     "name": "stderr",
     "output_type": "stream",
     "text": [
      "\r",
      " 64%|██████████████████████████████████████████████████▋                            | 809/1261 [09:49<05:41,  1.32it/s]"
     ]
    },
    {
     "name": "stdout",
     "output_type": "stream",
     "text": [
      "ret 6.059251304618707e-05\n",
      "LA.norm(trackline.diffs)>15*np.std(coefnorm): -98.8853453119\n",
      "dist_diff 95.2606645459\n"
     ]
    },
    {
     "name": "stderr",
     "output_type": "stream",
     "text": [
      "\r",
      " 64%|██████████████████████████████████████████████████▋                            | 810/1261 [09:49<05:39,  1.33it/s]"
     ]
    },
    {
     "name": "stdout",
     "output_type": "stream",
     "text": [
      "ret 7.957164006067163e-05\n",
      "LA.norm(trackline.diffs)>15*np.std(coefnorm): -71.8402295822\n",
      "dist_diff 87.9414510291\n"
     ]
    },
    {
     "name": "stderr",
     "output_type": "stream",
     "text": [
      "\r",
      " 64%|██████████████████████████████████████████████████▊                            | 811/1261 [09:50<05:35,  1.34it/s]"
     ]
    },
    {
     "name": "stdout",
     "output_type": "stream",
     "text": [
      "ret 3.977692911122377e-05\n",
      "LA.norm(trackline.diffs)>15*np.std(coefnorm): -37.7380463856\n",
      "dist_diff 72.3929638474\n"
     ]
    },
    {
     "name": "stderr",
     "output_type": "stream",
     "text": [
      "\r",
      " 64%|██████████████████████████████████████████████████▊                            | 812/1261 [09:51<05:35,  1.34it/s]"
     ]
    },
    {
     "name": "stdout",
     "output_type": "stream",
     "text": [
      "ret 5.908425112871596e-05\n",
      "LA.norm(trackline.diffs)>15*np.std(coefnorm): -28.8360468415\n",
      "dist_diff 74.3395895586\n"
     ]
    },
    {
     "name": "stderr",
     "output_type": "stream",
     "text": [
      "\r",
      " 64%|██████████████████████████████████████████████████▉                            | 813/1261 [09:52<05:33,  1.34it/s]"
     ]
    },
    {
     "name": "stdout",
     "output_type": "stream",
     "text": [
      "ret 5.217735420559588e-06\n",
      "LA.norm(trackline.diffs)>15*np.std(coefnorm): -12.8211758355\n",
      "dist_diff 72.9408929642\n"
     ]
    },
    {
     "name": "stderr",
     "output_type": "stream",
     "text": [
      "\r",
      " 65%|██████████████████████████████████████████████████▉                            | 814/1261 [09:52<05:32,  1.34it/s]"
     ]
    },
    {
     "name": "stdout",
     "output_type": "stream",
     "text": [
      "ret 0.00014801773403405605\n",
      "LA.norm(trackline.diffs)>15*np.std(coefnorm): -14.4084241595\n",
      "dist_diff 69.5152041728\n"
     ]
    },
    {
     "name": "stderr",
     "output_type": "stream",
     "text": [
      "\r",
      " 65%|███████████████████████████████████████████████████                            | 815/1261 [09:53<05:32,  1.34it/s]"
     ]
    },
    {
     "name": "stdout",
     "output_type": "stream",
     "text": [
      "ret 0.00016044235431011966\n",
      "LA.norm(trackline.diffs)>15*np.std(coefnorm): -29.5770450104\n",
      "dist_diff 73.1018709522\n"
     ]
    },
    {
     "name": "stderr",
     "output_type": "stream",
     "text": [
      "\r",
      " 65%|███████████████████████████████████████████████████                            | 816/1261 [09:54<05:32,  1.34it/s]"
     ]
    },
    {
     "name": "stdout",
     "output_type": "stream",
     "text": [
      "ret 0.00018054712544013363\n",
      "LA.norm(trackline.diffs)>15*np.std(coefnorm): -25.7658114504\n",
      "dist_diff 80.8890059635\n"
     ]
    },
    {
     "name": "stderr",
     "output_type": "stream",
     "text": [
      "\r",
      " 65%|███████████████████████████████████████████████████▏                           | 817/1261 [09:55<05:31,  1.34it/s]"
     ]
    },
    {
     "name": "stdout",
     "output_type": "stream",
     "text": [
      "ret 7.626489507706058e-05\n",
      "LA.norm(trackline.diffs)>15*np.std(coefnorm): -32.7410148123\n",
      "dist_diff 83.8942309755\n"
     ]
    },
    {
     "name": "stderr",
     "output_type": "stream",
     "text": [
      "\r",
      " 65%|███████████████████████████████████████████████████▏                           | 818/1261 [09:55<05:29,  1.34it/s]"
     ]
    },
    {
     "name": "stdout",
     "output_type": "stream",
     "text": [
      "ret 3.514675279320256e-05\n",
      "LA.norm(trackline.diffs)>15*np.std(coefnorm): -41.5312430525\n",
      "dist_diff 85.667030938\n"
     ]
    },
    {
     "name": "stderr",
     "output_type": "stream",
     "text": [
      "\r",
      " 65%|███████████████████████████████████████████████████▎                           | 819/1261 [09:56<05:29,  1.34it/s]"
     ]
    },
    {
     "name": "stdout",
     "output_type": "stream",
     "text": [
      "ret 5.643979348379791e-06\n",
      "LA.norm(trackline.diffs)>15*np.std(coefnorm): -42.1810403558\n",
      "dist_diff 90.6604947147\n"
     ]
    },
    {
     "name": "stderr",
     "output_type": "stream",
     "text": [
      "\r",
      " 65%|███████████████████████████████████████████████████▎                           | 820/1261 [09:57<05:28,  1.34it/s]"
     ]
    },
    {
     "name": "stdout",
     "output_type": "stream",
     "text": [
      "ret 5.48743434219956e-05\n",
      "LA.norm(trackline.diffs)>15*np.std(coefnorm): -38.7356678384\n",
      "dist_diff 91.7887215894\n"
     ]
    },
    {
     "name": "stderr",
     "output_type": "stream",
     "text": [
      "\r",
      " 65%|███████████████████████████████████████████████████▍                           | 821/1261 [09:58<05:31,  1.33it/s]"
     ]
    },
    {
     "name": "stdout",
     "output_type": "stream",
     "text": [
      "ret 6.565590632456875e-05\n",
      "LA.norm(trackline.diffs)>15*np.std(coefnorm): -22.5428002498\n",
      "dist_diff 92.2549387917\n"
     ]
    },
    {
     "name": "stderr",
     "output_type": "stream",
     "text": [
      "\r",
      " 65%|███████████████████████████████████████████████████▍                           | 822/1261 [09:58<05:35,  1.31it/s]"
     ]
    },
    {
     "name": "stdout",
     "output_type": "stream",
     "text": [
      "ret 2.732087060958177e-05\n",
      "LA.norm(trackline.diffs)>15*np.std(coefnorm): -22.776677651\n",
      "dist_diff 96.4319930825\n"
     ]
    },
    {
     "name": "stderr",
     "output_type": "stream",
     "text": [
      "\r",
      " 65%|███████████████████████████████████████████████████▌                           | 823/1261 [09:59<05:36,  1.30it/s]"
     ]
    },
    {
     "name": "stdout",
     "output_type": "stream",
     "text": [
      "ret 9.209217673999959e-07\n",
      "LA.norm(trackline.diffs)>15*np.std(coefnorm): -40.186526679\n",
      "dist_diff 105.505243751\n"
     ]
    },
    {
     "name": "stderr",
     "output_type": "stream",
     "text": [
      "\r",
      " 65%|███████████████████████████████████████████████████▌                           | 824/1261 [10:00<05:35,  1.30it/s]"
     ]
    },
    {
     "name": "stdout",
     "output_type": "stream",
     "text": [
      "ret 5.728978839841803e-05\n",
      "LA.norm(trackline.diffs)>15*np.std(coefnorm): -43.680098289\n",
      "dist_diff 110.902462952\n"
     ]
    },
    {
     "name": "stderr",
     "output_type": "stream",
     "text": [
      "\r",
      " 65%|███████████████████████████████████████████████████▋                           | 825/1261 [10:01<05:34,  1.30it/s]"
     ]
    },
    {
     "name": "stdout",
     "output_type": "stream",
     "text": [
      "ret 1.2091837193417554e-05\n",
      "LA.norm(trackline.diffs)>15*np.std(coefnorm): -59.4617378979\n",
      "dist_diff 118.721595793\n"
     ]
    },
    {
     "name": "stderr",
     "output_type": "stream",
     "text": [
      "\r",
      " 66%|███████████████████████████████████████████████████▋                           | 826/1261 [10:01<05:32,  1.31it/s]"
     ]
    },
    {
     "name": "stdout",
     "output_type": "stream",
     "text": [
      "ret 0.00010529793906144391\n",
      "LA.norm(trackline.diffs)>15*np.std(coefnorm): -59.2397588365\n",
      "dist_diff 119.951920718\n"
     ]
    },
    {
     "name": "stderr",
     "output_type": "stream",
     "text": [
      "\r",
      " 66%|███████████████████████████████████████████████████▊                           | 827/1261 [10:02<05:30,  1.31it/s]"
     ]
    },
    {
     "name": "stdout",
     "output_type": "stream",
     "text": [
      "ret 1.9931977168763382e-07\n",
      "LA.norm(trackline.diffs)>15*np.std(coefnorm): -55.5076518129\n",
      "dist_diff 126.106730598\n"
     ]
    },
    {
     "name": "stderr",
     "output_type": "stream",
     "text": [
      "\r",
      " 66%|███████████████████████████████████████████████████▊                           | 828/1261 [10:03<05:34,  1.29it/s]"
     ]
    },
    {
     "name": "stdout",
     "output_type": "stream",
     "text": [
      "ret 6.439799329222007e-05\n",
      "LA.norm(trackline.diffs)>15*np.std(coefnorm): -37.2642978655\n",
      "dist_diff 132.047475027\n"
     ]
    },
    {
     "name": "stderr",
     "output_type": "stream",
     "text": [
      "\r",
      " 66%|███████████████████████████████████████████████████▉                           | 829/1261 [10:04<05:33,  1.29it/s]"
     ]
    },
    {
     "name": "stdout",
     "output_type": "stream",
     "text": [
      "ret 1.4799853073343971e-05\n",
      "LA.norm(trackline.diffs)>15*np.std(coefnorm): -33.0044159707\n",
      "dist_diff 137.046760168\n"
     ]
    },
    {
     "name": "stderr",
     "output_type": "stream",
     "text": [
      "\r",
      " 66%|███████████████████████████████████████████████████▉                           | 830/1261 [10:04<05:28,  1.31it/s]"
     ]
    },
    {
     "name": "stdout",
     "output_type": "stream",
     "text": [
      "ret 1.3173832529966845e-05\n",
      "LA.norm(trackline.diffs)>15*np.std(coefnorm): -51.4328334063\n",
      "dist_diff 140.368717376\n"
     ]
    },
    {
     "name": "stderr",
     "output_type": "stream",
     "text": [
      "\r",
      " 66%|████████████████████████████████████████████████████                           | 831/1261 [10:05<05:25,  1.32it/s]"
     ]
    },
    {
     "name": "stdout",
     "output_type": "stream",
     "text": [
      "ret 6.759961022373417e-05\n",
      "LA.norm(trackline.diffs)>15*np.std(coefnorm): -61.4326460532\n",
      "dist_diff 145.582993721\n"
     ]
    },
    {
     "name": "stderr",
     "output_type": "stream",
     "text": [
      "\r",
      " 66%|████████████████████████████████████████████████████                           | 832/1261 [10:06<05:22,  1.33it/s]"
     ]
    },
    {
     "name": "stdout",
     "output_type": "stream",
     "text": [
      "ret 5.9999259373111347e-05\n",
      "LA.norm(trackline.diffs)>15*np.std(coefnorm): -60.2121783782\n",
      "dist_diff 146.589039681\n"
     ]
    },
    {
     "name": "stderr",
     "output_type": "stream",
     "text": [
      "\r",
      " 66%|████████████████████████████████████████████████████▏                          | 833/1261 [10:07<05:24,  1.32it/s]"
     ]
    },
    {
     "name": "stdout",
     "output_type": "stream",
     "text": [
      "ret 0.00014247776979170457\n",
      "LA.norm(trackline.diffs)>15*np.std(coefnorm): -63.5280418614\n",
      "dist_diff 149.875874993\n"
     ]
    },
    {
     "name": "stderr",
     "output_type": "stream",
     "text": [
      "\r",
      " 66%|████████████████████████████████████████████████████▏                          | 834/1261 [10:07<05:20,  1.33it/s]"
     ]
    },
    {
     "name": "stdout",
     "output_type": "stream",
     "text": [
      "ret 4.4513111613353473e-07\n",
      "LA.norm(trackline.diffs)>15*np.std(coefnorm): -59.4188876174\n",
      "dist_diff 153.75443193\n"
     ]
    },
    {
     "name": "stderr",
     "output_type": "stream",
     "text": [
      "\r",
      " 66%|████████████████████████████████████████████████████▎                          | 835/1261 [10:08<05:16,  1.35it/s]"
     ]
    },
    {
     "name": "stdout",
     "output_type": "stream",
     "text": [
      "ret 6.517584848642066e-05\n",
      "LA.norm(trackline.diffs)>15*np.std(coefnorm): -46.2805036969\n",
      "dist_diff 154.46721959\n"
     ]
    },
    {
     "name": "stderr",
     "output_type": "stream",
     "text": [
      "\r",
      " 66%|████████████████████████████████████████████████████▎                          | 836/1261 [10:09<05:19,  1.33it/s]"
     ]
    },
    {
     "name": "stdout",
     "output_type": "stream",
     "text": [
      "ret 2.058698756080002e-06\n",
      "LA.norm(trackline.diffs)>15*np.std(coefnorm): -19.1754814751\n",
      "dist_diff 153.42258818\n"
     ]
    },
    {
     "name": "stderr",
     "output_type": "stream",
     "text": [
      "\r",
      " 66%|████████████████████████████████████████████████████▍                          | 837/1261 [10:10<05:17,  1.34it/s]"
     ]
    },
    {
     "name": "stdout",
     "output_type": "stream",
     "text": [
      "ret 4.465223920196992e-05\n",
      "LA.norm(trackline.diffs)>15*np.std(coefnorm): -29.4057292159\n",
      "dist_diff 160.939580368\n"
     ]
    },
    {
     "name": "stderr",
     "output_type": "stream",
     "text": [
      "\r",
      " 66%|████████████████████████████████████████████████████▍                          | 838/1261 [10:10<05:13,  1.35it/s]"
     ]
    },
    {
     "name": "stdout",
     "output_type": "stream",
     "text": [
      "ret 3.797519565734708e-05\n",
      "LA.norm(trackline.diffs)>15*np.std(coefnorm): -21.3080239097\n",
      "dist_diff 163.878313059\n"
     ]
    },
    {
     "name": "stderr",
     "output_type": "stream",
     "text": [
      "\r",
      " 67%|████████████████████████████████████████████████████▌                          | 839/1261 [10:11<05:11,  1.36it/s]"
     ]
    },
    {
     "name": "stdout",
     "output_type": "stream",
     "text": [
      "ret 0.00010313836182007652\n",
      "LA.norm(trackline.diffs)>15*np.std(coefnorm): -49.9412272859\n",
      "dist_diff 162.679288877\n"
     ]
    },
    {
     "name": "stderr",
     "output_type": "stream",
     "text": [
      "\r",
      " 67%|████████████████████████████████████████████████████▌                          | 840/1261 [10:12<05:10,  1.36it/s]"
     ]
    },
    {
     "name": "stdout",
     "output_type": "stream",
     "text": [
      "ret 4.4645816404953464e-05\n",
      "LA.norm(trackline.diffs)>15*np.std(coefnorm): -58.7877742317\n",
      "dist_diff 163.855130227\n"
     ]
    },
    {
     "name": "stderr",
     "output_type": "stream",
     "text": [
      "\r",
      " 67%|████████████████████████████████████████████████████▋                          | 841/1261 [10:13<05:12,  1.35it/s]"
     ]
    },
    {
     "name": "stdout",
     "output_type": "stream",
     "text": [
      "ret 6.110946584686472e-05\n",
      "LA.norm(trackline.diffs)>15*np.std(coefnorm): -53.6976896321\n",
      "dist_diff 161.413626152\n"
     ]
    },
    {
     "name": "stderr",
     "output_type": "stream",
     "text": [
      "\r",
      " 67%|████████████████████████████████████████████████████▊                          | 842/1261 [10:13<05:18,  1.31it/s]"
     ]
    },
    {
     "name": "stdout",
     "output_type": "stream",
     "text": [
      "ret 7.457654981612993e-05\n",
      "LA.norm(trackline.diffs)>15*np.std(coefnorm): -62.6732431207\n",
      "dist_diff 161.13073369\n"
     ]
    },
    {
     "name": "stderr",
     "output_type": "stream",
     "text": [
      "\r",
      " 67%|████████████████████████████████████████████████████▊                          | 843/1261 [10:14<05:23,  1.29it/s]"
     ]
    },
    {
     "name": "stdout",
     "output_type": "stream",
     "text": [
      "ret 5.2057433382546314e-05\n",
      "LA.norm(trackline.diffs)>15*np.std(coefnorm): -52.8705968025\n",
      "dist_diff 160.812767122\n"
     ]
    },
    {
     "name": "stderr",
     "output_type": "stream",
     "text": [
      "\r",
      " 67%|████████████████████████████████████████████████████▉                          | 844/1261 [10:15<05:16,  1.32it/s]"
     ]
    },
    {
     "name": "stdout",
     "output_type": "stream",
     "text": [
      "ret 4.8906989378816323e-05\n",
      "LA.norm(trackline.diffs)>15*np.std(coefnorm): -56.395289982\n",
      "dist_diff 162.321033327\n"
     ]
    },
    {
     "name": "stderr",
     "output_type": "stream",
     "text": [
      "\r",
      " 67%|████████████████████████████████████████████████████▉                          | 845/1261 [10:16<05:12,  1.33it/s]"
     ]
    },
    {
     "name": "stdout",
     "output_type": "stream",
     "text": [
      "ret 4.107955191234858e-06\n",
      "LA.norm(trackline.diffs)>15*np.std(coefnorm): -67.6104265556\n",
      "dist_diff 169.257818085\n"
     ]
    },
    {
     "name": "stderr",
     "output_type": "stream",
     "text": [
      "\r",
      " 67%|█████████████████████████████████████████████████████                          | 846/1261 [10:16<05:07,  1.35it/s]"
     ]
    },
    {
     "name": "stdout",
     "output_type": "stream",
     "text": [
      "ret 2.2445100688828212e-05\n",
      "LA.norm(trackline.diffs)>15*np.std(coefnorm): -62.6729117066\n",
      "dist_diff 176.595171874\n"
     ]
    },
    {
     "name": "stderr",
     "output_type": "stream",
     "text": [
      "\r",
      " 67%|█████████████████████████████████████████████████████                          | 847/1261 [10:17<05:04,  1.36it/s]"
     ]
    },
    {
     "name": "stdout",
     "output_type": "stream",
     "text": [
      "ret 7.830019617516282e-06\n",
      "LA.norm(trackline.diffs)>15*np.std(coefnorm): -32.727777336\n",
      "dist_diff 170.997010625\n"
     ]
    },
    {
     "name": "stderr",
     "output_type": "stream",
     "text": [
      "\r",
      " 67%|█████████████████████████████████████████████████████▏                         | 848/1261 [10:18<05:03,  1.36it/s]"
     ]
    },
    {
     "name": "stdout",
     "output_type": "stream",
     "text": [
      "ret 4.455733036962117e-05\n",
      "LA.norm(trackline.diffs)>15*np.std(coefnorm): -33.3660697451\n",
      "dist_diff 167.020336545\n"
     ]
    },
    {
     "name": "stderr",
     "output_type": "stream",
     "text": [
      "\r",
      " 67%|█████████████████████████████████████████████████████▏                         | 849/1261 [10:19<05:02,  1.36it/s]"
     ]
    },
    {
     "name": "stdout",
     "output_type": "stream",
     "text": [
      "ret 7.23735318124974e-05\n",
      "LA.norm(trackline.diffs)>15*np.std(coefnorm): -37.3780394916\n",
      "dist_diff 170.686751584\n"
     ]
    },
    {
     "name": "stderr",
     "output_type": "stream",
     "text": [
      "\r",
      " 67%|█████████████████████████████████████████████████████▎                         | 850/1261 [10:19<05:15,  1.30it/s]"
     ]
    },
    {
     "name": "stdout",
     "output_type": "stream",
     "text": [
      "ret 1.6856490633765375e-05\n",
      "LA.norm(trackline.diffs)>15*np.std(coefnorm): -55.0275894484\n",
      "dist_diff 176.987340557\n"
     ]
    },
    {
     "name": "stderr",
     "output_type": "stream",
     "text": [
      "\r",
      " 67%|█████████████████████████████████████████████████████▎                         | 851/1261 [10:20<05:20,  1.28it/s]"
     ]
    },
    {
     "name": "stdout",
     "output_type": "stream",
     "text": [
      "ret 2.5309850460175642e-05\n",
      "LA.norm(trackline.diffs)>15*np.std(coefnorm): -53.6716627816\n",
      "dist_diff 175.417886852\n"
     ]
    },
    {
     "name": "stderr",
     "output_type": "stream",
     "text": [
      "\r",
      " 68%|█████████████████████████████████████████████████████▍                         | 852/1261 [10:21<05:20,  1.28it/s]"
     ]
    },
    {
     "name": "stdout",
     "output_type": "stream",
     "text": [
      "ret 4.2737333216691376e-05\n",
      "LA.norm(trackline.diffs)>15*np.std(coefnorm): -46.2092347192\n",
      "dist_diff 178.56425389\n"
     ]
    },
    {
     "name": "stderr",
     "output_type": "stream",
     "text": [
      "\r",
      " 68%|█████████████████████████████████████████████████████▍                         | 853/1261 [10:22<05:15,  1.29it/s]"
     ]
    },
    {
     "name": "stdout",
     "output_type": "stream",
     "text": [
      "ret 1.2822201895523744e-05\n",
      "LA.norm(trackline.diffs)>15*np.std(coefnorm): -51.9797007641\n",
      "dist_diff 178.078160615\n"
     ]
    },
    {
     "name": "stderr",
     "output_type": "stream",
     "text": [
      "\r",
      " 68%|█████████████████████████████████████████████████████▌                         | 854/1261 [10:23<05:11,  1.31it/s]"
     ]
    },
    {
     "name": "stdout",
     "output_type": "stream",
     "text": [
      "ret 0.00010470225679864997\n",
      "LA.norm(trackline.diffs)>15*np.std(coefnorm): -52.1346436604\n",
      "dist_diff 176.824720943\n"
     ]
    },
    {
     "name": "stderr",
     "output_type": "stream",
     "text": [
      "\r",
      " 68%|█████████████████████████████████████████████████████▌                         | 855/1261 [10:23<05:16,  1.28it/s]"
     ]
    },
    {
     "name": "stdout",
     "output_type": "stream",
     "text": [
      "ret 9.296730939500897e-05\n",
      "LA.norm(trackline.diffs)>15*np.std(coefnorm): -82.4486102593\n",
      "dist_diff 180.658913009\n"
     ]
    },
    {
     "name": "stderr",
     "output_type": "stream",
     "text": [
      "\r",
      " 68%|█████████████████████████████████████████████████████▋                         | 856/1261 [10:24<05:21,  1.26it/s]"
     ]
    },
    {
     "name": "stdout",
     "output_type": "stream",
     "text": [
      "ret 1.878182159575914e-05\n",
      "LA.norm(trackline.diffs)>15*np.std(coefnorm): -118.44868154\n",
      "dist_diff 181.96089634\n"
     ]
    },
    {
     "name": "stderr",
     "output_type": "stream",
     "text": [
      "\r",
      " 68%|█████████████████████████████████████████████████████▋                         | 857/1261 [10:25<05:17,  1.27it/s]"
     ]
    },
    {
     "name": "stdout",
     "output_type": "stream",
     "text": [
      "ret 2.2512467171331707e-05\n",
      "LA.norm(trackline.diffs)>15*np.std(coefnorm): -130.946081062\n",
      "dist_diff 186.495519413\n"
     ]
    },
    {
     "name": "stderr",
     "output_type": "stream",
     "text": [
      "\r",
      " 68%|█████████████████████████████████████████████████████▊                         | 858/1261 [10:26<05:11,  1.29it/s]"
     ]
    },
    {
     "name": "stdout",
     "output_type": "stream",
     "text": [
      "ret 2.4162356442536392e-05\n",
      "LA.norm(trackline.diffs)>15*np.std(coefnorm): -125.536529094\n",
      "dist_diff 196.55558348\n"
     ]
    },
    {
     "name": "stderr",
     "output_type": "stream",
     "text": [
      "\r",
      " 68%|█████████████████████████████████████████████████████▊                         | 859/1261 [10:26<05:05,  1.32it/s]"
     ]
    },
    {
     "name": "stdout",
     "output_type": "stream",
     "text": [
      "ret 3.2212048876045785e-06\n",
      "LA.norm(trackline.diffs)>15*np.std(coefnorm): -122.491445605\n",
      "dist_diff 196.536347792\n"
     ]
    },
    {
     "name": "stderr",
     "output_type": "stream",
     "text": [
      "\r",
      " 68%|█████████████████████████████████████████████████████▉                         | 860/1261 [10:27<04:59,  1.34it/s]"
     ]
    },
    {
     "name": "stdout",
     "output_type": "stream",
     "text": [
      "ret 2.4363808830918376e-05\n",
      "LA.norm(trackline.diffs)>15*np.std(coefnorm): -117.343049771\n",
      "dist_diff 199.228647293\n"
     ]
    },
    {
     "name": "stderr",
     "output_type": "stream",
     "text": [
      "\r",
      " 68%|█████████████████████████████████████████████████████▉                         | 861/1261 [10:28<04:56,  1.35it/s]"
     ]
    },
    {
     "name": "stdout",
     "output_type": "stream",
     "text": [
      "ret 9.100319719751448e-05\n",
      "LA.norm(trackline.diffs)>15*np.std(coefnorm): -101.577722383\n",
      "dist_diff 202.723554044\n"
     ]
    },
    {
     "name": "stderr",
     "output_type": "stream",
     "text": [
      "\r",
      " 68%|██████████████████████████████████████████████████████                         | 862/1261 [10:29<04:52,  1.37it/s]"
     ]
    },
    {
     "name": "stdout",
     "output_type": "stream",
     "text": [
      "ret 9.604622943076846e-05\n",
      "LA.norm(trackline.diffs)>15*np.std(coefnorm): -77.8006914796\n",
      "dist_diff 207.26654926\n"
     ]
    },
    {
     "name": "stderr",
     "output_type": "stream",
     "text": [
      "\r",
      " 68%|██████████████████████████████████████████████████████                         | 863/1261 [10:29<04:49,  1.37it/s]"
     ]
    },
    {
     "name": "stdout",
     "output_type": "stream",
     "text": [
      "ret 1.7527063413735888e-05\n",
      "LA.norm(trackline.diffs)>15*np.std(coefnorm): -67.2378706681\n",
      "dist_diff 204.169189252\n"
     ]
    },
    {
     "name": "stderr",
     "output_type": "stream",
     "text": [
      "\r",
      " 69%|██████████████████████████████████████████████████████▏                        | 864/1261 [10:30<04:48,  1.37it/s]"
     ]
    },
    {
     "name": "stdout",
     "output_type": "stream",
     "text": [
      "ret 1.5082666121490895e-05\n",
      "LA.norm(trackline.diffs)>15*np.std(coefnorm): -48.457862979\n",
      "dist_diff 201.311771604\n"
     ]
    },
    {
     "name": "stderr",
     "output_type": "stream",
     "text": [
      "\r",
      " 69%|██████████████████████████████████████████████████████▏                        | 865/1261 [10:31<04:46,  1.38it/s]"
     ]
    },
    {
     "name": "stdout",
     "output_type": "stream",
     "text": [
      "ret 2.9646758070933643e-05\n",
      "LA.norm(trackline.diffs)>15*np.std(coefnorm): -58.7888202102\n",
      "dist_diff 202.84912999\n"
     ]
    },
    {
     "name": "stderr",
     "output_type": "stream",
     "text": [
      "\r",
      " 69%|██████████████████████████████████████████████████████▎                        | 866/1261 [10:31<04:45,  1.38it/s]"
     ]
    },
    {
     "name": "stdout",
     "output_type": "stream",
     "text": [
      "ret 1.658352894701176e-05\n",
      "LA.norm(trackline.diffs)>15*np.std(coefnorm): -32.3640866918\n",
      "dist_diff 199.695511137\n"
     ]
    },
    {
     "name": "stderr",
     "output_type": "stream",
     "text": [
      "\r",
      " 69%|██████████████████████████████████████████████████████▎                        | 867/1261 [10:32<04:44,  1.39it/s]"
     ]
    },
    {
     "name": "stdout",
     "output_type": "stream",
     "text": [
      "ret 3.274664354341317e-05\n",
      "LA.norm(trackline.diffs)>15*np.std(coefnorm): -37.6055891948\n",
      "dist_diff 202.057873889\n"
     ]
    },
    {
     "name": "stderr",
     "output_type": "stream",
     "text": [
      "\r",
      " 69%|██████████████████████████████████████████████████████▍                        | 868/1261 [10:33<04:41,  1.39it/s]"
     ]
    },
    {
     "name": "stdout",
     "output_type": "stream",
     "text": [
      "ret 0.00010237527616230313\n",
      "LA.norm(trackline.diffs)>15*np.std(coefnorm): -53.5194338305\n",
      "dist_diff 205.881235116\n"
     ]
    },
    {
     "name": "stderr",
     "output_type": "stream",
     "text": [
      "\r",
      " 69%|██████████████████████████████████████████████████████▍                        | 869/1261 [10:34<04:39,  1.40it/s]"
     ]
    },
    {
     "name": "stdout",
     "output_type": "stream",
     "text": [
      "ret 2.6120739226476175e-05\n",
      "LA.norm(trackline.diffs)>15*np.std(coefnorm): -76.941018707\n",
      "dist_diff 205.019284219\n"
     ]
    },
    {
     "name": "stderr",
     "output_type": "stream",
     "text": [
      "\r",
      " 69%|██████████████████████████████████████████████████████▌                        | 870/1261 [10:34<04:40,  1.39it/s]"
     ]
    },
    {
     "name": "stdout",
     "output_type": "stream",
     "text": [
      "ret 5.745462537609658e-05\n",
      "LA.norm(trackline.diffs)>15*np.std(coefnorm): -117.247339257\n",
      "dist_diff 220.255954803\n"
     ]
    },
    {
     "name": "stderr",
     "output_type": "stream",
     "text": [
      "\r",
      " 69%|██████████████████████████████████████████████████████▌                        | 871/1261 [10:35<04:41,  1.38it/s]"
     ]
    },
    {
     "name": "stdout",
     "output_type": "stream",
     "text": [
      "ret 3.460628119356102e-05\n",
      "LA.norm(trackline.diffs)>15*np.std(coefnorm): -118.465862359\n",
      "dist_diff 222.186087912\n"
     ]
    },
    {
     "name": "stderr",
     "output_type": "stream",
     "text": [
      "\r",
      " 69%|██████████████████████████████████████████████████████▋                        | 872/1261 [10:36<04:43,  1.37it/s]"
     ]
    },
    {
     "name": "stdout",
     "output_type": "stream",
     "text": [
      "ret 3.006303724401027e-05\n",
      "LA.norm(trackline.diffs)>15*np.std(coefnorm): -123.52387337\n",
      "dist_diff 224.511897117\n"
     ]
    },
    {
     "name": "stderr",
     "output_type": "stream",
     "text": [
      "\r",
      " 69%|██████████████████████████████████████████████████████▋                        | 873/1261 [10:37<04:49,  1.34it/s]"
     ]
    },
    {
     "name": "stdout",
     "output_type": "stream",
     "text": [
      "ret 4.957399436900101e-06\n",
      "LA.norm(trackline.diffs)>15*np.std(coefnorm): -101.693675747\n",
      "dist_diff 222.062339172\n"
     ]
    },
    {
     "name": "stderr",
     "output_type": "stream",
     "text": [
      "\r",
      " 69%|██████████████████████████████████████████████████████▊                        | 874/1261 [10:37<04:45,  1.36it/s]"
     ]
    },
    {
     "name": "stdout",
     "output_type": "stream",
     "text": [
      "ret 1.1231040833281636e-05\n",
      "LA.norm(trackline.diffs)>15*np.std(coefnorm): -93.3572044245\n",
      "dist_diff 225.86309477\n"
     ]
    },
    {
     "name": "stderr",
     "output_type": "stream",
     "text": [
      "\r",
      " 69%|██████████████████████████████████████████████████████▊                        | 875/1261 [10:38<04:43,  1.36it/s]"
     ]
    },
    {
     "name": "stdout",
     "output_type": "stream",
     "text": [
      "ret 0.0001501416816384049\n",
      "LA.norm(trackline.diffs)>15*np.std(coefnorm): -87.2279770538\n",
      "dist_diff 233.998659226\n"
     ]
    },
    {
     "name": "stderr",
     "output_type": "stream",
     "text": [
      "\r",
      " 69%|██████████████████████████████████████████████████████▉                        | 876/1261 [10:39<04:40,  1.37it/s]"
     ]
    },
    {
     "name": "stdout",
     "output_type": "stream",
     "text": [
      "ret 0.0001748491041207445\n",
      "LA.norm(trackline.diffs)>15*np.std(coefnorm): -94.7699753199\n",
      "dist_diff 231.35626301\n"
     ]
    },
    {
     "name": "stderr",
     "output_type": "stream",
     "text": [
      "\r",
      " 70%|██████████████████████████████████████████████████████▉                        | 877/1261 [10:39<04:39,  1.38it/s]"
     ]
    },
    {
     "name": "stdout",
     "output_type": "stream",
     "text": [
      "ret 0.00016160299225020935\n",
      "LA.norm(trackline.diffs)>15*np.std(coefnorm): -96.5283534022\n",
      "dist_diff 226.198761421\n"
     ]
    },
    {
     "name": "stderr",
     "output_type": "stream",
     "text": [
      "\r",
      " 70%|███████████████████████████████████████████████████████                        | 878/1261 [10:40<04:37,  1.38it/s]"
     ]
    },
    {
     "name": "stdout",
     "output_type": "stream",
     "text": [
      "ret 5.731731593167089e-05\n",
      "LA.norm(trackline.diffs)>15*np.std(coefnorm): -66.960231995\n",
      "dist_diff 225.006891238\n"
     ]
    },
    {
     "name": "stderr",
     "output_type": "stream",
     "text": [
      "\r",
      " 70%|███████████████████████████████████████████████████████                        | 879/1261 [10:41<04:37,  1.38it/s]"
     ]
    },
    {
     "name": "stdout",
     "output_type": "stream",
     "text": [
      "ret 2.667021024954641e-05\n",
      "LA.norm(trackline.diffs)>15*np.std(coefnorm): -44.5467228863\n",
      "dist_diff 224.839119647\n"
     ]
    },
    {
     "name": "stderr",
     "output_type": "stream",
     "text": [
      "\r",
      " 70%|███████████████████████████████████████████████████████▏                       | 880/1261 [10:42<04:38,  1.37it/s]"
     ]
    },
    {
     "name": "stdout",
     "output_type": "stream",
     "text": [
      "ret 3.2504373246866614e-05\n",
      "LA.norm(trackline.diffs)>15*np.std(coefnorm): -28.553883776\n",
      "dist_diff 222.782027281\n"
     ]
    },
    {
     "name": "stderr",
     "output_type": "stream",
     "text": [
      "\r",
      " 70%|███████████████████████████████████████████████████████▏                       | 881/1261 [10:42<04:37,  1.37it/s]"
     ]
    },
    {
     "name": "stdout",
     "output_type": "stream",
     "text": [
      "ret 4.861561353042276e-06\n",
      "LA.norm(trackline.diffs)>15*np.std(coefnorm): -38.5973780477\n",
      "dist_diff 214.122723009\n"
     ]
    },
    {
     "name": "stderr",
     "output_type": "stream",
     "text": [
      "\r",
      " 70%|███████████████████████████████████████████████████████▎                       | 882/1261 [10:43<04:34,  1.38it/s]"
     ]
    },
    {
     "name": "stdout",
     "output_type": "stream",
     "text": [
      "ret 2.708461165751297e-05\n",
      "LA.norm(trackline.diffs)>15*np.std(coefnorm): -42.1098712485\n",
      "dist_diff 218.786523439\n"
     ]
    },
    {
     "name": "stderr",
     "output_type": "stream",
     "text": [
      "\r",
      " 70%|███████████████████████████████████████████████████████▎                       | 883/1261 [10:44<04:35,  1.37it/s]"
     ]
    },
    {
     "name": "stdout",
     "output_type": "stream",
     "text": [
      "ret 5.0388337796525295e-05\n",
      "LA.norm(trackline.diffs)>15*np.std(coefnorm): -26.9236646795\n",
      "dist_diff 218.659329981\n"
     ]
    },
    {
     "name": "stderr",
     "output_type": "stream",
     "text": [
      "\r",
      " 70%|███████████████████████████████████████████████████████▍                       | 884/1261 [10:45<04:41,  1.34it/s]"
     ]
    },
    {
     "name": "stdout",
     "output_type": "stream",
     "text": [
      "ret 3.499574699700192e-05\n",
      "LA.norm(trackline.diffs)>15*np.std(coefnorm): -32.3007634685\n",
      "dist_diff 216.892973288\n"
     ]
    },
    {
     "name": "stderr",
     "output_type": "stream",
     "text": [
      "\r",
      " 70%|███████████████████████████████████████████████████████▍                       | 885/1261 [10:45<04:39,  1.35it/s]"
     ]
    },
    {
     "name": "stdout",
     "output_type": "stream",
     "text": [
      "ret 9.959295688211078e-05\n",
      "LA.norm(trackline.diffs)>15*np.std(coefnorm): -19.5324318643\n",
      "dist_diff 223.404907622\n"
     ]
    },
    {
     "name": "stderr",
     "output_type": "stream",
     "text": [
      "\r",
      " 70%|███████████████████████████████████████████████████████▌                       | 886/1261 [10:46<04:38,  1.35it/s]"
     ]
    },
    {
     "name": "stdout",
     "output_type": "stream",
     "text": [
      "ret 8.730000376944158e-05\n",
      "LA.norm(trackline.diffs)>15*np.std(coefnorm): -92.1455540903\n",
      "dist_diff 218.577404479\n"
     ]
    },
    {
     "name": "stderr",
     "output_type": "stream",
     "text": [
      "\r",
      " 70%|███████████████████████████████████████████████████████▌                       | 887/1261 [10:47<04:37,  1.35it/s]"
     ]
    },
    {
     "name": "stdout",
     "output_type": "stream",
     "text": [
      "ret 7.318978893261496e-05\n",
      "LA.norm(trackline.diffs)>15*np.std(coefnorm): -136.277766407\n",
      "dist_diff 212.683033354\n"
     ]
    },
    {
     "name": "stderr",
     "output_type": "stream",
     "text": [
      "\r",
      " 70%|███████████████████████████████████████████████████████▋                       | 888/1261 [10:48<04:33,  1.37it/s]"
     ]
    },
    {
     "name": "stdout",
     "output_type": "stream",
     "text": [
      "ret 2.3411315549781708e-05\n",
      "LA.norm(trackline.diffs)>15*np.std(coefnorm): -178.816588648\n",
      "dist_diff 206.768610069\n"
     ]
    },
    {
     "name": "stderr",
     "output_type": "stream",
     "text": [
      "\r",
      " 70%|███████████████████████████████████████████████████████▋                       | 889/1261 [10:48<04:30,  1.37it/s]"
     ]
    },
    {
     "name": "stdout",
     "output_type": "stream",
     "text": [
      "ret 3.7593215295839144e-05\n",
      "LA.norm(trackline.diffs)>15*np.std(coefnorm): -212.827758901\n",
      "dist_diff 201.503907322\n"
     ]
    },
    {
     "name": "stderr",
     "output_type": "stream",
     "text": [
      "\r",
      " 71%|███████████████████████████████████████████████████████▊                       | 890/1261 [10:49<04:27,  1.39it/s]"
     ]
    },
    {
     "name": "stdout",
     "output_type": "stream",
     "text": [
      "ret 6.093876310286905e-06\n",
      "LA.norm(trackline.diffs)>15*np.std(coefnorm): -216.819019249\n",
      "dist_diff 196.771535282\n"
     ]
    },
    {
     "name": "stderr",
     "output_type": "stream",
     "text": [
      "\r",
      " 71%|███████████████████████████████████████████████████████▊                       | 891/1261 [10:50<04:28,  1.38it/s]"
     ]
    },
    {
     "name": "stdout",
     "output_type": "stream",
     "text": [
      "ret 5.7440953780685255e-05\n",
      "LA.norm(trackline.diffs)>15*np.std(coefnorm): -203.426157054\n",
      "dist_diff 195.12686306\n"
     ]
    },
    {
     "name": "stderr",
     "output_type": "stream",
     "text": [
      "\r",
      " 71%|███████████████████████████████████████████████████████▉                       | 892/1261 [10:50<04:26,  1.38it/s]"
     ]
    },
    {
     "name": "stdout",
     "output_type": "stream",
     "text": [
      "ret 2.2886115166986798e-05\n",
      "LA.norm(trackline.diffs)>15*np.std(coefnorm): -170.436172687\n",
      "dist_diff 192.393741292\n"
     ]
    },
    {
     "name": "stderr",
     "output_type": "stream",
     "text": [
      "\r",
      " 71%|███████████████████████████████████████████████████████▉                       | 893/1261 [10:51<04:25,  1.39it/s]"
     ]
    },
    {
     "name": "stdout",
     "output_type": "stream",
     "text": [
      "ret 4.3509824647069983e-05\n",
      "LA.norm(trackline.diffs)>15*np.std(coefnorm): -127.27650115\n",
      "dist_diff 196.829045852\n"
     ]
    },
    {
     "name": "stderr",
     "output_type": "stream",
     "text": [
      "\r",
      " 71%|████████████████████████████████████████████████████████                       | 894/1261 [10:52<04:25,  1.38it/s]"
     ]
    },
    {
     "name": "stdout",
     "output_type": "stream",
     "text": [
      "ret 4.258228198378289e-05\n",
      "LA.norm(trackline.diffs)>15*np.std(coefnorm): -96.2380302538\n",
      "dist_diff 202.6639178\n"
     ]
    },
    {
     "name": "stderr",
     "output_type": "stream",
     "text": [
      "\r",
      " 71%|████████████████████████████████████████████████████████                       | 895/1261 [10:53<04:23,  1.39it/s]"
     ]
    },
    {
     "name": "stdout",
     "output_type": "stream",
     "text": [
      "ret 7.52039990756237e-05\n",
      "LA.norm(trackline.diffs)>15*np.std(coefnorm): -41.6794724337\n",
      "dist_diff 189.96951047\n"
     ]
    },
    {
     "name": "stderr",
     "output_type": "stream",
     "text": [
      "\r",
      " 71%|████████████████████████████████████████████████████████▏                      | 896/1261 [10:53<04:24,  1.38it/s]"
     ]
    },
    {
     "name": "stdout",
     "output_type": "stream",
     "text": [
      "ret 6.470259649177246e-05\n",
      "LA.norm(trackline.diffs)>15*np.std(coefnorm): -40.1398166454\n",
      "dist_diff 192.370301907\n"
     ]
    },
    {
     "name": "stderr",
     "output_type": "stream",
     "text": [
      "\r",
      " 71%|████████████████████████████████████████████████████████▏                      | 897/1261 [10:54<04:24,  1.38it/s]"
     ]
    },
    {
     "name": "stdout",
     "output_type": "stream",
     "text": [
      "ret 3.851309054386798e-05\n",
      "LA.norm(trackline.diffs)>15*np.std(coefnorm): -46.4871785917\n",
      "dist_diff 197.21060101\n"
     ]
    },
    {
     "name": "stderr",
     "output_type": "stream",
     "text": [
      "\r",
      " 71%|████████████████████████████████████████████████████████▎                      | 898/1261 [10:55<04:22,  1.38it/s]"
     ]
    },
    {
     "name": "stdout",
     "output_type": "stream",
     "text": [
      "ret 1.5139534904617946e-05\n",
      "LA.norm(trackline.diffs)>15*np.std(coefnorm): -40.1925233704\n",
      "dist_diff 193.783587625\n"
     ]
    },
    {
     "name": "stderr",
     "output_type": "stream",
     "text": [
      "\r",
      " 71%|████████████████████████████████████████████████████████▎                      | 899/1261 [10:56<04:21,  1.39it/s]"
     ]
    },
    {
     "name": "stdout",
     "output_type": "stream",
     "text": [
      "ret 0.00012172727148002105\n",
      "LA.norm(trackline.diffs)>15*np.std(coefnorm): -27.9831896099\n",
      "dist_diff 193.90007671\n"
     ]
    },
    {
     "name": "stderr",
     "output_type": "stream",
     "text": [
      "\r",
      " 71%|████████████████████████████████████████████████████████▍                      | 900/1261 [10:56<04:20,  1.38it/s]"
     ]
    },
    {
     "name": "stdout",
     "output_type": "stream",
     "text": [
      "ret 7.014224045970296e-05\n",
      "LA.norm(trackline.diffs)>15*np.std(coefnorm): -39.0922418572\n",
      "dist_diff 195.135158965\n"
     ]
    },
    {
     "name": "stderr",
     "output_type": "stream",
     "text": [
      "\r",
      " 71%|████████████████████████████████████████████████████████▍                      | 901/1261 [10:57<04:18,  1.39it/s]"
     ]
    },
    {
     "name": "stdout",
     "output_type": "stream",
     "text": [
      "ret 1.958033661714209e-05\n",
      "LA.norm(trackline.diffs)>15*np.std(coefnorm): -54.8881939906\n",
      "dist_diff 192.66678698\n"
     ]
    },
    {
     "name": "stderr",
     "output_type": "stream",
     "text": [
      "\r",
      " 72%|████████████████████████████████████████████████████████▌                      | 902/1261 [10:58<04:16,  1.40it/s]"
     ]
    },
    {
     "name": "stdout",
     "output_type": "stream",
     "text": [
      "ret 6.1018265723356e-05\n",
      "LA.norm(trackline.diffs)>15*np.std(coefnorm): -76.8358614231\n",
      "dist_diff 191.847547241\n"
     ]
    },
    {
     "name": "stderr",
     "output_type": "stream",
     "text": [
      "\r",
      " 72%|████████████████████████████████████████████████████████▌                      | 903/1261 [10:58<04:15,  1.40it/s]"
     ]
    },
    {
     "name": "stdout",
     "output_type": "stream",
     "text": [
      "ret 2.7195066753360475e-05\n",
      "LA.norm(trackline.diffs)>15*np.std(coefnorm): -71.4326620363\n",
      "dist_diff 186.806816786\n"
     ]
    },
    {
     "name": "stderr",
     "output_type": "stream",
     "text": [
      "\r",
      " 72%|████████████████████████████████████████████████████████▋                      | 904/1261 [10:59<04:15,  1.40it/s]"
     ]
    },
    {
     "name": "stdout",
     "output_type": "stream",
     "text": [
      "ret 1.8917130184870068e-05\n",
      "LA.norm(trackline.diffs)>15*np.std(coefnorm): -77.0573504844\n",
      "dist_diff 185.312784671\n"
     ]
    },
    {
     "name": "stderr",
     "output_type": "stream",
     "text": [
      "\r",
      " 72%|████████████████████████████████████████████████████████▋                      | 905/1261 [11:00<04:22,  1.36it/s]"
     ]
    },
    {
     "name": "stdout",
     "output_type": "stream",
     "text": [
      "ret 0.00011785587893137217\n",
      "LA.norm(trackline.diffs)>15*np.std(coefnorm): -83.8198514201\n",
      "dist_diff 198.814582969\n"
     ]
    },
    {
     "name": "stderr",
     "output_type": "stream",
     "text": [
      "\r",
      " 72%|████████████████████████████████████████████████████████▊                      | 906/1261 [11:01<04:18,  1.37it/s]"
     ]
    },
    {
     "name": "stdout",
     "output_type": "stream",
     "text": [
      "ret 1.0651157550944923e-05\n",
      "LA.norm(trackline.diffs)>15*np.std(coefnorm): -68.6703957119\n",
      "dist_diff 193.039253201\n"
     ]
    },
    {
     "name": "stderr",
     "output_type": "stream",
     "text": [
      "\r",
      " 72%|████████████████████████████████████████████████████████▊                      | 907/1261 [11:01<04:17,  1.38it/s]"
     ]
    },
    {
     "name": "stdout",
     "output_type": "stream",
     "text": [
      "ret 7.184743690669126e-05\n",
      "LA.norm(trackline.diffs)>15*np.std(coefnorm): -74.6961550475\n",
      "dist_diff 194.420866389\n"
     ]
    },
    {
     "name": "stderr",
     "output_type": "stream",
     "text": [
      "\r",
      " 72%|████████████████████████████████████████████████████████▉                      | 908/1261 [11:02<04:13,  1.39it/s]"
     ]
    },
    {
     "name": "stdout",
     "output_type": "stream",
     "text": [
      "ret 2.4919964620007118e-05\n",
      "LA.norm(trackline.diffs)>15*np.std(coefnorm): -66.1742067329\n",
      "dist_diff 200.587929023\n"
     ]
    },
    {
     "name": "stderr",
     "output_type": "stream",
     "text": [
      "\r",
      " 72%|████████████████████████████████████████████████████████▉                      | 909/1261 [11:03<04:11,  1.40it/s]"
     ]
    },
    {
     "name": "stdout",
     "output_type": "stream",
     "text": [
      "ret 2.777150792387939e-06\n",
      "LA.norm(trackline.diffs)>15*np.std(coefnorm): -35.9177087528\n",
      "dist_diff 205.498943051\n"
     ]
    },
    {
     "name": "stderr",
     "output_type": "stream",
     "text": [
      "\r",
      " 72%|█████████████████████████████████████████████████████████                      | 910/1261 [11:03<04:13,  1.38it/s]"
     ]
    },
    {
     "name": "stdout",
     "output_type": "stream",
     "text": [
      "ret 1.5237727699568548e-05\n",
      "LA.norm(trackline.diffs)>15*np.std(coefnorm): -34.4697550105\n",
      "dist_diff 204.937110082\n"
     ]
    },
    {
     "name": "stderr",
     "output_type": "stream",
     "text": [
      "\r",
      " 72%|█████████████████████████████████████████████████████████                      | 911/1261 [11:04<04:12,  1.38it/s]"
     ]
    },
    {
     "name": "stdout",
     "output_type": "stream",
     "text": [
      "ret 9.037332667882758e-06\n",
      "LA.norm(trackline.diffs)>15*np.std(coefnorm): -46.1591799916\n",
      "dist_diff 201.847003134\n"
     ]
    },
    {
     "name": "stderr",
     "output_type": "stream",
     "text": [
      "\r",
      " 72%|█████████████████████████████████████████████████████████▏                     | 912/1261 [11:05<04:15,  1.37it/s]"
     ]
    },
    {
     "name": "stdout",
     "output_type": "stream",
     "text": [
      "ret 0.00014220318513452623\n",
      "LA.norm(trackline.diffs)>15*np.std(coefnorm): -36.3387353545\n",
      "dist_diff 202.357815824\n"
     ]
    },
    {
     "name": "stderr",
     "output_type": "stream",
     "text": [
      "\r",
      " 72%|█████████████████████████████████████████████████████████▏                     | 913/1261 [11:06<04:11,  1.38it/s]"
     ]
    },
    {
     "name": "stdout",
     "output_type": "stream",
     "text": [
      "ret 1.0735279838747225e-05\n",
      "LA.norm(trackline.diffs)>15*np.std(coefnorm): -35.1666248107\n",
      "dist_diff 203.86966848\n"
     ]
    },
    {
     "name": "stderr",
     "output_type": "stream",
     "text": [
      "\r",
      " 72%|█████████████████████████████████████████████████████████▎                     | 914/1261 [11:06<04:11,  1.38it/s]"
     ]
    },
    {
     "name": "stdout",
     "output_type": "stream",
     "text": [
      "ret 1.9430422180721774e-05\n",
      "LA.norm(trackline.diffs)>15*np.std(coefnorm): -41.1059651355\n",
      "dist_diff 202.615174204\n"
     ]
    },
    {
     "name": "stderr",
     "output_type": "stream",
     "text": [
      "\r",
      " 73%|█████████████████████████████████████████████████████████▎                     | 915/1261 [11:07<04:10,  1.38it/s]"
     ]
    },
    {
     "name": "stdout",
     "output_type": "stream",
     "text": [
      "ret 1.643260530820312e-05\n",
      "LA.norm(trackline.diffs)>15*np.std(coefnorm): -45.2431942696\n",
      "dist_diff 202.865394796\n"
     ]
    },
    {
     "name": "stderr",
     "output_type": "stream",
     "text": [
      "\r",
      " 73%|█████████████████████████████████████████████████████████▍                     | 916/1261 [11:08<04:07,  1.39it/s]"
     ]
    },
    {
     "name": "stdout",
     "output_type": "stream",
     "text": [
      "ret 6.25472126908333e-05\n",
      "LA.norm(trackline.diffs)>15*np.std(coefnorm): -60.2639994849\n",
      "dist_diff 205.940899892\n"
     ]
    },
    {
     "name": "stderr",
     "output_type": "stream",
     "text": [
      "\r",
      " 73%|█████████████████████████████████████████████████████████▍                     | 917/1261 [11:08<04:05,  1.40it/s]"
     ]
    },
    {
     "name": "stdout",
     "output_type": "stream",
     "text": [
      "ret 2.2051018031044034e-05\n",
      "LA.norm(trackline.diffs)>15*np.std(coefnorm): -66.0200569741\n",
      "dist_diff 219.364168045\n"
     ]
    },
    {
     "name": "stderr",
     "output_type": "stream",
     "text": [
      "\r",
      " 73%|█████████████████████████████████████████████████████████▌                     | 918/1261 [11:09<04:04,  1.40it/s]"
     ]
    },
    {
     "name": "stdout",
     "output_type": "stream",
     "text": [
      "ret 8.500217391738119e-06\n",
      "LA.norm(trackline.diffs)>15*np.std(coefnorm): -72.6532799678\n",
      "dist_diff 210.603690664\n"
     ]
    },
    {
     "name": "stderr",
     "output_type": "stream",
     "text": [
      "\r",
      " 73%|█████████████████████████████████████████████████████████▌                     | 919/1261 [11:10<04:06,  1.39it/s]"
     ]
    },
    {
     "name": "stdout",
     "output_type": "stream",
     "text": [
      "ret 8.011013007036549e-05\n",
      "LA.norm(trackline.diffs)>15*np.std(coefnorm): -64.5222020464\n",
      "dist_diff 207.185302162\n"
     ]
    },
    {
     "name": "stderr",
     "output_type": "stream",
     "text": [
      "\r",
      " 73%|█████████████████████████████████████████████████████████▋                     | 920/1261 [11:11<04:08,  1.37it/s]"
     ]
    },
    {
     "name": "stdout",
     "output_type": "stream",
     "text": [
      "ret 0.00010305715622332956\n",
      "LA.norm(trackline.diffs)>15*np.std(coefnorm): -42.4664788588\n",
      "dist_diff 213.300103841\n"
     ]
    },
    {
     "name": "stderr",
     "output_type": "stream",
     "text": [
      "\r",
      " 73%|█████████████████████████████████████████████████████████▋                     | 921/1261 [11:11<04:06,  1.38it/s]"
     ]
    },
    {
     "name": "stdout",
     "output_type": "stream",
     "text": [
      "ret 2.8355598216789346e-05\n",
      "LA.norm(trackline.diffs)>15*np.std(coefnorm): -52.0651144962\n",
      "dist_diff 207.589515157\n"
     ]
    },
    {
     "name": "stderr",
     "output_type": "stream",
     "text": [
      "\r",
      " 73%|█████████████████████████████████████████████████████████▊                     | 922/1261 [11:12<04:07,  1.37it/s]"
     ]
    },
    {
     "name": "stdout",
     "output_type": "stream",
     "text": [
      "ret 9.679153776420701e-05\n",
      "LA.norm(trackline.diffs)>15*np.std(coefnorm): -77.0966175981\n",
      "dist_diff 199.776641272\n"
     ]
    },
    {
     "name": "stderr",
     "output_type": "stream",
     "text": [
      "\r",
      " 73%|█████████████████████████████████████████████████████████▊                     | 923/1261 [11:13<04:06,  1.37it/s]"
     ]
    },
    {
     "name": "stdout",
     "output_type": "stream",
     "text": [
      "ret 3.2964343863239876e-05\n",
      "LA.norm(trackline.diffs)>15*np.std(coefnorm): -86.7210778863\n",
      "dist_diff 196.991918224\n"
     ]
    },
    {
     "name": "stderr",
     "output_type": "stream",
     "text": [
      "\r",
      " 73%|█████████████████████████████████████████████████████████▉                     | 924/1261 [11:14<04:05,  1.37it/s]"
     ]
    },
    {
     "name": "stdout",
     "output_type": "stream",
     "text": [
      "ret 0.0001560872706447003\n",
      "LA.norm(trackline.diffs)>15*np.std(coefnorm): -93.0475518718\n",
      "dist_diff 194.188714407\n"
     ]
    },
    {
     "name": "stderr",
     "output_type": "stream",
     "text": [
      "\r",
      " 73%|█████████████████████████████████████████████████████████▉                     | 925/1261 [11:14<04:04,  1.37it/s]"
     ]
    },
    {
     "name": "stdout",
     "output_type": "stream",
     "text": [
      "ret 7.342051673164818e-05\n",
      "LA.norm(trackline.diffs)>15*np.std(coefnorm): -89.7850275978\n",
      "dist_diff 189.861091403\n"
     ]
    },
    {
     "name": "stderr",
     "output_type": "stream",
     "text": [
      "\r",
      " 73%|██████████████████████████████████████████████████████████                     | 926/1261 [11:15<04:04,  1.37it/s]"
     ]
    },
    {
     "name": "stdout",
     "output_type": "stream",
     "text": [
      "ret 8.715526367453208e-05\n",
      "LA.norm(trackline.diffs)>15*np.std(coefnorm): -91.4184911442\n",
      "dist_diff 188.251447711\n"
     ]
    },
    {
     "name": "stderr",
     "output_type": "stream",
     "text": [
      "\r",
      " 74%|██████████████████████████████████████████████████████████                     | 927/1261 [11:16<04:03,  1.37it/s]"
     ]
    },
    {
     "name": "stdout",
     "output_type": "stream",
     "text": [
      "ret 1.4747392080571853e-05\n",
      "LA.norm(trackline.diffs)>15*np.std(coefnorm): -80.1970647362\n",
      "dist_diff 186.190971954\n"
     ]
    },
    {
     "name": "stderr",
     "output_type": "stream",
     "text": [
      "\r",
      " 74%|██████████████████████████████████████████████████████████▏                    | 928/1261 [11:17<04:03,  1.37it/s]"
     ]
    },
    {
     "name": "stdout",
     "output_type": "stream",
     "text": [
      "ret 3.647073007762014e-06\n",
      "LA.norm(trackline.diffs)>15*np.std(coefnorm): -72.1920349238\n",
      "dist_diff 180.637801509\n"
     ]
    },
    {
     "name": "stderr",
     "output_type": "stream",
     "text": [
      "\r",
      " 74%|██████████████████████████████████████████████████████████▏                    | 929/1261 [11:17<04:02,  1.37it/s]"
     ]
    },
    {
     "name": "stdout",
     "output_type": "stream",
     "text": [
      "ret 7.530149758733229e-05\n",
      "LA.norm(trackline.diffs)>15*np.std(coefnorm): -57.2962074639\n",
      "dist_diff 180.450068421\n"
     ]
    },
    {
     "name": "stderr",
     "output_type": "stream",
     "text": [
      "\r",
      " 74%|██████████████████████████████████████████████████████████▎                    | 930/1261 [11:18<04:02,  1.37it/s]"
     ]
    },
    {
     "name": "stdout",
     "output_type": "stream",
     "text": [
      "ret 2.4659505329149844e-05\n",
      "LA.norm(trackline.diffs)>15*np.std(coefnorm): -22.9913370764\n",
      "dist_diff 179.004382353\n"
     ]
    },
    {
     "name": "stderr",
     "output_type": "stream",
     "text": [
      "\r",
      " 74%|██████████████████████████████████████████████████████████▎                    | 931/1261 [11:19<04:00,  1.37it/s]"
     ]
    },
    {
     "name": "stdout",
     "output_type": "stream",
     "text": [
      "ret 2.647438458158735e-05\n",
      "LA.norm(trackline.diffs)>15*np.std(coefnorm): -29.9983444683\n",
      "dist_diff 184.925914295\n"
     ]
    },
    {
     "name": "stderr",
     "output_type": "stream",
     "text": [
      "\r",
      " 74%|██████████████████████████████████████████████████████████▍                    | 932/1261 [11:19<03:59,  1.37it/s]"
     ]
    },
    {
     "name": "stdout",
     "output_type": "stream",
     "text": [
      "ret 0.00011035687961985507\n",
      "LA.norm(trackline.diffs)>15*np.std(coefnorm): -28.1818671266\n",
      "dist_diff 185.964801789\n"
     ]
    },
    {
     "name": "stderr",
     "output_type": "stream",
     "text": [
      "\r",
      " 74%|██████████████████████████████████████████████████████████▍                    | 933/1261 [11:20<03:59,  1.37it/s]"
     ]
    },
    {
     "name": "stdout",
     "output_type": "stream",
     "text": [
      "ret 0.00012674664357109622\n",
      "LA.norm(trackline.diffs)>15*np.std(coefnorm): -59.6732279796\n",
      "dist_diff 190.642444875\n"
     ]
    },
    {
     "name": "stderr",
     "output_type": "stream",
     "text": [
      "\r",
      " 74%|██████████████████████████████████████████████████████████▌                    | 934/1261 [11:21<04:00,  1.36it/s]"
     ]
    },
    {
     "name": "stdout",
     "output_type": "stream",
     "text": [
      "ret 0.00014747265914816232\n",
      "LA.norm(trackline.diffs)>15*np.std(coefnorm): -56.1703810805\n",
      "dist_diff 190.763511501\n"
     ]
    },
    {
     "name": "stderr",
     "output_type": "stream",
     "text": [
      "\r",
      " 74%|██████████████████████████████████████████████████████████▌                    | 935/1261 [11:22<03:59,  1.36it/s]"
     ]
    },
    {
     "name": "stdout",
     "output_type": "stream",
     "text": [
      "ret 0.0001385396165145547\n",
      "LA.norm(trackline.diffs)>15*np.std(coefnorm): -67.8631628197\n",
      "dist_diff 192.809626359\n"
     ]
    },
    {
     "name": "stderr",
     "output_type": "stream",
     "text": [
      "\r",
      " 74%|██████████████████████████████████████████████████████████▋                    | 936/1261 [11:22<03:59,  1.36it/s]"
     ]
    },
    {
     "name": "stdout",
     "output_type": "stream",
     "text": [
      "ret 8.969146754633783e-06\n",
      "LA.norm(trackline.diffs)>15*np.std(coefnorm): -103.918672435\n",
      "dist_diff 197.287379768\n"
     ]
    },
    {
     "name": "stderr",
     "output_type": "stream",
     "text": [
      "\r",
      " 74%|██████████████████████████████████████████████████████████▋                    | 937/1261 [11:23<03:59,  1.35it/s]"
     ]
    },
    {
     "name": "stdout",
     "output_type": "stream",
     "text": [
      "ret 5.748661305149394e-05\n",
      "LA.norm(trackline.diffs)>15*np.std(coefnorm): -126.252390609\n",
      "dist_diff 202.565656379\n"
     ]
    },
    {
     "name": "stderr",
     "output_type": "stream",
     "text": [
      "\r",
      " 74%|██████████████████████████████████████████████████████████▊                    | 938/1261 [11:24<03:59,  1.35it/s]"
     ]
    },
    {
     "name": "stdout",
     "output_type": "stream",
     "text": [
      "ret 7.64373219213077e-05\n",
      "LA.norm(trackline.diffs)>15*np.std(coefnorm): -155.840346197\n",
      "dist_diff 206.898039967\n"
     ]
    },
    {
     "name": "stderr",
     "output_type": "stream",
     "text": [
      "\r",
      " 74%|██████████████████████████████████████████████████████████▊                    | 939/1261 [11:25<03:57,  1.36it/s]"
     ]
    },
    {
     "name": "stdout",
     "output_type": "stream",
     "text": [
      "ret 7.744947841969996e-05\n",
      "LA.norm(trackline.diffs)>15*np.std(coefnorm): -155.532122753\n",
      "dist_diff 210.785990924\n"
     ]
    },
    {
     "name": "stderr",
     "output_type": "stream",
     "text": [
      "\r",
      " 75%|██████████████████████████████████████████████████████████▉                    | 940/1261 [11:25<03:56,  1.36it/s]"
     ]
    },
    {
     "name": "stdout",
     "output_type": "stream",
     "text": [
      "ret 1.869773165769084e-05\n",
      "LA.norm(trackline.diffs)>15*np.std(coefnorm): -160.49285584\n",
      "dist_diff 214.728908635\n"
     ]
    },
    {
     "name": "stderr",
     "output_type": "stream",
     "text": [
      "\r",
      " 75%|██████████████████████████████████████████████████████████▉                    | 941/1261 [11:26<03:58,  1.34it/s]"
     ]
    },
    {
     "name": "stdout",
     "output_type": "stream",
     "text": [
      "ret 2.460614138960482e-05\n",
      "LA.norm(trackline.diffs)>15*np.std(coefnorm): -154.145432235\n",
      "dist_diff 217.825735521\n"
     ]
    },
    {
     "name": "stderr",
     "output_type": "stream",
     "text": [
      "\r",
      " 75%|███████████████████████████████████████████████████████████                    | 942/1261 [11:27<03:57,  1.35it/s]"
     ]
    },
    {
     "name": "stdout",
     "output_type": "stream",
     "text": [
      "ret 8.04150350923738e-05\n",
      "LA.norm(trackline.diffs)>15*np.std(coefnorm): -147.019580011\n",
      "dist_diff 230.360391691\n"
     ]
    },
    {
     "name": "stderr",
     "output_type": "stream",
     "text": [
      "\r",
      " 75%|███████████████████████████████████████████████████████████                    | 943/1261 [11:28<03:54,  1.36it/s]"
     ]
    },
    {
     "name": "stdout",
     "output_type": "stream",
     "text": [
      "ret 0.0001405083976929733\n",
      "LA.norm(trackline.diffs)>15*np.std(coefnorm): -147.654055886\n",
      "dist_diff 223.246555482\n"
     ]
    },
    {
     "name": "stderr",
     "output_type": "stream",
     "text": [
      "\r",
      " 75%|███████████████████████████████████████████████████████████▏                   | 944/1261 [11:28<03:52,  1.36it/s]"
     ]
    },
    {
     "name": "stdout",
     "output_type": "stream",
     "text": [
      "ret 6.200001363743102e-05\n",
      "LA.norm(trackline.diffs)>15*np.std(coefnorm): -134.289402368\n",
      "dist_diff 223.651116019\n"
     ]
    },
    {
     "name": "stderr",
     "output_type": "stream",
     "text": [
      "\r",
      " 75%|███████████████████████████████████████████████████████████▏                   | 945/1261 [11:29<03:49,  1.38it/s]"
     ]
    },
    {
     "name": "stdout",
     "output_type": "stream",
     "text": [
      "ret 9.362508804622305e-06\n",
      "LA.norm(trackline.diffs)>15*np.std(coefnorm): -98.0606940859\n",
      "dist_diff 223.546714806\n"
     ]
    },
    {
     "name": "stderr",
     "output_type": "stream",
     "text": [
      "\r",
      " 75%|███████████████████████████████████████████████████████████▎                   | 946/1261 [11:30<03:50,  1.37it/s]"
     ]
    },
    {
     "name": "stdout",
     "output_type": "stream",
     "text": [
      "ret 5.312481779151668e-06\n",
      "LA.norm(trackline.diffs)>15*np.std(coefnorm): -52.2774371069\n",
      "dist_diff 217.111235814\n"
     ]
    },
    {
     "name": "stderr",
     "output_type": "stream",
     "text": [
      "\r",
      " 75%|███████████████████████████████████████████████████████████▎                   | 947/1261 [11:31<03:52,  1.35it/s]"
     ]
    },
    {
     "name": "stdout",
     "output_type": "stream",
     "text": [
      "ret 7.271476840753355e-05\n",
      "LA.norm(trackline.diffs)>15*np.std(coefnorm): -44.3211106088\n",
      "dist_diff 218.365232785\n"
     ]
    },
    {
     "name": "stderr",
     "output_type": "stream",
     "text": [
      "\r",
      " 75%|███████████████████████████████████████████████████████████▍                   | 948/1261 [11:31<03:51,  1.35it/s]"
     ]
    },
    {
     "name": "stdout",
     "output_type": "stream",
     "text": [
      "ret 4.4942910416012616e-05\n",
      "LA.norm(trackline.diffs)>15*np.std(coefnorm): -35.020209024\n",
      "dist_diff 215.803514051\n"
     ]
    },
    {
     "name": "stderr",
     "output_type": "stream",
     "text": [
      "\r",
      " 75%|███████████████████████████████████████████████████████████▍                   | 949/1261 [11:32<03:46,  1.38it/s]"
     ]
    },
    {
     "name": "stdout",
     "output_type": "stream",
     "text": [
      "ret 0.00011787482374203684\n",
      "LA.norm(trackline.diffs)>15*np.std(coefnorm): -31.7692393442\n",
      "dist_diff 214.490723861\n"
     ]
    },
    {
     "name": "stderr",
     "output_type": "stream",
     "text": [
      "\r",
      " 75%|███████████████████████████████████████████████████████████▌                   | 950/1261 [11:33<03:46,  1.37it/s]"
     ]
    },
    {
     "name": "stdout",
     "output_type": "stream",
     "text": [
      "ret 5.653929537291491e-05\n",
      "LA.norm(trackline.diffs)>15*np.std(coefnorm): -37.0047220121\n",
      "dist_diff 216.815440512\n"
     ]
    },
    {
     "name": "stderr",
     "output_type": "stream",
     "text": [
      "\r",
      " 75%|███████████████████████████████████████████████████████████▌                   | 951/1261 [11:33<03:45,  1.37it/s]"
     ]
    },
    {
     "name": "stdout",
     "output_type": "stream",
     "text": [
      "ret 8.188874898301668e-05\n",
      "LA.norm(trackline.diffs)>15*np.std(coefnorm): -31.0865529985\n",
      "dist_diff 211.539523881\n"
     ]
    },
    {
     "name": "stderr",
     "output_type": "stream",
     "text": [
      "\r",
      " 75%|███████████████████████████████████████████████████████████▋                   | 952/1261 [11:34<03:45,  1.37it/s]"
     ]
    },
    {
     "name": "stdout",
     "output_type": "stream",
     "text": [
      "ret 4.31379301611412e-05\n",
      "LA.norm(trackline.diffs)>15*np.std(coefnorm): -56.9329839273\n",
      "dist_diff 228.192175527\n"
     ]
    },
    {
     "name": "stderr",
     "output_type": "stream",
     "text": [
      "\r",
      " 76%|███████████████████████████████████████████████████████████▋                   | 953/1261 [11:35<03:43,  1.38it/s]"
     ]
    },
    {
     "name": "stdout",
     "output_type": "stream",
     "text": [
      "ret 6.528663390359402e-05\n",
      "LA.norm(trackline.diffs)>15*np.std(coefnorm): -51.0537106398\n",
      "dist_diff 227.969433047\n"
     ]
    },
    {
     "name": "stderr",
     "output_type": "stream",
     "text": [
      "\r",
      " 76%|███████████████████████████████████████████████████████████▊                   | 954/1261 [11:36<03:41,  1.39it/s]"
     ]
    },
    {
     "name": "stdout",
     "output_type": "stream",
     "text": [
      "ret 5.267684753496038e-05\n",
      "LA.norm(trackline.diffs)>15*np.std(coefnorm): -59.1118275994\n",
      "dist_diff 225.834875606\n"
     ]
    },
    {
     "name": "stderr",
     "output_type": "stream",
     "text": [
      "\r",
      " 76%|███████████████████████████████████████████████████████████▊                   | 955/1261 [11:36<03:40,  1.39it/s]"
     ]
    },
    {
     "name": "stdout",
     "output_type": "stream",
     "text": [
      "ret 6.692758523985098e-05\n",
      "LA.norm(trackline.diffs)>15*np.std(coefnorm): -42.8787248871\n",
      "dist_diff 232.694063483\n"
     ]
    },
    {
     "name": "stderr",
     "output_type": "stream",
     "text": [
      "\r",
      " 76%|███████████████████████████████████████████████████████████▉                   | 956/1261 [11:37<03:39,  1.39it/s]"
     ]
    },
    {
     "name": "stdout",
     "output_type": "stream",
     "text": [
      "ret 0.00017959849886345358\n",
      "LA.norm(trackline.diffs)>15*np.std(coefnorm): -42.4931349218\n",
      "dist_diff 233.649671008\n"
     ]
    },
    {
     "name": "stderr",
     "output_type": "stream",
     "text": [
      "\r",
      " 76%|███████████████████████████████████████████████████████████▉                   | 957/1261 [11:38<03:40,  1.38it/s]"
     ]
    },
    {
     "name": "stdout",
     "output_type": "stream",
     "text": [
      "ret 0.00010730444379353221\n",
      "LA.norm(trackline.diffs)>15*np.std(coefnorm): -31.8042809976\n",
      "dist_diff 229.565516296\n"
     ]
    },
    {
     "name": "stderr",
     "output_type": "stream",
     "text": [
      "\r",
      " 76%|████████████████████████████████████████████████████████████                   | 958/1261 [11:38<03:40,  1.37it/s]"
     ]
    },
    {
     "name": "stdout",
     "output_type": "stream",
     "text": [
      "ret 1.4123635144580593e-05\n",
      "LA.norm(trackline.diffs)>15*np.std(coefnorm): -47.8872010604\n",
      "dist_diff 221.869499847\n"
     ]
    },
    {
     "name": "stderr",
     "output_type": "stream",
     "text": [
      "\r",
      " 76%|████████████████████████████████████████████████████████████                   | 959/1261 [11:39<03:43,  1.35it/s]"
     ]
    },
    {
     "name": "stdout",
     "output_type": "stream",
     "text": [
      "ret 0.0001864882567613746\n",
      "LA.norm(trackline.diffs)>15*np.std(coefnorm): -31.2748745709\n",
      "dist_diff 220.038423785\n"
     ]
    },
    {
     "name": "stderr",
     "output_type": "stream",
     "text": [
      "\r",
      " 76%|████████████████████████████████████████████████████████████▏                  | 960/1261 [11:40<03:44,  1.34it/s]"
     ]
    },
    {
     "name": "stdout",
     "output_type": "stream",
     "text": [
      "ret 1.0353053994383021e-05\n",
      "LA.norm(trackline.diffs)>15*np.std(coefnorm): -36.1740542682\n",
      "dist_diff 219.324942766\n"
     ]
    },
    {
     "name": "stderr",
     "output_type": "stream",
     "text": [
      "\r",
      " 76%|████████████████████████████████████████████████████████████▏                  | 961/1261 [11:41<03:42,  1.35it/s]"
     ]
    },
    {
     "name": "stdout",
     "output_type": "stream",
     "text": [
      "ret 5.967163997772085e-05\n",
      "LA.norm(trackline.diffs)>15*np.std(coefnorm): -47.9464271725\n",
      "dist_diff 214.455012384\n"
     ]
    },
    {
     "name": "stderr",
     "output_type": "stream",
     "text": [
      "\r",
      " 76%|████████████████████████████████████████████████████████████▎                  | 962/1261 [11:41<03:41,  1.35it/s]"
     ]
    },
    {
     "name": "stdout",
     "output_type": "stream",
     "text": [
      "ret 4.351325573342946e-05\n",
      "LA.norm(trackline.diffs)>15*np.std(coefnorm): -60.2580687339\n",
      "dist_diff 214.422376127\n"
     ]
    },
    {
     "name": "stderr",
     "output_type": "stream",
     "text": [
      "\r",
      " 76%|████████████████████████████████████████████████████████████▎                  | 963/1261 [11:42<03:40,  1.35it/s]"
     ]
    },
    {
     "name": "stdout",
     "output_type": "stream",
     "text": [
      "ret 0.00010728525825054458\n",
      "LA.norm(trackline.diffs)>15*np.std(coefnorm): -75.0687572689\n",
      "dist_diff 213.09594457\n"
     ]
    },
    {
     "name": "stderr",
     "output_type": "stream",
     "text": [
      "\r",
      " 76%|████████████████████████████████████████████████████████████▍                  | 964/1261 [11:43<03:38,  1.36it/s]"
     ]
    },
    {
     "name": "stdout",
     "output_type": "stream",
     "text": [
      "ret 9.479680967422466e-05\n",
      "LA.norm(trackline.diffs)>15*np.std(coefnorm): -75.6379303474\n",
      "dist_diff 204.470670681\n"
     ]
    },
    {
     "name": "stderr",
     "output_type": "stream",
     "text": [
      "\r",
      " 77%|████████████████████████████████████████████████████████████▍                  | 965/1261 [11:44<03:38,  1.36it/s]"
     ]
    },
    {
     "name": "stdout",
     "output_type": "stream",
     "text": [
      "ret 0.00011059522916168074\n",
      "LA.norm(trackline.diffs)>15*np.std(coefnorm): -65.0251041172\n",
      "dist_diff 214.225765562\n"
     ]
    },
    {
     "name": "stderr",
     "output_type": "stream",
     "text": [
      "\r",
      " 77%|████████████████████████████████████████████████████████████▌                  | 966/1261 [11:44<03:37,  1.36it/s]"
     ]
    },
    {
     "name": "stdout",
     "output_type": "stream",
     "text": [
      "ret 6.10807123915258e-05\n",
      "LA.norm(trackline.diffs)>15*np.std(coefnorm): -83.1464293752\n",
      "dist_diff 206.354854274\n"
     ]
    },
    {
     "name": "stderr",
     "output_type": "stream",
     "text": [
      "\r",
      " 77%|████████████████████████████████████████████████████████████▌                  | 967/1261 [11:45<03:38,  1.35it/s]"
     ]
    },
    {
     "name": "stdout",
     "output_type": "stream",
     "text": [
      "ret 6.141863216307941e-05\n",
      "LA.norm(trackline.diffs)>15*np.std(coefnorm): -90.9465546148\n",
      "dist_diff 204.21137394\n"
     ]
    },
    {
     "name": "stderr",
     "output_type": "stream",
     "text": [
      "\r",
      " 77%|████████████████████████████████████████████████████████████▋                  | 968/1261 [11:46<03:40,  1.33it/s]"
     ]
    },
    {
     "name": "stdout",
     "output_type": "stream",
     "text": [
      "ret 0.00013011244170318959\n",
      "LA.norm(trackline.diffs)>15*np.std(coefnorm): -108.26809699\n",
      "dist_diff 201.5323919\n"
     ]
    },
    {
     "name": "stderr",
     "output_type": "stream",
     "text": [
      "\r",
      " 77%|████████████████████████████████████████████████████████████▋                  | 969/1261 [11:47<03:41,  1.32it/s]"
     ]
    },
    {
     "name": "stdout",
     "output_type": "stream",
     "text": [
      "ret 8.692678192862013e-05\n",
      "LA.norm(trackline.diffs)>15*np.std(coefnorm): -144.243029563\n",
      "dist_diff 192.510386089\n"
     ]
    },
    {
     "name": "stderr",
     "output_type": "stream",
     "text": [
      "\r",
      " 77%|████████████████████████████████████████████████████████████▊                  | 970/1261 [11:47<03:38,  1.33it/s]"
     ]
    },
    {
     "name": "stdout",
     "output_type": "stream",
     "text": [
      "ret 2.2734219779996234e-05\n",
      "LA.norm(trackline.diffs)>15*np.std(coefnorm): -168.825406352\n",
      "dist_diff 187.226302276\n"
     ]
    },
    {
     "name": "stderr",
     "output_type": "stream",
     "text": [
      "\r",
      " 77%|████████████████████████████████████████████████████████████▊                  | 971/1261 [11:48<03:35,  1.34it/s]"
     ]
    },
    {
     "name": "stdout",
     "output_type": "stream",
     "text": [
      "ret 5.945639427623606e-05\n",
      "LA.norm(trackline.diffs)>15*np.std(coefnorm): -174.742062514\n",
      "dist_diff 182.107586021\n"
     ]
    },
    {
     "name": "stderr",
     "output_type": "stream",
     "text": [
      "\r",
      " 77%|████████████████████████████████████████████████████████████▉                  | 972/1261 [11:49<03:34,  1.35it/s]"
     ]
    },
    {
     "name": "stdout",
     "output_type": "stream",
     "text": [
      "ret 4.653764363471424e-05\n",
      "LA.norm(trackline.diffs)>15*np.std(coefnorm): -173.186765608\n",
      "dist_diff 180.86255864\n"
     ]
    },
    {
     "name": "stderr",
     "output_type": "stream",
     "text": [
      "\r",
      " 77%|████████████████████████████████████████████████████████████▉                  | 973/1261 [11:50<03:35,  1.34it/s]"
     ]
    },
    {
     "name": "stdout",
     "output_type": "stream",
     "text": [
      "ret 0.0002138882350410931\n",
      "LA.norm(trackline.diffs)>15*np.std(coefnorm): -175.577484372\n",
      "dist_diff 180.937855713\n"
     ]
    },
    {
     "name": "stderr",
     "output_type": "stream",
     "text": [
      "\r",
      " 77%|█████████████████████████████████████████████████████████████                  | 974/1261 [11:50<03:33,  1.35it/s]"
     ]
    },
    {
     "name": "stdout",
     "output_type": "stream",
     "text": [
      "ret 0.0004291115470397844\n",
      "LA.norm(trackline.diffs)>15*np.std(coefnorm): -167.448184262\n",
      "dist_diff 196.281078722\n"
     ]
    },
    {
     "name": "stderr",
     "output_type": "stream",
     "text": [
      "\r",
      " 77%|█████████████████████████████████████████████████████████████                  | 975/1261 [11:51<03:31,  1.35it/s]"
     ]
    },
    {
     "name": "stdout",
     "output_type": "stream",
     "text": [
      "ret 1.4356711318885829e-05\n",
      "LA.norm(trackline.diffs)>15*np.std(coefnorm): -271.150862818\n",
      "dist_diff 224.866390286\n"
     ]
    },
    {
     "name": "stderr",
     "output_type": "stream",
     "text": [
      "\r",
      " 77%|█████████████████████████████████████████████████████████████▏                 | 976/1261 [11:52<03:30,  1.36it/s]"
     ]
    },
    {
     "name": "stdout",
     "output_type": "stream",
     "text": [
      "ret 0.00018888465088701123\n",
      "LA.norm(trackline.diffs)>15*np.std(coefnorm): -371.596067913\n",
      "dist_diff 170.766998344\n"
     ]
    },
    {
     "name": "stderr",
     "output_type": "stream",
     "text": [
      "\r",
      " 77%|█████████████████████████████████████████████████████████████▏                 | 977/1261 [11:53<03:30,  1.35it/s]"
     ]
    },
    {
     "name": "stdout",
     "output_type": "stream",
     "text": [
      "ret 0.0003662804330968328\n",
      "LA.norm(trackline.diffs)>15*np.std(coefnorm): -385.363560663\n",
      "dist_diff 145.578784074\n"
     ]
    },
    {
     "name": "stderr",
     "output_type": "stream",
     "text": [
      "\r",
      " 78%|█████████████████████████████████████████████████████████████▎                 | 978/1261 [11:53<03:29,  1.35it/s]"
     ]
    },
    {
     "name": "stdout",
     "output_type": "stream",
     "text": [
      "ret 0.000532620830229702\n",
      "LA.norm(trackline.diffs)>15*np.std(coefnorm): -328.201808066\n",
      "dist_diff 169.171357114\n"
     ]
    },
    {
     "name": "stderr",
     "output_type": "stream",
     "text": [
      "\r",
      " 78%|█████████████████████████████████████████████████████████████▎                 | 979/1261 [11:54<03:27,  1.36it/s]"
     ]
    },
    {
     "name": "stdout",
     "output_type": "stream",
     "text": [
      "ret 0.00028319859626252386\n",
      "LA.norm(trackline.diffs)>15*np.std(coefnorm): -398.671208833\n",
      "dist_diff 145.474887401\n"
     ]
    },
    {
     "name": "stderr",
     "output_type": "stream",
     "text": [
      "\r",
      " 78%|█████████████████████████████████████████████████████████████▍                 | 980/1261 [11:55<03:28,  1.35it/s]"
     ]
    },
    {
     "name": "stdout",
     "output_type": "stream",
     "text": [
      "ret 0.00031766472378974564\n",
      "LA.norm(trackline.diffs)>15*np.std(coefnorm): -335.047846711\n",
      "dist_diff 149.123666604\n"
     ]
    },
    {
     "name": "stderr",
     "output_type": "stream",
     "text": [
      "\r",
      " 78%|█████████████████████████████████████████████████████████████▍                 | 981/1261 [11:56<03:28,  1.34it/s]"
     ]
    },
    {
     "name": "stdout",
     "output_type": "stream",
     "text": [
      "ret 0.0003924857014291905\n",
      "LA.norm(trackline.diffs)>15*np.std(coefnorm): -354.518387257\n",
      "dist_diff 133.050630475\n"
     ]
    },
    {
     "name": "stderr",
     "output_type": "stream",
     "text": [
      "\r",
      " 78%|█████████████████████████████████████████████████████████████▌                 | 982/1261 [11:56<03:25,  1.36it/s]"
     ]
    },
    {
     "name": "stdout",
     "output_type": "stream",
     "text": [
      "ret 0.00010745296561770479\n",
      "LA.norm(trackline.diffs)>15*np.std(coefnorm): -294.866919668\n",
      "dist_diff 129.93440917\n"
     ]
    },
    {
     "name": "stderr",
     "output_type": "stream",
     "text": [
      "\r",
      " 78%|█████████████████████████████████████████████████████████████▌                 | 983/1261 [11:57<03:23,  1.36it/s]"
     ]
    },
    {
     "name": "stdout",
     "output_type": "stream",
     "text": [
      "ret 0.0004536746538159053\n",
      "LA.norm(trackline.diffs)>15*np.std(coefnorm): -308.356017737\n",
      "dist_diff 130.868711069\n"
     ]
    },
    {
     "name": "stderr",
     "output_type": "stream",
     "text": [
      "\r",
      " 78%|█████████████████████████████████████████████████████████████▋                 | 984/1261 [11:58<03:23,  1.36it/s]"
     ]
    },
    {
     "name": "stdout",
     "output_type": "stream",
     "text": [
      "ret 0.0002469633380602354\n",
      "LA.norm(trackline.diffs)>15*np.std(coefnorm): -272.559394764\n",
      "dist_diff 118.565939515\n"
     ]
    },
    {
     "name": "stderr",
     "output_type": "stream",
     "text": [
      "\r",
      " 78%|█████████████████████████████████████████████████████████████▋                 | 985/1261 [11:58<03:21,  1.37it/s]"
     ]
    },
    {
     "name": "stdout",
     "output_type": "stream",
     "text": [
      "ret 6.471967947857538e-05\n",
      "LA.norm(trackline.diffs)>15*np.std(coefnorm): -247.969533535\n",
      "dist_diff 119.473191523\n"
     ]
    },
    {
     "name": "stderr",
     "output_type": "stream",
     "text": [
      "\r",
      " 78%|█████████████████████████████████████████████████████████████▊                 | 986/1261 [11:59<03:20,  1.37it/s]"
     ]
    },
    {
     "name": "stdout",
     "output_type": "stream",
     "text": [
      "ret 1.985981012586624e-06\n",
      "LA.norm(trackline.diffs)>15*np.std(coefnorm): -221.628375548\n",
      "dist_diff 121.231844002\n"
     ]
    },
    {
     "name": "stderr",
     "output_type": "stream",
     "text": [
      "\r",
      " 78%|█████████████████████████████████████████████████████████████▊                 | 987/1261 [12:00<03:21,  1.36it/s]"
     ]
    },
    {
     "name": "stdout",
     "output_type": "stream",
     "text": [
      "ret 1.982298089575618e-05\n",
      "LA.norm(trackline.diffs)>15*np.std(coefnorm): -237.769180079\n",
      "dist_diff 122.229513286\n"
     ]
    },
    {
     "name": "stderr",
     "output_type": "stream",
     "text": [
      "\r",
      " 78%|█████████████████████████████████████████████████████████████▉                 | 988/1261 [12:01<03:18,  1.38it/s]"
     ]
    },
    {
     "name": "stdout",
     "output_type": "stream",
     "text": [
      "ret 8.27334093607135e-05\n",
      "LA.norm(trackline.diffs)>15*np.std(coefnorm): -181.458068658\n",
      "dist_diff 103.169763825\n"
     ]
    },
    {
     "name": "stderr",
     "output_type": "stream",
     "text": [
      "\r",
      " 78%|█████████████████████████████████████████████████████████████▉                 | 989/1261 [12:01<03:16,  1.38it/s]"
     ]
    },
    {
     "name": "stdout",
     "output_type": "stream",
     "text": [
      "ret 1.8831817563846887e-05\n",
      "LA.norm(trackline.diffs)>15*np.std(coefnorm): -89.100965777\n",
      "dist_diff 127.57795425\n"
     ]
    },
    {
     "name": "stderr",
     "output_type": "stream",
     "text": [
      "\r",
      " 79%|██████████████████████████████████████████████████████████████                 | 990/1261 [12:02<03:16,  1.38it/s]"
     ]
    },
    {
     "name": "stdout",
     "output_type": "stream",
     "text": [
      "ret 0.00012382486215217758\n",
      "LA.norm(trackline.diffs)>15*np.std(coefnorm): -197.656074175\n",
      "dist_diff 110.444861301\n"
     ]
    },
    {
     "name": "stderr",
     "output_type": "stream",
     "text": [
      "\r",
      " 79%|██████████████████████████████████████████████████████████████                 | 991/1261 [12:03<03:16,  1.37it/s]"
     ]
    },
    {
     "name": "stdout",
     "output_type": "stream",
     "text": [
      "ret 0.02380165059797218\n",
      "LA.norm(trackline.diffs)>15*np.std(coefnorm): 1343.72812994\n",
      "dist_diff 178.281303523\n"
     ]
    },
    {
     "name": "stderr",
     "output_type": "stream",
     "text": [
      "\r",
      " 79%|██████████████████████████████████████████████████████████████▏                | 992/1261 [12:04<03:15,  1.38it/s]"
     ]
    },
    {
     "name": "stdout",
     "output_type": "stream",
     "text": [
      "ret 0.00011780216433410207\n",
      "LA.norm(trackline.diffs)>15*np.std(coefnorm): -134.983541537\n",
      "dist_diff 140.743381868\n"
     ]
    },
    {
     "name": "stderr",
     "output_type": "stream",
     "text": [
      "\r",
      " 79%|██████████████████████████████████████████████████████████████▏                | 993/1261 [12:04<03:14,  1.38it/s]"
     ]
    },
    {
     "name": "stdout",
     "output_type": "stream",
     "text": [
      "ret 0.00020474752312665823\n",
      "LA.norm(trackline.diffs)>15*np.std(coefnorm): -150.51286817\n",
      "dist_diff 154.346447404\n"
     ]
    },
    {
     "name": "stderr",
     "output_type": "stream",
     "text": [
      "\r",
      " 79%|██████████████████████████████████████████████████████████████▎                | 994/1261 [12:05<03:12,  1.39it/s]"
     ]
    },
    {
     "name": "stdout",
     "output_type": "stream",
     "text": [
      "ret 0.040659280583006996\n",
      "LA.norm(trackline.diffs)>15*np.std(coefnorm): 4033.22865929\n",
      "dist_diff 234.046613212\n"
     ]
    },
    {
     "name": "stderr",
     "output_type": "stream",
     "text": [
      "\r",
      " 79%|██████████████████████████████████████████████████████████████▎                | 995/1261 [12:06<03:12,  1.38it/s]"
     ]
    },
    {
     "name": "stdout",
     "output_type": "stream",
     "text": [
      "ret 0.00011440534285300785\n",
      "LA.norm(trackline.diffs)>15*np.std(coefnorm): -123.756151506\n",
      "dist_diff 169.683142784\n"
     ]
    },
    {
     "name": "stderr",
     "output_type": "stream",
     "text": [
      "\r",
      " 79%|██████████████████████████████████████████████████████████████▍                | 996/1261 [12:06<03:11,  1.38it/s]"
     ]
    },
    {
     "name": "stdout",
     "output_type": "stream",
     "text": [
      "ret 9.097028499255311e-05\n",
      "LA.norm(trackline.diffs)>15*np.std(coefnorm): -70.8475226423\n",
      "dist_diff 175.236238734\n"
     ]
    },
    {
     "name": "stderr",
     "output_type": "stream",
     "text": [
      "\r",
      " 79%|██████████████████████████████████████████████████████████████▍                | 997/1261 [12:07<03:11,  1.38it/s]"
     ]
    },
    {
     "name": "stdout",
     "output_type": "stream",
     "text": [
      "ret 5.483492069657814e-05\n",
      "LA.norm(trackline.diffs)>15*np.std(coefnorm): -120.804292699\n",
      "dist_diff 178.011784506\n"
     ]
    },
    {
     "name": "stderr",
     "output_type": "stream",
     "text": [
      "\r",
      " 79%|██████████████████████████████████████████████████████████████▌                | 998/1261 [12:08<03:11,  1.37it/s]"
     ]
    },
    {
     "name": "stdout",
     "output_type": "stream",
     "text": [
      "ret 0.00023693445890421438\n",
      "LA.norm(trackline.diffs)>15*np.std(coefnorm): -190.699179661\n",
      "dist_diff 61.0901906654\n"
     ]
    },
    {
     "name": "stderr",
     "output_type": "stream",
     "text": [
      "\r",
      " 79%|██████████████████████████████████████████████████████████████▌                | 999/1261 [12:09<03:10,  1.38it/s]"
     ]
    },
    {
     "name": "stdout",
     "output_type": "stream",
     "text": [
      "ret 0.00013659393728815417\n",
      "LA.norm(trackline.diffs)>15*np.std(coefnorm): -239.290101574\n",
      "dist_diff 164.694974645\n"
     ]
    },
    {
     "name": "stderr",
     "output_type": "stream",
     "text": [
      "\r",
      " 79%|█████████████████████████████████████████████████████████████▊                | 1000/1261 [12:09<03:11,  1.36it/s]"
     ]
    },
    {
     "name": "stdout",
     "output_type": "stream",
     "text": [
      "ret 4.776755190838422e-05\n",
      "LA.norm(trackline.diffs)>15*np.std(coefnorm): -252.673786142\n",
      "dist_diff 156.63953758\n"
     ]
    },
    {
     "name": "stderr",
     "output_type": "stream",
     "text": [
      "\r",
      " 79%|█████████████████████████████████████████████████████████████▉                | 1001/1261 [12:10<03:10,  1.36it/s]"
     ]
    },
    {
     "name": "stdout",
     "output_type": "stream",
     "text": [
      "ret 4.263742726995368e-06\n",
      "LA.norm(trackline.diffs)>15*np.std(coefnorm): -213.164780213\n",
      "dist_diff 128.345710294\n"
     ]
    },
    {
     "name": "stderr",
     "output_type": "stream",
     "text": [
      "\r",
      " 79%|█████████████████████████████████████████████████████████████▉                | 1002/1261 [12:11<03:08,  1.37it/s]"
     ]
    },
    {
     "name": "stdout",
     "output_type": "stream",
     "text": [
      "ret 0.00012074797582783958\n",
      "LA.norm(trackline.diffs)>15*np.std(coefnorm): -94.5189256029\n",
      "dist_diff 126.652684249\n"
     ]
    },
    {
     "name": "stderr",
     "output_type": "stream",
     "text": [
      "\r",
      " 80%|██████████████████████████████████████████████████████████████                | 1003/1261 [12:12<03:05,  1.39it/s]"
     ]
    },
    {
     "name": "stdout",
     "output_type": "stream",
     "text": [
      "ret 0.00018179184662503456\n",
      "LA.norm(trackline.diffs)>15*np.std(coefnorm): -69.2515885656\n",
      "dist_diff 118.723908513\n"
     ]
    },
    {
     "name": "stderr",
     "output_type": "stream",
     "text": [
      "\r",
      " 80%|██████████████████████████████████████████████████████████████                | 1004/1261 [12:12<03:05,  1.38it/s]"
     ]
    },
    {
     "name": "stdout",
     "output_type": "stream",
     "text": [
      "ret 1.2153944519865956e-05\n",
      "LA.norm(trackline.diffs)>15*np.std(coefnorm): -84.3594784124\n",
      "dist_diff 125.947137053\n"
     ]
    },
    {
     "name": "stderr",
     "output_type": "stream",
     "text": [
      "\r",
      " 80%|██████████████████████████████████████████████████████████████▏               | 1005/1261 [12:13<03:04,  1.38it/s]"
     ]
    },
    {
     "name": "stdout",
     "output_type": "stream",
     "text": [
      "ret 4.284028655476835e-05\n",
      "LA.norm(trackline.diffs)>15*np.std(coefnorm): -98.5828217015\n",
      "dist_diff 153.068726057\n"
     ]
    },
    {
     "name": "stderr",
     "output_type": "stream",
     "text": [
      "\r",
      " 80%|██████████████████████████████████████████████████████████████▏               | 1006/1261 [12:14<03:04,  1.38it/s]"
     ]
    },
    {
     "name": "stdout",
     "output_type": "stream",
     "text": [
      "ret 0.0004220454839220511\n",
      "LA.norm(trackline.diffs)>15*np.std(coefnorm): -56.2296533108\n",
      "dist_diff 146.179441644\n"
     ]
    },
    {
     "name": "stderr",
     "output_type": "stream",
     "text": [
      "\r",
      " 80%|██████████████████████████████████████████████████████████████▎               | 1007/1261 [12:14<03:03,  1.38it/s]"
     ]
    },
    {
     "name": "stdout",
     "output_type": "stream",
     "text": [
      "ret 0.0003902700105440915\n",
      "LA.norm(trackline.diffs)>15*np.std(coefnorm): -138.747999995\n",
      "dist_diff 200.060998571\n"
     ]
    },
    {
     "name": "stderr",
     "output_type": "stream",
     "text": [
      "\r",
      " 80%|██████████████████████████████████████████████████████████████▎               | 1008/1261 [12:15<03:04,  1.37it/s]"
     ]
    },
    {
     "name": "stdout",
     "output_type": "stream",
     "text": [
      "ret 9.264575098055783e-05\n",
      "LA.norm(trackline.diffs)>15*np.std(coefnorm): -157.046116039\n",
      "dist_diff 203.8248464\n"
     ]
    },
    {
     "name": "stderr",
     "output_type": "stream",
     "text": [
      "\r",
      " 80%|██████████████████████████████████████████████████████████████▍               | 1009/1261 [12:16<03:03,  1.38it/s]"
     ]
    },
    {
     "name": "stdout",
     "output_type": "stream",
     "text": [
      "ret 0.00010906847440111944\n",
      "LA.norm(trackline.diffs)>15*np.std(coefnorm): -189.696501701\n",
      "dist_diff 195.733029906\n"
     ]
    },
    {
     "name": "stderr",
     "output_type": "stream",
     "text": [
      "\r",
      " 80%|██████████████████████████████████████████████████████████████▍               | 1010/1261 [12:17<03:02,  1.38it/s]"
     ]
    },
    {
     "name": "stdout",
     "output_type": "stream",
     "text": [
      "ret 0.00014435212655006247\n",
      "LA.norm(trackline.diffs)>15*np.std(coefnorm): -165.124516624\n",
      "dist_diff 202.998845526\n"
     ]
    },
    {
     "name": "stderr",
     "output_type": "stream",
     "text": [
      "\r",
      " 80%|██████████████████████████████████████████████████████████████▌               | 1011/1261 [12:17<03:02,  1.37it/s]"
     ]
    },
    {
     "name": "stdout",
     "output_type": "stream",
     "text": [
      "ret 0.0001492179126146298\n",
      "LA.norm(trackline.diffs)>15*np.std(coefnorm): -142.814652787\n",
      "dist_diff 192.220116031\n"
     ]
    },
    {
     "name": "stderr",
     "output_type": "stream",
     "text": [
      "\r",
      " 80%|██████████████████████████████████████████████████████████████▌               | 1012/1261 [12:18<03:00,  1.38it/s]"
     ]
    },
    {
     "name": "stdout",
     "output_type": "stream",
     "text": [
      "ret 6.110240575257775e-05\n",
      "LA.norm(trackline.diffs)>15*np.std(coefnorm): -181.351942486\n",
      "dist_diff 189.735009706\n"
     ]
    },
    {
     "name": "stderr",
     "output_type": "stream",
     "text": [
      "\r",
      " 80%|██████████████████████████████████████████████████████████████▋               | 1013/1261 [12:19<02:58,  1.39it/s]"
     ]
    },
    {
     "name": "stdout",
     "output_type": "stream",
     "text": [
      "ret 4.3105671086118846e-05\n",
      "LA.norm(trackline.diffs)>15*np.std(coefnorm): -255.978761904\n",
      "dist_diff 187.784716842\n"
     ]
    },
    {
     "name": "stderr",
     "output_type": "stream",
     "text": [
      "\r",
      " 80%|██████████████████████████████████████████████████████████████▋               | 1014/1261 [12:20<02:57,  1.39it/s]"
     ]
    },
    {
     "name": "stdout",
     "output_type": "stream",
     "text": [
      "ret 0.00010833565137946533\n",
      "LA.norm(trackline.diffs)>15*np.std(coefnorm): -299.482614945\n",
      "dist_diff 177.349647283\n"
     ]
    },
    {
     "name": "stderr",
     "output_type": "stream",
     "text": [
      "\r",
      " 80%|██████████████████████████████████████████████████████████████▊               | 1015/1261 [12:20<02:57,  1.39it/s]"
     ]
    },
    {
     "name": "stdout",
     "output_type": "stream",
     "text": [
      "ret 6.542119710312155e-05\n",
      "LA.norm(trackline.diffs)>15*np.std(coefnorm): -367.730175854\n",
      "dist_diff 171.122783792\n"
     ]
    },
    {
     "name": "stderr",
     "output_type": "stream",
     "text": [
      "\r",
      " 81%|██████████████████████████████████████████████████████████████▊               | 1016/1261 [12:21<02:56,  1.39it/s]"
     ]
    },
    {
     "name": "stdout",
     "output_type": "stream",
     "text": [
      "ret 5.3000273013470434e-05\n",
      "LA.norm(trackline.diffs)>15*np.std(coefnorm): -370.733762926\n",
      "dist_diff 190.471139697\n"
     ]
    },
    {
     "name": "stderr",
     "output_type": "stream",
     "text": [
      "\r",
      " 81%|██████████████████████████████████████████████████████████████▉               | 1017/1261 [12:22<02:55,  1.39it/s]"
     ]
    },
    {
     "name": "stdout",
     "output_type": "stream",
     "text": [
      "ret 1.7972314133141154e-05\n",
      "LA.norm(trackline.diffs)>15*np.std(coefnorm): -247.86501438\n",
      "dist_diff 190.452756658\n"
     ]
    },
    {
     "name": "stderr",
     "output_type": "stream",
     "text": [
      "\r",
      " 81%|██████████████████████████████████████████████████████████████▉               | 1018/1261 [12:22<02:55,  1.39it/s]"
     ]
    },
    {
     "name": "stdout",
     "output_type": "stream",
     "text": [
      "ret 7.220491339865465e-05\n",
      "LA.norm(trackline.diffs)>15*np.std(coefnorm): -220.658957157\n",
      "dist_diff 197.804061305\n"
     ]
    },
    {
     "name": "stderr",
     "output_type": "stream",
     "text": [
      "\r",
      " 81%|███████████████████████████████████████████████████████████████               | 1019/1261 [12:23<02:53,  1.39it/s]"
     ]
    },
    {
     "name": "stdout",
     "output_type": "stream",
     "text": [
      "ret 4.852726052251288e-05\n",
      "LA.norm(trackline.diffs)>15*np.std(coefnorm): -192.849624498\n",
      "dist_diff 199.371030581\n"
     ]
    },
    {
     "name": "stderr",
     "output_type": "stream",
     "text": [
      "\r",
      " 81%|███████████████████████████████████████████████████████████████               | 1020/1261 [12:24<02:53,  1.39it/s]"
     ]
    },
    {
     "name": "stdout",
     "output_type": "stream",
     "text": [
      "ret 0.0001622593789039617\n",
      "LA.norm(trackline.diffs)>15*np.std(coefnorm): -131.962621736\n",
      "dist_diff 209.191557156\n"
     ]
    },
    {
     "name": "stderr",
     "output_type": "stream",
     "text": [
      "\r",
      " 81%|███████████████████████████████████████████████████████████████▏              | 1021/1261 [12:25<02:52,  1.39it/s]"
     ]
    },
    {
     "name": "stdout",
     "output_type": "stream",
     "text": [
      "ret 5.946246718391279e-05\n",
      "LA.norm(trackline.diffs)>15*np.std(coefnorm): -101.853048297\n",
      "dist_diff 202.256234701\n"
     ]
    },
    {
     "name": "stderr",
     "output_type": "stream",
     "text": [
      "\r",
      " 81%|███████████████████████████████████████████████████████████████▏              | 1022/1261 [12:25<02:51,  1.40it/s]"
     ]
    },
    {
     "name": "stdout",
     "output_type": "stream",
     "text": [
      "ret 4.331659572737179e-05\n",
      "LA.norm(trackline.diffs)>15*np.std(coefnorm): -122.486760253\n",
      "dist_diff 193.783915256\n"
     ]
    },
    {
     "name": "stderr",
     "output_type": "stream",
     "text": [
      "\r",
      " 81%|███████████████████████████████████████████████████████████████▎              | 1023/1261 [12:26<02:50,  1.39it/s]"
     ]
    },
    {
     "name": "stdout",
     "output_type": "stream",
     "text": [
      "ret 0.00013357532156388352\n",
      "LA.norm(trackline.diffs)>15*np.std(coefnorm): -124.490774045\n",
      "dist_diff 179.956402429\n"
     ]
    },
    {
     "name": "stderr",
     "output_type": "stream",
     "text": [
      "\r",
      " 81%|███████████████████████████████████████████████████████████████▎              | 1024/1261 [12:27<02:49,  1.40it/s]"
     ]
    },
    {
     "name": "stdout",
     "output_type": "stream",
     "text": [
      "ret 2.5278377784432315e-05\n",
      "LA.norm(trackline.diffs)>15*np.std(coefnorm): -94.8464612501\n",
      "dist_diff 181.401510125\n"
     ]
    },
    {
     "name": "stderr",
     "output_type": "stream",
     "text": [
      "\r",
      " 81%|███████████████████████████████████████████████████████████████▍              | 1025/1261 [12:27<02:49,  1.39it/s]"
     ]
    },
    {
     "name": "stdout",
     "output_type": "stream",
     "text": [
      "ret 0.00010900103786254389\n",
      "LA.norm(trackline.diffs)>15*np.std(coefnorm): -45.8222358077\n",
      "dist_diff 188.758601786\n"
     ]
    },
    {
     "name": "stderr",
     "output_type": "stream",
     "text": [
      "\r",
      " 81%|███████████████████████████████████████████████████████████████▍              | 1026/1261 [12:28<02:49,  1.38it/s]"
     ]
    },
    {
     "name": "stdout",
     "output_type": "stream",
     "text": [
      "ret 2.9911333716658994e-05\n",
      "LA.norm(trackline.diffs)>15*np.std(coefnorm): -10.9195439978\n",
      "dist_diff 193.606319525\n"
     ]
    },
    {
     "name": "stderr",
     "output_type": "stream",
     "text": [
      "\r",
      " 81%|███████████████████████████████████████████████████████████████▌              | 1027/1261 [12:29<02:47,  1.39it/s]"
     ]
    },
    {
     "name": "stdout",
     "output_type": "stream",
     "text": [
      "ret 0.00022501566392701955\n",
      "LA.norm(trackline.diffs)>15*np.std(coefnorm): -17.1394615212\n",
      "dist_diff 174.376454524\n"
     ]
    },
    {
     "name": "stderr",
     "output_type": "stream",
     "text": [
      "\r",
      " 82%|███████████████████████████████████████████████████████████████▌              | 1028/1261 [12:30<02:46,  1.40it/s]"
     ]
    },
    {
     "name": "stdout",
     "output_type": "stream",
     "text": [
      "ret 0.00011802258668375254\n",
      "LA.norm(trackline.diffs)>15*np.std(coefnorm): 5.91687334044\n",
      "dist_diff 164.652019524\n"
     ]
    },
    {
     "name": "stderr",
     "output_type": "stream",
     "text": [
      "\r",
      " 82%|███████████████████████████████████████████████████████████████▋              | 1029/1261 [12:30<02:45,  1.40it/s]"
     ]
    },
    {
     "name": "stdout",
     "output_type": "stream",
     "text": [
      "ret 5.443849922043276e-05\n",
      "LA.norm(trackline.diffs)>15*np.std(coefnorm): -10.6168030313\n",
      "dist_diff 165.460880494\n"
     ]
    },
    {
     "name": "stderr",
     "output_type": "stream",
     "text": [
      "\r",
      " 82%|███████████████████████████████████████████████████████████████▋              | 1030/1261 [12:31<02:44,  1.40it/s]"
     ]
    },
    {
     "name": "stdout",
     "output_type": "stream",
     "text": [
      "ret 0.00026775795846534223\n",
      "LA.norm(trackline.diffs)>15*np.std(coefnorm): 2.60168130587\n",
      "dist_diff 155.721244466\n"
     ]
    },
    {
     "name": "stderr",
     "output_type": "stream",
     "text": [
      "\r",
      " 82%|███████████████████████████████████████████████████████████████▊              | 1031/1261 [12:32<02:45,  1.39it/s]"
     ]
    },
    {
     "name": "stdout",
     "output_type": "stream",
     "text": [
      "ret 0.0002273257117026417\n",
      "LA.norm(trackline.diffs)>15*np.std(coefnorm): -1.89838350075\n",
      "dist_diff 159.111302395\n"
     ]
    },
    {
     "name": "stderr",
     "output_type": "stream",
     "text": [
      "\r",
      " 82%|███████████████████████████████████████████████████████████████▊              | 1032/1261 [12:32<02:44,  1.39it/s]"
     ]
    },
    {
     "name": "stdout",
     "output_type": "stream",
     "text": [
      "ret 0.0001316205406479698\n",
      "LA.norm(trackline.diffs)>15*np.std(coefnorm): -30.9508473213\n",
      "dist_diff 165.050031994\n"
     ]
    },
    {
     "name": "stderr",
     "output_type": "stream",
     "text": [
      "\r",
      " 82%|███████████████████████████████████████████████████████████████▉              | 1033/1261 [12:33<02:43,  1.39it/s]"
     ]
    },
    {
     "name": "stdout",
     "output_type": "stream",
     "text": [
      "ret 0.00018442511790095484\n",
      "LA.norm(trackline.diffs)>15*np.std(coefnorm): -48.8906780691\n",
      "dist_diff 167.222763865\n"
     ]
    },
    {
     "name": "stderr",
     "output_type": "stream",
     "text": [
      "\r",
      " 82%|███████████████████████████████████████████████████████████████▉              | 1034/1261 [12:34<02:43,  1.39it/s]"
     ]
    },
    {
     "name": "stdout",
     "output_type": "stream",
     "text": [
      "ret 0.00029756979089190505\n",
      "LA.norm(trackline.diffs)>15*np.std(coefnorm): -65.9956194878\n",
      "dist_diff 171.527995678\n"
     ]
    },
    {
     "name": "stderr",
     "output_type": "stream",
     "text": [
      "\r",
      " 82%|████████████████████████████████████████████████████████████████              | 1035/1261 [12:35<02:42,  1.39it/s]"
     ]
    },
    {
     "name": "stdout",
     "output_type": "stream",
     "text": [
      "ret 0.0006761060375100603\n",
      "LA.norm(trackline.diffs)>15*np.std(coefnorm): -111.01877503\n",
      "dist_diff 176.265301577\n"
     ]
    },
    {
     "name": "stderr",
     "output_type": "stream",
     "text": [
      "\r",
      " 82%|████████████████████████████████████████████████████████████████              | 1036/1261 [12:35<02:44,  1.37it/s]"
     ]
    },
    {
     "name": "stdout",
     "output_type": "stream",
     "text": [
      "ret 0.0007007741706093196\n",
      "LA.norm(trackline.diffs)>15*np.std(coefnorm): -222.014131482\n",
      "dist_diff 154.834110089\n"
     ]
    },
    {
     "name": "stderr",
     "output_type": "stream",
     "text": [
      "\r",
      " 82%|████████████████████████████████████████████████████████████████▏             | 1037/1261 [12:36<02:42,  1.37it/s]"
     ]
    },
    {
     "name": "stdout",
     "output_type": "stream",
     "text": [
      "ret 3.703655265419048e-06\n",
      "LA.norm(trackline.diffs)>15*np.std(coefnorm): -311.254258795\n",
      "dist_diff 135.555177528\n"
     ]
    },
    {
     "name": "stderr",
     "output_type": "stream",
     "text": [
      "\r",
      " 82%|████████████████████████████████████████████████████████████████▏             | 1038/1261 [12:37<02:41,  1.38it/s]"
     ]
    },
    {
     "name": "stdout",
     "output_type": "stream",
     "text": [
      "ret 0.0003464189528042949\n",
      "LA.norm(trackline.diffs)>15*np.std(coefnorm): -393.232517605\n",
      "dist_diff 195.469095005\n"
     ]
    },
    {
     "name": "stderr",
     "output_type": "stream",
     "text": [
      "\r",
      " 82%|████████████████████████████████████████████████████████████████▎             | 1039/1261 [12:38<02:40,  1.39it/s]"
     ]
    },
    {
     "name": "stdout",
     "output_type": "stream",
     "text": [
      "ret 0.0006407725074493165\n",
      "LA.norm(trackline.diffs)>15*np.std(coefnorm): -470.017504159\n",
      "dist_diff 218.056607925\n"
     ]
    },
    {
     "name": "stderr",
     "output_type": "stream",
     "text": [
      "\r",
      " 82%|████████████████████████████████████████████████████████████████▎             | 1040/1261 [12:38<02:38,  1.39it/s]"
     ]
    },
    {
     "name": "stdout",
     "output_type": "stream",
     "text": [
      "ret 3.466273419056032e-05\n",
      "LA.norm(trackline.diffs)>15*np.std(coefnorm): -472.965055776\n",
      "dist_diff 193.132460054\n"
     ]
    },
    {
     "name": "stderr",
     "output_type": "stream",
     "text": [
      "\r",
      " 83%|████████████████████████████████████████████████████████████████▍             | 1041/1261 [12:39<02:37,  1.39it/s]"
     ]
    },
    {
     "name": "stdout",
     "output_type": "stream",
     "text": [
      "ret 0.001016636677581395\n",
      "LA.norm(trackline.diffs)>15*np.std(coefnorm): -357.127100381\n",
      "dist_diff 262.281820948\n"
     ]
    },
    {
     "name": "stderr",
     "output_type": "stream",
     "text": [
      "\r",
      " 83%|████████████████████████████████████████████████████████████████▍             | 1042/1261 [12:40<02:37,  1.39it/s]"
     ]
    },
    {
     "name": "stdout",
     "output_type": "stream",
     "text": [
      "ret 0.00026842441681335094\n",
      "LA.norm(trackline.diffs)>15*np.std(coefnorm): -444.651390501\n",
      "dist_diff 233.570538665\n"
     ]
    },
    {
     "name": "stderr",
     "output_type": "stream",
     "text": [
      "\r",
      " 83%|████████████████████████████████████████████████████████████████▌             | 1043/1261 [12:40<02:36,  1.39it/s]"
     ]
    },
    {
     "name": "stdout",
     "output_type": "stream",
     "text": [
      "ret 0.0004815218462930204\n",
      "LA.norm(trackline.diffs)>15*np.std(coefnorm): -447.700763538\n",
      "dist_diff 242.766323093\n"
     ]
    },
    {
     "name": "stderr",
     "output_type": "stream",
     "text": [
      "\r",
      " 83%|████████████████████████████████████████████████████████████████▌             | 1044/1261 [12:41<02:36,  1.39it/s]"
     ]
    },
    {
     "name": "stdout",
     "output_type": "stream",
     "text": [
      "ret 0.000948194536493363\n",
      "LA.norm(trackline.diffs)>15*np.std(coefnorm): -424.214744379\n",
      "dist_diff 252.297773842\n"
     ]
    },
    {
     "name": "stderr",
     "output_type": "stream",
     "text": [
      "\r",
      " 83%|████████████████████████████████████████████████████████████████▋             | 1045/1261 [12:42<02:35,  1.39it/s]"
     ]
    },
    {
     "name": "stdout",
     "output_type": "stream",
     "text": [
      "ret 0.0007299390229064673\n",
      "LA.norm(trackline.diffs)>15*np.std(coefnorm): -433.9411412\n",
      "dist_diff 189.339358908\n"
     ]
    },
    {
     "name": "stderr",
     "output_type": "stream",
     "text": [
      "\r",
      " 83%|████████████████████████████████████████████████████████████████▋             | 1046/1261 [12:43<02:35,  1.38it/s]"
     ]
    },
    {
     "name": "stdout",
     "output_type": "stream",
     "text": [
      "ret 0.00023274377698995208\n",
      "LA.norm(trackline.diffs)>15*np.std(coefnorm): -396.685946321\n",
      "dist_diff 210.636590448\n"
     ]
    },
    {
     "name": "stderr",
     "output_type": "stream",
     "text": [
      "\r",
      " 83%|████████████████████████████████████████████████████████████████▊             | 1047/1261 [12:43<02:34,  1.38it/s]"
     ]
    },
    {
     "name": "stdout",
     "output_type": "stream",
     "text": [
      "ret 1.219246202022184e-05\n",
      "LA.norm(trackline.diffs)>15*np.std(coefnorm): -264.064747798\n",
      "dist_diff 189.123496991\n"
     ]
    },
    {
     "name": "stderr",
     "output_type": "stream",
     "text": [
      "\r",
      " 83%|████████████████████████████████████████████████████████████████▊             | 1048/1261 [12:44<02:33,  1.39it/s]"
     ]
    },
    {
     "name": "stdout",
     "output_type": "stream",
     "text": [
      "ret 0.00011000560762797207\n",
      "LA.norm(trackline.diffs)>15*np.std(coefnorm): -157.975994544\n",
      "dist_diff 189.240573507\n"
     ]
    },
    {
     "name": "stderr",
     "output_type": "stream",
     "text": [
      "\r",
      " 83%|████████████████████████████████████████████████████████████████▉             | 1049/1261 [12:45<02:32,  1.39it/s]"
     ]
    },
    {
     "name": "stdout",
     "output_type": "stream",
     "text": [
      "ret 2.298985078985627e-05\n",
      "LA.norm(trackline.diffs)>15*np.std(coefnorm): -64.1156658972\n",
      "dist_diff 219.544520588\n"
     ]
    },
    {
     "name": "stderr",
     "output_type": "stream",
     "text": [
      "\r",
      " 83%|████████████████████████████████████████████████████████████████▉             | 1050/1261 [12:45<02:31,  1.39it/s]"
     ]
    },
    {
     "name": "stdout",
     "output_type": "stream",
     "text": [
      "ret 0.0001012694476605902\n",
      "LA.norm(trackline.diffs)>15*np.std(coefnorm): -48.605576791\n",
      "dist_diff 223.686670913\n"
     ]
    },
    {
     "name": "stderr",
     "output_type": "stream",
     "text": [
      "\r",
      " 83%|█████████████████████████████████████████████████████████████████             | 1051/1261 [12:46<02:31,  1.39it/s]"
     ]
    },
    {
     "name": "stdout",
     "output_type": "stream",
     "text": [
      "ret 7.512817062410582e-05\n",
      "LA.norm(trackline.diffs)>15*np.std(coefnorm): -105.76077522\n",
      "dist_diff 216.175397556\n"
     ]
    },
    {
     "name": "stderr",
     "output_type": "stream",
     "text": [
      "\r",
      " 83%|█████████████████████████████████████████████████████████████████             | 1052/1261 [12:47<02:30,  1.39it/s]"
     ]
    },
    {
     "name": "stdout",
     "output_type": "stream",
     "text": [
      "ret 0.00017301969314009735\n",
      "LA.norm(trackline.diffs)>15*np.std(coefnorm): -153.657118527\n",
      "dist_diff 203.00077599\n"
     ]
    },
    {
     "name": "stderr",
     "output_type": "stream",
     "text": [
      "\r",
      " 84%|█████████████████████████████████████████████████████████████████▏            | 1053/1261 [12:48<02:28,  1.40it/s]"
     ]
    },
    {
     "name": "stdout",
     "output_type": "stream",
     "text": [
      "ret 0.00016685995967752332\n",
      "LA.norm(trackline.diffs)>15*np.std(coefnorm): -134.306079545\n",
      "dist_diff 240.118252902\n"
     ]
    },
    {
     "name": "stderr",
     "output_type": "stream",
     "text": [
      "\r",
      " 84%|█████████████████████████████████████████████████████████████████▏            | 1054/1261 [12:48<02:27,  1.40it/s]"
     ]
    },
    {
     "name": "stdout",
     "output_type": "stream",
     "text": [
      "ret 0.000593041481933565\n",
      "LA.norm(trackline.diffs)>15*np.std(coefnorm): -122.129024592\n",
      "dist_diff 231.561346851\n"
     ]
    },
    {
     "name": "stderr",
     "output_type": "stream",
     "text": [
      "\r",
      " 84%|█████████████████████████████████████████████████████████████████▎            | 1055/1261 [12:49<02:26,  1.41it/s]"
     ]
    },
    {
     "name": "stdout",
     "output_type": "stream",
     "text": [
      "ret 0.000781134575509157\n",
      "LA.norm(trackline.diffs)>15*np.std(coefnorm): -104.34342363\n",
      "dist_diff 236.008778387\n"
     ]
    },
    {
     "name": "stderr",
     "output_type": "stream",
     "text": [
      "\r",
      " 84%|█████████████████████████████████████████████████████████████████▎            | 1056/1261 [12:50<02:27,  1.39it/s]"
     ]
    },
    {
     "name": "stdout",
     "output_type": "stream",
     "text": [
      "ret 0.0010289372343380565\n",
      "LA.norm(trackline.diffs)>15*np.std(coefnorm): -89.8740350465\n",
      "dist_diff 240.752114192\n"
     ]
    },
    {
     "name": "stderr",
     "output_type": "stream",
     "text": [
      "\r",
      " 84%|█████████████████████████████████████████████████████████████████▍            | 1057/1261 [12:50<02:28,  1.37it/s]"
     ]
    },
    {
     "name": "stdout",
     "output_type": "stream",
     "text": [
      "ret 0.0010352812809002465\n",
      "LA.norm(trackline.diffs)>15*np.std(coefnorm): -84.3481591281\n",
      "dist_diff 244.044287696\n"
     ]
    },
    {
     "name": "stderr",
     "output_type": "stream",
     "text": [
      "\r",
      " 84%|█████████████████████████████████████████████████████████████████▍            | 1058/1261 [12:51<02:27,  1.37it/s]"
     ]
    },
    {
     "name": "stdout",
     "output_type": "stream",
     "text": [
      "ret 0.0012250679396897945\n",
      "LA.norm(trackline.diffs)>15*np.std(coefnorm): -65.5219418155\n",
      "dist_diff 252.6758644\n"
     ]
    },
    {
     "name": "stderr",
     "output_type": "stream",
     "text": [
      "\r",
      " 84%|█████████████████████████████████████████████████████████████████▌            | 1059/1261 [12:52<02:26,  1.38it/s]"
     ]
    },
    {
     "name": "stdout",
     "output_type": "stream",
     "text": [
      "ret 0.00144550458873699\n",
      "LA.norm(trackline.diffs)>15*np.std(coefnorm): -48.1216681075\n",
      "dist_diff 257.428113667\n"
     ]
    },
    {
     "name": "stderr",
     "output_type": "stream",
     "text": [
      "\r",
      " 84%|█████████████████████████████████████████████████████████████████▌            | 1060/1261 [12:53<02:25,  1.38it/s]"
     ]
    },
    {
     "name": "stdout",
     "output_type": "stream",
     "text": [
      "ret 0.0018830231340434822\n",
      "LA.norm(trackline.diffs)>15*np.std(coefnorm): -26.6520598367\n",
      "dist_diff 262.353510448\n"
     ]
    },
    {
     "name": "stderr",
     "output_type": "stream",
     "text": [
      "\r",
      " 84%|█████████████████████████████████████████████████████████████████▋            | 1061/1261 [12:53<02:24,  1.38it/s]"
     ]
    },
    {
     "name": "stdout",
     "output_type": "stream",
     "text": [
      "ret 0.0016572085722351693\n",
      "LA.norm(trackline.diffs)>15*np.std(coefnorm): -35.3434516263\n",
      "dist_diff 270.328687584\n"
     ]
    },
    {
     "name": "stderr",
     "output_type": "stream",
     "text": [
      "\r",
      " 84%|█████████████████████████████████████████████████████████████████▋            | 1062/1261 [12:54<02:24,  1.38it/s]"
     ]
    },
    {
     "name": "stdout",
     "output_type": "stream",
     "text": [
      "ret 0.0006982313195260104\n",
      "LA.norm(trackline.diffs)>15*np.std(coefnorm): -87.3912161073\n",
      "dist_diff 267.525407881\n"
     ]
    },
    {
     "name": "stderr",
     "output_type": "stream",
     "text": [
      "\r",
      " 84%|█████████████████████████████████████████████████████████████████▊            | 1063/1261 [12:55<02:24,  1.37it/s]"
     ]
    },
    {
     "name": "stdout",
     "output_type": "stream",
     "text": [
      "ret 0.0003644103402712373\n",
      "LA.norm(trackline.diffs)>15*np.std(coefnorm): -121.034236671\n",
      "dist_diff 266.433945362\n"
     ]
    },
    {
     "name": "stderr",
     "output_type": "stream",
     "text": [
      "\r",
      " 84%|█████████████████████████████████████████████████████████████████▊            | 1064/1261 [12:56<02:22,  1.38it/s]"
     ]
    },
    {
     "name": "stdout",
     "output_type": "stream",
     "text": [
      "ret 1.1434647195773806e-05\n",
      "LA.norm(trackline.diffs)>15*np.std(coefnorm): -153.732434235\n",
      "dist_diff 263.866596129\n"
     ]
    },
    {
     "name": "stderr",
     "output_type": "stream",
     "text": [
      "\r",
      " 84%|█████████████████████████████████████████████████████████████████▉            | 1065/1261 [12:56<02:21,  1.38it/s]"
     ]
    },
    {
     "name": "stdout",
     "output_type": "stream",
     "text": [
      "ret 0.00013678412231132864\n",
      "LA.norm(trackline.diffs)>15*np.std(coefnorm): -168.925428434\n",
      "dist_diff 261.882167553\n"
     ]
    },
    {
     "name": "stderr",
     "output_type": "stream",
     "text": [
      "\r",
      " 85%|█████████████████████████████████████████████████████████████████▉            | 1066/1261 [12:57<02:21,  1.38it/s]"
     ]
    },
    {
     "name": "stdout",
     "output_type": "stream",
     "text": [
      "ret 8.652650043644572e-05\n",
      "LA.norm(trackline.diffs)>15*np.std(coefnorm): -167.011097097\n",
      "dist_diff 260.831353628\n"
     ]
    },
    {
     "name": "stderr",
     "output_type": "stream",
     "text": [
      "\r",
      " 85%|██████████████████████████████████████████████████████████████████            | 1067/1261 [12:58<02:20,  1.38it/s]"
     ]
    },
    {
     "name": "stdout",
     "output_type": "stream",
     "text": [
      "ret 8.943898895108493e-05\n",
      "LA.norm(trackline.diffs)>15*np.std(coefnorm): -175.31758776\n",
      "dist_diff 260.961657115\n"
     ]
    },
    {
     "name": "stderr",
     "output_type": "stream",
     "text": [
      "\r",
      " 85%|██████████████████████████████████████████████████████████████████            | 1068/1261 [12:58<02:18,  1.39it/s]"
     ]
    },
    {
     "name": "stdout",
     "output_type": "stream",
     "text": [
      "ret 2.438310324998083e-05\n",
      "LA.norm(trackline.diffs)>15*np.std(coefnorm): -168.566084085\n",
      "dist_diff 262.688795317\n"
     ]
    },
    {
     "name": "stderr",
     "output_type": "stream",
     "text": [
      "\r",
      " 85%|██████████████████████████████████████████████████████████████████            | 1069/1261 [12:59<02:17,  1.39it/s]"
     ]
    },
    {
     "name": "stdout",
     "output_type": "stream",
     "text": [
      "ret 9.459971220265873e-05\n",
      "LA.norm(trackline.diffs)>15*np.std(coefnorm): -165.373596718\n",
      "dist_diff 263.541494519\n"
     ]
    },
    {
     "name": "stderr",
     "output_type": "stream",
     "text": [
      "\r",
      " 85%|██████████████████████████████████████████████████████████████████▏           | 1070/1261 [13:00<02:17,  1.39it/s]"
     ]
    },
    {
     "name": "stdout",
     "output_type": "stream",
     "text": [
      "ret 9.438530043159865e-05\n",
      "LA.norm(trackline.diffs)>15*np.std(coefnorm): -182.395724603\n",
      "dist_diff 261.840712016\n"
     ]
    },
    {
     "name": "stderr",
     "output_type": "stream",
     "text": [
      "\r",
      " 85%|██████████████████████████████████████████████████████████████████▏           | 1071/1261 [13:01<02:17,  1.38it/s]"
     ]
    },
    {
     "name": "stdout",
     "output_type": "stream",
     "text": [
      "ret 4.4386834009257914e-05\n",
      "LA.norm(trackline.diffs)>15*np.std(coefnorm): -162.850759937\n",
      "dist_diff 279.168631321\n"
     ]
    },
    {
     "name": "stderr",
     "output_type": "stream",
     "text": [
      "\r",
      " 85%|██████████████████████████████████████████████████████████████████▎           | 1072/1261 [13:01<02:18,  1.36it/s]"
     ]
    },
    {
     "name": "stdout",
     "output_type": "stream",
     "text": [
      "ret 6.063784486964874e-05\n",
      "LA.norm(trackline.diffs)>15*np.std(coefnorm): -174.255502673\n",
      "dist_diff 283.669833237\n"
     ]
    },
    {
     "name": "stderr",
     "output_type": "stream",
     "text": [
      "\r",
      " 85%|██████████████████████████████████████████████████████████████████▎           | 1073/1261 [13:02<02:17,  1.37it/s]"
     ]
    },
    {
     "name": "stdout",
     "output_type": "stream",
     "text": [
      "ret 4.5616958282201914e-05\n",
      "LA.norm(trackline.diffs)>15*np.std(coefnorm): -169.161885407\n",
      "dist_diff 276.919152166\n"
     ]
    },
    {
     "name": "stderr",
     "output_type": "stream",
     "text": [
      "\r",
      " 85%|██████████████████████████████████████████████████████████████████▍           | 1074/1261 [13:03<02:16,  1.37it/s]"
     ]
    },
    {
     "name": "stdout",
     "output_type": "stream",
     "text": [
      "ret 8.51675751394887e-05\n",
      "LA.norm(trackline.diffs)>15*np.std(coefnorm): -158.232240182\n",
      "dist_diff 283.633243383\n"
     ]
    },
    {
     "name": "stderr",
     "output_type": "stream",
     "text": [
      "\r",
      " 85%|██████████████████████████████████████████████████████████████████▍           | 1075/1261 [13:04<02:15,  1.38it/s]"
     ]
    },
    {
     "name": "stdout",
     "output_type": "stream",
     "text": [
      "ret 0.0001433213535029232\n",
      "LA.norm(trackline.diffs)>15*np.std(coefnorm): -166.299027435\n",
      "dist_diff 281.51193886\n"
     ]
    },
    {
     "name": "stderr",
     "output_type": "stream",
     "text": [
      "\r",
      " 85%|██████████████████████████████████████████████████████████████████▌           | 1076/1261 [13:04<02:17,  1.35it/s]"
     ]
    },
    {
     "name": "stdout",
     "output_type": "stream",
     "text": [
      "ret 6.445176949887443e-05\n",
      "LA.norm(trackline.diffs)>15*np.std(coefnorm): -133.875744663\n",
      "dist_diff 281.190832998\n"
     ]
    },
    {
     "name": "stderr",
     "output_type": "stream",
     "text": [
      "\r",
      " 85%|██████████████████████████████████████████████████████████████████▌           | 1077/1261 [13:05<02:15,  1.35it/s]"
     ]
    },
    {
     "name": "stdout",
     "output_type": "stream",
     "text": [
      "ret 0.0001531995644907802\n",
      "LA.norm(trackline.diffs)>15*np.std(coefnorm): -132.344595682\n",
      "dist_diff 281.557348421\n"
     ]
    },
    {
     "name": "stderr",
     "output_type": "stream",
     "text": [
      "\r",
      " 85%|██████████████████████████████████████████████████████████████████▋           | 1078/1261 [13:06<02:13,  1.37it/s]"
     ]
    },
    {
     "name": "stdout",
     "output_type": "stream",
     "text": [
      "ret 1.8625713035513858e-05\n",
      "LA.norm(trackline.diffs)>15*np.std(coefnorm): -134.496876426\n",
      "dist_diff 283.889616767\n"
     ]
    },
    {
     "name": "stderr",
     "output_type": "stream",
     "text": [
      "\r",
      " 86%|██████████████████████████████████████████████████████████████████▋           | 1079/1261 [13:07<02:14,  1.36it/s]"
     ]
    },
    {
     "name": "stdout",
     "output_type": "stream",
     "text": [
      "ret 4.782124136459842e-05\n",
      "LA.norm(trackline.diffs)>15*np.std(coefnorm): -139.259605098\n",
      "dist_diff 281.852034484\n"
     ]
    },
    {
     "name": "stderr",
     "output_type": "stream",
     "text": [
      "\r",
      " 86%|██████████████████████████████████████████████████████████████████▊           | 1080/1261 [13:07<02:12,  1.36it/s]"
     ]
    },
    {
     "name": "stdout",
     "output_type": "stream",
     "text": [
      "ret 0.0001073230470617359\n",
      "LA.norm(trackline.diffs)>15*np.std(coefnorm): -161.702507662\n",
      "dist_diff 276.126360804\n"
     ]
    },
    {
     "name": "stderr",
     "output_type": "stream",
     "text": [
      "\r",
      " 86%|██████████████████████████████████████████████████████████████████▊           | 1081/1261 [13:08<02:11,  1.37it/s]"
     ]
    },
    {
     "name": "stdout",
     "output_type": "stream",
     "text": [
      "ret 4.084960930506032e-05\n",
      "LA.norm(trackline.diffs)>15*np.std(coefnorm): -154.392959851\n",
      "dist_diff 274.698824403\n"
     ]
    },
    {
     "name": "stderr",
     "output_type": "stream",
     "text": [
      "\r",
      " 86%|██████████████████████████████████████████████████████████████████▉           | 1082/1261 [13:09<02:10,  1.37it/s]"
     ]
    },
    {
     "name": "stdout",
     "output_type": "stream",
     "text": [
      "ret 3.4779687900998724e-05\n",
      "LA.norm(trackline.diffs)>15*np.std(coefnorm): -150.458175019\n",
      "dist_diff 260.003039208\n"
     ]
    },
    {
     "name": "stderr",
     "output_type": "stream",
     "text": [
      "\r",
      " 86%|██████████████████████████████████████████████████████████████████▉           | 1083/1261 [13:09<02:10,  1.36it/s]"
     ]
    },
    {
     "name": "stdout",
     "output_type": "stream",
     "text": [
      "ret 3.0666243546029204e-05\n",
      "LA.norm(trackline.diffs)>15*np.std(coefnorm): -153.755069879\n",
      "dist_diff 259.940691818\n"
     ]
    },
    {
     "name": "stderr",
     "output_type": "stream",
     "text": [
      "\r",
      " 86%|███████████████████████████████████████████████████████████████████           | 1084/1261 [13:10<02:09,  1.36it/s]"
     ]
    },
    {
     "name": "stdout",
     "output_type": "stream",
     "text": [
      "ret 3.744814486589254e-05\n",
      "LA.norm(trackline.diffs)>15*np.std(coefnorm): -151.510393576\n",
      "dist_diff 268.263770071\n"
     ]
    },
    {
     "name": "stderr",
     "output_type": "stream",
     "text": [
      "\r",
      " 86%|███████████████████████████████████████████████████████████████████           | 1085/1261 [13:11<02:09,  1.36it/s]"
     ]
    },
    {
     "name": "stdout",
     "output_type": "stream",
     "text": [
      "ret 9.586542421397004e-05\n",
      "LA.norm(trackline.diffs)>15*np.std(coefnorm): -159.161661052\n",
      "dist_diff 268.496977277\n"
     ]
    },
    {
     "name": "stderr",
     "output_type": "stream",
     "text": [
      "\r",
      " 86%|███████████████████████████████████████████████████████████████████▏          | 1086/1261 [13:12<02:07,  1.37it/s]"
     ]
    },
    {
     "name": "stdout",
     "output_type": "stream",
     "text": [
      "ret 2.7371632743744545e-05\n",
      "LA.norm(trackline.diffs)>15*np.std(coefnorm): -152.747789658\n",
      "dist_diff 262.348289523\n"
     ]
    },
    {
     "name": "stderr",
     "output_type": "stream",
     "text": [
      "\r",
      " 86%|███████████████████████████████████████████████████████████████████▏          | 1087/1261 [13:12<02:07,  1.36it/s]"
     ]
    },
    {
     "name": "stdout",
     "output_type": "stream",
     "text": [
      "ret 5.46528700590132e-05\n",
      "LA.norm(trackline.diffs)>15*np.std(coefnorm): -154.873228936\n",
      "dist_diff 267.993789223\n"
     ]
    },
    {
     "name": "stderr",
     "output_type": "stream",
     "text": [
      "\r",
      " 86%|███████████████████████████████████████████████████████████████████▎          | 1088/1261 [13:13<02:07,  1.36it/s]"
     ]
    },
    {
     "name": "stdout",
     "output_type": "stream",
     "text": [
      "ret 0.00011312445320760256\n",
      "LA.norm(trackline.diffs)>15*np.std(coefnorm): -157.407860409\n",
      "dist_diff 266.467638079\n"
     ]
    },
    {
     "name": "stderr",
     "output_type": "stream",
     "text": [
      "\r",
      " 86%|███████████████████████████████████████████████████████████████████▎          | 1089/1261 [13:14<02:08,  1.34it/s]"
     ]
    },
    {
     "name": "stdout",
     "output_type": "stream",
     "text": [
      "ret 1.2692669879299512e-05\n",
      "LA.norm(trackline.diffs)>15*np.std(coefnorm): -141.391263434\n",
      "dist_diff 268.905649541\n"
     ]
    },
    {
     "name": "stderr",
     "output_type": "stream",
     "text": [
      "\r",
      " 86%|███████████████████████████████████████████████████████████████████▍          | 1090/1261 [13:15<02:08,  1.33it/s]"
     ]
    },
    {
     "name": "stdout",
     "output_type": "stream",
     "text": [
      "ret 0.00010795021080345357\n",
      "LA.norm(trackline.diffs)>15*np.std(coefnorm): -161.02585838\n",
      "dist_diff 269.146574623\n"
     ]
    },
    {
     "name": "stderr",
     "output_type": "stream",
     "text": [
      "\r",
      " 87%|███████████████████████████████████████████████████████████████████▍          | 1091/1261 [13:15<02:08,  1.32it/s]"
     ]
    },
    {
     "name": "stdout",
     "output_type": "stream",
     "text": [
      "ret 0.00010189451951847506\n",
      "LA.norm(trackline.diffs)>15*np.std(coefnorm): -168.758733279\n",
      "dist_diff 265.149023336\n"
     ]
    },
    {
     "name": "stderr",
     "output_type": "stream",
     "text": [
      "\r",
      " 87%|███████████████████████████████████████████████████████████████████▌          | 1092/1261 [13:16<02:06,  1.34it/s]"
     ]
    },
    {
     "name": "stdout",
     "output_type": "stream",
     "text": [
      "ret 0.0002012999524644843\n",
      "LA.norm(trackline.diffs)>15*np.std(coefnorm): -176.486365977\n",
      "dist_diff 266.122343614\n"
     ]
    },
    {
     "name": "stderr",
     "output_type": "stream",
     "text": [
      "\r",
      " 87%|███████████████████████████████████████████████████████████████████▌          | 1093/1261 [13:17<02:05,  1.34it/s]"
     ]
    },
    {
     "name": "stdout",
     "output_type": "stream",
     "text": [
      "ret 0.00025404137414564154\n",
      "LA.norm(trackline.diffs)>15*np.std(coefnorm): -184.118883228\n",
      "dist_diff 263.52751666\n"
     ]
    },
    {
     "name": "stderr",
     "output_type": "stream",
     "text": [
      "\r",
      " 87%|███████████████████████████████████████████████████████████████████▋          | 1094/1261 [13:18<02:04,  1.34it/s]"
     ]
    },
    {
     "name": "stdout",
     "output_type": "stream",
     "text": [
      "ret 0.00033887394387333014\n",
      "LA.norm(trackline.diffs)>15*np.std(coefnorm): -160.752673532\n",
      "dist_diff 288.883514447\n"
     ]
    },
    {
     "name": "stderr",
     "output_type": "stream",
     "text": [
      "\r",
      " 87%|███████████████████████████████████████████████████████████████████▋          | 1095/1261 [13:18<02:04,  1.34it/s]"
     ]
    },
    {
     "name": "stdout",
     "output_type": "stream",
     "text": [
      "ret 0.00035364526244718864\n",
      "LA.norm(trackline.diffs)>15*np.std(coefnorm): -158.329087272\n",
      "dist_diff 285.642165096\n"
     ]
    },
    {
     "name": "stderr",
     "output_type": "stream",
     "text": [
      "\r",
      " 87%|███████████████████████████████████████████████████████████████████▊          | 1096/1261 [13:19<02:02,  1.35it/s]"
     ]
    },
    {
     "name": "stdout",
     "output_type": "stream",
     "text": [
      "ret 0.00035676027619407913\n",
      "LA.norm(trackline.diffs)>15*np.std(coefnorm): -154.441103101\n",
      "dist_diff 283.654819761\n"
     ]
    },
    {
     "name": "stderr",
     "output_type": "stream",
     "text": [
      "\r",
      " 87%|███████████████████████████████████████████████████████████████████▊          | 1097/1261 [13:20<02:01,  1.35it/s]"
     ]
    },
    {
     "name": "stdout",
     "output_type": "stream",
     "text": [
      "ret 0.0004407663089582847\n",
      "LA.norm(trackline.diffs)>15*np.std(coefnorm): -144.127523232\n",
      "dist_diff 288.241405876\n"
     ]
    },
    {
     "name": "stderr",
     "output_type": "stream",
     "text": [
      "\r",
      " 87%|███████████████████████████████████████████████████████████████████▉          | 1098/1261 [13:21<02:00,  1.35it/s]"
     ]
    },
    {
     "name": "stdout",
     "output_type": "stream",
     "text": [
      "ret 0.0005333668091284105\n",
      "LA.norm(trackline.diffs)>15*np.std(coefnorm): -145.078340355\n",
      "dist_diff 288.501660574\n"
     ]
    },
    {
     "name": "stderr",
     "output_type": "stream",
     "text": [
      "\r",
      " 87%|███████████████████████████████████████████████████████████████████▉          | 1099/1261 [13:21<02:01,  1.34it/s]"
     ]
    },
    {
     "name": "stdout",
     "output_type": "stream",
     "text": [
      "ret 0.0005214217904523366\n",
      "LA.norm(trackline.diffs)>15*np.std(coefnorm): -144.9558304\n",
      "dist_diff 285.86445849\n"
     ]
    },
    {
     "name": "stderr",
     "output_type": "stream",
     "text": [
      "\r",
      " 87%|████████████████████████████████████████████████████████████████████          | 1100/1261 [13:22<01:58,  1.36it/s]"
     ]
    },
    {
     "name": "stdout",
     "output_type": "stream",
     "text": [
      "ret 0.0005483726433208602\n",
      "LA.norm(trackline.diffs)>15*np.std(coefnorm): -137.531212335\n",
      "dist_diff 285.06941708\n"
     ]
    },
    {
     "name": "stderr",
     "output_type": "stream",
     "text": [
      "\r",
      " 87%|████████████████████████████████████████████████████████████████████          | 1101/1261 [13:23<01:57,  1.36it/s]"
     ]
    },
    {
     "name": "stdout",
     "output_type": "stream",
     "text": [
      "ret 0.0006828623265180411\n",
      "LA.norm(trackline.diffs)>15*np.std(coefnorm): -163.314520818\n",
      "dist_diff 278.740323191\n"
     ]
    },
    {
     "name": "stderr",
     "output_type": "stream",
     "text": [
      "\r",
      " 87%|████████████████████████████████████████████████████████████████████▏         | 1102/1261 [13:24<01:57,  1.36it/s]"
     ]
    },
    {
     "name": "stdout",
     "output_type": "stream",
     "text": [
      "ret 0.00065739220653388\n",
      "LA.norm(trackline.diffs)>15*np.std(coefnorm): -163.719381168\n",
      "dist_diff 279.44997953\n"
     ]
    },
    {
     "name": "stderr",
     "output_type": "stream",
     "text": [
      "\r",
      " 87%|████████████████████████████████████████████████████████████████████▏         | 1103/1261 [13:24<01:56,  1.35it/s]"
     ]
    },
    {
     "name": "stdout",
     "output_type": "stream",
     "text": [
      "ret 0.0005948826098183813\n",
      "LA.norm(trackline.diffs)>15*np.std(coefnorm): -178.224988063\n",
      "dist_diff 278.602710544\n"
     ]
    },
    {
     "name": "stderr",
     "output_type": "stream",
     "text": [
      "\r",
      " 88%|████████████████████████████████████████████████████████████████████▎         | 1104/1261 [13:25<01:56,  1.35it/s]"
     ]
    },
    {
     "name": "stdout",
     "output_type": "stream",
     "text": [
      "ret 0.0006369202269763674\n",
      "LA.norm(trackline.diffs)>15*np.std(coefnorm): -176.935108671\n",
      "dist_diff 274.913748453\n"
     ]
    },
    {
     "name": "stderr",
     "output_type": "stream",
     "text": [
      "\r",
      " 88%|████████████████████████████████████████████████████████████████████▎         | 1105/1261 [13:26<01:57,  1.33it/s]"
     ]
    },
    {
     "name": "stdout",
     "output_type": "stream",
     "text": [
      "ret 0.0005440444657220933\n",
      "LA.norm(trackline.diffs)>15*np.std(coefnorm): -161.006428552\n",
      "dist_diff 265.22442679\n"
     ]
    },
    {
     "name": "stderr",
     "output_type": "stream",
     "text": [
      "\r",
      " 88%|████████████████████████████████████████████████████████████████████▍         | 1106/1261 [13:27<01:56,  1.34it/s]"
     ]
    },
    {
     "name": "stdout",
     "output_type": "stream",
     "text": [
      "ret 0.000632695575841502\n",
      "LA.norm(trackline.diffs)>15*np.std(coefnorm): -183.404392991\n",
      "dist_diff 256.598409528\n"
     ]
    },
    {
     "name": "stderr",
     "output_type": "stream",
     "text": [
      "\r",
      " 88%|████████████████████████████████████████████████████████████████████▍         | 1107/1261 [13:27<01:54,  1.34it/s]"
     ]
    },
    {
     "name": "stdout",
     "output_type": "stream",
     "text": [
      "ret 0.0005701061329493329\n",
      "LA.norm(trackline.diffs)>15*np.std(coefnorm): -168.921815989\n",
      "dist_diff 259.556417975\n"
     ]
    },
    {
     "name": "stderr",
     "output_type": "stream",
     "text": [
      "\r",
      " 88%|████████████████████████████████████████████████████████████████████▌         | 1108/1261 [13:28<01:53,  1.35it/s]"
     ]
    },
    {
     "name": "stdout",
     "output_type": "stream",
     "text": [
      "ret 0.0006075272897728135\n",
      "LA.norm(trackline.diffs)>15*np.std(coefnorm): -180.08782087\n",
      "dist_diff 261.032947353\n"
     ]
    },
    {
     "name": "stderr",
     "output_type": "stream",
     "text": [
      "\r",
      " 88%|████████████████████████████████████████████████████████████████████▌         | 1109/1261 [13:29<01:51,  1.36it/s]"
     ]
    },
    {
     "name": "stdout",
     "output_type": "stream",
     "text": [
      "ret 0.0005044682849850712\n",
      "LA.norm(trackline.diffs)>15*np.std(coefnorm): -179.675713956\n",
      "dist_diff 256.936589884\n"
     ]
    },
    {
     "name": "stderr",
     "output_type": "stream",
     "text": [
      "\r",
      " 88%|████████████████████████████████████████████████████████████████████▋         | 1110/1261 [13:29<01:50,  1.36it/s]"
     ]
    },
    {
     "name": "stdout",
     "output_type": "stream",
     "text": [
      "ret 0.0005214975929014876\n",
      "LA.norm(trackline.diffs)>15*np.std(coefnorm): -157.991260984\n",
      "dist_diff 266.01885173\n"
     ]
    },
    {
     "name": "stderr",
     "output_type": "stream",
     "text": [
      "\r",
      " 88%|████████████████████████████████████████████████████████████████████▋         | 1111/1261 [13:30<01:51,  1.35it/s]"
     ]
    },
    {
     "name": "stdout",
     "output_type": "stream",
     "text": [
      "ret 0.0004949908141283488\n",
      "LA.norm(trackline.diffs)>15*np.std(coefnorm): -171.56811473\n",
      "dist_diff 265.215823052\n"
     ]
    },
    {
     "name": "stderr",
     "output_type": "stream",
     "text": [
      "\r",
      " 88%|████████████████████████████████████████████████████████████████████▊         | 1112/1261 [13:31<01:49,  1.36it/s]"
     ]
    },
    {
     "name": "stdout",
     "output_type": "stream",
     "text": [
      "ret 0.0004015830448850788\n",
      "LA.norm(trackline.diffs)>15*np.std(coefnorm): -165.107047117\n",
      "dist_diff 268.301611858\n"
     ]
    },
    {
     "name": "stderr",
     "output_type": "stream",
     "text": [
      "\r",
      " 88%|████████████████████████████████████████████████████████████████████▊         | 1113/1261 [13:32<01:51,  1.33it/s]"
     ]
    },
    {
     "name": "stdout",
     "output_type": "stream",
     "text": [
      "ret 0.00036698025604209317\n",
      "LA.norm(trackline.diffs)>15*np.std(coefnorm): -170.505868859\n",
      "dist_diff 269.542866764\n"
     ]
    },
    {
     "name": "stderr",
     "output_type": "stream",
     "text": [
      "\r",
      " 88%|████████████████████████████████████████████████████████████████████▉         | 1114/1261 [13:33<02:03,  1.19it/s]"
     ]
    },
    {
     "name": "stdout",
     "output_type": "stream",
     "text": [
      "ret 0.0004338206756461793\n",
      "LA.norm(trackline.diffs)>15*np.std(coefnorm): -168.495897504\n",
      "dist_diff 267.94456108\n"
     ]
    },
    {
     "name": "stderr",
     "output_type": "stream",
     "text": [
      "\r",
      " 88%|████████████████████████████████████████████████████████████████████▉         | 1115/1261 [13:34<02:13,  1.10it/s]"
     ]
    },
    {
     "name": "stdout",
     "output_type": "stream",
     "text": [
      "ret 0.00024012589091404468\n",
      "LA.norm(trackline.diffs)>15*np.std(coefnorm): -167.508044424\n",
      "dist_diff 275.499510784\n"
     ]
    },
    {
     "name": "stderr",
     "output_type": "stream",
     "text": [
      "\r",
      " 89%|█████████████████████████████████████████████████████████████████████         | 1116/1261 [13:35<02:09,  1.12it/s]"
     ]
    },
    {
     "name": "stdout",
     "output_type": "stream",
     "text": [
      "ret 0.0003339737065743975\n",
      "LA.norm(trackline.diffs)>15*np.std(coefnorm): -154.725855792\n",
      "dist_diff 287.39694432\n"
     ]
    },
    {
     "name": "stderr",
     "output_type": "stream",
     "text": [
      "\r",
      " 89%|█████████████████████████████████████████████████████████████████████         | 1117/1261 [13:35<02:03,  1.16it/s]"
     ]
    },
    {
     "name": "stdout",
     "output_type": "stream",
     "text": [
      "ret 0.00036233668936352936\n",
      "LA.norm(trackline.diffs)>15*np.std(coefnorm): -151.324925174\n",
      "dist_diff 302.013948054\n"
     ]
    },
    {
     "name": "stderr",
     "output_type": "stream",
     "text": [
      "\r",
      " 89%|█████████████████████████████████████████████████████████████████████▏        | 1118/1261 [13:36<02:04,  1.15it/s]"
     ]
    },
    {
     "name": "stdout",
     "output_type": "stream",
     "text": [
      "ret 0.0003718558221628143\n",
      "LA.norm(trackline.diffs)>15*np.std(coefnorm): -159.081967908\n",
      "dist_diff 298.226966259\n"
     ]
    },
    {
     "name": "stderr",
     "output_type": "stream",
     "text": [
      "\r",
      " 89%|█████████████████████████████████████████████████████████████████████▏        | 1119/1261 [13:37<01:59,  1.19it/s]"
     ]
    },
    {
     "name": "stdout",
     "output_type": "stream",
     "text": [
      "ret 0.00041210148723758167\n",
      "LA.norm(trackline.diffs)>15*np.std(coefnorm): -164.347442698\n",
      "dist_diff 292.253279484\n"
     ]
    },
    {
     "name": "stderr",
     "output_type": "stream",
     "text": [
      "\r",
      " 89%|█████████████████████████████████████████████████████████████████████▎        | 1120/1261 [13:38<01:55,  1.22it/s]"
     ]
    },
    {
     "name": "stdout",
     "output_type": "stream",
     "text": [
      "ret 0.0004837211216410786\n",
      "LA.norm(trackline.diffs)>15*np.std(coefnorm): -160.191618289\n",
      "dist_diff 291.987732627\n"
     ]
    },
    {
     "name": "stderr",
     "output_type": "stream",
     "text": [
      "\r",
      " 89%|█████████████████████████████████████████████████████████████████████▎        | 1121/1261 [13:39<01:53,  1.24it/s]"
     ]
    },
    {
     "name": "stdout",
     "output_type": "stream",
     "text": [
      "ret 0.0004968638162563543\n",
      "LA.norm(trackline.diffs)>15*np.std(coefnorm): -152.647323663\n",
      "dist_diff 290.688616526\n"
     ]
    },
    {
     "name": "stderr",
     "output_type": "stream",
     "text": [
      "\r",
      " 89%|█████████████████████████████████████████████████████████████████████▍        | 1122/1261 [13:40<01:58,  1.17it/s]"
     ]
    },
    {
     "name": "stdout",
     "output_type": "stream",
     "text": [
      "ret 0.0004824270508835271\n",
      "LA.norm(trackline.diffs)>15*np.std(coefnorm): -136.346460191\n",
      "dist_diff 285.927735964\n"
     ]
    },
    {
     "name": "stderr",
     "output_type": "stream",
     "text": [
      "\r",
      " 89%|█████████████████████████████████████████████████████████████████████▍        | 1123/1261 [13:40<01:53,  1.21it/s]"
     ]
    },
    {
     "name": "stdout",
     "output_type": "stream",
     "text": [
      "ret 0.0006310638782658917\n",
      "LA.norm(trackline.diffs)>15*np.std(coefnorm): -153.025104423\n",
      "dist_diff 292.044408601\n"
     ]
    },
    {
     "name": "stderr",
     "output_type": "stream",
     "text": [
      "\r",
      " 89%|█████████████████████████████████████████████████████████████████████▌        | 1124/1261 [13:41<01:51,  1.23it/s]"
     ]
    },
    {
     "name": "stdout",
     "output_type": "stream",
     "text": [
      "ret 0.0006586481613527484\n",
      "LA.norm(trackline.diffs)>15*np.std(coefnorm): -142.130860619\n",
      "dist_diff 286.836019652\n"
     ]
    },
    {
     "name": "stderr",
     "output_type": "stream",
     "text": [
      "\r",
      " 89%|█████████████████████████████████████████████████████████████████████▌        | 1125/1261 [13:42<01:48,  1.25it/s]"
     ]
    },
    {
     "name": "stdout",
     "output_type": "stream",
     "text": [
      "ret 0.000615596326135337\n",
      "LA.norm(trackline.diffs)>15*np.std(coefnorm): -152.403845019\n",
      "dist_diff 285.792500606\n"
     ]
    },
    {
     "name": "stderr",
     "output_type": "stream",
     "text": [
      "\r",
      " 89%|█████████████████████████████████████████████████████████████████████▋        | 1126/1261 [13:43<01:46,  1.27it/s]"
     ]
    },
    {
     "name": "stdout",
     "output_type": "stream",
     "text": [
      "ret 0.0005982293898740831\n",
      "LA.norm(trackline.diffs)>15*np.std(coefnorm): -170.45877468\n",
      "dist_diff 290.60385257\n"
     ]
    },
    {
     "name": "stderr",
     "output_type": "stream",
     "text": [
      "\r",
      " 89%|█████████████████████████████████████████████████████████████████████▋        | 1127/1261 [13:44<01:45,  1.27it/s]"
     ]
    },
    {
     "name": "stdout",
     "output_type": "stream",
     "text": [
      "ret 0.0004886778071412912\n",
      "LA.norm(trackline.diffs)>15*np.std(coefnorm): -160.432632438\n",
      "dist_diff 284.939446441\n"
     ]
    },
    {
     "name": "stderr",
     "output_type": "stream",
     "text": [
      "\r",
      " 89%|█████████████████████████████████████████████████████████████████████▊        | 1128/1261 [13:44<01:43,  1.28it/s]"
     ]
    },
    {
     "name": "stdout",
     "output_type": "stream",
     "text": [
      "ret 0.0004679458890071153\n",
      "LA.norm(trackline.diffs)>15*np.std(coefnorm): -182.931576971\n",
      "dist_diff 278.11204277\n"
     ]
    },
    {
     "name": "stderr",
     "output_type": "stream",
     "text": [
      "\r",
      " 90%|█████████████████████████████████████████████████████████████████████▊        | 1129/1261 [13:45<01:46,  1.24it/s]"
     ]
    },
    {
     "name": "stdout",
     "output_type": "stream",
     "text": [
      "ret 0.000468541150341506\n",
      "LA.norm(trackline.diffs)>15*np.std(coefnorm): -177.958703569\n",
      "dist_diff 283.869568079\n"
     ]
    },
    {
     "name": "stderr",
     "output_type": "stream",
     "text": [
      "\r",
      " 90%|█████████████████████████████████████████████████████████████████████▉        | 1130/1261 [13:46<01:51,  1.17it/s]"
     ]
    },
    {
     "name": "stdout",
     "output_type": "stream",
     "text": [
      "ret 0.00047459242844516414\n",
      "LA.norm(trackline.diffs)>15*np.std(coefnorm): -175.224563986\n",
      "dist_diff 280.870866864\n"
     ]
    },
    {
     "name": "stderr",
     "output_type": "stream",
     "text": [
      "\r",
      " 90%|█████████████████████████████████████████████████████████████████████▉        | 1131/1261 [13:47<01:57,  1.10it/s]"
     ]
    },
    {
     "name": "stdout",
     "output_type": "stream",
     "text": [
      "ret 0.00041668084368556846\n",
      "LA.norm(trackline.diffs)>15*np.std(coefnorm): -152.052721762\n",
      "dist_diff 282.622443271\n"
     ]
    },
    {
     "name": "stderr",
     "output_type": "stream",
     "text": [
      "\r",
      " 90%|██████████████████████████████████████████████████████████████████████        | 1132/1261 [13:48<02:01,  1.06it/s]"
     ]
    },
    {
     "name": "stdout",
     "output_type": "stream",
     "text": [
      "ret 0.000501703215349536\n",
      "LA.norm(trackline.diffs)>15*np.std(coefnorm): -168.164016076\n",
      "dist_diff 279.052223463\n"
     ]
    },
    {
     "name": "stderr",
     "output_type": "stream",
     "text": [
      "\r",
      " 90%|██████████████████████████████████████████████████████████████████████        | 1133/1261 [13:49<01:56,  1.10it/s]"
     ]
    },
    {
     "name": "stdout",
     "output_type": "stream",
     "text": [
      "ret 0.0006097295158355442\n",
      "LA.norm(trackline.diffs)>15*np.std(coefnorm): -150.203193711\n",
      "dist_diff 281.635607401\n"
     ]
    },
    {
     "name": "stderr",
     "output_type": "stream",
     "text": [
      "\r",
      " 90%|██████████████████████████████████████████████████████████████████████▏       | 1134/1261 [13:50<01:55,  1.10it/s]"
     ]
    },
    {
     "name": "stdout",
     "output_type": "stream",
     "text": [
      "ret 0.0005964986582099874\n",
      "LA.norm(trackline.diffs)>15*np.std(coefnorm): -148.128020848\n",
      "dist_diff 276.87200807\n"
     ]
    },
    {
     "name": "stderr",
     "output_type": "stream",
     "text": [
      "\r",
      " 90%|██████████████████████████████████████████████████████████████████████▏       | 1135/1261 [13:51<01:48,  1.16it/s]"
     ]
    },
    {
     "name": "stdout",
     "output_type": "stream",
     "text": [
      "ret 0.0005372718364030638\n",
      "LA.norm(trackline.diffs)>15*np.std(coefnorm): -148.718136231\n",
      "dist_diff 273.967163757\n"
     ]
    },
    {
     "name": "stderr",
     "output_type": "stream",
     "text": [
      "\r",
      " 90%|██████████████████████████████████████████████████████████████████████▎       | 1136/1261 [13:51<01:42,  1.22it/s]"
     ]
    },
    {
     "name": "stdout",
     "output_type": "stream",
     "text": [
      "ret 0.00041736237689227185\n",
      "LA.norm(trackline.diffs)>15*np.std(coefnorm): -146.295344851\n",
      "dist_diff 273.53388152\n"
     ]
    },
    {
     "name": "stderr",
     "output_type": "stream",
     "text": [
      "\r",
      " 90%|██████████████████████████████████████████████████████████████████████▎       | 1137/1261 [13:52<01:38,  1.26it/s]"
     ]
    },
    {
     "name": "stdout",
     "output_type": "stream",
     "text": [
      "ret 0.00046719673651368643\n",
      "LA.norm(trackline.diffs)>15*np.std(coefnorm): -148.652482621\n",
      "dist_diff 272.227328829\n"
     ]
    },
    {
     "name": "stderr",
     "output_type": "stream",
     "text": [
      "\r",
      " 90%|██████████████████████████████████████████████████████████████████████▍       | 1138/1261 [13:53<01:34,  1.30it/s]"
     ]
    },
    {
     "name": "stdout",
     "output_type": "stream",
     "text": [
      "ret 0.000476883482595003\n",
      "LA.norm(trackline.diffs)>15*np.std(coefnorm): -144.075715023\n",
      "dist_diff 272.709090057\n"
     ]
    },
    {
     "name": "stderr",
     "output_type": "stream",
     "text": [
      "\r",
      " 90%|██████████████████████████████████████████████████████████████████████▍       | 1139/1261 [13:54<01:32,  1.32it/s]"
     ]
    },
    {
     "name": "stdout",
     "output_type": "stream",
     "text": [
      "ret 0.0005081821552469501\n",
      "LA.norm(trackline.diffs)>15*np.std(coefnorm): -139.437062463\n",
      "dist_diff 276.029205267\n"
     ]
    },
    {
     "name": "stderr",
     "output_type": "stream",
     "text": [
      "\r",
      " 90%|██████████████████████████████████████████████████████████████████████▌       | 1140/1261 [13:54<01:30,  1.34it/s]"
     ]
    },
    {
     "name": "stdout",
     "output_type": "stream",
     "text": [
      "ret 0.0006290772619585994\n",
      "LA.norm(trackline.diffs)>15*np.std(coefnorm): -142.677990218\n",
      "dist_diff 276.347792895\n"
     ]
    },
    {
     "name": "stderr",
     "output_type": "stream",
     "text": [
      "\r",
      " 90%|██████████████████████████████████████████████████████████████████████▌       | 1141/1261 [13:55<01:28,  1.35it/s]"
     ]
    },
    {
     "name": "stdout",
     "output_type": "stream",
     "text": [
      "ret 0.0005897477108067761\n",
      "LA.norm(trackline.diffs)>15*np.std(coefnorm): -144.958762121\n",
      "dist_diff 270.709276563\n"
     ]
    },
    {
     "name": "stderr",
     "output_type": "stream",
     "text": [
      "\r",
      " 91%|██████████████████████████████████████████████████████████████████████▋       | 1142/1261 [13:56<01:27,  1.36it/s]"
     ]
    },
    {
     "name": "stdout",
     "output_type": "stream",
     "text": [
      "ret 0.0005527484657524839\n",
      "LA.norm(trackline.diffs)>15*np.std(coefnorm): -147.382100722\n",
      "dist_diff 272.178748366\n"
     ]
    },
    {
     "name": "stderr",
     "output_type": "stream",
     "text": [
      "\r",
      " 91%|██████████████████████████████████████████████████████████████████████▋       | 1143/1261 [13:56<01:26,  1.36it/s]"
     ]
    },
    {
     "name": "stdout",
     "output_type": "stream",
     "text": [
      "ret 0.0006784911812073857\n",
      "LA.norm(trackline.diffs)>15*np.std(coefnorm): -136.165162002\n",
      "dist_diff 278.065147111\n"
     ]
    },
    {
     "name": "stderr",
     "output_type": "stream",
     "text": [
      "\r",
      " 91%|██████████████████████████████████████████████████████████████████████▊       | 1144/1261 [13:57<01:26,  1.36it/s]"
     ]
    },
    {
     "name": "stdout",
     "output_type": "stream",
     "text": [
      "ret 0.0006180484973233868\n",
      "LA.norm(trackline.diffs)>15*np.std(coefnorm): -126.206502297\n",
      "dist_diff 281.147199013\n"
     ]
    },
    {
     "name": "stderr",
     "output_type": "stream",
     "text": [
      "\r",
      " 91%|██████████████████████████████████████████████████████████████████████▊       | 1145/1261 [13:58<01:25,  1.36it/s]"
     ]
    },
    {
     "name": "stdout",
     "output_type": "stream",
     "text": [
      "ret 0.0006640082683673221\n",
      "LA.norm(trackline.diffs)>15*np.std(coefnorm): -136.169917325\n",
      "dist_diff 278.648616707\n"
     ]
    },
    {
     "name": "stderr",
     "output_type": "stream",
     "text": [
      "\r",
      " 91%|██████████████████████████████████████████████████████████████████████▉       | 1146/1261 [13:59<01:24,  1.36it/s]"
     ]
    },
    {
     "name": "stdout",
     "output_type": "stream",
     "text": [
      "ret 0.0006239336987444166\n",
      "LA.norm(trackline.diffs)>15*np.std(coefnorm): -137.46377016\n",
      "dist_diff 277.052670826\n"
     ]
    },
    {
     "name": "stderr",
     "output_type": "stream",
     "text": [
      "\r",
      " 91%|██████████████████████████████████████████████████████████████████████▉       | 1147/1261 [13:59<01:23,  1.36it/s]"
     ]
    },
    {
     "name": "stdout",
     "output_type": "stream",
     "text": [
      "ret 0.0005355071415970025\n",
      "LA.norm(trackline.diffs)>15*np.std(coefnorm): -140.278372172\n",
      "dist_diff 279.253846604\n"
     ]
    },
    {
     "name": "stderr",
     "output_type": "stream",
     "text": [
      "\r",
      " 91%|███████████████████████████████████████████████████████████████████████       | 1148/1261 [14:00<01:22,  1.36it/s]"
     ]
    },
    {
     "name": "stdout",
     "output_type": "stream",
     "text": [
      "ret 0.0006905259187641177\n",
      "LA.norm(trackline.diffs)>15*np.std(coefnorm): -143.142176262\n",
      "dist_diff 277.951164744\n"
     ]
    },
    {
     "name": "stderr",
     "output_type": "stream",
     "text": [
      "\r",
      " 91%|███████████████████████████████████████████████████████████████████████       | 1149/1261 [14:01<01:22,  1.36it/s]"
     ]
    },
    {
     "name": "stdout",
     "output_type": "stream",
     "text": [
      "ret 0.0005838555519142585\n",
      "LA.norm(trackline.diffs)>15*np.std(coefnorm): -146.686629414\n",
      "dist_diff 279.747809058\n"
     ]
    },
    {
     "name": "stderr",
     "output_type": "stream",
     "text": [
      "\r",
      " 91%|███████████████████████████████████████████████████████████████████████▏      | 1150/1261 [14:02<01:21,  1.36it/s]"
     ]
    },
    {
     "name": "stdout",
     "output_type": "stream",
     "text": [
      "ret 0.0005634489300410661\n",
      "LA.norm(trackline.diffs)>15*np.std(coefnorm): -150.518609687\n",
      "dist_diff 280.38982771\n"
     ]
    },
    {
     "name": "stderr",
     "output_type": "stream",
     "text": [
      "\r",
      " 91%|███████████████████████████████████████████████████████████████████████▏      | 1151/1261 [14:02<01:20,  1.37it/s]"
     ]
    },
    {
     "name": "stdout",
     "output_type": "stream",
     "text": [
      "ret 0.0006155149311357633\n",
      "LA.norm(trackline.diffs)>15*np.std(coefnorm): -148.552021808\n",
      "dist_diff 287.047143088\n"
     ]
    },
    {
     "name": "stderr",
     "output_type": "stream",
     "text": [
      "\r",
      " 91%|███████████████████████████████████████████████████████████████████████▎      | 1152/1261 [14:03<01:19,  1.38it/s]"
     ]
    },
    {
     "name": "stdout",
     "output_type": "stream",
     "text": [
      "ret 0.0006275710614841445\n",
      "LA.norm(trackline.diffs)>15*np.std(coefnorm): -146.088775578\n",
      "dist_diff 288.911839617\n"
     ]
    },
    {
     "name": "stderr",
     "output_type": "stream",
     "text": [
      "\r",
      " 91%|███████████████████████████████████████████████████████████████████████▎      | 1153/1261 [14:04<01:17,  1.39it/s]"
     ]
    },
    {
     "name": "stdout",
     "output_type": "stream",
     "text": [
      "ret 0.0006555366329554224\n",
      "LA.norm(trackline.diffs)>15*np.std(coefnorm): -149.785085254\n",
      "dist_diff 281.9747233\n"
     ]
    },
    {
     "name": "stderr",
     "output_type": "stream",
     "text": [
      "\r",
      " 92%|███████████████████████████████████████████████████████████████████████▍      | 1154/1261 [14:04<01:17,  1.39it/s]"
     ]
    },
    {
     "name": "stdout",
     "output_type": "stream",
     "text": [
      "ret 0.0005821731301942634\n",
      "LA.norm(trackline.diffs)>15*np.std(coefnorm): -155.549104149\n",
      "dist_diff 278.64177524\n"
     ]
    },
    {
     "name": "stderr",
     "output_type": "stream",
     "text": [
      "\r",
      " 92%|███████████████████████████████████████████████████████████████████████▍      | 1155/1261 [14:05<01:16,  1.39it/s]"
     ]
    },
    {
     "name": "stdout",
     "output_type": "stream",
     "text": [
      "ret 0.0006403878241940109\n",
      "LA.norm(trackline.diffs)>15*np.std(coefnorm): -154.538012574\n",
      "dist_diff 283.529442392\n"
     ]
    },
    {
     "name": "stderr",
     "output_type": "stream",
     "text": [
      "\r",
      " 92%|███████████████████████████████████████████████████████████████████████▌      | 1156/1261 [14:06<01:15,  1.38it/s]"
     ]
    },
    {
     "name": "stdout",
     "output_type": "stream",
     "text": [
      "ret 0.0006134541311163533\n",
      "LA.norm(trackline.diffs)>15*np.std(coefnorm): -152.418050925\n",
      "dist_diff 278.754773125\n"
     ]
    },
    {
     "name": "stderr",
     "output_type": "stream",
     "text": [
      "\r",
      " 92%|███████████████████████████████████████████████████████████████████████▌      | 1157/1261 [14:07<01:14,  1.39it/s]"
     ]
    },
    {
     "name": "stdout",
     "output_type": "stream",
     "text": [
      "ret 0.0006046134861582564\n",
      "LA.norm(trackline.diffs)>15*np.std(coefnorm): -161.458234579\n",
      "dist_diff 279.268331299\n"
     ]
    },
    {
     "name": "stderr",
     "output_type": "stream",
     "text": [
      "\r",
      " 92%|███████████████████████████████████████████████████████████████████████▋      | 1158/1261 [14:07<01:13,  1.40it/s]"
     ]
    },
    {
     "name": "stdout",
     "output_type": "stream",
     "text": [
      "ret 0.0005857553297236584\n",
      "LA.norm(trackline.diffs)>15*np.std(coefnorm): -166.440355678\n",
      "dist_diff 278.58122133\n"
     ]
    },
    {
     "name": "stderr",
     "output_type": "stream",
     "text": [
      "\r",
      " 92%|███████████████████████████████████████████████████████████████████████▋      | 1159/1261 [14:08<01:13,  1.39it/s]"
     ]
    },
    {
     "name": "stdout",
     "output_type": "stream",
     "text": [
      "ret 0.0004199648591619587\n",
      "LA.norm(trackline.diffs)>15*np.std(coefnorm): -173.476125445\n",
      "dist_diff 276.31297819\n"
     ]
    },
    {
     "name": "stderr",
     "output_type": "stream",
     "text": [
      "\r",
      " 92%|███████████████████████████████████████████████████████████████████████▊      | 1160/1261 [14:09<01:14,  1.36it/s]"
     ]
    },
    {
     "name": "stdout",
     "output_type": "stream",
     "text": [
      "ret 0.00027114047997950363\n",
      "LA.norm(trackline.diffs)>15*np.std(coefnorm): -156.664497528\n",
      "dist_diff 276.502750396\n"
     ]
    },
    {
     "name": "stderr",
     "output_type": "stream",
     "text": [
      "\r",
      " 92%|███████████████████████████████████████████████████████████████████████▊      | 1161/1261 [14:10<01:13,  1.36it/s]"
     ]
    },
    {
     "name": "stdout",
     "output_type": "stream",
     "text": [
      "ret 0.00024663120838819275\n",
      "LA.norm(trackline.diffs)>15*np.std(coefnorm): -169.76372016\n",
      "dist_diff 275.763877083\n"
     ]
    },
    {
     "name": "stderr",
     "output_type": "stream",
     "text": [
      "\r",
      " 92%|███████████████████████████████████████████████████████████████████████▉      | 1162/1261 [14:10<01:12,  1.36it/s]"
     ]
    },
    {
     "name": "stdout",
     "output_type": "stream",
     "text": [
      "ret 0.00014798761318007836\n",
      "LA.norm(trackline.diffs)>15*np.std(coefnorm): -154.144477149\n",
      "dist_diff 277.634359084\n"
     ]
    },
    {
     "name": "stderr",
     "output_type": "stream",
     "text": [
      "\r",
      " 92%|███████████████████████████████████████████████████████████████████████▉      | 1163/1261 [14:11<01:11,  1.37it/s]"
     ]
    },
    {
     "name": "stdout",
     "output_type": "stream",
     "text": [
      "ret 6.324732557283497e-05\n",
      "LA.norm(trackline.diffs)>15*np.std(coefnorm): -154.840179815\n",
      "dist_diff 278.395616666\n"
     ]
    },
    {
     "name": "stderr",
     "output_type": "stream",
     "text": [
      "\r",
      " 92%|████████████████████████████████████████████████████████████████████████      | 1164/1261 [14:12<01:10,  1.37it/s]"
     ]
    },
    {
     "name": "stdout",
     "output_type": "stream",
     "text": [
      "ret 0.00014581625796461495\n",
      "LA.norm(trackline.diffs)>15*np.std(coefnorm): -173.131359115\n",
      "dist_diff 273.401591478\n"
     ]
    },
    {
     "name": "stderr",
     "output_type": "stream",
     "text": [
      "\r",
      " 92%|████████████████████████████████████████████████████████████████████████      | 1165/1261 [14:12<01:09,  1.38it/s]"
     ]
    },
    {
     "name": "stdout",
     "output_type": "stream",
     "text": [
      "ret 2.5250585422520455e-05\n",
      "LA.norm(trackline.diffs)>15*np.std(coefnorm): -169.095624852\n",
      "dist_diff 268.879207169\n"
     ]
    },
    {
     "name": "stderr",
     "output_type": "stream",
     "text": [
      "\r",
      " 92%|████████████████████████████████████████████████████████████████████████      | 1166/1261 [14:13<01:08,  1.39it/s]"
     ]
    },
    {
     "name": "stdout",
     "output_type": "stream",
     "text": [
      "ret 4.005682014412981e-05\n",
      "LA.norm(trackline.diffs)>15*np.std(coefnorm): -172.409614037\n",
      "dist_diff 267.610717256\n"
     ]
    },
    {
     "name": "stderr",
     "output_type": "stream",
     "text": [
      "\r",
      " 93%|████████████████████████████████████████████████████████████████████████▏     | 1167/1261 [14:14<01:07,  1.39it/s]"
     ]
    },
    {
     "name": "stdout",
     "output_type": "stream",
     "text": [
      "ret 0.0001293431323752814\n",
      "LA.norm(trackline.diffs)>15*np.std(coefnorm): -172.918153686\n",
      "dist_diff 274.000104626\n"
     ]
    },
    {
     "name": "stderr",
     "output_type": "stream",
     "text": [
      "\r",
      " 93%|████████████████████████████████████████████████████████████████████████▏     | 1168/1261 [14:15<01:06,  1.39it/s]"
     ]
    },
    {
     "name": "stdout",
     "output_type": "stream",
     "text": [
      "ret 4.76714047725757e-05\n",
      "LA.norm(trackline.diffs)>15*np.std(coefnorm): -162.741498711\n",
      "dist_diff 270.679635639\n"
     ]
    },
    {
     "name": "stderr",
     "output_type": "stream",
     "text": [
      "\r",
      " 93%|████████████████████████████████████████████████████████████████████████▎     | 1169/1261 [14:15<01:06,  1.38it/s]"
     ]
    },
    {
     "name": "stdout",
     "output_type": "stream",
     "text": [
      "ret 2.2616975922873372e-05\n",
      "LA.norm(trackline.diffs)>15*np.std(coefnorm): -165.120040582\n",
      "dist_diff 269.843185555\n"
     ]
    },
    {
     "name": "stderr",
     "output_type": "stream",
     "text": [
      "\r",
      " 93%|████████████████████████████████████████████████████████████████████████▎     | 1170/1261 [14:16<01:05,  1.40it/s]"
     ]
    },
    {
     "name": "stdout",
     "output_type": "stream",
     "text": [
      "ret 0.00020230710790558604\n",
      "LA.norm(trackline.diffs)>15*np.std(coefnorm): -153.881788087\n",
      "dist_diff 268.531499039\n"
     ]
    },
    {
     "name": "stderr",
     "output_type": "stream",
     "text": [
      "\r",
      " 93%|████████████████████████████████████████████████████████████████████████▍     | 1171/1261 [14:17<01:04,  1.40it/s]"
     ]
    },
    {
     "name": "stdout",
     "output_type": "stream",
     "text": [
      "ret 0.000204644734186743\n",
      "LA.norm(trackline.diffs)>15*np.std(coefnorm): -155.557924349\n",
      "dist_diff 268.677777227\n"
     ]
    },
    {
     "name": "stderr",
     "output_type": "stream",
     "text": [
      "\r",
      " 93%|████████████████████████████████████████████████████████████████████████▍     | 1172/1261 [14:17<01:03,  1.41it/s]"
     ]
    },
    {
     "name": "stdout",
     "output_type": "stream",
     "text": [
      "ret 0.0001660664055294081\n",
      "LA.norm(trackline.diffs)>15*np.std(coefnorm): -159.755719613\n",
      "dist_diff 268.922511574\n"
     ]
    },
    {
     "name": "stderr",
     "output_type": "stream",
     "text": [
      "\r",
      " 93%|████████████████████████████████████████████████████████████████████████▌     | 1173/1261 [14:18<01:02,  1.42it/s]"
     ]
    },
    {
     "name": "stdout",
     "output_type": "stream",
     "text": [
      "ret 0.00021122423818131786\n",
      "LA.norm(trackline.diffs)>15*np.std(coefnorm): -146.298245931\n",
      "dist_diff 281.216130044\n"
     ]
    },
    {
     "name": "stderr",
     "output_type": "stream",
     "text": [
      "\r",
      " 93%|████████████████████████████████████████████████████████████████████████▌     | 1174/1261 [14:19<01:01,  1.41it/s]"
     ]
    },
    {
     "name": "stdout",
     "output_type": "stream",
     "text": [
      "ret 0.00011839643914196563\n",
      "LA.norm(trackline.diffs)>15*np.std(coefnorm): -153.423874929\n",
      "dist_diff 288.341657174\n"
     ]
    },
    {
     "name": "stderr",
     "output_type": "stream",
     "text": [
      "\r",
      " 93%|████████████████████████████████████████████████████████████████████████▋     | 1175/1261 [14:20<01:01,  1.40it/s]"
     ]
    },
    {
     "name": "stdout",
     "output_type": "stream",
     "text": [
      "ret 0.00012724027472088562\n",
      "LA.norm(trackline.diffs)>15*np.std(coefnorm): -158.645216964\n",
      "dist_diff 280.318254604\n"
     ]
    },
    {
     "name": "stderr",
     "output_type": "stream",
     "text": [
      "\r",
      " 93%|████████████████████████████████████████████████████████████████████████▋     | 1176/1261 [14:20<01:01,  1.39it/s]"
     ]
    },
    {
     "name": "stdout",
     "output_type": "stream",
     "text": [
      "ret 0.00010213919315843478\n",
      "LA.norm(trackline.diffs)>15*np.std(coefnorm): -151.762092787\n",
      "dist_diff 283.770977209\n"
     ]
    },
    {
     "name": "stderr",
     "output_type": "stream",
     "text": [
      "\r",
      " 93%|████████████████████████████████████████████████████████████████████████▊     | 1177/1261 [14:21<01:00,  1.39it/s]"
     ]
    },
    {
     "name": "stdout",
     "output_type": "stream",
     "text": [
      "ret 7.139030219555087e-05\n",
      "LA.norm(trackline.diffs)>15*np.std(coefnorm): -163.249534949\n",
      "dist_diff 276.235523578\n"
     ]
    },
    {
     "name": "stderr",
     "output_type": "stream",
     "text": [
      "\r",
      " 93%|████████████████████████████████████████████████████████████████████████▊     | 1178/1261 [14:22<01:00,  1.38it/s]"
     ]
    },
    {
     "name": "stdout",
     "output_type": "stream",
     "text": [
      "ret 7.247102890012291e-05\n",
      "LA.norm(trackline.diffs)>15*np.std(coefnorm): -159.388991482\n",
      "dist_diff 279.69534342\n"
     ]
    },
    {
     "name": "stderr",
     "output_type": "stream",
     "text": [
      "\r",
      " 93%|████████████████████████████████████████████████████████████████████████▉     | 1179/1261 [14:22<00:59,  1.38it/s]"
     ]
    },
    {
     "name": "stdout",
     "output_type": "stream",
     "text": [
      "ret 8.664054686313705e-05\n",
      "LA.norm(trackline.diffs)>15*np.std(coefnorm): -159.194762727\n",
      "dist_diff 276.058680508\n"
     ]
    },
    {
     "name": "stderr",
     "output_type": "stream",
     "text": [
      "\r",
      " 94%|████████████████████████████████████████████████████████████████████████▉     | 1180/1261 [14:23<00:58,  1.40it/s]"
     ]
    },
    {
     "name": "stdout",
     "output_type": "stream",
     "text": [
      "ret 8.651871266729394e-05\n",
      "LA.norm(trackline.diffs)>15*np.std(coefnorm): -158.730526553\n",
      "dist_diff 274.863061653\n"
     ]
    },
    {
     "name": "stderr",
     "output_type": "stream",
     "text": [
      "\r",
      " 94%|█████████████████████████████████████████████████████████████████████████     | 1181/1261 [14:24<00:57,  1.38it/s]"
     ]
    },
    {
     "name": "stdout",
     "output_type": "stream",
     "text": [
      "ret 6.0214461979346545e-05\n",
      "LA.norm(trackline.diffs)>15*np.std(coefnorm): -152.492192432\n",
      "dist_diff 278.666794454\n"
     ]
    },
    {
     "name": "stderr",
     "output_type": "stream",
     "text": [
      "\r",
      " 94%|█████████████████████████████████████████████████████████████████████████     | 1182/1261 [14:25<00:56,  1.39it/s]"
     ]
    },
    {
     "name": "stdout",
     "output_type": "stream",
     "text": [
      "ret 3.717867067193348e-05\n",
      "LA.norm(trackline.diffs)>15*np.std(coefnorm): -150.888988991\n",
      "dist_diff 279.649258671\n"
     ]
    },
    {
     "name": "stderr",
     "output_type": "stream",
     "text": [
      "\r",
      " 94%|█████████████████████████████████████████████████████████████████████████▏    | 1183/1261 [14:25<00:56,  1.39it/s]"
     ]
    },
    {
     "name": "stdout",
     "output_type": "stream",
     "text": [
      "ret 0.00011302340513535958\n",
      "LA.norm(trackline.diffs)>15*np.std(coefnorm): -143.81402619\n",
      "dist_diff 276.895191377\n"
     ]
    },
    {
     "name": "stderr",
     "output_type": "stream",
     "text": [
      "\r",
      " 94%|█████████████████████████████████████████████████████████████████████████▏    | 1184/1261 [14:26<00:55,  1.38it/s]"
     ]
    },
    {
     "name": "stdout",
     "output_type": "stream",
     "text": [
      "ret 7.427343948185339e-05\n",
      "LA.norm(trackline.diffs)>15*np.std(coefnorm): -133.165993138\n",
      "dist_diff 284.10196277\n"
     ]
    },
    {
     "name": "stderr",
     "output_type": "stream",
     "text": [
      "\r",
      " 94%|█████████████████████████████████████████████████████████████████████████▎    | 1185/1261 [14:27<00:55,  1.37it/s]"
     ]
    },
    {
     "name": "stdout",
     "output_type": "stream",
     "text": [
      "ret 5.899096998951414e-05\n",
      "LA.norm(trackline.diffs)>15*np.std(coefnorm): -138.351373142\n",
      "dist_diff 284.78354174\n"
     ]
    },
    {
     "name": "stderr",
     "output_type": "stream",
     "text": [
      "\r",
      " 94%|█████████████████████████████████████████████████████████████████████████▎    | 1186/1261 [14:28<00:54,  1.37it/s]"
     ]
    },
    {
     "name": "stdout",
     "output_type": "stream",
     "text": [
      "ret 6.439946560521381e-06\n",
      "LA.norm(trackline.diffs)>15*np.std(coefnorm): -136.975144416\n",
      "dist_diff 284.260920532\n"
     ]
    },
    {
     "name": "stderr",
     "output_type": "stream",
     "text": [
      "\r",
      " 94%|█████████████████████████████████████████████████████████████████████████▍    | 1187/1261 [14:28<00:54,  1.37it/s]"
     ]
    },
    {
     "name": "stdout",
     "output_type": "stream",
     "text": [
      "ret 1.4775168278968742e-05\n",
      "LA.norm(trackline.diffs)>15*np.std(coefnorm): -133.205233599\n",
      "dist_diff 285.50570197\n"
     ]
    },
    {
     "name": "stderr",
     "output_type": "stream",
     "text": [
      "\r",
      " 94%|█████████████████████████████████████████████████████████████████████████▍    | 1188/1261 [14:29<00:53,  1.37it/s]"
     ]
    },
    {
     "name": "stdout",
     "output_type": "stream",
     "text": [
      "ret 2.3479637806855802e-05\n",
      "LA.norm(trackline.diffs)>15*np.std(coefnorm): -139.48643931\n",
      "dist_diff 277.948224241\n"
     ]
    },
    {
     "name": "stderr",
     "output_type": "stream",
     "text": [
      "\r",
      " 94%|█████████████████████████████████████████████████████████████████████████▌    | 1189/1261 [14:30<00:52,  1.37it/s]"
     ]
    },
    {
     "name": "stdout",
     "output_type": "stream",
     "text": [
      "ret 0.00017063909126779908\n",
      "LA.norm(trackline.diffs)>15*np.std(coefnorm): -139.239577954\n",
      "dist_diff 289.666907099\n"
     ]
    },
    {
     "name": "stderr",
     "output_type": "stream",
     "text": [
      "\r",
      " 94%|█████████████████████████████████████████████████████████████████████████▌    | 1190/1261 [14:30<00:51,  1.38it/s]"
     ]
    },
    {
     "name": "stdout",
     "output_type": "stream",
     "text": [
      "ret 0.00017787132940239037\n",
      "LA.norm(trackline.diffs)>15*np.std(coefnorm): -138.467587701\n",
      "dist_diff 286.196913272\n"
     ]
    },
    {
     "name": "stderr",
     "output_type": "stream",
     "text": [
      "\r",
      " 94%|█████████████████████████████████████████████████████████████████████████▋    | 1191/1261 [14:31<00:51,  1.37it/s]"
     ]
    },
    {
     "name": "stdout",
     "output_type": "stream",
     "text": [
      "ret 3.932105830894983e-05\n",
      "LA.norm(trackline.diffs)>15*np.std(coefnorm): -127.054312299\n",
      "dist_diff 283.746838254\n"
     ]
    },
    {
     "name": "stderr",
     "output_type": "stream",
     "text": [
      "\r",
      " 95%|█████████████████████████████████████████████████████████████████████████▋    | 1192/1261 [14:32<00:50,  1.36it/s]"
     ]
    },
    {
     "name": "stdout",
     "output_type": "stream",
     "text": [
      "ret 4.2982977433769776e-05\n",
      "LA.norm(trackline.diffs)>15*np.std(coefnorm): -119.788526551\n",
      "dist_diff 284.683708299\n"
     ]
    },
    {
     "name": "stderr",
     "output_type": "stream",
     "text": [
      "\r",
      " 95%|█████████████████████████████████████████████████████████████████████████▊    | 1193/1261 [14:33<00:49,  1.36it/s]"
     ]
    },
    {
     "name": "stdout",
     "output_type": "stream",
     "text": [
      "ret 0.0001121115955677876\n",
      "LA.norm(trackline.diffs)>15*np.std(coefnorm): -134.10780174\n",
      "dist_diff 283.913058171\n"
     ]
    },
    {
     "name": "stderr",
     "output_type": "stream",
     "text": [
      "\r",
      " 95%|█████████████████████████████████████████████████████████████████████████▊    | 1194/1261 [14:33<00:49,  1.36it/s]"
     ]
    },
    {
     "name": "stdout",
     "output_type": "stream",
     "text": [
      "ret 1.836047960790399e-05\n",
      "LA.norm(trackline.diffs)>15*np.std(coefnorm): -122.531906249\n",
      "dist_diff 285.187447074\n"
     ]
    },
    {
     "name": "stderr",
     "output_type": "stream",
     "text": [
      "\r",
      " 95%|█████████████████████████████████████████████████████████████████████████▉    | 1195/1261 [14:34<00:48,  1.37it/s]"
     ]
    },
    {
     "name": "stdout",
     "output_type": "stream",
     "text": [
      "ret 3.591716981826698e-05\n",
      "LA.norm(trackline.diffs)>15*np.std(coefnorm): -115.590682414\n",
      "dist_diff 288.720719075\n"
     ]
    },
    {
     "name": "stderr",
     "output_type": "stream",
     "text": [
      "\r",
      " 95%|█████████████████████████████████████████████████████████████████████████▉    | 1196/1261 [14:35<00:47,  1.37it/s]"
     ]
    },
    {
     "name": "stdout",
     "output_type": "stream",
     "text": [
      "ret 1.9832326828339575e-05\n",
      "LA.norm(trackline.diffs)>15*np.std(coefnorm): -125.335610539\n",
      "dist_diff 283.518406957\n"
     ]
    },
    {
     "name": "stderr",
     "output_type": "stream",
     "text": [
      "\r",
      " 95%|██████████████████████████████████████████████████████████████████████████    | 1197/1261 [14:36<00:46,  1.36it/s]"
     ]
    },
    {
     "name": "stdout",
     "output_type": "stream",
     "text": [
      "ret 0.00011754826095777826\n",
      "LA.norm(trackline.diffs)>15*np.std(coefnorm): -134.393033784\n",
      "dist_diff 280.722157001\n"
     ]
    },
    {
     "name": "stderr",
     "output_type": "stream",
     "text": [
      "\r",
      " 95%|██████████████████████████████████████████████████████████████████████████    | 1198/1261 [14:36<00:46,  1.36it/s]"
     ]
    },
    {
     "name": "stdout",
     "output_type": "stream",
     "text": [
      "ret 0.00021646460864982453\n",
      "LA.norm(trackline.diffs)>15*np.std(coefnorm): -153.971153853\n",
      "dist_diff 274.219946309\n"
     ]
    },
    {
     "name": "stderr",
     "output_type": "stream",
     "text": [
      "\r",
      " 95%|██████████████████████████████████████████████████████████████████████████▏   | 1199/1261 [14:37<00:45,  1.36it/s]"
     ]
    },
    {
     "name": "stdout",
     "output_type": "stream",
     "text": [
      "ret 0.0003301697132745418\n",
      "LA.norm(trackline.diffs)>15*np.std(coefnorm): -156.690873244\n",
      "dist_diff 273.708444425\n"
     ]
    },
    {
     "name": "stderr",
     "output_type": "stream",
     "text": [
      "\r",
      " 95%|██████████████████████████████████████████████████████████████████████████▏   | 1200/1261 [14:38<00:44,  1.36it/s]"
     ]
    },
    {
     "name": "stdout",
     "output_type": "stream",
     "text": [
      "ret 0.00016221761234525012\n",
      "LA.norm(trackline.diffs)>15*np.std(coefnorm): -147.827030041\n",
      "dist_diff 263.107794566\n"
     ]
    },
    {
     "name": "stderr",
     "output_type": "stream",
     "text": [
      "\r",
      " 95%|██████████████████████████████████████████████████████████████████████████▎   | 1201/1261 [14:39<00:44,  1.35it/s]"
     ]
    },
    {
     "name": "stdout",
     "output_type": "stream",
     "text": [
      "ret 9.335181643449486e-05\n",
      "LA.norm(trackline.diffs)>15*np.std(coefnorm): -138.261090917\n",
      "dist_diff 261.618365643\n"
     ]
    },
    {
     "name": "stderr",
     "output_type": "stream",
     "text": [
      "\r",
      " 95%|██████████████████████████████████████████████████████████████████████████▎   | 1202/1261 [14:39<00:43,  1.35it/s]"
     ]
    },
    {
     "name": "stdout",
     "output_type": "stream",
     "text": [
      "ret 0.00017900240887341878\n",
      "LA.norm(trackline.diffs)>15*np.std(coefnorm): -142.485472838\n",
      "dist_diff 265.665537465\n"
     ]
    },
    {
     "name": "stderr",
     "output_type": "stream",
     "text": [
      "\r",
      " 95%|██████████████████████████████████████████████████████████████████████████▍   | 1203/1261 [14:40<00:42,  1.36it/s]"
     ]
    },
    {
     "name": "stdout",
     "output_type": "stream",
     "text": [
      "ret 3.008079956867693e-05\n",
      "LA.norm(trackline.diffs)>15*np.std(coefnorm): -126.51127453\n",
      "dist_diff 268.72212389\n"
     ]
    },
    {
     "name": "stderr",
     "output_type": "stream",
     "text": [
      "\r",
      " 95%|██████████████████████████████████████████████████████████████████████████▍   | 1204/1261 [14:41<00:41,  1.36it/s]"
     ]
    },
    {
     "name": "stdout",
     "output_type": "stream",
     "text": [
      "ret 0.00012877069815009357\n",
      "LA.norm(trackline.diffs)>15*np.std(coefnorm): -111.531149968\n",
      "dist_diff 269.714230903\n"
     ]
    },
    {
     "name": "stderr",
     "output_type": "stream",
     "text": [
      "\r",
      " 96%|██████████████████████████████████████████████████████████████████████████▌   | 1205/1261 [14:42<00:41,  1.36it/s]"
     ]
    },
    {
     "name": "stdout",
     "output_type": "stream",
     "text": [
      "ret 0.00047350928220019073\n",
      "LA.norm(trackline.diffs)>15*np.std(coefnorm): -87.5118964755\n",
      "dist_diff 272.848275518\n"
     ]
    },
    {
     "name": "stderr",
     "output_type": "stream",
     "text": [
      "\r",
      " 96%|██████████████████████████████████████████████████████████████████████████▌   | 1206/1261 [14:42<00:40,  1.37it/s]"
     ]
    },
    {
     "name": "stdout",
     "output_type": "stream",
     "text": [
      "ret 0.0006052721746979128\n",
      "LA.norm(trackline.diffs)>15*np.std(coefnorm): -78.592774459\n",
      "dist_diff 278.094104933\n"
     ]
    },
    {
     "name": "stderr",
     "output_type": "stream",
     "text": [
      "\r",
      " 96%|██████████████████████████████████████████████████████████████████████████▋   | 1207/1261 [14:43<00:39,  1.37it/s]"
     ]
    },
    {
     "name": "stdout",
     "output_type": "stream",
     "text": [
      "ret 0.0005655319153880511\n",
      "LA.norm(trackline.diffs)>15*np.std(coefnorm): -80.7305549929\n",
      "dist_diff 290.158299931\n"
     ]
    },
    {
     "name": "stderr",
     "output_type": "stream",
     "text": [
      "\r",
      " 96%|██████████████████████████████████████████████████████████████████████████▋   | 1208/1261 [14:44<00:39,  1.36it/s]"
     ]
    },
    {
     "name": "stdout",
     "output_type": "stream",
     "text": [
      "ret 0.0008217232756629889\n",
      "LA.norm(trackline.diffs)>15*np.std(coefnorm): -64.8533713054\n",
      "dist_diff 291.590487032\n"
     ]
    },
    {
     "name": "stderr",
     "output_type": "stream",
     "text": [
      "\r",
      " 96%|██████████████████████████████████████████████████████████████████████████▊   | 1209/1261 [14:44<00:38,  1.36it/s]"
     ]
    },
    {
     "name": "stdout",
     "output_type": "stream",
     "text": [
      "ret 0.0008083244267914069\n",
      "LA.norm(trackline.diffs)>15*np.std(coefnorm): -68.2535125511\n",
      "dist_diff 292.345870743\n"
     ]
    },
    {
     "name": "stderr",
     "output_type": "stream",
     "text": [
      "\r",
      " 96%|██████████████████████████████████████████████████████████████████████████▊   | 1210/1261 [14:45<00:37,  1.36it/s]"
     ]
    },
    {
     "name": "stdout",
     "output_type": "stream",
     "text": [
      "ret 0.0006554992176067143\n",
      "LA.norm(trackline.diffs)>15*np.std(coefnorm): -72.7496858177\n",
      "dist_diff 299.501598585\n"
     ]
    },
    {
     "name": "stderr",
     "output_type": "stream",
     "text": [
      "\r",
      " 96%|██████████████████████████████████████████████████████████████████████████▉   | 1211/1261 [14:46<00:36,  1.36it/s]"
     ]
    },
    {
     "name": "stdout",
     "output_type": "stream",
     "text": [
      "ret 0.0005803041396653663\n",
      "LA.norm(trackline.diffs)>15*np.std(coefnorm): -76.9863205048\n",
      "dist_diff 300.228152521\n"
     ]
    },
    {
     "name": "stderr",
     "output_type": "stream",
     "text": [
      "\r",
      " 96%|██████████████████████████████████████████████████████████████████████████▉   | 1212/1261 [14:47<00:36,  1.34it/s]"
     ]
    },
    {
     "name": "stdout",
     "output_type": "stream",
     "text": [
      "ret 0.00035665099926029953\n",
      "LA.norm(trackline.diffs)>15*np.std(coefnorm): -91.4624394412\n",
      "dist_diff 298.215896556\n"
     ]
    },
    {
     "name": "stderr",
     "output_type": "stream",
     "text": [
      "\r",
      " 96%|███████████████████████████████████████████████████████████████████████████   | 1213/1261 [14:47<00:35,  1.35it/s]"
     ]
    },
    {
     "name": "stdout",
     "output_type": "stream",
     "text": [
      "ret 0.00038209932166255456\n",
      "LA.norm(trackline.diffs)>15*np.std(coefnorm): -88.5509059478\n",
      "dist_diff 293.260685208\n"
     ]
    },
    {
     "name": "stderr",
     "output_type": "stream",
     "text": [
      "\r",
      " 96%|███████████████████████████████████████████████████████████████████████████   | 1214/1261 [14:48<00:34,  1.35it/s]"
     ]
    },
    {
     "name": "stdout",
     "output_type": "stream",
     "text": [
      "ret 0.00043707955667832143\n",
      "LA.norm(trackline.diffs)>15*np.std(coefnorm): -86.4908646316\n",
      "dist_diff 290.910844363\n"
     ]
    },
    {
     "name": "stderr",
     "output_type": "stream",
     "text": [
      "\r",
      " 96%|███████████████████████████████████████████████████████████████████████████▏  | 1215/1261 [14:49<00:34,  1.34it/s]"
     ]
    },
    {
     "name": "stdout",
     "output_type": "stream",
     "text": [
      "ret 0.0003339932960418346\n",
      "LA.norm(trackline.diffs)>15*np.std(coefnorm): -93.2998750286\n",
      "dist_diff 284.57904418\n"
     ]
    },
    {
     "name": "stderr",
     "output_type": "stream",
     "text": [
      "\r",
      " 96%|███████████████████████████████████████████████████████████████████████████▏  | 1216/1261 [14:50<00:33,  1.34it/s]"
     ]
    },
    {
     "name": "stdout",
     "output_type": "stream",
     "text": [
      "ret 0.00044436378507595187\n",
      "LA.norm(trackline.diffs)>15*np.std(coefnorm): -88.198382359\n",
      "dist_diff 283.083085937\n"
     ]
    },
    {
     "name": "stderr",
     "output_type": "stream",
     "text": [
      "\r",
      " 97%|███████████████████████████████████████████████████████████████████████████▎  | 1217/1261 [14:50<00:32,  1.35it/s]"
     ]
    },
    {
     "name": "stdout",
     "output_type": "stream",
     "text": [
      "ret 0.00044996580405037845\n",
      "LA.norm(trackline.diffs)>15*np.std(coefnorm): -87.1818285333\n",
      "dist_diff 283.81161209\n"
     ]
    },
    {
     "name": "stderr",
     "output_type": "stream",
     "text": [
      "\r",
      " 97%|███████████████████████████████████████████████████████████████████████████▎  | 1218/1261 [14:51<00:32,  1.34it/s]"
     ]
    },
    {
     "name": "stdout",
     "output_type": "stream",
     "text": [
      "ret 0.00044256835621536705\n",
      "LA.norm(trackline.diffs)>15*np.std(coefnorm): -87.1488498692\n",
      "dist_diff 283.711143373\n"
     ]
    },
    {
     "name": "stderr",
     "output_type": "stream",
     "text": [
      "\r",
      " 97%|███████████████████████████████████████████████████████████████████████████▍  | 1219/1261 [14:52<00:31,  1.35it/s]"
     ]
    },
    {
     "name": "stdout",
     "output_type": "stream",
     "text": [
      "ret 0.0004498627312925496\n",
      "LA.norm(trackline.diffs)>15*np.std(coefnorm): -89.9868386621\n",
      "dist_diff 296.299633094\n"
     ]
    },
    {
     "name": "stderr",
     "output_type": "stream",
     "text": [
      "\r",
      " 97%|███████████████████████████████████████████████████████████████████████████▍  | 1220/1261 [14:53<00:30,  1.36it/s]"
     ]
    },
    {
     "name": "stdout",
     "output_type": "stream",
     "text": [
      "ret 0.0003731046870557586\n",
      "LA.norm(trackline.diffs)>15*np.std(coefnorm): -91.320581016\n",
      "dist_diff 289.842736559\n"
     ]
    },
    {
     "name": "stderr",
     "output_type": "stream",
     "text": [
      "\r",
      " 97%|███████████████████████████████████████████████████████████████████████████▌  | 1221/1261 [14:53<00:29,  1.36it/s]"
     ]
    },
    {
     "name": "stdout",
     "output_type": "stream",
     "text": [
      "ret 0.0004508718991098615\n",
      "LA.norm(trackline.diffs)>15*np.std(coefnorm): -83.8811523579\n",
      "dist_diff 282.533969799\n"
     ]
    },
    {
     "name": "stderr",
     "output_type": "stream",
     "text": [
      "\r",
      " 97%|███████████████████████████████████████████████████████████████████████████▌  | 1222/1261 [14:54<00:28,  1.35it/s]"
     ]
    },
    {
     "name": "stdout",
     "output_type": "stream",
     "text": [
      "ret 0.000518570488810044\n",
      "LA.norm(trackline.diffs)>15*np.std(coefnorm): -77.6665233282\n",
      "dist_diff 290.956403558\n"
     ]
    },
    {
     "name": "stderr",
     "output_type": "stream",
     "text": [
      "\r",
      " 97%|███████████████████████████████████████████████████████████████████████████▋  | 1223/1261 [14:55<00:28,  1.35it/s]"
     ]
    },
    {
     "name": "stdout",
     "output_type": "stream",
     "text": [
      "ret 0.000334937705936178\n",
      "LA.norm(trackline.diffs)>15*np.std(coefnorm): -84.5550795034\n",
      "dist_diff 292.499030339\n"
     ]
    },
    {
     "name": "stderr",
     "output_type": "stream",
     "text": [
      "\r",
      " 97%|███████████████████████████████████████████████████████████████████████████▋  | 1224/1261 [14:56<00:27,  1.35it/s]"
     ]
    },
    {
     "name": "stdout",
     "output_type": "stream",
     "text": [
      "ret 0.0003708698283395595\n",
      "LA.norm(trackline.diffs)>15*np.std(coefnorm): -79.9027216102\n",
      "dist_diff 291.760241723\n"
     ]
    },
    {
     "name": "stderr",
     "output_type": "stream",
     "text": [
      "\r",
      " 97%|███████████████████████████████████████████████████████████████████████████▊  | 1225/1261 [14:56<00:26,  1.35it/s]"
     ]
    },
    {
     "name": "stdout",
     "output_type": "stream",
     "text": [
      "ret 0.00019729061431172923\n",
      "LA.norm(trackline.diffs)>15*np.std(coefnorm): -95.0840298087\n",
      "dist_diff 289.009500646\n"
     ]
    },
    {
     "name": "stderr",
     "output_type": "stream",
     "text": [
      "\r",
      " 97%|███████████████████████████████████████████████████████████████████████████▊  | 1226/1261 [14:57<00:25,  1.35it/s]"
     ]
    },
    {
     "name": "stdout",
     "output_type": "stream",
     "text": [
      "ret 9.419553282652426e-06\n",
      "LA.norm(trackline.diffs)>15*np.std(coefnorm): -108.173551133\n",
      "dist_diff 284.687245699\n"
     ]
    },
    {
     "name": "stderr",
     "output_type": "stream",
     "text": [
      "\r",
      " 97%|███████████████████████████████████████████████████████████████████████████▉  | 1227/1261 [14:58<00:25,  1.36it/s]"
     ]
    },
    {
     "name": "stdout",
     "output_type": "stream",
     "text": [
      "ret 2.4468940909905257e-05\n",
      "LA.norm(trackline.diffs)>15*np.std(coefnorm): -113.092495501\n",
      "dist_diff 284.104172258\n"
     ]
    },
    {
     "name": "stderr",
     "output_type": "stream",
     "text": [
      "\r",
      " 97%|███████████████████████████████████████████████████████████████████████████▉  | 1228/1261 [14:59<00:24,  1.36it/s]"
     ]
    },
    {
     "name": "stdout",
     "output_type": "stream",
     "text": [
      "ret 0.00015141409179192378\n",
      "LA.norm(trackline.diffs)>15*np.std(coefnorm): -123.993634111\n",
      "dist_diff 284.429463449\n"
     ]
    },
    {
     "name": "stderr",
     "output_type": "stream",
     "text": [
      "\r",
      " 97%|████████████████████████████████████████████████████████████████████████████  | 1229/1261 [14:59<00:23,  1.36it/s]"
     ]
    },
    {
     "name": "stdout",
     "output_type": "stream",
     "text": [
      "ret 0.00010886782539232254\n",
      "LA.norm(trackline.diffs)>15*np.std(coefnorm): -124.457691915\n",
      "dist_diff 288.75509934\n"
     ]
    },
    {
     "name": "stderr",
     "output_type": "stream",
     "text": [
      "\r",
      " 98%|████████████████████████████████████████████████████████████████████████████  | 1230/1261 [15:00<00:23,  1.34it/s]"
     ]
    },
    {
     "name": "stdout",
     "output_type": "stream",
     "text": [
      "ret 4.793483981846425e-05\n",
      "LA.norm(trackline.diffs)>15*np.std(coefnorm): -128.669557206\n",
      "dist_diff 294.014361671\n"
     ]
    },
    {
     "name": "stderr",
     "output_type": "stream",
     "text": [
      "\r",
      " 98%|████████████████████████████████████████████████████████████████████████████▏ | 1231/1261 [15:01<00:22,  1.34it/s]"
     ]
    },
    {
     "name": "stdout",
     "output_type": "stream",
     "text": [
      "ret 0.0002460694829434229\n",
      "LA.norm(trackline.diffs)>15*np.std(coefnorm): -140.484297053\n",
      "dist_diff 300.327156611\n"
     ]
    },
    {
     "name": "stderr",
     "output_type": "stream",
     "text": [
      "\r",
      " 98%|████████████████████████████████████████████████████████████████████████████▏ | 1232/1261 [15:02<00:21,  1.33it/s]"
     ]
    },
    {
     "name": "stdout",
     "output_type": "stream",
     "text": [
      "ret 0.0002591357338956879\n",
      "LA.norm(trackline.diffs)>15*np.std(coefnorm): -138.022022222\n",
      "dist_diff 293.004899308\n"
     ]
    },
    {
     "name": "stderr",
     "output_type": "stream",
     "text": [
      "\r",
      " 98%|████████████████████████████████████████████████████████████████████████████▎ | 1233/1261 [15:02<00:20,  1.34it/s]"
     ]
    },
    {
     "name": "stdout",
     "output_type": "stream",
     "text": [
      "ret 0.0004168742188012664\n",
      "LA.norm(trackline.diffs)>15*np.std(coefnorm): -147.082055812\n",
      "dist_diff 295.94580379\n"
     ]
    },
    {
     "name": "stderr",
     "output_type": "stream",
     "text": [
      "\r",
      " 98%|████████████████████████████████████████████████████████████████████████████▎ | 1234/1261 [15:03<00:20,  1.34it/s]"
     ]
    },
    {
     "name": "stdout",
     "output_type": "stream",
     "text": [
      "ret 0.0006088434504693541\n",
      "LA.norm(trackline.diffs)>15*np.std(coefnorm): -157.174286373\n",
      "dist_diff 296.471700669\n"
     ]
    },
    {
     "name": "stderr",
     "output_type": "stream",
     "text": [
      "\r",
      " 98%|████████████████████████████████████████████████████████████████████████████▍ | 1235/1261 [15:04<00:19,  1.32it/s]"
     ]
    },
    {
     "name": "stdout",
     "output_type": "stream",
     "text": [
      "ret 0.0006584416959735107\n",
      "LA.norm(trackline.diffs)>15*np.std(coefnorm): -160.469052543\n",
      "dist_diff 290.088546647\n"
     ]
    },
    {
     "name": "stderr",
     "output_type": "stream",
     "text": [
      "\r",
      " 98%|████████████████████████████████████████████████████████████████████████████▍ | 1236/1261 [15:05<00:19,  1.30it/s]"
     ]
    },
    {
     "name": "stdout",
     "output_type": "stream",
     "text": [
      "ret 0.0007251425110385012\n",
      "LA.norm(trackline.diffs)>15*np.std(coefnorm): -171.695243589\n",
      "dist_diff 285.448743041\n"
     ]
    },
    {
     "name": "stderr",
     "output_type": "stream",
     "text": [
      "\r",
      " 98%|████████████████████████████████████████████████████████████████████████████▌ | 1237/1261 [15:05<00:18,  1.32it/s]"
     ]
    },
    {
     "name": "stdout",
     "output_type": "stream",
     "text": [
      "ret 0.0007831744823615372\n",
      "LA.norm(trackline.diffs)>15*np.std(coefnorm): -176.928744942\n",
      "dist_diff 280.57516792\n"
     ]
    },
    {
     "name": "stderr",
     "output_type": "stream",
     "text": [
      "\r",
      " 98%|████████████████████████████████████████████████████████████████████████████▌ | 1238/1261 [15:06<00:17,  1.32it/s]"
     ]
    },
    {
     "name": "stdout",
     "output_type": "stream",
     "text": [
      "ret 0.0007773510466086986\n",
      "LA.norm(trackline.diffs)>15*np.std(coefnorm): -172.875804582\n",
      "dist_diff 277.160961395\n"
     ]
    },
    {
     "name": "stderr",
     "output_type": "stream",
     "text": [
      "\r",
      " 98%|████████████████████████████████████████████████████████████████████████████▋ | 1239/1261 [15:07<00:16,  1.34it/s]"
     ]
    },
    {
     "name": "stdout",
     "output_type": "stream",
     "text": [
      "ret 0.0008079702970839597\n",
      "LA.norm(trackline.diffs)>15*np.std(coefnorm): -180.779803946\n",
      "dist_diff 276.43311963\n"
     ]
    },
    {
     "name": "stderr",
     "output_type": "stream",
     "text": [
      "\r",
      " 98%|████████████████████████████████████████████████████████████████████████████▋ | 1240/1261 [15:08<00:15,  1.32it/s]"
     ]
    },
    {
     "name": "stdout",
     "output_type": "stream",
     "text": [
      "ret 0.0009135030003918354\n",
      "LA.norm(trackline.diffs)>15*np.std(coefnorm): -168.1665577\n",
      "dist_diff 276.483042679\n"
     ]
    },
    {
     "name": "stderr",
     "output_type": "stream",
     "text": [
      "\r",
      " 98%|████████████████████████████████████████████████████████████████████████████▊ | 1241/1261 [15:08<00:15,  1.33it/s]"
     ]
    },
    {
     "name": "stdout",
     "output_type": "stream",
     "text": [
      "ret 0.001055292517722517\n",
      "LA.norm(trackline.diffs)>15*np.std(coefnorm): -153.77731288\n",
      "dist_diff 286.36182157\n"
     ]
    },
    {
     "name": "stderr",
     "output_type": "stream",
     "text": [
      "\r",
      " 98%|████████████████████████████████████████████████████████████████████████████▊ | 1242/1261 [15:09<00:14,  1.31it/s]"
     ]
    },
    {
     "name": "stdout",
     "output_type": "stream",
     "text": [
      "ret 0.0011110358326275604\n",
      "LA.norm(trackline.diffs)>15*np.std(coefnorm): -156.669264097\n",
      "dist_diff 282.364295439\n"
     ]
    },
    {
     "name": "stderr",
     "output_type": "stream",
     "text": [
      "\r",
      " 99%|████████████████████████████████████████████████████████████████████████████▉ | 1243/1261 [15:10<00:13,  1.33it/s]"
     ]
    },
    {
     "name": "stdout",
     "output_type": "stream",
     "text": [
      "ret 0.0012298129022944027\n",
      "LA.norm(trackline.diffs)>15*np.std(coefnorm): -140.746137125\n",
      "dist_diff 282.705104816\n"
     ]
    },
    {
     "name": "stderr",
     "output_type": "stream",
     "text": [
      "\r",
      " 99%|████████████████████████████████████████████████████████████████████████████▉ | 1244/1261 [15:11<00:12,  1.32it/s]"
     ]
    },
    {
     "name": "stdout",
     "output_type": "stream",
     "text": [
      "ret 0.001251548450340867\n",
      "LA.norm(trackline.diffs)>15*np.std(coefnorm): -140.883724196\n",
      "dist_diff 281.432737888\n"
     ]
    },
    {
     "name": "stderr",
     "output_type": "stream",
     "text": [
      "\r",
      " 99%|█████████████████████████████████████████████████████████████████████████████ | 1245/1261 [15:11<00:12,  1.32it/s]"
     ]
    },
    {
     "name": "stdout",
     "output_type": "stream",
     "text": [
      "ret 0.001454254527585075\n",
      "LA.norm(trackline.diffs)>15*np.std(coefnorm): -119.8657091\n",
      "dist_diff 285.698770512\n"
     ]
    },
    {
     "name": "stderr",
     "output_type": "stream",
     "text": [
      "\r",
      " 99%|█████████████████████████████████████████████████████████████████████████████ | 1246/1261 [15:12<00:11,  1.31it/s]"
     ]
    },
    {
     "name": "stdout",
     "output_type": "stream",
     "text": [
      "ret 0.001455593291987578\n",
      "LA.norm(trackline.diffs)>15*np.std(coefnorm): -100.012056302\n",
      "dist_diff 284.041989231\n"
     ]
    },
    {
     "name": "stderr",
     "output_type": "stream",
     "text": [
      "\r",
      " 99%|█████████████████████████████████████████████████████████████████████████████▏| 1247/1261 [15:13<00:10,  1.32it/s]"
     ]
    },
    {
     "name": "stdout",
     "output_type": "stream",
     "text": [
      "ret 0.0014466894701624655\n",
      "LA.norm(trackline.diffs)>15*np.std(coefnorm): -105.432132126\n",
      "dist_diff 277.447562116\n"
     ]
    },
    {
     "name": "stderr",
     "output_type": "stream",
     "text": [
      "\r",
      " 99%|█████████████████████████████████████████████████████████████████████████████▏| 1248/1261 [15:14<00:09,  1.34it/s]"
     ]
    },
    {
     "name": "stdout",
     "output_type": "stream",
     "text": [
      "ret 0.0014089188050327994\n",
      "LA.norm(trackline.diffs)>15*np.std(coefnorm): -101.158795492\n",
      "dist_diff 274.091612971\n"
     ]
    },
    {
     "name": "stderr",
     "output_type": "stream",
     "text": [
      "\r",
      " 99%|█████████████████████████████████████████████████████████████████████████████▎| 1249/1261 [15:14<00:08,  1.34it/s]"
     ]
    },
    {
     "name": "stdout",
     "output_type": "stream",
     "text": [
      "ret 0.0014296522252491006\n",
      "LA.norm(trackline.diffs)>15*np.std(coefnorm): -89.6962040925\n",
      "dist_diff 276.965050755\n"
     ]
    },
    {
     "name": "stderr",
     "output_type": "stream",
     "text": [
      "\r",
      " 99%|█████████████████████████████████████████████████████████████████████████████▎| 1250/1261 [15:15<00:08,  1.34it/s]"
     ]
    },
    {
     "name": "stdout",
     "output_type": "stream",
     "text": [
      "ret 0.001460646971204238\n",
      "LA.norm(trackline.diffs)>15*np.std(coefnorm): -99.4184472126\n",
      "dist_diff 271.53396964\n"
     ]
    },
    {
     "name": "stderr",
     "output_type": "stream",
     "text": [
      "\r",
      " 99%|█████████████████████████████████████████████████████████████████████████████▍| 1251/1261 [15:16<00:07,  1.33it/s]"
     ]
    },
    {
     "name": "stdout",
     "output_type": "stream",
     "text": [
      "ret 0.0015388891553110295\n",
      "LA.norm(trackline.diffs)>15*np.std(coefnorm): -86.5135524425\n",
      "dist_diff 272.576640483\n"
     ]
    },
    {
     "name": "stderr",
     "output_type": "stream",
     "text": [
      "\r",
      " 99%|█████████████████████████████████████████████████████████████████████████████▍| 1252/1261 [15:17<00:06,  1.33it/s]"
     ]
    },
    {
     "name": "stdout",
     "output_type": "stream",
     "text": [
      "ret 0.0015137990427335213\n",
      "LA.norm(trackline.diffs)>15*np.std(coefnorm): -79.6583199853\n",
      "dist_diff 267.362835834\n"
     ]
    },
    {
     "name": "stderr",
     "output_type": "stream",
     "text": [
      "\r",
      " 99%|█████████████████████████████████████████████████████████████████████████████▌| 1253/1261 [15:17<00:05,  1.34it/s]"
     ]
    },
    {
     "name": "stdout",
     "output_type": "stream",
     "text": [
      "ret 0.0015729581674271964\n",
      "LA.norm(trackline.diffs)>15*np.std(coefnorm): -76.4012416011\n",
      "dist_diff 270.765128532\n"
     ]
    },
    {
     "name": "stderr",
     "output_type": "stream",
     "text": [
      "\r",
      " 99%|█████████████████████████████████████████████████████████████████████████████▌| 1254/1261 [15:18<00:05,  1.35it/s]"
     ]
    },
    {
     "name": "stdout",
     "output_type": "stream",
     "text": [
      "ret 0.001599354874668224\n",
      "LA.norm(trackline.diffs)>15*np.std(coefnorm): -57.2263679865\n",
      "dist_diff 270.43594455\n"
     ]
    },
    {
     "name": "stderr",
     "output_type": "stream",
     "text": [
      "\r",
      "100%|█████████████████████████████████████████████████████████████████████████████▋| 1255/1261 [15:19<00:04,  1.34it/s]"
     ]
    },
    {
     "name": "stdout",
     "output_type": "stream",
     "text": [
      "ret 0.0016778631721634518\n",
      "LA.norm(trackline.diffs)>15*np.std(coefnorm): -42.7951360096\n",
      "dist_diff 273.00924597\n"
     ]
    },
    {
     "name": "stderr",
     "output_type": "stream",
     "text": [
      "\r",
      "100%|█████████████████████████████████████████████████████████████████████████████▋| 1256/1261 [15:20<00:03,  1.35it/s]"
     ]
    },
    {
     "name": "stdout",
     "output_type": "stream",
     "text": [
      "ret 0.0017111790388277814\n",
      "LA.norm(trackline.diffs)>15*np.std(coefnorm): -25.9139298568\n",
      "dist_diff 271.647128158\n"
     ]
    },
    {
     "name": "stderr",
     "output_type": "stream",
     "text": [
      "\r",
      "100%|█████████████████████████████████████████████████████████████████████████████▊| 1257/1261 [15:20<00:02,  1.36it/s]"
     ]
    },
    {
     "name": "stdout",
     "output_type": "stream",
     "text": [
      "ret 0.001642073961139301\n",
      "LA.norm(trackline.diffs)>15*np.std(coefnorm): -13.8967422759\n",
      "dist_diff 268.407698275\n"
     ]
    },
    {
     "name": "stderr",
     "output_type": "stream",
     "text": [
      "\r",
      "100%|█████████████████████████████████████████████████████████████████████████████▊| 1258/1261 [15:21<00:02,  1.35it/s]"
     ]
    },
    {
     "name": "stdout",
     "output_type": "stream",
     "text": [
      "ret 0.001642861528315387\n",
      "LA.norm(trackline.diffs)>15*np.std(coefnorm): -11.8388893725\n",
      "dist_diff 264.088082132\n"
     ]
    },
    {
     "name": "stderr",
     "output_type": "stream",
     "text": [
      "\r",
      "100%|█████████████████████████████████████████████████████████████████████████████▉| 1259/1261 [15:22<00:01,  1.36it/s]"
     ]
    },
    {
     "name": "stdout",
     "output_type": "stream",
     "text": [
      "ret 0.0016072008440217167\n",
      "LA.norm(trackline.diffs)>15*np.std(coefnorm): -4.54887913705\n",
      "dist_diff 260.167302753\n"
     ]
    },
    {
     "name": "stderr",
     "output_type": "stream",
     "text": [
      "100%|█████████████████████████████████████████████████████████████████████████████▉| 1260/1261 [15:23<00:00,  1.35it/s]\n"
     ]
    },
    {
     "name": "stdout",
     "output_type": "stream",
     "text": [
      "[MoviePy] Done.\n",
      "[MoviePy] >>>> Video ready: C:/Users/Yi Zhu/Desktop/self-driving_car/CarND-Advanced-Lane-Lines-master/CarND-Advanced-Lane-Lines-master/project_video_out.mp4 \n",
      "\n",
      "Wall time: 15min 23s\n"
     ]
    }
   ],
   "source": [
    "white_clip = clip1.fl_image(add_lane) #NOTE: this function expects color images!!\n",
    "%time white_clip.write_videofile(white_output, audio=False) "
   ]
  },
  {
   "cell_type": "code",
   "execution_count": null,
   "metadata": {
    "collapsed": true
   },
   "outputs": [],
   "source": []
  },
  {
   "cell_type": "code",
   "execution_count": null,
   "metadata": {
    "collapsed": true
   },
   "outputs": [],
   "source": []
  }
 ],
 "metadata": {
  "anaconda-cloud": {},
  "kernelspec": {
   "display_name": "Python 3",
   "language": "python",
   "name": "python3"
  },
  "language_info": {
   "codemirror_mode": {
    "name": "ipython",
    "version": 3
   },
   "file_extension": ".py",
   "mimetype": "text/x-python",
   "name": "python",
   "nbconvert_exporter": "python",
   "pygments_lexer": "ipython3",
   "version": "3.5.0"
  }
 },
 "nbformat": 4,
 "nbformat_minor": 1
}
