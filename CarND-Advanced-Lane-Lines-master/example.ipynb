{
 "cells": [
  {
   "cell_type": "markdown",
   "metadata": {},
   "source": [
    "## Advanced Lane Finding Project\n",
    "\n",
    "The goals / steps of this project are the following:\n",
    "\n",
    "* Compute the camera calibration matrix and distortion coefficients given a set of chessboard images.\n",
    "* Apply a distortion correction to raw images.\n",
    "* Use color transforms, gradients, etc., to create a thresholded binary image.\n",
    "* Apply a perspective transform to rectify binary image (\"birds-eye view\").\n",
    "* Detect lane pixels and fit to find the lane boundary.\n",
    "* Determine the curvature of the lane and vehicle position with respect to center.\n",
    "* Warp the detected lane boundaries back onto the original image.\n",
    "* Output visual display of the lane boundaries and numerical estimation of lane curvature and vehicle position.\n",
    "\n",
    "---\n",
    "## First, I'll compute the camera calibration using chessboard images"
   ]
  },
  {
   "cell_type": "code",
   "execution_count": 1,
   "metadata": {
    "collapsed": true
   },
   "outputs": [],
   "source": [
    "import numpy as np\n",
    "import cv2\n",
    "import glob\n",
    "import matplotlib.image as mpimg\n",
    "import matplotlib.pyplot as plt\n",
    "%matplotlib qt\n",
    "# prepare object points, like (0,0,0), (1,0,0), (2,0,0) ....,(6,5,0)\n",
    "objp = np.zeros((6*9,3), np.float32)\n",
    "objp[:,:2] = np.mgrid[0:9,0:6].T.reshape(-1,2)\n",
    "\n",
    "# Arrays to store object points and image points from all the images.\n",
    "objpoints = [] # 3d points in real world space\n",
    "imgpoints = [] # 2d points in image plane.\n",
    "\n",
    "# Make a list of calibration images\n",
    "images = glob.glob('../camera_cal/calibration*.jpg')\n",
    "# Step through the list and search for chessboard corners\n",
    "for fname in images:\n",
    "    img = mpimg.imread(fname)\n",
    "    gray = cv2.cvtColor(img,cv2.COLOR_RGB2GRAY)\n",
    "\n",
    "    # Find the chessboard corners\n",
    "    ret, corners = cv2.findChessboardCorners(gray, (9,6),None)\n",
    "\n",
    "    # If found, add object points, image points\n",
    "    if ret == True:\n",
    "        objpoints.append(objp)\n",
    "        imgpoints.append(corners)\n",
    "\n",
    "        # Draw and display the corners\n",
    "        img = cv2.drawChessboardCorners(img, (9,6), corners, ret)\n",
    "        cv2.imshow('img',img)\n",
    "        cv2.waitKey(500)\n",
    "\n",
    "cv2.destroyAllWindows()"
   ]
  },
  {
   "cell_type": "markdown",
   "metadata": {},
   "source": [
    "## Then write a function cal_undistort to undistort images and plot a sample, saved as distort_vs_undistort.png"
   ]
  },
  {
   "cell_type": "code",
   "execution_count": 2,
   "metadata": {
    "collapsed": true
   },
   "outputs": [],
   "source": [
    "def cal_undistort(img, objpoints, imgpoints):\n",
    "    # Use cv2.calibrateCamera() and cv2.undistort()\n",
    "    gray = cv2.cvtColor(img,cv2.COLOR_RGB2GRAY)\n",
    "    ret, mtx, dist, rvecs, tvecs = cv2.calibrateCamera(objpoints, imgpoints, gray.shape[::-1], None, None)\n",
    "    undist = cv2.undistort(img,mtx,dist)  # Delete this line\n",
    "    return undist\n",
    "sampleimg1= mpimg.imread('C:/Users/Yi Zhu/desktop/self-driving_car/CarND-Advanced-Lane-Lines-master/CarND-Advanced-Lane-Lines-master/camera_cal/calibration5.jpg')\n",
    "undistorted1 = cal_undistort(sampleimg1, objpoints, imgpoints)\n",
    "f, (ax1, ax2) = plt.subplots(1, 2, figsize=(13, 9))\n",
    "f.tight_layout()\n",
    "ax1.imshow(sampleimg1)\n",
    "ax1.set_title('Original Image', fontsize=30)\n",
    "ax2.imshow(undistorted1)\n",
    "ax2.set_title('Undistorted Image', fontsize=30)\n",
    "plt.subplots_adjust(left=0.1, right=0.9, top=0.9, bottom=0.)\n"
   ]
  },
  {
   "cell_type": "code",
   "execution_count": 3,
   "metadata": {
    "collapsed": true
   },
   "outputs": [],
   "source": [
    "sampleimg= mpimg.imread('C:/Users/Yi Zhu/desktop/self-driving_car/CarND-Advanced-Lane-Lines-master/CarND-Advanced-Lane-Lines-master/test_images/test3.jpg')\n",
    "undistorted = cal_undistort(sampleimg, objpoints, imgpoints)\n",
    "f, (ax1, ax2) = plt.subplots(1, 2, figsize=(13, 9))\n",
    "f.tight_layout()\n",
    "ax1.imshow(sampleimg)\n",
    "ax1.set_title('Original Image', fontsize=30)\n",
    "ax2.imshow(undistorted)\n",
    "ax2.set_title('Undistorted Image', fontsize=30)\n",
    "plt.subplots_adjust(left=0.1, right=0.9, top=0.9, bottom=0.)"
   ]
  },
  {
   "cell_type": "markdown",
   "metadata": {},
   "source": [
    "## Then write a function pipeline to show what color and gradient detect repectively, the sample image is saved as  undistorted_vs_pipeline.png "
   ]
  },
  {
   "cell_type": "code",
   "execution_count": 4,
   "metadata": {
    "collapsed": true
   },
   "outputs": [],
   "source": [
    "# Note: img is the undistorted image\n",
    "def pipeline(img, s_thresh=(170, 255), sx_thresh=(20, 100)):\n",
    "    img = np.copy(img)\n",
    "    # Convert to HSV color space and separate the V channel\n",
    "    hsv = cv2.cvtColor(img, cv2.COLOR_RGB2HLS).astype(np.float)\n",
    "    l_channel = hsv[:,:,1]\n",
    "    s_channel = hsv[:,:,2]\n",
    "    # Sobel x\n",
    "    sobelx = cv2.Sobel(l_channel, cv2.CV_64F, 1, 0) # Take the derivative in x\n",
    "    abs_sobelx = np.absolute(sobelx) # Absolute x derivative to accentuate lines away from horizontal\n",
    "    scaled_sobel = np.uint8(255*abs_sobelx/np.max(abs_sobelx))\n",
    "    \n",
    "    # Threshold x gradient\n",
    "    sxbinary = np.zeros_like(scaled_sobel)\n",
    "    sxbinary[(scaled_sobel >= sx_thresh[0]) & (scaled_sobel <= sx_thresh[1])] = 1\n",
    "    \n",
    "    # Threshold color channel\n",
    "    s_binary = np.zeros_like(s_channel)\n",
    "    s_binary[(s_channel >= s_thresh[0]) & (s_channel <= s_thresh[1])] = 1\n",
    "    # Stack each channel\n",
    "    # Note color_binary[:, :, 0] is all 0s, effectively an all black image. It might\n",
    "    # be beneficial to replace this channel with something else.\n",
    "    color_binary = np.dstack(( np.zeros_like(sxbinary), sxbinary, s_binary))\n",
    "    return color_binary\n",
    "    \n",
    "result = pipeline(undistorted)\n",
    "\n",
    "# Plot the result\n",
    "f, (ax1, ax2) = plt.subplots(1, 2, figsize=(13, 9))\n",
    "f.tight_layout()\n",
    "ax1.imshow(undistorted)\n",
    "ax1.set_title('undistorted', fontsize=30)\n",
    "ax2.imshow(result)\n",
    "ax2.set_title('Pipeline result', fontsize=30)\n",
    "plt.subplots_adjust(left=0.1, right=0.9, top=0.9, bottom=0.)"
   ]
  },
  {
   "cell_type": "markdown",
   "metadata": {},
   "source": [
    "## Then write a function pipeline_binary to show how color and gradient combine together to produce a binary picture line detection. The sample plot is saved as pipeline_vs_pipelinebinary.png "
   ]
  },
  {
   "cell_type": "code",
   "execution_count": 5,
   "metadata": {
    "collapsed": true
   },
   "outputs": [],
   "source": [
    "# Note: img is the undistorted image\n",
    "def pipeline_binary(img, s_thresh=(170, 255), sx_thresh=(20, 100)):\n",
    "    img = np.copy(img)\n",
    "    # Convert to HSV color space and separate the V channel\n",
    "    hsv = cv2.cvtColor(img, cv2.COLOR_RGB2HLS).astype(np.float)\n",
    "    l_channel = hsv[:,:,1]\n",
    "    s_channel = hsv[:,:,2]\n",
    "    # Sobel x\n",
    "    sobelx = cv2.Sobel(l_channel, cv2.CV_64F, 1, 0) # Take the derivative in x\n",
    "    abs_sobelx = np.absolute(sobelx) # Absolute x derivative to accentuate lines away from horizontal\n",
    "    scaled_sobel = np.uint8(255*abs_sobelx/np.max(abs_sobelx))\n",
    "    \n",
    "    # Threshold x gradient\n",
    "    sxbinary = np.zeros_like(scaled_sobel)\n",
    "    sxbinary[(scaled_sobel >= sx_thresh[0]) & (scaled_sobel <= sx_thresh[1])] = 1\n",
    "    \n",
    "    # Threshold color channel\n",
    "    s_binary = np.zeros_like(s_channel)\n",
    "    s_binary[(s_channel >= s_thresh[0]) & (s_channel <= s_thresh[1])] = 1\n",
    "    # Stack each channel\n",
    "    # Note color_binary[:, :, 0] is all 0s, effectively an all black image. It might\n",
    "    # be beneficial to replace this channel with something else.\n",
    "    combined_binary = np.zeros_like(sxbinary)\n",
    "    combined_binary[(s_binary == 1) | (sxbinary == 1)] = 1   \n",
    "    return combined_binary\n",
    "    \n",
    "result_binary = pipeline_binary(undistorted)\n",
    "\n",
    "# Plot the result\n",
    "f, (ax1, ax2) = plt.subplots(1, 2, figsize=(13, 9))\n",
    "f.tight_layout()\n",
    "ax1.imshow(result)\n",
    "ax1.set_title('pipeline result', fontsize=30)\n",
    "ax2.imshow(result_binary,cmap='gray')\n",
    "ax2.set_title('Pipeline_binary result', fontsize=30)\n",
    "plt.subplots_adjust(left=0.1, right=0.9, top=0.9, bottom=0.)"
   ]
  },
  {
   "cell_type": "markdown",
   "metadata": {},
   "source": [
    "## Next, I first  calculated the perspective tranform matrix by using straightline image and corresponding warped image. And write a function to conduct such transform by using the matrix derived above. I provide two sample images. First is the transformation for straightline, saved as straight_vs_birdview.png. And second is the perspective transformed image for test1, saved as test2_birdview.png"
   ]
  },
  {
   "cell_type": "code",
   "execution_count": 6,
   "metadata": {
    "collapsed": true
   },
   "outputs": [],
   "source": [
    "straight=mpimg.imread('C:/Users/Yi Zhu/desktop/self-driving_car/CarND-Advanced-Lane-Lines-master/CarND-Advanced-Lane-Lines-master/test_images/straight_lines1.jpg')\n",
    "src=np.float32([[247,677],[1039,672],[588,453],[692,453]])\n",
    "dst=np.float32([[270,700],[980,700],[270,0],[980,0]])\n",
    "img_size=(straight.shape[1],straight.shape[0])\n",
    "M = cv2.getPerspectiveTransform(src, dst)\n",
    "Minv = cv2.getPerspectiveTransform(dst, src)\n",
    "warped_straight= cv2.warpPerspective(straight, M, img_size, flags=cv2.INTER_LINEAR)\n",
    "warped_test= cv2.warpPerspective(result_binary, M, img_size, flags=cv2.INTER_LINEAR)\n",
    "f, (ax1, ax2) = plt.subplots(1, 2, figsize=(13, 9))\n",
    "f.tight_layout()\n",
    "ax1.imshow(straight)\n",
    "ax1.set_title('straight_orig', fontsize=30)\n",
    "ax2.imshow(warped_straight)\n",
    "ax2.set_title('Pipeline_binary result', fontsize=30)\n",
    "plt.subplots_adjust(left=0.1, right=0.9, top=0.9, bottom=0.)"
   ]
  },
  {
   "cell_type": "code",
   "execution_count": 7,
   "metadata": {},
   "outputs": [
    {
     "data": {
      "text/plain": [
       "<matplotlib.image.AxesImage at 0x1cb451331d0>"
      ]
     },
     "execution_count": 7,
     "metadata": {},
     "output_type": "execute_result"
    }
   ],
   "source": [
    "plt.imshow(warped_test,cmap='gray')"
   ]
  },
  {
   "cell_type": "markdown",
   "metadata": {},
   "source": [
    "## Next let's find the fit line of the image, saved as fittedline.png.\n"
   ]
  },
  {
   "cell_type": "code",
   "execution_count": 8,
   "metadata": {},
   "outputs": [
    {
     "data": {
      "text/plain": [
       "(720, 0)"
      ]
     },
     "execution_count": 8,
     "metadata": {},
     "output_type": "execute_result"
    }
   ],
   "source": [
    "# Take a histogram of the bottom half of the image\n",
    "\n",
    "#print (warped_test.shape[0]/2)\n",
    "histogram = np.sum(warped_test[int(warped_test.shape[0]/2):,:], axis=0)\n",
    "# Create an output image to draw on and  visualize the result\n",
    "out_img = np.dstack((warped_test, warped_test, warped_test))*255\n",
    "# Find the peak of the left and right halves of the histogram\n",
    "# These will be the starting point for the left and right lines\n",
    "midpoint = np.int(histogram.shape[0]/2)\n",
    "leftx_base = np.argmax(histogram[:midpoint])\n",
    "rightx_base = np.argmax(histogram[midpoint:]) + midpoint\n",
    "\n",
    "# Choose the number of sliding windows\n",
    "nwindows = 9\n",
    "# Set height of windows\n",
    "window_height = np.int(warped_test.shape[0]/nwindows)\n",
    "# Identify the x and y positions of all nonzero pixels in the image\n",
    "nonzero = warped_test.nonzero()\n",
    "nonzeroy = np.array(nonzero[0])\n",
    "nonzerox = np.array(nonzero[1])\n",
    "# Current positions to be updated for each window\n",
    "leftx_current = leftx_base\n",
    "rightx_current = rightx_base\n",
    "# Set the width of the windows +/- margin\n",
    "margin = 100\n",
    "# Set minimum number of pixels found to recenter window\n",
    "minpix = 50\n",
    "# Create empty lists to receive left and right lane pixel indices\n",
    "left_lane_inds = []\n",
    "right_lane_inds = []\n",
    "\n",
    "# Step through the windows one by one\n",
    "for window in range(nwindows):\n",
    "    # Identify window boundaries in x and y (and right and left)\n",
    "    win_y_low = warped_test.shape[0] - (window+1)*window_height\n",
    "    win_y_high = warped_test.shape[0] - window*window_height\n",
    "    win_xleft_low = leftx_current - margin\n",
    "    win_xleft_high = leftx_current + margin\n",
    "    win_xright_low = rightx_current - margin\n",
    "    win_xright_high = rightx_current + margin\n",
    "    # Draw the windows on the visualization image\n",
    "    #cv2.rectangle(out_img,(win_xleft_low,win_y_low),(win_xleft_high,win_y_high),(0,255,0), 2) \n",
    "    #cv2.rectangle(out_img,(win_xright_low,win_y_low),(win_xright_high,win_y_high),(0,255,0), 2) \n",
    "    # Identify the nonzero pixels in x and y within the window\n",
    "    good_left_inds = ((nonzeroy >= win_y_low) & (nonzeroy < win_y_high) & (nonzerox >= win_xleft_low) & (nonzerox < win_xleft_high)).nonzero()[0]\n",
    "    good_right_inds = ((nonzeroy >= win_y_low) & (nonzeroy < win_y_high) & (nonzerox >= win_xright_low) & (nonzerox < win_xright_high)).nonzero()[0]\n",
    "    # Append these indices to the lists\n",
    "    left_lane_inds.append(good_left_inds)\n",
    "    right_lane_inds.append(good_right_inds)\n",
    "    # If you found > minpix pixels, recenter next window on their mean position\n",
    "    if len(good_left_inds) > minpix:\n",
    "        leftx_current = np.int(np.mean(nonzerox[good_left_inds]))\n",
    "    if len(good_right_inds) > minpix:        \n",
    "        rightx_current = np.int(np.mean(nonzerox[good_right_inds]))\n",
    "\n",
    "# Concatenate the arrays of indices\n",
    "left_lane_inds = np.concatenate(left_lane_inds)\n",
    "right_lane_inds = np.concatenate(right_lane_inds)\n",
    "\n",
    "# Extract left and right line pixel positions\n",
    "leftx = nonzerox[left_lane_inds]\n",
    "lefty = nonzeroy[left_lane_inds] \n",
    "rightx = nonzerox[right_lane_inds]\n",
    "righty = nonzeroy[right_lane_inds] \n",
    "\n",
    "# Fit a second order polynomial to each\n",
    "left_fit = np.polyfit(lefty, leftx, 2)\n",
    "right_fit = np.polyfit(righty, rightx, 2)\n",
    "\n",
    "ploty = np.linspace(0, warped_test.shape[0]-1, warped_test.shape[0] )\n",
    "left_fitx = left_fit[0]*ploty**2 + left_fit[1]*ploty + left_fit[2]\n",
    "right_fitx = right_fit[0]*ploty**2 + right_fit[1]*ploty + right_fit[2]\n",
    "\n",
    "out_img[nonzeroy[left_lane_inds], nonzerox[left_lane_inds]] = [255, 0, 0]\n",
    "out_img[nonzeroy[right_lane_inds], nonzerox[right_lane_inds]] = [0, 0, 255]\n",
    "plt.imshow(out_img)\n",
    "plt.plot(left_fitx, ploty, color='yellow')\n",
    "plt.plot(right_fitx, ploty, color='yellow')\n",
    "plt.xlim(0, 1280)\n",
    "plt.ylim(720, 0)"
   ]
  },
  {
   "cell_type": "markdown",
   "metadata": {},
   "source": [
    "## write a fit_line function for further use in video detection"
   ]
  },
  {
   "cell_type": "code",
   "execution_count": 9,
   "metadata": {
    "collapsed": true
   },
   "outputs": [],
   "source": [
    "def fit_line(warped_test):\n",
    "    # Take a histogram of the bottom half of the images\n",
    "    #print (warped_test.shape[0]/2)\n",
    "    histogram = np.sum(warped_test[int(warped_test.shape[0]/2):,:], axis=0)\n",
    "    # Create an output image to draw on and  visualize the result\n",
    "    out_img = np.dstack((warped_test, warped_test, warped_test))*255\n",
    "    # Find the peak of the left and right halves of the histogram\n",
    "    # These will be the starting point for the left and right lines\n",
    "    midpoint = np.int(histogram.shape[0]/2)\n",
    "    leftx_base = np.argmax(histogram[:midpoint])\n",
    "    rightx_base = np.argmax(histogram[midpoint:]) + midpoint\n",
    "    # Choose the number of sliding windows\n",
    "    nwindows = 9\n",
    "    # Set height of windows\n",
    "    window_height = np.int(warped_test.shape[0]/nwindows)\n",
    "    # Identify the x and y positions of all nonzero pixels in the image\n",
    "    nonzero = warped_test.nonzero()\n",
    "    nonzeroy = np.array(nonzero[0])\n",
    "    nonzerox = np.array(nonzero[1])\n",
    "    # Current positions to be updated for each window\n",
    "    leftx_current = leftx_base\n",
    "    rightx_current = rightx_base\n",
    "    # Set the width of the windows +/- margin\n",
    "    margin = 100\n",
    "    # Set minimum number of pixels found to recenter window\n",
    "    minpix = 50\n",
    "    # Create empty lists to receive left and right lane pixel indices\n",
    "    left_lane_inds = []\n",
    "    right_lane_inds = []\n",
    "    # Step through the windows one by one\n",
    "    for window in range(nwindows):\n",
    "        # Identify window boundaries in x and y (and right and left)\n",
    "        win_y_low = warped_test.shape[0] - (window+1)*window_height\n",
    "        win_y_high = warped_test.shape[0] - window*window_height\n",
    "        win_xleft_low = leftx_current - margin\n",
    "        win_xleft_high = leftx_current + margin\n",
    "        win_xright_low = rightx_current - margin\n",
    "        win_xright_high = rightx_current + margin\n",
    "        # Draw the windows on the visualization image\n",
    "        #cv2.rectangle(out_img,(win_xleft_low,win_y_low),(win_xleft_high,win_y_high),(0,255,0), 2) \n",
    "        #cv2.rectangle(out_img,(win_xright_low,win_y_low),(win_xright_high,win_y_high),(0,255,0), 2) \n",
    "        # Identify the nonzero pixels in x and y within the window\n",
    "        good_left_inds = ((nonzeroy >= win_y_low) & (nonzeroy < win_y_high) & (nonzerox >= win_xleft_low) & (nonzerox < win_xleft_high)).nonzero()[0]\n",
    "        good_right_inds = ((nonzeroy >= win_y_low) & (nonzeroy < win_y_high) & (nonzerox >= win_xright_low) & (nonzerox < win_xright_high)).nonzero()[0]\n",
    "        # Append these indices to the lists\n",
    "        left_lane_inds.append(good_left_inds)\n",
    "        right_lane_inds.append(good_right_inds)\n",
    "        # If you found > minpix pixels, recenter next window on their mean position\n",
    "        if len(good_left_inds) > minpix:\n",
    "            leftx_current = np.int(np.mean(nonzerox[good_left_inds]))\n",
    "        if len(good_right_inds) > minpix:        \n",
    "            rightx_current = np.int(np.mean(nonzerox[good_right_inds]))\n",
    "    # Concatenate the arrays of indices\n",
    "    left_lane_inds = np.concatenate(left_lane_inds)\n",
    "    right_lane_inds = np.concatenate(right_lane_inds)\n",
    "    # Extract left and right line pixel positions\n",
    "    leftx = nonzerox[left_lane_inds]\n",
    "    lefty = nonzeroy[left_lane_inds] \n",
    "    rightx = nonzerox[right_lane_inds]\n",
    "    righty = nonzeroy[right_lane_inds] \n",
    "    # Fit a second order polynomial to each\n",
    "    left_fit = np.polyfit(lefty, leftx, 2)\n",
    "    right_fit = np.polyfit(righty, rightx, 2)\n",
    "    ploty = np.linspace(0, warped_test.shape[0]-1, warped_test.shape[0] )\n",
    "    left_fitx = left_fit[0]*ploty**2 + left_fit[1]*ploty + left_fit[2]\n",
    "    right_fitx = right_fit[0]*ploty**2 + right_fit[1]*ploty + right_fit[2]\n",
    "    return left_fitx, right_fitx"
   ]
  },
  {
   "cell_type": "markdown",
   "metadata": {},
   "source": [
    "## Determine the curvature of the lane and vehicle position with respect to center"
   ]
  },
  {
   "cell_type": "code",
   "execution_count": 10,
   "metadata": {
    "collapsed": true
   },
   "outputs": [],
   "source": [
    "def calculate_curvature(left_fitx, right_fitx):\n",
    "    y_eval = np.max(ploty)\n",
    "    ym_per_pix = 30/720 # meters per pixel in y dimension\n",
    "    xm_per_pix = 3.7/700 # meters per pixel in x dimension\n",
    "    # Fit new polynomials to x,y in world space\n",
    "    left_fit_cr = np.polyfit(ploty*ym_per_pix, left_fitx*xm_per_pix, 2)\n",
    "    right_fit_cr = np.polyfit(ploty*ym_per_pix, right_fitx*xm_per_pix, 2)\n",
    "    # Calculate the new radii of curvature\n",
    "    left_curverad = ((1 + (2*left_fit_cr[0]*y_eval*ym_per_pix + left_fit_cr[1])**2)**1.5) / np.absolute(2*left_fit_cr[0])\n",
    "    right_curverad = ((1 + (2*right_fit_cr[0]*y_eval*ym_per_pix + right_fit_cr[1])**2)**1.5) / np.absolute(2*right_fit_cr[0])\n",
    "    # Now our radius of curvature is in meters\n",
    "    return left_curverad, right_curverad "
   ]
  },
  {
   "cell_type": "markdown",
   "metadata": {},
   "source": [
    "## print curvature of test_2"
   ]
  },
  {
   "cell_type": "code",
   "execution_count": 11,
   "metadata": {},
   "outputs": [
    {
     "name": "stdout",
     "output_type": "stream",
     "text": [
      "left_cur 584.188387201 m right_cur 621.183276641 m\n"
     ]
    }
   ],
   "source": [
    "    print('left_cur',calculate_curvature(left_fitx, right_fitx)[0], 'm', 'right_cur', calculate_curvature(left_fitx, right_fitx)[1], 'm')\n"
   ]
  },
  {
   "cell_type": "markdown",
   "metadata": {},
   "source": [
    "## print vehicle position respect to center"
   ]
  },
  {
   "cell_type": "code",
   "execution_count": 12,
   "metadata": {},
   "outputs": [
    {
     "name": "stdout",
     "output_type": "stream",
     "text": [
      "1.438184186\n"
     ]
    }
   ],
   "source": [
    "midpoint=warped_test.shape[1]/2\n",
    "leftstart=min(left_fitx)\n",
    "rightstart=max(right_fitx)\n",
    "lanemiddle=leftstart+rightstart/2\n",
    "offset=abs(midpoint-lanemiddle)*3.7/700\n",
    "print(offset)\n",
    "if midpoint-lanemiddle<0:\n",
    "    pos='left'\n",
    "else:\n",
    "    pos='right'"
   ]
  },
  {
   "cell_type": "markdown",
   "metadata": {},
   "source": [
    "## draw detected lane back to original image. The lane added picture is saved as   lane_added.png"
   ]
  },
  {
   "cell_type": "code",
   "execution_count": 13,
   "metadata": {},
   "outputs": [
    {
     "data": {
      "text/plain": [
       "<matplotlib.image.AxesImage at 0x1cb4519a898>"
      ]
     },
     "execution_count": 13,
     "metadata": {},
     "output_type": "execute_result"
    }
   ],
   "source": [
    "warp_zero = np.zeros_like(warped_test).astype(np.uint8)\n",
    "color_warp = np.dstack((warp_zero, warp_zero, warp_zero))\n",
    "\n",
    "# Recast the x and y points into usable format for cv2.fillPoly()\n",
    "pts_left = np.array([np.transpose(np.vstack([left_fitx, ploty]))])\n",
    "pts_right = np.array([np.flipud(np.transpose(np.vstack([right_fitx, ploty])))])\n",
    "pts = np.hstack((pts_left, pts_right))\n",
    "\n",
    "# Draw the lane onto the warped blank image\n",
    "cv2.fillPoly(color_warp, np.int_([pts]), (0,255, 0))\n",
    "\n",
    "# Warp the blank back to original image space using inverse perspective matrix (Minv)\n",
    "newwarp = cv2.warpPerspective(color_warp, Minv, (warped_test.shape[1], warped_test.shape[0])) \n",
    "# Combine the result with the original image\n",
    "result = cv2.addWeighted(undistorted, 1, newwarp, 0.3, 0)\n",
    "curvature= np.mean(calculate_curvature(left_fitx, right_fitx))\n",
    "font = cv2.FONT_HERSHEY_SIMPLEX\n",
    "\n",
    "cv2.putText(result,'Radius of Curvature is '+str(curvature)+'m',(10,50), font, 1,(255,255,255),2)\n",
    "cv2.putText(result,'Vehicle is '+ str(offset)+'m '+pos +' of the road',(10,80), font, 1,(255,255,255),2)\n",
    "plt.imshow(result)\n"
   ]
  },
  {
   "cell_type": "markdown",
   "metadata": {},
   "source": [
    "## function add_lane(img) works here as the wrapping up of the previous demo of one image and will be applied to vidoe stream."
   ]
  },
  {
   "cell_type": "code",
   "execution_count": 14,
   "metadata": {
    "collapsed": true
   },
   "outputs": [],
   "source": [
    "class Line():\n",
    "    def __init__(self):\n",
    "        # was the line detected in the last iteration?\n",
    "        self.detected = False  \n",
    "        # x values of the last n fits of the line\n",
    "        self.recent_xfitted = [] \n",
    "        #average x values of the fitted line over the last n iterations\n",
    "        self.bestx = None     \n",
    "        #polynomial coefficients averaged over the last n iterations\n",
    "        self.best_fit = None  \n",
    "        #polynomial coefficients for the most recent fit\n",
    "        self.current_fit = [np.array([False])]  \n",
    "        #radius of curvature of the line in some units\n",
    "        self.radius_of_curvature = None \n",
    "        #distance in meters of vehicle center from the line\n",
    "        self.line_base_pos = None \n",
    "        #difference in fit coefficients between last and new fits\n",
    "        self.diffs = np.array([0,0,0], dtype='float') \n",
    "        #x values for detected line pixels\n",
    "        self.leftx = None\n",
    "        self.righx = None"
   ]
  },
  {
   "cell_type": "code",
   "execution_count": 15,
   "metadata": {
    "collapsed": true
   },
   "outputs": [],
   "source": [
    "trackline=Line()\n",
    "n=10"
   ]
  },
  {
   "cell_type": "code",
   "execution_count": 16,
   "metadata": {},
   "outputs": [
    {
     "data": {
      "text/plain": [
       "1.1180339887498949"
      ]
     },
     "execution_count": 16,
     "metadata": {},
     "output_type": "execute_result"
    }
   ],
   "source": [
    "from numpy import linalg as LA\n",
    "a=np.array([[2,3],[4,5]])\n",
    "LA.norm(a)\n",
    "np.std(a)"
   ]
  },
  {
   "cell_type": "code",
   "execution_count": 17,
   "metadata": {
    "collapsed": true
   },
   "outputs": [],
   "source": [
    "from numpy import linalg as LA\n",
    "def add_lane(img):\n",
    "    undistorted = cal_undistort(img, objpoints, imgpoints)\n",
    "    #result = pipeline(undistorted)\n",
    "    result_binary = pipeline_binary(undistorted)\n",
    "    warped_test= cv2.warpPerspective(result_binary, M, img_size, flags=cv2.INTER_LINEAR)\n",
    "    left_fitx, right_fitx = fit_line(warped_test)\n",
    "    #print(len(trackline.recent_xfitted))\n",
    "    #print(left_fitx)\n",
    "    ploty=np.linspace(0, img.shape[0]-1, img.shape[0] )\n",
    "    #print(max(ploty))\n",
    "    if len(trackline.recent_xfitted)<n:\n",
    "        trackline.recent_xfitted.append([left_fitx,right_fitx])\n",
    "    #else:\n",
    "        #trackline.recent_xfitted.append([left_fitx,rightfitx])\n",
    "        #trackline.recent_xfitted.pop(0)\n",
    "        curvature = calculate_curvature(left_fitx, right_fitx)\n",
    "        midpoint  =warped_test.shape[1]/2\n",
    "        leftstart = min(left_fitx)\n",
    "        rightstart = max(right_fitx)\n",
    "        lanemiddle = (leftstart+rightstart)/2\n",
    "        offset=abs(midpoint-lanemiddle)*3.7/700\n",
    "        #print (leftstart, rightstart,midpoint, lanemiddle,offset)\n",
    "        if midpoint-lanemiddle<0:\n",
    "            pos='left'\n",
    "        else:\n",
    "            pos='right'\n",
    "        warp_zero = np.zeros_like(warped_test).astype(np.uint8)\n",
    "        color_warp = np.dstack((warp_zero, warp_zero, warp_zero))\n",
    "        # Recast the x and y points into usable format for cv2.fillPoly()\n",
    "        pts_left = np.array([np.transpose(np.vstack([left_fitx, ploty]))])\n",
    "        pts_right = np.array([np.flipud(np.transpose(np.vstack([right_fitx, ploty])))])\n",
    "        pts = np.hstack((pts_left, pts_right))\n",
    "        # Draw the lane onto the warped blank image\n",
    "        cv2.fillPoly(color_warp, np.int_([pts]), (0,255, 0))\n",
    "        # Warp the blank back to original image space using inverse perspective matrix (Minv)\n",
    "        newwarp = cv2.warpPerspective(color_warp, Minv, (warped_test.shape[1], warped_test.shape[0])) \n",
    "        # Combine the result with the original image\n",
    "        result = cv2.addWeighted(undistorted, 1, newwarp, 0.3, 0)\n",
    "        font = cv2.FONT_HERSHEY_SIMPLEX\n",
    "        cv2.putText(result,'left Radius of Curvature is '+str(curvature[0])+'m',(10,50), font, 1,(255,255,255),2)\n",
    "        cv2.putText(result,'right Radius of Curvature is '+str(curvature[1])+'m',(10,80), font, 1,(255,255,255),2)\n",
    "        cv2.putText(result,'Vehicle is '+ str(abs(offset))+'m '+pos +' of the road',(10,110), font, 1,(255,255,255),2)\n",
    "        #cv2.putText(result,'shape_match'+ str(shapematch),(10,120), font, 1,(255,255,255),2)\n",
    "        #cv2.putText(result,'line_dist'+ str(rightstart-leftstart),(10,150), font, 1,(255,255,255),2)\n",
    "        return result\n",
    "    trackline.leftx=left_fitx\n",
    "    trackline.rightx=right_fitx\n",
    "    coef=[]\n",
    "    coefnorm=[]\n",
    "    for record in trackline.recent_xfitted:\n",
    "        # Fit new polynomials to x,y in world space\n",
    "        left_cr = np.polyfit(ploty, record[0], 2)\n",
    "        right_cr = np.polyfit(ploty, record[1], 2)\n",
    "        coef.append([left_cr,right_cr])\n",
    "        coefnorm.append(LA.norm([left_cr,right_cr]))\n",
    "    #    leftxstart.append(record[0][warped_test.shape[0]-1])\n",
    "    #    rightxstart.append(record[1][warped_test.shape[0]-1])\n",
    "    average_coef = np.mean(coef, axis=0)\n",
    "    #print(average_coef)\n",
    "    trackline.bestfit = average_coef\n",
    "    trackline.current_fit = coef[-1]\n",
    "    curvature = calculate_curvature(left_fitx, right_fitx)\n",
    "    midpoint  =warped_test.shape[1]/2\n",
    "    leftstart = left_fitx[-1]\n",
    "    rightstart = right_fitx[-1]\n",
    "    lanemiddle = (leftstart+rightstart)/2\n",
    "    offset=abs(midpoint-lanemiddle)*3.7/700\n",
    "    #print (leftstart, rightstart,offset)\n",
    "    if midpoint-lanemiddle<0:\n",
    "        pos='left'\n",
    "    else:\n",
    "        pos='right'\n",
    "    left_fit_cr = np.polyfit(ploty, left_fitx, 2)\n",
    "    right_fit_cr = np.polyfit(ploty, right_fitx, 2)\n",
    "    #print(np.array([left_fit_cr,right_fit_cr]))\n",
    "    trackline.diffs = abs(np.array([left_fit_cr,right_fit_cr])-average_coef)\n",
    "    #print(LA.norm(trackline.diffs),15*np.std(coefnorm))\n",
    "    if LA.norm(trackline.diffs)>15*np.std(coefnorm):\n",
    "        #print(11)\n",
    "        left_fitx = average_coef[0][0]*ploty**2 + average_coef[0][1]*ploty + average_coef[0][2]\n",
    "        right_fitx = average_coef[1][0]*ploty**2 + average_coef[1][1]*ploty + average_coef[1][2]\n",
    "       # print(left_fitx)\n",
    "    else:\n",
    "        trackline.recent_xfitted.append([left_fitx,right_fitx])\n",
    "        trackline.recent_xfitted.pop(0)\n",
    "        trackline.line_base_pos = (midpoint-lanemiddle)*3.7/700\n",
    "        trackline.radius_of_curvature=curvature\n",
    "    warp_zero = np.zeros_like(warped_test).astype(np.uint8)\n",
    "    color_warp = np.dstack((warp_zero, warp_zero, warp_zero))\n",
    "    # Recast the x and y points into usable format for cv2.fillPoly()\n",
    "    #print(ploty)\n",
    "    pts_left = np.array([np.transpose(np.vstack([left_fitx, ploty]))])\n",
    "    pts_right = np.array([np.flipud(np.transpose(np.vstack([right_fitx, ploty])))])\n",
    "    pts = np.hstack((pts_left, pts_right))\n",
    "    # Draw the lane onto the warped blank image\n",
    "    cv2.fillPoly(color_warp, np.int_([pts]), (0,255, 0))\n",
    "    # Warp the blank back to original image space using inverse perspective matrix (Minv)\n",
    "    newwarp = cv2.warpPerspective(color_warp, Minv, (warped_test.shape[1], warped_test.shape[0])) \n",
    "    # Combine the result with the original image\n",
    "    result = cv2.addWeighted(undistorted, 1, newwarp, 0.3, 0)\n",
    "    font = cv2.FONT_HERSHEY_SIMPLEX\n",
    "    if midpoint-lanemiddle<0:\n",
    "        pos='left'\n",
    "    else:\n",
    "        pos='right'\n",
    "    cv2.putText(result,'left Radius of Curvature is '+str(trackline.radius_of_curvature[0])+'m',(10,50), font, 1,(255,255,255),2)\n",
    "    cv2.putText(result,'right Radius of Curvature is '+str(trackline.radius_of_curvature[1])+'m',(10,80), font, 1,(255,255,255),2)\n",
    "    cv2.putText(result,'Vehicle is '+ str(abs(trackline.line_base_pos))+'m '+pos +' of the road',(10,110), font, 1,(255,255,255),2)\n",
    "    #cv2.putText(result,'shape_match'+ str(shapematch),(10,120), font, 1,(255,255,255),2)\n",
    "    #cv2.putText(result,'line_dist'+ str(rightstart-leftstart),(10,150), font, 1,(255,255,255),2)\n",
    "    return result"
   ]
  },
  {
   "cell_type": "code",
   "execution_count": 20,
   "metadata": {},
   "outputs": [
    {
     "data": {
      "text/plain": [
       "<matplotlib.image.AxesImage at 0x1cb44ff2f60>"
      ]
     },
     "execution_count": 20,
     "metadata": {},
     "output_type": "execute_result"
    }
   ],
   "source": [
    "result= add_lane(sampleimg)\n",
    "plt.imshow(result)"
   ]
  },
  {
   "cell_type": "markdown",
   "metadata": {},
   "source": [
    "## Try the add_lane method on video stream"
   ]
  },
  {
   "cell_type": "code",
   "execution_count": 21,
   "metadata": {
    "collapsed": true
   },
   "outputs": [],
   "source": [
    "\n",
    "import imageio\n",
    "imageio.plugins.ffmpeg.download()\n",
    "from moviepy.editor import VideoFileClip\n",
    "from IPython.display import HTML\n",
    "white_output = 'C:/Users/Yi Zhu/Desktop/self-driving_car/CarND-Advanced-Lane-Lines-master/CarND-Advanced-Lane-Lines-master/project_video_out.mp4'\n",
    "clip1 = VideoFileClip('C:/Users/Yi Zhu/Desktop/self-driving_car/CarND-Advanced-Lane-Lines-master/CarND-Advanced-Lane-Lines-master/project_video.mp4')"
   ]
  },
  {
   "cell_type": "code",
   "execution_count": 22,
   "metadata": {
    "scrolled": true
   },
   "outputs": [
    {
     "name": "stdout",
     "output_type": "stream",
     "text": [
      "[MoviePy] >>>> Building video C:/Users/Yi Zhu/Desktop/self-driving_car/CarND-Advanced-Lane-Lines-master/CarND-Advanced-Lane-Lines-master/project_video_out.mp4\n",
      "[MoviePy] Writing video C:/Users/Yi Zhu/Desktop/self-driving_car/CarND-Advanced-Lane-Lines-master/CarND-Advanced-Lane-Lines-master/project_video_out.mp4\n"
     ]
    },
    {
     "name": "stderr",
     "output_type": "stream",
     "text": [
      "100%|█████████████████████████████████████████████████████████████████████████████▉| 1260/1261 [14:21<00:00,  1.44it/s]\n"
     ]
    },
    {
     "name": "stdout",
     "output_type": "stream",
     "text": [
      "[MoviePy] Done.\n",
      "[MoviePy] >>>> Video ready: C:/Users/Yi Zhu/Desktop/self-driving_car/CarND-Advanced-Lane-Lines-master/CarND-Advanced-Lane-Lines-master/project_video_out.mp4 \n",
      "\n",
      "Wall time: 14min 21s\n"
     ]
    }
   ],
   "source": [
    "white_clip = clip1.fl_image(add_lane) #NOTE: this function expects color images!!\n",
    "%time white_clip.write_videofile(white_output, audio=False) "
   ]
  },
  {
   "cell_type": "code",
   "execution_count": null,
   "metadata": {
    "collapsed": true
   },
   "outputs": [],
   "source": []
  },
  {
   "cell_type": "code",
   "execution_count": null,
   "metadata": {
    "collapsed": true
   },
   "outputs": [],
   "source": []
  }
 ],
 "metadata": {
  "anaconda-cloud": {},
  "kernelspec": {
   "display_name": "Python 3",
   "language": "python",
   "name": "python3"
  },
  "language_info": {
   "codemirror_mode": {
    "name": "ipython",
    "version": 3
   },
   "file_extension": ".py",
   "mimetype": "text/x-python",
   "name": "python",
   "nbconvert_exporter": "python",
   "pygments_lexer": "ipython3",
   "version": "3.5.0"
  }
 },
 "nbformat": 4,
 "nbformat_minor": 1
}
